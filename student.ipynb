{
 "cells": [
  {
   "cell_type": "markdown",
   "metadata": {},
   "source": [
    "# Phase 3 Project\n",
    "- author: Jonathan Holt\n",
    "- Flatiron Data Science\n",
    "- 7/19/21 Cohort"
   ]
  },
  {
   "cell_type": "markdown",
   "metadata": {},
   "source": [
    "## Business Problem"
   ]
  },
  {
   "cell_type": "markdown",
   "metadata": {},
   "source": [
    "SyriaTel is a telecommunications company that wants to identify what factors play a part in customer churn, ie, leaving their service. I have been tasked with with analyizing the data provided and providing recommendations as to what they can do to better retain ccustomers."
   ]
  },
  {
   "cell_type": "markdown",
   "metadata": {},
   "source": [
    "## The Data"
   ]
  },
  {
   "cell_type": "markdown",
   "metadata": {},
   "source": [
    "The dataset that I was given to work with contains information for 3333 accounts, including:\n",
    "- State\n",
    "- Account Length\n",
    "- Area Code\n",
    "- Phone Number\n",
    "- Extra Plans (VoiceMail and/or International)\n",
    "- Minutes Used (Day, Evening, Night, International)\n",
    "- Number of Calls (Day, Evening, Night, International)\n",
    "- Number of VoiceMail Messages\n",
    "- Total Amount Charged for minutes used (Day, Evening, Night, International)\n",
    "- Number of calls to Customer Service\n",
    "\n",
    "and most importantly:\n",
    "- Churn: Customers who cancelled their service."
   ]
  },
  {
   "cell_type": "markdown",
   "metadata": {},
   "source": [
    "## Questions to Answer\n",
    "1. What is the Baseline Churn Rate?\n",
    "2. What factors contribute to churn?\n",
    "3. What factors have the biggest impact on churn?\n",
    "4. What can be done to identify when a customer is at risk for churn?\n",
    "5. What can be done to prevent churn?"
   ]
  },
  {
   "cell_type": "markdown",
   "metadata": {},
   "source": [
    "# Data Preparation"
   ]
  },
  {
   "cell_type": "markdown",
   "metadata": {},
   "source": [
    "## Importing"
   ]
  },
  {
   "cell_type": "code",
   "execution_count": 144,
   "metadata": {
    "ExecuteTime": {
     "end_time": "2022-02-25T16:16:54.201280Z",
     "start_time": "2022-02-25T16:16:54.178566Z"
    }
   },
   "outputs": [],
   "source": [
    "import pandas as pd\n",
    "import seaborn as sns\n",
    "import numpy as np\n",
    "import matplotlib.pyplot as plt\n",
    "%matplotlib inline\n",
    "import matplotlib.ticker as mtick\n",
    "from sklearn.model_selection import train_test_split, cross_val_score, GridSearchCV\n",
    "from sklearn.tree import DecisionTreeClassifier\n",
    "from sklearn.metrics import accuracy_score, mean_squared_error, mean_squared_log_error, roc_curve, auc\n",
    "from sklearn.metrics import precision_score, recall_score, accuracy_score, f1_score, classification_report\n",
    "from sklearn.preprocessing import OneHotEncoder, StandardScaler\n",
    "from sklearn.linear_model import LinearRegression\n",
    "from sklearn.impute import SimpleImputer\n",
    "from sklearn import tree\n",
    "from sklearn.ensemble import RandomForestClassifier\n",
    "from imblearn.over_sampling import SMOTE\n",
    "from sklearn.metrics import plot_confusion_matrix\n",
    "\n",
    "import warnings\n",
    "warnings.simplefilter(action='ignore', category=FutureWarning)"
   ]
  },
  {
   "cell_type": "code",
   "execution_count": 2,
   "metadata": {
    "ExecuteTime": {
     "end_time": "2022-02-25T15:33:00.519416Z",
     "start_time": "2022-02-25T15:33:00.517453Z"
    }
   },
   "outputs": [],
   "source": [
    "pd.set_option('display.max_rows', 1000) #change the amount of rows displayed\n",
    "plt.style.use('ggplot')"
   ]
  },
  {
   "cell_type": "code",
   "execution_count": 3,
   "metadata": {
    "ExecuteTime": {
     "end_time": "2022-02-25T15:33:00.548498Z",
     "start_time": "2022-02-25T15:33:00.520856Z"
    }
   },
   "outputs": [
    {
     "data": {
      "text/html": [
       "<div>\n",
       "<style scoped>\n",
       "    .dataframe tbody tr th:only-of-type {\n",
       "        vertical-align: middle;\n",
       "    }\n",
       "\n",
       "    .dataframe tbody tr th {\n",
       "        vertical-align: top;\n",
       "    }\n",
       "\n",
       "    .dataframe thead th {\n",
       "        text-align: right;\n",
       "    }\n",
       "</style>\n",
       "<table border=\"1\" class=\"dataframe\">\n",
       "  <thead>\n",
       "    <tr style=\"text-align: right;\">\n",
       "      <th></th>\n",
       "      <th>state</th>\n",
       "      <th>account length</th>\n",
       "      <th>area code</th>\n",
       "      <th>phone number</th>\n",
       "      <th>international plan</th>\n",
       "      <th>voice mail plan</th>\n",
       "      <th>number vmail messages</th>\n",
       "      <th>total day minutes</th>\n",
       "      <th>total day calls</th>\n",
       "      <th>total day charge</th>\n",
       "      <th>...</th>\n",
       "      <th>total eve calls</th>\n",
       "      <th>total eve charge</th>\n",
       "      <th>total night minutes</th>\n",
       "      <th>total night calls</th>\n",
       "      <th>total night charge</th>\n",
       "      <th>total intl minutes</th>\n",
       "      <th>total intl calls</th>\n",
       "      <th>total intl charge</th>\n",
       "      <th>customer service calls</th>\n",
       "      <th>churn</th>\n",
       "    </tr>\n",
       "  </thead>\n",
       "  <tbody>\n",
       "    <tr>\n",
       "      <th>0</th>\n",
       "      <td>KS</td>\n",
       "      <td>128</td>\n",
       "      <td>415</td>\n",
       "      <td>382-4657</td>\n",
       "      <td>no</td>\n",
       "      <td>yes</td>\n",
       "      <td>25</td>\n",
       "      <td>265.1</td>\n",
       "      <td>110</td>\n",
       "      <td>45.07</td>\n",
       "      <td>...</td>\n",
       "      <td>99</td>\n",
       "      <td>16.78</td>\n",
       "      <td>244.7</td>\n",
       "      <td>91</td>\n",
       "      <td>11.01</td>\n",
       "      <td>10.0</td>\n",
       "      <td>3</td>\n",
       "      <td>2.70</td>\n",
       "      <td>1</td>\n",
       "      <td>False</td>\n",
       "    </tr>\n",
       "    <tr>\n",
       "      <th>1</th>\n",
       "      <td>OH</td>\n",
       "      <td>107</td>\n",
       "      <td>415</td>\n",
       "      <td>371-7191</td>\n",
       "      <td>no</td>\n",
       "      <td>yes</td>\n",
       "      <td>26</td>\n",
       "      <td>161.6</td>\n",
       "      <td>123</td>\n",
       "      <td>27.47</td>\n",
       "      <td>...</td>\n",
       "      <td>103</td>\n",
       "      <td>16.62</td>\n",
       "      <td>254.4</td>\n",
       "      <td>103</td>\n",
       "      <td>11.45</td>\n",
       "      <td>13.7</td>\n",
       "      <td>3</td>\n",
       "      <td>3.70</td>\n",
       "      <td>1</td>\n",
       "      <td>False</td>\n",
       "    </tr>\n",
       "    <tr>\n",
       "      <th>2</th>\n",
       "      <td>NJ</td>\n",
       "      <td>137</td>\n",
       "      <td>415</td>\n",
       "      <td>358-1921</td>\n",
       "      <td>no</td>\n",
       "      <td>no</td>\n",
       "      <td>0</td>\n",
       "      <td>243.4</td>\n",
       "      <td>114</td>\n",
       "      <td>41.38</td>\n",
       "      <td>...</td>\n",
       "      <td>110</td>\n",
       "      <td>10.30</td>\n",
       "      <td>162.6</td>\n",
       "      <td>104</td>\n",
       "      <td>7.32</td>\n",
       "      <td>12.2</td>\n",
       "      <td>5</td>\n",
       "      <td>3.29</td>\n",
       "      <td>0</td>\n",
       "      <td>False</td>\n",
       "    </tr>\n",
       "    <tr>\n",
       "      <th>3</th>\n",
       "      <td>OH</td>\n",
       "      <td>84</td>\n",
       "      <td>408</td>\n",
       "      <td>375-9999</td>\n",
       "      <td>yes</td>\n",
       "      <td>no</td>\n",
       "      <td>0</td>\n",
       "      <td>299.4</td>\n",
       "      <td>71</td>\n",
       "      <td>50.90</td>\n",
       "      <td>...</td>\n",
       "      <td>88</td>\n",
       "      <td>5.26</td>\n",
       "      <td>196.9</td>\n",
       "      <td>89</td>\n",
       "      <td>8.86</td>\n",
       "      <td>6.6</td>\n",
       "      <td>7</td>\n",
       "      <td>1.78</td>\n",
       "      <td>2</td>\n",
       "      <td>False</td>\n",
       "    </tr>\n",
       "    <tr>\n",
       "      <th>4</th>\n",
       "      <td>OK</td>\n",
       "      <td>75</td>\n",
       "      <td>415</td>\n",
       "      <td>330-6626</td>\n",
       "      <td>yes</td>\n",
       "      <td>no</td>\n",
       "      <td>0</td>\n",
       "      <td>166.7</td>\n",
       "      <td>113</td>\n",
       "      <td>28.34</td>\n",
       "      <td>...</td>\n",
       "      <td>122</td>\n",
       "      <td>12.61</td>\n",
       "      <td>186.9</td>\n",
       "      <td>121</td>\n",
       "      <td>8.41</td>\n",
       "      <td>10.1</td>\n",
       "      <td>3</td>\n",
       "      <td>2.73</td>\n",
       "      <td>3</td>\n",
       "      <td>False</td>\n",
       "    </tr>\n",
       "  </tbody>\n",
       "</table>\n",
       "<p>5 rows × 21 columns</p>\n",
       "</div>"
      ],
      "text/plain": [
       "  state  account length  area code phone number international plan  \\\n",
       "0    KS             128        415     382-4657                 no   \n",
       "1    OH             107        415     371-7191                 no   \n",
       "2    NJ             137        415     358-1921                 no   \n",
       "3    OH              84        408     375-9999                yes   \n",
       "4    OK              75        415     330-6626                yes   \n",
       "\n",
       "  voice mail plan  number vmail messages  total day minutes  total day calls  \\\n",
       "0             yes                     25              265.1              110   \n",
       "1             yes                     26              161.6              123   \n",
       "2              no                      0              243.4              114   \n",
       "3              no                      0              299.4               71   \n",
       "4              no                      0              166.7              113   \n",
       "\n",
       "   total day charge  ...  total eve calls  total eve charge  \\\n",
       "0             45.07  ...               99             16.78   \n",
       "1             27.47  ...              103             16.62   \n",
       "2             41.38  ...              110             10.30   \n",
       "3             50.90  ...               88              5.26   \n",
       "4             28.34  ...              122             12.61   \n",
       "\n",
       "   total night minutes  total night calls  total night charge  \\\n",
       "0                244.7                 91               11.01   \n",
       "1                254.4                103               11.45   \n",
       "2                162.6                104                7.32   \n",
       "3                196.9                 89                8.86   \n",
       "4                186.9                121                8.41   \n",
       "\n",
       "   total intl minutes  total intl calls  total intl charge  \\\n",
       "0                10.0                 3               2.70   \n",
       "1                13.7                 3               3.70   \n",
       "2                12.2                 5               3.29   \n",
       "3                 6.6                 7               1.78   \n",
       "4                10.1                 3               2.73   \n",
       "\n",
       "   customer service calls  churn  \n",
       "0                       1  False  \n",
       "1                       1  False  \n",
       "2                       0  False  \n",
       "3                       2  False  \n",
       "4                       3  False  \n",
       "\n",
       "[5 rows x 21 columns]"
      ]
     },
     "execution_count": 3,
     "metadata": {},
     "output_type": "execute_result"
    }
   ],
   "source": [
    "df = pd.read_csv('bigml_59c28831336c6604c800002a.csv')\n",
    "df.head()"
   ]
  },
  {
   "cell_type": "markdown",
   "metadata": {},
   "source": [
    "## Fixing column names"
   ]
  },
  {
   "cell_type": "code",
   "execution_count": 4,
   "metadata": {
    "ExecuteTime": {
     "end_time": "2022-02-25T15:33:00.552989Z",
     "start_time": "2022-02-25T15:33:00.549809Z"
    }
   },
   "outputs": [
    {
     "data": {
      "text/plain": [
       "Index(['state', 'account_length', 'area_code', 'phone_number',\n",
       "       'international_plan', 'voice_mail_plan', 'number_vmail_messages',\n",
       "       'total_day_minutes', 'total_day_calls', 'total_day_charge',\n",
       "       'total_eve_minutes', 'total_eve_calls', 'total_eve_charge',\n",
       "       'total_night_minutes', 'total_night_calls', 'total_night_charge',\n",
       "       'total_intl_minutes', 'total_intl_calls', 'total_intl_charge',\n",
       "       'customer_service_calls', 'churn'],\n",
       "      dtype='object')"
      ]
     },
     "execution_count": 4,
     "metadata": {},
     "output_type": "execute_result"
    }
   ],
   "source": [
    "df.columns = df.columns.str.replace(' ','_')\n",
    "df.columns"
   ]
  },
  {
   "cell_type": "markdown",
   "metadata": {},
   "source": [
    "## Inital Data Exploration"
   ]
  },
  {
   "cell_type": "code",
   "execution_count": 5,
   "metadata": {
    "ExecuteTime": {
     "end_time": "2022-02-25T15:33:00.561525Z",
     "start_time": "2022-02-25T15:33:00.554011Z"
    }
   },
   "outputs": [
    {
     "name": "stdout",
     "output_type": "stream",
     "text": [
      "<class 'pandas.core.frame.DataFrame'>\n",
      "RangeIndex: 3333 entries, 0 to 3332\n",
      "Data columns (total 21 columns):\n",
      " #   Column                  Non-Null Count  Dtype  \n",
      "---  ------                  --------------  -----  \n",
      " 0   state                   3333 non-null   object \n",
      " 1   account_length          3333 non-null   int64  \n",
      " 2   area_code               3333 non-null   int64  \n",
      " 3   phone_number            3333 non-null   object \n",
      " 4   international_plan      3333 non-null   object \n",
      " 5   voice_mail_plan         3333 non-null   object \n",
      " 6   number_vmail_messages   3333 non-null   int64  \n",
      " 7   total_day_minutes       3333 non-null   float64\n",
      " 8   total_day_calls         3333 non-null   int64  \n",
      " 9   total_day_charge        3333 non-null   float64\n",
      " 10  total_eve_minutes       3333 non-null   float64\n",
      " 11  total_eve_calls         3333 non-null   int64  \n",
      " 12  total_eve_charge        3333 non-null   float64\n",
      " 13  total_night_minutes     3333 non-null   float64\n",
      " 14  total_night_calls       3333 non-null   int64  \n",
      " 15  total_night_charge      3333 non-null   float64\n",
      " 16  total_intl_minutes      3333 non-null   float64\n",
      " 17  total_intl_calls        3333 non-null   int64  \n",
      " 18  total_intl_charge       3333 non-null   float64\n",
      " 19  customer_service_calls  3333 non-null   int64  \n",
      " 20  churn                   3333 non-null   bool   \n",
      "dtypes: bool(1), float64(8), int64(8), object(4)\n",
      "memory usage: 524.2+ KB\n"
     ]
    }
   ],
   "source": [
    "df.info()"
   ]
  },
  {
   "cell_type": "code",
   "execution_count": 6,
   "metadata": {
    "ExecuteTime": {
     "end_time": "2022-02-25T15:33:00.566832Z",
     "start_time": "2022-02-25T15:33:00.562493Z"
    }
   },
   "outputs": [
    {
     "data": {
      "text/plain": [
       "state                     0\n",
       "account_length            0\n",
       "area_code                 0\n",
       "phone_number              0\n",
       "international_plan        0\n",
       "voice_mail_plan           0\n",
       "number_vmail_messages     0\n",
       "total_day_minutes         0\n",
       "total_day_calls           0\n",
       "total_day_charge          0\n",
       "total_eve_minutes         0\n",
       "total_eve_calls           0\n",
       "total_eve_charge          0\n",
       "total_night_minutes       0\n",
       "total_night_calls         0\n",
       "total_night_charge        0\n",
       "total_intl_minutes        0\n",
       "total_intl_calls          0\n",
       "total_intl_charge         0\n",
       "customer_service_calls    0\n",
       "churn                     0\n",
       "dtype: int64"
      ]
     },
     "execution_count": 6,
     "metadata": {},
     "output_type": "execute_result"
    }
   ],
   "source": [
    "df.isna().sum()"
   ]
  },
  {
   "cell_type": "code",
   "execution_count": 7,
   "metadata": {
    "ExecuteTime": {
     "end_time": "2022-02-25T15:33:00.571179Z",
     "start_time": "2022-02-25T15:33:00.567810Z"
    }
   },
   "outputs": [
    {
     "data": {
      "text/plain": [
       "0"
      ]
     },
     "execution_count": 7,
     "metadata": {},
     "output_type": "execute_result"
    }
   ],
   "source": [
    "df.phone_number.duplicated().sum()"
   ]
  },
  {
   "cell_type": "code",
   "execution_count": 8,
   "metadata": {
    "ExecuteTime": {
     "end_time": "2022-02-25T15:33:00.577243Z",
     "start_time": "2022-02-25T15:33:00.573382Z"
    }
   },
   "outputs": [
    {
     "data": {
      "text/plain": [
       "False    2850\n",
       "True      483\n",
       "Name: churn, dtype: int64"
      ]
     },
     "execution_count": 8,
     "metadata": {},
     "output_type": "execute_result"
    }
   ],
   "source": [
    "df.churn.value_counts()"
   ]
  },
  {
   "cell_type": "markdown",
   "metadata": {
    "ExecuteTime": {
     "end_time": "2022-02-24T18:25:37.713554Z",
     "start_time": "2022-02-24T18:25:37.708964Z"
    }
   },
   "source": [
    "## Initial Analysis"
   ]
  },
  {
   "cell_type": "markdown",
   "metadata": {},
   "source": [
    "### Base Churn Rate: 14.49%\n",
    "- There are 3333 records.\n",
    "- No missing values, and no duplicates.\n",
    "- The number of customers who churned was 483.\n",
    "- Therefore the base churn rate is (483 / 3333) = 14.49%"
   ]
  },
  {
   "cell_type": "markdown",
   "metadata": {},
   "source": [
    "### Target Feature Class Imbalance\n",
    "- Churn is very imbalanced as the amount of customers sho stay with the company is nearly 6X higher than the number of customers who leave.\n",
    "- Class imbalance will need to be addressed in my models through one of (or a combination of) these options:\n",
    "1. class weight parameters\n",
    "2. oversampling or undersampling\n",
    "3. Synthetic Minority Oversampling (SMOTE)"
   ]
  },
  {
   "cell_type": "code",
   "execution_count": 9,
   "metadata": {
    "ExecuteTime": {
     "end_time": "2022-02-25T15:33:00.671226Z",
     "start_time": "2022-02-25T15:33:00.578961Z"
    }
   },
   "outputs": [
    {
     "data": {
      "image/png": "[encoded data removed]",
      "text/plain": [
       "<Figure size 432x288 with 1 Axes>"
      ]
     },
     "metadata": {},
     "output_type": "display_data"
    }
   ],
   "source": [
    "imbalance_data = df.pivot_table(index='churn', aggfunc='size').plot(kind='bar')\n",
    "imbalance_data;"
   ]
  },
  {
   "cell_type": "markdown",
   "metadata": {},
   "source": [
    "# Cleaning and Preprocessing"
   ]
  },
  {
   "cell_type": "code",
   "execution_count": 10,
   "metadata": {
    "ExecuteTime": {
     "end_time": "2022-02-25T15:33:00.685406Z",
     "start_time": "2022-02-25T15:33:00.672309Z"
    }
   },
   "outputs": [
    {
     "data": {
      "text/html": [
       "<div>\n",
       "<style scoped>\n",
       "    .dataframe tbody tr th:only-of-type {\n",
       "        vertical-align: middle;\n",
       "    }\n",
       "\n",
       "    .dataframe tbody tr th {\n",
       "        vertical-align: top;\n",
       "    }\n",
       "\n",
       "    .dataframe thead th {\n",
       "        text-align: right;\n",
       "    }\n",
       "</style>\n",
       "<table border=\"1\" class=\"dataframe\">\n",
       "  <thead>\n",
       "    <tr style=\"text-align: right;\">\n",
       "      <th></th>\n",
       "      <th>state</th>\n",
       "      <th>account_length</th>\n",
       "      <th>area_code</th>\n",
       "      <th>phone_number</th>\n",
       "      <th>international_plan</th>\n",
       "      <th>voice_mail_plan</th>\n",
       "      <th>number_vmail_messages</th>\n",
       "      <th>total_day_minutes</th>\n",
       "      <th>total_day_calls</th>\n",
       "      <th>total_day_charge</th>\n",
       "      <th>...</th>\n",
       "      <th>total_eve_calls</th>\n",
       "      <th>total_eve_charge</th>\n",
       "      <th>total_night_minutes</th>\n",
       "      <th>total_night_calls</th>\n",
       "      <th>total_night_charge</th>\n",
       "      <th>total_intl_minutes</th>\n",
       "      <th>total_intl_calls</th>\n",
       "      <th>total_intl_charge</th>\n",
       "      <th>customer_service_calls</th>\n",
       "      <th>churn</th>\n",
       "    </tr>\n",
       "  </thead>\n",
       "  <tbody>\n",
       "    <tr>\n",
       "      <th>0</th>\n",
       "      <td>KS</td>\n",
       "      <td>128</td>\n",
       "      <td>415</td>\n",
       "      <td>382-4657</td>\n",
       "      <td>no</td>\n",
       "      <td>yes</td>\n",
       "      <td>25</td>\n",
       "      <td>265.1</td>\n",
       "      <td>110</td>\n",
       "      <td>45.07</td>\n",
       "      <td>...</td>\n",
       "      <td>99</td>\n",
       "      <td>16.78</td>\n",
       "      <td>244.7</td>\n",
       "      <td>91</td>\n",
       "      <td>11.01</td>\n",
       "      <td>10.0</td>\n",
       "      <td>3</td>\n",
       "      <td>2.7</td>\n",
       "      <td>1</td>\n",
       "      <td>False</td>\n",
       "    </tr>\n",
       "    <tr>\n",
       "      <th>1</th>\n",
       "      <td>OH</td>\n",
       "      <td>107</td>\n",
       "      <td>415</td>\n",
       "      <td>371-7191</td>\n",
       "      <td>no</td>\n",
       "      <td>yes</td>\n",
       "      <td>26</td>\n",
       "      <td>161.6</td>\n",
       "      <td>123</td>\n",
       "      <td>27.47</td>\n",
       "      <td>...</td>\n",
       "      <td>103</td>\n",
       "      <td>16.62</td>\n",
       "      <td>254.4</td>\n",
       "      <td>103</td>\n",
       "      <td>11.45</td>\n",
       "      <td>13.7</td>\n",
       "      <td>3</td>\n",
       "      <td>3.7</td>\n",
       "      <td>1</td>\n",
       "      <td>False</td>\n",
       "    </tr>\n",
       "  </tbody>\n",
       "</table>\n",
       "<p>2 rows × 21 columns</p>\n",
       "</div>"
      ],
      "text/plain": [
       "  state  account_length  area_code phone_number international_plan  \\\n",
       "0    KS             128        415     382-4657                 no   \n",
       "1    OH             107        415     371-7191                 no   \n",
       "\n",
       "  voice_mail_plan  number_vmail_messages  total_day_minutes  total_day_calls  \\\n",
       "0             yes                     25              265.1              110   \n",
       "1             yes                     26              161.6              123   \n",
       "\n",
       "   total_day_charge  ...  total_eve_calls  total_eve_charge  \\\n",
       "0             45.07  ...               99             16.78   \n",
       "1             27.47  ...              103             16.62   \n",
       "\n",
       "   total_night_minutes  total_night_calls  total_night_charge  \\\n",
       "0                244.7                 91               11.01   \n",
       "1                254.4                103               11.45   \n",
       "\n",
       "   total_intl_minutes  total_intl_calls  total_intl_charge  \\\n",
       "0                10.0                 3                2.7   \n",
       "1                13.7                 3                3.7   \n",
       "\n",
       "   customer_service_calls  churn  \n",
       "0                       1  False  \n",
       "1                       1  False  \n",
       "\n",
       "[2 rows x 21 columns]"
      ]
     },
     "execution_count": 10,
     "metadata": {},
     "output_type": "execute_result"
    }
   ],
   "source": [
    "test_df = df.copy()\n",
    "test_df.head(2)"
   ]
  },
  {
   "cell_type": "markdown",
   "metadata": {},
   "source": [
    "## Changing False to 0 and True to 1"
   ]
  },
  {
   "cell_type": "code",
   "execution_count": 11,
   "metadata": {
    "ExecuteTime": {
     "end_time": "2022-02-25T15:33:00.690361Z",
     "start_time": "2022-02-25T15:33:00.686471Z"
    }
   },
   "outputs": [
    {
     "data": {
      "text/plain": [
       "0    2850\n",
       "1     483\n",
       "Name: churn, dtype: int64"
      ]
     },
     "execution_count": 11,
     "metadata": {},
     "output_type": "execute_result"
    }
   ],
   "source": [
    "test_df[\"churn\"] = test_df[\"churn\"].astype(int)\n",
    "test_df.churn.value_counts()"
   ]
  },
  {
   "cell_type": "markdown",
   "metadata": {},
   "source": [
    "## Dropping Uneccesary Columns"
   ]
  },
  {
   "cell_type": "code",
   "execution_count": 12,
   "metadata": {
    "ExecuteTime": {
     "end_time": "2022-02-25T15:33:00.692798Z",
     "start_time": "2022-02-25T15:33:00.691272Z"
    }
   },
   "outputs": [],
   "source": [
    "#test_df = test_df.drop(columns=['state','phone_number', 'area_code'], axis=1)"
   ]
  },
  {
   "cell_type": "markdown",
   "metadata": {},
   "source": [
    "## Adding Column: Total Charge\n",
    "- This column captures the total charge that the customer will see on their bill from all charges contained within the dataset."
   ]
  },
  {
   "cell_type": "code",
   "execution_count": 13,
   "metadata": {
    "ExecuteTime": {
     "end_time": "2022-02-25T15:33:00.733779Z",
     "start_time": "2022-02-25T15:33:00.693841Z"
    }
   },
   "outputs": [],
   "source": [
    "total_charge = test_df.apply(lambda x: x['total_day_charge'] + x['total_eve_charge'] +x['total_night_charge']\n",
    "                             +x['total_intl_charge'], axis=1)\n",
    "test_df['total_charge']= total_charge"
   ]
  },
  {
   "cell_type": "markdown",
   "metadata": {
    "ExecuteTime": {
     "end_time": "2022-02-16T17:59:05.018900Z",
     "start_time": "2022-02-16T17:59:04.997975Z"
    }
   },
   "source": [
    "## Slicing out object type Features"
   ]
  },
  {
   "cell_type": "code",
   "execution_count": 14,
   "metadata": {
    "ExecuteTime": {
     "end_time": "2022-02-25T15:33:00.745887Z",
     "start_time": "2022-02-25T15:33:00.734704Z"
    }
   },
   "outputs": [
    {
     "data": {
      "text/html": [
       "<div>\n",
       "<style scoped>\n",
       "    .dataframe tbody tr th:only-of-type {\n",
       "        vertical-align: middle;\n",
       "    }\n",
       "\n",
       "    .dataframe tbody tr th {\n",
       "        vertical-align: top;\n",
       "    }\n",
       "\n",
       "    .dataframe thead th {\n",
       "        text-align: right;\n",
       "    }\n",
       "</style>\n",
       "<table border=\"1\" class=\"dataframe\">\n",
       "  <thead>\n",
       "    <tr style=\"text-align: right;\">\n",
       "      <th></th>\n",
       "      <th>account_length</th>\n",
       "      <th>area_code</th>\n",
       "      <th>number_vmail_messages</th>\n",
       "      <th>total_day_minutes</th>\n",
       "      <th>total_day_calls</th>\n",
       "      <th>total_day_charge</th>\n",
       "      <th>total_eve_minutes</th>\n",
       "      <th>total_eve_calls</th>\n",
       "      <th>total_eve_charge</th>\n",
       "      <th>total_night_minutes</th>\n",
       "      <th>total_night_calls</th>\n",
       "      <th>total_night_charge</th>\n",
       "      <th>total_intl_minutes</th>\n",
       "      <th>total_intl_calls</th>\n",
       "      <th>total_intl_charge</th>\n",
       "      <th>customer_service_calls</th>\n",
       "      <th>churn</th>\n",
       "      <th>total_charge</th>\n",
       "    </tr>\n",
       "  </thead>\n",
       "  <tbody>\n",
       "    <tr>\n",
       "      <th>0</th>\n",
       "      <td>128</td>\n",
       "      <td>415</td>\n",
       "      <td>25</td>\n",
       "      <td>265.1</td>\n",
       "      <td>110</td>\n",
       "      <td>45.07</td>\n",
       "      <td>197.4</td>\n",
       "      <td>99</td>\n",
       "      <td>16.78</td>\n",
       "      <td>244.7</td>\n",
       "      <td>91</td>\n",
       "      <td>11.01</td>\n",
       "      <td>10.0</td>\n",
       "      <td>3</td>\n",
       "      <td>2.70</td>\n",
       "      <td>1</td>\n",
       "      <td>0</td>\n",
       "      <td>75.56</td>\n",
       "    </tr>\n",
       "    <tr>\n",
       "      <th>1</th>\n",
       "      <td>107</td>\n",
       "      <td>415</td>\n",
       "      <td>26</td>\n",
       "      <td>161.6</td>\n",
       "      <td>123</td>\n",
       "      <td>27.47</td>\n",
       "      <td>195.5</td>\n",
       "      <td>103</td>\n",
       "      <td>16.62</td>\n",
       "      <td>254.4</td>\n",
       "      <td>103</td>\n",
       "      <td>11.45</td>\n",
       "      <td>13.7</td>\n",
       "      <td>3</td>\n",
       "      <td>3.70</td>\n",
       "      <td>1</td>\n",
       "      <td>0</td>\n",
       "      <td>59.24</td>\n",
       "    </tr>\n",
       "    <tr>\n",
       "      <th>2</th>\n",
       "      <td>137</td>\n",
       "      <td>415</td>\n",
       "      <td>0</td>\n",
       "      <td>243.4</td>\n",
       "      <td>114</td>\n",
       "      <td>41.38</td>\n",
       "      <td>121.2</td>\n",
       "      <td>110</td>\n",
       "      <td>10.30</td>\n",
       "      <td>162.6</td>\n",
       "      <td>104</td>\n",
       "      <td>7.32</td>\n",
       "      <td>12.2</td>\n",
       "      <td>5</td>\n",
       "      <td>3.29</td>\n",
       "      <td>0</td>\n",
       "      <td>0</td>\n",
       "      <td>62.29</td>\n",
       "    </tr>\n",
       "    <tr>\n",
       "      <th>3</th>\n",
       "      <td>84</td>\n",
       "      <td>408</td>\n",
       "      <td>0</td>\n",
       "      <td>299.4</td>\n",
       "      <td>71</td>\n",
       "      <td>50.90</td>\n",
       "      <td>61.9</td>\n",
       "      <td>88</td>\n",
       "      <td>5.26</td>\n",
       "      <td>196.9</td>\n",
       "      <td>89</td>\n",
       "      <td>8.86</td>\n",
       "      <td>6.6</td>\n",
       "      <td>7</td>\n",
       "      <td>1.78</td>\n",
       "      <td>2</td>\n",
       "      <td>0</td>\n",
       "      <td>66.80</td>\n",
       "    </tr>\n",
       "    <tr>\n",
       "      <th>4</th>\n",
       "      <td>75</td>\n",
       "      <td>415</td>\n",
       "      <td>0</td>\n",
       "      <td>166.7</td>\n",
       "      <td>113</td>\n",
       "      <td>28.34</td>\n",
       "      <td>148.3</td>\n",
       "      <td>122</td>\n",
       "      <td>12.61</td>\n",
       "      <td>186.9</td>\n",
       "      <td>121</td>\n",
       "      <td>8.41</td>\n",
       "      <td>10.1</td>\n",
       "      <td>3</td>\n",
       "      <td>2.73</td>\n",
       "      <td>3</td>\n",
       "      <td>0</td>\n",
       "      <td>52.09</td>\n",
       "    </tr>\n",
       "  </tbody>\n",
       "</table>\n",
       "</div>"
      ],
      "text/plain": [
       "   account_length  area_code  number_vmail_messages  total_day_minutes  \\\n",
       "0             128        415                     25              265.1   \n",
       "1             107        415                     26              161.6   \n",
       "2             137        415                      0              243.4   \n",
       "3              84        408                      0              299.4   \n",
       "4              75        415                      0              166.7   \n",
       "\n",
       "   total_day_calls  total_day_charge  total_eve_minutes  total_eve_calls  \\\n",
       "0              110             45.07              197.4               99   \n",
       "1              123             27.47              195.5              103   \n",
       "2              114             41.38              121.2              110   \n",
       "3               71             50.90               61.9               88   \n",
       "4              113             28.34              148.3              122   \n",
       "\n",
       "   total_eve_charge  total_night_minutes  total_night_calls  \\\n",
       "0             16.78                244.7                 91   \n",
       "1             16.62                254.4                103   \n",
       "2             10.30                162.6                104   \n",
       "3              5.26                196.9                 89   \n",
       "4             12.61                186.9                121   \n",
       "\n",
       "   total_night_charge  total_intl_minutes  total_intl_calls  \\\n",
       "0               11.01                10.0                 3   \n",
       "1               11.45                13.7                 3   \n",
       "2                7.32                12.2                 5   \n",
       "3                8.86                 6.6                 7   \n",
       "4                8.41                10.1                 3   \n",
       "\n",
       "   total_intl_charge  customer_service_calls  churn  total_charge  \n",
       "0               2.70                       1      0         75.56  \n",
       "1               3.70                       1      0         59.24  \n",
       "2               3.29                       0      0         62.29  \n",
       "3               1.78                       2      0         66.80  \n",
       "4               2.73                       3      0         52.09  "
      ]
     },
     "execution_count": 14,
     "metadata": {},
     "output_type": "execute_result"
    }
   ],
   "source": [
    "cont_features = [col for col in test_df.columns if test_df[col].dtype in [np.float64, np.int64]]\n",
    "feature_df = test_df.loc[:, cont_features]\n",
    "feature_df.head()"
   ]
  },
  {
   "cell_type": "markdown",
   "metadata": {},
   "source": [
    "## One Hot Encoding"
   ]
  },
  {
   "cell_type": "code",
   "execution_count": 15,
   "metadata": {
    "ExecuteTime": {
     "end_time": "2022-02-25T15:33:00.760026Z",
     "start_time": "2022-02-25T15:33:00.746900Z"
    }
   },
   "outputs": [
    {
     "data": {
      "text/html": [
       "<div>\n",
       "<style scoped>\n",
       "    .dataframe tbody tr th:only-of-type {\n",
       "        vertical-align: middle;\n",
       "    }\n",
       "\n",
       "    .dataframe tbody tr th {\n",
       "        vertical-align: top;\n",
       "    }\n",
       "\n",
       "    .dataframe thead th {\n",
       "        text-align: right;\n",
       "    }\n",
       "</style>\n",
       "<table border=\"1\" class=\"dataframe\">\n",
       "  <thead>\n",
       "    <tr style=\"text-align: right;\">\n",
       "      <th></th>\n",
       "      <th>international_plan_no</th>\n",
       "      <th>international_plan_yes</th>\n",
       "      <th>voice_mail_plan_no</th>\n",
       "      <th>voice_mail_plan_yes</th>\n",
       "      <th>customer_service_calls_0</th>\n",
       "      <th>customer_service_calls_1</th>\n",
       "      <th>customer_service_calls_2</th>\n",
       "      <th>customer_service_calls_3</th>\n",
       "      <th>customer_service_calls_4</th>\n",
       "      <th>customer_service_calls_5</th>\n",
       "      <th>customer_service_calls_6</th>\n",
       "      <th>customer_service_calls_7</th>\n",
       "      <th>customer_service_calls_8</th>\n",
       "      <th>customer_service_calls_9</th>\n",
       "    </tr>\n",
       "  </thead>\n",
       "  <tbody>\n",
       "    <tr>\n",
       "      <th>0</th>\n",
       "      <td>1.0</td>\n",
       "      <td>0.0</td>\n",
       "      <td>0.0</td>\n",
       "      <td>1.0</td>\n",
       "      <td>0.0</td>\n",
       "      <td>1.0</td>\n",
       "      <td>0.0</td>\n",
       "      <td>0.0</td>\n",
       "      <td>0.0</td>\n",
       "      <td>0.0</td>\n",
       "      <td>0.0</td>\n",
       "      <td>0.0</td>\n",
       "      <td>0.0</td>\n",
       "      <td>0.0</td>\n",
       "    </tr>\n",
       "    <tr>\n",
       "      <th>1</th>\n",
       "      <td>1.0</td>\n",
       "      <td>0.0</td>\n",
       "      <td>0.0</td>\n",
       "      <td>1.0</td>\n",
       "      <td>0.0</td>\n",
       "      <td>1.0</td>\n",
       "      <td>0.0</td>\n",
       "      <td>0.0</td>\n",
       "      <td>0.0</td>\n",
       "      <td>0.0</td>\n",
       "      <td>0.0</td>\n",
       "      <td>0.0</td>\n",
       "      <td>0.0</td>\n",
       "      <td>0.0</td>\n",
       "    </tr>\n",
       "  </tbody>\n",
       "</table>\n",
       "</div>"
      ],
      "text/plain": [
       "   international_plan_no  international_plan_yes  voice_mail_plan_no  \\\n",
       "0                    1.0                     0.0                 0.0   \n",
       "1                    1.0                     0.0                 0.0   \n",
       "\n",
       "   voice_mail_plan_yes  customer_service_calls_0  customer_service_calls_1  \\\n",
       "0                  1.0                       0.0                       1.0   \n",
       "1                  1.0                       0.0                       1.0   \n",
       "\n",
       "   customer_service_calls_2  customer_service_calls_3  \\\n",
       "0                       0.0                       0.0   \n",
       "1                       0.0                       0.0   \n",
       "\n",
       "   customer_service_calls_4  customer_service_calls_5  \\\n",
       "0                       0.0                       0.0   \n",
       "1                       0.0                       0.0   \n",
       "\n",
       "   customer_service_calls_6  customer_service_calls_7  \\\n",
       "0                       0.0                       0.0   \n",
       "1                       0.0                       0.0   \n",
       "\n",
       "   customer_service_calls_8  customer_service_calls_9  \n",
       "0                       0.0                       0.0  \n",
       "1                       0.0                       0.0  "
      ]
     },
     "execution_count": 15,
     "metadata": {},
     "output_type": "execute_result"
    }
   ],
   "source": [
    "need_to_encode = test_df[['international_plan', 'voice_mail_plan', 'customer_service_calls']]\n",
    "ohe = OneHotEncoder()\n",
    "ohe.fit(need_to_encode)\n",
    "\n",
    "ohe_1 = ohe.transform(need_to_encode).toarray()\n",
    "\n",
    "ohe_df = pd.DataFrame(ohe_1, columns=ohe.get_feature_names(need_to_encode.columns))\n",
    "ohe_df.head(2)"
   ]
  },
  {
   "cell_type": "code",
   "execution_count": 16,
   "metadata": {
    "ExecuteTime": {
     "end_time": "2022-02-25T15:33:00.774871Z",
     "start_time": "2022-02-25T15:33:00.761083Z"
    }
   },
   "outputs": [
    {
     "data": {
      "text/html": [
       "<div>\n",
       "<style scoped>\n",
       "    .dataframe tbody tr th:only-of-type {\n",
       "        vertical-align: middle;\n",
       "    }\n",
       "\n",
       "    .dataframe tbody tr th {\n",
       "        vertical-align: top;\n",
       "    }\n",
       "\n",
       "    .dataframe thead th {\n",
       "        text-align: right;\n",
       "    }\n",
       "</style>\n",
       "<table border=\"1\" class=\"dataframe\">\n",
       "  <thead>\n",
       "    <tr style=\"text-align: right;\">\n",
       "      <th></th>\n",
       "      <th>account_length</th>\n",
       "      <th>area_code</th>\n",
       "      <th>number_vmail_messages</th>\n",
       "      <th>total_day_minutes</th>\n",
       "      <th>total_day_calls</th>\n",
       "      <th>total_day_charge</th>\n",
       "      <th>total_eve_minutes</th>\n",
       "      <th>total_eve_calls</th>\n",
       "      <th>total_eve_charge</th>\n",
       "      <th>total_night_minutes</th>\n",
       "      <th>...</th>\n",
       "      <th>customer_service_calls_0</th>\n",
       "      <th>customer_service_calls_1</th>\n",
       "      <th>customer_service_calls_2</th>\n",
       "      <th>customer_service_calls_3</th>\n",
       "      <th>customer_service_calls_4</th>\n",
       "      <th>customer_service_calls_5</th>\n",
       "      <th>customer_service_calls_6</th>\n",
       "      <th>customer_service_calls_7</th>\n",
       "      <th>customer_service_calls_8</th>\n",
       "      <th>customer_service_calls_9</th>\n",
       "    </tr>\n",
       "  </thead>\n",
       "  <tbody>\n",
       "    <tr>\n",
       "      <th>0</th>\n",
       "      <td>128</td>\n",
       "      <td>415</td>\n",
       "      <td>25</td>\n",
       "      <td>265.1</td>\n",
       "      <td>110</td>\n",
       "      <td>45.07</td>\n",
       "      <td>197.4</td>\n",
       "      <td>99</td>\n",
       "      <td>16.78</td>\n",
       "      <td>244.7</td>\n",
       "      <td>...</td>\n",
       "      <td>0.0</td>\n",
       "      <td>1.0</td>\n",
       "      <td>0.0</td>\n",
       "      <td>0.0</td>\n",
       "      <td>0.0</td>\n",
       "      <td>0.0</td>\n",
       "      <td>0.0</td>\n",
       "      <td>0.0</td>\n",
       "      <td>0.0</td>\n",
       "      <td>0.0</td>\n",
       "    </tr>\n",
       "    <tr>\n",
       "      <th>1</th>\n",
       "      <td>107</td>\n",
       "      <td>415</td>\n",
       "      <td>26</td>\n",
       "      <td>161.6</td>\n",
       "      <td>123</td>\n",
       "      <td>27.47</td>\n",
       "      <td>195.5</td>\n",
       "      <td>103</td>\n",
       "      <td>16.62</td>\n",
       "      <td>254.4</td>\n",
       "      <td>...</td>\n",
       "      <td>0.0</td>\n",
       "      <td>1.0</td>\n",
       "      <td>0.0</td>\n",
       "      <td>0.0</td>\n",
       "      <td>0.0</td>\n",
       "      <td>0.0</td>\n",
       "      <td>0.0</td>\n",
       "      <td>0.0</td>\n",
       "      <td>0.0</td>\n",
       "      <td>0.0</td>\n",
       "    </tr>\n",
       "  </tbody>\n",
       "</table>\n",
       "<p>2 rows × 32 columns</p>\n",
       "</div>"
      ],
      "text/plain": [
       "   account_length  area_code  number_vmail_messages  total_day_minutes  \\\n",
       "0             128        415                     25              265.1   \n",
       "1             107        415                     26              161.6   \n",
       "\n",
       "   total_day_calls  total_day_charge  total_eve_minutes  total_eve_calls  \\\n",
       "0              110             45.07              197.4               99   \n",
       "1              123             27.47              195.5              103   \n",
       "\n",
       "   total_eve_charge  total_night_minutes  ...  customer_service_calls_0  \\\n",
       "0             16.78                244.7  ...                       0.0   \n",
       "1             16.62                254.4  ...                       0.0   \n",
       "\n",
       "   customer_service_calls_1  customer_service_calls_2  \\\n",
       "0                       1.0                       0.0   \n",
       "1                       1.0                       0.0   \n",
       "\n",
       "   customer_service_calls_3  customer_service_calls_4  \\\n",
       "0                       0.0                       0.0   \n",
       "1                       0.0                       0.0   \n",
       "\n",
       "   customer_service_calls_5  customer_service_calls_6  \\\n",
       "0                       0.0                       0.0   \n",
       "1                       0.0                       0.0   \n",
       "\n",
       "   customer_service_calls_7  customer_service_calls_8  \\\n",
       "0                       0.0                       0.0   \n",
       "1                       0.0                       0.0   \n",
       "\n",
       "   customer_service_calls_9  \n",
       "0                       0.0  \n",
       "1                       0.0  \n",
       "\n",
       "[2 rows x 32 columns]"
      ]
     },
     "execution_count": 16,
     "metadata": {},
     "output_type": "execute_result"
    }
   ],
   "source": [
    "# Combining everything together\n",
    "cleaned_df = pd.concat([pd.DataFrame(feature_df), ohe_df], axis=1)\n",
    "cleaned_df.head(2)"
   ]
  },
  {
   "cell_type": "markdown",
   "metadata": {},
   "source": [
    "# Decision Tree 1 (Baseline Model)"
   ]
  },
  {
   "cell_type": "code",
   "execution_count": 17,
   "metadata": {
    "ExecuteTime": {
     "end_time": "2022-02-25T15:33:00.781837Z",
     "start_time": "2022-02-25T15:33:00.775799Z"
    }
   },
   "outputs": [],
   "source": [
    "#Setting Target\n",
    "X = cleaned_df.drop(['churn'], axis=1)\n",
    "y = cleaned_df['churn']\n",
    "\n",
    "X_train, X_test, y_train, y_test = train_test_split(X, y, test_size=.25, random_state=23)"
   ]
  },
  {
   "cell_type": "code",
   "execution_count": 18,
   "metadata": {
    "ExecuteTime": {
     "end_time": "2022-02-25T15:33:00.813691Z",
     "start_time": "2022-02-25T15:33:00.782894Z"
    }
   },
   "outputs": [],
   "source": [
    "dt1 = DecisionTreeClassifier(random_state=23)\n",
    "dt1.fit(X_train, y_train)\n",
    "dt1_y_pred = dt1.predict(X_test)"
   ]
  },
  {
   "cell_type": "markdown",
   "metadata": {},
   "source": [
    "## Metrics Function"
   ]
  },
  {
   "cell_type": "code",
   "execution_count": 19,
   "metadata": {
    "ExecuteTime": {
     "end_time": "2022-02-25T15:33:00.817584Z",
     "start_time": "2022-02-25T15:33:00.814647Z"
    }
   },
   "outputs": [],
   "source": [
    "def get_metrics(clf, y_pred):\n",
    "    \n",
    "    clf_acc = accuracy_score(y_test, y_pred) * 100\n",
    "    print('Accuracy is :{0}'.format(clf_acc))\n",
    "    clf_prec = precision_score(y_test, y_pred) * 100\n",
    "    print('Precision is :{0}'.format(clf_prec))\n",
    "    clf_rcl = recall_score(y_test, y_pred) * 100\n",
    "    print('Recall is :{0}'.format(clf_rcl))\n",
    "    clf_f1 = f1_score(y_test, y_pred) * 100\n",
    "    print('F1 Score is :{0}'.format(clf_f1))\n",
    "    false_positive_rate, true_positive_rate, thresholds = roc_curve(y_test, y_pred)\n",
    "    clf_roc_auc = auc(false_positive_rate, true_positive_rate)\n",
    "    print('ROC AUC is :{0}'.format(round(clf_roc_auc, 2)))\n",
    "    "
   ]
  },
  {
   "cell_type": "code",
   "execution_count": 20,
   "metadata": {
    "ExecuteTime": {
     "end_time": "2022-02-25T15:33:00.824653Z",
     "start_time": "2022-02-25T15:33:00.818562Z"
    }
   },
   "outputs": [
    {
     "name": "stdout",
     "output_type": "stream",
     "text": [
      "Accuracy is :96.1630695443645\n",
      "Precision is :86.15384615384616\n",
      "Recall is :88.88888888888889\n",
      "F1 Score is :87.50000000000001\n",
      "ROC AUC is :0.93\n"
     ]
    }
   ],
   "source": [
    "get_metrics(dt1, dt1_y_pred)"
   ]
  },
  {
   "cell_type": "code",
   "execution_count": 21,
   "metadata": {
    "ExecuteTime": {
     "end_time": "2022-02-25T15:33:00.828885Z",
     "start_time": "2022-02-25T15:33:00.825521Z"
    }
   },
   "outputs": [
    {
     "name": "stdout",
     "output_type": "stream",
     "text": [
      "DT 1 Recall is :88.88888888888889\n"
     ]
    }
   ],
   "source": [
    "dt1_rcl = recall_score(y_test, dt1_y_pred) * 100\n",
    "print('DT 1 Recall is :{0}'.format(dt1_rcl))"
   ]
  },
  {
   "cell_type": "markdown",
   "metadata": {},
   "source": [
    "## ANALYSIS OF BASELINE MODEL"
   ]
  },
  {
   "cell_type": "markdown",
   "metadata": {},
   "source": [
    "Analyisis goes HERE"
   ]
  },
  {
   "cell_type": "markdown",
   "metadata": {},
   "source": [
    "# Refining Data"
   ]
  },
  {
   "cell_type": "code",
   "execution_count": 22,
   "metadata": {
    "ExecuteTime": {
     "end_time": "2022-02-25T15:33:00.849525Z",
     "start_time": "2022-02-25T15:33:00.829804Z"
    }
   },
   "outputs": [
    {
     "data": {
      "text/html": [
       "<div>\n",
       "<style scoped>\n",
       "    .dataframe tbody tr th:only-of-type {\n",
       "        vertical-align: middle;\n",
       "    }\n",
       "\n",
       "    .dataframe tbody tr th {\n",
       "        vertical-align: top;\n",
       "    }\n",
       "\n",
       "    .dataframe thead th {\n",
       "        text-align: right;\n",
       "    }\n",
       "</style>\n",
       "<table border=\"1\" class=\"dataframe\">\n",
       "  <thead>\n",
       "    <tr style=\"text-align: right;\">\n",
       "      <th></th>\n",
       "      <th>account_length</th>\n",
       "      <th>area_code</th>\n",
       "      <th>number_vmail_messages</th>\n",
       "      <th>total_day_minutes</th>\n",
       "      <th>total_day_calls</th>\n",
       "      <th>total_day_charge</th>\n",
       "      <th>total_eve_minutes</th>\n",
       "      <th>total_eve_calls</th>\n",
       "      <th>total_eve_charge</th>\n",
       "      <th>total_night_minutes</th>\n",
       "      <th>...</th>\n",
       "      <th>customer_service_calls_0</th>\n",
       "      <th>customer_service_calls_1</th>\n",
       "      <th>customer_service_calls_2</th>\n",
       "      <th>customer_service_calls_3</th>\n",
       "      <th>customer_service_calls_4</th>\n",
       "      <th>customer_service_calls_5</th>\n",
       "      <th>customer_service_calls_6</th>\n",
       "      <th>customer_service_calls_7</th>\n",
       "      <th>customer_service_calls_8</th>\n",
       "      <th>customer_service_calls_9</th>\n",
       "    </tr>\n",
       "  </thead>\n",
       "  <tbody>\n",
       "    <tr>\n",
       "      <th>0</th>\n",
       "      <td>128</td>\n",
       "      <td>415</td>\n",
       "      <td>25</td>\n",
       "      <td>265.1</td>\n",
       "      <td>110</td>\n",
       "      <td>45.07</td>\n",
       "      <td>197.4</td>\n",
       "      <td>99</td>\n",
       "      <td>16.78</td>\n",
       "      <td>244.7</td>\n",
       "      <td>...</td>\n",
       "      <td>0.0</td>\n",
       "      <td>1.0</td>\n",
       "      <td>0.0</td>\n",
       "      <td>0.0</td>\n",
       "      <td>0.0</td>\n",
       "      <td>0.0</td>\n",
       "      <td>0.0</td>\n",
       "      <td>0.0</td>\n",
       "      <td>0.0</td>\n",
       "      <td>0.0</td>\n",
       "    </tr>\n",
       "    <tr>\n",
       "      <th>1</th>\n",
       "      <td>107</td>\n",
       "      <td>415</td>\n",
       "      <td>26</td>\n",
       "      <td>161.6</td>\n",
       "      <td>123</td>\n",
       "      <td>27.47</td>\n",
       "      <td>195.5</td>\n",
       "      <td>103</td>\n",
       "      <td>16.62</td>\n",
       "      <td>254.4</td>\n",
       "      <td>...</td>\n",
       "      <td>0.0</td>\n",
       "      <td>1.0</td>\n",
       "      <td>0.0</td>\n",
       "      <td>0.0</td>\n",
       "      <td>0.0</td>\n",
       "      <td>0.0</td>\n",
       "      <td>0.0</td>\n",
       "      <td>0.0</td>\n",
       "      <td>0.0</td>\n",
       "      <td>0.0</td>\n",
       "    </tr>\n",
       "    <tr>\n",
       "      <th>2</th>\n",
       "      <td>137</td>\n",
       "      <td>415</td>\n",
       "      <td>0</td>\n",
       "      <td>243.4</td>\n",
       "      <td>114</td>\n",
       "      <td>41.38</td>\n",
       "      <td>121.2</td>\n",
       "      <td>110</td>\n",
       "      <td>10.30</td>\n",
       "      <td>162.6</td>\n",
       "      <td>...</td>\n",
       "      <td>1.0</td>\n",
       "      <td>0.0</td>\n",
       "      <td>0.0</td>\n",
       "      <td>0.0</td>\n",
       "      <td>0.0</td>\n",
       "      <td>0.0</td>\n",
       "      <td>0.0</td>\n",
       "      <td>0.0</td>\n",
       "      <td>0.0</td>\n",
       "      <td>0.0</td>\n",
       "    </tr>\n",
       "    <tr>\n",
       "      <th>3</th>\n",
       "      <td>84</td>\n",
       "      <td>408</td>\n",
       "      <td>0</td>\n",
       "      <td>299.4</td>\n",
       "      <td>71</td>\n",
       "      <td>50.90</td>\n",
       "      <td>61.9</td>\n",
       "      <td>88</td>\n",
       "      <td>5.26</td>\n",
       "      <td>196.9</td>\n",
       "      <td>...</td>\n",
       "      <td>0.0</td>\n",
       "      <td>0.0</td>\n",
       "      <td>1.0</td>\n",
       "      <td>0.0</td>\n",
       "      <td>0.0</td>\n",
       "      <td>0.0</td>\n",
       "      <td>0.0</td>\n",
       "      <td>0.0</td>\n",
       "      <td>0.0</td>\n",
       "      <td>0.0</td>\n",
       "    </tr>\n",
       "    <tr>\n",
       "      <th>4</th>\n",
       "      <td>75</td>\n",
       "      <td>415</td>\n",
       "      <td>0</td>\n",
       "      <td>166.7</td>\n",
       "      <td>113</td>\n",
       "      <td>28.34</td>\n",
       "      <td>148.3</td>\n",
       "      <td>122</td>\n",
       "      <td>12.61</td>\n",
       "      <td>186.9</td>\n",
       "      <td>...</td>\n",
       "      <td>0.0</td>\n",
       "      <td>0.0</td>\n",
       "      <td>0.0</td>\n",
       "      <td>1.0</td>\n",
       "      <td>0.0</td>\n",
       "      <td>0.0</td>\n",
       "      <td>0.0</td>\n",
       "      <td>0.0</td>\n",
       "      <td>0.0</td>\n",
       "      <td>0.0</td>\n",
       "    </tr>\n",
       "    <tr>\n",
       "      <th>...</th>\n",
       "      <td>...</td>\n",
       "      <td>...</td>\n",
       "      <td>...</td>\n",
       "      <td>...</td>\n",
       "      <td>...</td>\n",
       "      <td>...</td>\n",
       "      <td>...</td>\n",
       "      <td>...</td>\n",
       "      <td>...</td>\n",
       "      <td>...</td>\n",
       "      <td>...</td>\n",
       "      <td>...</td>\n",
       "      <td>...</td>\n",
       "      <td>...</td>\n",
       "      <td>...</td>\n",
       "      <td>...</td>\n",
       "      <td>...</td>\n",
       "      <td>...</td>\n",
       "      <td>...</td>\n",
       "      <td>...</td>\n",
       "      <td>...</td>\n",
       "    </tr>\n",
       "    <tr>\n",
       "      <th>3328</th>\n",
       "      <td>192</td>\n",
       "      <td>415</td>\n",
       "      <td>36</td>\n",
       "      <td>156.2</td>\n",
       "      <td>77</td>\n",
       "      <td>26.55</td>\n",
       "      <td>215.5</td>\n",
       "      <td>126</td>\n",
       "      <td>18.32</td>\n",
       "      <td>279.1</td>\n",
       "      <td>...</td>\n",
       "      <td>0.0</td>\n",
       "      <td>0.0</td>\n",
       "      <td>1.0</td>\n",
       "      <td>0.0</td>\n",
       "      <td>0.0</td>\n",
       "      <td>0.0</td>\n",
       "      <td>0.0</td>\n",
       "      <td>0.0</td>\n",
       "      <td>0.0</td>\n",
       "      <td>0.0</td>\n",
       "    </tr>\n",
       "    <tr>\n",
       "      <th>3329</th>\n",
       "      <td>68</td>\n",
       "      <td>415</td>\n",
       "      <td>0</td>\n",
       "      <td>231.1</td>\n",
       "      <td>57</td>\n",
       "      <td>39.29</td>\n",
       "      <td>153.4</td>\n",
       "      <td>55</td>\n",
       "      <td>13.04</td>\n",
       "      <td>191.3</td>\n",
       "      <td>...</td>\n",
       "      <td>0.0</td>\n",
       "      <td>0.0</td>\n",
       "      <td>0.0</td>\n",
       "      <td>1.0</td>\n",
       "      <td>0.0</td>\n",
       "      <td>0.0</td>\n",
       "      <td>0.0</td>\n",
       "      <td>0.0</td>\n",
       "      <td>0.0</td>\n",
       "      <td>0.0</td>\n",
       "    </tr>\n",
       "    <tr>\n",
       "      <th>3330</th>\n",
       "      <td>28</td>\n",
       "      <td>510</td>\n",
       "      <td>0</td>\n",
       "      <td>180.8</td>\n",
       "      <td>109</td>\n",
       "      <td>30.74</td>\n",
       "      <td>288.8</td>\n",
       "      <td>58</td>\n",
       "      <td>24.55</td>\n",
       "      <td>191.9</td>\n",
       "      <td>...</td>\n",
       "      <td>0.0</td>\n",
       "      <td>0.0</td>\n",
       "      <td>1.0</td>\n",
       "      <td>0.0</td>\n",
       "      <td>0.0</td>\n",
       "      <td>0.0</td>\n",
       "      <td>0.0</td>\n",
       "      <td>0.0</td>\n",
       "      <td>0.0</td>\n",
       "      <td>0.0</td>\n",
       "    </tr>\n",
       "    <tr>\n",
       "      <th>3331</th>\n",
       "      <td>184</td>\n",
       "      <td>510</td>\n",
       "      <td>0</td>\n",
       "      <td>213.8</td>\n",
       "      <td>105</td>\n",
       "      <td>36.35</td>\n",
       "      <td>159.6</td>\n",
       "      <td>84</td>\n",
       "      <td>13.57</td>\n",
       "      <td>139.2</td>\n",
       "      <td>...</td>\n",
       "      <td>0.0</td>\n",
       "      <td>0.0</td>\n",
       "      <td>1.0</td>\n",
       "      <td>0.0</td>\n",
       "      <td>0.0</td>\n",
       "      <td>0.0</td>\n",
       "      <td>0.0</td>\n",
       "      <td>0.0</td>\n",
       "      <td>0.0</td>\n",
       "      <td>0.0</td>\n",
       "    </tr>\n",
       "    <tr>\n",
       "      <th>3332</th>\n",
       "      <td>74</td>\n",
       "      <td>415</td>\n",
       "      <td>25</td>\n",
       "      <td>234.4</td>\n",
       "      <td>113</td>\n",
       "      <td>39.85</td>\n",
       "      <td>265.9</td>\n",
       "      <td>82</td>\n",
       "      <td>22.60</td>\n",
       "      <td>241.4</td>\n",
       "      <td>...</td>\n",
       "      <td>1.0</td>\n",
       "      <td>0.0</td>\n",
       "      <td>0.0</td>\n",
       "      <td>0.0</td>\n",
       "      <td>0.0</td>\n",
       "      <td>0.0</td>\n",
       "      <td>0.0</td>\n",
       "      <td>0.0</td>\n",
       "      <td>0.0</td>\n",
       "      <td>0.0</td>\n",
       "    </tr>\n",
       "  </tbody>\n",
       "</table>\n",
       "<p>3333 rows × 32 columns</p>\n",
       "</div>"
      ],
      "text/plain": [
       "      account_length  area_code  number_vmail_messages  total_day_minutes  \\\n",
       "0                128        415                     25              265.1   \n",
       "1                107        415                     26              161.6   \n",
       "2                137        415                      0              243.4   \n",
       "3                 84        408                      0              299.4   \n",
       "4                 75        415                      0              166.7   \n",
       "...              ...        ...                    ...                ...   \n",
       "3328             192        415                     36              156.2   \n",
       "3329              68        415                      0              231.1   \n",
       "3330              28        510                      0              180.8   \n",
       "3331             184        510                      0              213.8   \n",
       "3332              74        415                     25              234.4   \n",
       "\n",
       "      total_day_calls  total_day_charge  total_eve_minutes  total_eve_calls  \\\n",
       "0                 110             45.07              197.4               99   \n",
       "1                 123             27.47              195.5              103   \n",
       "2                 114             41.38              121.2              110   \n",
       "3                  71             50.90               61.9               88   \n",
       "4                 113             28.34              148.3              122   \n",
       "...               ...               ...                ...              ...   \n",
       "3328               77             26.55              215.5              126   \n",
       "3329               57             39.29              153.4               55   \n",
       "3330              109             30.74              288.8               58   \n",
       "3331              105             36.35              159.6               84   \n",
       "3332              113             39.85              265.9               82   \n",
       "\n",
       "      total_eve_charge  total_night_minutes  ...  customer_service_calls_0  \\\n",
       "0                16.78                244.7  ...                       0.0   \n",
       "1                16.62                254.4  ...                       0.0   \n",
       "2                10.30                162.6  ...                       1.0   \n",
       "3                 5.26                196.9  ...                       0.0   \n",
       "4                12.61                186.9  ...                       0.0   \n",
       "...                ...                  ...  ...                       ...   \n",
       "3328             18.32                279.1  ...                       0.0   \n",
       "3329             13.04                191.3  ...                       0.0   \n",
       "3330             24.55                191.9  ...                       0.0   \n",
       "3331             13.57                139.2  ...                       0.0   \n",
       "3332             22.60                241.4  ...                       1.0   \n",
       "\n",
       "      customer_service_calls_1  customer_service_calls_2  \\\n",
       "0                          1.0                       0.0   \n",
       "1                          1.0                       0.0   \n",
       "2                          0.0                       0.0   \n",
       "3                          0.0                       1.0   \n",
       "4                          0.0                       0.0   \n",
       "...                        ...                       ...   \n",
       "3328                       0.0                       1.0   \n",
       "3329                       0.0                       0.0   \n",
       "3330                       0.0                       1.0   \n",
       "3331                       0.0                       1.0   \n",
       "3332                       0.0                       0.0   \n",
       "\n",
       "      customer_service_calls_3  customer_service_calls_4  \\\n",
       "0                          0.0                       0.0   \n",
       "1                          0.0                       0.0   \n",
       "2                          0.0                       0.0   \n",
       "3                          0.0                       0.0   \n",
       "4                          1.0                       0.0   \n",
       "...                        ...                       ...   \n",
       "3328                       0.0                       0.0   \n",
       "3329                       1.0                       0.0   \n",
       "3330                       0.0                       0.0   \n",
       "3331                       0.0                       0.0   \n",
       "3332                       0.0                       0.0   \n",
       "\n",
       "      customer_service_calls_5  customer_service_calls_6  \\\n",
       "0                          0.0                       0.0   \n",
       "1                          0.0                       0.0   \n",
       "2                          0.0                       0.0   \n",
       "3                          0.0                       0.0   \n",
       "4                          0.0                       0.0   \n",
       "...                        ...                       ...   \n",
       "3328                       0.0                       0.0   \n",
       "3329                       0.0                       0.0   \n",
       "3330                       0.0                       0.0   \n",
       "3331                       0.0                       0.0   \n",
       "3332                       0.0                       0.0   \n",
       "\n",
       "      customer_service_calls_7  customer_service_calls_8  \\\n",
       "0                          0.0                       0.0   \n",
       "1                          0.0                       0.0   \n",
       "2                          0.0                       0.0   \n",
       "3                          0.0                       0.0   \n",
       "4                          0.0                       0.0   \n",
       "...                        ...                       ...   \n",
       "3328                       0.0                       0.0   \n",
       "3329                       0.0                       0.0   \n",
       "3330                       0.0                       0.0   \n",
       "3331                       0.0                       0.0   \n",
       "3332                       0.0                       0.0   \n",
       "\n",
       "      customer_service_calls_9  \n",
       "0                          0.0  \n",
       "1                          0.0  \n",
       "2                          0.0  \n",
       "3                          0.0  \n",
       "4                          0.0  \n",
       "...                        ...  \n",
       "3328                       0.0  \n",
       "3329                       0.0  \n",
       "3330                       0.0  \n",
       "3331                       0.0  \n",
       "3332                       0.0  \n",
       "\n",
       "[3333 rows x 32 columns]"
      ]
     },
     "execution_count": 22,
     "metadata": {},
     "output_type": "execute_result"
    }
   ],
   "source": [
    "cleaned_df_2 = cleaned_df.copy()\n",
    "cleaned_df_2"
   ]
  },
  {
   "cell_type": "markdown",
   "metadata": {},
   "source": [
    "## Dropping Unecessary Columns"
   ]
  },
  {
   "cell_type": "code",
   "execution_count": 23,
   "metadata": {
    "ExecuteTime": {
     "end_time": "2022-02-25T15:33:00.856354Z",
     "start_time": "2022-02-25T15:33:00.853847Z"
    }
   },
   "outputs": [],
   "source": [
    "cleaned_df_2 = cleaned_df_2.drop(columns=['area_code'], axis=1)"
   ]
  },
  {
   "cell_type": "markdown",
   "metadata": {},
   "source": [
    "## Dropping one value for categoricals"
   ]
  },
  {
   "cell_type": "code",
   "execution_count": 24,
   "metadata": {
    "ExecuteTime": {
     "end_time": "2022-02-25T15:33:00.871801Z",
     "start_time": "2022-02-25T15:33:00.859308Z"
    }
   },
   "outputs": [
    {
     "data": {
      "text/html": [
       "<div>\n",
       "<style scoped>\n",
       "    .dataframe tbody tr th:only-of-type {\n",
       "        vertical-align: middle;\n",
       "    }\n",
       "\n",
       "    .dataframe tbody tr th {\n",
       "        vertical-align: top;\n",
       "    }\n",
       "\n",
       "    .dataframe thead th {\n",
       "        text-align: right;\n",
       "    }\n",
       "</style>\n",
       "<table border=\"1\" class=\"dataframe\">\n",
       "  <thead>\n",
       "    <tr style=\"text-align: right;\">\n",
       "      <th></th>\n",
       "      <th>account_length</th>\n",
       "      <th>number_vmail_messages</th>\n",
       "      <th>total_day_minutes</th>\n",
       "      <th>total_day_calls</th>\n",
       "      <th>total_day_charge</th>\n",
       "      <th>total_eve_minutes</th>\n",
       "      <th>total_eve_calls</th>\n",
       "      <th>total_eve_charge</th>\n",
       "      <th>total_night_minutes</th>\n",
       "      <th>total_night_calls</th>\n",
       "      <th>...</th>\n",
       "      <th>customer_service_calls_0</th>\n",
       "      <th>customer_service_calls_1</th>\n",
       "      <th>customer_service_calls_2</th>\n",
       "      <th>customer_service_calls_3</th>\n",
       "      <th>customer_service_calls_4</th>\n",
       "      <th>customer_service_calls_5</th>\n",
       "      <th>customer_service_calls_6</th>\n",
       "      <th>customer_service_calls_7</th>\n",
       "      <th>customer_service_calls_8</th>\n",
       "      <th>customer_service_calls_9</th>\n",
       "    </tr>\n",
       "  </thead>\n",
       "  <tbody>\n",
       "    <tr>\n",
       "      <th>0</th>\n",
       "      <td>128</td>\n",
       "      <td>25</td>\n",
       "      <td>265.1</td>\n",
       "      <td>110</td>\n",
       "      <td>45.07</td>\n",
       "      <td>197.4</td>\n",
       "      <td>99</td>\n",
       "      <td>16.78</td>\n",
       "      <td>244.7</td>\n",
       "      <td>91</td>\n",
       "      <td>...</td>\n",
       "      <td>0.0</td>\n",
       "      <td>1.0</td>\n",
       "      <td>0.0</td>\n",
       "      <td>0.0</td>\n",
       "      <td>0.0</td>\n",
       "      <td>0.0</td>\n",
       "      <td>0.0</td>\n",
       "      <td>0.0</td>\n",
       "      <td>0.0</td>\n",
       "      <td>0.0</td>\n",
       "    </tr>\n",
       "    <tr>\n",
       "      <th>1</th>\n",
       "      <td>107</td>\n",
       "      <td>26</td>\n",
       "      <td>161.6</td>\n",
       "      <td>123</td>\n",
       "      <td>27.47</td>\n",
       "      <td>195.5</td>\n",
       "      <td>103</td>\n",
       "      <td>16.62</td>\n",
       "      <td>254.4</td>\n",
       "      <td>103</td>\n",
       "      <td>...</td>\n",
       "      <td>0.0</td>\n",
       "      <td>1.0</td>\n",
       "      <td>0.0</td>\n",
       "      <td>0.0</td>\n",
       "      <td>0.0</td>\n",
       "      <td>0.0</td>\n",
       "      <td>0.0</td>\n",
       "      <td>0.0</td>\n",
       "      <td>0.0</td>\n",
       "      <td>0.0</td>\n",
       "    </tr>\n",
       "  </tbody>\n",
       "</table>\n",
       "<p>2 rows × 29 columns</p>\n",
       "</div>"
      ],
      "text/plain": [
       "   account_length  number_vmail_messages  total_day_minutes  total_day_calls  \\\n",
       "0             128                     25              265.1              110   \n",
       "1             107                     26              161.6              123   \n",
       "\n",
       "   total_day_charge  total_eve_minutes  total_eve_calls  total_eve_charge  \\\n",
       "0             45.07              197.4               99             16.78   \n",
       "1             27.47              195.5              103             16.62   \n",
       "\n",
       "   total_night_minutes  total_night_calls  ...  customer_service_calls_0  \\\n",
       "0                244.7                 91  ...                       0.0   \n",
       "1                254.4                103  ...                       0.0   \n",
       "\n",
       "   customer_service_calls_1  customer_service_calls_2  \\\n",
       "0                       1.0                       0.0   \n",
       "1                       1.0                       0.0   \n",
       "\n",
       "   customer_service_calls_3  customer_service_calls_4  \\\n",
       "0                       0.0                       0.0   \n",
       "1                       0.0                       0.0   \n",
       "\n",
       "   customer_service_calls_5  customer_service_calls_6  \\\n",
       "0                       0.0                       0.0   \n",
       "1                       0.0                       0.0   \n",
       "\n",
       "   customer_service_calls_7  customer_service_calls_8  \\\n",
       "0                       0.0                       0.0   \n",
       "1                       0.0                       0.0   \n",
       "\n",
       "   customer_service_calls_9  \n",
       "0                       0.0  \n",
       "1                       0.0  \n",
       "\n",
       "[2 rows x 29 columns]"
      ]
     },
     "execution_count": 24,
     "metadata": {},
     "output_type": "execute_result"
    }
   ],
   "source": [
    "#Dropping a few of the redundant values.\n",
    "cleaned_df_2 = cleaned_df_2.drop(['international_plan_no', 'voice_mail_plan_no'], axis=1)\n",
    "cleaned_df_2.head(2)"
   ]
  },
  {
   "cell_type": "markdown",
   "metadata": {},
   "source": [
    "## Creating Variable: Customer Service Calls High\n",
    "- If Customer Service Calls High = 4 or more Customer Service Calls"
   ]
  },
  {
   "cell_type": "code",
   "execution_count": 25,
   "metadata": {
    "ExecuteTime": {
     "end_time": "2022-02-25T15:33:00.926835Z",
     "start_time": "2022-02-25T15:33:00.872919Z"
    }
   },
   "outputs": [],
   "source": [
    "#cs_calls_low = cleaned_df_2.apply(lambda x: x['customer_service_calls_0']+ x['customer_service_calls_1'] + x['customer_service_calls_2']\n",
    "#                              + x['customer_service_calls_3'], axis=1)\n",
    "cs_calls_high= cleaned_df_2.apply(lambda x: x['customer_service_calls_4'] + x['customer_service_calls_5']\n",
    "                              + x['customer_service_calls_6'] + x['customer_service_calls_7']\n",
    "                            + x['customer_service_calls_8']+ x['customer_service_calls_9'], axis=1)\n",
    "\n",
    "#cleaned_df['cs_calls_low'] = cs_calls_low\n",
    "cleaned_df_2['cs_calls_high'] = cs_calls_high\n",
    "\n"
   ]
  },
  {
   "cell_type": "code",
   "execution_count": 26,
   "metadata": {
    "ExecuteTime": {
     "end_time": "2022-02-25T15:33:00.938229Z",
     "start_time": "2022-02-25T15:33:00.927988Z"
    }
   },
   "outputs": [
    {
     "data": {
      "text/html": [
       "<div>\n",
       "<style scoped>\n",
       "    .dataframe tbody tr th:only-of-type {\n",
       "        vertical-align: middle;\n",
       "    }\n",
       "\n",
       "    .dataframe tbody tr th {\n",
       "        vertical-align: top;\n",
       "    }\n",
       "\n",
       "    .dataframe thead th {\n",
       "        text-align: right;\n",
       "    }\n",
       "</style>\n",
       "<table border=\"1\" class=\"dataframe\">\n",
       "  <thead>\n",
       "    <tr style=\"text-align: right;\">\n",
       "      <th></th>\n",
       "      <th>account_length</th>\n",
       "      <th>number_vmail_messages</th>\n",
       "      <th>total_day_minutes</th>\n",
       "      <th>total_day_calls</th>\n",
       "      <th>total_day_charge</th>\n",
       "      <th>total_eve_minutes</th>\n",
       "      <th>total_eve_calls</th>\n",
       "      <th>total_eve_charge</th>\n",
       "      <th>total_night_minutes</th>\n",
       "      <th>total_night_calls</th>\n",
       "      <th>total_night_charge</th>\n",
       "      <th>total_intl_minutes</th>\n",
       "      <th>total_intl_calls</th>\n",
       "      <th>total_intl_charge</th>\n",
       "      <th>customer_service_calls</th>\n",
       "      <th>churn</th>\n",
       "      <th>total_charge</th>\n",
       "      <th>international_plan_yes</th>\n",
       "      <th>voice_mail_plan_yes</th>\n",
       "      <th>cs_calls_high</th>\n",
       "    </tr>\n",
       "  </thead>\n",
       "  <tbody>\n",
       "    <tr>\n",
       "      <th>0</th>\n",
       "      <td>128</td>\n",
       "      <td>25</td>\n",
       "      <td>265.1</td>\n",
       "      <td>110</td>\n",
       "      <td>45.07</td>\n",
       "      <td>197.4</td>\n",
       "      <td>99</td>\n",
       "      <td>16.78</td>\n",
       "      <td>244.7</td>\n",
       "      <td>91</td>\n",
       "      <td>11.01</td>\n",
       "      <td>10.0</td>\n",
       "      <td>3</td>\n",
       "      <td>2.7</td>\n",
       "      <td>1</td>\n",
       "      <td>0</td>\n",
       "      <td>75.56</td>\n",
       "      <td>0.0</td>\n",
       "      <td>1.0</td>\n",
       "      <td>0.0</td>\n",
       "    </tr>\n",
       "    <tr>\n",
       "      <th>1</th>\n",
       "      <td>107</td>\n",
       "      <td>26</td>\n",
       "      <td>161.6</td>\n",
       "      <td>123</td>\n",
       "      <td>27.47</td>\n",
       "      <td>195.5</td>\n",
       "      <td>103</td>\n",
       "      <td>16.62</td>\n",
       "      <td>254.4</td>\n",
       "      <td>103</td>\n",
       "      <td>11.45</td>\n",
       "      <td>13.7</td>\n",
       "      <td>3</td>\n",
       "      <td>3.7</td>\n",
       "      <td>1</td>\n",
       "      <td>0</td>\n",
       "      <td>59.24</td>\n",
       "      <td>0.0</td>\n",
       "      <td>1.0</td>\n",
       "      <td>0.0</td>\n",
       "    </tr>\n",
       "  </tbody>\n",
       "</table>\n",
       "</div>"
      ],
      "text/plain": [
       "   account_length  number_vmail_messages  total_day_minutes  total_day_calls  \\\n",
       "0             128                     25              265.1              110   \n",
       "1             107                     26              161.6              123   \n",
       "\n",
       "   total_day_charge  total_eve_minutes  total_eve_calls  total_eve_charge  \\\n",
       "0             45.07              197.4               99             16.78   \n",
       "1             27.47              195.5              103             16.62   \n",
       "\n",
       "   total_night_minutes  total_night_calls  total_night_charge  \\\n",
       "0                244.7                 91               11.01   \n",
       "1                254.4                103               11.45   \n",
       "\n",
       "   total_intl_minutes  total_intl_calls  total_intl_charge  \\\n",
       "0                10.0                 3                2.7   \n",
       "1                13.7                 3                3.7   \n",
       "\n",
       "   customer_service_calls  churn  total_charge  international_plan_yes  \\\n",
       "0                       1      0         75.56                     0.0   \n",
       "1                       1      0         59.24                     0.0   \n",
       "\n",
       "   voice_mail_plan_yes  cs_calls_high  \n",
       "0                  1.0            0.0  \n",
       "1                  1.0            0.0  "
      ]
     },
     "execution_count": 26,
     "metadata": {},
     "output_type": "execute_result"
    }
   ],
   "source": [
    "cleaned_df_2 = cleaned_df_2.drop(['customer_service_calls_0', 'customer_service_calls_1','customer_service_calls_2','customer_service_calls_3',\n",
    "                     'customer_service_calls_4','customer_service_calls_5','customer_service_calls_6',\n",
    "                     'customer_service_calls_7','customer_service_calls_8','customer_service_calls_9']\n",
    "                    , axis=1)\n",
    "cleaned_df_2.head(2)"
   ]
  },
  {
   "cell_type": "code",
   "execution_count": 27,
   "metadata": {
    "ExecuteTime": {
     "end_time": "2022-02-25T15:33:00.940599Z",
     "start_time": "2022-02-25T15:33:00.939162Z"
    }
   },
   "outputs": [],
   "source": [
    "#dropping cs_calls_low as it is redundant since this is now a binary choice.\n",
    "#ohe_df = ohe_df.drop(['cs_calls_low', 'customer_service_calls_0'], axis=1)\n",
    "#cleaned_df_2= cleaned_df_2.drop(['customer_service_calls_0'], axis=1)"
   ]
  },
  {
   "cell_type": "code",
   "execution_count": 28,
   "metadata": {
    "ExecuteTime": {
     "end_time": "2022-02-25T15:33:00.980852Z",
     "start_time": "2022-02-25T15:33:00.941560Z"
    }
   },
   "outputs": [],
   "source": [
    "total_charge = cleaned_df_2.apply(lambda x: x['total_day_charge'] + x['total_eve_charge'] +x['total_night_charge']\n",
    "                             +x['total_intl_charge'], axis=1)\n",
    "cleaned_df_2['total_charge']= total_charge"
   ]
  },
  {
   "cell_type": "markdown",
   "metadata": {},
   "source": [
    "## Creating Model DataFrame"
   ]
  },
  {
   "cell_type": "code",
   "execution_count": 29,
   "metadata": {
    "ExecuteTime": {
     "end_time": "2022-02-25T15:33:00.987622Z",
     "start_time": "2022-02-25T15:33:00.981841Z"
    }
   },
   "outputs": [
    {
     "name": "stdout",
     "output_type": "stream",
     "text": [
      "<class 'pandas.core.frame.DataFrame'>\n",
      "RangeIndex: 3333 entries, 0 to 3332\n",
      "Data columns (total 20 columns):\n",
      " #   Column                  Non-Null Count  Dtype  \n",
      "---  ------                  --------------  -----  \n",
      " 0   account_length          3333 non-null   int64  \n",
      " 1   number_vmail_messages   3333 non-null   int64  \n",
      " 2   total_day_minutes       3333 non-null   float64\n",
      " 3   total_day_calls         3333 non-null   int64  \n",
      " 4   total_day_charge        3333 non-null   float64\n",
      " 5   total_eve_minutes       3333 non-null   float64\n",
      " 6   total_eve_calls         3333 non-null   int64  \n",
      " 7   total_eve_charge        3333 non-null   float64\n",
      " 8   total_night_minutes     3333 non-null   float64\n",
      " 9   total_night_calls       3333 non-null   int64  \n",
      " 10  total_night_charge      3333 non-null   float64\n",
      " 11  total_intl_minutes      3333 non-null   float64\n",
      " 12  total_intl_calls        3333 non-null   int64  \n",
      " 13  total_intl_charge       3333 non-null   float64\n",
      " 14  customer_service_calls  3333 non-null   int64  \n",
      " 15  churn                   3333 non-null   int64  \n",
      " 16  total_charge            3333 non-null   float64\n",
      " 17  international_plan_yes  3333 non-null   float64\n",
      " 18  voice_mail_plan_yes     3333 non-null   float64\n",
      " 19  cs_calls_high           3333 non-null   float64\n",
      "dtypes: float64(12), int64(8)\n",
      "memory usage: 520.9 KB\n"
     ]
    }
   ],
   "source": [
    "model_df = cleaned_df_2.copy()\n",
    "model_df.info()"
   ]
  },
  {
   "cell_type": "code",
   "execution_count": 30,
   "metadata": {
    "ExecuteTime": {
     "end_time": "2022-02-25T15:33:00.990969Z",
     "start_time": "2022-02-25T15:33:00.988605Z"
    }
   },
   "outputs": [],
   "source": [
    "model_df=model_df.drop(['customer_service_calls','total_day_charge', 'total_eve_charge', 'total_night_charge', 'total_intl_charge']\n",
    "                           , axis=1)"
   ]
  },
  {
   "cell_type": "code",
   "execution_count": 31,
   "metadata": {
    "ExecuteTime": {
     "end_time": "2022-02-25T15:33:00.997382Z",
     "start_time": "2022-02-25T15:33:00.992020Z"
    }
   },
   "outputs": [
    {
     "name": "stdout",
     "output_type": "stream",
     "text": [
      "<class 'pandas.core.frame.DataFrame'>\n",
      "RangeIndex: 3333 entries, 0 to 3332\n",
      "Data columns (total 15 columns):\n",
      " #   Column                  Non-Null Count  Dtype  \n",
      "---  ------                  --------------  -----  \n",
      " 0   account_length          3333 non-null   int64  \n",
      " 1   number_vmail_messages   3333 non-null   int64  \n",
      " 2   total_day_minutes       3333 non-null   float64\n",
      " 3   total_day_calls         3333 non-null   int64  \n",
      " 4   total_eve_minutes       3333 non-null   float64\n",
      " 5   total_eve_calls         3333 non-null   int64  \n",
      " 6   total_night_minutes     3333 non-null   float64\n",
      " 7   total_night_calls       3333 non-null   int64  \n",
      " 8   total_intl_minutes      3333 non-null   float64\n",
      " 9   total_intl_calls        3333 non-null   int64  \n",
      " 10  churn                   3333 non-null   int64  \n",
      " 11  total_charge            3333 non-null   float64\n",
      " 12  international_plan_yes  3333 non-null   float64\n",
      " 13  voice_mail_plan_yes     3333 non-null   float64\n",
      " 14  cs_calls_high           3333 non-null   float64\n",
      "dtypes: float64(8), int64(7)\n",
      "memory usage: 390.7 KB\n"
     ]
    }
   ],
   "source": [
    "model_df.info()"
   ]
  },
  {
   "cell_type": "markdown",
   "metadata": {},
   "source": [
    "# Decision Tree 2"
   ]
  },
  {
   "cell_type": "code",
   "execution_count": 32,
   "metadata": {
    "ExecuteTime": {
     "end_time": "2022-02-25T15:33:01.000770Z",
     "start_time": "2022-02-25T15:33:00.998416Z"
    }
   },
   "outputs": [],
   "source": [
    "#Setting Target\n",
    "X = model_df.drop(['churn'], axis=1)\n",
    "y = model_df['churn']"
   ]
  },
  {
   "cell_type": "code",
   "execution_count": 33,
   "metadata": {
    "ExecuteTime": {
     "end_time": "2022-02-25T15:33:01.005031Z",
     "start_time": "2022-02-25T15:33:01.001785Z"
    }
   },
   "outputs": [],
   "source": [
    "#X_train, X_test, y_train, y_test = train_test_split(X, y, test_size=.25, stratify=y, random_state=23)\n",
    "X_train, X_test, y_train, y_test = train_test_split(X, y, test_size=.25, random_state=23)"
   ]
  },
  {
   "cell_type": "code",
   "execution_count": 34,
   "metadata": {
    "ExecuteTime": {
     "end_time": "2022-02-25T15:33:01.007380Z",
     "start_time": "2022-02-25T15:33:01.006023Z"
    }
   },
   "outputs": [],
   "source": [
    "#dtree_1 = DecisionTreeClassifier(random_state=23)\n",
    "#dtree_1.fit(X_train, y_train)\n",
    "#dt1_y_pred = dtree_1.predict(X_test)"
   ]
  },
  {
   "cell_type": "code",
   "execution_count": 35,
   "metadata": {
    "ExecuteTime": {
     "end_time": "2022-02-25T15:33:01.027464Z",
     "start_time": "2022-02-25T15:33:01.008367Z"
    }
   },
   "outputs": [],
   "source": [
    "dt2 = DecisionTreeClassifier(random_state=23)\n",
    "dt2.fit(X_train, y_train)\n",
    "dt2_y_pred = dt2.predict(X_test)"
   ]
  },
  {
   "cell_type": "code",
   "execution_count": 36,
   "metadata": {
    "ExecuteTime": {
     "end_time": "2022-02-25T15:33:01.034549Z",
     "start_time": "2022-02-25T15:33:01.028584Z"
    }
   },
   "outputs": [
    {
     "name": "stdout",
     "output_type": "stream",
     "text": [
      "Accuracy is :96.1630695443645\n",
      "Precision is :86.15384615384616\n",
      "Recall is :88.88888888888889\n",
      "F1 Score is :87.50000000000001\n",
      "ROC AUC is :0.93\n"
     ]
    }
   ],
   "source": [
    "get_metrics(dt2, dt2_y_pred)"
   ]
  },
  {
   "cell_type": "code",
   "execution_count": 37,
   "metadata": {
    "ExecuteTime": {
     "end_time": "2022-02-25T15:33:01.066133Z",
     "start_time": "2022-02-25T15:33:01.036040Z"
    }
   },
   "outputs": [
    {
     "name": "stdout",
     "output_type": "stream",
     "text": [
      "\n",
      " DT 2 Confusion Matrix\n",
      "----------------\n"
     ]
    },
    {
     "data": {
      "text/html": [
       "<div>\n",
       "<style scoped>\n",
       "    .dataframe tbody tr th:only-of-type {\n",
       "        vertical-align: middle;\n",
       "    }\n",
       "\n",
       "    .dataframe tbody tr th {\n",
       "        vertical-align: top;\n",
       "    }\n",
       "\n",
       "    .dataframe thead th {\n",
       "        text-align: right;\n",
       "    }\n",
       "</style>\n",
       "<table border=\"1\" class=\"dataframe\">\n",
       "  <thead>\n",
       "    <tr style=\"text-align: right;\">\n",
       "      <th>Predicted</th>\n",
       "      <th>0</th>\n",
       "      <th>1</th>\n",
       "      <th>All</th>\n",
       "    </tr>\n",
       "    <tr>\n",
       "      <th>True</th>\n",
       "      <th></th>\n",
       "      <th></th>\n",
       "      <th></th>\n",
       "    </tr>\n",
       "  </thead>\n",
       "  <tbody>\n",
       "    <tr>\n",
       "      <th>0</th>\n",
       "      <td>690</td>\n",
       "      <td>18</td>\n",
       "      <td>708</td>\n",
       "    </tr>\n",
       "    <tr>\n",
       "      <th>1</th>\n",
       "      <td>14</td>\n",
       "      <td>112</td>\n",
       "      <td>126</td>\n",
       "    </tr>\n",
       "    <tr>\n",
       "      <th>All</th>\n",
       "      <td>704</td>\n",
       "      <td>130</td>\n",
       "      <td>834</td>\n",
       "    </tr>\n",
       "  </tbody>\n",
       "</table>\n",
       "</div>"
      ],
      "text/plain": [
       "Predicted    0    1  All\n",
       "True                    \n",
       "0          690   18  708\n",
       "1           14  112  126\n",
       "All        704  130  834"
      ]
     },
     "execution_count": 37,
     "metadata": {},
     "output_type": "execute_result"
    }
   ],
   "source": [
    "# Create and print a confusion matrix \n",
    "print('\\n DT 2 Confusion Matrix')\n",
    "print('----------------')\n",
    "pd.crosstab(y_test, dt2_y_pred, rownames=['True'], colnames=['Predicted'], margins=True)"
   ]
  },
  {
   "cell_type": "markdown",
   "metadata": {},
   "source": [
    "### Analysis"
   ]
  },
  {
   "cell_type": "markdown",
   "metadata": {},
   "source": [
    "### Analysis of Accuracy, AUC, and Confusion Matrix\n",
    "- Analysis goes HERE\n",
    "- AND HERE\n",
    "- AND HERE!"
   ]
  },
  {
   "cell_type": "markdown",
   "metadata": {
    "ExecuteTime": {
     "end_time": "2022-02-24T19:47:24.241054Z",
     "start_time": "2022-02-24T19:47:24.237331Z"
    }
   },
   "source": [
    "# Dealing With Churn Class Imbalance \n",
    "- adding class weight Decision Tree Classifier\n",
    "- Adding stratify to Test Train Split\n",
    "- Adding SMOTE to Dataset."
   ]
  },
  {
   "cell_type": "code",
   "execution_count": 38,
   "metadata": {
    "ExecuteTime": {
     "end_time": "2022-02-25T15:33:01.082417Z",
     "start_time": "2022-02-25T15:33:01.066982Z"
    }
   },
   "outputs": [],
   "source": [
    "balanced_df = model_df.copy()\n",
    "\n",
    "X = balanced_df.drop(['churn'], axis=1)\n",
    "y = balanced_df['churn']\n",
    "\n",
    "X_train, X_test, y_train, y_test = train_test_split(X, y, test_size=.25, stratify=y, random_state=23)\n",
    "\n",
    "smote = SMOTE()\n",
    "X_train_resampled, y_train_resampled = smote.fit_sample(X_train, y_train) "
   ]
  },
  {
   "cell_type": "markdown",
   "metadata": {},
   "source": [
    "# Decision Tree 3"
   ]
  },
  {
   "cell_type": "code",
   "execution_count": 39,
   "metadata": {
    "ExecuteTime": {
     "end_time": "2022-02-25T15:33:01.105557Z",
     "start_time": "2022-02-25T15:33:01.083434Z"
    }
   },
   "outputs": [],
   "source": [
    "dt3 = DecisionTreeClassifier(random_state=23, class_weight=\"balanced\")\n",
    "dt3.fit(X_train_resampled, y_train_resampled)\n",
    "dt3_y_pred = dt3.predict(X_test)"
   ]
  },
  {
   "cell_type": "code",
   "execution_count": 40,
   "metadata": {
    "ExecuteTime": {
     "end_time": "2022-02-25T15:33:01.112102Z",
     "start_time": "2022-02-25T15:33:01.106667Z"
    }
   },
   "outputs": [
    {
     "name": "stdout",
     "output_type": "stream",
     "text": [
      "Accuracy is :94.7242206235012\n",
      "Precision is :80.80000000000001\n",
      "Recall is :83.47107438016529\n",
      "F1 Score is :82.11382113821138\n",
      "ROC AUC is :0.9\n"
     ]
    }
   ],
   "source": [
    "get_metrics(dt3, dt3_y_pred)"
   ]
  },
  {
   "cell_type": "markdown",
   "metadata": {},
   "source": [
    "## Refinig Decision Tree through GridSearchCV"
   ]
  },
  {
   "cell_type": "code",
   "execution_count": 41,
   "metadata": {
    "ExecuteTime": {
     "end_time": "2022-02-25T15:33:01.114353Z",
     "start_time": "2022-02-25T15:33:01.113032Z"
    }
   },
   "outputs": [],
   "source": [
    "#2/22 added class weight parameter\n",
    "#dtree_2 = DecisionTreeClassifier(random_state=23, class_weight=\"balanced\")"
   ]
  },
  {
   "cell_type": "code",
   "execution_count": 42,
   "metadata": {
    "ExecuteTime": {
     "end_time": "2022-02-25T15:33:01.117276Z",
     "start_time": "2022-02-25T15:33:01.115349Z"
    }
   },
   "outputs": [],
   "source": [
    "dt_param_grid = {\n",
    "    'criterion': ['gini', 'entropy'],\n",
    "    'max_depth': [None, 2, 3, 4, 5, 6],\n",
    "    'min_samples_split': [2, 5, 10],\n",
    "    'min_samples_leaf': [1, 2, 3, 4, 5, 6]\n",
    "}"
   ]
  },
  {
   "cell_type": "code",
   "execution_count": 43,
   "metadata": {
    "ExecuteTime": {
     "end_time": "2022-02-25T15:33:10.974765Z",
     "start_time": "2022-02-25T15:33:01.118188Z"
    }
   },
   "outputs": [
    {
     "data": {
      "text/plain": [
       "GridSearchCV(cv=3,\n",
       "             estimator=DecisionTreeClassifier(class_weight='balanced',\n",
       "                                              random_state=23),\n",
       "             param_grid={'criterion': ['gini', 'entropy'],\n",
       "                         'max_depth': [None, 2, 3, 4, 5, 6],\n",
       "                         'min_samples_leaf': [1, 2, 3, 4, 5, 6],\n",
       "                         'min_samples_split': [2, 5, 10]},\n",
       "             return_train_score=True, scoring='f1')"
      ]
     },
     "execution_count": 43,
     "metadata": {},
     "output_type": "execute_result"
    }
   ],
   "source": [
    "# Instantiate GridSearchCV\n",
    "#dt3_grid_search = GridSearchCV(dt3, dt_param_grid, cv=3, scoring = 'recall', return_train_score=True)\n",
    "dt3_grid_search = GridSearchCV(dt3, dt_param_grid, cv=3, scoring = 'f1', return_train_score=True)\n",
    "\n",
    "# Fit to the data\n",
    "dt3_grid_search.fit(X_train_resampled, y_train_resampled)"
   ]
  },
  {
   "cell_type": "code",
   "execution_count": 44,
   "metadata": {
    "ExecuteTime": {
     "end_time": "2022-02-25T15:33:10.981827Z",
     "start_time": "2022-02-25T15:33:10.976669Z"
    }
   },
   "outputs": [
    {
     "data": {
      "text/plain": [
       "{'criterion': 'entropy',\n",
       " 'max_depth': 6,\n",
       " 'min_samples_leaf': 4,\n",
       " 'min_samples_split': 2}"
      ]
     },
     "execution_count": 44,
     "metadata": {},
     "output_type": "execute_result"
    }
   ],
   "source": [
    "dt3_grid_search.best_params_"
   ]
  },
  {
   "cell_type": "markdown",
   "metadata": {
    "ExecuteTime": {
     "end_time": "2022-02-24T20:01:07.364500Z",
     "start_time": "2022-02-24T20:01:07.361523Z"
    }
   },
   "source": [
    "# Decision Tree 4 (Using Grid Search Parameters)"
   ]
  },
  {
   "cell_type": "code",
   "execution_count": 45,
   "metadata": {
    "ExecuteTime": {
     "end_time": "2022-02-25T15:33:11.009648Z",
     "start_time": "2022-02-25T15:33:10.983233Z"
    }
   },
   "outputs": [],
   "source": [
    "dt4 = DecisionTreeClassifier(criterion='entropy', max_depth=6, min_samples_split=2,\n",
    "                             min_samples_leaf=3, class_weight='balanced', random_state=23)\n",
    "dt4.fit(X_train_resampled, y_train_resampled)\n",
    "dt4_y_pred = dt4.predict(X_test)"
   ]
  },
  {
   "cell_type": "code",
   "execution_count": 46,
   "metadata": {
    "ExecuteTime": {
     "end_time": "2022-02-25T15:33:11.024314Z",
     "start_time": "2022-02-25T15:33:11.012098Z"
    }
   },
   "outputs": [
    {
     "name": "stdout",
     "output_type": "stream",
     "text": [
      "Accuracy is :97.3621103117506\n",
      "Precision is :99.00990099009901\n",
      "Recall is :82.64462809917356\n",
      "F1 Score is :90.0900900900901\n",
      "ROC AUC is :0.91\n"
     ]
    }
   ],
   "source": [
    "get_metrics(dt4, dt4_y_pred)"
   ]
  },
  {
   "cell_type": "code",
   "execution_count": 47,
   "metadata": {
    "ExecuteTime": {
     "end_time": "2022-02-25T15:33:11.028697Z",
     "start_time": "2022-02-25T15:33:11.025558Z"
    }
   },
   "outputs": [],
   "source": [
    "# Mean training score\n",
    "#dt3_gs_training_score = np.mean(dt3_grid_search.cv_results_['mean_train_score'])\n",
    "\n",
    "# Mean test score\n",
    "#dt3_gs_testing_score = dt3_grid_search.score(X_test, y_test)\n",
    "\n",
    "#print(f\"DTree 2 Mean Training Score: {dt2_gs_training_score :.2%}\")\n",
    "#print(f\"DTree 2 Mean Test Score: {dt2_gs_testing_score :.2%}\")\n",
    "#print(\"DTree 2 Best Parameter Combination Found During Grid Search:\")\n",
    "#dt2_grid_search.best_params_"
   ]
  },
  {
   "cell_type": "markdown",
   "metadata": {
    "ExecuteTime": {
     "end_time": "2022-02-24T20:05:04.651877Z",
     "start_time": "2022-02-24T20:05:04.644324Z"
    }
   },
   "source": [
    "# Random Forests 1"
   ]
  },
  {
   "cell_type": "code",
   "execution_count": 48,
   "metadata": {
    "ExecuteTime": {
     "end_time": "2022-02-25T15:33:11.508010Z",
     "start_time": "2022-02-25T15:33:11.030054Z"
    }
   },
   "outputs": [],
   "source": [
    "rf1_clf = RandomForestClassifier(random_state=23, class_weight=\"balanced\")\n",
    "rf1_clf.fit(X_train_resampled, y_train_resampled)\n",
    "rf1_y_pred = rf1_clf.predict(X_test)"
   ]
  },
  {
   "cell_type": "code",
   "execution_count": 49,
   "metadata": {
    "ExecuteTime": {
     "end_time": "2022-02-25T15:33:11.517037Z",
     "start_time": "2022-02-25T15:33:11.509192Z"
    }
   },
   "outputs": [
    {
     "name": "stdout",
     "output_type": "stream",
     "text": [
      "Accuracy is :97.12230215827337\n",
      "Precision is :95.32710280373831\n",
      "Recall is :84.29752066115702\n",
      "F1 Score is :89.47368421052632\n",
      "ROC AUC is :0.92\n"
     ]
    }
   ],
   "source": [
    "get_metrics(rf1_clf, rf1_y_pred)"
   ]
  },
  {
   "cell_type": "code",
   "execution_count": 50,
   "metadata": {
    "ExecuteTime": {
     "end_time": "2022-02-25T15:33:11.547355Z",
     "start_time": "2022-02-25T15:33:11.518123Z"
    }
   },
   "outputs": [
    {
     "name": "stdout",
     "output_type": "stream",
     "text": [
      "\n",
      " RF 1 Confusion Matrix\n",
      "----------------\n"
     ]
    },
    {
     "data": {
      "text/html": [
       "<div>\n",
       "<style scoped>\n",
       "    .dataframe tbody tr th:only-of-type {\n",
       "        vertical-align: middle;\n",
       "    }\n",
       "\n",
       "    .dataframe tbody tr th {\n",
       "        vertical-align: top;\n",
       "    }\n",
       "\n",
       "    .dataframe thead th {\n",
       "        text-align: right;\n",
       "    }\n",
       "</style>\n",
       "<table border=\"1\" class=\"dataframe\">\n",
       "  <thead>\n",
       "    <tr style=\"text-align: right;\">\n",
       "      <th>Predicted</th>\n",
       "      <th>0</th>\n",
       "      <th>1</th>\n",
       "      <th>All</th>\n",
       "    </tr>\n",
       "    <tr>\n",
       "      <th>True</th>\n",
       "      <th></th>\n",
       "      <th></th>\n",
       "      <th></th>\n",
       "    </tr>\n",
       "  </thead>\n",
       "  <tbody>\n",
       "    <tr>\n",
       "      <th>0</th>\n",
       "      <td>708</td>\n",
       "      <td>5</td>\n",
       "      <td>713</td>\n",
       "    </tr>\n",
       "    <tr>\n",
       "      <th>1</th>\n",
       "      <td>19</td>\n",
       "      <td>102</td>\n",
       "      <td>121</td>\n",
       "    </tr>\n",
       "    <tr>\n",
       "      <th>All</th>\n",
       "      <td>727</td>\n",
       "      <td>107</td>\n",
       "      <td>834</td>\n",
       "    </tr>\n",
       "  </tbody>\n",
       "</table>\n",
       "</div>"
      ],
      "text/plain": [
       "Predicted    0    1  All\n",
       "True                    \n",
       "0          708    5  713\n",
       "1           19  102  121\n",
       "All        727  107  834"
      ]
     },
     "execution_count": 50,
     "metadata": {},
     "output_type": "execute_result"
    }
   ],
   "source": [
    "# Create and print a confusion matrix \n",
    "print('\\n RF 1 Confusion Matrix')\n",
    "print('----------------')\n",
    "pd.crosstab(y_test, rf1_y_pred, rownames=['True'], colnames=['Predicted'], margins=True)"
   ]
  },
  {
   "cell_type": "markdown",
   "metadata": {
    "ExecuteTime": {
     "end_time": "2022-02-24T20:06:40.653045Z",
     "start_time": "2022-02-24T20:06:40.648248Z"
    }
   },
   "source": [
    "## Analysis"
   ]
  },
  {
   "cell_type": "code",
   "execution_count": null,
   "metadata": {},
   "outputs": [],
   "source": []
  },
  {
   "cell_type": "markdown",
   "metadata": {},
   "source": [
    "## GridSearch CV"
   ]
  },
  {
   "cell_type": "code",
   "execution_count": 51,
   "metadata": {
    "ExecuteTime": {
     "end_time": "2022-02-25T15:33:11.550858Z",
     "start_time": "2022-02-25T15:33:11.548711Z"
    }
   },
   "outputs": [],
   "source": [
    "rf_param_grid = {\n",
    "    'n_estimators': [10, 30, 100],\n",
    "    'criterion': ['gini', 'entropy'],\n",
    "    'max_depth': [None, 2, 6, 10],\n",
    "    'min_samples_split': [5, 10],\n",
    "    'min_samples_leaf': [3, 6]\n",
    "}"
   ]
  },
  {
   "cell_type": "code",
   "execution_count": null,
   "metadata": {},
   "outputs": [],
   "source": []
  },
  {
   "cell_type": "code",
   "execution_count": 52,
   "metadata": {
    "ExecuteTime": {
     "end_time": "2022-02-25T15:33:44.895214Z",
     "start_time": "2022-02-25T15:33:11.551965Z"
    }
   },
   "outputs": [
    {
     "name": "stdout",
     "output_type": "stream",
     "text": [
      "\n",
      "Random Forest  Optimal Parameters: {'criterion': 'entropy', 'max_depth': None, 'min_samples_leaf': 3, 'min_samples_split': 5, 'n_estimators': 100}\n"
     ]
    }
   ],
   "source": [
    "#rf2_grid_search = GridSearchCV(rf2_clf, rf_param_grid, scoring = 'recall', cv=3)\n",
    "rf1_grid_search = GridSearchCV(rf1_clf, rf_param_grid, scoring = 'f1', cv=3)\n",
    "rf1_grid_search.fit(X_train_resampled, y_train_resampled)\n",
    "\n",
    "#print(f\"Random Forest 2 Training Accuracy: {rf1_grid_search.best_score_ :.2%}\")\n",
    "#print(\"\")\n",
    "# Mean test score\n",
    "#rf1_gs_testing_score = rf2_grid_search.score(X_test, y_test)\n",
    "print(\"\")\n",
    "print(f\"Random Forest  Optimal Parameters: {rf1_grid_search.best_params_}\")"
   ]
  },
  {
   "cell_type": "markdown",
   "metadata": {},
   "source": [
    "# Random Forests 2 (Using Parameters from GridSearchCV)"
   ]
  },
  {
   "cell_type": "code",
   "execution_count": 53,
   "metadata": {
    "ExecuteTime": {
     "end_time": "2022-02-25T15:33:45.346142Z",
     "start_time": "2022-02-25T15:33:44.896429Z"
    }
   },
   "outputs": [],
   "source": [
    "rf2_clf = RandomForestClassifier(criterion= 'entropy', max_depth= None, min_samples_leaf= 3,\n",
    "                                min_samples_split= 5, n_estimators= 100, random_state=23,\n",
    "                                class_weight='balanced')\n",
    "rf2_clf.fit(X_train_resampled, y_train_resampled)\n",
    "rf2_y_pred = rf2_clf.predict(X_test)"
   ]
  },
  {
   "cell_type": "code",
   "execution_count": 54,
   "metadata": {
    "ExecuteTime": {
     "end_time": "2022-02-25T15:33:45.352225Z",
     "start_time": "2022-02-25T15:33:45.347020Z"
    }
   },
   "outputs": [
    {
     "name": "stdout",
     "output_type": "stream",
     "text": [
      "Accuracy is :97.48201438848922\n",
      "Precision is :97.16981132075472\n",
      "Recall is :85.12396694214877\n",
      "F1 Score is :90.7488986784141\n",
      "ROC AUC is :0.92\n"
     ]
    }
   ],
   "source": [
    "get_metrics(rf2_clf, rf2_y_pred)"
   ]
  },
  {
   "cell_type": "code",
   "execution_count": 55,
   "metadata": {
    "ExecuteTime": {
     "end_time": "2022-02-25T15:33:45.392823Z",
     "start_time": "2022-02-25T15:33:45.353085Z"
    }
   },
   "outputs": [
    {
     "name": "stdout",
     "output_type": "stream",
     "text": [
      "\n",
      " RF 2 Confusion Matrix\n",
      "----------------\n"
     ]
    },
    {
     "data": {
      "text/html": [
       "<div>\n",
       "<style scoped>\n",
       "    .dataframe tbody tr th:only-of-type {\n",
       "        vertical-align: middle;\n",
       "    }\n",
       "\n",
       "    .dataframe tbody tr th {\n",
       "        vertical-align: top;\n",
       "    }\n",
       "\n",
       "    .dataframe thead th {\n",
       "        text-align: right;\n",
       "    }\n",
       "</style>\n",
       "<table border=\"1\" class=\"dataframe\">\n",
       "  <thead>\n",
       "    <tr style=\"text-align: right;\">\n",
       "      <th>Predicted</th>\n",
       "      <th>0</th>\n",
       "      <th>1</th>\n",
       "      <th>All</th>\n",
       "    </tr>\n",
       "    <tr>\n",
       "      <th>True</th>\n",
       "      <th></th>\n",
       "      <th></th>\n",
       "      <th></th>\n",
       "    </tr>\n",
       "  </thead>\n",
       "  <tbody>\n",
       "    <tr>\n",
       "      <th>0</th>\n",
       "      <td>710</td>\n",
       "      <td>3</td>\n",
       "      <td>713</td>\n",
       "    </tr>\n",
       "    <tr>\n",
       "      <th>1</th>\n",
       "      <td>18</td>\n",
       "      <td>103</td>\n",
       "      <td>121</td>\n",
       "    </tr>\n",
       "    <tr>\n",
       "      <th>All</th>\n",
       "      <td>728</td>\n",
       "      <td>106</td>\n",
       "      <td>834</td>\n",
       "    </tr>\n",
       "  </tbody>\n",
       "</table>\n",
       "</div>"
      ],
      "text/plain": [
       "Predicted    0    1  All\n",
       "True                    \n",
       "0          710    3  713\n",
       "1           18  103  121\n",
       "All        728  106  834"
      ]
     },
     "execution_count": 55,
     "metadata": {},
     "output_type": "execute_result"
    }
   ],
   "source": [
    "# Create and print a confusion matrix \n",
    "print('\\n RF 2 Confusion Matrix')\n",
    "print('----------------')\n",
    "pd.crosstab(y_test, rf2_y_pred, rownames=['True'], colnames=['Predicted'], margins=True)"
   ]
  },
  {
   "cell_type": "markdown",
   "metadata": {
    "ExecuteTime": {
     "end_time": "2022-02-24T20:35:27.999323Z",
     "start_time": "2022-02-24T20:35:27.990815Z"
    }
   },
   "source": [
    "# Comparing Models"
   ]
  },
  {
   "cell_type": "code",
   "execution_count": 56,
   "metadata": {
    "ExecuteTime": {
     "end_time": "2022-02-25T15:33:45.403411Z",
     "start_time": "2022-02-25T15:33:45.398915Z"
    }
   },
   "outputs": [
    {
     "name": "stdout",
     "output_type": "stream",
     "text": [
      "DT 1 Recall is :88.88888888888889\n"
     ]
    }
   ],
   "source": [
    "print('DT 1 Recall is :{0}'.format(dt1_rcl))\n"
   ]
  },
  {
   "cell_type": "code",
   "execution_count": null,
   "metadata": {
    "ExecuteTime": {
     "end_time": "2022-02-24T23:51:35.720779Z",
     "start_time": "2022-02-24T23:51:35.718132Z"
    }
   },
   "outputs": [],
   "source": []
  },
  {
   "cell_type": "markdown",
   "metadata": {},
   "source": [
    "# Feature Importance"
   ]
  },
  {
   "cell_type": "code",
   "execution_count": 57,
   "metadata": {
    "ExecuteTime": {
     "end_time": "2022-02-25T15:33:45.406848Z",
     "start_time": "2022-02-25T15:33:45.404467Z"
    }
   },
   "outputs": [
    {
     "data": {
      "text/plain": [
       "['account_length',\n",
       " 'number_vmail_messages',\n",
       " 'total_day_minutes',\n",
       " 'total_day_calls',\n",
       " 'total_eve_minutes',\n",
       " 'total_eve_calls',\n",
       " 'total_night_minutes',\n",
       " 'total_night_calls',\n",
       " 'total_intl_minutes',\n",
       " 'total_intl_calls',\n",
       " 'total_charge',\n",
       " 'international_plan_yes',\n",
       " 'voice_mail_plan_yes',\n",
       " 'cs_calls_high']"
      ]
     },
     "execution_count": 57,
     "metadata": {},
     "output_type": "execute_result"
    }
   ],
   "source": [
    "feature_names = list(X)\n",
    "feature_names"
   ]
  },
  {
   "cell_type": "code",
   "execution_count": 58,
   "metadata": {
    "ExecuteTime": {
     "end_time": "2022-02-25T15:33:45.415356Z",
     "start_time": "2022-02-25T15:33:45.407903Z"
    }
   },
   "outputs": [
    {
     "data": {
      "text/plain": [
       "array([0.02736863, 0.03108966, 0.0948846 , 0.02379367, 0.04000083,\n",
       "       0.02256905, 0.0341415 , 0.01975871, 0.03554954, 0.03351943,\n",
       "       0.24593474, 0.1596043 , 0.04747725, 0.1843081 ])"
      ]
     },
     "execution_count": 58,
     "metadata": {},
     "output_type": "execute_result"
    }
   ],
   "source": [
    "rf2_importance = rf2_clf.feature_importances_\n",
    "rf2_importance"
   ]
  },
  {
   "cell_type": "code",
   "execution_count": 59,
   "metadata": {
    "ExecuteTime": {
     "end_time": "2022-02-25T15:33:45.423236Z",
     "start_time": "2022-02-25T15:33:45.416280Z"
    }
   },
   "outputs": [
    {
     "data": {
      "text/html": [
       "<div>\n",
       "<style scoped>\n",
       "    .dataframe tbody tr th:only-of-type {\n",
       "        vertical-align: middle;\n",
       "    }\n",
       "\n",
       "    .dataframe tbody tr th {\n",
       "        vertical-align: top;\n",
       "    }\n",
       "\n",
       "    .dataframe thead th {\n",
       "        text-align: right;\n",
       "    }\n",
       "</style>\n",
       "<table border=\"1\" class=\"dataframe\">\n",
       "  <thead>\n",
       "    <tr style=\"text-align: right;\">\n",
       "      <th></th>\n",
       "      <th>Feature</th>\n",
       "      <th>Importance</th>\n",
       "    </tr>\n",
       "  </thead>\n",
       "  <tbody>\n",
       "    <tr>\n",
       "      <th>10</th>\n",
       "      <td>total_charge</td>\n",
       "      <td>0.245935</td>\n",
       "    </tr>\n",
       "    <tr>\n",
       "      <th>13</th>\n",
       "      <td>cs_calls_high</td>\n",
       "      <td>0.184308</td>\n",
       "    </tr>\n",
       "    <tr>\n",
       "      <th>11</th>\n",
       "      <td>international_plan_yes</td>\n",
       "      <td>0.159604</td>\n",
       "    </tr>\n",
       "    <tr>\n",
       "      <th>2</th>\n",
       "      <td>total_day_minutes</td>\n",
       "      <td>0.094885</td>\n",
       "    </tr>\n",
       "    <tr>\n",
       "      <th>12</th>\n",
       "      <td>voice_mail_plan_yes</td>\n",
       "      <td>0.047477</td>\n",
       "    </tr>\n",
       "    <tr>\n",
       "      <th>4</th>\n",
       "      <td>total_eve_minutes</td>\n",
       "      <td>0.040001</td>\n",
       "    </tr>\n",
       "    <tr>\n",
       "      <th>8</th>\n",
       "      <td>total_intl_minutes</td>\n",
       "      <td>0.035550</td>\n",
       "    </tr>\n",
       "    <tr>\n",
       "      <th>6</th>\n",
       "      <td>total_night_minutes</td>\n",
       "      <td>0.034141</td>\n",
       "    </tr>\n",
       "    <tr>\n",
       "      <th>9</th>\n",
       "      <td>total_intl_calls</td>\n",
       "      <td>0.033519</td>\n",
       "    </tr>\n",
       "    <tr>\n",
       "      <th>1</th>\n",
       "      <td>number_vmail_messages</td>\n",
       "      <td>0.031090</td>\n",
       "    </tr>\n",
       "    <tr>\n",
       "      <th>0</th>\n",
       "      <td>account_length</td>\n",
       "      <td>0.027369</td>\n",
       "    </tr>\n",
       "    <tr>\n",
       "      <th>3</th>\n",
       "      <td>total_day_calls</td>\n",
       "      <td>0.023794</td>\n",
       "    </tr>\n",
       "    <tr>\n",
       "      <th>5</th>\n",
       "      <td>total_eve_calls</td>\n",
       "      <td>0.022569</td>\n",
       "    </tr>\n",
       "    <tr>\n",
       "      <th>7</th>\n",
       "      <td>total_night_calls</td>\n",
       "      <td>0.019759</td>\n",
       "    </tr>\n",
       "  </tbody>\n",
       "</table>\n",
       "</div>"
      ],
      "text/plain": [
       "                   Feature  Importance\n",
       "10            total_charge    0.245935\n",
       "13           cs_calls_high    0.184308\n",
       "11  international_plan_yes    0.159604\n",
       "2        total_day_minutes    0.094885\n",
       "12     voice_mail_plan_yes    0.047477\n",
       "4        total_eve_minutes    0.040001\n",
       "8       total_intl_minutes    0.035550\n",
       "6      total_night_minutes    0.034141\n",
       "9         total_intl_calls    0.033519\n",
       "1    number_vmail_messages    0.031090\n",
       "0           account_length    0.027369\n",
       "3          total_day_calls    0.023794\n",
       "5          total_eve_calls    0.022569\n",
       "7        total_night_calls    0.019759"
      ]
     },
     "execution_count": 59,
     "metadata": {},
     "output_type": "execute_result"
    }
   ],
   "source": [
    "feature_importance_df = pd.DataFrame(rf2_importance, feature_names)\n",
    "feature_importance_df= feature_importance_df.reset_index()\n",
    "feature_importance_df.rename(columns={'index': 'Feature', 0: 'Importance'}, inplace=True)\n",
    "feature_importance_df = feature_importance_df.sort_values('Importance', ascending=False)\n",
    "feature_importance_df"
   ]
  },
  {
   "cell_type": "code",
   "execution_count": 60,
   "metadata": {
    "ExecuteTime": {
     "end_time": "2022-02-25T15:33:45.730024Z",
     "start_time": "2022-02-25T15:33:45.424078Z"
    }
   },
   "outputs": [
    {
     "data": {
      "image/png": "[encoded data removed]",
      "text/plain": [
       "<Figure size 3600x1440 with 1 Axes>"
      ]
     },
     "metadata": {},
     "output_type": "display_data"
    }
   ],
   "source": [
    "# plot feature importance\n",
    "fig, ax = plt.subplots(figsize=(50,20))\n",
    "#p = sns.barplot(data=feature_importance_df, x='Feature', y='Importance' );\n",
    "p = sns.barplot(data=feature_importance_df, x='Importance', y='Feature', color='purple' );\n",
    "p.set_xlabel(\"Importance\", fontsize = 50)\n",
    "\n",
    "p.set_ylabel(\"Feature\", fontsize = 50)\n",
    "plt.xticks(fontsize=30)\n",
    "plt.yticks(fontsize=30)\n",
    "#p.yaxis.set_major_formatter(display_millions)\n",
    "p.set_title(\"Features by Importance\", fontsize = 100)\n",
    "plt.figsize=(30,20) \n",
    "#plt.savefig('images/project_1_bar_3')\n",
    "\n",
    "plt.show();"
   ]
  },
  {
   "cell_type": "markdown",
   "metadata": {
    "ExecuteTime": {
     "end_time": "2022-02-24T20:40:08.246291Z",
     "start_time": "2022-02-24T20:40:08.229566Z"
    }
   },
   "source": [
    "## Analysis\n",
    "- Figure out how to rank feature importance as this is the ultimate outcome for my business problem.\n",
    "- VISUALIZE!!!!"
   ]
  },
  {
   "cell_type": "code",
   "execution_count": null,
   "metadata": {},
   "outputs": [],
   "source": []
  },
  {
   "cell_type": "markdown",
   "metadata": {},
   "source": [
    "# Analyzing Churn Rate in Important Features"
   ]
  },
  {
   "cell_type": "markdown",
   "metadata": {},
   "source": [
    "## Customer Service Calls"
   ]
  },
  {
   "cell_type": "code",
   "execution_count": 61,
   "metadata": {
    "ExecuteTime": {
     "end_time": "2022-02-25T15:33:45.732258Z",
     "start_time": "2022-02-25T15:33:45.730971Z"
    }
   },
   "outputs": [],
   "source": [
    "#cleaned_df.info()"
   ]
  },
  {
   "cell_type": "code",
   "execution_count": 62,
   "metadata": {
    "ExecuteTime": {
     "end_time": "2022-02-25T15:33:45.734880Z",
     "start_time": "2022-02-25T15:33:45.733113Z"
    }
   },
   "outputs": [],
   "source": [
    "analysis_df = cleaned_df.copy()"
   ]
  },
  {
   "cell_type": "code",
   "execution_count": 63,
   "metadata": {
    "ExecuteTime": {
     "end_time": "2022-02-25T15:33:45.750853Z",
     "start_time": "2022-02-25T15:33:45.735791Z"
    }
   },
   "outputs": [
    {
     "data": {
      "text/html": [
       "<div>\n",
       "<style scoped>\n",
       "    .dataframe tbody tr th:only-of-type {\n",
       "        vertical-align: middle;\n",
       "    }\n",
       "\n",
       "    .dataframe tbody tr th {\n",
       "        vertical-align: top;\n",
       "    }\n",
       "\n",
       "    .dataframe thead th {\n",
       "        text-align: right;\n",
       "    }\n",
       "</style>\n",
       "<table border=\"1\" class=\"dataframe\">\n",
       "  <thead>\n",
       "    <tr style=\"text-align: right;\">\n",
       "      <th></th>\n",
       "      <th>#_of_calls</th>\n",
       "      <th>churn</th>\n",
       "      <th>#_of_accounts</th>\n",
       "      <th>churn_rate</th>\n",
       "    </tr>\n",
       "  </thead>\n",
       "  <tbody>\n",
       "    <tr>\n",
       "      <th>0</th>\n",
       "      <td>0</td>\n",
       "      <td>92</td>\n",
       "      <td>697</td>\n",
       "      <td>0.131994</td>\n",
       "    </tr>\n",
       "    <tr>\n",
       "      <th>1</th>\n",
       "      <td>1</td>\n",
       "      <td>122</td>\n",
       "      <td>1181</td>\n",
       "      <td>0.103302</td>\n",
       "    </tr>\n",
       "    <tr>\n",
       "      <th>2</th>\n",
       "      <td>2</td>\n",
       "      <td>87</td>\n",
       "      <td>759</td>\n",
       "      <td>0.114625</td>\n",
       "    </tr>\n",
       "    <tr>\n",
       "      <th>3</th>\n",
       "      <td>3</td>\n",
       "      <td>44</td>\n",
       "      <td>429</td>\n",
       "      <td>0.102564</td>\n",
       "    </tr>\n",
       "    <tr>\n",
       "      <th>4</th>\n",
       "      <td>4</td>\n",
       "      <td>76</td>\n",
       "      <td>166</td>\n",
       "      <td>0.457831</td>\n",
       "    </tr>\n",
       "    <tr>\n",
       "      <th>5</th>\n",
       "      <td>5</td>\n",
       "      <td>40</td>\n",
       "      <td>66</td>\n",
       "      <td>0.606061</td>\n",
       "    </tr>\n",
       "    <tr>\n",
       "      <th>6</th>\n",
       "      <td>6</td>\n",
       "      <td>14</td>\n",
       "      <td>22</td>\n",
       "      <td>0.636364</td>\n",
       "    </tr>\n",
       "    <tr>\n",
       "      <th>7</th>\n",
       "      <td>7</td>\n",
       "      <td>5</td>\n",
       "      <td>9</td>\n",
       "      <td>0.555556</td>\n",
       "    </tr>\n",
       "    <tr>\n",
       "      <th>8</th>\n",
       "      <td>8</td>\n",
       "      <td>1</td>\n",
       "      <td>2</td>\n",
       "      <td>0.500000</td>\n",
       "    </tr>\n",
       "    <tr>\n",
       "      <th>9</th>\n",
       "      <td>9</td>\n",
       "      <td>2</td>\n",
       "      <td>2</td>\n",
       "      <td>1.000000</td>\n",
       "    </tr>\n",
       "  </tbody>\n",
       "</table>\n",
       "</div>"
      ],
      "text/plain": [
       "   #_of_calls  churn  #_of_accounts  churn_rate\n",
       "0           0     92            697    0.131994\n",
       "1           1    122           1181    0.103302\n",
       "2           2     87            759    0.114625\n",
       "3           3     44            429    0.102564\n",
       "4           4     76            166    0.457831\n",
       "5           5     40             66    0.606061\n",
       "6           6     14             22    0.636364\n",
       "7           7      5              9    0.555556\n",
       "8           8      1              2    0.500000\n",
       "9           9      2              2    1.000000"
      ]
     },
     "execution_count": 63,
     "metadata": {},
     "output_type": "execute_result"
    }
   ],
   "source": [
    "cs_churn_df = analysis_df.groupby('customer_service_calls')['churn'].sum().reset_index()\n",
    "cs_churn_df = cs_churn_df.rename(columns={\"customer_service_calls\": \"#_of_calls\"})\n",
    "variable_1 = analysis_df['customer_service_calls'].value_counts().reset_index()\n",
    "variable_1 = variable_1.rename(columns={\"index\": \"#_of_calls\", \"customer_service_calls\": \"#_of_accounts\"})\n",
    "cs_churn_df = cs_churn_df.merge(variable_1, on='#_of_calls')\n",
    "churn_rate = cs_churn_df.apply(lambda x: x['churn'] / x['#_of_accounts'], axis=1)\n",
    "cs_churn_df['churn_rate']= churn_rate\n",
    "cs_churn_df"
   ]
  },
  {
   "cell_type": "code",
   "execution_count": 146,
   "metadata": {
    "ExecuteTime": {
     "end_time": "2022-02-25T16:17:55.253753Z",
     "start_time": "2022-02-25T16:17:55.124148Z"
    }
   },
   "outputs": [
    {
     "data": {
      "image/png": "[encoded data removed]",
      "text/plain": [
       "<Figure size 720x720 with 1 Axes>"
      ]
     },
     "metadata": {
      "needs_background": "light"
     },
     "output_type": "display_data"
    }
   ],
   "source": [
    "fig, ax = plt.subplots(figsize=(10,10))\n",
    "p = sns.barplot(x=\"#_of_calls\", y=\"churn_rate\", data=cs_churn_df, color='blue');\n",
    "\n",
    "p.set_xlabel(\"Number of Customer Service Calls\", fontsize = 15)\n",
    "p.set_ylabel(\"Churn Rate\", fontsize = 15)\n",
    "#p.xaxis.set_major_formatter(display_millions)\n",
    "ax.yaxis.set_major_formatter(mtick.PercentFormatter(xmax=1, decimals=None, symbol='%', is_latex=False))\n",
    "p.set_title(\"Churn Rate by Number of Customer Service Calls\", fontsize = 20)\n",
    "plt.figsize=(30,20) \n",
    "plt.axhline(y=.145, color='red')\n",
    "#plt.savefig('images/project_1_scatter_1')\n",
    "\n",
    "plt.show();"
   ]
  },
  {
   "cell_type": "markdown",
   "metadata": {},
   "source": [
    "### Analysis:\n",
    "- There is a very strong relationship between the number of Customer Service Calls and Churn Rate.\n",
    "- If there are 0-3 calls, those customers are below the avg. churn rate.\n",
    "- At 4 Calls, the Churn Rate jumps to 45.7%, 4X the avg. churn rate.\n",
    "- Hypothesis is that customers that are unhappy (and therefore more likely to cancel their service) are calling customer service more often."
   ]
  },
  {
   "cell_type": "markdown",
   "metadata": {},
   "source": [
    "## International Plan"
   ]
  },
  {
   "cell_type": "code",
   "execution_count": 65,
   "metadata": {
    "ExecuteTime": {
     "end_time": "2022-02-25T15:33:45.877774Z",
     "start_time": "2022-02-25T15:33:45.876262Z"
    }
   },
   "outputs": [],
   "source": [
    "#intl_df = analysis_df[['international_plan_yes', 'international_plan_no', 'total_intl_calls',\n",
    "#                       'total_intl_charge', 'total_intl_minutes','churn', 'total_charge']]"
   ]
  },
  {
   "cell_type": "code",
   "execution_count": 66,
   "metadata": {
    "ExecuteTime": {
     "end_time": "2022-02-25T15:33:45.889530Z",
     "start_time": "2022-02-25T15:33:45.878963Z"
    }
   },
   "outputs": [
    {
     "data": {
      "text/html": [
       "<div>\n",
       "<style scoped>\n",
       "    .dataframe tbody tr th:only-of-type {\n",
       "        vertical-align: middle;\n",
       "    }\n",
       "\n",
       "    .dataframe tbody tr th {\n",
       "        vertical-align: top;\n",
       "    }\n",
       "\n",
       "    .dataframe thead th {\n",
       "        text-align: right;\n",
       "    }\n",
       "</style>\n",
       "<table border=\"1\" class=\"dataframe\">\n",
       "  <thead>\n",
       "    <tr style=\"text-align: right;\">\n",
       "      <th></th>\n",
       "      <th>stayed</th>\n",
       "      <th>churned</th>\n",
       "      <th>total</th>\n",
       "      <th>churn_rate</th>\n",
       "    </tr>\n",
       "  </thead>\n",
       "  <tbody>\n",
       "    <tr>\n",
       "      <th>churn</th>\n",
       "      <td>0.0</td>\n",
       "      <td>1.0</td>\n",
       "      <td>1.0</td>\n",
       "      <td>1.000000</td>\n",
       "    </tr>\n",
       "    <tr>\n",
       "      <th>international_plan_yes</th>\n",
       "      <td>186.0</td>\n",
       "      <td>137.0</td>\n",
       "      <td>323.0</td>\n",
       "      <td>0.424149</td>\n",
       "    </tr>\n",
       "    <tr>\n",
       "      <th>international_plan_no</th>\n",
       "      <td>2664.0</td>\n",
       "      <td>346.0</td>\n",
       "      <td>3010.0</td>\n",
       "      <td>0.114950</td>\n",
       "    </tr>\n",
       "  </tbody>\n",
       "</table>\n",
       "</div>"
      ],
      "text/plain": [
       "                        stayed  churned   total  churn_rate\n",
       "churn                      0.0      1.0     1.0    1.000000\n",
       "international_plan_yes   186.0    137.0   323.0    0.424149\n",
       "international_plan_no   2664.0    346.0  3010.0    0.114950"
      ]
     },
     "execution_count": 66,
     "metadata": {},
     "output_type": "execute_result"
    }
   ],
   "source": [
    "intl_df = analysis_df[['international_plan_yes', 'international_plan_no', 'churn']]\n",
    "intl_churn_df = intl_df.groupby('churn').sum().reset_index()\n",
    "intl_churn_df = intl_churn_df.transpose()\n",
    "intl_churn_df = intl_churn_df.rename(columns={0: \"stayed\", 1: \"churned\"})\n",
    "intl_churn_df['total'] = intl_churn_df.apply(lambda x: x['stayed'] + x['churned'], axis=1)\n",
    "intl_churn_df['churn_rate'] = intl_churn_df.apply(lambda x: x['churned'] / x['total'], axis=1)\n",
    "intl_churn_df"
   ]
  },
  {
   "cell_type": "markdown",
   "metadata": {},
   "source": [
    "### Analysis:\n",
    "- churn rate for customers with an international plan is 42.4% vs 11.5% for those without an international plan.\n",
    "- nearly 4X increase in churn rate.\n",
    "- customers without an international plan are actually under the avg. churn rate, but remain fairly close."
   ]
  },
  {
   "cell_type": "markdown",
   "metadata": {},
   "source": [
    "## Total Charge"
   ]
  },
  {
   "cell_type": "code",
   "execution_count": 134,
   "metadata": {
    "ExecuteTime": {
     "end_time": "2022-02-25T16:01:45.117632Z",
     "start_time": "2022-02-25T16:01:45.102802Z"
    }
   },
   "outputs": [
    {
     "data": {
      "text/plain": [
       "count    3333.000000\n",
       "mean       59.449754\n",
       "std        10.502261\n",
       "min        22.930000\n",
       "25%        52.380000\n",
       "50%        59.470000\n",
       "75%        66.480000\n",
       "max        96.150000\n",
       "Name: total_charge, dtype: float64"
      ]
     },
     "execution_count": 134,
     "metadata": {},
     "output_type": "execute_result"
    }
   ],
   "source": [
    "analysis_df['total_charge'].describe()"
   ]
  },
  {
   "cell_type": "code",
   "execution_count": null,
   "metadata": {},
   "outputs": [],
   "source": []
  },
  {
   "cell_type": "code",
   "execution_count": 122,
   "metadata": {
    "ExecuteTime": {
     "end_time": "2022-02-25T15:56:04.217553Z",
     "start_time": "2022-02-25T15:56:04.210603Z"
    }
   },
   "outputs": [],
   "source": [
    "charge_df = analysis_df[['total_charge', 'churn']]"
   ]
  },
  {
   "cell_type": "code",
   "execution_count": 123,
   "metadata": {
    "ExecuteTime": {
     "end_time": "2022-02-25T15:56:15.739344Z",
     "start_time": "2022-02-25T15:56:15.732885Z"
    }
   },
   "outputs": [
    {
     "name": "stderr",
     "output_type": "stream",
     "text": [
      "<ipython-input-123-4eb671cf084a>:1: SettingWithCopyWarning: \n",
      "A value is trying to be set on a copy of a slice from a DataFrame.\n",
      "Try using .loc[row_indexer,col_indexer] = value instead\n",
      "\n",
      "See the caveats in the documentation: https://pandas.pydata.org/pandas-docs/stable/user_guide/indexing.html#returning-a-view-versus-a-copy\n",
      "  charge_df['charge_group'] = pd.qcut(analysis_df['total_charge'], 100)\n"
     ]
    }
   ],
   "source": [
    "charge_df['charge_group'] = pd.qcut(analysis_df['total_charge'], 100)"
   ]
  },
  {
   "cell_type": "code",
   "execution_count": 107,
   "metadata": {
    "ExecuteTime": {
     "end_time": "2022-02-25T15:38:07.709480Z",
     "start_time": "2022-02-25T15:38:07.699297Z"
    }
   },
   "outputs": [
    {
     "data": {
      "text/html": [
       "<div>\n",
       "<style scoped>\n",
       "    .dataframe tbody tr th:only-of-type {\n",
       "        vertical-align: middle;\n",
       "    }\n",
       "\n",
       "    .dataframe tbody tr th {\n",
       "        vertical-align: top;\n",
       "    }\n",
       "\n",
       "    .dataframe thead th {\n",
       "        text-align: right;\n",
       "    }\n",
       "</style>\n",
       "<table border=\"1\" class=\"dataframe\">\n",
       "  <thead>\n",
       "    <tr style=\"text-align: right;\">\n",
       "      <th></th>\n",
       "      <th>total_charge</th>\n",
       "      <th>churn</th>\n",
       "      <th>charge_group</th>\n",
       "    </tr>\n",
       "  </thead>\n",
       "  <tbody>\n",
       "    <tr>\n",
       "      <th>0</th>\n",
       "      <td>75.56</td>\n",
       "      <td>0</td>\n",
       "      <td>(74.309, 75.632]</td>\n",
       "    </tr>\n",
       "    <tr>\n",
       "      <th>1</th>\n",
       "      <td>59.24</td>\n",
       "      <td>0</td>\n",
       "      <td>(58.824, 59.47]</td>\n",
       "    </tr>\n",
       "    <tr>\n",
       "      <th>2</th>\n",
       "      <td>62.29</td>\n",
       "      <td>0</td>\n",
       "      <td>(62.042, 62.597]</td>\n",
       "    </tr>\n",
       "    <tr>\n",
       "      <th>3</th>\n",
       "      <td>66.80</td>\n",
       "      <td>0</td>\n",
       "      <td>(66.03, 66.8]</td>\n",
       "    </tr>\n",
       "    <tr>\n",
       "      <th>4</th>\n",
       "      <td>52.09</td>\n",
       "      <td>0</td>\n",
       "      <td>(51.341, 52.11]</td>\n",
       "    </tr>\n",
       "    <tr>\n",
       "      <th>...</th>\n",
       "      <td>...</td>\n",
       "      <td>...</td>\n",
       "      <td>...</td>\n",
       "    </tr>\n",
       "    <tr>\n",
       "      <th>3328</th>\n",
       "      <td>60.10</td>\n",
       "      <td>0</td>\n",
       "      <td>(60.05, 60.5]</td>\n",
       "    </tr>\n",
       "    <tr>\n",
       "      <th>3329</th>\n",
       "      <td>63.53</td>\n",
       "      <td>0</td>\n",
       "      <td>(63.195, 63.711]</td>\n",
       "    </tr>\n",
       "    <tr>\n",
       "      <th>3330</th>\n",
       "      <td>67.74</td>\n",
       "      <td>0</td>\n",
       "      <td>(67.54, 68.236]</td>\n",
       "    </tr>\n",
       "    <tr>\n",
       "      <th>3331</th>\n",
       "      <td>57.53</td>\n",
       "      <td>0</td>\n",
       "      <td>(57.404, 57.902]</td>\n",
       "    </tr>\n",
       "    <tr>\n",
       "      <th>3332</th>\n",
       "      <td>77.01</td>\n",
       "      <td>0</td>\n",
       "      <td>(75.632, 77.639]</td>\n",
       "    </tr>\n",
       "  </tbody>\n",
       "</table>\n",
       "<p>3333 rows × 3 columns</p>\n",
       "</div>"
      ],
      "text/plain": [
       "      total_charge  churn      charge_group\n",
       "0            75.56      0  (74.309, 75.632]\n",
       "1            59.24      0   (58.824, 59.47]\n",
       "2            62.29      0  (62.042, 62.597]\n",
       "3            66.80      0     (66.03, 66.8]\n",
       "4            52.09      0   (51.341, 52.11]\n",
       "...            ...    ...               ...\n",
       "3328         60.10      0     (60.05, 60.5]\n",
       "3329         63.53      0  (63.195, 63.711]\n",
       "3330         67.74      0   (67.54, 68.236]\n",
       "3331         57.53      0  (57.404, 57.902]\n",
       "3332         77.01      0  (75.632, 77.639]\n",
       "\n",
       "[3333 rows x 3 columns]"
      ]
     },
     "execution_count": 107,
     "metadata": {},
     "output_type": "execute_result"
    }
   ],
   "source": [
    "charge_df"
   ]
  },
  {
   "cell_type": "code",
   "execution_count": 124,
   "metadata": {
    "ExecuteTime": {
     "end_time": "2022-02-25T15:56:27.351906Z",
     "start_time": "2022-02-25T15:56:27.347929Z"
    }
   },
   "outputs": [],
   "source": [
    "group_counts = charge_df.charge_group.value_counts().reset_index()"
   ]
  },
  {
   "cell_type": "code",
   "execution_count": 125,
   "metadata": {
    "ExecuteTime": {
     "end_time": "2022-02-25T15:56:38.759472Z",
     "start_time": "2022-02-25T15:56:38.757540Z"
    }
   },
   "outputs": [],
   "source": [
    "group_counts = group_counts.rename(columns={\"index\": \"charge_group\", \"charge_group\": \"#_of_accounts\"})"
   ]
  },
  {
   "cell_type": "code",
   "execution_count": null,
   "metadata": {},
   "outputs": [],
   "source": []
  },
  {
   "cell_type": "code",
   "execution_count": 126,
   "metadata": {
    "ExecuteTime": {
     "end_time": "2022-02-25T15:56:50.311152Z",
     "start_time": "2022-02-25T15:56:50.298923Z"
    }
   },
   "outputs": [
    {
     "data": {
      "text/html": [
       "<div>\n",
       "<style scoped>\n",
       "    .dataframe tbody tr th:only-of-type {\n",
       "        vertical-align: middle;\n",
       "    }\n",
       "\n",
       "    .dataframe tbody tr th {\n",
       "        vertical-align: top;\n",
       "    }\n",
       "\n",
       "    .dataframe thead th {\n",
       "        text-align: right;\n",
       "    }\n",
       "</style>\n",
       "<table border=\"1\" class=\"dataframe\">\n",
       "  <thead>\n",
       "    <tr style=\"text-align: right;\">\n",
       "      <th></th>\n",
       "      <th>group_mean</th>\n",
       "      <th>churn</th>\n",
       "    </tr>\n",
       "    <tr>\n",
       "      <th>charge_group</th>\n",
       "      <th></th>\n",
       "      <th></th>\n",
       "    </tr>\n",
       "  </thead>\n",
       "  <tbody>\n",
       "    <tr>\n",
       "      <th>(22.929, 33.853]</th>\n",
       "      <td>30.850882</td>\n",
       "      <td>0.176471</td>\n",
       "    </tr>\n",
       "    <tr>\n",
       "      <th>(33.853, 37.436]</th>\n",
       "      <td>35.766667</td>\n",
       "      <td>0.060606</td>\n",
       "    </tr>\n",
       "    <tr>\n",
       "      <th>(37.436, 39.44]</th>\n",
       "      <td>38.587273</td>\n",
       "      <td>0.090909</td>\n",
       "    </tr>\n",
       "    <tr>\n",
       "      <th>(39.44, 41.033]</th>\n",
       "      <td>40.203235</td>\n",
       "      <td>0.147059</td>\n",
       "    </tr>\n",
       "    <tr>\n",
       "      <th>(41.033, 42.338]</th>\n",
       "      <td>41.673636</td>\n",
       "      <td>0.060606</td>\n",
       "    </tr>\n",
       "    <tr>\n",
       "      <th>(42.338, 43.319]</th>\n",
       "      <td>42.813939</td>\n",
       "      <td>0.090909</td>\n",
       "    </tr>\n",
       "    <tr>\n",
       "      <th>(43.319, 44.07]</th>\n",
       "      <td>43.695714</td>\n",
       "      <td>0.057143</td>\n",
       "    </tr>\n",
       "    <tr>\n",
       "      <th>(44.07, 44.7]</th>\n",
       "      <td>44.406667</td>\n",
       "      <td>0.151515</td>\n",
       "    </tr>\n",
       "    <tr>\n",
       "      <th>(44.7, 45.338]</th>\n",
       "      <td>45.044062</td>\n",
       "      <td>0.125000</td>\n",
       "    </tr>\n",
       "    <tr>\n",
       "      <th>(45.338, 46.02]</th>\n",
       "      <td>45.625143</td>\n",
       "      <td>0.142857</td>\n",
       "    </tr>\n",
       "    <tr>\n",
       "      <th>(46.02, 46.835]</th>\n",
       "      <td>46.479687</td>\n",
       "      <td>0.062500</td>\n",
       "    </tr>\n",
       "    <tr>\n",
       "      <th>(46.835, 47.27]</th>\n",
       "      <td>47.070588</td>\n",
       "      <td>0.117647</td>\n",
       "    </tr>\n",
       "    <tr>\n",
       "      <th>(47.27, 47.83]</th>\n",
       "      <td>47.599118</td>\n",
       "      <td>0.147059</td>\n",
       "    </tr>\n",
       "    <tr>\n",
       "      <th>(47.83, 48.225]</th>\n",
       "      <td>48.054063</td>\n",
       "      <td>0.062500</td>\n",
       "    </tr>\n",
       "    <tr>\n",
       "      <th>(48.225, 48.582]</th>\n",
       "      <td>48.399091</td>\n",
       "      <td>0.151515</td>\n",
       "    </tr>\n",
       "    <tr>\n",
       "      <th>(48.582, 49.191]</th>\n",
       "      <td>48.917941</td>\n",
       "      <td>0.117647</td>\n",
       "    </tr>\n",
       "    <tr>\n",
       "      <th>(49.191, 49.594]</th>\n",
       "      <td>49.400909</td>\n",
       "      <td>0.242424</td>\n",
       "    </tr>\n",
       "    <tr>\n",
       "      <th>(49.594, 50.0]</th>\n",
       "      <td>49.816471</td>\n",
       "      <td>0.147059</td>\n",
       "    </tr>\n",
       "    <tr>\n",
       "      <th>(50.0, 50.42]</th>\n",
       "      <td>50.220588</td>\n",
       "      <td>0.029412</td>\n",
       "    </tr>\n",
       "    <tr>\n",
       "      <th>(50.42, 50.72]</th>\n",
       "      <td>50.582424</td>\n",
       "      <td>0.212121</td>\n",
       "    </tr>\n",
       "    <tr>\n",
       "      <th>(50.72, 51.037]</th>\n",
       "      <td>50.878437</td>\n",
       "      <td>0.218750</td>\n",
       "    </tr>\n",
       "    <tr>\n",
       "      <th>(51.037, 51.341]</th>\n",
       "      <td>51.191176</td>\n",
       "      <td>0.117647</td>\n",
       "    </tr>\n",
       "    <tr>\n",
       "      <th>(51.341, 51.677]</th>\n",
       "      <td>51.519091</td>\n",
       "      <td>0.090909</td>\n",
       "    </tr>\n",
       "    <tr>\n",
       "      <th>(51.677, 52.11]</th>\n",
       "      <td>51.934412</td>\n",
       "      <td>0.147059</td>\n",
       "    </tr>\n",
       "    <tr>\n",
       "      <th>(52.11, 52.38]</th>\n",
       "      <td>52.240909</td>\n",
       "      <td>0.242424</td>\n",
       "    </tr>\n",
       "    <tr>\n",
       "      <th>(52.38, 52.603]</th>\n",
       "      <td>52.516667</td>\n",
       "      <td>0.181818</td>\n",
       "    </tr>\n",
       "    <tr>\n",
       "      <th>(52.603, 52.999]</th>\n",
       "      <td>52.804848</td>\n",
       "      <td>0.121212</td>\n",
       "    </tr>\n",
       "    <tr>\n",
       "      <th>(52.999, 53.31]</th>\n",
       "      <td>53.183429</td>\n",
       "      <td>0.085714</td>\n",
       "    </tr>\n",
       "    <tr>\n",
       "      <th>(53.31, 53.683]</th>\n",
       "      <td>53.540313</td>\n",
       "      <td>0.218750</td>\n",
       "    </tr>\n",
       "    <tr>\n",
       "      <th>(53.683, 53.996]</th>\n",
       "      <td>53.835758</td>\n",
       "      <td>0.060606</td>\n",
       "    </tr>\n",
       "    <tr>\n",
       "      <th>(53.996, 54.289]</th>\n",
       "      <td>54.153333</td>\n",
       "      <td>0.242424</td>\n",
       "    </tr>\n",
       "    <tr>\n",
       "      <th>(54.289, 54.582]</th>\n",
       "      <td>54.436176</td>\n",
       "      <td>0.147059</td>\n",
       "    </tr>\n",
       "    <tr>\n",
       "      <th>(54.582, 54.956]</th>\n",
       "      <td>54.793030</td>\n",
       "      <td>0.090909</td>\n",
       "    </tr>\n",
       "    <tr>\n",
       "      <th>(54.956, 55.236]</th>\n",
       "      <td>55.086970</td>\n",
       "      <td>0.121212</td>\n",
       "    </tr>\n",
       "    <tr>\n",
       "      <th>(55.236, 55.68]</th>\n",
       "      <td>55.446176</td>\n",
       "      <td>0.088235</td>\n",
       "    </tr>\n",
       "    <tr>\n",
       "      <th>(55.68, 55.935]</th>\n",
       "      <td>55.803636</td>\n",
       "      <td>0.181818</td>\n",
       "    </tr>\n",
       "    <tr>\n",
       "      <th>(55.935, 56.208]</th>\n",
       "      <td>56.064848</td>\n",
       "      <td>0.121212</td>\n",
       "    </tr>\n",
       "    <tr>\n",
       "      <th>(56.208, 56.44]</th>\n",
       "      <td>56.313714</td>\n",
       "      <td>0.257143</td>\n",
       "    </tr>\n",
       "    <tr>\n",
       "      <th>(56.44, 56.665]</th>\n",
       "      <td>56.556563</td>\n",
       "      <td>0.187500</td>\n",
       "    </tr>\n",
       "    <tr>\n",
       "      <th>(56.665, 56.88]</th>\n",
       "      <td>56.781765</td>\n",
       "      <td>0.029412</td>\n",
       "    </tr>\n",
       "    <tr>\n",
       "      <th>(56.88, 57.161]</th>\n",
       "      <td>57.039697</td>\n",
       "      <td>0.030303</td>\n",
       "    </tr>\n",
       "    <tr>\n",
       "      <th>(57.161, 57.404]</th>\n",
       "      <td>57.289394</td>\n",
       "      <td>0.030303</td>\n",
       "    </tr>\n",
       "    <tr>\n",
       "      <th>(57.404, 57.61]</th>\n",
       "      <td>57.507353</td>\n",
       "      <td>0.000000</td>\n",
       "    </tr>\n",
       "    <tr>\n",
       "      <th>(57.61, 57.902]</th>\n",
       "      <td>57.750909</td>\n",
       "      <td>0.090909</td>\n",
       "    </tr>\n",
       "    <tr>\n",
       "      <th>(57.902, 58.1]</th>\n",
       "      <td>58.003333</td>\n",
       "      <td>0.030303</td>\n",
       "    </tr>\n",
       "    <tr>\n",
       "      <th>(58.1, 58.407]</th>\n",
       "      <td>58.234545</td>\n",
       "      <td>0.060606</td>\n",
       "    </tr>\n",
       "    <tr>\n",
       "      <th>(58.407, 58.611]</th>\n",
       "      <td>58.526176</td>\n",
       "      <td>0.058824</td>\n",
       "    </tr>\n",
       "    <tr>\n",
       "      <th>(58.611, 58.824]</th>\n",
       "      <td>58.711818</td>\n",
       "      <td>0.060606</td>\n",
       "    </tr>\n",
       "    <tr>\n",
       "      <th>(58.824, 59.097]</th>\n",
       "      <td>58.952424</td>\n",
       "      <td>0.000000</td>\n",
       "    </tr>\n",
       "    <tr>\n",
       "      <th>(59.097, 59.47]</th>\n",
       "      <td>59.314000</td>\n",
       "      <td>0.085714</td>\n",
       "    </tr>\n",
       "    <tr>\n",
       "      <th>(59.47, 59.8]</th>\n",
       "      <td>59.633125</td>\n",
       "      <td>0.031250</td>\n",
       "    </tr>\n",
       "    <tr>\n",
       "      <th>(59.8, 60.05]</th>\n",
       "      <td>59.933824</td>\n",
       "      <td>0.117647</td>\n",
       "    </tr>\n",
       "    <tr>\n",
       "      <th>(60.05, 60.31]</th>\n",
       "      <td>60.175152</td>\n",
       "      <td>0.000000</td>\n",
       "    </tr>\n",
       "    <tr>\n",
       "      <th>(60.31, 60.5]</th>\n",
       "      <td>60.416364</td>\n",
       "      <td>0.000000</td>\n",
       "    </tr>\n",
       "    <tr>\n",
       "      <th>(60.5, 60.706]</th>\n",
       "      <td>60.596667</td>\n",
       "      <td>0.030303</td>\n",
       "    </tr>\n",
       "    <tr>\n",
       "      <th>(60.706, 61.019]</th>\n",
       "      <td>60.843939</td>\n",
       "      <td>0.060606</td>\n",
       "    </tr>\n",
       "    <tr>\n",
       "      <th>(61.019, 61.32]</th>\n",
       "      <td>61.188529</td>\n",
       "      <td>0.088235</td>\n",
       "    </tr>\n",
       "    <tr>\n",
       "      <th>(61.32, 61.556]</th>\n",
       "      <td>61.435152</td>\n",
       "      <td>0.030303</td>\n",
       "    </tr>\n",
       "    <tr>\n",
       "      <th>(61.556, 61.84]</th>\n",
       "      <td>61.705000</td>\n",
       "      <td>0.000000</td>\n",
       "    </tr>\n",
       "    <tr>\n",
       "      <th>(61.84, 62.042]</th>\n",
       "      <td>61.963333</td>\n",
       "      <td>0.060606</td>\n",
       "    </tr>\n",
       "    <tr>\n",
       "      <th>(62.042, 62.34]</th>\n",
       "      <td>62.207941</td>\n",
       "      <td>0.088235</td>\n",
       "    </tr>\n",
       "    <tr>\n",
       "      <th>(62.34, 62.597]</th>\n",
       "      <td>62.460938</td>\n",
       "      <td>0.031250</td>\n",
       "    </tr>\n",
       "    <tr>\n",
       "      <th>(62.597, 62.922]</th>\n",
       "      <td>62.756176</td>\n",
       "      <td>0.088235</td>\n",
       "    </tr>\n",
       "    <tr>\n",
       "      <th>(62.922, 63.195]</th>\n",
       "      <td>63.058485</td>\n",
       "      <td>0.181818</td>\n",
       "    </tr>\n",
       "    <tr>\n",
       "      <th>(63.195, 63.476]</th>\n",
       "      <td>63.343333</td>\n",
       "      <td>0.121212</td>\n",
       "    </tr>\n",
       "    <tr>\n",
       "      <th>(63.476, 63.711]</th>\n",
       "      <td>63.581471</td>\n",
       "      <td>0.058824</td>\n",
       "    </tr>\n",
       "    <tr>\n",
       "      <th>(63.711, 64.014]</th>\n",
       "      <td>63.856667</td>\n",
       "      <td>0.060606</td>\n",
       "    </tr>\n",
       "    <tr>\n",
       "      <th>(64.014, 64.29]</th>\n",
       "      <td>64.169412</td>\n",
       "      <td>0.000000</td>\n",
       "    </tr>\n",
       "    <tr>\n",
       "      <th>(64.29, 64.581]</th>\n",
       "      <td>64.457576</td>\n",
       "      <td>0.030303</td>\n",
       "    </tr>\n",
       "    <tr>\n",
       "      <th>(64.581, 64.868]</th>\n",
       "      <td>64.726667</td>\n",
       "      <td>0.060606</td>\n",
       "    </tr>\n",
       "    <tr>\n",
       "      <th>(64.868, 65.107]</th>\n",
       "      <td>64.989091</td>\n",
       "      <td>0.060606</td>\n",
       "    </tr>\n",
       "    <tr>\n",
       "      <th>(65.107, 65.4]</th>\n",
       "      <td>65.259118</td>\n",
       "      <td>0.000000</td>\n",
       "    </tr>\n",
       "    <tr>\n",
       "      <th>(65.4, 65.734]</th>\n",
       "      <td>65.577576</td>\n",
       "      <td>0.060606</td>\n",
       "    </tr>\n",
       "    <tr>\n",
       "      <th>(65.734, 66.03]</th>\n",
       "      <td>65.888529</td>\n",
       "      <td>0.058824</td>\n",
       "    </tr>\n",
       "    <tr>\n",
       "      <th>(66.03, 66.48]</th>\n",
       "      <td>66.276364</td>\n",
       "      <td>0.030303</td>\n",
       "    </tr>\n",
       "    <tr>\n",
       "      <th>(66.48, 66.8]</th>\n",
       "      <td>66.645588</td>\n",
       "      <td>0.088235</td>\n",
       "    </tr>\n",
       "    <tr>\n",
       "      <th>(66.8, 67.086]</th>\n",
       "      <td>66.959688</td>\n",
       "      <td>0.062500</td>\n",
       "    </tr>\n",
       "    <tr>\n",
       "      <th>(67.086, 67.54]</th>\n",
       "      <td>67.285455</td>\n",
       "      <td>0.060606</td>\n",
       "    </tr>\n",
       "    <tr>\n",
       "      <th>(67.54, 67.843]</th>\n",
       "      <td>67.678529</td>\n",
       "      <td>0.058824</td>\n",
       "    </tr>\n",
       "    <tr>\n",
       "      <th>(67.843, 68.236]</th>\n",
       "      <td>68.012727</td>\n",
       "      <td>0.030303</td>\n",
       "    </tr>\n",
       "    <tr>\n",
       "      <th>(68.236, 68.66]</th>\n",
       "      <td>68.444706</td>\n",
       "      <td>0.058824</td>\n",
       "    </tr>\n",
       "    <tr>\n",
       "      <th>(68.66, 69.07]</th>\n",
       "      <td>68.882059</td>\n",
       "      <td>0.088235</td>\n",
       "    </tr>\n",
       "    <tr>\n",
       "      <th>(69.07, 69.531]</th>\n",
       "      <td>69.315313</td>\n",
       "      <td>0.125000</td>\n",
       "    </tr>\n",
       "    <tr>\n",
       "      <th>(69.531, 69.95]</th>\n",
       "      <td>69.772941</td>\n",
       "      <td>0.029412</td>\n",
       "    </tr>\n",
       "    <tr>\n",
       "      <th>(69.95, 70.354]</th>\n",
       "      <td>70.147273</td>\n",
       "      <td>0.000000</td>\n",
       "    </tr>\n",
       "    <tr>\n",
       "      <th>(70.354, 70.895]</th>\n",
       "      <td>70.645455</td>\n",
       "      <td>0.030303</td>\n",
       "    </tr>\n",
       "    <tr>\n",
       "      <th>(70.895, 71.248]</th>\n",
       "      <td>71.096364</td>\n",
       "      <td>0.212121</td>\n",
       "    </tr>\n",
       "    <tr>\n",
       "      <th>(71.248, 71.9]</th>\n",
       "      <td>71.606000</td>\n",
       "      <td>0.057143</td>\n",
       "    </tr>\n",
       "    <tr>\n",
       "      <th>(71.9, 72.34]</th>\n",
       "      <td>72.138437</td>\n",
       "      <td>0.093750</td>\n",
       "    </tr>\n",
       "    <tr>\n",
       "      <th>(72.34, 72.99]</th>\n",
       "      <td>72.674571</td>\n",
       "      <td>0.085714</td>\n",
       "    </tr>\n",
       "    <tr>\n",
       "      <th>(72.99, 73.471]</th>\n",
       "      <td>73.225938</td>\n",
       "      <td>0.062500</td>\n",
       "    </tr>\n",
       "    <tr>\n",
       "      <th>(73.471, 74.309]</th>\n",
       "      <td>73.854848</td>\n",
       "      <td>0.151515</td>\n",
       "    </tr>\n",
       "    <tr>\n",
       "      <th>(74.309, 75.013]</th>\n",
       "      <td>74.696970</td>\n",
       "      <td>0.848485</td>\n",
       "    </tr>\n",
       "    <tr>\n",
       "      <th>(75.013, 75.632]</th>\n",
       "      <td>75.286471</td>\n",
       "      <td>0.705882</td>\n",
       "    </tr>\n",
       "    <tr>\n",
       "      <th>(75.632, 76.516]</th>\n",
       "      <td>76.059091</td>\n",
       "      <td>0.727273</td>\n",
       "    </tr>\n",
       "    <tr>\n",
       "      <th>(76.516, 77.639]</th>\n",
       "      <td>77.041212</td>\n",
       "      <td>0.757576</td>\n",
       "    </tr>\n",
       "    <tr>\n",
       "      <th>(77.639, 79.19]</th>\n",
       "      <td>78.462000</td>\n",
       "      <td>0.685714</td>\n",
       "    </tr>\n",
       "    <tr>\n",
       "      <th>(79.19, 80.987]</th>\n",
       "      <td>79.974688</td>\n",
       "      <td>0.781250</td>\n",
       "    </tr>\n",
       "    <tr>\n",
       "      <th>(80.987, 83.84]</th>\n",
       "      <td>82.192121</td>\n",
       "      <td>0.696970</td>\n",
       "    </tr>\n",
       "    <tr>\n",
       "      <th>(83.84, 96.15]</th>\n",
       "      <td>87.160294</td>\n",
       "      <td>0.852941</td>\n",
       "    </tr>\n",
       "  </tbody>\n",
       "</table>\n",
       "</div>"
      ],
      "text/plain": [
       "                  group_mean     churn\n",
       "charge_group                          \n",
       "(22.929, 33.853]   30.850882  0.176471\n",
       "(33.853, 37.436]   35.766667  0.060606\n",
       "(37.436, 39.44]    38.587273  0.090909\n",
       "(39.44, 41.033]    40.203235  0.147059\n",
       "(41.033, 42.338]   41.673636  0.060606\n",
       "(42.338, 43.319]   42.813939  0.090909\n",
       "(43.319, 44.07]    43.695714  0.057143\n",
       "(44.07, 44.7]      44.406667  0.151515\n",
       "(44.7, 45.338]     45.044062  0.125000\n",
       "(45.338, 46.02]    45.625143  0.142857\n",
       "(46.02, 46.835]    46.479687  0.062500\n",
       "(46.835, 47.27]    47.070588  0.117647\n",
       "(47.27, 47.83]     47.599118  0.147059\n",
       "(47.83, 48.225]    48.054063  0.062500\n",
       "(48.225, 48.582]   48.399091  0.151515\n",
       "(48.582, 49.191]   48.917941  0.117647\n",
       "(49.191, 49.594]   49.400909  0.242424\n",
       "(49.594, 50.0]     49.816471  0.147059\n",
       "(50.0, 50.42]      50.220588  0.029412\n",
       "(50.42, 50.72]     50.582424  0.212121\n",
       "(50.72, 51.037]    50.878437  0.218750\n",
       "(51.037, 51.341]   51.191176  0.117647\n",
       "(51.341, 51.677]   51.519091  0.090909\n",
       "(51.677, 52.11]    51.934412  0.147059\n",
       "(52.11, 52.38]     52.240909  0.242424\n",
       "(52.38, 52.603]    52.516667  0.181818\n",
       "(52.603, 52.999]   52.804848  0.121212\n",
       "(52.999, 53.31]    53.183429  0.085714\n",
       "(53.31, 53.683]    53.540313  0.218750\n",
       "(53.683, 53.996]   53.835758  0.060606\n",
       "(53.996, 54.289]   54.153333  0.242424\n",
       "(54.289, 54.582]   54.436176  0.147059\n",
       "(54.582, 54.956]   54.793030  0.090909\n",
       "(54.956, 55.236]   55.086970  0.121212\n",
       "(55.236, 55.68]    55.446176  0.088235\n",
       "(55.68, 55.935]    55.803636  0.181818\n",
       "(55.935, 56.208]   56.064848  0.121212\n",
       "(56.208, 56.44]    56.313714  0.257143\n",
       "(56.44, 56.665]    56.556563  0.187500\n",
       "(56.665, 56.88]    56.781765  0.029412\n",
       "(56.88, 57.161]    57.039697  0.030303\n",
       "(57.161, 57.404]   57.289394  0.030303\n",
       "(57.404, 57.61]    57.507353  0.000000\n",
       "(57.61, 57.902]    57.750909  0.090909\n",
       "(57.902, 58.1]     58.003333  0.030303\n",
       "(58.1, 58.407]     58.234545  0.060606\n",
       "(58.407, 58.611]   58.526176  0.058824\n",
       "(58.611, 58.824]   58.711818  0.060606\n",
       "(58.824, 59.097]   58.952424  0.000000\n",
       "(59.097, 59.47]    59.314000  0.085714\n",
       "(59.47, 59.8]      59.633125  0.031250\n",
       "(59.8, 60.05]      59.933824  0.117647\n",
       "(60.05, 60.31]     60.175152  0.000000\n",
       "(60.31, 60.5]      60.416364  0.000000\n",
       "(60.5, 60.706]     60.596667  0.030303\n",
       "(60.706, 61.019]   60.843939  0.060606\n",
       "(61.019, 61.32]    61.188529  0.088235\n",
       "(61.32, 61.556]    61.435152  0.030303\n",
       "(61.556, 61.84]    61.705000  0.000000\n",
       "(61.84, 62.042]    61.963333  0.060606\n",
       "(62.042, 62.34]    62.207941  0.088235\n",
       "(62.34, 62.597]    62.460938  0.031250\n",
       "(62.597, 62.922]   62.756176  0.088235\n",
       "(62.922, 63.195]   63.058485  0.181818\n",
       "(63.195, 63.476]   63.343333  0.121212\n",
       "(63.476, 63.711]   63.581471  0.058824\n",
       "(63.711, 64.014]   63.856667  0.060606\n",
       "(64.014, 64.29]    64.169412  0.000000\n",
       "(64.29, 64.581]    64.457576  0.030303\n",
       "(64.581, 64.868]   64.726667  0.060606\n",
       "(64.868, 65.107]   64.989091  0.060606\n",
       "(65.107, 65.4]     65.259118  0.000000\n",
       "(65.4, 65.734]     65.577576  0.060606\n",
       "(65.734, 66.03]    65.888529  0.058824\n",
       "(66.03, 66.48]     66.276364  0.030303\n",
       "(66.48, 66.8]      66.645588  0.088235\n",
       "(66.8, 67.086]     66.959688  0.062500\n",
       "(67.086, 67.54]    67.285455  0.060606\n",
       "(67.54, 67.843]    67.678529  0.058824\n",
       "(67.843, 68.236]   68.012727  0.030303\n",
       "(68.236, 68.66]    68.444706  0.058824\n",
       "(68.66, 69.07]     68.882059  0.088235\n",
       "(69.07, 69.531]    69.315313  0.125000\n",
       "(69.531, 69.95]    69.772941  0.029412\n",
       "(69.95, 70.354]    70.147273  0.000000\n",
       "(70.354, 70.895]   70.645455  0.030303\n",
       "(70.895, 71.248]   71.096364  0.212121\n",
       "(71.248, 71.9]     71.606000  0.057143\n",
       "(71.9, 72.34]      72.138437  0.093750\n",
       "(72.34, 72.99]     72.674571  0.085714\n",
       "(72.99, 73.471]    73.225938  0.062500\n",
       "(73.471, 74.309]   73.854848  0.151515\n",
       "(74.309, 75.013]   74.696970  0.848485\n",
       "(75.013, 75.632]   75.286471  0.705882\n",
       "(75.632, 76.516]   76.059091  0.727273\n",
       "(76.516, 77.639]   77.041212  0.757576\n",
       "(77.639, 79.19]    78.462000  0.685714\n",
       "(79.19, 80.987]    79.974688  0.781250\n",
       "(80.987, 83.84]    82.192121  0.696970\n",
       "(83.84, 96.15]     87.160294  0.852941"
      ]
     },
     "execution_count": 126,
     "metadata": {},
     "output_type": "execute_result"
    }
   ],
   "source": [
    "charge_df= charge_df.groupby('charge_group').mean()\n",
    "charge_df= charge_df.rename(columns={'total_charge': 'group_mean'})\n",
    "charge_df\n"
   ]
  },
  {
   "cell_type": "code",
   "execution_count": 127,
   "metadata": {
    "ExecuteTime": {
     "end_time": "2022-02-25T15:57:01.850325Z",
     "start_time": "2022-02-25T15:57:01.848219Z"
    }
   },
   "outputs": [],
   "source": [
    "charge_df = charge_df.reset_index()"
   ]
  },
  {
   "cell_type": "code",
   "execution_count": 128,
   "metadata": {
    "ExecuteTime": {
     "end_time": "2022-02-25T15:57:13.425857Z",
     "start_time": "2022-02-25T15:57:13.420752Z"
    }
   },
   "outputs": [],
   "source": [
    "charge_df = charge_df.merge(group_counts, on='charge_group')"
   ]
  },
  {
   "cell_type": "code",
   "execution_count": 129,
   "metadata": {
    "ExecuteTime": {
     "end_time": "2022-02-25T15:57:25.124341Z",
     "start_time": "2022-02-25T15:57:25.111354Z"
    }
   },
   "outputs": [
    {
     "data": {
      "text/html": [
       "<div>\n",
       "<style scoped>\n",
       "    .dataframe tbody tr th:only-of-type {\n",
       "        vertical-align: middle;\n",
       "    }\n",
       "\n",
       "    .dataframe tbody tr th {\n",
       "        vertical-align: top;\n",
       "    }\n",
       "\n",
       "    .dataframe thead th {\n",
       "        text-align: right;\n",
       "    }\n",
       "</style>\n",
       "<table border=\"1\" class=\"dataframe\">\n",
       "  <thead>\n",
       "    <tr style=\"text-align: right;\">\n",
       "      <th></th>\n",
       "      <th>charge_group</th>\n",
       "      <th>group_mean</th>\n",
       "      <th>churn</th>\n",
       "      <th>#_of_accounts</th>\n",
       "    </tr>\n",
       "  </thead>\n",
       "  <tbody>\n",
       "    <tr>\n",
       "      <th>0</th>\n",
       "      <td>(22.929, 33.853]</td>\n",
       "      <td>30.850882</td>\n",
       "      <td>0.176471</td>\n",
       "      <td>34</td>\n",
       "    </tr>\n",
       "    <tr>\n",
       "      <th>1</th>\n",
       "      <td>(33.853, 37.436]</td>\n",
       "      <td>35.766667</td>\n",
       "      <td>0.060606</td>\n",
       "      <td>33</td>\n",
       "    </tr>\n",
       "    <tr>\n",
       "      <th>2</th>\n",
       "      <td>(37.436, 39.44]</td>\n",
       "      <td>38.587273</td>\n",
       "      <td>0.090909</td>\n",
       "      <td>33</td>\n",
       "    </tr>\n",
       "    <tr>\n",
       "      <th>3</th>\n",
       "      <td>(39.44, 41.033]</td>\n",
       "      <td>40.203235</td>\n",
       "      <td>0.147059</td>\n",
       "      <td>34</td>\n",
       "    </tr>\n",
       "    <tr>\n",
       "      <th>4</th>\n",
       "      <td>(41.033, 42.338]</td>\n",
       "      <td>41.673636</td>\n",
       "      <td>0.060606</td>\n",
       "      <td>33</td>\n",
       "    </tr>\n",
       "    <tr>\n",
       "      <th>5</th>\n",
       "      <td>(42.338, 43.319]</td>\n",
       "      <td>42.813939</td>\n",
       "      <td>0.090909</td>\n",
       "      <td>33</td>\n",
       "    </tr>\n",
       "    <tr>\n",
       "      <th>6</th>\n",
       "      <td>(43.319, 44.07]</td>\n",
       "      <td>43.695714</td>\n",
       "      <td>0.057143</td>\n",
       "      <td>35</td>\n",
       "    </tr>\n",
       "    <tr>\n",
       "      <th>7</th>\n",
       "      <td>(44.07, 44.7]</td>\n",
       "      <td>44.406667</td>\n",
       "      <td>0.151515</td>\n",
       "      <td>33</td>\n",
       "    </tr>\n",
       "    <tr>\n",
       "      <th>8</th>\n",
       "      <td>(44.7, 45.338]</td>\n",
       "      <td>45.044062</td>\n",
       "      <td>0.125000</td>\n",
       "      <td>32</td>\n",
       "    </tr>\n",
       "    <tr>\n",
       "      <th>9</th>\n",
       "      <td>(45.338, 46.02]</td>\n",
       "      <td>45.625143</td>\n",
       "      <td>0.142857</td>\n",
       "      <td>35</td>\n",
       "    </tr>\n",
       "    <tr>\n",
       "      <th>10</th>\n",
       "      <td>(46.02, 46.835]</td>\n",
       "      <td>46.479687</td>\n",
       "      <td>0.062500</td>\n",
       "      <td>32</td>\n",
       "    </tr>\n",
       "    <tr>\n",
       "      <th>11</th>\n",
       "      <td>(46.835, 47.27]</td>\n",
       "      <td>47.070588</td>\n",
       "      <td>0.117647</td>\n",
       "      <td>34</td>\n",
       "    </tr>\n",
       "    <tr>\n",
       "      <th>12</th>\n",
       "      <td>(47.27, 47.83]</td>\n",
       "      <td>47.599118</td>\n",
       "      <td>0.147059</td>\n",
       "      <td>34</td>\n",
       "    </tr>\n",
       "    <tr>\n",
       "      <th>13</th>\n",
       "      <td>(47.83, 48.225]</td>\n",
       "      <td>48.054063</td>\n",
       "      <td>0.062500</td>\n",
       "      <td>32</td>\n",
       "    </tr>\n",
       "    <tr>\n",
       "      <th>14</th>\n",
       "      <td>(48.225, 48.582]</td>\n",
       "      <td>48.399091</td>\n",
       "      <td>0.151515</td>\n",
       "      <td>33</td>\n",
       "    </tr>\n",
       "    <tr>\n",
       "      <th>15</th>\n",
       "      <td>(48.582, 49.191]</td>\n",
       "      <td>48.917941</td>\n",
       "      <td>0.117647</td>\n",
       "      <td>34</td>\n",
       "    </tr>\n",
       "    <tr>\n",
       "      <th>16</th>\n",
       "      <td>(49.191, 49.594]</td>\n",
       "      <td>49.400909</td>\n",
       "      <td>0.242424</td>\n",
       "      <td>33</td>\n",
       "    </tr>\n",
       "    <tr>\n",
       "      <th>17</th>\n",
       "      <td>(49.594, 50.0]</td>\n",
       "      <td>49.816471</td>\n",
       "      <td>0.147059</td>\n",
       "      <td>34</td>\n",
       "    </tr>\n",
       "    <tr>\n",
       "      <th>18</th>\n",
       "      <td>(50.0, 50.42]</td>\n",
       "      <td>50.220588</td>\n",
       "      <td>0.029412</td>\n",
       "      <td>34</td>\n",
       "    </tr>\n",
       "    <tr>\n",
       "      <th>19</th>\n",
       "      <td>(50.42, 50.72]</td>\n",
       "      <td>50.582424</td>\n",
       "      <td>0.212121</td>\n",
       "      <td>33</td>\n",
       "    </tr>\n",
       "    <tr>\n",
       "      <th>20</th>\n",
       "      <td>(50.72, 51.037]</td>\n",
       "      <td>50.878437</td>\n",
       "      <td>0.218750</td>\n",
       "      <td>32</td>\n",
       "    </tr>\n",
       "    <tr>\n",
       "      <th>21</th>\n",
       "      <td>(51.037, 51.341]</td>\n",
       "      <td>51.191176</td>\n",
       "      <td>0.117647</td>\n",
       "      <td>34</td>\n",
       "    </tr>\n",
       "    <tr>\n",
       "      <th>22</th>\n",
       "      <td>(51.341, 51.677]</td>\n",
       "      <td>51.519091</td>\n",
       "      <td>0.090909</td>\n",
       "      <td>33</td>\n",
       "    </tr>\n",
       "    <tr>\n",
       "      <th>23</th>\n",
       "      <td>(51.677, 52.11]</td>\n",
       "      <td>51.934412</td>\n",
       "      <td>0.147059</td>\n",
       "      <td>34</td>\n",
       "    </tr>\n",
       "    <tr>\n",
       "      <th>24</th>\n",
       "      <td>(52.11, 52.38]</td>\n",
       "      <td>52.240909</td>\n",
       "      <td>0.242424</td>\n",
       "      <td>33</td>\n",
       "    </tr>\n",
       "    <tr>\n",
       "      <th>25</th>\n",
       "      <td>(52.38, 52.603]</td>\n",
       "      <td>52.516667</td>\n",
       "      <td>0.181818</td>\n",
       "      <td>33</td>\n",
       "    </tr>\n",
       "    <tr>\n",
       "      <th>26</th>\n",
       "      <td>(52.603, 52.999]</td>\n",
       "      <td>52.804848</td>\n",
       "      <td>0.121212</td>\n",
       "      <td>33</td>\n",
       "    </tr>\n",
       "    <tr>\n",
       "      <th>27</th>\n",
       "      <td>(52.999, 53.31]</td>\n",
       "      <td>53.183429</td>\n",
       "      <td>0.085714</td>\n",
       "      <td>35</td>\n",
       "    </tr>\n",
       "    <tr>\n",
       "      <th>28</th>\n",
       "      <td>(53.31, 53.683]</td>\n",
       "      <td>53.540313</td>\n",
       "      <td>0.218750</td>\n",
       "      <td>32</td>\n",
       "    </tr>\n",
       "    <tr>\n",
       "      <th>29</th>\n",
       "      <td>(53.683, 53.996]</td>\n",
       "      <td>53.835758</td>\n",
       "      <td>0.060606</td>\n",
       "      <td>33</td>\n",
       "    </tr>\n",
       "    <tr>\n",
       "      <th>30</th>\n",
       "      <td>(53.996, 54.289]</td>\n",
       "      <td>54.153333</td>\n",
       "      <td>0.242424</td>\n",
       "      <td>33</td>\n",
       "    </tr>\n",
       "    <tr>\n",
       "      <th>31</th>\n",
       "      <td>(54.289, 54.582]</td>\n",
       "      <td>54.436176</td>\n",
       "      <td>0.147059</td>\n",
       "      <td>34</td>\n",
       "    </tr>\n",
       "    <tr>\n",
       "      <th>32</th>\n",
       "      <td>(54.582, 54.956]</td>\n",
       "      <td>54.793030</td>\n",
       "      <td>0.090909</td>\n",
       "      <td>33</td>\n",
       "    </tr>\n",
       "    <tr>\n",
       "      <th>33</th>\n",
       "      <td>(54.956, 55.236]</td>\n",
       "      <td>55.086970</td>\n",
       "      <td>0.121212</td>\n",
       "      <td>33</td>\n",
       "    </tr>\n",
       "    <tr>\n",
       "      <th>34</th>\n",
       "      <td>(55.236, 55.68]</td>\n",
       "      <td>55.446176</td>\n",
       "      <td>0.088235</td>\n",
       "      <td>34</td>\n",
       "    </tr>\n",
       "    <tr>\n",
       "      <th>35</th>\n",
       "      <td>(55.68, 55.935]</td>\n",
       "      <td>55.803636</td>\n",
       "      <td>0.181818</td>\n",
       "      <td>33</td>\n",
       "    </tr>\n",
       "    <tr>\n",
       "      <th>36</th>\n",
       "      <td>(55.935, 56.208]</td>\n",
       "      <td>56.064848</td>\n",
       "      <td>0.121212</td>\n",
       "      <td>33</td>\n",
       "    </tr>\n",
       "    <tr>\n",
       "      <th>37</th>\n",
       "      <td>(56.208, 56.44]</td>\n",
       "      <td>56.313714</td>\n",
       "      <td>0.257143</td>\n",
       "      <td>35</td>\n",
       "    </tr>\n",
       "    <tr>\n",
       "      <th>38</th>\n",
       "      <td>(56.44, 56.665]</td>\n",
       "      <td>56.556563</td>\n",
       "      <td>0.187500</td>\n",
       "      <td>32</td>\n",
       "    </tr>\n",
       "    <tr>\n",
       "      <th>39</th>\n",
       "      <td>(56.665, 56.88]</td>\n",
       "      <td>56.781765</td>\n",
       "      <td>0.029412</td>\n",
       "      <td>34</td>\n",
       "    </tr>\n",
       "    <tr>\n",
       "      <th>40</th>\n",
       "      <td>(56.88, 57.161]</td>\n",
       "      <td>57.039697</td>\n",
       "      <td>0.030303</td>\n",
       "      <td>33</td>\n",
       "    </tr>\n",
       "    <tr>\n",
       "      <th>41</th>\n",
       "      <td>(57.161, 57.404]</td>\n",
       "      <td>57.289394</td>\n",
       "      <td>0.030303</td>\n",
       "      <td>33</td>\n",
       "    </tr>\n",
       "    <tr>\n",
       "      <th>42</th>\n",
       "      <td>(57.404, 57.61]</td>\n",
       "      <td>57.507353</td>\n",
       "      <td>0.000000</td>\n",
       "      <td>34</td>\n",
       "    </tr>\n",
       "    <tr>\n",
       "      <th>43</th>\n",
       "      <td>(57.61, 57.902]</td>\n",
       "      <td>57.750909</td>\n",
       "      <td>0.090909</td>\n",
       "      <td>33</td>\n",
       "    </tr>\n",
       "    <tr>\n",
       "      <th>44</th>\n",
       "      <td>(57.902, 58.1]</td>\n",
       "      <td>58.003333</td>\n",
       "      <td>0.030303</td>\n",
       "      <td>33</td>\n",
       "    </tr>\n",
       "    <tr>\n",
       "      <th>45</th>\n",
       "      <td>(58.1, 58.407]</td>\n",
       "      <td>58.234545</td>\n",
       "      <td>0.060606</td>\n",
       "      <td>33</td>\n",
       "    </tr>\n",
       "    <tr>\n",
       "      <th>46</th>\n",
       "      <td>(58.407, 58.611]</td>\n",
       "      <td>58.526176</td>\n",
       "      <td>0.058824</td>\n",
       "      <td>34</td>\n",
       "    </tr>\n",
       "    <tr>\n",
       "      <th>47</th>\n",
       "      <td>(58.611, 58.824]</td>\n",
       "      <td>58.711818</td>\n",
       "      <td>0.060606</td>\n",
       "      <td>33</td>\n",
       "    </tr>\n",
       "    <tr>\n",
       "      <th>48</th>\n",
       "      <td>(58.824, 59.097]</td>\n",
       "      <td>58.952424</td>\n",
       "      <td>0.000000</td>\n",
       "      <td>33</td>\n",
       "    </tr>\n",
       "    <tr>\n",
       "      <th>49</th>\n",
       "      <td>(59.097, 59.47]</td>\n",
       "      <td>59.314000</td>\n",
       "      <td>0.085714</td>\n",
       "      <td>35</td>\n",
       "    </tr>\n",
       "    <tr>\n",
       "      <th>50</th>\n",
       "      <td>(59.47, 59.8]</td>\n",
       "      <td>59.633125</td>\n",
       "      <td>0.031250</td>\n",
       "      <td>32</td>\n",
       "    </tr>\n",
       "    <tr>\n",
       "      <th>51</th>\n",
       "      <td>(59.8, 60.05]</td>\n",
       "      <td>59.933824</td>\n",
       "      <td>0.117647</td>\n",
       "      <td>34</td>\n",
       "    </tr>\n",
       "    <tr>\n",
       "      <th>52</th>\n",
       "      <td>(60.05, 60.31]</td>\n",
       "      <td>60.175152</td>\n",
       "      <td>0.000000</td>\n",
       "      <td>33</td>\n",
       "    </tr>\n",
       "    <tr>\n",
       "      <th>53</th>\n",
       "      <td>(60.31, 60.5]</td>\n",
       "      <td>60.416364</td>\n",
       "      <td>0.000000</td>\n",
       "      <td>33</td>\n",
       "    </tr>\n",
       "    <tr>\n",
       "      <th>54</th>\n",
       "      <td>(60.5, 60.706]</td>\n",
       "      <td>60.596667</td>\n",
       "      <td>0.030303</td>\n",
       "      <td>33</td>\n",
       "    </tr>\n",
       "    <tr>\n",
       "      <th>55</th>\n",
       "      <td>(60.706, 61.019]</td>\n",
       "      <td>60.843939</td>\n",
       "      <td>0.060606</td>\n",
       "      <td>33</td>\n",
       "    </tr>\n",
       "    <tr>\n",
       "      <th>56</th>\n",
       "      <td>(61.019, 61.32]</td>\n",
       "      <td>61.188529</td>\n",
       "      <td>0.088235</td>\n",
       "      <td>34</td>\n",
       "    </tr>\n",
       "    <tr>\n",
       "      <th>57</th>\n",
       "      <td>(61.32, 61.556]</td>\n",
       "      <td>61.435152</td>\n",
       "      <td>0.030303</td>\n",
       "      <td>33</td>\n",
       "    </tr>\n",
       "    <tr>\n",
       "      <th>58</th>\n",
       "      <td>(61.556, 61.84]</td>\n",
       "      <td>61.705000</td>\n",
       "      <td>0.000000</td>\n",
       "      <td>34</td>\n",
       "    </tr>\n",
       "    <tr>\n",
       "      <th>59</th>\n",
       "      <td>(61.84, 62.042]</td>\n",
       "      <td>61.963333</td>\n",
       "      <td>0.060606</td>\n",
       "      <td>33</td>\n",
       "    </tr>\n",
       "    <tr>\n",
       "      <th>60</th>\n",
       "      <td>(62.042, 62.34]</td>\n",
       "      <td>62.207941</td>\n",
       "      <td>0.088235</td>\n",
       "      <td>34</td>\n",
       "    </tr>\n",
       "    <tr>\n",
       "      <th>61</th>\n",
       "      <td>(62.34, 62.597]</td>\n",
       "      <td>62.460938</td>\n",
       "      <td>0.031250</td>\n",
       "      <td>32</td>\n",
       "    </tr>\n",
       "    <tr>\n",
       "      <th>62</th>\n",
       "      <td>(62.597, 62.922]</td>\n",
       "      <td>62.756176</td>\n",
       "      <td>0.088235</td>\n",
       "      <td>34</td>\n",
       "    </tr>\n",
       "    <tr>\n",
       "      <th>63</th>\n",
       "      <td>(62.922, 63.195]</td>\n",
       "      <td>63.058485</td>\n",
       "      <td>0.181818</td>\n",
       "      <td>33</td>\n",
       "    </tr>\n",
       "    <tr>\n",
       "      <th>64</th>\n",
       "      <td>(63.195, 63.476]</td>\n",
       "      <td>63.343333</td>\n",
       "      <td>0.121212</td>\n",
       "      <td>33</td>\n",
       "    </tr>\n",
       "    <tr>\n",
       "      <th>65</th>\n",
       "      <td>(63.476, 63.711]</td>\n",
       "      <td>63.581471</td>\n",
       "      <td>0.058824</td>\n",
       "      <td>34</td>\n",
       "    </tr>\n",
       "    <tr>\n",
       "      <th>66</th>\n",
       "      <td>(63.711, 64.014]</td>\n",
       "      <td>63.856667</td>\n",
       "      <td>0.060606</td>\n",
       "      <td>33</td>\n",
       "    </tr>\n",
       "    <tr>\n",
       "      <th>67</th>\n",
       "      <td>(64.014, 64.29]</td>\n",
       "      <td>64.169412</td>\n",
       "      <td>0.000000</td>\n",
       "      <td>34</td>\n",
       "    </tr>\n",
       "    <tr>\n",
       "      <th>68</th>\n",
       "      <td>(64.29, 64.581]</td>\n",
       "      <td>64.457576</td>\n",
       "      <td>0.030303</td>\n",
       "      <td>33</td>\n",
       "    </tr>\n",
       "    <tr>\n",
       "      <th>69</th>\n",
       "      <td>(64.581, 64.868]</td>\n",
       "      <td>64.726667</td>\n",
       "      <td>0.060606</td>\n",
       "      <td>33</td>\n",
       "    </tr>\n",
       "    <tr>\n",
       "      <th>70</th>\n",
       "      <td>(64.868, 65.107]</td>\n",
       "      <td>64.989091</td>\n",
       "      <td>0.060606</td>\n",
       "      <td>33</td>\n",
       "    </tr>\n",
       "    <tr>\n",
       "      <th>71</th>\n",
       "      <td>(65.107, 65.4]</td>\n",
       "      <td>65.259118</td>\n",
       "      <td>0.000000</td>\n",
       "      <td>34</td>\n",
       "    </tr>\n",
       "    <tr>\n",
       "      <th>72</th>\n",
       "      <td>(65.4, 65.734]</td>\n",
       "      <td>65.577576</td>\n",
       "      <td>0.060606</td>\n",
       "      <td>33</td>\n",
       "    </tr>\n",
       "    <tr>\n",
       "      <th>73</th>\n",
       "      <td>(65.734, 66.03]</td>\n",
       "      <td>65.888529</td>\n",
       "      <td>0.058824</td>\n",
       "      <td>34</td>\n",
       "    </tr>\n",
       "    <tr>\n",
       "      <th>74</th>\n",
       "      <td>(66.03, 66.48]</td>\n",
       "      <td>66.276364</td>\n",
       "      <td>0.030303</td>\n",
       "      <td>33</td>\n",
       "    </tr>\n",
       "    <tr>\n",
       "      <th>75</th>\n",
       "      <td>(66.48, 66.8]</td>\n",
       "      <td>66.645588</td>\n",
       "      <td>0.088235</td>\n",
       "      <td>34</td>\n",
       "    </tr>\n",
       "    <tr>\n",
       "      <th>76</th>\n",
       "      <td>(66.8, 67.086]</td>\n",
       "      <td>66.959688</td>\n",
       "      <td>0.062500</td>\n",
       "      <td>32</td>\n",
       "    </tr>\n",
       "    <tr>\n",
       "      <th>77</th>\n",
       "      <td>(67.086, 67.54]</td>\n",
       "      <td>67.285455</td>\n",
       "      <td>0.060606</td>\n",
       "      <td>33</td>\n",
       "    </tr>\n",
       "    <tr>\n",
       "      <th>78</th>\n",
       "      <td>(67.54, 67.843]</td>\n",
       "      <td>67.678529</td>\n",
       "      <td>0.058824</td>\n",
       "      <td>34</td>\n",
       "    </tr>\n",
       "    <tr>\n",
       "      <th>79</th>\n",
       "      <td>(67.843, 68.236]</td>\n",
       "      <td>68.012727</td>\n",
       "      <td>0.030303</td>\n",
       "      <td>33</td>\n",
       "    </tr>\n",
       "    <tr>\n",
       "      <th>80</th>\n",
       "      <td>(68.236, 68.66]</td>\n",
       "      <td>68.444706</td>\n",
       "      <td>0.058824</td>\n",
       "      <td>34</td>\n",
       "    </tr>\n",
       "    <tr>\n",
       "      <th>81</th>\n",
       "      <td>(68.66, 69.07]</td>\n",
       "      <td>68.882059</td>\n",
       "      <td>0.088235</td>\n",
       "      <td>34</td>\n",
       "    </tr>\n",
       "    <tr>\n",
       "      <th>82</th>\n",
       "      <td>(69.07, 69.531]</td>\n",
       "      <td>69.315313</td>\n",
       "      <td>0.125000</td>\n",
       "      <td>32</td>\n",
       "    </tr>\n",
       "    <tr>\n",
       "      <th>83</th>\n",
       "      <td>(69.531, 69.95]</td>\n",
       "      <td>69.772941</td>\n",
       "      <td>0.029412</td>\n",
       "      <td>34</td>\n",
       "    </tr>\n",
       "    <tr>\n",
       "      <th>84</th>\n",
       "      <td>(69.95, 70.354]</td>\n",
       "      <td>70.147273</td>\n",
       "      <td>0.000000</td>\n",
       "      <td>33</td>\n",
       "    </tr>\n",
       "    <tr>\n",
       "      <th>85</th>\n",
       "      <td>(70.354, 70.895]</td>\n",
       "      <td>70.645455</td>\n",
       "      <td>0.030303</td>\n",
       "      <td>33</td>\n",
       "    </tr>\n",
       "    <tr>\n",
       "      <th>86</th>\n",
       "      <td>(70.895, 71.248]</td>\n",
       "      <td>71.096364</td>\n",
       "      <td>0.212121</td>\n",
       "      <td>33</td>\n",
       "    </tr>\n",
       "    <tr>\n",
       "      <th>87</th>\n",
       "      <td>(71.248, 71.9]</td>\n",
       "      <td>71.606000</td>\n",
       "      <td>0.057143</td>\n",
       "      <td>35</td>\n",
       "    </tr>\n",
       "    <tr>\n",
       "      <th>88</th>\n",
       "      <td>(71.9, 72.34]</td>\n",
       "      <td>72.138437</td>\n",
       "      <td>0.093750</td>\n",
       "      <td>32</td>\n",
       "    </tr>\n",
       "    <tr>\n",
       "      <th>89</th>\n",
       "      <td>(72.34, 72.99]</td>\n",
       "      <td>72.674571</td>\n",
       "      <td>0.085714</td>\n",
       "      <td>35</td>\n",
       "    </tr>\n",
       "    <tr>\n",
       "      <th>90</th>\n",
       "      <td>(72.99, 73.471]</td>\n",
       "      <td>73.225938</td>\n",
       "      <td>0.062500</td>\n",
       "      <td>32</td>\n",
       "    </tr>\n",
       "    <tr>\n",
       "      <th>91</th>\n",
       "      <td>(73.471, 74.309]</td>\n",
       "      <td>73.854848</td>\n",
       "      <td>0.151515</td>\n",
       "      <td>33</td>\n",
       "    </tr>\n",
       "    <tr>\n",
       "      <th>92</th>\n",
       "      <td>(74.309, 75.013]</td>\n",
       "      <td>74.696970</td>\n",
       "      <td>0.848485</td>\n",
       "      <td>33</td>\n",
       "    </tr>\n",
       "    <tr>\n",
       "      <th>93</th>\n",
       "      <td>(75.013, 75.632]</td>\n",
       "      <td>75.286471</td>\n",
       "      <td>0.705882</td>\n",
       "      <td>34</td>\n",
       "    </tr>\n",
       "    <tr>\n",
       "      <th>94</th>\n",
       "      <td>(75.632, 76.516]</td>\n",
       "      <td>76.059091</td>\n",
       "      <td>0.727273</td>\n",
       "      <td>33</td>\n",
       "    </tr>\n",
       "    <tr>\n",
       "      <th>95</th>\n",
       "      <td>(76.516, 77.639]</td>\n",
       "      <td>77.041212</td>\n",
       "      <td>0.757576</td>\n",
       "      <td>33</td>\n",
       "    </tr>\n",
       "    <tr>\n",
       "      <th>96</th>\n",
       "      <td>(77.639, 79.19]</td>\n",
       "      <td>78.462000</td>\n",
       "      <td>0.685714</td>\n",
       "      <td>35</td>\n",
       "    </tr>\n",
       "    <tr>\n",
       "      <th>97</th>\n",
       "      <td>(79.19, 80.987]</td>\n",
       "      <td>79.974688</td>\n",
       "      <td>0.781250</td>\n",
       "      <td>32</td>\n",
       "    </tr>\n",
       "    <tr>\n",
       "      <th>98</th>\n",
       "      <td>(80.987, 83.84]</td>\n",
       "      <td>82.192121</td>\n",
       "      <td>0.696970</td>\n",
       "      <td>33</td>\n",
       "    </tr>\n",
       "    <tr>\n",
       "      <th>99</th>\n",
       "      <td>(83.84, 96.15]</td>\n",
       "      <td>87.160294</td>\n",
       "      <td>0.852941</td>\n",
       "      <td>34</td>\n",
       "    </tr>\n",
       "  </tbody>\n",
       "</table>\n",
       "</div>"
      ],
      "text/plain": [
       "        charge_group  group_mean     churn  #_of_accounts\n",
       "0   (22.929, 33.853]   30.850882  0.176471             34\n",
       "1   (33.853, 37.436]   35.766667  0.060606             33\n",
       "2    (37.436, 39.44]   38.587273  0.090909             33\n",
       "3    (39.44, 41.033]   40.203235  0.147059             34\n",
       "4   (41.033, 42.338]   41.673636  0.060606             33\n",
       "5   (42.338, 43.319]   42.813939  0.090909             33\n",
       "6    (43.319, 44.07]   43.695714  0.057143             35\n",
       "7      (44.07, 44.7]   44.406667  0.151515             33\n",
       "8     (44.7, 45.338]   45.044062  0.125000             32\n",
       "9    (45.338, 46.02]   45.625143  0.142857             35\n",
       "10   (46.02, 46.835]   46.479687  0.062500             32\n",
       "11   (46.835, 47.27]   47.070588  0.117647             34\n",
       "12    (47.27, 47.83]   47.599118  0.147059             34\n",
       "13   (47.83, 48.225]   48.054063  0.062500             32\n",
       "14  (48.225, 48.582]   48.399091  0.151515             33\n",
       "15  (48.582, 49.191]   48.917941  0.117647             34\n",
       "16  (49.191, 49.594]   49.400909  0.242424             33\n",
       "17    (49.594, 50.0]   49.816471  0.147059             34\n",
       "18     (50.0, 50.42]   50.220588  0.029412             34\n",
       "19    (50.42, 50.72]   50.582424  0.212121             33\n",
       "20   (50.72, 51.037]   50.878437  0.218750             32\n",
       "21  (51.037, 51.341]   51.191176  0.117647             34\n",
       "22  (51.341, 51.677]   51.519091  0.090909             33\n",
       "23   (51.677, 52.11]   51.934412  0.147059             34\n",
       "24    (52.11, 52.38]   52.240909  0.242424             33\n",
       "25   (52.38, 52.603]   52.516667  0.181818             33\n",
       "26  (52.603, 52.999]   52.804848  0.121212             33\n",
       "27   (52.999, 53.31]   53.183429  0.085714             35\n",
       "28   (53.31, 53.683]   53.540313  0.218750             32\n",
       "29  (53.683, 53.996]   53.835758  0.060606             33\n",
       "30  (53.996, 54.289]   54.153333  0.242424             33\n",
       "31  (54.289, 54.582]   54.436176  0.147059             34\n",
       "32  (54.582, 54.956]   54.793030  0.090909             33\n",
       "33  (54.956, 55.236]   55.086970  0.121212             33\n",
       "34   (55.236, 55.68]   55.446176  0.088235             34\n",
       "35   (55.68, 55.935]   55.803636  0.181818             33\n",
       "36  (55.935, 56.208]   56.064848  0.121212             33\n",
       "37   (56.208, 56.44]   56.313714  0.257143             35\n",
       "38   (56.44, 56.665]   56.556563  0.187500             32\n",
       "39   (56.665, 56.88]   56.781765  0.029412             34\n",
       "40   (56.88, 57.161]   57.039697  0.030303             33\n",
       "41  (57.161, 57.404]   57.289394  0.030303             33\n",
       "42   (57.404, 57.61]   57.507353  0.000000             34\n",
       "43   (57.61, 57.902]   57.750909  0.090909             33\n",
       "44    (57.902, 58.1]   58.003333  0.030303             33\n",
       "45    (58.1, 58.407]   58.234545  0.060606             33\n",
       "46  (58.407, 58.611]   58.526176  0.058824             34\n",
       "47  (58.611, 58.824]   58.711818  0.060606             33\n",
       "48  (58.824, 59.097]   58.952424  0.000000             33\n",
       "49   (59.097, 59.47]   59.314000  0.085714             35\n",
       "50     (59.47, 59.8]   59.633125  0.031250             32\n",
       "51     (59.8, 60.05]   59.933824  0.117647             34\n",
       "52    (60.05, 60.31]   60.175152  0.000000             33\n",
       "53     (60.31, 60.5]   60.416364  0.000000             33\n",
       "54    (60.5, 60.706]   60.596667  0.030303             33\n",
       "55  (60.706, 61.019]   60.843939  0.060606             33\n",
       "56   (61.019, 61.32]   61.188529  0.088235             34\n",
       "57   (61.32, 61.556]   61.435152  0.030303             33\n",
       "58   (61.556, 61.84]   61.705000  0.000000             34\n",
       "59   (61.84, 62.042]   61.963333  0.060606             33\n",
       "60   (62.042, 62.34]   62.207941  0.088235             34\n",
       "61   (62.34, 62.597]   62.460938  0.031250             32\n",
       "62  (62.597, 62.922]   62.756176  0.088235             34\n",
       "63  (62.922, 63.195]   63.058485  0.181818             33\n",
       "64  (63.195, 63.476]   63.343333  0.121212             33\n",
       "65  (63.476, 63.711]   63.581471  0.058824             34\n",
       "66  (63.711, 64.014]   63.856667  0.060606             33\n",
       "67   (64.014, 64.29]   64.169412  0.000000             34\n",
       "68   (64.29, 64.581]   64.457576  0.030303             33\n",
       "69  (64.581, 64.868]   64.726667  0.060606             33\n",
       "70  (64.868, 65.107]   64.989091  0.060606             33\n",
       "71    (65.107, 65.4]   65.259118  0.000000             34\n",
       "72    (65.4, 65.734]   65.577576  0.060606             33\n",
       "73   (65.734, 66.03]   65.888529  0.058824             34\n",
       "74    (66.03, 66.48]   66.276364  0.030303             33\n",
       "75     (66.48, 66.8]   66.645588  0.088235             34\n",
       "76    (66.8, 67.086]   66.959688  0.062500             32\n",
       "77   (67.086, 67.54]   67.285455  0.060606             33\n",
       "78   (67.54, 67.843]   67.678529  0.058824             34\n",
       "79  (67.843, 68.236]   68.012727  0.030303             33\n",
       "80   (68.236, 68.66]   68.444706  0.058824             34\n",
       "81    (68.66, 69.07]   68.882059  0.088235             34\n",
       "82   (69.07, 69.531]   69.315313  0.125000             32\n",
       "83   (69.531, 69.95]   69.772941  0.029412             34\n",
       "84   (69.95, 70.354]   70.147273  0.000000             33\n",
       "85  (70.354, 70.895]   70.645455  0.030303             33\n",
       "86  (70.895, 71.248]   71.096364  0.212121             33\n",
       "87    (71.248, 71.9]   71.606000  0.057143             35\n",
       "88     (71.9, 72.34]   72.138437  0.093750             32\n",
       "89    (72.34, 72.99]   72.674571  0.085714             35\n",
       "90   (72.99, 73.471]   73.225938  0.062500             32\n",
       "91  (73.471, 74.309]   73.854848  0.151515             33\n",
       "92  (74.309, 75.013]   74.696970  0.848485             33\n",
       "93  (75.013, 75.632]   75.286471  0.705882             34\n",
       "94  (75.632, 76.516]   76.059091  0.727273             33\n",
       "95  (76.516, 77.639]   77.041212  0.757576             33\n",
       "96   (77.639, 79.19]   78.462000  0.685714             35\n",
       "97   (79.19, 80.987]   79.974688  0.781250             32\n",
       "98   (80.987, 83.84]   82.192121  0.696970             33\n",
       "99    (83.84, 96.15]   87.160294  0.852941             34"
      ]
     },
     "execution_count": 129,
     "metadata": {},
     "output_type": "execute_result"
    }
   ],
   "source": [
    "charge_df"
   ]
  },
  {
   "cell_type": "code",
   "execution_count": 143,
   "metadata": {
    "ExecuteTime": {
     "end_time": "2022-02-25T16:10:34.350717Z",
     "start_time": "2022-02-25T16:10:34.101139Z"
    }
   },
   "outputs": [
    {
     "data": {
      "image/png": "[encoded data removed]",
      "text/plain": [
       "<Figure size 720x720 with 1 Axes>"
      ]
     },
     "metadata": {},
     "output_type": "display_data"
    }
   ],
   "source": [
    "import matplotlib.ticker as mtick\n",
    "\n",
    "fig, ax = plt.subplots(figsize=(10,10))\n",
    "p = sns.scatterplot(x=\"group_mean\", y=\"churn\", data=charge_df);\n",
    "\n",
    "p.set_xlabel(\"Mean Value\", fontsize = 15)\n",
    "p.set_ylabel(\"Churn Rate\", fontsize = 15)\n",
    "ax.yaxis.set_major_formatter(mtick.PercentFormatter(xmax=1, decimals=None, symbol='%', is_latex=False))\n",
    "#p.xaxis.set_major_formatter(display_millions)\n",
    "\n",
    "p.set_title(\"Churn Rate by Total Charge\", fontsize = 20)\n",
    "plt.figsize=(30,20) \n",
    "\n",
    "line_1 = plt.axhline(y=.145)\n",
    "#line_2 = plt.axhline(y=.25, color='black')\n",
    "line_3 = plt.axvline(x=59.45, color='green')\n",
    "\n",
    "ax.legend([line_1, line_2, line_3], ['Regular Churn Line', '25% Churn Line', 'Mean Bill Charge'])\n",
    "#plt.savefig('images/project_1_scatter_1')\n",
    "\n",
    "\n",
    "plt.show();"
   ]
  },
  {
   "cell_type": "markdown",
   "metadata": {},
   "source": [
    "### Analysis\n",
    "- Total Charge of $74/month leads to Churn Rate of roughly 70% or greater!\n",
    "- While there a a good amount of customers above the average churn line, if you add a standard deviation of 10%, almost all are within that range until you get to the extreme outliers.\n"
   ]
  },
  {
   "cell_type": "code",
   "execution_count": null,
   "metadata": {},
   "outputs": [],
   "source": []
  },
  {
   "cell_type": "code",
   "execution_count": null,
   "metadata": {},
   "outputs": [],
   "source": []
  },
  {
   "cell_type": "markdown",
   "metadata": {},
   "source": [
    "# NEW ARCHIVE (2/24)"
   ]
  },
  {
   "cell_type": "markdown",
   "metadata": {},
   "source": [
    "### Decision Tree 2"
   ]
  },
  {
   "cell_type": "code",
   "execution_count": 70,
   "metadata": {
    "ExecuteTime": {
     "end_time": "2022-02-25T15:33:45.929027Z",
     "start_time": "2022-02-25T15:33:45.927205Z"
    }
   },
   "outputs": [],
   "source": [
    "dtree_2 = DecisionTreeClassifier(criterion='entropy', \n",
    "                           max_depth=5,\n",
    "                          min_samples_split=10,\n",
    "                           min_samples_leaf=1,\n",
    "                            random_state=23)"
   ]
  },
  {
   "cell_type": "code",
   "execution_count": 71,
   "metadata": {
    "ExecuteTime": {
     "end_time": "2022-02-25T15:33:45.931476Z",
     "start_time": "2022-02-25T15:33:45.929983Z"
    }
   },
   "outputs": [],
   "source": [
    "#dtree_2 = DecisionTreeClassifier(criterion='gini', \n",
    "#                           max_depth=3,\n",
    "#                           min_samples_split=2,\n",
    "#                           min_samples_leaf=1,\n",
    "#                            random_state=23)"
   ]
  },
  {
   "cell_type": "code",
   "execution_count": 72,
   "metadata": {
    "ExecuteTime": {
     "end_time": "2022-02-25T15:33:45.944790Z",
     "start_time": "2022-02-25T15:33:45.932399Z"
    }
   },
   "outputs": [],
   "source": [
    "dtree_2.fit(X_train, y_train)\n",
    "dt2_y_pred = dtree_2.predict(X_test)"
   ]
  },
  {
   "cell_type": "markdown",
   "metadata": {},
   "source": [
    "### Evaluating Decision Tree 2"
   ]
  },
  {
   "cell_type": "code",
   "execution_count": 73,
   "metadata": {
    "ExecuteTime": {
     "end_time": "2022-02-25T15:33:45.978021Z",
     "start_time": "2022-02-25T15:33:45.946088Z"
    }
   },
   "outputs": [
    {
     "name": "stdout",
     "output_type": "stream",
     "text": [
      "DTree 2 Accuracy is :97.48201438848922\n",
      "DTree 2 Precision is :100.0\n",
      "DTree 2 Recall is :82.64462809917356\n",
      "DTree 2 F1 Score is :11.952191235059761\n",
      "DTree 2 AUC is :0.91\n",
      "DTree 2 Confusion Matrix\n",
      "----------------\n"
     ]
    },
    {
     "data": {
      "text/html": [
       "<div>\n",
       "<style scoped>\n",
       "    .dataframe tbody tr th:only-of-type {\n",
       "        vertical-align: middle;\n",
       "    }\n",
       "\n",
       "    .dataframe tbody tr th {\n",
       "        vertical-align: top;\n",
       "    }\n",
       "\n",
       "    .dataframe thead th {\n",
       "        text-align: right;\n",
       "    }\n",
       "</style>\n",
       "<table border=\"1\" class=\"dataframe\">\n",
       "  <thead>\n",
       "    <tr style=\"text-align: right;\">\n",
       "      <th>Predicted</th>\n",
       "      <th>0</th>\n",
       "      <th>1</th>\n",
       "      <th>All</th>\n",
       "    </tr>\n",
       "    <tr>\n",
       "      <th>True</th>\n",
       "      <th></th>\n",
       "      <th></th>\n",
       "      <th></th>\n",
       "    </tr>\n",
       "  </thead>\n",
       "  <tbody>\n",
       "    <tr>\n",
       "      <th>0</th>\n",
       "      <td>713</td>\n",
       "      <td>0</td>\n",
       "      <td>713</td>\n",
       "    </tr>\n",
       "    <tr>\n",
       "      <th>1</th>\n",
       "      <td>21</td>\n",
       "      <td>100</td>\n",
       "      <td>121</td>\n",
       "    </tr>\n",
       "    <tr>\n",
       "      <th>All</th>\n",
       "      <td>734</td>\n",
       "      <td>100</td>\n",
       "      <td>834</td>\n",
       "    </tr>\n",
       "  </tbody>\n",
       "</table>\n",
       "</div>"
      ],
      "text/plain": [
       "Predicted    0    1  All\n",
       "True                    \n",
       "0          713    0  713\n",
       "1           21  100  121\n",
       "All        734  100  834"
      ]
     },
     "execution_count": 73,
     "metadata": {},
     "output_type": "execute_result"
    }
   ],
   "source": [
    "# Calculate Classification Metrics\n",
    "\n",
    "dt2_acc = accuracy_score(y_test, dt2_y_pred) * 100\n",
    "print('DTree 2 Accuracy is :{0}'.format(dt2_acc))\n",
    "dt2_prec = precision_score(y_test, dt2_y_pred) * 100\n",
    "print('DTree 2 Precision is :{0}'.format(dt2_prec))\n",
    "dt2_rcl = recall_score(y_test, dt2_y_pred) * 100\n",
    "print('DTree 2 Recall is :{0}'.format(dt2_rcl))\n",
    "dt2_f1 = f1_score(y_test, dt1_y_pred) * 100\n",
    "print('DTree 2 F1 Score is :{0}'.format(dt2_f1))\n",
    "false_positive_rate, true_positive_rate, thresholds = roc_curve(y_test, dt2_y_pred)\n",
    "dt2_roc_auc = auc(false_positive_rate, true_positive_rate)\n",
    "print('DTree 2 AUC is :{0}'.format(round(dt2_roc_auc, 2)))\n",
    "print('DTree 2 Confusion Matrix')\n",
    "print('----------------')\n",
    "pd.crosstab(y_test, dt2_y_pred, rownames=['True'], colnames=['Predicted'], margins=True)"
   ]
  },
  {
   "cell_type": "code",
   "execution_count": 74,
   "metadata": {
    "ExecuteTime": {
     "end_time": "2022-02-25T15:33:45.981020Z",
     "start_time": "2022-02-25T15:33:45.979369Z"
    }
   },
   "outputs": [],
   "source": [
    "# Calculate accuracy \n",
    "#dt2_acc = accuracy_score(y_test,dt2_y_pred) * 100\n",
    "#print('DTree 2 Accuracy is :{0}'.format(dt2_acc))\n",
    "\n",
    "# Check the AUC for predictions\n",
    "#false_positive_rate, true_positive_rate, thresholds = roc_curve(y_test, dt2_y_pred)\n",
    "#dt2_roc_auc = auc(false_positive_rate, true_positive_rate)\n",
    "#print('DTree 2 AUC is :{0}'.format(round(dt2_roc_auc, 2)))\n",
    "\n",
    "# Create and print a confusion matrix \n",
    "#print('DTree 2 Confusion Matrix')\n",
    "#print('----------------')\n",
    "#pd.crosstab(y_test, dt2_y_pred, rownames=['True'], colnames=['Predicted'], margins=True)"
   ]
  },
  {
   "cell_type": "markdown",
   "metadata": {},
   "source": [
    "### Analysis of Accuracy, AUC, and Confusion Matrix\n",
    "- Analysis goes HERE\n",
    "- AND HERE\n",
    "- AND HERE!"
   ]
  },
  {
   "cell_type": "markdown",
   "metadata": {},
   "source": [
    "### Random Forests 1"
   ]
  },
  {
   "cell_type": "code",
   "execution_count": 75,
   "metadata": {
    "ExecuteTime": {
     "end_time": "2022-02-25T15:33:46.285432Z",
     "start_time": "2022-02-25T15:33:45.982061Z"
    }
   },
   "outputs": [],
   "source": [
    "rf1_clf = RandomForestClassifier(random_state=23, class_weight=\"balanced\")\n",
    "rf1_clf.fit(X_train, y_train)\n",
    "rf1_y_pred = rf1_clf.predict(X_test)"
   ]
  },
  {
   "cell_type": "code",
   "execution_count": 76,
   "metadata": {
    "ExecuteTime": {
     "end_time": "2022-02-25T15:33:46.954543Z",
     "start_time": "2022-02-25T15:33:46.286557Z"
    }
   },
   "outputs": [
    {
     "name": "stdout",
     "output_type": "stream",
     "text": [
      "Mean Cross Validation Score for Random Forest Classifier: 96.92%\n"
     ]
    }
   ],
   "source": [
    "rf1_clf = RandomForestClassifier(random_state=23, class_weight=\"balanced\")\n",
    "mean_rf1_cv_score = np.mean(cross_val_score(rf1_clf, X_train, y_train, cv=3))\n",
    "\n",
    "print(f\"Mean Cross Validation Score for Random Forest Classifier: {mean_rf1_cv_score :.2%}\")"
   ]
  },
  {
   "cell_type": "code",
   "execution_count": 77,
   "metadata": {
    "ExecuteTime": {
     "end_time": "2022-02-25T15:33:47.268801Z",
     "start_time": "2022-02-25T15:33:46.955730Z"
    }
   },
   "outputs": [],
   "source": [
    "rf1_clf.fit(X_train, y_train)\n",
    "rf1_y_pred = rf1_clf.predict(X_test)\n",
    "#false_positive_rate, true_positive_rate, thresholds = roc_curve(y_test,rf1_y_pred)\n",
    "#rf1_roc_auc = auc(false_positive_rate, true_positive_rate)\n",
    "#rf1_roc_auc\n",
    "#print(f\"Random Forests 1 AUC Score: {rf1_roc_auc :.2%}\")"
   ]
  },
  {
   "cell_type": "markdown",
   "metadata": {},
   "source": [
    "### Evaluating Random Forests 1"
   ]
  },
  {
   "cell_type": "code",
   "execution_count": 78,
   "metadata": {
    "ExecuteTime": {
     "end_time": "2022-02-25T15:33:47.300760Z",
     "start_time": "2022-02-25T15:33:47.270014Z"
    }
   },
   "outputs": [
    {
     "name": "stdout",
     "output_type": "stream",
     "text": [
      "Random Forests 1 Accuracy is :96.76258992805755\n",
      "Random Forests 1 Precision is :100.0\n",
      "Random Forests 1 Recall is :77.68595041322314\n",
      "Random Forests 1 F1 Score is :87.44186046511628\n",
      "Random Forests 1 AUC is :0.89\n",
      "Random Forests 1 Confusion Matrix\n",
      "----------------\n"
     ]
    },
    {
     "data": {
      "text/html": [
       "<div>\n",
       "<style scoped>\n",
       "    .dataframe tbody tr th:only-of-type {\n",
       "        vertical-align: middle;\n",
       "    }\n",
       "\n",
       "    .dataframe tbody tr th {\n",
       "        vertical-align: top;\n",
       "    }\n",
       "\n",
       "    .dataframe thead th {\n",
       "        text-align: right;\n",
       "    }\n",
       "</style>\n",
       "<table border=\"1\" class=\"dataframe\">\n",
       "  <thead>\n",
       "    <tr style=\"text-align: right;\">\n",
       "      <th>Predicted</th>\n",
       "      <th>0</th>\n",
       "      <th>1</th>\n",
       "      <th>All</th>\n",
       "    </tr>\n",
       "    <tr>\n",
       "      <th>True</th>\n",
       "      <th></th>\n",
       "      <th></th>\n",
       "      <th></th>\n",
       "    </tr>\n",
       "  </thead>\n",
       "  <tbody>\n",
       "    <tr>\n",
       "      <th>0</th>\n",
       "      <td>713</td>\n",
       "      <td>0</td>\n",
       "      <td>713</td>\n",
       "    </tr>\n",
       "    <tr>\n",
       "      <th>1</th>\n",
       "      <td>27</td>\n",
       "      <td>94</td>\n",
       "      <td>121</td>\n",
       "    </tr>\n",
       "    <tr>\n",
       "      <th>All</th>\n",
       "      <td>740</td>\n",
       "      <td>94</td>\n",
       "      <td>834</td>\n",
       "    </tr>\n",
       "  </tbody>\n",
       "</table>\n",
       "</div>"
      ],
      "text/plain": [
       "Predicted    0   1  All\n",
       "True                   \n",
       "0          713   0  713\n",
       "1           27  94  121\n",
       "All        740  94  834"
      ]
     },
     "execution_count": 78,
     "metadata": {},
     "output_type": "execute_result"
    }
   ],
   "source": [
    "# Calculate Classification Metrics\n",
    "\n",
    "rf1_acc = accuracy_score(y_test, rf1_y_pred) * 100\n",
    "print('Random Forests 1 Accuracy is :{0}'.format(rf1_acc))\n",
    "rf1_prec = precision_score(y_test, rf1_y_pred) * 100\n",
    "print('Random Forests 1 Precision is :{0}'.format(rf1_prec))\n",
    "rf1_rcl = recall_score(y_test, rf1_y_pred) * 100\n",
    "print('Random Forests 1 Recall is :{0}'.format(rf1_rcl))\n",
    "rf1_f1 = f1_score(y_test, rf1_y_pred) * 100\n",
    "print('Random Forests 1 F1 Score is :{0}'.format(rf1_f1))\n",
    "false_positive_rate, true_positive_rate, thresholds = roc_curve(y_test, rf1_y_pred)\n",
    "rf1_roc_auc = auc(false_positive_rate, true_positive_rate)\n",
    "print('Random Forests 1 AUC is :{0}'.format(round(rf1_roc_auc, 2)))\n",
    "print('Random Forests 1 Confusion Matrix')\n",
    "print('----------------')\n",
    "pd.crosstab(y_test, rf1_y_pred, rownames=['True'], colnames=['Predicted'], margins=True)"
   ]
  },
  {
   "cell_type": "code",
   "execution_count": 79,
   "metadata": {
    "ExecuteTime": {
     "end_time": "2022-02-25T15:33:47.303847Z",
     "start_time": "2022-02-25T15:33:47.301961Z"
    }
   },
   "outputs": [],
   "source": [
    "# Calculate accuracy \n",
    "#rf1_acc = accuracy_score(y_test,rf1_y_pred) * 100\n",
    "#print('Random Forests 1 Accuracy is :{0}'.format(rf1_acc))\n",
    "\n",
    "# Check the AUC for predictions\n",
    "#false_positive_rate, true_positive_rate, thresholds = roc_curve(y_test, rf1_y_pred)\n",
    "#rf1_roc_auc = auc(false_positive_rate, true_positive_rate)\n",
    "#print('Random Forests 1 AUC is :{0}'.format(round(rf1_roc_auc, 2)))\n",
    "\n",
    "# Create and print a confusion matrix \n",
    "#print('Random Forests Confusion Matrix')\n",
    "#print('----------------')\n",
    "#pd.crosstab(y_test, rf1_y_pred, rownames=['True'], colnames=['Predicted'], margins=True)"
   ]
  },
  {
   "cell_type": "markdown",
   "metadata": {},
   "source": [
    "## GridSearch_CV & Random Forests 2"
   ]
  },
  {
   "cell_type": "code",
   "execution_count": 80,
   "metadata": {
    "ExecuteTime": {
     "end_time": "2022-02-25T15:33:47.307006Z",
     "start_time": "2022-02-25T15:33:47.305058Z"
    }
   },
   "outputs": [],
   "source": [
    "rf2_clf = RandomForestClassifier(random_state=23, class_weight=\"balanced\")"
   ]
  },
  {
   "cell_type": "code",
   "execution_count": 81,
   "metadata": {
    "ExecuteTime": {
     "end_time": "2022-02-25T15:33:47.311961Z",
     "start_time": "2022-02-25T15:33:47.309564Z"
    }
   },
   "outputs": [],
   "source": [
    "rf_param_grid = {\n",
    "    'n_estimators': [10, 30, 100],\n",
    "    'criterion': ['gini', 'entropy'],\n",
    "    'max_depth': [None, 2, 6, 10],\n",
    "    'min_samples_split': [5, 10],\n",
    "    'min_samples_leaf': [3, 6]\n",
    "}"
   ]
  },
  {
   "cell_type": "code",
   "execution_count": 82,
   "metadata": {
    "ExecuteTime": {
     "end_time": "2022-02-25T15:34:11.137608Z",
     "start_time": "2022-02-25T15:33:47.312894Z"
    }
   },
   "outputs": [
    {
     "name": "stdout",
     "output_type": "stream",
     "text": [
      "Random Forest 2 Training Accuracy: 90.75%\n",
      "\n",
      "\n",
      "Random Forest 2 Optimal Parameters: {'criterion': 'entropy', 'max_depth': None, 'min_samples_leaf': 6, 'min_samples_split': 5, 'n_estimators': 100}\n"
     ]
    }
   ],
   "source": [
    "#rf2_grid_search = GridSearchCV(rf2_clf, rf_param_grid, scoring = 'recall', cv=3)\n",
    "rf2_grid_search = GridSearchCV(rf2_clf, rf_param_grid, scoring = 'f1', cv=3)\n",
    "rf2_grid_search.fit(X_train, y_train)\n",
    "\n",
    "print(f\"Random Forest 2 Training Accuracy: {rf2_grid_search.best_score_ :.2%}\")\n",
    "print(\"\")\n",
    "# Mean test score\n",
    "rf2_gs_testing_score = rf2_grid_search.score(X_test, y_test)\n",
    "print(\"\")\n",
    "print(f\"Random Forest 2 Optimal Parameters: {rf2_grid_search.best_params_}\")"
   ]
  },
  {
   "cell_type": "code",
   "execution_count": 83,
   "metadata": {
    "ExecuteTime": {
     "end_time": "2022-02-25T15:34:11.140537Z",
     "start_time": "2022-02-25T15:34:11.138599Z"
    }
   },
   "outputs": [
    {
     "name": "stdout",
     "output_type": "stream",
     "text": [
      "Random Forests 2 Mean Test Score: 90.67%\n"
     ]
    }
   ],
   "source": [
    "print(f\"Random Forests 2 Mean Test Score: {rf2_gs_testing_score :.2%}\")"
   ]
  },
  {
   "cell_type": "code",
   "execution_count": 84,
   "metadata": {
    "ExecuteTime": {
     "end_time": "2022-02-25T15:34:11.802815Z",
     "start_time": "2022-02-25T15:34:11.141314Z"
    }
   },
   "outputs": [
    {
     "name": "stdout",
     "output_type": "stream",
     "text": [
      "Random Forests 2 Mean Cross Validation Score: 95.92%\n"
     ]
    }
   ],
   "source": [
    "rf2_clf = RandomForestClassifier(criterion= 'entropy',\n",
    "                                max_depth= None,\n",
    "                                min_samples_leaf= 6,\n",
    "                                min_samples_split= 5,\n",
    "                                n_estimators= 100)\n",
    "\n",
    "mean_rf2_cv_score = np.mean(cross_val_score(rf2_clf, X_train, y_train, cv=3))\n",
    "\n",
    "print(f\"Random Forests 2 Mean Cross Validation Score: {mean_rf2_cv_score :.2%}\")"
   ]
  },
  {
   "cell_type": "code",
   "execution_count": 85,
   "metadata": {
    "ExecuteTime": {
     "end_time": "2022-02-25T15:34:11.805304Z",
     "start_time": "2022-02-25T15:34:11.803848Z"
    }
   },
   "outputs": [],
   "source": [
    "#rf2_clf = RandomForestClassifier(criterion= 'gini',\n",
    "#                                max_depth= None,\n",
    "#                                min_samples_leaf= 3,\n",
    "#                                min_samples_split= 5,\n",
    "#                                n_estimators= 100)\n",
    "\n",
    "#mean_rf2_cv_score = np.mean(cross_val_score(rf2_clf, X_train, y_train, cv=3))\n",
    "\n",
    "#print(f\"Random Forests 2 Mean Cross Validation Score: {mean_rf2_cv_score :.2%}\")"
   ]
  },
  {
   "cell_type": "code",
   "execution_count": 86,
   "metadata": {
    "ExecuteTime": {
     "end_time": "2022-02-25T15:34:12.119046Z",
     "start_time": "2022-02-25T15:34:11.806810Z"
    }
   },
   "outputs": [],
   "source": [
    "rf2_clf.fit(X_train, y_train)\n",
    "rf2_y_pred = rf2_clf.predict(X_test)\n",
    "#false_positive_rate, true_positive_rate, thresholds = roc_curve(y_test,rf2_y_pred)\n",
    "#rf2_roc_auc = auc(false_positive_rate, true_positive_rate)\n",
    "#rf2_roc_auc\n",
    "#print(f\"Random Forests 2 AUC Score: {rf2_roc_auc :.2%}\")"
   ]
  },
  {
   "cell_type": "markdown",
   "metadata": {},
   "source": [
    "### Evaluating Random Forests 2"
   ]
  },
  {
   "cell_type": "code",
   "execution_count": 87,
   "metadata": {
    "ExecuteTime": {
     "end_time": "2022-02-25T15:34:12.150201Z",
     "start_time": "2022-02-25T15:34:12.120142Z"
    }
   },
   "outputs": [
    {
     "name": "stdout",
     "output_type": "stream",
     "text": [
      "Random Forests 2 Accuracy is :96.88249400479616\n",
      "Random Forests 2 Precision is :100.0\n",
      "Random Forests 2 Recall is :78.51239669421489\n",
      "Random Forests 2 F1 Score is :87.96296296296296\n",
      "Random Forests 2 AUC is :0.89\n",
      "Random Forests 2 Confusion Matrix\n",
      "----------------\n"
     ]
    },
    {
     "data": {
      "text/html": [
       "<div>\n",
       "<style scoped>\n",
       "    .dataframe tbody tr th:only-of-type {\n",
       "        vertical-align: middle;\n",
       "    }\n",
       "\n",
       "    .dataframe tbody tr th {\n",
       "        vertical-align: top;\n",
       "    }\n",
       "\n",
       "    .dataframe thead th {\n",
       "        text-align: right;\n",
       "    }\n",
       "</style>\n",
       "<table border=\"1\" class=\"dataframe\">\n",
       "  <thead>\n",
       "    <tr style=\"text-align: right;\">\n",
       "      <th>Predicted</th>\n",
       "      <th>0</th>\n",
       "      <th>1</th>\n",
       "      <th>All</th>\n",
       "    </tr>\n",
       "    <tr>\n",
       "      <th>True</th>\n",
       "      <th></th>\n",
       "      <th></th>\n",
       "      <th></th>\n",
       "    </tr>\n",
       "  </thead>\n",
       "  <tbody>\n",
       "    <tr>\n",
       "      <th>0</th>\n",
       "      <td>713</td>\n",
       "      <td>0</td>\n",
       "      <td>713</td>\n",
       "    </tr>\n",
       "    <tr>\n",
       "      <th>1</th>\n",
       "      <td>26</td>\n",
       "      <td>95</td>\n",
       "      <td>121</td>\n",
       "    </tr>\n",
       "    <tr>\n",
       "      <th>All</th>\n",
       "      <td>739</td>\n",
       "      <td>95</td>\n",
       "      <td>834</td>\n",
       "    </tr>\n",
       "  </tbody>\n",
       "</table>\n",
       "</div>"
      ],
      "text/plain": [
       "Predicted    0   1  All\n",
       "True                   \n",
       "0          713   0  713\n",
       "1           26  95  121\n",
       "All        739  95  834"
      ]
     },
     "execution_count": 87,
     "metadata": {},
     "output_type": "execute_result"
    }
   ],
   "source": [
    "# Calculate Classification Metrics\n",
    "\n",
    "rf2_acc = accuracy_score(y_test, rf2_y_pred) * 100\n",
    "print('Random Forests 2 Accuracy is :{0}'.format(rf2_acc))\n",
    "rf2_prec = precision_score(y_test, rf2_y_pred) * 100\n",
    "print('Random Forests 2 Precision is :{0}'.format(rf2_prec))\n",
    "rf2_rcl = recall_score(y_test, rf2_y_pred) * 100\n",
    "print('Random Forests 2 Recall is :{0}'.format(rf2_rcl))\n",
    "rf2_f1 = f1_score(y_test, rf2_y_pred) * 100\n",
    "print('Random Forests 2 F1 Score is :{0}'.format(rf2_f1))\n",
    "false_positive_rate, true_positive_rate, thresholds = roc_curve(y_test, rf2_y_pred)\n",
    "rf2_roc_auc = auc(false_positive_rate, true_positive_rate)\n",
    "print('Random Forests 2 AUC is :{0}'.format(round(rf2_roc_auc, 2)))\n",
    "print('Random Forests 2 Confusion Matrix')\n",
    "print('----------------')\n",
    "pd.crosstab(y_test, rf2_y_pred, rownames=['True'], colnames=['Predicted'], margins=True)"
   ]
  },
  {
   "cell_type": "code",
   "execution_count": 88,
   "metadata": {
    "ExecuteTime": {
     "end_time": "2022-02-25T15:34:12.153017Z",
     "start_time": "2022-02-25T15:34:12.151365Z"
    }
   },
   "outputs": [],
   "source": [
    "# Calculate accuracy \n",
    "#rf2_acc = accuracy_score(y_test,rf2_y_pred) * 100\n",
    "#print('Random Forests 2 Accuracy is :{0}'.format(rf2_acc))\n",
    "\n",
    "# Check the AUC for predictions\n",
    "#false_positive_rate, true_positive_rate, thresholds = roc_curve(y_test, rf2_y_pred)\n",
    "#rf2_roc_auc = auc(false_positive_rate, true_positive_rate)\n",
    "#print('Random Forests 2 AUC is :{0}'.format(round(rf2_roc_auc, 2)))\n",
    "\n",
    "# Create and print a confusion matrix \n",
    "#print('Random Forests 2 Confusion Matrix')\n",
    "#print('----------------')\n",
    "#pd.crosstab(y_test, rf2_y_pred, rownames=['True'], colnames=['Predicted'], margins=True)"
   ]
  },
  {
   "cell_type": "code",
   "execution_count": null,
   "metadata": {},
   "outputs": [],
   "source": []
  },
  {
   "cell_type": "code",
   "execution_count": null,
   "metadata": {},
   "outputs": [],
   "source": []
  },
  {
   "cell_type": "code",
   "execution_count": 89,
   "metadata": {
    "ExecuteTime": {
     "end_time": "2022-02-25T15:34:12.155641Z",
     "start_time": "2022-02-25T15:34:12.154105Z"
    }
   },
   "outputs": [],
   "source": [
    "#dt2_score = dt2_grid_search.score(X_test, y_test)\n",
    "#rf2_score = rf2_grid_search.score(X_test, y_test)\n",
    "\n",
    "#print('Decision tree 2 grid search Score: ', dt2_score)\n",
    "#print('Random forest 2 grid search Score: ', rf2_score)"
   ]
  },
  {
   "cell_type": "markdown",
   "metadata": {},
   "source": [
    "## Modeling with Synthetic Samples (SMOTE)"
   ]
  },
  {
   "cell_type": "code",
   "execution_count": 90,
   "metadata": {
    "ExecuteTime": {
     "end_time": "2022-02-25T15:34:12.169346Z",
     "start_time": "2022-02-25T15:34:12.156749Z"
    }
   },
   "outputs": [],
   "source": [
    "balanced_df = model_df.copy()\n",
    "\n",
    "X = balanced_df.drop(['churn'], axis=1)\n",
    "y = balanced_df['churn']\n",
    "\n",
    "X_train, X_test, y_train, y_test = train_test_split(X, y, test_size=.25, stratify=y, random_state=23)\n",
    "\n",
    "smote = SMOTE()\n",
    "X_train_resampled, y_train_resampled = smote.fit_sample(X_train, y_train) "
   ]
  },
  {
   "cell_type": "code",
   "execution_count": 91,
   "metadata": {
    "ExecuteTime": {
     "end_time": "2022-02-25T15:34:12.173154Z",
     "start_time": "2022-02-25T15:34:12.170474Z"
    }
   },
   "outputs": [],
   "source": [
    "X = balanced_df.drop(['churn'], axis=1)\n",
    "y = balanced_df['churn']"
   ]
  },
  {
   "cell_type": "code",
   "execution_count": 92,
   "metadata": {
    "ExecuteTime": {
     "end_time": "2022-02-25T15:34:12.178628Z",
     "start_time": "2022-02-25T15:34:12.174193Z"
    }
   },
   "outputs": [],
   "source": [
    "X_train, X_test, y_train, y_test = train_test_split(X, y, test_size=.25, stratify=y, random_state=23)"
   ]
  },
  {
   "cell_type": "code",
   "execution_count": 93,
   "metadata": {
    "ExecuteTime": {
     "end_time": "2022-02-25T15:34:12.187831Z",
     "start_time": "2022-02-25T15:34:12.179658Z"
    }
   },
   "outputs": [],
   "source": [
    "smote = SMOTE()\n",
    "X_train_resampled, y_train_resampled = smote.fit_sample(X_train, y_train) "
   ]
  },
  {
   "cell_type": "markdown",
   "metadata": {},
   "source": [
    "## Decision Tree 3"
   ]
  },
  {
   "cell_type": "code",
   "execution_count": 94,
   "metadata": {
    "ExecuteTime": {
     "end_time": "2022-02-25T15:34:12.212126Z",
     "start_time": "2022-02-25T15:34:12.188924Z"
    }
   },
   "outputs": [],
   "source": [
    "dtree_3 = DecisionTreeClassifier(random_state=23, class_weight=\"balanced\")\n",
    "\n",
    "dtree_3.fit(X_train_resampled, y_train_resampled)\n",
    "dt3_y_pred = dtree_3.predict(X_test)"
   ]
  },
  {
   "cell_type": "code",
   "execution_count": 95,
   "metadata": {
    "ExecuteTime": {
     "end_time": "2022-02-25T15:34:12.240461Z",
     "start_time": "2022-02-25T15:34:12.213229Z"
    }
   },
   "outputs": [
    {
     "name": "stdout",
     "output_type": "stream",
     "text": [
      "DTree 3 Accuracy is :93.4052757793765\n",
      "DTree 3 Precision is :73.23943661971832\n",
      "DTree 3 Recall is :85.9504132231405\n",
      "DTree 3 F1 Score is :79.08745247148289\n",
      "DTree 3 AUC is :0.9\n",
      "DTree 3 Confusion Matrix\n",
      "----------------\n"
     ]
    },
    {
     "data": {
      "text/html": [
       "<div>\n",
       "<style scoped>\n",
       "    .dataframe tbody tr th:only-of-type {\n",
       "        vertical-align: middle;\n",
       "    }\n",
       "\n",
       "    .dataframe tbody tr th {\n",
       "        vertical-align: top;\n",
       "    }\n",
       "\n",
       "    .dataframe thead th {\n",
       "        text-align: right;\n",
       "    }\n",
       "</style>\n",
       "<table border=\"1\" class=\"dataframe\">\n",
       "  <thead>\n",
       "    <tr style=\"text-align: right;\">\n",
       "      <th>Predicted</th>\n",
       "      <th>0</th>\n",
       "      <th>1</th>\n",
       "      <th>All</th>\n",
       "    </tr>\n",
       "    <tr>\n",
       "      <th>True</th>\n",
       "      <th></th>\n",
       "      <th></th>\n",
       "      <th></th>\n",
       "    </tr>\n",
       "  </thead>\n",
       "  <tbody>\n",
       "    <tr>\n",
       "      <th>0</th>\n",
       "      <td>675</td>\n",
       "      <td>38</td>\n",
       "      <td>713</td>\n",
       "    </tr>\n",
       "    <tr>\n",
       "      <th>1</th>\n",
       "      <td>17</td>\n",
       "      <td>104</td>\n",
       "      <td>121</td>\n",
       "    </tr>\n",
       "    <tr>\n",
       "      <th>All</th>\n",
       "      <td>692</td>\n",
       "      <td>142</td>\n",
       "      <td>834</td>\n",
       "    </tr>\n",
       "  </tbody>\n",
       "</table>\n",
       "</div>"
      ],
      "text/plain": [
       "Predicted    0    1  All\n",
       "True                    \n",
       "0          675   38  713\n",
       "1           17  104  121\n",
       "All        692  142  834"
      ]
     },
     "execution_count": 95,
     "metadata": {},
     "output_type": "execute_result"
    }
   ],
   "source": [
    "# Calculate Classification Metrics\n",
    "\n",
    "dt3_acc = accuracy_score(y_test, dt3_y_pred) * 100\n",
    "print('DTree 3 Accuracy is :{0}'.format(dt3_acc))\n",
    "dt3_prec = precision_score(y_test, dt3_y_pred) * 100\n",
    "print('DTree 3 Precision is :{0}'.format(dt3_prec))\n",
    "dt3_rcl = recall_score(y_test, dt3_y_pred) * 100\n",
    "print('DTree 3 Recall is :{0}'.format(dt3_rcl))\n",
    "dt3_f1 = f1_score(y_test, dt3_y_pred) * 100\n",
    "print('DTree 3 F1 Score is :{0}'.format(dt3_f1))\n",
    "false_positive_rate, true_positive_rate, thresholds = roc_curve(y_test, dt3_y_pred)\n",
    "dt3_roc_auc = auc(false_positive_rate, true_positive_rate)\n",
    "print('DTree 3 AUC is :{0}'.format(round(dt3_roc_auc, 2)))\n",
    "print('DTree 3 Confusion Matrix')\n",
    "print('----------------')\n",
    "pd.crosstab(y_test, dt3_y_pred, rownames=['True'], colnames=['Predicted'], margins=True)"
   ]
  },
  {
   "cell_type": "markdown",
   "metadata": {},
   "source": [
    "## GridSearchCV"
   ]
  },
  {
   "cell_type": "code",
   "execution_count": 96,
   "metadata": {
    "ExecuteTime": {
     "end_time": "2022-02-25T15:34:19.965079Z",
     "start_time": "2022-02-25T15:34:12.241550Z"
    }
   },
   "outputs": [
    {
     "data": {
      "text/plain": [
       "GridSearchCV(cv=3,\n",
       "             estimator=DecisionTreeClassifier(class_weight='balanced',\n",
       "                                              random_state=23),\n",
       "             param_grid={'criterion': ['gini', 'entropy'],\n",
       "                         'max_depth': [None, 2, 3, 4, 5, 6],\n",
       "                         'min_samples_leaf': [1, 2, 3, 4, 5, 6],\n",
       "                         'min_samples_split': [2, 5, 10]},\n",
       "             return_train_score=True, scoring='f1')"
      ]
     },
     "execution_count": 96,
     "metadata": {},
     "output_type": "execute_result"
    }
   ],
   "source": [
    "dt3_grid_search = GridSearchCV(dtree_3, dt_param_grid, cv=3, scoring = 'f1', return_train_score=True)\n",
    "# Fit to the data\n",
    "dt3_grid_search.fit(X_train_resampled, y_train_resampled)"
   ]
  },
  {
   "cell_type": "code",
   "execution_count": 97,
   "metadata": {
    "ExecuteTime": {
     "end_time": "2022-02-25T15:34:19.971777Z",
     "start_time": "2022-02-25T15:34:19.966211Z"
    }
   },
   "outputs": [
    {
     "name": "stdout",
     "output_type": "stream",
     "text": [
      "DTree 3 Mean Training Score: 93.59%\n",
      "DTree 3 Mean Test Score: 80.95%\n",
      "DTree 3 Best Parameter Combination Found During Grid Search:\n"
     ]
    },
    {
     "data": {
      "text/plain": [
       "{'criterion': 'entropy',\n",
       " 'max_depth': None,\n",
       " 'min_samples_leaf': 2,\n",
       " 'min_samples_split': 2}"
      ]
     },
     "execution_count": 97,
     "metadata": {},
     "output_type": "execute_result"
    }
   ],
   "source": [
    "# Mean training score\n",
    "dt3_gs_training_score = np.mean(dt3_grid_search.cv_results_['mean_train_score'])\n",
    "\n",
    "# Mean test score\n",
    "dt3_gs_testing_score = dt3_grid_search.score(X_test, y_test)\n",
    "\n",
    "print(f\"DTree 3 Mean Training Score: {dt3_gs_training_score :.2%}\")\n",
    "print(f\"DTree 3 Mean Test Score: {dt3_gs_testing_score :.2%}\")\n",
    "print(\"DTree 3 Best Parameter Combination Found During Grid Search:\")\n",
    "dt3_grid_search.best_params_"
   ]
  },
  {
   "cell_type": "markdown",
   "metadata": {},
   "source": [
    "## Decision Tree 4"
   ]
  },
  {
   "cell_type": "code",
   "execution_count": 98,
   "metadata": {
    "ExecuteTime": {
     "end_time": "2022-02-25T15:34:19.974872Z",
     "start_time": "2022-02-25T15:34:19.972852Z"
    }
   },
   "outputs": [],
   "source": [
    "dtree_4 = DecisionTreeClassifier(criterion='entropy', \n",
    "                           max_depth=6,\n",
    "                          min_samples_split=2,\n",
    "                           min_samples_leaf=3,\n",
    "                            random_state=23)"
   ]
  },
  {
   "cell_type": "code",
   "execution_count": 99,
   "metadata": {
    "ExecuteTime": {
     "end_time": "2022-02-25T15:34:19.994095Z",
     "start_time": "2022-02-25T15:34:19.975948Z"
    }
   },
   "outputs": [],
   "source": [
    "dtree_4.fit(X_train_resampled, y_train_resampled)\n",
    "dt4_y_pred = dtree_4.predict(X_test)"
   ]
  },
  {
   "cell_type": "code",
   "execution_count": 100,
   "metadata": {
    "ExecuteTime": {
     "end_time": "2022-02-25T15:34:20.026069Z",
     "start_time": "2022-02-25T15:34:19.995100Z"
    }
   },
   "outputs": [
    {
     "name": "stdout",
     "output_type": "stream",
     "text": [
      "DTree 4 Accuracy is :96.64268585131894\n",
      "DTree 4 Precision is :73.23943661971832\n",
      "DTree 4 Recall is :83.47107438016529\n",
      "DTree 4 F1 Score is :87.82608695652173\n",
      "DTree 4 AUC is :0.91\n",
      "DTree 4 Confusion Matrix\n",
      "----------------\n"
     ]
    },
    {
     "data": {
      "text/html": [
       "<div>\n",
       "<style scoped>\n",
       "    .dataframe tbody tr th:only-of-type {\n",
       "        vertical-align: middle;\n",
       "    }\n",
       "\n",
       "    .dataframe tbody tr th {\n",
       "        vertical-align: top;\n",
       "    }\n",
       "\n",
       "    .dataframe thead th {\n",
       "        text-align: right;\n",
       "    }\n",
       "</style>\n",
       "<table border=\"1\" class=\"dataframe\">\n",
       "  <thead>\n",
       "    <tr style=\"text-align: right;\">\n",
       "      <th>Predicted</th>\n",
       "      <th>0</th>\n",
       "      <th>1</th>\n",
       "      <th>All</th>\n",
       "    </tr>\n",
       "    <tr>\n",
       "      <th>True</th>\n",
       "      <th></th>\n",
       "      <th></th>\n",
       "      <th></th>\n",
       "    </tr>\n",
       "  </thead>\n",
       "  <tbody>\n",
       "    <tr>\n",
       "      <th>0</th>\n",
       "      <td>705</td>\n",
       "      <td>8</td>\n",
       "      <td>713</td>\n",
       "    </tr>\n",
       "    <tr>\n",
       "      <th>1</th>\n",
       "      <td>20</td>\n",
       "      <td>101</td>\n",
       "      <td>121</td>\n",
       "    </tr>\n",
       "    <tr>\n",
       "      <th>All</th>\n",
       "      <td>725</td>\n",
       "      <td>109</td>\n",
       "      <td>834</td>\n",
       "    </tr>\n",
       "  </tbody>\n",
       "</table>\n",
       "</div>"
      ],
      "text/plain": [
       "Predicted    0    1  All\n",
       "True                    \n",
       "0          705    8  713\n",
       "1           20  101  121\n",
       "All        725  109  834"
      ]
     },
     "execution_count": 100,
     "metadata": {},
     "output_type": "execute_result"
    }
   ],
   "source": [
    "# Calculate Classification Metrics\n",
    "\n",
    "dt4_acc = accuracy_score(y_test, dt4_y_pred) * 100\n",
    "print('DTree 4 Accuracy is :{0}'.format(dt4_acc))\n",
    "dt4_prec = precision_score(y_test, dt3_y_pred) * 100\n",
    "print('DTree 4 Precision is :{0}'.format(dt4_prec))\n",
    "dt4_rcl = recall_score(y_test, dt4_y_pred) * 100\n",
    "print('DTree 4 Recall is :{0}'.format(dt4_rcl))\n",
    "dt4_f1 = f1_score(y_test, dt4_y_pred) * 100\n",
    "print('DTree 4 F1 Score is :{0}'.format(dt4_f1))\n",
    "false_positive_rate, true_positive_rate, thresholds = roc_curve(y_test, dt4_y_pred)\n",
    "dt4_roc_auc = auc(false_positive_rate, true_positive_rate)\n",
    "print('DTree 4 AUC is :{0}'.format(round(dt4_roc_auc, 2)))\n",
    "print('DTree 4 Confusion Matrix')\n",
    "print('----------------')\n",
    "pd.crosstab(y_test, dt4_y_pred, rownames=['True'], colnames=['Predicted'], margins=True)"
   ]
  },
  {
   "cell_type": "markdown",
   "metadata": {},
   "source": [
    "## Random Forests 3"
   ]
  },
  {
   "cell_type": "code",
   "execution_count": 101,
   "metadata": {
    "ExecuteTime": {
     "end_time": "2022-02-25T15:34:20.029056Z",
     "start_time": "2022-02-25T15:34:20.027284Z"
    }
   },
   "outputs": [],
   "source": [
    "rf3_clf = RandomForestClassifier(random_state=23, class_weight=\"balanced\")"
   ]
  },
  {
   "cell_type": "code",
   "execution_count": 102,
   "metadata": {
    "ExecuteTime": {
     "end_time": "2022-02-25T15:34:32.289710Z",
     "start_time": "2022-02-25T15:34:20.030068Z"
    }
   },
   "outputs": [
    {
     "ename": "KeyboardInterrupt",
     "evalue": "",
     "output_type": "error",
     "traceback": [
      "\u001b[0;31m---------------------------------------------------------------------------\u001b[0m",
      "\u001b[0;31mKeyboardInterrupt\u001b[0m                         Traceback (most recent call last)",
      "\u001b[0;32m<ipython-input-102-4c5dcebaa367>\u001b[0m in \u001b[0;36m<module>\u001b[0;34m\u001b[0m\n\u001b[1;32m      1\u001b[0m \u001b[0;31m#rf2_grid_search = GridSearchCV(rf2_clf, rf_param_grid, scoring = 'recall', cv=3)\u001b[0m\u001b[0;34m\u001b[0m\u001b[0;34m\u001b[0m\u001b[0;34m\u001b[0m\u001b[0m\n\u001b[1;32m      2\u001b[0m \u001b[0mrf3_grid_search\u001b[0m \u001b[0;34m=\u001b[0m \u001b[0mGridSearchCV\u001b[0m\u001b[0;34m(\u001b[0m\u001b[0mrf3_clf\u001b[0m\u001b[0;34m,\u001b[0m \u001b[0mrf_param_grid\u001b[0m\u001b[0;34m,\u001b[0m \u001b[0mscoring\u001b[0m \u001b[0;34m=\u001b[0m \u001b[0;34m'f1'\u001b[0m\u001b[0;34m,\u001b[0m \u001b[0mcv\u001b[0m\u001b[0;34m=\u001b[0m\u001b[0;36m3\u001b[0m\u001b[0;34m)\u001b[0m\u001b[0;34m\u001b[0m\u001b[0;34m\u001b[0m\u001b[0m\n\u001b[0;32m----> 3\u001b[0;31m \u001b[0mrf3_grid_search\u001b[0m\u001b[0;34m.\u001b[0m\u001b[0mfit\u001b[0m\u001b[0;34m(\u001b[0m\u001b[0mX_train_resampled\u001b[0m\u001b[0;34m,\u001b[0m \u001b[0my_train_resampled\u001b[0m\u001b[0;34m)\u001b[0m\u001b[0;34m\u001b[0m\u001b[0;34m\u001b[0m\u001b[0m\n\u001b[0m\u001b[1;32m      4\u001b[0m \u001b[0;34m\u001b[0m\u001b[0m\n\u001b[1;32m      5\u001b[0m \u001b[0mprint\u001b[0m\u001b[0;34m(\u001b[0m\u001b[0;34mf\"Random Forest 3 Training Accuracy: {rf3_grid_search.best_score_ :.2%}\"\u001b[0m\u001b[0;34m)\u001b[0m\u001b[0;34m\u001b[0m\u001b[0;34m\u001b[0m\u001b[0m\n",
      "\u001b[0;32m~/opt/anaconda3/envs/learn-env/lib/python3.8/site-packages/sklearn/utils/validation.py\u001b[0m in \u001b[0;36minner_f\u001b[0;34m(*args, **kwargs)\u001b[0m\n\u001b[1;32m     70\u001b[0m                           FutureWarning)\n\u001b[1;32m     71\u001b[0m         \u001b[0mkwargs\u001b[0m\u001b[0;34m.\u001b[0m\u001b[0mupdate\u001b[0m\u001b[0;34m(\u001b[0m\u001b[0;34m{\u001b[0m\u001b[0mk\u001b[0m\u001b[0;34m:\u001b[0m \u001b[0marg\u001b[0m \u001b[0;32mfor\u001b[0m \u001b[0mk\u001b[0m\u001b[0;34m,\u001b[0m \u001b[0marg\u001b[0m \u001b[0;32min\u001b[0m \u001b[0mzip\u001b[0m\u001b[0;34m(\u001b[0m\u001b[0msig\u001b[0m\u001b[0;34m.\u001b[0m\u001b[0mparameters\u001b[0m\u001b[0;34m,\u001b[0m \u001b[0margs\u001b[0m\u001b[0;34m)\u001b[0m\u001b[0;34m}\u001b[0m\u001b[0;34m)\u001b[0m\u001b[0;34m\u001b[0m\u001b[0;34m\u001b[0m\u001b[0m\n\u001b[0;32m---> 72\u001b[0;31m         \u001b[0;32mreturn\u001b[0m \u001b[0mf\u001b[0m\u001b[0;34m(\u001b[0m\u001b[0;34m**\u001b[0m\u001b[0mkwargs\u001b[0m\u001b[0;34m)\u001b[0m\u001b[0;34m\u001b[0m\u001b[0;34m\u001b[0m\u001b[0m\n\u001b[0m\u001b[1;32m     73\u001b[0m     \u001b[0;32mreturn\u001b[0m \u001b[0minner_f\u001b[0m\u001b[0;34m\u001b[0m\u001b[0;34m\u001b[0m\u001b[0m\n\u001b[1;32m     74\u001b[0m \u001b[0;34m\u001b[0m\u001b[0m\n",
      "\u001b[0;32m~/opt/anaconda3/envs/learn-env/lib/python3.8/site-packages/sklearn/model_selection/_search.py\u001b[0m in \u001b[0;36mfit\u001b[0;34m(self, X, y, groups, **fit_params)\u001b[0m\n\u001b[1;32m    734\u001b[0m                 \u001b[0;32mreturn\u001b[0m \u001b[0mresults\u001b[0m\u001b[0;34m\u001b[0m\u001b[0;34m\u001b[0m\u001b[0m\n\u001b[1;32m    735\u001b[0m \u001b[0;34m\u001b[0m\u001b[0m\n\u001b[0;32m--> 736\u001b[0;31m             \u001b[0mself\u001b[0m\u001b[0;34m.\u001b[0m\u001b[0m_run_search\u001b[0m\u001b[0;34m(\u001b[0m\u001b[0mevaluate_candidates\u001b[0m\u001b[0;34m)\u001b[0m\u001b[0;34m\u001b[0m\u001b[0;34m\u001b[0m\u001b[0m\n\u001b[0m\u001b[1;32m    737\u001b[0m \u001b[0;34m\u001b[0m\u001b[0m\n\u001b[1;32m    738\u001b[0m         \u001b[0;31m# For multi-metric evaluation, store the best_index_, best_params_ and\u001b[0m\u001b[0;34m\u001b[0m\u001b[0;34m\u001b[0m\u001b[0;34m\u001b[0m\u001b[0m\n",
      "\u001b[0;32m~/opt/anaconda3/envs/learn-env/lib/python3.8/site-packages/sklearn/model_selection/_search.py\u001b[0m in \u001b[0;36m_run_search\u001b[0;34m(self, evaluate_candidates)\u001b[0m\n\u001b[1;32m   1186\u001b[0m     \u001b[0;32mdef\u001b[0m \u001b[0m_run_search\u001b[0m\u001b[0;34m(\u001b[0m\u001b[0mself\u001b[0m\u001b[0;34m,\u001b[0m \u001b[0mevaluate_candidates\u001b[0m\u001b[0;34m)\u001b[0m\u001b[0;34m:\u001b[0m\u001b[0;34m\u001b[0m\u001b[0;34m\u001b[0m\u001b[0m\n\u001b[1;32m   1187\u001b[0m         \u001b[0;34m\"\"\"Search all candidates in param_grid\"\"\"\u001b[0m\u001b[0;34m\u001b[0m\u001b[0;34m\u001b[0m\u001b[0m\n\u001b[0;32m-> 1188\u001b[0;31m         \u001b[0mevaluate_candidates\u001b[0m\u001b[0;34m(\u001b[0m\u001b[0mParameterGrid\u001b[0m\u001b[0;34m(\u001b[0m\u001b[0mself\u001b[0m\u001b[0;34m.\u001b[0m\u001b[0mparam_grid\u001b[0m\u001b[0;34m)\u001b[0m\u001b[0;34m)\u001b[0m\u001b[0;34m\u001b[0m\u001b[0;34m\u001b[0m\u001b[0m\n\u001b[0m\u001b[1;32m   1189\u001b[0m \u001b[0;34m\u001b[0m\u001b[0m\n\u001b[1;32m   1190\u001b[0m \u001b[0;34m\u001b[0m\u001b[0m\n",
      "\u001b[0;32m~/opt/anaconda3/envs/learn-env/lib/python3.8/site-packages/sklearn/model_selection/_search.py\u001b[0m in \u001b[0;36mevaluate_candidates\u001b[0;34m(candidate_params)\u001b[0m\n\u001b[1;32m    706\u001b[0m                               n_splits, n_candidates, n_candidates * n_splits))\n\u001b[1;32m    707\u001b[0m \u001b[0;34m\u001b[0m\u001b[0m\n\u001b[0;32m--> 708\u001b[0;31m                 out = parallel(delayed(_fit_and_score)(clone(base_estimator),\n\u001b[0m\u001b[1;32m    709\u001b[0m                                                        \u001b[0mX\u001b[0m\u001b[0;34m,\u001b[0m \u001b[0my\u001b[0m\u001b[0;34m,\u001b[0m\u001b[0;34m\u001b[0m\u001b[0;34m\u001b[0m\u001b[0m\n\u001b[1;32m    710\u001b[0m                                                        \u001b[0mtrain\u001b[0m\u001b[0;34m=\u001b[0m\u001b[0mtrain\u001b[0m\u001b[0;34m,\u001b[0m \u001b[0mtest\u001b[0m\u001b[0;34m=\u001b[0m\u001b[0mtest\u001b[0m\u001b[0;34m,\u001b[0m\u001b[0;34m\u001b[0m\u001b[0;34m\u001b[0m\u001b[0m\n",
      "\u001b[0;32m~/opt/anaconda3/envs/learn-env/lib/python3.8/site-packages/joblib/parallel.py\u001b[0m in \u001b[0;36m__call__\u001b[0;34m(self, iterable)\u001b[0m\n\u001b[1;32m   1049\u001b[0m                 \u001b[0mself\u001b[0m\u001b[0;34m.\u001b[0m\u001b[0m_iterating\u001b[0m \u001b[0;34m=\u001b[0m \u001b[0mself\u001b[0m\u001b[0;34m.\u001b[0m\u001b[0m_original_iterator\u001b[0m \u001b[0;32mis\u001b[0m \u001b[0;32mnot\u001b[0m \u001b[0;32mNone\u001b[0m\u001b[0;34m\u001b[0m\u001b[0;34m\u001b[0m\u001b[0m\n\u001b[1;32m   1050\u001b[0m \u001b[0;34m\u001b[0m\u001b[0m\n\u001b[0;32m-> 1051\u001b[0;31m             \u001b[0;32mwhile\u001b[0m \u001b[0mself\u001b[0m\u001b[0;34m.\u001b[0m\u001b[0mdispatch_one_batch\u001b[0m\u001b[0;34m(\u001b[0m\u001b[0miterator\u001b[0m\u001b[0;34m)\u001b[0m\u001b[0;34m:\u001b[0m\u001b[0;34m\u001b[0m\u001b[0;34m\u001b[0m\u001b[0m\n\u001b[0m\u001b[1;32m   1052\u001b[0m                 \u001b[0;32mpass\u001b[0m\u001b[0;34m\u001b[0m\u001b[0;34m\u001b[0m\u001b[0m\n\u001b[1;32m   1053\u001b[0m \u001b[0;34m\u001b[0m\u001b[0m\n",
      "\u001b[0;32m~/opt/anaconda3/envs/learn-env/lib/python3.8/site-packages/joblib/parallel.py\u001b[0m in \u001b[0;36mdispatch_one_batch\u001b[0;34m(self, iterator)\u001b[0m\n\u001b[1;32m    864\u001b[0m                 \u001b[0;32mreturn\u001b[0m \u001b[0;32mFalse\u001b[0m\u001b[0;34m\u001b[0m\u001b[0;34m\u001b[0m\u001b[0m\n\u001b[1;32m    865\u001b[0m             \u001b[0;32melse\u001b[0m\u001b[0;34m:\u001b[0m\u001b[0;34m\u001b[0m\u001b[0;34m\u001b[0m\u001b[0m\n\u001b[0;32m--> 866\u001b[0;31m                 \u001b[0mself\u001b[0m\u001b[0;34m.\u001b[0m\u001b[0m_dispatch\u001b[0m\u001b[0;34m(\u001b[0m\u001b[0mtasks\u001b[0m\u001b[0;34m)\u001b[0m\u001b[0;34m\u001b[0m\u001b[0;34m\u001b[0m\u001b[0m\n\u001b[0m\u001b[1;32m    867\u001b[0m                 \u001b[0;32mreturn\u001b[0m \u001b[0;32mTrue\u001b[0m\u001b[0;34m\u001b[0m\u001b[0;34m\u001b[0m\u001b[0m\n\u001b[1;32m    868\u001b[0m \u001b[0;34m\u001b[0m\u001b[0m\n",
      "\u001b[0;32m~/opt/anaconda3/envs/learn-env/lib/python3.8/site-packages/joblib/parallel.py\u001b[0m in \u001b[0;36m_dispatch\u001b[0;34m(self, batch)\u001b[0m\n\u001b[1;32m    782\u001b[0m         \u001b[0;32mwith\u001b[0m \u001b[0mself\u001b[0m\u001b[0;34m.\u001b[0m\u001b[0m_lock\u001b[0m\u001b[0;34m:\u001b[0m\u001b[0;34m\u001b[0m\u001b[0;34m\u001b[0m\u001b[0m\n\u001b[1;32m    783\u001b[0m             \u001b[0mjob_idx\u001b[0m \u001b[0;34m=\u001b[0m \u001b[0mlen\u001b[0m\u001b[0;34m(\u001b[0m\u001b[0mself\u001b[0m\u001b[0;34m.\u001b[0m\u001b[0m_jobs\u001b[0m\u001b[0;34m)\u001b[0m\u001b[0;34m\u001b[0m\u001b[0;34m\u001b[0m\u001b[0m\n\u001b[0;32m--> 784\u001b[0;31m             \u001b[0mjob\u001b[0m \u001b[0;34m=\u001b[0m \u001b[0mself\u001b[0m\u001b[0;34m.\u001b[0m\u001b[0m_backend\u001b[0m\u001b[0;34m.\u001b[0m\u001b[0mapply_async\u001b[0m\u001b[0;34m(\u001b[0m\u001b[0mbatch\u001b[0m\u001b[0;34m,\u001b[0m \u001b[0mcallback\u001b[0m\u001b[0;34m=\u001b[0m\u001b[0mcb\u001b[0m\u001b[0;34m)\u001b[0m\u001b[0;34m\u001b[0m\u001b[0;34m\u001b[0m\u001b[0m\n\u001b[0m\u001b[1;32m    785\u001b[0m             \u001b[0;31m# A job can complete so quickly than its callback is\u001b[0m\u001b[0;34m\u001b[0m\u001b[0;34m\u001b[0m\u001b[0;34m\u001b[0m\u001b[0m\n\u001b[1;32m    786\u001b[0m             \u001b[0;31m# called before we get here, causing self._jobs to\u001b[0m\u001b[0;34m\u001b[0m\u001b[0;34m\u001b[0m\u001b[0;34m\u001b[0m\u001b[0m\n",
      "\u001b[0;32m~/opt/anaconda3/envs/learn-env/lib/python3.8/site-packages/joblib/_parallel_backends.py\u001b[0m in \u001b[0;36mapply_async\u001b[0;34m(self, func, callback)\u001b[0m\n\u001b[1;32m    206\u001b[0m     \u001b[0;32mdef\u001b[0m \u001b[0mapply_async\u001b[0m\u001b[0;34m(\u001b[0m\u001b[0mself\u001b[0m\u001b[0;34m,\u001b[0m \u001b[0mfunc\u001b[0m\u001b[0;34m,\u001b[0m \u001b[0mcallback\u001b[0m\u001b[0;34m=\u001b[0m\u001b[0;32mNone\u001b[0m\u001b[0;34m)\u001b[0m\u001b[0;34m:\u001b[0m\u001b[0;34m\u001b[0m\u001b[0;34m\u001b[0m\u001b[0m\n\u001b[1;32m    207\u001b[0m         \u001b[0;34m\"\"\"Schedule a func to be run\"\"\"\u001b[0m\u001b[0;34m\u001b[0m\u001b[0;34m\u001b[0m\u001b[0m\n\u001b[0;32m--> 208\u001b[0;31m         \u001b[0mresult\u001b[0m \u001b[0;34m=\u001b[0m \u001b[0mImmediateResult\u001b[0m\u001b[0;34m(\u001b[0m\u001b[0mfunc\u001b[0m\u001b[0;34m)\u001b[0m\u001b[0;34m\u001b[0m\u001b[0;34m\u001b[0m\u001b[0m\n\u001b[0m\u001b[1;32m    209\u001b[0m         \u001b[0;32mif\u001b[0m \u001b[0mcallback\u001b[0m\u001b[0;34m:\u001b[0m\u001b[0;34m\u001b[0m\u001b[0;34m\u001b[0m\u001b[0m\n\u001b[1;32m    210\u001b[0m             \u001b[0mcallback\u001b[0m\u001b[0;34m(\u001b[0m\u001b[0mresult\u001b[0m\u001b[0;34m)\u001b[0m\u001b[0;34m\u001b[0m\u001b[0;34m\u001b[0m\u001b[0m\n",
      "\u001b[0;32m~/opt/anaconda3/envs/learn-env/lib/python3.8/site-packages/joblib/_parallel_backends.py\u001b[0m in \u001b[0;36m__init__\u001b[0;34m(self, batch)\u001b[0m\n\u001b[1;32m    570\u001b[0m         \u001b[0;31m# Don't delay the application, to avoid keeping the input\u001b[0m\u001b[0;34m\u001b[0m\u001b[0;34m\u001b[0m\u001b[0;34m\u001b[0m\u001b[0m\n\u001b[1;32m    571\u001b[0m         \u001b[0;31m# arguments in memory\u001b[0m\u001b[0;34m\u001b[0m\u001b[0;34m\u001b[0m\u001b[0;34m\u001b[0m\u001b[0m\n\u001b[0;32m--> 572\u001b[0;31m         \u001b[0mself\u001b[0m\u001b[0;34m.\u001b[0m\u001b[0mresults\u001b[0m \u001b[0;34m=\u001b[0m \u001b[0mbatch\u001b[0m\u001b[0;34m(\u001b[0m\u001b[0;34m)\u001b[0m\u001b[0;34m\u001b[0m\u001b[0;34m\u001b[0m\u001b[0m\n\u001b[0m\u001b[1;32m    573\u001b[0m \u001b[0;34m\u001b[0m\u001b[0m\n\u001b[1;32m    574\u001b[0m     \u001b[0;32mdef\u001b[0m \u001b[0mget\u001b[0m\u001b[0;34m(\u001b[0m\u001b[0mself\u001b[0m\u001b[0;34m)\u001b[0m\u001b[0;34m:\u001b[0m\u001b[0;34m\u001b[0m\u001b[0;34m\u001b[0m\u001b[0m\n",
      "\u001b[0;32m~/opt/anaconda3/envs/learn-env/lib/python3.8/site-packages/joblib/parallel.py\u001b[0m in \u001b[0;36m__call__\u001b[0;34m(self)\u001b[0m\n\u001b[1;32m    260\u001b[0m         \u001b[0;31m# change the default number of processes to -1\u001b[0m\u001b[0;34m\u001b[0m\u001b[0;34m\u001b[0m\u001b[0;34m\u001b[0m\u001b[0m\n\u001b[1;32m    261\u001b[0m         \u001b[0;32mwith\u001b[0m \u001b[0mparallel_backend\u001b[0m\u001b[0;34m(\u001b[0m\u001b[0mself\u001b[0m\u001b[0;34m.\u001b[0m\u001b[0m_backend\u001b[0m\u001b[0;34m,\u001b[0m \u001b[0mn_jobs\u001b[0m\u001b[0;34m=\u001b[0m\u001b[0mself\u001b[0m\u001b[0;34m.\u001b[0m\u001b[0m_n_jobs\u001b[0m\u001b[0;34m)\u001b[0m\u001b[0;34m:\u001b[0m\u001b[0;34m\u001b[0m\u001b[0;34m\u001b[0m\u001b[0m\n\u001b[0;32m--> 262\u001b[0;31m             return [func(*args, **kwargs)\n\u001b[0m\u001b[1;32m    263\u001b[0m                     for func, args, kwargs in self.items]\n\u001b[1;32m    264\u001b[0m \u001b[0;34m\u001b[0m\u001b[0m\n",
      "\u001b[0;32m~/opt/anaconda3/envs/learn-env/lib/python3.8/site-packages/joblib/parallel.py\u001b[0m in \u001b[0;36m<listcomp>\u001b[0;34m(.0)\u001b[0m\n\u001b[1;32m    260\u001b[0m         \u001b[0;31m# change the default number of processes to -1\u001b[0m\u001b[0;34m\u001b[0m\u001b[0;34m\u001b[0m\u001b[0;34m\u001b[0m\u001b[0m\n\u001b[1;32m    261\u001b[0m         \u001b[0;32mwith\u001b[0m \u001b[0mparallel_backend\u001b[0m\u001b[0;34m(\u001b[0m\u001b[0mself\u001b[0m\u001b[0;34m.\u001b[0m\u001b[0m_backend\u001b[0m\u001b[0;34m,\u001b[0m \u001b[0mn_jobs\u001b[0m\u001b[0;34m=\u001b[0m\u001b[0mself\u001b[0m\u001b[0;34m.\u001b[0m\u001b[0m_n_jobs\u001b[0m\u001b[0;34m)\u001b[0m\u001b[0;34m:\u001b[0m\u001b[0;34m\u001b[0m\u001b[0;34m\u001b[0m\u001b[0m\n\u001b[0;32m--> 262\u001b[0;31m             return [func(*args, **kwargs)\n\u001b[0m\u001b[1;32m    263\u001b[0m                     for func, args, kwargs in self.items]\n\u001b[1;32m    264\u001b[0m \u001b[0;34m\u001b[0m\u001b[0m\n",
      "\u001b[0;32m~/opt/anaconda3/envs/learn-env/lib/python3.8/site-packages/sklearn/model_selection/_validation.py\u001b[0m in \u001b[0;36m_fit_and_score\u001b[0;34m(estimator, X, y, scorer, train, test, verbose, parameters, fit_params, return_train_score, return_parameters, return_n_test_samples, return_times, return_estimator, error_score)\u001b[0m\n\u001b[1;32m    529\u001b[0m             \u001b[0mestimator\u001b[0m\u001b[0;34m.\u001b[0m\u001b[0mfit\u001b[0m\u001b[0;34m(\u001b[0m\u001b[0mX_train\u001b[0m\u001b[0;34m,\u001b[0m \u001b[0;34m**\u001b[0m\u001b[0mfit_params\u001b[0m\u001b[0;34m)\u001b[0m\u001b[0;34m\u001b[0m\u001b[0;34m\u001b[0m\u001b[0m\n\u001b[1;32m    530\u001b[0m         \u001b[0;32melse\u001b[0m\u001b[0;34m:\u001b[0m\u001b[0;34m\u001b[0m\u001b[0;34m\u001b[0m\u001b[0m\n\u001b[0;32m--> 531\u001b[0;31m             \u001b[0mestimator\u001b[0m\u001b[0;34m.\u001b[0m\u001b[0mfit\u001b[0m\u001b[0;34m(\u001b[0m\u001b[0mX_train\u001b[0m\u001b[0;34m,\u001b[0m \u001b[0my_train\u001b[0m\u001b[0;34m,\u001b[0m \u001b[0;34m**\u001b[0m\u001b[0mfit_params\u001b[0m\u001b[0;34m)\u001b[0m\u001b[0;34m\u001b[0m\u001b[0;34m\u001b[0m\u001b[0m\n\u001b[0m\u001b[1;32m    532\u001b[0m \u001b[0;34m\u001b[0m\u001b[0m\n\u001b[1;32m    533\u001b[0m     \u001b[0;32mexcept\u001b[0m \u001b[0mException\u001b[0m \u001b[0;32mas\u001b[0m \u001b[0me\u001b[0m\u001b[0;34m:\u001b[0m\u001b[0;34m\u001b[0m\u001b[0;34m\u001b[0m\u001b[0m\n",
      "\u001b[0;32m~/opt/anaconda3/envs/learn-env/lib/python3.8/site-packages/sklearn/ensemble/_forest.py\u001b[0m in \u001b[0;36mfit\u001b[0;34m(self, X, y, sample_weight)\u001b[0m\n\u001b[1;32m    384\u001b[0m             \u001b[0;31m# parallel_backend contexts set at a higher level,\u001b[0m\u001b[0;34m\u001b[0m\u001b[0;34m\u001b[0m\u001b[0;34m\u001b[0m\u001b[0m\n\u001b[1;32m    385\u001b[0m             \u001b[0;31m# since correctness does not rely on using threads.\u001b[0m\u001b[0;34m\u001b[0m\u001b[0;34m\u001b[0m\u001b[0;34m\u001b[0m\u001b[0m\n\u001b[0;32m--> 386\u001b[0;31m             trees = Parallel(n_jobs=self.n_jobs, verbose=self.verbose,\n\u001b[0m\u001b[1;32m    387\u001b[0m                              \u001b[0;34m**\u001b[0m\u001b[0m_joblib_parallel_args\u001b[0m\u001b[0;34m(\u001b[0m\u001b[0mprefer\u001b[0m\u001b[0;34m=\u001b[0m\u001b[0;34m'threads'\u001b[0m\u001b[0;34m)\u001b[0m\u001b[0;34m)\u001b[0m\u001b[0;34m(\u001b[0m\u001b[0;34m\u001b[0m\u001b[0;34m\u001b[0m\u001b[0m\n\u001b[1;32m    388\u001b[0m                 delayed(_parallel_build_trees)(\n",
      "\u001b[0;32m~/opt/anaconda3/envs/learn-env/lib/python3.8/site-packages/joblib/parallel.py\u001b[0m in \u001b[0;36m__call__\u001b[0;34m(self, iterable)\u001b[0m\n\u001b[1;32m   1049\u001b[0m                 \u001b[0mself\u001b[0m\u001b[0;34m.\u001b[0m\u001b[0m_iterating\u001b[0m \u001b[0;34m=\u001b[0m \u001b[0mself\u001b[0m\u001b[0;34m.\u001b[0m\u001b[0m_original_iterator\u001b[0m \u001b[0;32mis\u001b[0m \u001b[0;32mnot\u001b[0m \u001b[0;32mNone\u001b[0m\u001b[0;34m\u001b[0m\u001b[0;34m\u001b[0m\u001b[0m\n\u001b[1;32m   1050\u001b[0m \u001b[0;34m\u001b[0m\u001b[0m\n\u001b[0;32m-> 1051\u001b[0;31m             \u001b[0;32mwhile\u001b[0m \u001b[0mself\u001b[0m\u001b[0;34m.\u001b[0m\u001b[0mdispatch_one_batch\u001b[0m\u001b[0;34m(\u001b[0m\u001b[0miterator\u001b[0m\u001b[0;34m)\u001b[0m\u001b[0;34m:\u001b[0m\u001b[0;34m\u001b[0m\u001b[0;34m\u001b[0m\u001b[0m\n\u001b[0m\u001b[1;32m   1052\u001b[0m                 \u001b[0;32mpass\u001b[0m\u001b[0;34m\u001b[0m\u001b[0;34m\u001b[0m\u001b[0m\n\u001b[1;32m   1053\u001b[0m \u001b[0;34m\u001b[0m\u001b[0m\n",
      "\u001b[0;32m~/opt/anaconda3/envs/learn-env/lib/python3.8/site-packages/joblib/parallel.py\u001b[0m in \u001b[0;36mdispatch_one_batch\u001b[0;34m(self, iterator)\u001b[0m\n\u001b[1;32m    864\u001b[0m                 \u001b[0;32mreturn\u001b[0m \u001b[0;32mFalse\u001b[0m\u001b[0;34m\u001b[0m\u001b[0;34m\u001b[0m\u001b[0m\n\u001b[1;32m    865\u001b[0m             \u001b[0;32melse\u001b[0m\u001b[0;34m:\u001b[0m\u001b[0;34m\u001b[0m\u001b[0;34m\u001b[0m\u001b[0m\n\u001b[0;32m--> 866\u001b[0;31m                 \u001b[0mself\u001b[0m\u001b[0;34m.\u001b[0m\u001b[0m_dispatch\u001b[0m\u001b[0;34m(\u001b[0m\u001b[0mtasks\u001b[0m\u001b[0;34m)\u001b[0m\u001b[0;34m\u001b[0m\u001b[0;34m\u001b[0m\u001b[0m\n\u001b[0m\u001b[1;32m    867\u001b[0m                 \u001b[0;32mreturn\u001b[0m \u001b[0;32mTrue\u001b[0m\u001b[0;34m\u001b[0m\u001b[0;34m\u001b[0m\u001b[0m\n\u001b[1;32m    868\u001b[0m \u001b[0;34m\u001b[0m\u001b[0m\n",
      "\u001b[0;32m~/opt/anaconda3/envs/learn-env/lib/python3.8/site-packages/joblib/parallel.py\u001b[0m in \u001b[0;36m_dispatch\u001b[0;34m(self, batch)\u001b[0m\n\u001b[1;32m    782\u001b[0m         \u001b[0;32mwith\u001b[0m \u001b[0mself\u001b[0m\u001b[0;34m.\u001b[0m\u001b[0m_lock\u001b[0m\u001b[0;34m:\u001b[0m\u001b[0;34m\u001b[0m\u001b[0;34m\u001b[0m\u001b[0m\n\u001b[1;32m    783\u001b[0m             \u001b[0mjob_idx\u001b[0m \u001b[0;34m=\u001b[0m \u001b[0mlen\u001b[0m\u001b[0;34m(\u001b[0m\u001b[0mself\u001b[0m\u001b[0;34m.\u001b[0m\u001b[0m_jobs\u001b[0m\u001b[0;34m)\u001b[0m\u001b[0;34m\u001b[0m\u001b[0;34m\u001b[0m\u001b[0m\n\u001b[0;32m--> 784\u001b[0;31m             \u001b[0mjob\u001b[0m \u001b[0;34m=\u001b[0m \u001b[0mself\u001b[0m\u001b[0;34m.\u001b[0m\u001b[0m_backend\u001b[0m\u001b[0;34m.\u001b[0m\u001b[0mapply_async\u001b[0m\u001b[0;34m(\u001b[0m\u001b[0mbatch\u001b[0m\u001b[0;34m,\u001b[0m \u001b[0mcallback\u001b[0m\u001b[0;34m=\u001b[0m\u001b[0mcb\u001b[0m\u001b[0;34m)\u001b[0m\u001b[0;34m\u001b[0m\u001b[0;34m\u001b[0m\u001b[0m\n\u001b[0m\u001b[1;32m    785\u001b[0m             \u001b[0;31m# A job can complete so quickly than its callback is\u001b[0m\u001b[0;34m\u001b[0m\u001b[0;34m\u001b[0m\u001b[0;34m\u001b[0m\u001b[0m\n\u001b[1;32m    786\u001b[0m             \u001b[0;31m# called before we get here, causing self._jobs to\u001b[0m\u001b[0;34m\u001b[0m\u001b[0;34m\u001b[0m\u001b[0;34m\u001b[0m\u001b[0m\n",
      "\u001b[0;32m~/opt/anaconda3/envs/learn-env/lib/python3.8/site-packages/joblib/_parallel_backends.py\u001b[0m in \u001b[0;36mapply_async\u001b[0;34m(self, func, callback)\u001b[0m\n\u001b[1;32m    206\u001b[0m     \u001b[0;32mdef\u001b[0m \u001b[0mapply_async\u001b[0m\u001b[0;34m(\u001b[0m\u001b[0mself\u001b[0m\u001b[0;34m,\u001b[0m \u001b[0mfunc\u001b[0m\u001b[0;34m,\u001b[0m \u001b[0mcallback\u001b[0m\u001b[0;34m=\u001b[0m\u001b[0;32mNone\u001b[0m\u001b[0;34m)\u001b[0m\u001b[0;34m:\u001b[0m\u001b[0;34m\u001b[0m\u001b[0;34m\u001b[0m\u001b[0m\n\u001b[1;32m    207\u001b[0m         \u001b[0;34m\"\"\"Schedule a func to be run\"\"\"\u001b[0m\u001b[0;34m\u001b[0m\u001b[0;34m\u001b[0m\u001b[0m\n\u001b[0;32m--> 208\u001b[0;31m         \u001b[0mresult\u001b[0m \u001b[0;34m=\u001b[0m \u001b[0mImmediateResult\u001b[0m\u001b[0;34m(\u001b[0m\u001b[0mfunc\u001b[0m\u001b[0;34m)\u001b[0m\u001b[0;34m\u001b[0m\u001b[0;34m\u001b[0m\u001b[0m\n\u001b[0m\u001b[1;32m    209\u001b[0m         \u001b[0;32mif\u001b[0m \u001b[0mcallback\u001b[0m\u001b[0;34m:\u001b[0m\u001b[0;34m\u001b[0m\u001b[0;34m\u001b[0m\u001b[0m\n\u001b[1;32m    210\u001b[0m             \u001b[0mcallback\u001b[0m\u001b[0;34m(\u001b[0m\u001b[0mresult\u001b[0m\u001b[0;34m)\u001b[0m\u001b[0;34m\u001b[0m\u001b[0;34m\u001b[0m\u001b[0m\n",
      "\u001b[0;32m~/opt/anaconda3/envs/learn-env/lib/python3.8/site-packages/joblib/_parallel_backends.py\u001b[0m in \u001b[0;36m__init__\u001b[0;34m(self, batch)\u001b[0m\n\u001b[1;32m    570\u001b[0m         \u001b[0;31m# Don't delay the application, to avoid keeping the input\u001b[0m\u001b[0;34m\u001b[0m\u001b[0;34m\u001b[0m\u001b[0;34m\u001b[0m\u001b[0m\n\u001b[1;32m    571\u001b[0m         \u001b[0;31m# arguments in memory\u001b[0m\u001b[0;34m\u001b[0m\u001b[0;34m\u001b[0m\u001b[0;34m\u001b[0m\u001b[0m\n\u001b[0;32m--> 572\u001b[0;31m         \u001b[0mself\u001b[0m\u001b[0;34m.\u001b[0m\u001b[0mresults\u001b[0m \u001b[0;34m=\u001b[0m \u001b[0mbatch\u001b[0m\u001b[0;34m(\u001b[0m\u001b[0;34m)\u001b[0m\u001b[0;34m\u001b[0m\u001b[0;34m\u001b[0m\u001b[0m\n\u001b[0m\u001b[1;32m    573\u001b[0m \u001b[0;34m\u001b[0m\u001b[0m\n\u001b[1;32m    574\u001b[0m     \u001b[0;32mdef\u001b[0m \u001b[0mget\u001b[0m\u001b[0;34m(\u001b[0m\u001b[0mself\u001b[0m\u001b[0;34m)\u001b[0m\u001b[0;34m:\u001b[0m\u001b[0;34m\u001b[0m\u001b[0;34m\u001b[0m\u001b[0m\n",
      "\u001b[0;32m~/opt/anaconda3/envs/learn-env/lib/python3.8/site-packages/joblib/parallel.py\u001b[0m in \u001b[0;36m__call__\u001b[0;34m(self)\u001b[0m\n\u001b[1;32m    260\u001b[0m         \u001b[0;31m# change the default number of processes to -1\u001b[0m\u001b[0;34m\u001b[0m\u001b[0;34m\u001b[0m\u001b[0;34m\u001b[0m\u001b[0m\n\u001b[1;32m    261\u001b[0m         \u001b[0;32mwith\u001b[0m \u001b[0mparallel_backend\u001b[0m\u001b[0;34m(\u001b[0m\u001b[0mself\u001b[0m\u001b[0;34m.\u001b[0m\u001b[0m_backend\u001b[0m\u001b[0;34m,\u001b[0m \u001b[0mn_jobs\u001b[0m\u001b[0;34m=\u001b[0m\u001b[0mself\u001b[0m\u001b[0;34m.\u001b[0m\u001b[0m_n_jobs\u001b[0m\u001b[0;34m)\u001b[0m\u001b[0;34m:\u001b[0m\u001b[0;34m\u001b[0m\u001b[0;34m\u001b[0m\u001b[0m\n\u001b[0;32m--> 262\u001b[0;31m             return [func(*args, **kwargs)\n\u001b[0m\u001b[1;32m    263\u001b[0m                     for func, args, kwargs in self.items]\n\u001b[1;32m    264\u001b[0m \u001b[0;34m\u001b[0m\u001b[0m\n",
      "\u001b[0;32m~/opt/anaconda3/envs/learn-env/lib/python3.8/site-packages/joblib/parallel.py\u001b[0m in \u001b[0;36m<listcomp>\u001b[0;34m(.0)\u001b[0m\n\u001b[1;32m    260\u001b[0m         \u001b[0;31m# change the default number of processes to -1\u001b[0m\u001b[0;34m\u001b[0m\u001b[0;34m\u001b[0m\u001b[0;34m\u001b[0m\u001b[0m\n\u001b[1;32m    261\u001b[0m         \u001b[0;32mwith\u001b[0m \u001b[0mparallel_backend\u001b[0m\u001b[0;34m(\u001b[0m\u001b[0mself\u001b[0m\u001b[0;34m.\u001b[0m\u001b[0m_backend\u001b[0m\u001b[0;34m,\u001b[0m \u001b[0mn_jobs\u001b[0m\u001b[0;34m=\u001b[0m\u001b[0mself\u001b[0m\u001b[0;34m.\u001b[0m\u001b[0m_n_jobs\u001b[0m\u001b[0;34m)\u001b[0m\u001b[0;34m:\u001b[0m\u001b[0;34m\u001b[0m\u001b[0;34m\u001b[0m\u001b[0m\n\u001b[0;32m--> 262\u001b[0;31m             return [func(*args, **kwargs)\n\u001b[0m\u001b[1;32m    263\u001b[0m                     for func, args, kwargs in self.items]\n\u001b[1;32m    264\u001b[0m \u001b[0;34m\u001b[0m\u001b[0m\n",
      "\u001b[0;32m~/opt/anaconda3/envs/learn-env/lib/python3.8/site-packages/sklearn/ensemble/_forest.py\u001b[0m in \u001b[0;36m_parallel_build_trees\u001b[0;34m(tree, forest, X, y, sample_weight, tree_idx, n_trees, verbose, class_weight, n_samples_bootstrap)\u001b[0m\n\u001b[1;32m    166\u001b[0m                                                         indices=indices)\n\u001b[1;32m    167\u001b[0m \u001b[0;34m\u001b[0m\u001b[0m\n\u001b[0;32m--> 168\u001b[0;31m         \u001b[0mtree\u001b[0m\u001b[0;34m.\u001b[0m\u001b[0mfit\u001b[0m\u001b[0;34m(\u001b[0m\u001b[0mX\u001b[0m\u001b[0;34m,\u001b[0m \u001b[0my\u001b[0m\u001b[0;34m,\u001b[0m \u001b[0msample_weight\u001b[0m\u001b[0;34m=\u001b[0m\u001b[0mcurr_sample_weight\u001b[0m\u001b[0;34m,\u001b[0m \u001b[0mcheck_input\u001b[0m\u001b[0;34m=\u001b[0m\u001b[0;32mFalse\u001b[0m\u001b[0;34m)\u001b[0m\u001b[0;34m\u001b[0m\u001b[0;34m\u001b[0m\u001b[0m\n\u001b[0m\u001b[1;32m    169\u001b[0m     \u001b[0;32melse\u001b[0m\u001b[0;34m:\u001b[0m\u001b[0;34m\u001b[0m\u001b[0;34m\u001b[0m\u001b[0m\n\u001b[1;32m    170\u001b[0m         \u001b[0mtree\u001b[0m\u001b[0;34m.\u001b[0m\u001b[0mfit\u001b[0m\u001b[0;34m(\u001b[0m\u001b[0mX\u001b[0m\u001b[0;34m,\u001b[0m \u001b[0my\u001b[0m\u001b[0;34m,\u001b[0m \u001b[0msample_weight\u001b[0m\u001b[0;34m=\u001b[0m\u001b[0msample_weight\u001b[0m\u001b[0;34m,\u001b[0m \u001b[0mcheck_input\u001b[0m\u001b[0;34m=\u001b[0m\u001b[0;32mFalse\u001b[0m\u001b[0;34m)\u001b[0m\u001b[0;34m\u001b[0m\u001b[0;34m\u001b[0m\u001b[0m\n",
      "\u001b[0;32m~/opt/anaconda3/envs/learn-env/lib/python3.8/site-packages/sklearn/tree/_classes.py\u001b[0m in \u001b[0;36mfit\u001b[0;34m(self, X, y, sample_weight, check_input, X_idx_sorted)\u001b[0m\n\u001b[1;32m    888\u001b[0m         \"\"\"\n\u001b[1;32m    889\u001b[0m \u001b[0;34m\u001b[0m\u001b[0m\n\u001b[0;32m--> 890\u001b[0;31m         super().fit(\n\u001b[0m\u001b[1;32m    891\u001b[0m             \u001b[0mX\u001b[0m\u001b[0;34m,\u001b[0m \u001b[0my\u001b[0m\u001b[0;34m,\u001b[0m\u001b[0;34m\u001b[0m\u001b[0;34m\u001b[0m\u001b[0m\n\u001b[1;32m    892\u001b[0m             \u001b[0msample_weight\u001b[0m\u001b[0;34m=\u001b[0m\u001b[0msample_weight\u001b[0m\u001b[0;34m,\u001b[0m\u001b[0;34m\u001b[0m\u001b[0;34m\u001b[0m\u001b[0m\n",
      "\u001b[0;32m~/opt/anaconda3/envs/learn-env/lib/python3.8/site-packages/sklearn/tree/_classes.py\u001b[0m in \u001b[0;36mfit\u001b[0;34m(self, X, y, sample_weight, check_input, X_idx_sorted)\u001b[0m\n\u001b[1;32m    373\u001b[0m                                            min_impurity_split)\n\u001b[1;32m    374\u001b[0m \u001b[0;34m\u001b[0m\u001b[0m\n\u001b[0;32m--> 375\u001b[0;31m         \u001b[0mbuilder\u001b[0m\u001b[0;34m.\u001b[0m\u001b[0mbuild\u001b[0m\u001b[0;34m(\u001b[0m\u001b[0mself\u001b[0m\u001b[0;34m.\u001b[0m\u001b[0mtree_\u001b[0m\u001b[0;34m,\u001b[0m \u001b[0mX\u001b[0m\u001b[0;34m,\u001b[0m \u001b[0my\u001b[0m\u001b[0;34m,\u001b[0m \u001b[0msample_weight\u001b[0m\u001b[0;34m,\u001b[0m \u001b[0mX_idx_sorted\u001b[0m\u001b[0;34m)\u001b[0m\u001b[0;34m\u001b[0m\u001b[0;34m\u001b[0m\u001b[0m\n\u001b[0m\u001b[1;32m    376\u001b[0m \u001b[0;34m\u001b[0m\u001b[0m\n\u001b[1;32m    377\u001b[0m         \u001b[0;32mif\u001b[0m \u001b[0mself\u001b[0m\u001b[0;34m.\u001b[0m\u001b[0mn_outputs_\u001b[0m \u001b[0;34m==\u001b[0m \u001b[0;36m1\u001b[0m \u001b[0;32mand\u001b[0m \u001b[0mis_classifier\u001b[0m\u001b[0;34m(\u001b[0m\u001b[0mself\u001b[0m\u001b[0;34m)\u001b[0m\u001b[0;34m:\u001b[0m\u001b[0;34m\u001b[0m\u001b[0;34m\u001b[0m\u001b[0m\n",
      "\u001b[0;31mKeyboardInterrupt\u001b[0m: "
     ]
    }
   ],
   "source": [
    "#rf2_grid_search = GridSearchCV(rf2_clf, rf_param_grid, scoring = 'recall', cv=3)\n",
    "rf3_grid_search = GridSearchCV(rf3_clf, rf_param_grid, scoring = 'f1', cv=3)\n",
    "rf3_grid_search.fit(X_train_resampled, y_train_resampled)\n",
    "\n",
    "print(f\"Random Forest 3 Training Accuracy: {rf3_grid_search.best_score_ :.2%}\")\n",
    "print(\"\")\n",
    "# Mean test score\n",
    "rf3_gs_testing_score = rf3_grid_search.score(X_test, y_test)\n",
    "print(\"\")\n",
    "print(f\"Random Forest 3 Optimal Parameters: {rf3_grid_search.best_params_}\")"
   ]
  },
  {
   "cell_type": "code",
   "execution_count": null,
   "metadata": {
    "ExecuteTime": {
     "end_time": "2022-02-25T15:34:33.106760Z",
     "start_time": "2022-02-25T15:33:00.075Z"
    }
   },
   "outputs": [],
   "source": [
    "rf3_clf = RandomForestClassifier(criterion= 'entropy',\n",
    "                                max_depth= None,\n",
    "                                min_samples_leaf= 3,\n",
    "                                min_samples_split= 5,\n",
    "                                n_estimators= 100)\n",
    "\n",
    "mean_rf3_cv_score = np.mean(cross_val_score(rf3_clf, X_train_resampled, y_train_resampled, cv=3))\n",
    "\n",
    "print(f\"Random Forests 3 Mean Cross Validation Score: {mean_rf3_cv_score :.2%}\")"
   ]
  },
  {
   "cell_type": "code",
   "execution_count": null,
   "metadata": {
    "ExecuteTime": {
     "end_time": "2022-02-25T15:34:33.107480Z",
     "start_time": "2022-02-25T15:33:00.083Z"
    }
   },
   "outputs": [],
   "source": [
    "rf3_clf.fit(X_train_resampled, y_train_resampled)\n",
    "rf3_y_pred = rf3_clf.predict(X_test)"
   ]
  },
  {
   "cell_type": "code",
   "execution_count": null,
   "metadata": {
    "ExecuteTime": {
     "end_time": "2022-02-25T15:34:33.108039Z",
     "start_time": "2022-02-25T15:33:00.091Z"
    }
   },
   "outputs": [],
   "source": [
    "# Calculate Classification Metrics\n",
    "\n",
    "rf3_acc = accuracy_score(y_test, rf3_y_pred) * 100\n",
    "print('Random Forests 3 Accuracy is :{0}'.format(rf3_acc))\n",
    "rf3_prec = precision_score(y_test, rf3_y_pred) * 100\n",
    "print('Random Forests 3 Precision is :{0}'.format(rf3_prec))\n",
    "rf3_rcl = recall_score(y_test, rf3_y_pred) * 100\n",
    "print('Random Forests 3 Recall is :{0}'.format(rf3_rcl))\n",
    "rf3_f1 = f1_score(y_test, rf3_y_pred) * 100\n",
    "print('Random Forests 3 F1 Score is :{0}'.format(rf3_f1))\n",
    "false_positive_rate, true_positive_rate, thresholds = roc_curve(y_test, rf3_y_pred)\n",
    "rf3_roc_auc = auc(false_positive_rate, true_positive_rate)\n",
    "print('Random Forests 3 AUC is :{0}'.format(round(rf3_roc_auc, 2)))\n",
    "print(f\"Random Forest 3 Training Accuracy: {rf3_grid_search.best_score_ :.2%}\")\n",
    "print(f\"Random Forests 3 Mean Cross Validation Score: {mean_rf3_cv_score :.2%}\")\n",
    "print('Random Forests 3 Confusion Matrix')\n",
    "print('----------------')\n",
    "pd.crosstab(y_test, rf3_y_pred, rownames=['True'], colnames=['Predicted'], margins=True)"
   ]
  },
  {
   "cell_type": "code",
   "execution_count": null,
   "metadata": {
    "ExecuteTime": {
     "end_time": "2022-02-25T15:34:33.108622Z",
     "start_time": "2022-02-25T15:33:00.100Z"
    }
   },
   "outputs": [],
   "source": [
    "plot_confusion_matrix(rf3_clf, X_test, y_test,\n",
    "                     cmap='viridis')\n",
    "plt.show()"
   ]
  },
  {
   "cell_type": "markdown",
   "metadata": {},
   "source": [
    "## Comparisons"
   ]
  },
  {
   "cell_type": "code",
   "execution_count": null,
   "metadata": {
    "ExecuteTime": {
     "end_time": "2022-02-25T15:34:33.109248Z",
     "start_time": "2022-02-25T15:33:00.110Z"
    }
   },
   "outputs": [],
   "source": [
    "#Recall\n",
    "print('DTree 1 Recall is :{0}'.format(dt1_rcl))\n",
    "print('DTree 2 Recall is :{0}'.format(dt2_rcl))\n",
    "print('DTree 3 Recall is :{0}'.format(dt3_rcl))\n",
    "print('DTree 4 Recall is :{0}'.format(dt4_rcl))\n",
    "print('Random Forests 1 Recall is :{0}'.format(rf1_rcl))\n",
    "print('Random Forests 2 Recall is :{0}'.format(rf2_rcl))\n",
    "print('Random Forests 3 Recall is :{0}'.format(rf3_rcl))"
   ]
  },
  {
   "cell_type": "code",
   "execution_count": null,
   "metadata": {
    "ExecuteTime": {
     "end_time": "2022-02-25T15:34:33.109907Z",
     "start_time": "2022-02-25T15:33:00.120Z"
    }
   },
   "outputs": [],
   "source": [
    "#Precision\n",
    "print('DTree 1 Precision is :{0}'.format(dt1_prec))\n",
    "print('DTree 2 Precision is :{0}'.format(dt2_prec))\n",
    "print('DTree 3 Precision is :{0}'.format(dt3_prec))\n",
    "print('DTree 4 Precision is :{0}'.format(dt4_prec))\n",
    "print('Random Forests 1 Precision is :{0}'.format(rf1_prec))\n",
    "print('Random Forests 2 Precision is :{0}'.format(rf2_prec))\n",
    "print('Random Forests 3 Precision is :{0}'.format(rf3_prec))"
   ]
  },
  {
   "cell_type": "code",
   "execution_count": null,
   "metadata": {
    "ExecuteTime": {
     "end_time": "2022-02-25T15:34:33.110785Z",
     "start_time": "2022-02-25T15:33:00.128Z"
    }
   },
   "outputs": [],
   "source": [
    "#F1 Score\n",
    "print('DTree 1 F1 Score is :{0}'.format(dt1_f1))\n",
    "print('DTree 2 F1 Score is :{0}'.format(dt2_f1))\n",
    "print('DTree 3 F1 Score is :{0}'.format(dt3_f1))\n",
    "print('DTree 4 F1 Score is :{0}'.format(dt4_f1))\n",
    "print('Random Forests 1 F1 Score is :{0}'.format(rf1_f1))\n",
    "print('Random Forests 2 F1 Score is :{0}'.format(rf2_f1))\n",
    "print('Random Forests 3 F1 Score is :{0}'.format(rf3_f1))"
   ]
  },
  {
   "cell_type": "code",
   "execution_count": null,
   "metadata": {
    "ExecuteTime": {
     "end_time": "2022-02-25T15:34:33.111364Z",
     "start_time": "2022-02-25T15:33:00.136Z"
    }
   },
   "outputs": [],
   "source": [
    "#ROC AUC\n",
    "print('DTree 1 AUC is :{0}'.format(round(dt1_roc_auc, 2)))\n",
    "print('DTree 2 AUC is :{0}'.format(round(dt2_roc_auc, 2)))\n",
    "print('DTree 3 AUC is :{0}'.format(round(dt3_roc_auc, 2)))\n",
    "print('DTree 4 AUC is :{0}'.format(round(dt4_roc_auc, 2)))\n",
    "print('Random Forests 1 AUC is :{0}'.format(round(rf1_roc_auc, 2)))\n",
    "print('Random Forests 2 AUC is :{0}'.format(round(rf2_roc_auc, 2)))\n",
    "print('Random Forests 3 AUC is :{0}'.format(round(rf3_roc_auc, 2)))"
   ]
  },
  {
   "cell_type": "code",
   "execution_count": null,
   "metadata": {
    "ExecuteTime": {
     "end_time": "2022-02-25T15:34:33.112074Z",
     "start_time": "2022-02-25T15:33:00.145Z"
    }
   },
   "outputs": [],
   "source": [
    "#Accuracy\n",
    "print('DTree 1 Accuracy is :{0}'.format(dt1_acc))\n",
    "print('DTree 2 Accuracy is :{0}'.format(dt2_acc))\n",
    "print('DTree 3 Accuracy is :{0}'.format(dt3_acc))\n",
    "print('DTree 4 Accuracy is :{0}'.format(dt4_acc))\n",
    "print('Random Forests 1 Accuracy is :{0}'.format(rf1_acc))\n",
    "print('Random Forests 2 Accuracy is :{0}'.format(rf2_acc))\n",
    "print('Random Forests 3 Accuracy is :{0}'.format(rf3_acc))"
   ]
  },
  {
   "cell_type": "code",
   "execution_count": null,
   "metadata": {
    "ExecuteTime": {
     "end_time": "2022-02-25T15:34:33.112767Z",
     "start_time": "2022-02-25T15:33:00.153Z"
    }
   },
   "outputs": [],
   "source": [
    "print('\\n DTree 1 Confusion Matrix')\n",
    "print('----------------')\n",
    "print(pd.crosstab(y_test, dt1_y_pred, rownames=['True'], colnames=['Predicted'], margins=True))\n",
    "print('----------------')\n",
    "print('----------------')\n",
    "print('DTree 2 Confusion Matrix')\n",
    "print('----------------')\n",
    "print(pd.crosstab(y_test, dt2_y_pred, rownames=['True'], colnames=['Predicted'], margins=True))\n",
    "print('----------------')\n",
    "print('----------------')\n",
    "print('DTree 3 Confusion Matrix')\n",
    "print('----------------')\n",
    "print(pd.crosstab(y_test, dt3_y_pred, rownames=['True'], colnames=['Predicted'], margins=True))\n",
    "print('----------------')\n",
    "print('----------------')\n",
    "print('DTree 4 Confusion Matrix')\n",
    "print('----------------')\n",
    "print(pd.crosstab(y_test, dt4_y_pred, rownames=['True'], colnames=['Predicted'], margins=True))\n",
    "print('----------------')\n",
    "print('----------------')\n",
    "print('Random Forests 1 Confusion Matrix')\n",
    "print('----------------')\n",
    "print(pd.crosstab(y_test, rf1_y_pred, rownames=['True'], colnames=['Predicted'], margins=True))\n",
    "print('----------------')\n",
    "print('----------------')\n",
    "print('Random Forests 2 Confusion Matrix')\n",
    "print('----------------')\n",
    "print(pd.crosstab(y_test, rf2_y_pred, rownames=['True'], colnames=['Predicted'], margins=True))\n",
    "print('----------------')\n",
    "print('----------------')\n",
    "print('Random Forests 3 Confusion Matrix')\n",
    "print('----------------')\n",
    "print(pd.crosstab(y_test, rf3_y_pred, rownames=['True'], colnames=['Predicted'], margins=True))"
   ]
  },
  {
   "cell_type": "code",
   "execution_count": null,
   "metadata": {
    "ExecuteTime": {
     "end_time": "2022-02-25T15:34:33.113396Z",
     "start_time": "2022-02-25T15:33:00.162Z"
    }
   },
   "outputs": [],
   "source": [
    "#Comparing the Tuned Models\n",
    "print(f\"DTree 2 Mean Training Score: {dt2_gs_training_score :.2%}\")\n",
    "print(f\"DTree 2 Mean Test Score: {dt2_gs_testing_score :.2%}\")\n",
    "print('--------------------------------')\n",
    "print(f\"Random Forest 2 Training Accuracy: {rf2_grid_search.best_score_ :.2%}\")\n",
    "print(f\"Random Forest 2 Mean Test Score: {rf2_gs_testing_score :.2%}\")"
   ]
  },
  {
   "cell_type": "code",
   "execution_count": null,
   "metadata": {
    "ExecuteTime": {
     "end_time": "2022-02-25T15:34:33.113919Z",
     "start_time": "2022-02-25T15:33:00.170Z"
    }
   },
   "outputs": [],
   "source": [
    "#print(f\"DTree 1 Mean Cross Validation Score: {mean_dt1_cv_score :.2%}\")\n",
    "#print(f\"DTree 1 Mean Training Score: {dt1_gs_training_score :.2%}\")\n",
    "#print(f\"DTree 1 Mean Test Score: {dt1_gs_testing_score :.2%}\")\n",
    "#print('Decision tree 1 grid search Score: ', dt1_score)\n",
    "#print(f\"DTree 1 AUC Score: {dt1_roc_auc :.2%}\")\n",
    "print('--------------------------------')\n",
    "#print(f\"RandomForest 1 Mean Cross Validation Score: {mean_rf1_cv_score :.2%}\")\n",
    "#print(f\"Random Forest 1 Training Accuracy: {rf1_grid_search.best_score_ :.2%}\")\n",
    "#print('Random forest 1 grid search Score: ', rf1_score)\n",
    "#print(f\"Random Forests 1 AUC Score: {rf1_roc_auc :.2%}\")\n",
    "print('--------------------------------')\n",
    "#print(f\"DTree 2 Mean Cross Validation Score: {mean_dt2_cv_score :.2%}\")\n",
    "print('--------------------------------')\n",
    "#print(f\"Random Forests 2 Mean Cross Validation Score: {mean_rf2_cv_score :.2%}\")\n"
   ]
  },
  {
   "cell_type": "markdown",
   "metadata": {},
   "source": [
    "### Analysis:\n",
    "    - Explain what cross validation score means\n",
    "    - explain what training score means\n",
    "    - explain what test score means\n",
    "    - explain what grid search score means\n",
    "    - explain what ROC AUC score means"
   ]
  },
  {
   "cell_type": "markdown",
   "metadata": {},
   "source": [
    "## Optimal Parameters"
   ]
  },
  {
   "cell_type": "code",
   "execution_count": null,
   "metadata": {
    "ExecuteTime": {
     "end_time": "2022-02-25T15:34:33.114463Z",
     "start_time": "2022-02-25T15:33:00.179Z"
    }
   },
   "outputs": [],
   "source": [
    "#print(\"DTree 2 Best Parameter Combination Found During Grid Search:\")\n",
    "#dt2_grid_search.best_params_"
   ]
  },
  {
   "cell_type": "code",
   "execution_count": null,
   "metadata": {
    "ExecuteTime": {
     "end_time": "2022-02-25T15:34:33.115139Z",
     "start_time": "2022-02-25T15:33:00.189Z"
    }
   },
   "outputs": [],
   "source": [
    "print(f\"Random Forest 1 Optimal Parameters: {rf2_grid_search.best_params_}\")"
   ]
  },
  {
   "cell_type": "markdown",
   "metadata": {},
   "source": [
    "## Feature Importance"
   ]
  },
  {
   "cell_type": "markdown",
   "metadata": {},
   "source": [
    "### Currently set to analyze Random Forests 3"
   ]
  },
  {
   "cell_type": "code",
   "execution_count": null,
   "metadata": {
    "ExecuteTime": {
     "end_time": "2022-02-25T15:34:33.115848Z",
     "start_time": "2022-02-25T15:33:00.198Z"
    }
   },
   "outputs": [],
   "source": [
    "#final_model = "
   ]
  },
  {
   "cell_type": "code",
   "execution_count": null,
   "metadata": {
    "ExecuteTime": {
     "end_time": "2022-02-25T15:34:33.116505Z",
     "start_time": "2022-02-25T15:33:00.207Z"
    }
   },
   "outputs": [],
   "source": [
    "feature_names = list(X)\n",
    "feature_names"
   ]
  },
  {
   "cell_type": "code",
   "execution_count": null,
   "metadata": {
    "ExecuteTime": {
     "end_time": "2022-02-25T15:34:33.117109Z",
     "start_time": "2022-02-25T15:33:00.215Z"
    }
   },
   "outputs": [],
   "source": [
    "rf2_importance = rf2_clf.feature_importances_\n",
    "rf2_importance"
   ]
  },
  {
   "cell_type": "code",
   "execution_count": null,
   "metadata": {
    "ExecuteTime": {
     "end_time": "2022-02-25T15:34:33.117721Z",
     "start_time": "2022-02-25T15:33:00.223Z"
    }
   },
   "outputs": [],
   "source": [
    "#dt2_importance = dtree_2.feature_importances_\n",
    "#dt2_importance"
   ]
  },
  {
   "cell_type": "markdown",
   "metadata": {},
   "source": [
    "###  SORTED"
   ]
  },
  {
   "cell_type": "code",
   "execution_count": null,
   "metadata": {
    "ExecuteTime": {
     "end_time": "2022-02-25T15:34:33.118245Z",
     "start_time": "2022-02-25T15:33:00.231Z"
    }
   },
   "outputs": [],
   "source": [
    "#feature_importance_df = pd.DataFrame(rf2_importance, feature_names)\n",
    "feature_importance_df = pd.DataFrame(rf2_importance, feature_names)\n",
    "feature_importance_df= feature_importance_df.reset_index()\n",
    "feature_importance_df.rename(columns={'index': 'Feature', 0: 'Importance'}, inplace=True)\n",
    "feature_importance_df = feature_importance_df.sort_values('Importance', ascending=False)\n",
    "feature_importance_df"
   ]
  },
  {
   "cell_type": "code",
   "execution_count": null,
   "metadata": {
    "ExecuteTime": {
     "end_time": "2022-02-25T15:34:33.118964Z",
     "start_time": "2022-02-25T15:33:00.240Z"
    }
   },
   "outputs": [],
   "source": [
    "# plot feature importance\n",
    "fig, ax = plt.subplots(figsize=(50,20))\n",
    "#p = sns.barplot(data=feature_importance_df, x='Feature', y='Importance' );\n",
    "p = sns.barplot(data=feature_importance_df, x='Importance', y='Feature', color='purple' );\n",
    "p.set_xlabel(\"Importance\", fontsize = 50)\n",
    "\n",
    "p.set_ylabel(\"Feature\", fontsize = 50)\n",
    "plt.xticks(fontsize=30)\n",
    "plt.yticks(fontsize=30)\n",
    "#p.yaxis.set_major_formatter(display_millions)\n",
    "p.set_title(\"Features by Importance\", fontsize = 100)\n",
    "plt.figsize=(30,20) \n",
    "#plt.savefig('images/project_1_bar_3')\n",
    "\n",
    "plt.show();"
   ]
  },
  {
   "cell_type": "code",
   "execution_count": null,
   "metadata": {
    "ExecuteTime": {
     "end_time": "2022-02-25T15:34:33.119484Z",
     "start_time": "2022-02-25T15:33:00.247Z"
    }
   },
   "outputs": [],
   "source": [
    "X.info()"
   ]
  },
  {
   "cell_type": "code",
   "execution_count": null,
   "metadata": {},
   "outputs": [],
   "source": []
  },
  {
   "cell_type": "markdown",
   "metadata": {},
   "source": [
    "## Analysis\n",
    "- Figure out how to rank feature importance as this is the ultimate outcome for my business problem.\n",
    "- VISUALIZE!!!!"
   ]
  },
  {
   "cell_type": "markdown",
   "metadata": {
    "ExecuteTime": {
     "end_time": "2022-02-22T22:01:01.634226Z",
     "start_time": "2022-02-22T22:01:01.628672Z"
    }
   },
   "source": [
    "# Analysis of Churn Rate"
   ]
  },
  {
   "cell_type": "code",
   "execution_count": null,
   "metadata": {
    "ExecuteTime": {
     "end_time": "2022-02-25T15:34:33.120027Z",
     "start_time": "2022-02-25T15:33:00.263Z"
    }
   },
   "outputs": [],
   "source": [
    "analysis_df = cleaned_df.copy()"
   ]
  },
  {
   "cell_type": "markdown",
   "metadata": {},
   "source": [
    "New as of 2/22 5PM"
   ]
  },
  {
   "cell_type": "markdown",
   "metadata": {},
   "source": [
    "## Customer Service Calls vs. Churn"
   ]
  },
  {
   "cell_type": "code",
   "execution_count": null,
   "metadata": {
    "ExecuteTime": {
     "end_time": "2022-02-25T15:34:33.120618Z",
     "start_time": "2022-02-25T15:33:00.273Z"
    }
   },
   "outputs": [],
   "source": [
    "cs_churn_df = analysis_df.groupby('customer_service_calls')['churn'].sum().reset_index()\n",
    "cs_churn_df = cs_churn_df.rename(columns={\"customer_service_calls\": \"#_of_calls\"})\n",
    "variable_1 = analysis_df['customer_service_calls'].value_counts().reset_index()\n",
    "variable_1 = variable_1.rename(columns={\"index\": \"#_of_calls\", \"customer_service_calls\": \"#_of_accounts\"})\n",
    "cs_churn_df = cs_churn_df.merge(variable_1, on='#_of_calls')\n",
    "churn_rate = cs_churn_df.apply(lambda x: x['churn'] / x['#_of_accounts'], axis=1)\n",
    "cs_churn_df['churn_rate']= churn_rate\n",
    "cs_churn_df"
   ]
  },
  {
   "cell_type": "code",
   "execution_count": null,
   "metadata": {
    "ExecuteTime": {
     "end_time": "2022-02-25T15:34:33.121247Z",
     "start_time": "2022-02-25T15:33:00.282Z"
    }
   },
   "outputs": [],
   "source": [
    "cs_churn_df"
   ]
  },
  {
   "cell_type": "code",
   "execution_count": null,
   "metadata": {
    "ExecuteTime": {
     "end_time": "2022-02-25T15:34:33.121934Z",
     "start_time": "2022-02-25T15:33:00.290Z"
    }
   },
   "outputs": [],
   "source": [
    "cs_churn_df = cs_churn_df.rename(columns={\"customer_service_calls\": \"#_of_calls\"})"
   ]
  },
  {
   "cell_type": "code",
   "execution_count": null,
   "metadata": {
    "ExecuteTime": {
     "end_time": "2022-02-25T15:34:33.122613Z",
     "start_time": "2022-02-25T15:33:00.298Z"
    }
   },
   "outputs": [],
   "source": [
    "cs_churn_df"
   ]
  },
  {
   "cell_type": "code",
   "execution_count": null,
   "metadata": {
    "ExecuteTime": {
     "end_time": "2022-02-25T15:34:33.123241Z",
     "start_time": "2022-02-25T15:33:00.306Z"
    }
   },
   "outputs": [],
   "source": [
    "variable_1 = analysis_df['customer_service_calls'].value_counts().reset_index()"
   ]
  },
  {
   "cell_type": "code",
   "execution_count": null,
   "metadata": {
    "ExecuteTime": {
     "end_time": "2022-02-25T15:34:33.123786Z",
     "start_time": "2022-02-25T15:33:00.314Z"
    }
   },
   "outputs": [],
   "source": [
    "analysis_df['customer_service_calls'].value_counts()"
   ]
  },
  {
   "cell_type": "code",
   "execution_count": null,
   "metadata": {
    "ExecuteTime": {
     "end_time": "2022-02-25T15:34:33.124362Z",
     "start_time": "2022-02-25T15:33:00.322Z"
    }
   },
   "outputs": [],
   "source": [
    "variable_1 = variable_1.rename(columns={\"index\": \"#_of_calls\", \"customer_service_calls\": \"#_of_accounts\"})"
   ]
  },
  {
   "cell_type": "code",
   "execution_count": null,
   "metadata": {
    "ExecuteTime": {
     "end_time": "2022-02-25T15:34:33.125034Z",
     "start_time": "2022-02-25T15:33:00.330Z"
    }
   },
   "outputs": [],
   "source": [
    "variable_1"
   ]
  },
  {
   "cell_type": "code",
   "execution_count": null,
   "metadata": {
    "ExecuteTime": {
     "end_time": "2022-02-25T15:34:33.125608Z",
     "start_time": "2022-02-25T15:33:00.337Z"
    }
   },
   "outputs": [],
   "source": [
    "cs_churn_df = cs_churn_df.merge(variable_1, on='#_of_calls')\n",
    "cs_churn_df"
   ]
  },
  {
   "cell_type": "code",
   "execution_count": null,
   "metadata": {
    "ExecuteTime": {
     "end_time": "2022-02-25T15:34:33.126210Z",
     "start_time": "2022-02-25T15:33:00.345Z"
    }
   },
   "outputs": [],
   "source": [
    "churn_rate = cs_churn_df.apply(lambda x: x['churn'] / x['#_of_accounts'], axis=1)\n",
    "cs_churn_df['churn_rate']= churn_rate"
   ]
  },
  {
   "cell_type": "code",
   "execution_count": null,
   "metadata": {
    "ExecuteTime": {
     "end_time": "2022-02-25T15:34:33.126830Z",
     "start_time": "2022-02-25T15:33:00.353Z"
    }
   },
   "outputs": [],
   "source": [
    "cs_churn_df"
   ]
  },
  {
   "cell_type": "markdown",
   "metadata": {},
   "source": [
    "### Visualization: Customer Service Call Churn Rate "
   ]
  },
  {
   "cell_type": "code",
   "execution_count": null,
   "metadata": {
    "ExecuteTime": {
     "end_time": "2022-02-25T15:34:33.127475Z",
     "start_time": "2022-02-25T15:33:00.362Z"
    }
   },
   "outputs": [],
   "source": [
    "fig, ax = plt.subplots(figsize=(10,10))\n",
    "p = sns.barplot(x=\"#_of_calls\", y=\"churn_rate\", data=cs_churn_df, color='red');\n",
    "\n",
    "p.set_xlabel(\"Number of Customer Service Calls\", fontsize = 15)\n",
    "p.set_ylabel(\"Churn Rate\", fontsize = 15)\n",
    "#p.xaxis.set_major_formatter(display_millions)\n",
    "p.set_title(\"Churn Rate by Number of Customer Service Calls\", fontsize = 20)\n",
    "plt.figsize=(30,20) \n",
    "plt.axhline(y=.145)\n",
    "#plt.savefig('images/project_1_scatter_1')\n",
    "\n",
    "plt.show();"
   ]
  },
  {
   "cell_type": "markdown",
   "metadata": {},
   "source": [
    "### Analysis:"
   ]
  },
  {
   "cell_type": "markdown",
   "metadata": {},
   "source": [
    "## Total Minute Analysis\n",
    "Churn rate is nearly 50% when day minutes are 250 or more."
   ]
  },
  {
   "cell_type": "code",
   "execution_count": null,
   "metadata": {
    "ExecuteTime": {
     "end_time": "2022-02-25T15:34:33.128164Z",
     "start_time": "2022-02-25T15:33:00.372Z"
    }
   },
   "outputs": [],
   "source": [
    "analysis_df['total_day_minutes'].describe()"
   ]
  },
  {
   "cell_type": "code",
   "execution_count": null,
   "metadata": {
    "ExecuteTime": {
     "end_time": "2022-02-25T15:34:33.128744Z",
     "start_time": "2022-02-25T15:33:00.382Z"
    }
   },
   "outputs": [],
   "source": [
    "analysis_df.info()"
   ]
  },
  {
   "cell_type": "code",
   "execution_count": null,
   "metadata": {
    "ExecuteTime": {
     "end_time": "2022-02-25T15:34:33.129413Z",
     "start_time": "2022-02-25T15:33:00.390Z"
    }
   },
   "outputs": [],
   "source": [
    "analysis_df['total_minutes'] =analysis_df.apply(lambda x: x['total_day_minutes'] + x['total_eve_minutes']\n",
    "                                                + x['total_night_minutes'] + x['total_intl_minutes']\n",
    "                                                                                    , axis=1)"
   ]
  },
  {
   "cell_type": "code",
   "execution_count": null,
   "metadata": {
    "ExecuteTime": {
     "end_time": "2022-02-25T15:34:33.129993Z",
     "start_time": "2022-02-25T15:33:00.399Z"
    }
   },
   "outputs": [],
   "source": [
    "analysis_df.head()"
   ]
  },
  {
   "cell_type": "code",
   "execution_count": null,
   "metadata": {
    "ExecuteTime": {
     "end_time": "2022-02-25T15:34:33.130707Z",
     "start_time": "2022-02-25T15:33:00.407Z"
    }
   },
   "outputs": [],
   "source": [
    "analysis_df['total_minutes_grouped'] = analysis_df['total_minutes_grouped']\n",
    "analysis_df"
   ]
  },
  {
   "cell_type": "code",
   "execution_count": null,
   "metadata": {
    "ExecuteTime": {
     "end_time": "2022-02-25T15:34:33.131362Z",
     "start_time": "2022-02-25T15:33:00.415Z"
    }
   },
   "outputs": [],
   "source": [
    "#bin_labels_5 = ['478', '516', '545', '570', '593', '614', '638', '667', '707', '885']\n",
    "#analysis_df['total_minutes_grouped'] = pd.qcut(analysis_df['total_minutes_grouped'], 10, labels=bin_labels_5)\n",
    "                              \n",
    "#analysis_df.head()"
   ]
  },
  {
   "cell_type": "code",
   "execution_count": null,
   "metadata": {
    "ExecuteTime": {
     "end_time": "2022-02-25T15:34:33.131939Z",
     "start_time": "2022-02-25T15:33:00.423Z"
    }
   },
   "outputs": [],
   "source": [
    "total_min_grouped_churn = analysis_df.groupby('total_minutes_grouped')['churn'].sum().reset_index()\n",
    "total_min_grouped_churn"
   ]
  },
  {
   "cell_type": "code",
   "execution_count": null,
   "metadata": {
    "ExecuteTime": {
     "end_time": "2022-02-25T15:34:33.132489Z",
     "start_time": "2022-02-25T15:33:00.431Z"
    }
   },
   "outputs": [],
   "source": [
    "total_min_grouped_values = analysis_df['total_minutes_grouped'].value_counts().reset_index()\n",
    "total_min_grouped_values"
   ]
  },
  {
   "cell_type": "code",
   "execution_count": null,
   "metadata": {
    "ExecuteTime": {
     "end_time": "2022-02-25T15:34:33.133149Z",
     "start_time": "2022-02-25T15:33:00.439Z"
    }
   },
   "outputs": [],
   "source": [
    "total_min_grouped_values = total_min_grouped_values.rename(columns={\"total_minutes_grouped\": \"#_of_accounts\", \"index\": \"total_minutes_grouped\"})\n",
    "total_min_grouped_values"
   ]
  },
  {
   "cell_type": "code",
   "execution_count": null,
   "metadata": {
    "ExecuteTime": {
     "end_time": "2022-02-25T15:34:33.133771Z",
     "start_time": "2022-02-25T15:33:00.447Z"
    }
   },
   "outputs": [],
   "source": [
    "total_min_grouped_df = total_min_grouped_churn.merge(total_min_grouped_values, on='total_minutes_grouped')\n",
    "                                                       \n",
    "total_min_grouped_df"
   ]
  },
  {
   "cell_type": "code",
   "execution_count": null,
   "metadata": {
    "ExecuteTime": {
     "end_time": "2022-02-25T15:34:33.134335Z",
     "start_time": "2022-02-25T15:33:00.455Z"
    }
   },
   "outputs": [],
   "source": [
    "total_min_grouped_df['churn_rate'] = total_min_grouped_df.apply(lambda x: x['churn'] / x['#_of_accounts'], axis=1)\n",
    "total_min_grouped_df"
   ]
  },
  {
   "cell_type": "markdown",
   "metadata": {},
   "source": [
    "### Visualization"
   ]
  },
  {
   "cell_type": "code",
   "execution_count": null,
   "metadata": {
    "ExecuteTime": {
     "end_time": "2022-02-25T15:34:33.134983Z",
     "start_time": "2022-02-25T15:33:00.464Z"
    }
   },
   "outputs": [],
   "source": [
    "import matplotlib.ticker as mtick"
   ]
  },
  {
   "cell_type": "code",
   "execution_count": null,
   "metadata": {
    "ExecuteTime": {
     "end_time": "2022-02-25T15:34:33.135670Z",
     "start_time": "2022-02-25T15:33:00.473Z"
    }
   },
   "outputs": [],
   "source": [
    "fig, ax = plt.subplots(figsize=(10,10))\n",
    "p = sns.barplot(x=\"total_minutes_grouped\", y=\"churn_rate\", data=total_min_grouped_df, color='yellow');\n",
    "\n",
    "p.set_xlabel(\"Total Minutes\", fontsize = 15)\n",
    "p.set_ylabel(\"Churn Rate\", fontsize = 15)\n",
    "ax.yaxis.set_major_formatter(mtick.PercentFormatter(xmax=1, decimals=None, symbol='%', is_latex=False))\n",
    "#ax.xaxis.set_major_formatter(mtick.PercentFormatter(xmax=1, decimals=None, symbol='%', is_latex=False))\n",
    "p.set_title(\"Churn Rate by Total Minutes\", fontsize = 20)\n",
    "plt.figsize=(30,20) \n",
    "plt.axhline(y=.145)\n",
    "#plt.savefig('images/project_1_scatter_1')\n",
    "\n",
    "plt.show();"
   ]
  },
  {
   "cell_type": "markdown",
   "metadata": {},
   "source": [
    "## International Plan"
   ]
  },
  {
   "cell_type": "code",
   "execution_count": null,
   "metadata": {
    "ExecuteTime": {
     "end_time": "2022-02-25T15:34:33.136294Z",
     "start_time": "2022-02-25T15:33:00.482Z"
    }
   },
   "outputs": [],
   "source": [
    "test_df.info()"
   ]
  },
  {
   "cell_type": "code",
   "execution_count": null,
   "metadata": {
    "ExecuteTime": {
     "end_time": "2022-02-25T15:34:33.136909Z",
     "start_time": "2022-02-25T15:33:00.491Z"
    }
   },
   "outputs": [],
   "source": [
    "need_to_encode_2 = test_df[['voice_mail_plan', 'international_plan', 'churn']]"
   ]
  },
  {
   "cell_type": "code",
   "execution_count": null,
   "metadata": {
    "ExecuteTime": {
     "end_time": "2022-02-25T15:34:33.137564Z",
     "start_time": "2022-02-25T15:33:00.500Z"
    }
   },
   "outputs": [],
   "source": [
    "ohe.fit(need_to_encode_2)\n",
    "\n",
    "ohe_2 = ohe.transform(need_to_encode_2).toarray()\n",
    "\n",
    "feature_churn_df= pd.DataFrame(ohe_2, columns=ohe.get_feature_names(need_to_encode_2.columns))\n",
    "feature_churn_df.head()"
   ]
  },
  {
   "cell_type": "code",
   "execution_count": null,
   "metadata": {
    "ExecuteTime": {
     "end_time": "2022-02-25T15:34:33.138088Z",
     "start_time": "2022-02-25T15:33:00.508Z"
    }
   },
   "outputs": [],
   "source": [
    "feature_churn_df = feature_churn_df.drop('churn_0', axis=1)"
   ]
  },
  {
   "cell_type": "code",
   "execution_count": null,
   "metadata": {
    "ExecuteTime": {
     "end_time": "2022-02-25T15:34:33.138698Z",
     "start_time": "2022-02-25T15:33:00.516Z"
    }
   },
   "outputs": [],
   "source": [
    "feature_churn_df = feature_churn_df.groupby('churn_1').sum().reset_index()"
   ]
  },
  {
   "cell_type": "code",
   "execution_count": null,
   "metadata": {
    "ExecuteTime": {
     "end_time": "2022-02-25T15:34:33.139233Z",
     "start_time": "2022-02-25T15:33:00.525Z"
    }
   },
   "outputs": [],
   "source": [
    "feature_churn_df = feature_churn_df.transpose()\n",
    "feature_churn_df"
   ]
  },
  {
   "cell_type": "code",
   "execution_count": null,
   "metadata": {
    "ExecuteTime": {
     "end_time": "2022-02-25T15:34:33.139757Z",
     "start_time": "2022-02-25T15:33:00.533Z"
    }
   },
   "outputs": [],
   "source": [
    "feature_churn_df = feature_churn_df.rename(columns={0: \"stayed\", 1: \"churned\"})\n",
    "feature_churn_df"
   ]
  },
  {
   "cell_type": "code",
   "execution_count": null,
   "metadata": {
    "ExecuteTime": {
     "end_time": "2022-02-25T15:34:33.140528Z",
     "start_time": "2022-02-25T15:33:00.541Z"
    }
   },
   "outputs": [],
   "source": [
    "feature_churn_df['total'] = feature_churn_df.apply(lambda x: x['stayed'] + x['churned'], axis=1)\n",
    "feature_churn_df"
   ]
  },
  {
   "cell_type": "code",
   "execution_count": null,
   "metadata": {
    "ExecuteTime": {
     "end_time": "2022-02-25T15:34:33.141229Z",
     "start_time": "2022-02-25T15:33:00.549Z"
    }
   },
   "outputs": [],
   "source": [
    "feature_churn_df['total'] = feature_churn_df.apply(lambda x: x['stayed'] + x['churned'], axis=1)"
   ]
  },
  {
   "cell_type": "code",
   "execution_count": null,
   "metadata": {
    "ExecuteTime": {
     "end_time": "2022-02-25T15:34:33.141757Z",
     "start_time": "2022-02-25T15:33:00.558Z"
    }
   },
   "outputs": [],
   "source": [
    "feature_churn_df['total'] = feature_churn_df.apply(lambda x: x['stayed'] + x['churned'], axis=1)"
   ]
  },
  {
   "cell_type": "markdown",
   "metadata": {},
   "source": [
    "### Analysis:\n",
    "- churn rate for customers with an international plan is 42.4% vs 11.5% for those without an international plan.\n",
    "- nearly 4X increase"
   ]
  },
  {
   "cell_type": "code",
   "execution_count": null,
   "metadata": {},
   "outputs": [],
   "source": []
  },
  {
   "cell_type": "code",
   "execution_count": null,
   "metadata": {},
   "outputs": [],
   "source": []
  },
  {
   "cell_type": "code",
   "execution_count": null,
   "metadata": {},
   "outputs": [],
   "source": []
  },
  {
   "cell_type": "code",
   "execution_count": null,
   "metadata": {},
   "outputs": [],
   "source": []
  },
  {
   "cell_type": "code",
   "execution_count": null,
   "metadata": {},
   "outputs": [],
   "source": []
  },
  {
   "cell_type": "code",
   "execution_count": null,
   "metadata": {},
   "outputs": [],
   "source": []
  },
  {
   "cell_type": "code",
   "execution_count": null,
   "metadata": {},
   "outputs": [],
   "source": []
  },
  {
   "cell_type": "code",
   "execution_count": null,
   "metadata": {},
   "outputs": [],
   "source": []
  },
  {
   "cell_type": "code",
   "execution_count": null,
   "metadata": {},
   "outputs": [],
   "source": []
  },
  {
   "cell_type": "markdown",
   "metadata": {},
   "source": [
    "## Total Charge"
   ]
  },
  {
   "cell_type": "code",
   "execution_count": null,
   "metadata": {
    "ExecuteTime": {
     "end_time": "2022-02-25T15:34:33.142300Z",
     "start_time": "2022-02-25T15:33:00.618Z"
    }
   },
   "outputs": [],
   "source": [
    "analysis_df['total_charge'].describe()"
   ]
  },
  {
   "cell_type": "code",
   "execution_count": null,
   "metadata": {
    "ExecuteTime": {
     "end_time": "2022-02-25T15:34:33.142978Z",
     "start_time": "2022-02-25T15:33:00.628Z"
    }
   },
   "outputs": [],
   "source": [
    "analysis_df['charge_group'] = pd.qcut(analysis_df['total_charge'], 10)"
   ]
  },
  {
   "cell_type": "code",
   "execution_count": null,
   "metadata": {
    "ExecuteTime": {
     "end_time": "2022-02-25T15:34:33.143609Z",
     "start_time": "2022-02-25T15:33:00.636Z"
    }
   },
   "outputs": [],
   "source": [
    "#copy and paste this\n",
    "total_charge_df = analysis_df\n",
    "total_charge_df['charge_group'] = pd.qcut(total_charge_df['total_charge'], 10)\n",
    "total_charge_df = total_charge_df.groupby('charge_group')['churn'].sum().reset_index()\n",
    "\n",
    "\n",
    "total_charge_df"
   ]
  },
  {
   "cell_type": "code",
   "execution_count": null,
   "metadata": {
    "ExecuteTime": {
     "end_time": "2022-02-25T15:34:33.144270Z",
     "start_time": "2022-02-25T15:33:00.644Z"
    }
   },
   "outputs": [],
   "source": [
    "charge_group_values = total_charge_df['charge_group'].value_counts()\n",
    "charge_group_values = charge_group_values.reset_index()\n",
    "charge_group_values = charge_group_values.rename(columns={\"index\": \"total_charge\",\n",
    "                                                          \"charge_group\": \"#_of_accounts\"})\n",
    "total_charge_df = total_charge_df.merge(charge_group_values, on=\"total_charge\")\n",
    "total_charge_df\n",
    "\n",
    "\n",
    "total_charge_df['churn_rate'] = total_charge_df.apply(lambda x: x['churn'] / x['#_of_accounts'], axis=1)\n",
    "total_charge_df"
   ]
  },
  {
   "cell_type": "code",
   "execution_count": null,
   "metadata": {
    "ExecuteTime": {
     "end_time": "2022-02-25T15:34:33.144858Z",
     "start_time": "2022-02-25T15:33:00.652Z"
    }
   },
   "outputs": [],
   "source": [
    "total_charge_df = analysis_df.groupby('charge_group')['churn'].sum().reset_index()"
   ]
  },
  {
   "cell_type": "code",
   "execution_count": null,
   "metadata": {
    "ExecuteTime": {
     "end_time": "2022-02-25T15:34:33.145424Z",
     "start_time": "2022-02-25T15:33:00.660Z"
    }
   },
   "outputs": [],
   "source": [
    "charge_group_values = analysis_df['charge_group'].value_counts()\n",
    "charge_group_values"
   ]
  },
  {
   "cell_type": "code",
   "execution_count": null,
   "metadata": {
    "ExecuteTime": {
     "end_time": "2022-02-25T15:34:33.146105Z",
     "start_time": "2022-02-25T15:33:00.668Z"
    }
   },
   "outputs": [],
   "source": [
    "blah = charge_group_values.reset_index()\n",
    "blah"
   ]
  },
  {
   "cell_type": "code",
   "execution_count": null,
   "metadata": {
    "ExecuteTime": {
     "end_time": "2022-02-25T15:34:33.146685Z",
     "start_time": "2022-02-25T15:33:00.677Z"
    }
   },
   "outputs": [],
   "source": [
    "blah = blah.rename(columns={\"index\": \"total_charge\", \"charge_group\": \"#_of_accounts\"})\n",
    "blah\n",
    "                            "
   ]
  },
  {
   "cell_type": "code",
   "execution_count": null,
   "metadata": {
    "ExecuteTime": {
     "end_time": "2022-02-25T15:34:33.147194Z",
     "start_time": "2022-02-25T15:33:00.685Z"
    }
   },
   "outputs": [],
   "source": [
    "total_charge_df = total_charge_df.rename(columns={\"charge_group\": \"total_charge\"})"
   ]
  },
  {
   "cell_type": "code",
   "execution_count": null,
   "metadata": {
    "ExecuteTime": {
     "end_time": "2022-02-25T15:34:33.147746Z",
     "start_time": "2022-02-25T15:33:00.694Z"
    }
   },
   "outputs": [],
   "source": [
    "total_charge_df = total_charge_df.merge(blah, on=\"total_charge\")\n",
    "total_charge_df"
   ]
  },
  {
   "cell_type": "code",
   "execution_count": null,
   "metadata": {
    "ExecuteTime": {
     "end_time": "2022-02-25T15:34:33.148345Z",
     "start_time": "2022-02-25T15:33:00.702Z"
    }
   },
   "outputs": [],
   "source": [
    "total_charge_df['churn_rate'] = total_charge_df.apply(lambda x: x['churn'] / x['#_of_accounts'], axis=1)\n",
    "total_charge_df"
   ]
  },
  {
   "cell_type": "code",
   "execution_count": null,
   "metadata": {
    "ExecuteTime": {
     "end_time": "2022-02-25T15:34:33.148980Z",
     "start_time": "2022-02-25T15:33:00.709Z"
    }
   },
   "outputs": [],
   "source": [
    "testing =  total_charge_df.replace(to_replace=('(22.929, 46.02]', value= '('bin1')')\n",
    "testing"
   ]
  },
  {
   "cell_type": "code",
   "execution_count": null,
   "metadata": {
    "ExecuteTime": {
     "end_time": "2022-02-25T15:34:33.149675Z",
     "start_time": "2022-02-25T15:33:00.717Z"
    }
   },
   "outputs": [],
   "source": [
    "analysis_df.sort_values('total_charge', ascending=False).head(999)"
   ]
  },
  {
   "cell_type": "code",
   "execution_count": null,
   "metadata": {},
   "outputs": [],
   "source": []
  },
  {
   "cell_type": "code",
   "execution_count": null,
   "metadata": {},
   "outputs": [],
   "source": []
  },
  {
   "cell_type": "markdown",
   "metadata": {},
   "source": [
    "### Visualization"
   ]
  },
  {
   "cell_type": "code",
   "execution_count": null,
   "metadata": {
    "ExecuteTime": {
     "end_time": "2022-02-25T15:34:33.150237Z",
     "start_time": "2022-02-25T15:33:00.736Z"
    }
   },
   "outputs": [],
   "source": [
    "fig, ax = plt.subplots(figsize=(10,10))\n",
    "p = sns.barplot(x=\"total_charge\", y=\"churn_rate\", data=total_charge_df, color='green');\n",
    "\n",
    "p.set_xlabel(\"Total Charge\", fontsize = 15)\n",
    "p.set_ylabel(\"Churn Rate\", fontsize = 15)\n",
    "#p.xaxis.set_major_formatter(display_millions)\n",
    "p.set_title(\"Churn Rate by TotalCharge\", fontsize = 20)\n",
    "plt.figsize=(30,20) \n",
    "plt.axhline(y=.145)\n",
    "#plt.savefig('images/project_1_scatter_1')\n",
    "\n",
    "plt.show();"
   ]
  },
  {
   "cell_type": "markdown",
   "metadata": {},
   "source": [
    "# Conclusions"
   ]
  },
  {
   "cell_type": "markdown",
   "metadata": {},
   "source": [
    "## Questions to Answer: Revisited"
   ]
  },
  {
   "cell_type": "markdown",
   "metadata": {},
   "source": [
    "## Recommendations"
   ]
  },
  {
   "cell_type": "markdown",
   "metadata": {
    "ExecuteTime": {
     "end_time": "2022-02-24T17:37:20.800135Z",
     "start_time": "2022-02-24T17:37:20.748929Z"
    }
   },
   "source": [
    "# Summary"
   ]
  },
  {
   "cell_type": "markdown",
   "metadata": {},
   "source": [
    "# Archive"
   ]
  },
  {
   "cell_type": "markdown",
   "metadata": {},
   "source": [
    "## Visualizations"
   ]
  },
  {
   "cell_type": "code",
   "execution_count": null,
   "metadata": {
    "ExecuteTime": {
     "end_time": "2022-02-25T15:34:33.151276Z",
     "start_time": "2022-02-25T15:33:00.748Z"
    }
   },
   "outputs": [],
   "source": [
    "sns.scatterplot(data=analysis_df['total_charge'])"
   ]
  },
  {
   "cell_type": "code",
   "execution_count": null,
   "metadata": {
    "ExecuteTime": {
     "end_time": "2022-02-25T15:34:33.152017Z",
     "start_time": "2022-02-25T15:33:00.758Z"
    }
   },
   "outputs": [],
   "source": [
    "fig, ax = plt.subplots(figsize=(10,10))\n",
    "p = sns.scatterplot(x=\"total_charge\", y=\"ROI\", data=analysis_df);\n",
    "\n",
    "p.set_xlabel(\"Budget\", fontsize = 15)\n",
    "p.set_ylabel(\"ROI\", fontsize = 15)\n",
    "p.xaxis.set_major_formatter(display_millions)\n",
    "p.set_title(\"Distribution of Recent Animated and Adventure Movies by Budget\", fontsize = 20)\n",
    "plt.figsize=(30,20) \n",
    "plt.axhline(y=0)\n",
    "plt.savefig('images/project_1_scatter_1')\n",
    "\n",
    "plt.show();"
   ]
  },
  {
   "cell_type": "code",
   "execution_count": null,
   "metadata": {},
   "outputs": [],
   "source": []
  },
  {
   "cell_type": "code",
   "execution_count": null,
   "metadata": {},
   "outputs": [],
   "source": []
  },
  {
   "cell_type": "code",
   "execution_count": null,
   "metadata": {},
   "outputs": [],
   "source": []
  },
  {
   "cell_type": "markdown",
   "metadata": {},
   "source": [
    "## Analysis of Churned Customers (Old)"
   ]
  },
  {
   "cell_type": "code",
   "execution_count": null,
   "metadata": {
    "ExecuteTime": {
     "end_time": "2022-02-25T15:34:33.152726Z",
     "start_time": "2022-02-25T15:33:00.784Z"
    }
   },
   "outputs": [],
   "source": [
    "cleaned_df"
   ]
  },
  {
   "cell_type": "code",
   "execution_count": null,
   "metadata": {
    "ExecuteTime": {
     "end_time": "2022-02-25T15:34:33.153348Z",
     "start_time": "2022-02-25T15:33:00.793Z"
    }
   },
   "outputs": [],
   "source": [
    "churned_df = cleaned_df[cleaned_df[\"churn_1\"] == 1]\n",
    "churned_df"
   ]
  },
  {
   "cell_type": "code",
   "execution_count": null,
   "metadata": {
    "ExecuteTime": {
     "end_time": "2022-02-25T15:34:33.153870Z",
     "start_time": "2022-02-25T15:33:00.801Z"
    }
   },
   "outputs": [],
   "source": [
    "churned_df.info()"
   ]
  },
  {
   "cell_type": "code",
   "execution_count": null,
   "metadata": {
    "ExecuteTime": {
     "end_time": "2022-02-25T15:34:33.154494Z",
     "start_time": "2022-02-25T15:33:00.808Z"
    },
    "scrolled": true
   },
   "outputs": [],
   "source": [
    "churn_means = churned_df.mean()"
   ]
  },
  {
   "cell_type": "code",
   "execution_count": null,
   "metadata": {
    "ExecuteTime": {
     "end_time": "2022-02-25T15:34:33.155093Z",
     "start_time": "2022-02-25T15:33:00.816Z"
    }
   },
   "outputs": [],
   "source": [
    "stayed_df = cleaned_df[cleaned_df[\"churn_1\"] == 0]\n",
    "stayed_df"
   ]
  },
  {
   "cell_type": "code",
   "execution_count": null,
   "metadata": {
    "ExecuteTime": {
     "end_time": "2022-02-25T15:34:33.155688Z",
     "start_time": "2022-02-25T15:33:00.825Z"
    }
   },
   "outputs": [],
   "source": [
    "stayed_means = stayed_df.mean()"
   ]
  },
  {
   "cell_type": "code",
   "execution_count": null,
   "metadata": {
    "ExecuteTime": {
     "end_time": "2022-02-25T15:34:33.156215Z",
     "start_time": "2022-02-25T15:33:00.834Z"
    }
   },
   "outputs": [],
   "source": [
    "stayed_means = stayed_means.reset_index()"
   ]
  },
  {
   "cell_type": "code",
   "execution_count": null,
   "metadata": {
    "ExecuteTime": {
     "end_time": "2022-02-25T15:34:33.156808Z",
     "start_time": "2022-02-25T15:33:00.842Z"
    }
   },
   "outputs": [],
   "source": [
    "stayed_means = stayed_means.rename(columns={0: \"Stayed\"})"
   ]
  },
  {
   "cell_type": "code",
   "execution_count": null,
   "metadata": {
    "ExecuteTime": {
     "end_time": "2022-02-25T15:34:33.157343Z",
     "start_time": "2022-02-25T15:33:00.849Z"
    }
   },
   "outputs": [],
   "source": [
    "stayed_means"
   ]
  },
  {
   "cell_type": "code",
   "execution_count": null,
   "metadata": {
    "ExecuteTime": {
     "end_time": "2022-02-25T15:34:33.157904Z",
     "start_time": "2022-02-25T15:33:00.858Z"
    }
   },
   "outputs": [],
   "source": [
    "churn_means = churn_means.reset_index()"
   ]
  },
  {
   "cell_type": "code",
   "execution_count": null,
   "metadata": {
    "ExecuteTime": {
     "end_time": "2022-02-25T15:34:33.158445Z",
     "start_time": "2022-02-25T15:33:00.866Z"
    }
   },
   "outputs": [],
   "source": [
    "churn_means = churn_means.rename(columns={0: \"Left\"})"
   ]
  },
  {
   "cell_type": "code",
   "execution_count": null,
   "metadata": {
    "ExecuteTime": {
     "end_time": "2022-02-25T15:34:33.159162Z",
     "start_time": "2022-02-25T15:33:00.874Z"
    }
   },
   "outputs": [],
   "source": [
    "new_df = pd.merge(stayed_means, churn_means, on= 'index')\n",
    "new_df.head()"
   ]
  },
  {
   "cell_type": "code",
   "execution_count": null,
   "metadata": {
    "ExecuteTime": {
     "end_time": "2022-02-25T15:34:33.160106Z",
     "start_time": "2022-02-25T15:33:00.883Z"
    }
   },
   "outputs": [],
   "source": [
    "#new_df = new_df.drop(columns=['level_0_x', 'level_0_y'], axis=1)\n",
    "#new_df.head()"
   ]
  },
  {
   "cell_type": "code",
   "execution_count": null,
   "metadata": {
    "ExecuteTime": {
     "end_time": "2022-02-25T15:34:33.160842Z",
     "start_time": "2022-02-25T15:33:00.891Z"
    }
   },
   "outputs": [],
   "source": [
    "new_df['Delta']= new_df.apply(lambda x: x['Left'] - x['Stayed'], axis=1)"
   ]
  },
  {
   "cell_type": "code",
   "execution_count": null,
   "metadata": {
    "ExecuteTime": {
     "end_time": "2022-02-25T15:34:33.161445Z",
     "start_time": "2022-02-25T15:33:00.898Z"
    }
   },
   "outputs": [],
   "source": [
    "new_df"
   ]
  },
  {
   "cell_type": "code",
   "execution_count": null,
   "metadata": {
    "ExecuteTime": {
     "end_time": "2022-02-25T15:34:33.162011Z",
     "start_time": "2022-02-25T15:33:00.906Z"
    }
   },
   "outputs": [],
   "source": [
    "#churned_df.sort_values('cs_calls_4_5_6', ascending=False)"
   ]
  },
  {
   "cell_type": "code",
   "execution_count": null,
   "metadata": {
    "ExecuteTime": {
     "end_time": "2022-02-25T15:34:33.162682Z",
     "start_time": "2022-02-25T15:33:00.913Z"
    }
   },
   "outputs": [],
   "source": [
    "churned_df.info()"
   ]
  },
  {
   "cell_type": "code",
   "execution_count": null,
   "metadata": {
    "ExecuteTime": {
     "end_time": "2022-02-25T15:34:33.163268Z",
     "start_time": "2022-02-25T15:33:00.920Z"
    }
   },
   "outputs": [],
   "source": [
    "churned_df_cat = churned_df[['cs_calls_high','voice_mail_plan_yes', 'international_plan_yes']]\n",
    "churned_df_cat\n"
   ]
  },
  {
   "cell_type": "code",
   "execution_count": null,
   "metadata": {
    "ExecuteTime": {
     "end_time": "2022-02-25T15:34:33.163816Z",
     "start_time": "2022-02-25T15:33:00.928Z"
    }
   },
   "outputs": [],
   "source": [
    "churned_df_cat.sum()"
   ]
  },
  {
   "cell_type": "code",
   "execution_count": null,
   "metadata": {
    "ExecuteTime": {
     "end_time": "2022-02-25T15:34:33.164403Z",
     "start_time": "2022-02-25T15:33:00.936Z"
    }
   },
   "outputs": [],
   "source": [
    "stayed_df_cat = stayed_df[['cs_calls_high','voice_mail_plan_yes', 'international_plan_yes']]\n",
    "stayed_df_cat"
   ]
  },
  {
   "cell_type": "code",
   "execution_count": null,
   "metadata": {
    "ExecuteTime": {
     "end_time": "2022-02-25T15:34:33.165001Z",
     "start_time": "2022-02-25T15:33:00.945Z"
    }
   },
   "outputs": [],
   "source": [
    "stayed_df_cat.sum()"
   ]
  },
  {
   "cell_type": "code",
   "execution_count": null,
   "metadata": {
    "ExecuteTime": {
     "end_time": "2022-02-25T15:34:33.165621Z",
     "start_time": "2022-02-25T15:33:00.952Z"
    }
   },
   "outputs": [],
   "source": [
    "churned_df.info()"
   ]
  },
  {
   "cell_type": "code",
   "execution_count": null,
   "metadata": {
    "ExecuteTime": {
     "end_time": "2022-02-25T15:34:33.166272Z",
     "start_time": "2022-02-25T15:33:00.960Z"
    }
   },
   "outputs": [],
   "source": [
    "churned_df_num = churned_df[['account_length', \"number_vmail_messages\", \"total_day_calls\", \"total_eve_calls\",\n",
    "                             \"total_night_minutes\", \"total_night_calls\", \"total_intl_calls\",\n",
    "                             \"total_intl_minutes\",]]"
   ]
  },
  {
   "cell_type": "code",
   "execution_count": null,
   "metadata": {
    "ExecuteTime": {
     "end_time": "2022-02-25T15:34:33.166808Z",
     "start_time": "2022-02-25T15:33:00.967Z"
    }
   },
   "outputs": [],
   "source": [
    "#churned_df_num = churned_df[['account_length', \"number_vmail_messages\", \"total_day_calls\", \"total_day_charge\",\n",
    "#                             \"total_eve_calls\", \"total_eve_charge\", \"total_night_minutes\", \"total_night_calls\",\n",
    "#                             \"total_night_charge\", \"total_intl_calls\", \"total_intl_minutes\", \"total_intl_charge\"\n",
    "#                            ]]"
   ]
  },
  {
   "cell_type": "code",
   "execution_count": null,
   "metadata": {
    "ExecuteTime": {
     "end_time": "2022-02-25T15:34:33.167310Z",
     "start_time": "2022-02-25T15:33:00.975Z"
    }
   },
   "outputs": [],
   "source": [
    "stayed_df_num = stayed_df[['account_length', \"number_vmail_messages\", \"total_day_calls\", \"total_eve_calls\",\n",
    "                             \"total_night_minutes\", \"total_night_calls\", \"total_intl_calls\",\n",
    "                             \"total_intl_minutes\",]]"
   ]
  },
  {
   "cell_type": "code",
   "execution_count": null,
   "metadata": {
    "ExecuteTime": {
     "end_time": "2022-02-25T15:34:33.167840Z",
     "start_time": "2022-02-25T15:33:00.983Z"
    }
   },
   "outputs": [],
   "source": [
    "#stayed_df_num = stayed_df[['account_length', \"number_vmail_messages\", \"total_day_calls\", \"total_day_charge\",\n",
    "#                             \"total_eve_calls\", \"total_eve_charge\", \"total_night_minutes\", \"total_night_calls\",\n",
    "#                             \"total_night_charge\", \"total_intl_calls\", \"total_intl_minutes\", \"total_intl_charge\"\n",
    "#                            ]]"
   ]
  },
  {
   "cell_type": "code",
   "execution_count": null,
   "metadata": {
    "ExecuteTime": {
     "end_time": "2022-02-25T15:34:33.168365Z",
     "start_time": "2022-02-25T15:33:00.991Z"
    }
   },
   "outputs": [],
   "source": [
    "churned_df_num.mean()"
   ]
  },
  {
   "cell_type": "code",
   "execution_count": null,
   "metadata": {
    "ExecuteTime": {
     "end_time": "2022-02-25T15:34:33.169065Z",
     "start_time": "2022-02-25T15:33:01.000Z"
    }
   },
   "outputs": [],
   "source": [
    "churned_df_num.describe()"
   ]
  },
  {
   "cell_type": "code",
   "execution_count": null,
   "metadata": {
    "ExecuteTime": {
     "end_time": "2022-02-25T15:34:33.169679Z",
     "start_time": "2022-02-25T15:33:01.008Z"
    }
   },
   "outputs": [],
   "source": [
    "stayed_df_num.mean()"
   ]
  },
  {
   "cell_type": "code",
   "execution_count": null,
   "metadata": {
    "ExecuteTime": {
     "end_time": "2022-02-25T15:34:33.170253Z",
     "start_time": "2022-02-25T15:33:01.016Z"
    }
   },
   "outputs": [],
   "source": [
    "churned_df_num['total_day_charge'].value_counts()"
   ]
  },
  {
   "cell_type": "markdown",
   "metadata": {},
   "source": []
  },
  {
   "cell_type": "code",
   "execution_count": null,
   "metadata": {},
   "outputs": [],
   "source": []
  },
  {
   "cell_type": "code",
   "execution_count": null,
   "metadata": {},
   "outputs": [],
   "source": []
  },
  {
   "cell_type": "code",
   "execution_count": null,
   "metadata": {},
   "outputs": [],
   "source": []
  },
  {
   "cell_type": "code",
   "execution_count": null,
   "metadata": {},
   "outputs": [],
   "source": []
  },
  {
   "cell_type": "code",
   "execution_count": null,
   "metadata": {},
   "outputs": [],
   "source": []
  }
 ],
 "metadata": {
  "kernelspec": {
   "display_name": "Python (learn-env)",
   "language": "python",
   "name": "learn-env"
  },
  "language_info": {
   "codemirror_mode": {
    "name": "ipython",
    "version": 3
   },
   "file_extension": ".py",
   "mimetype": "text/x-python",
   "name": "python",
   "nbconvert_exporter": "python",
   "pygments_lexer": "ipython3",
   "version": "3.8.5"
  },
  "toc": {
   "base_numbering": 1,
   "nav_menu": {},
   "number_sections": true,
   "sideBar": true,
   "skip_h1_title": false,
   "title_cell": "Table of Contents",
   "title_sidebar": "Contents",
   "toc_cell": false,
   "toc_position": {
    "height": "calc(100% - 180px)",
    "left": "10px",
    "top": "150px",
    "width": "288px"
   },
   "toc_section_display": true,
   "toc_window_display": true
  },
  "varInspector": {
   "cols": {
    "lenName": 16,
    "lenType": 16,
    "lenVar": 40
   },
   "kernels_config": {
    "python": {
     "delete_cmd_postfix": "",
     "delete_cmd_prefix": "del ",
     "library": "var_list.py",
     "varRefreshCmd": "print(var_dic_list())"
    },
    "r": {
     "delete_cmd_postfix": ") ",
     "delete_cmd_prefix": "rm(",
     "library": "var_list.r",
     "varRefreshCmd": "cat(var_dic_list()) "
    }
   },
   "types_to_exclude": [
    "module",
    "function",
    "builtin_function_or_method",
    "instance",
    "_Feature"
   ],
   "window_display": false
  }
 },
 "nbformat": 4,
 "nbformat_minor": 4
}
