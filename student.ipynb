{
 "cells": [
  {
   "cell_type": "markdown",
   "metadata": {},
   "source": [
    "# Phase 3 Project\n",
    "- author: Jonathan Holt\n",
    "- Flatiron Data Science\n",
    "- 7/19/21 Cohort"
   ]
  },
  {
   "cell_type": "markdown",
   "metadata": {},
   "source": [
    "## Business Problem"
   ]
  },
  {
   "cell_type": "markdown",
   "metadata": {},
   "source": [
    "SyriaTel is a telecommunications company that wants to identify what factors play a part in customer churn, ie, leaving their service. I have been tasked with with analyizing the data provided and providing recommendations as to what they can do to better retain ccustomers."
   ]
  },
  {
   "cell_type": "markdown",
   "metadata": {},
   "source": [
    "## The Data"
   ]
  },
  {
   "cell_type": "markdown",
   "metadata": {},
   "source": [
    "The dataset that I was given to work with contains information for 3333 accounts, including:\n",
    "- State\n",
    "- Account Length\n",
    "- Area Code\n",
    "- Phone Number\n",
    "- Extra Plans (VoiceMail and/or International)\n",
    "- Minutes Used (Day, Evening, Night, International)\n",
    "- Number of Calls (Day, Evening, Night, International)\n",
    "- Number of VoiceMail Messages\n",
    "- Total Amount Charged for minutes used (Day, Evening, Night, International)\n",
    "- Number of calls to Customer Service\n",
    "\n",
    "and most importantly:\n",
    "- Churn: Customers who cancelled their service."
   ]
  },
  {
   "cell_type": "markdown",
   "metadata": {},
   "source": [
    "## Questions to Answer\n",
    "1. What is the Baseline Churn Rate?\n",
    "2. What factors contribute to churn?\n",
    "3. What factors have the biggest impact on churn?\n",
    "4. What can be done to identify when a customer is at risk for churn?\n",
    "5. What can be done to prevent churn?"
   ]
  },
  {
   "cell_type": "markdown",
   "metadata": {},
   "source": [
    "# Data Preparation"
   ]
  },
  {
   "cell_type": "markdown",
   "metadata": {},
   "source": [
    "## Importing"
   ]
  },
  {
   "cell_type": "code",
   "execution_count": 1,
   "metadata": {
    "ExecuteTime": {
     "end_time": "2022-02-24T20:55:57.321492Z",
     "start_time": "2022-02-24T20:55:56.049708Z"
    }
   },
   "outputs": [],
   "source": [
    "import pandas as pd\n",
    "import seaborn as sns\n",
    "import numpy as np\n",
    "import matplotlib.pyplot as plt\n",
    "%matplotlib inline\n",
    "from sklearn.model_selection import train_test_split, cross_val_score, GridSearchCV\n",
    "from sklearn.tree import DecisionTreeClassifier\n",
    "from sklearn.metrics import accuracy_score, mean_squared_error, mean_squared_log_error, roc_curve, auc\n",
    "from sklearn.metrics import precision_score, recall_score, accuracy_score, f1_score, classification_report\n",
    "from sklearn.preprocessing import OneHotEncoder, StandardScaler\n",
    "from sklearn.linear_model import LinearRegression\n",
    "from sklearn.impute import SimpleImputer\n",
    "from sklearn import tree\n",
    "from sklearn.ensemble import RandomForestClassifier\n",
    "from imblearn.over_sampling import SMOTE\n",
    "from sklearn.metrics import plot_confusion_matrix\n",
    "\n",
    "import warnings\n",
    "warnings.simplefilter(action='ignore', category=FutureWarning)"
   ]
  },
  {
   "cell_type": "code",
   "execution_count": 2,
   "metadata": {
    "ExecuteTime": {
     "end_time": "2022-02-24T20:55:57.324927Z",
     "start_time": "2022-02-24T20:55:57.322848Z"
    }
   },
   "outputs": [],
   "source": [
    "pd.set_option('display.max_rows', 1000) #change the amount of rows displayed\n",
    "plt.style.use('ggplot')"
   ]
  },
  {
   "cell_type": "code",
   "execution_count": 3,
   "metadata": {
    "ExecuteTime": {
     "end_time": "2022-02-24T20:55:57.352045Z",
     "start_time": "2022-02-24T20:55:57.326409Z"
    }
   },
   "outputs": [
    {
     "data": {
      "text/html": [
       "<div>\n",
       "<style scoped>\n",
       "    .dataframe tbody tr th:only-of-type {\n",
       "        vertical-align: middle;\n",
       "    }\n",
       "\n",
       "    .dataframe tbody tr th {\n",
       "        vertical-align: top;\n",
       "    }\n",
       "\n",
       "    .dataframe thead th {\n",
       "        text-align: right;\n",
       "    }\n",
       "</style>\n",
       "<table border=\"1\" class=\"dataframe\">\n",
       "  <thead>\n",
       "    <tr style=\"text-align: right;\">\n",
       "      <th></th>\n",
       "      <th>state</th>\n",
       "      <th>account length</th>\n",
       "      <th>area code</th>\n",
       "      <th>phone number</th>\n",
       "      <th>international plan</th>\n",
       "      <th>voice mail plan</th>\n",
       "      <th>number vmail messages</th>\n",
       "      <th>total day minutes</th>\n",
       "      <th>total day calls</th>\n",
       "      <th>total day charge</th>\n",
       "      <th>...</th>\n",
       "      <th>total eve calls</th>\n",
       "      <th>total eve charge</th>\n",
       "      <th>total night minutes</th>\n",
       "      <th>total night calls</th>\n",
       "      <th>total night charge</th>\n",
       "      <th>total intl minutes</th>\n",
       "      <th>total intl calls</th>\n",
       "      <th>total intl charge</th>\n",
       "      <th>customer service calls</th>\n",
       "      <th>churn</th>\n",
       "    </tr>\n",
       "  </thead>\n",
       "  <tbody>\n",
       "    <tr>\n",
       "      <th>0</th>\n",
       "      <td>KS</td>\n",
       "      <td>128</td>\n",
       "      <td>415</td>\n",
       "      <td>382-4657</td>\n",
       "      <td>no</td>\n",
       "      <td>yes</td>\n",
       "      <td>25</td>\n",
       "      <td>265.1</td>\n",
       "      <td>110</td>\n",
       "      <td>45.07</td>\n",
       "      <td>...</td>\n",
       "      <td>99</td>\n",
       "      <td>16.78</td>\n",
       "      <td>244.7</td>\n",
       "      <td>91</td>\n",
       "      <td>11.01</td>\n",
       "      <td>10.0</td>\n",
       "      <td>3</td>\n",
       "      <td>2.70</td>\n",
       "      <td>1</td>\n",
       "      <td>False</td>\n",
       "    </tr>\n",
       "    <tr>\n",
       "      <th>1</th>\n",
       "      <td>OH</td>\n",
       "      <td>107</td>\n",
       "      <td>415</td>\n",
       "      <td>371-7191</td>\n",
       "      <td>no</td>\n",
       "      <td>yes</td>\n",
       "      <td>26</td>\n",
       "      <td>161.6</td>\n",
       "      <td>123</td>\n",
       "      <td>27.47</td>\n",
       "      <td>...</td>\n",
       "      <td>103</td>\n",
       "      <td>16.62</td>\n",
       "      <td>254.4</td>\n",
       "      <td>103</td>\n",
       "      <td>11.45</td>\n",
       "      <td>13.7</td>\n",
       "      <td>3</td>\n",
       "      <td>3.70</td>\n",
       "      <td>1</td>\n",
       "      <td>False</td>\n",
       "    </tr>\n",
       "    <tr>\n",
       "      <th>2</th>\n",
       "      <td>NJ</td>\n",
       "      <td>137</td>\n",
       "      <td>415</td>\n",
       "      <td>358-1921</td>\n",
       "      <td>no</td>\n",
       "      <td>no</td>\n",
       "      <td>0</td>\n",
       "      <td>243.4</td>\n",
       "      <td>114</td>\n",
       "      <td>41.38</td>\n",
       "      <td>...</td>\n",
       "      <td>110</td>\n",
       "      <td>10.30</td>\n",
       "      <td>162.6</td>\n",
       "      <td>104</td>\n",
       "      <td>7.32</td>\n",
       "      <td>12.2</td>\n",
       "      <td>5</td>\n",
       "      <td>3.29</td>\n",
       "      <td>0</td>\n",
       "      <td>False</td>\n",
       "    </tr>\n",
       "    <tr>\n",
       "      <th>3</th>\n",
       "      <td>OH</td>\n",
       "      <td>84</td>\n",
       "      <td>408</td>\n",
       "      <td>375-9999</td>\n",
       "      <td>yes</td>\n",
       "      <td>no</td>\n",
       "      <td>0</td>\n",
       "      <td>299.4</td>\n",
       "      <td>71</td>\n",
       "      <td>50.90</td>\n",
       "      <td>...</td>\n",
       "      <td>88</td>\n",
       "      <td>5.26</td>\n",
       "      <td>196.9</td>\n",
       "      <td>89</td>\n",
       "      <td>8.86</td>\n",
       "      <td>6.6</td>\n",
       "      <td>7</td>\n",
       "      <td>1.78</td>\n",
       "      <td>2</td>\n",
       "      <td>False</td>\n",
       "    </tr>\n",
       "    <tr>\n",
       "      <th>4</th>\n",
       "      <td>OK</td>\n",
       "      <td>75</td>\n",
       "      <td>415</td>\n",
       "      <td>330-6626</td>\n",
       "      <td>yes</td>\n",
       "      <td>no</td>\n",
       "      <td>0</td>\n",
       "      <td>166.7</td>\n",
       "      <td>113</td>\n",
       "      <td>28.34</td>\n",
       "      <td>...</td>\n",
       "      <td>122</td>\n",
       "      <td>12.61</td>\n",
       "      <td>186.9</td>\n",
       "      <td>121</td>\n",
       "      <td>8.41</td>\n",
       "      <td>10.1</td>\n",
       "      <td>3</td>\n",
       "      <td>2.73</td>\n",
       "      <td>3</td>\n",
       "      <td>False</td>\n",
       "    </tr>\n",
       "  </tbody>\n",
       "</table>\n",
       "<p>5 rows × 21 columns</p>\n",
       "</div>"
      ],
      "text/plain": [
       "  state  account length  area code phone number international plan  \\\n",
       "0    KS             128        415     382-4657                 no   \n",
       "1    OH             107        415     371-7191                 no   \n",
       "2    NJ             137        415     358-1921                 no   \n",
       "3    OH              84        408     375-9999                yes   \n",
       "4    OK              75        415     330-6626                yes   \n",
       "\n",
       "  voice mail plan  number vmail messages  total day minutes  total day calls  \\\n",
       "0             yes                     25              265.1              110   \n",
       "1             yes                     26              161.6              123   \n",
       "2              no                      0              243.4              114   \n",
       "3              no                      0              299.4               71   \n",
       "4              no                      0              166.7              113   \n",
       "\n",
       "   total day charge  ...  total eve calls  total eve charge  \\\n",
       "0             45.07  ...               99             16.78   \n",
       "1             27.47  ...              103             16.62   \n",
       "2             41.38  ...              110             10.30   \n",
       "3             50.90  ...               88              5.26   \n",
       "4             28.34  ...              122             12.61   \n",
       "\n",
       "   total night minutes  total night calls  total night charge  \\\n",
       "0                244.7                 91               11.01   \n",
       "1                254.4                103               11.45   \n",
       "2                162.6                104                7.32   \n",
       "3                196.9                 89                8.86   \n",
       "4                186.9                121                8.41   \n",
       "\n",
       "   total intl minutes  total intl calls  total intl charge  \\\n",
       "0                10.0                 3               2.70   \n",
       "1                13.7                 3               3.70   \n",
       "2                12.2                 5               3.29   \n",
       "3                 6.6                 7               1.78   \n",
       "4                10.1                 3               2.73   \n",
       "\n",
       "   customer service calls  churn  \n",
       "0                       1  False  \n",
       "1                       1  False  \n",
       "2                       0  False  \n",
       "3                       2  False  \n",
       "4                       3  False  \n",
       "\n",
       "[5 rows x 21 columns]"
      ]
     },
     "execution_count": 3,
     "metadata": {},
     "output_type": "execute_result"
    }
   ],
   "source": [
    "df = pd.read_csv('bigml_59c28831336c6604c800002a.csv')\n",
    "df.head()"
   ]
  },
  {
   "cell_type": "markdown",
   "metadata": {},
   "source": [
    "## Fixing column names"
   ]
  },
  {
   "cell_type": "code",
   "execution_count": 4,
   "metadata": {
    "ExecuteTime": {
     "end_time": "2022-02-24T20:55:57.356625Z",
     "start_time": "2022-02-24T20:55:57.353480Z"
    }
   },
   "outputs": [
    {
     "data": {
      "text/plain": [
       "Index(['state', 'account_length', 'area_code', 'phone_number',\n",
       "       'international_plan', 'voice_mail_plan', 'number_vmail_messages',\n",
       "       'total_day_minutes', 'total_day_calls', 'total_day_charge',\n",
       "       'total_eve_minutes', 'total_eve_calls', 'total_eve_charge',\n",
       "       'total_night_minutes', 'total_night_calls', 'total_night_charge',\n",
       "       'total_intl_minutes', 'total_intl_calls', 'total_intl_charge',\n",
       "       'customer_service_calls', 'churn'],\n",
       "      dtype='object')"
      ]
     },
     "execution_count": 4,
     "metadata": {},
     "output_type": "execute_result"
    }
   ],
   "source": [
    "df.columns = df.columns.str.replace(' ','_')\n",
    "df.columns"
   ]
  },
  {
   "cell_type": "markdown",
   "metadata": {},
   "source": [
    "## Inital Data Exploration"
   ]
  },
  {
   "cell_type": "code",
   "execution_count": 5,
   "metadata": {
    "ExecuteTime": {
     "end_time": "2022-02-24T20:55:57.364766Z",
     "start_time": "2022-02-24T20:55:57.357713Z"
    }
   },
   "outputs": [
    {
     "name": "stdout",
     "output_type": "stream",
     "text": [
      "<class 'pandas.core.frame.DataFrame'>\n",
      "RangeIndex: 3333 entries, 0 to 3332\n",
      "Data columns (total 21 columns):\n",
      " #   Column                  Non-Null Count  Dtype  \n",
      "---  ------                  --------------  -----  \n",
      " 0   state                   3333 non-null   object \n",
      " 1   account_length          3333 non-null   int64  \n",
      " 2   area_code               3333 non-null   int64  \n",
      " 3   phone_number            3333 non-null   object \n",
      " 4   international_plan      3333 non-null   object \n",
      " 5   voice_mail_plan         3333 non-null   object \n",
      " 6   number_vmail_messages   3333 non-null   int64  \n",
      " 7   total_day_minutes       3333 non-null   float64\n",
      " 8   total_day_calls         3333 non-null   int64  \n",
      " 9   total_day_charge        3333 non-null   float64\n",
      " 10  total_eve_minutes       3333 non-null   float64\n",
      " 11  total_eve_calls         3333 non-null   int64  \n",
      " 12  total_eve_charge        3333 non-null   float64\n",
      " 13  total_night_minutes     3333 non-null   float64\n",
      " 14  total_night_calls       3333 non-null   int64  \n",
      " 15  total_night_charge      3333 non-null   float64\n",
      " 16  total_intl_minutes      3333 non-null   float64\n",
      " 17  total_intl_calls        3333 non-null   int64  \n",
      " 18  total_intl_charge       3333 non-null   float64\n",
      " 19  customer_service_calls  3333 non-null   int64  \n",
      " 20  churn                   3333 non-null   bool   \n",
      "dtypes: bool(1), float64(8), int64(8), object(4)\n",
      "memory usage: 524.2+ KB\n"
     ]
    }
   ],
   "source": [
    "df.info()"
   ]
  },
  {
   "cell_type": "code",
   "execution_count": 6,
   "metadata": {
    "ExecuteTime": {
     "end_time": "2022-02-24T20:55:57.369854Z",
     "start_time": "2022-02-24T20:55:57.365801Z"
    }
   },
   "outputs": [
    {
     "data": {
      "text/plain": [
       "state                     0\n",
       "account_length            0\n",
       "area_code                 0\n",
       "phone_number              0\n",
       "international_plan        0\n",
       "voice_mail_plan           0\n",
       "number_vmail_messages     0\n",
       "total_day_minutes         0\n",
       "total_day_calls           0\n",
       "total_day_charge          0\n",
       "total_eve_minutes         0\n",
       "total_eve_calls           0\n",
       "total_eve_charge          0\n",
       "total_night_minutes       0\n",
       "total_night_calls         0\n",
       "total_night_charge        0\n",
       "total_intl_minutes        0\n",
       "total_intl_calls          0\n",
       "total_intl_charge         0\n",
       "customer_service_calls    0\n",
       "churn                     0\n",
       "dtype: int64"
      ]
     },
     "execution_count": 6,
     "metadata": {},
     "output_type": "execute_result"
    }
   ],
   "source": [
    "df.isna().sum()"
   ]
  },
  {
   "cell_type": "code",
   "execution_count": 7,
   "metadata": {
    "ExecuteTime": {
     "end_time": "2022-02-24T20:55:57.373672Z",
     "start_time": "2022-02-24T20:55:57.370826Z"
    }
   },
   "outputs": [
    {
     "data": {
      "text/plain": [
       "0"
      ]
     },
     "execution_count": 7,
     "metadata": {},
     "output_type": "execute_result"
    }
   ],
   "source": [
    "df.phone_number.duplicated().sum()"
   ]
  },
  {
   "cell_type": "code",
   "execution_count": 8,
   "metadata": {
    "ExecuteTime": {
     "end_time": "2022-02-24T20:55:57.379431Z",
     "start_time": "2022-02-24T20:55:57.375866Z"
    }
   },
   "outputs": [
    {
     "data": {
      "text/plain": [
       "False    2850\n",
       "True      483\n",
       "Name: churn, dtype: int64"
      ]
     },
     "execution_count": 8,
     "metadata": {},
     "output_type": "execute_result"
    }
   ],
   "source": [
    "df.churn.value_counts()"
   ]
  },
  {
   "cell_type": "markdown",
   "metadata": {
    "ExecuteTime": {
     "end_time": "2022-02-24T18:25:37.713554Z",
     "start_time": "2022-02-24T18:25:37.708964Z"
    }
   },
   "source": [
    "## Initial Analysis"
   ]
  },
  {
   "cell_type": "markdown",
   "metadata": {},
   "source": [
    "### Base Churn Rate: 14.49%\n",
    "- There are 3333 records.\n",
    "- No missing values, and no duplicates.\n",
    "- The number of customers who churned was 483.\n",
    "- Therefore the base churn rate is (483 / 3333) = 14.49%"
   ]
  },
  {
   "cell_type": "markdown",
   "metadata": {},
   "source": [
    "### Target Feature Class Imbalance\n",
    "- Churn is very imbalanced as the amount of customers sho stay with the company is nearly 6X higher than the number of customers who leave.\n",
    "- Class imbalance will need to be addressed in my models through one of (or a combination of) these options:\n",
    "1. class weight parameters\n",
    "2. oversampling or undersampling\n",
    "3. Synthetic Minority Oversampling (SMOTE)"
   ]
  },
  {
   "cell_type": "code",
   "execution_count": 9,
   "metadata": {
    "ExecuteTime": {
     "end_time": "2022-02-24T20:55:57.464485Z",
     "start_time": "2022-02-24T20:55:57.381093Z"
    }
   },
   "outputs": [
    {
     "data": {
      "image/png": "[encoded data removed]",
      "text/plain": [
       "<Figure size 432x288 with 1 Axes>"
      ]
     },
     "metadata": {},
     "output_type": "display_data"
    }
   ],
   "source": [
    "imbalance_data = df.pivot_table(index='churn', aggfunc='size').plot(kind='bar')\n",
    "imbalance_data;"
   ]
  },
  {
   "cell_type": "markdown",
   "metadata": {},
   "source": [
    "# Cleaning and Preprocessing"
   ]
  },
  {
   "cell_type": "code",
   "execution_count": 10,
   "metadata": {
    "ExecuteTime": {
     "end_time": "2022-02-24T20:55:57.478315Z",
     "start_time": "2022-02-24T20:55:57.465504Z"
    }
   },
   "outputs": [
    {
     "data": {
      "text/html": [
       "<div>\n",
       "<style scoped>\n",
       "    .dataframe tbody tr th:only-of-type {\n",
       "        vertical-align: middle;\n",
       "    }\n",
       "\n",
       "    .dataframe tbody tr th {\n",
       "        vertical-align: top;\n",
       "    }\n",
       "\n",
       "    .dataframe thead th {\n",
       "        text-align: right;\n",
       "    }\n",
       "</style>\n",
       "<table border=\"1\" class=\"dataframe\">\n",
       "  <thead>\n",
       "    <tr style=\"text-align: right;\">\n",
       "      <th></th>\n",
       "      <th>state</th>\n",
       "      <th>account_length</th>\n",
       "      <th>area_code</th>\n",
       "      <th>phone_number</th>\n",
       "      <th>international_plan</th>\n",
       "      <th>voice_mail_plan</th>\n",
       "      <th>number_vmail_messages</th>\n",
       "      <th>total_day_minutes</th>\n",
       "      <th>total_day_calls</th>\n",
       "      <th>total_day_charge</th>\n",
       "      <th>...</th>\n",
       "      <th>total_eve_calls</th>\n",
       "      <th>total_eve_charge</th>\n",
       "      <th>total_night_minutes</th>\n",
       "      <th>total_night_calls</th>\n",
       "      <th>total_night_charge</th>\n",
       "      <th>total_intl_minutes</th>\n",
       "      <th>total_intl_calls</th>\n",
       "      <th>total_intl_charge</th>\n",
       "      <th>customer_service_calls</th>\n",
       "      <th>churn</th>\n",
       "    </tr>\n",
       "  </thead>\n",
       "  <tbody>\n",
       "    <tr>\n",
       "      <th>0</th>\n",
       "      <td>KS</td>\n",
       "      <td>128</td>\n",
       "      <td>415</td>\n",
       "      <td>382-4657</td>\n",
       "      <td>no</td>\n",
       "      <td>yes</td>\n",
       "      <td>25</td>\n",
       "      <td>265.1</td>\n",
       "      <td>110</td>\n",
       "      <td>45.07</td>\n",
       "      <td>...</td>\n",
       "      <td>99</td>\n",
       "      <td>16.78</td>\n",
       "      <td>244.7</td>\n",
       "      <td>91</td>\n",
       "      <td>11.01</td>\n",
       "      <td>10.0</td>\n",
       "      <td>3</td>\n",
       "      <td>2.7</td>\n",
       "      <td>1</td>\n",
       "      <td>False</td>\n",
       "    </tr>\n",
       "    <tr>\n",
       "      <th>1</th>\n",
       "      <td>OH</td>\n",
       "      <td>107</td>\n",
       "      <td>415</td>\n",
       "      <td>371-7191</td>\n",
       "      <td>no</td>\n",
       "      <td>yes</td>\n",
       "      <td>26</td>\n",
       "      <td>161.6</td>\n",
       "      <td>123</td>\n",
       "      <td>27.47</td>\n",
       "      <td>...</td>\n",
       "      <td>103</td>\n",
       "      <td>16.62</td>\n",
       "      <td>254.4</td>\n",
       "      <td>103</td>\n",
       "      <td>11.45</td>\n",
       "      <td>13.7</td>\n",
       "      <td>3</td>\n",
       "      <td>3.7</td>\n",
       "      <td>1</td>\n",
       "      <td>False</td>\n",
       "    </tr>\n",
       "  </tbody>\n",
       "</table>\n",
       "<p>2 rows × 21 columns</p>\n",
       "</div>"
      ],
      "text/plain": [
       "  state  account_length  area_code phone_number international_plan  \\\n",
       "0    KS             128        415     382-4657                 no   \n",
       "1    OH             107        415     371-7191                 no   \n",
       "\n",
       "  voice_mail_plan  number_vmail_messages  total_day_minutes  total_day_calls  \\\n",
       "0             yes                     25              265.1              110   \n",
       "1             yes                     26              161.6              123   \n",
       "\n",
       "   total_day_charge  ...  total_eve_calls  total_eve_charge  \\\n",
       "0             45.07  ...               99             16.78   \n",
       "1             27.47  ...              103             16.62   \n",
       "\n",
       "   total_night_minutes  total_night_calls  total_night_charge  \\\n",
       "0                244.7                 91               11.01   \n",
       "1                254.4                103               11.45   \n",
       "\n",
       "   total_intl_minutes  total_intl_calls  total_intl_charge  \\\n",
       "0                10.0                 3                2.7   \n",
       "1                13.7                 3                3.7   \n",
       "\n",
       "   customer_service_calls  churn  \n",
       "0                       1  False  \n",
       "1                       1  False  \n",
       "\n",
       "[2 rows x 21 columns]"
      ]
     },
     "execution_count": 10,
     "metadata": {},
     "output_type": "execute_result"
    }
   ],
   "source": [
    "test_df = df.copy()\n",
    "test_df.head(2)"
   ]
  },
  {
   "cell_type": "markdown",
   "metadata": {},
   "source": [
    "## Changing False to 0 and True to 1"
   ]
  },
  {
   "cell_type": "code",
   "execution_count": 11,
   "metadata": {
    "ExecuteTime": {
     "end_time": "2022-02-24T20:55:57.483534Z",
     "start_time": "2022-02-24T20:55:57.479404Z"
    }
   },
   "outputs": [
    {
     "data": {
      "text/plain": [
       "0    2850\n",
       "1     483\n",
       "Name: churn, dtype: int64"
      ]
     },
     "execution_count": 11,
     "metadata": {},
     "output_type": "execute_result"
    }
   ],
   "source": [
    "test_df[\"churn\"] = test_df[\"churn\"].astype(int)\n",
    "test_df.churn.value_counts()"
   ]
  },
  {
   "cell_type": "markdown",
   "metadata": {},
   "source": [
    "## Dropping Uneccesary Columns"
   ]
  },
  {
   "cell_type": "code",
   "execution_count": 12,
   "metadata": {
    "ExecuteTime": {
     "end_time": "2022-02-24T20:55:57.485837Z",
     "start_time": "2022-02-24T20:55:57.484392Z"
    }
   },
   "outputs": [],
   "source": [
    "#test_df = test_df.drop(columns=['state','phone_number', 'area_code'], axis=1)"
   ]
  },
  {
   "cell_type": "markdown",
   "metadata": {},
   "source": [
    "## Adding Column: Total Charge\n",
    "- This column captures the total charge that the customer will see on their bill from all charges contained within the dataset."
   ]
  },
  {
   "cell_type": "code",
   "execution_count": 13,
   "metadata": {
    "ExecuteTime": {
     "end_time": "2022-02-24T20:55:57.526262Z",
     "start_time": "2022-02-24T20:55:57.486813Z"
    }
   },
   "outputs": [],
   "source": [
    "total_charge = test_df.apply(lambda x: x['total_day_charge'] + x['total_eve_charge'] +x['total_night_charge']\n",
    "                             +x['total_intl_charge'], axis=1)\n",
    "test_df['total_charge']= total_charge"
   ]
  },
  {
   "cell_type": "markdown",
   "metadata": {
    "ExecuteTime": {
     "end_time": "2022-02-16T17:59:05.018900Z",
     "start_time": "2022-02-16T17:59:04.997975Z"
    }
   },
   "source": [
    "## Slicing out object type Features"
   ]
  },
  {
   "cell_type": "code",
   "execution_count": 14,
   "metadata": {
    "ExecuteTime": {
     "end_time": "2022-02-24T20:55:57.538067Z",
     "start_time": "2022-02-24T20:55:57.527287Z"
    }
   },
   "outputs": [
    {
     "data": {
      "text/html": [
       "<div>\n",
       "<style scoped>\n",
       "    .dataframe tbody tr th:only-of-type {\n",
       "        vertical-align: middle;\n",
       "    }\n",
       "\n",
       "    .dataframe tbody tr th {\n",
       "        vertical-align: top;\n",
       "    }\n",
       "\n",
       "    .dataframe thead th {\n",
       "        text-align: right;\n",
       "    }\n",
       "</style>\n",
       "<table border=\"1\" class=\"dataframe\">\n",
       "  <thead>\n",
       "    <tr style=\"text-align: right;\">\n",
       "      <th></th>\n",
       "      <th>account_length</th>\n",
       "      <th>area_code</th>\n",
       "      <th>number_vmail_messages</th>\n",
       "      <th>total_day_minutes</th>\n",
       "      <th>total_day_calls</th>\n",
       "      <th>total_day_charge</th>\n",
       "      <th>total_eve_minutes</th>\n",
       "      <th>total_eve_calls</th>\n",
       "      <th>total_eve_charge</th>\n",
       "      <th>total_night_minutes</th>\n",
       "      <th>total_night_calls</th>\n",
       "      <th>total_night_charge</th>\n",
       "      <th>total_intl_minutes</th>\n",
       "      <th>total_intl_calls</th>\n",
       "      <th>total_intl_charge</th>\n",
       "      <th>customer_service_calls</th>\n",
       "      <th>churn</th>\n",
       "      <th>total_charge</th>\n",
       "    </tr>\n",
       "  </thead>\n",
       "  <tbody>\n",
       "    <tr>\n",
       "      <th>0</th>\n",
       "      <td>128</td>\n",
       "      <td>415</td>\n",
       "      <td>25</td>\n",
       "      <td>265.1</td>\n",
       "      <td>110</td>\n",
       "      <td>45.07</td>\n",
       "      <td>197.4</td>\n",
       "      <td>99</td>\n",
       "      <td>16.78</td>\n",
       "      <td>244.7</td>\n",
       "      <td>91</td>\n",
       "      <td>11.01</td>\n",
       "      <td>10.0</td>\n",
       "      <td>3</td>\n",
       "      <td>2.70</td>\n",
       "      <td>1</td>\n",
       "      <td>0</td>\n",
       "      <td>75.56</td>\n",
       "    </tr>\n",
       "    <tr>\n",
       "      <th>1</th>\n",
       "      <td>107</td>\n",
       "      <td>415</td>\n",
       "      <td>26</td>\n",
       "      <td>161.6</td>\n",
       "      <td>123</td>\n",
       "      <td>27.47</td>\n",
       "      <td>195.5</td>\n",
       "      <td>103</td>\n",
       "      <td>16.62</td>\n",
       "      <td>254.4</td>\n",
       "      <td>103</td>\n",
       "      <td>11.45</td>\n",
       "      <td>13.7</td>\n",
       "      <td>3</td>\n",
       "      <td>3.70</td>\n",
       "      <td>1</td>\n",
       "      <td>0</td>\n",
       "      <td>59.24</td>\n",
       "    </tr>\n",
       "    <tr>\n",
       "      <th>2</th>\n",
       "      <td>137</td>\n",
       "      <td>415</td>\n",
       "      <td>0</td>\n",
       "      <td>243.4</td>\n",
       "      <td>114</td>\n",
       "      <td>41.38</td>\n",
       "      <td>121.2</td>\n",
       "      <td>110</td>\n",
       "      <td>10.30</td>\n",
       "      <td>162.6</td>\n",
       "      <td>104</td>\n",
       "      <td>7.32</td>\n",
       "      <td>12.2</td>\n",
       "      <td>5</td>\n",
       "      <td>3.29</td>\n",
       "      <td>0</td>\n",
       "      <td>0</td>\n",
       "      <td>62.29</td>\n",
       "    </tr>\n",
       "    <tr>\n",
       "      <th>3</th>\n",
       "      <td>84</td>\n",
       "      <td>408</td>\n",
       "      <td>0</td>\n",
       "      <td>299.4</td>\n",
       "      <td>71</td>\n",
       "      <td>50.90</td>\n",
       "      <td>61.9</td>\n",
       "      <td>88</td>\n",
       "      <td>5.26</td>\n",
       "      <td>196.9</td>\n",
       "      <td>89</td>\n",
       "      <td>8.86</td>\n",
       "      <td>6.6</td>\n",
       "      <td>7</td>\n",
       "      <td>1.78</td>\n",
       "      <td>2</td>\n",
       "      <td>0</td>\n",
       "      <td>66.80</td>\n",
       "    </tr>\n",
       "    <tr>\n",
       "      <th>4</th>\n",
       "      <td>75</td>\n",
       "      <td>415</td>\n",
       "      <td>0</td>\n",
       "      <td>166.7</td>\n",
       "      <td>113</td>\n",
       "      <td>28.34</td>\n",
       "      <td>148.3</td>\n",
       "      <td>122</td>\n",
       "      <td>12.61</td>\n",
       "      <td>186.9</td>\n",
       "      <td>121</td>\n",
       "      <td>8.41</td>\n",
       "      <td>10.1</td>\n",
       "      <td>3</td>\n",
       "      <td>2.73</td>\n",
       "      <td>3</td>\n",
       "      <td>0</td>\n",
       "      <td>52.09</td>\n",
       "    </tr>\n",
       "  </tbody>\n",
       "</table>\n",
       "</div>"
      ],
      "text/plain": [
       "   account_length  area_code  number_vmail_messages  total_day_minutes  \\\n",
       "0             128        415                     25              265.1   \n",
       "1             107        415                     26              161.6   \n",
       "2             137        415                      0              243.4   \n",
       "3              84        408                      0              299.4   \n",
       "4              75        415                      0              166.7   \n",
       "\n",
       "   total_day_calls  total_day_charge  total_eve_minutes  total_eve_calls  \\\n",
       "0              110             45.07              197.4               99   \n",
       "1              123             27.47              195.5              103   \n",
       "2              114             41.38              121.2              110   \n",
       "3               71             50.90               61.9               88   \n",
       "4              113             28.34              148.3              122   \n",
       "\n",
       "   total_eve_charge  total_night_minutes  total_night_calls  \\\n",
       "0             16.78                244.7                 91   \n",
       "1             16.62                254.4                103   \n",
       "2             10.30                162.6                104   \n",
       "3              5.26                196.9                 89   \n",
       "4             12.61                186.9                121   \n",
       "\n",
       "   total_night_charge  total_intl_minutes  total_intl_calls  \\\n",
       "0               11.01                10.0                 3   \n",
       "1               11.45                13.7                 3   \n",
       "2                7.32                12.2                 5   \n",
       "3                8.86                 6.6                 7   \n",
       "4                8.41                10.1                 3   \n",
       "\n",
       "   total_intl_charge  customer_service_calls  churn  total_charge  \n",
       "0               2.70                       1      0         75.56  \n",
       "1               3.70                       1      0         59.24  \n",
       "2               3.29                       0      0         62.29  \n",
       "3               1.78                       2      0         66.80  \n",
       "4               2.73                       3      0         52.09  "
      ]
     },
     "execution_count": 14,
     "metadata": {},
     "output_type": "execute_result"
    }
   ],
   "source": [
    "cont_features = [col for col in test_df.columns if test_df[col].dtype in [np.float64, np.int64]]\n",
    "feature_df = test_df.loc[:, cont_features]\n",
    "feature_df.head()"
   ]
  },
  {
   "cell_type": "markdown",
   "metadata": {},
   "source": [
    "## One Hot Encoding"
   ]
  },
  {
   "cell_type": "code",
   "execution_count": 15,
   "metadata": {
    "ExecuteTime": {
     "end_time": "2022-02-24T20:55:57.551731Z",
     "start_time": "2022-02-24T20:55:57.539075Z"
    }
   },
   "outputs": [
    {
     "data": {
      "text/html": [
       "<div>\n",
       "<style scoped>\n",
       "    .dataframe tbody tr th:only-of-type {\n",
       "        vertical-align: middle;\n",
       "    }\n",
       "\n",
       "    .dataframe tbody tr th {\n",
       "        vertical-align: top;\n",
       "    }\n",
       "\n",
       "    .dataframe thead th {\n",
       "        text-align: right;\n",
       "    }\n",
       "</style>\n",
       "<table border=\"1\" class=\"dataframe\">\n",
       "  <thead>\n",
       "    <tr style=\"text-align: right;\">\n",
       "      <th></th>\n",
       "      <th>international_plan_no</th>\n",
       "      <th>international_plan_yes</th>\n",
       "      <th>voice_mail_plan_no</th>\n",
       "      <th>voice_mail_plan_yes</th>\n",
       "      <th>customer_service_calls_0</th>\n",
       "      <th>customer_service_calls_1</th>\n",
       "      <th>customer_service_calls_2</th>\n",
       "      <th>customer_service_calls_3</th>\n",
       "      <th>customer_service_calls_4</th>\n",
       "      <th>customer_service_calls_5</th>\n",
       "      <th>customer_service_calls_6</th>\n",
       "      <th>customer_service_calls_7</th>\n",
       "      <th>customer_service_calls_8</th>\n",
       "      <th>customer_service_calls_9</th>\n",
       "    </tr>\n",
       "  </thead>\n",
       "  <tbody>\n",
       "    <tr>\n",
       "      <th>0</th>\n",
       "      <td>1.0</td>\n",
       "      <td>0.0</td>\n",
       "      <td>0.0</td>\n",
       "      <td>1.0</td>\n",
       "      <td>0.0</td>\n",
       "      <td>1.0</td>\n",
       "      <td>0.0</td>\n",
       "      <td>0.0</td>\n",
       "      <td>0.0</td>\n",
       "      <td>0.0</td>\n",
       "      <td>0.0</td>\n",
       "      <td>0.0</td>\n",
       "      <td>0.0</td>\n",
       "      <td>0.0</td>\n",
       "    </tr>\n",
       "    <tr>\n",
       "      <th>1</th>\n",
       "      <td>1.0</td>\n",
       "      <td>0.0</td>\n",
       "      <td>0.0</td>\n",
       "      <td>1.0</td>\n",
       "      <td>0.0</td>\n",
       "      <td>1.0</td>\n",
       "      <td>0.0</td>\n",
       "      <td>0.0</td>\n",
       "      <td>0.0</td>\n",
       "      <td>0.0</td>\n",
       "      <td>0.0</td>\n",
       "      <td>0.0</td>\n",
       "      <td>0.0</td>\n",
       "      <td>0.0</td>\n",
       "    </tr>\n",
       "  </tbody>\n",
       "</table>\n",
       "</div>"
      ],
      "text/plain": [
       "   international_plan_no  international_plan_yes  voice_mail_plan_no  \\\n",
       "0                    1.0                     0.0                 0.0   \n",
       "1                    1.0                     0.0                 0.0   \n",
       "\n",
       "   voice_mail_plan_yes  customer_service_calls_0  customer_service_calls_1  \\\n",
       "0                  1.0                       0.0                       1.0   \n",
       "1                  1.0                       0.0                       1.0   \n",
       "\n",
       "   customer_service_calls_2  customer_service_calls_3  \\\n",
       "0                       0.0                       0.0   \n",
       "1                       0.0                       0.0   \n",
       "\n",
       "   customer_service_calls_4  customer_service_calls_5  \\\n",
       "0                       0.0                       0.0   \n",
       "1                       0.0                       0.0   \n",
       "\n",
       "   customer_service_calls_6  customer_service_calls_7  \\\n",
       "0                       0.0                       0.0   \n",
       "1                       0.0                       0.0   \n",
       "\n",
       "   customer_service_calls_8  customer_service_calls_9  \n",
       "0                       0.0                       0.0  \n",
       "1                       0.0                       0.0  "
      ]
     },
     "execution_count": 15,
     "metadata": {},
     "output_type": "execute_result"
    }
   ],
   "source": [
    "need_to_encode = test_df[['international_plan', 'voice_mail_plan', 'customer_service_calls']]\n",
    "ohe = OneHotEncoder()\n",
    "ohe.fit(need_to_encode)\n",
    "\n",
    "ohe_1 = ohe.transform(need_to_encode).toarray()\n",
    "\n",
    "ohe_df = pd.DataFrame(ohe_1, columns=ohe.get_feature_names(need_to_encode.columns))\n",
    "ohe_df.head(2)"
   ]
  },
  {
   "cell_type": "code",
   "execution_count": 16,
   "metadata": {
    "ExecuteTime": {
     "end_time": "2022-02-24T20:55:57.566592Z",
     "start_time": "2022-02-24T20:55:57.552803Z"
    }
   },
   "outputs": [
    {
     "data": {
      "text/html": [
       "<div>\n",
       "<style scoped>\n",
       "    .dataframe tbody tr th:only-of-type {\n",
       "        vertical-align: middle;\n",
       "    }\n",
       "\n",
       "    .dataframe tbody tr th {\n",
       "        vertical-align: top;\n",
       "    }\n",
       "\n",
       "    .dataframe thead th {\n",
       "        text-align: right;\n",
       "    }\n",
       "</style>\n",
       "<table border=\"1\" class=\"dataframe\">\n",
       "  <thead>\n",
       "    <tr style=\"text-align: right;\">\n",
       "      <th></th>\n",
       "      <th>account_length</th>\n",
       "      <th>area_code</th>\n",
       "      <th>number_vmail_messages</th>\n",
       "      <th>total_day_minutes</th>\n",
       "      <th>total_day_calls</th>\n",
       "      <th>total_day_charge</th>\n",
       "      <th>total_eve_minutes</th>\n",
       "      <th>total_eve_calls</th>\n",
       "      <th>total_eve_charge</th>\n",
       "      <th>total_night_minutes</th>\n",
       "      <th>...</th>\n",
       "      <th>customer_service_calls_0</th>\n",
       "      <th>customer_service_calls_1</th>\n",
       "      <th>customer_service_calls_2</th>\n",
       "      <th>customer_service_calls_3</th>\n",
       "      <th>customer_service_calls_4</th>\n",
       "      <th>customer_service_calls_5</th>\n",
       "      <th>customer_service_calls_6</th>\n",
       "      <th>customer_service_calls_7</th>\n",
       "      <th>customer_service_calls_8</th>\n",
       "      <th>customer_service_calls_9</th>\n",
       "    </tr>\n",
       "  </thead>\n",
       "  <tbody>\n",
       "    <tr>\n",
       "      <th>0</th>\n",
       "      <td>128</td>\n",
       "      <td>415</td>\n",
       "      <td>25</td>\n",
       "      <td>265.1</td>\n",
       "      <td>110</td>\n",
       "      <td>45.07</td>\n",
       "      <td>197.4</td>\n",
       "      <td>99</td>\n",
       "      <td>16.78</td>\n",
       "      <td>244.7</td>\n",
       "      <td>...</td>\n",
       "      <td>0.0</td>\n",
       "      <td>1.0</td>\n",
       "      <td>0.0</td>\n",
       "      <td>0.0</td>\n",
       "      <td>0.0</td>\n",
       "      <td>0.0</td>\n",
       "      <td>0.0</td>\n",
       "      <td>0.0</td>\n",
       "      <td>0.0</td>\n",
       "      <td>0.0</td>\n",
       "    </tr>\n",
       "    <tr>\n",
       "      <th>1</th>\n",
       "      <td>107</td>\n",
       "      <td>415</td>\n",
       "      <td>26</td>\n",
       "      <td>161.6</td>\n",
       "      <td>123</td>\n",
       "      <td>27.47</td>\n",
       "      <td>195.5</td>\n",
       "      <td>103</td>\n",
       "      <td>16.62</td>\n",
       "      <td>254.4</td>\n",
       "      <td>...</td>\n",
       "      <td>0.0</td>\n",
       "      <td>1.0</td>\n",
       "      <td>0.0</td>\n",
       "      <td>0.0</td>\n",
       "      <td>0.0</td>\n",
       "      <td>0.0</td>\n",
       "      <td>0.0</td>\n",
       "      <td>0.0</td>\n",
       "      <td>0.0</td>\n",
       "      <td>0.0</td>\n",
       "    </tr>\n",
       "  </tbody>\n",
       "</table>\n",
       "<p>2 rows × 32 columns</p>\n",
       "</div>"
      ],
      "text/plain": [
       "   account_length  area_code  number_vmail_messages  total_day_minutes  \\\n",
       "0             128        415                     25              265.1   \n",
       "1             107        415                     26              161.6   \n",
       "\n",
       "   total_day_calls  total_day_charge  total_eve_minutes  total_eve_calls  \\\n",
       "0              110             45.07              197.4               99   \n",
       "1              123             27.47              195.5              103   \n",
       "\n",
       "   total_eve_charge  total_night_minutes  ...  customer_service_calls_0  \\\n",
       "0             16.78                244.7  ...                       0.0   \n",
       "1             16.62                254.4  ...                       0.0   \n",
       "\n",
       "   customer_service_calls_1  customer_service_calls_2  \\\n",
       "0                       1.0                       0.0   \n",
       "1                       1.0                       0.0   \n",
       "\n",
       "   customer_service_calls_3  customer_service_calls_4  \\\n",
       "0                       0.0                       0.0   \n",
       "1                       0.0                       0.0   \n",
       "\n",
       "   customer_service_calls_5  customer_service_calls_6  \\\n",
       "0                       0.0                       0.0   \n",
       "1                       0.0                       0.0   \n",
       "\n",
       "   customer_service_calls_7  customer_service_calls_8  \\\n",
       "0                       0.0                       0.0   \n",
       "1                       0.0                       0.0   \n",
       "\n",
       "   customer_service_calls_9  \n",
       "0                       0.0  \n",
       "1                       0.0  \n",
       "\n",
       "[2 rows x 32 columns]"
      ]
     },
     "execution_count": 16,
     "metadata": {},
     "output_type": "execute_result"
    }
   ],
   "source": [
    "# Combining everything together\n",
    "cleaned_df = pd.concat([pd.DataFrame(feature_df), ohe_df], axis=1)\n",
    "cleaned_df.head(2)"
   ]
  },
  {
   "cell_type": "markdown",
   "metadata": {},
   "source": [
    "# Decision Tree 1 (Baseline Model)"
   ]
  },
  {
   "cell_type": "code",
   "execution_count": 17,
   "metadata": {
    "ExecuteTime": {
     "end_time": "2022-02-24T20:55:57.573066Z",
     "start_time": "2022-02-24T20:55:57.567684Z"
    }
   },
   "outputs": [],
   "source": [
    "#Setting Target\n",
    "X = cleaned_df.drop(['churn'], axis=1)\n",
    "y = cleaned_df['churn']\n",
    "\n",
    "X_train, X_test, y_train, y_test = train_test_split(X, y, test_size=.25, random_state=23)"
   ]
  },
  {
   "cell_type": "code",
   "execution_count": 18,
   "metadata": {
    "ExecuteTime": {
     "end_time": "2022-02-24T20:55:57.602265Z",
     "start_time": "2022-02-24T20:55:57.574051Z"
    }
   },
   "outputs": [],
   "source": [
    "dt1 = DecisionTreeClassifier(random_state=23)\n",
    "dt1.fit(X_train, y_train)\n",
    "dt1_y_pred = dt1.predict(X_test)"
   ]
  },
  {
   "cell_type": "markdown",
   "metadata": {},
   "source": [
    "## Metrics Function"
   ]
  },
  {
   "cell_type": "code",
   "execution_count": 19,
   "metadata": {
    "ExecuteTime": {
     "end_time": "2022-02-24T20:55:57.606157Z",
     "start_time": "2022-02-24T20:55:57.603294Z"
    }
   },
   "outputs": [],
   "source": [
    "def get_metrics(clf, y_pred):\n",
    "    \n",
    "    clf_acc = accuracy_score(y_test, y_pred) * 100\n",
    "    print('Accuracy is :{0}'.format(clf_acc))\n",
    "    clf_prec = precision_score(y_test, y_pred) * 100\n",
    "    print('Precision is :{0}'.format(clf_prec))\n",
    "    clf_rcl = recall_score(y_test, y_pred) * 100\n",
    "    print('Recall is :{0}'.format(clf_rcl))\n",
    "    clf_f1 = f1_score(y_test, y_pred) * 100\n",
    "    print('F1 Score is :{0}'.format(clf_f1))\n",
    "    false_positive_rate, true_positive_rate, thresholds = roc_curve(y_test, y_pred)\n",
    "    clf_roc_auc = auc(false_positive_rate, true_positive_rate)\n",
    "    print('ROC AUC is :{0}'.format(round(clf_roc_auc, 2)))\n",
    "    "
   ]
  },
  {
   "cell_type": "code",
   "execution_count": 20,
   "metadata": {
    "ExecuteTime": {
     "end_time": "2022-02-24T20:55:57.613067Z",
     "start_time": "2022-02-24T20:55:57.607167Z"
    }
   },
   "outputs": [
    {
     "name": "stdout",
     "output_type": "stream",
     "text": [
      "Accuracy is :96.1630695443645\n",
      "Precision is :86.15384615384616\n",
      "Recall is :88.88888888888889\n",
      "F1 Score is :87.50000000000001\n",
      "ROC AUC is :0.93\n"
     ]
    }
   ],
   "source": [
    "get_metrics(dt1, dt1_y_pred)"
   ]
  },
  {
   "cell_type": "markdown",
   "metadata": {},
   "source": [
    "## ANALYSIS OF BASELINE MODEL"
   ]
  },
  {
   "cell_type": "markdown",
   "metadata": {},
   "source": [
    "Analyisis goes HERE"
   ]
  },
  {
   "cell_type": "markdown",
   "metadata": {},
   "source": [
    "# Refining Data"
   ]
  },
  {
   "cell_type": "code",
   "execution_count": 21,
   "metadata": {
    "ExecuteTime": {
     "end_time": "2022-02-24T20:55:57.633704Z",
     "start_time": "2022-02-24T20:55:57.613943Z"
    }
   },
   "outputs": [
    {
     "data": {
      "text/html": [
       "<div>\n",
       "<style scoped>\n",
       "    .dataframe tbody tr th:only-of-type {\n",
       "        vertical-align: middle;\n",
       "    }\n",
       "\n",
       "    .dataframe tbody tr th {\n",
       "        vertical-align: top;\n",
       "    }\n",
       "\n",
       "    .dataframe thead th {\n",
       "        text-align: right;\n",
       "    }\n",
       "</style>\n",
       "<table border=\"1\" class=\"dataframe\">\n",
       "  <thead>\n",
       "    <tr style=\"text-align: right;\">\n",
       "      <th></th>\n",
       "      <th>account_length</th>\n",
       "      <th>area_code</th>\n",
       "      <th>number_vmail_messages</th>\n",
       "      <th>total_day_minutes</th>\n",
       "      <th>total_day_calls</th>\n",
       "      <th>total_day_charge</th>\n",
       "      <th>total_eve_minutes</th>\n",
       "      <th>total_eve_calls</th>\n",
       "      <th>total_eve_charge</th>\n",
       "      <th>total_night_minutes</th>\n",
       "      <th>...</th>\n",
       "      <th>customer_service_calls_0</th>\n",
       "      <th>customer_service_calls_1</th>\n",
       "      <th>customer_service_calls_2</th>\n",
       "      <th>customer_service_calls_3</th>\n",
       "      <th>customer_service_calls_4</th>\n",
       "      <th>customer_service_calls_5</th>\n",
       "      <th>customer_service_calls_6</th>\n",
       "      <th>customer_service_calls_7</th>\n",
       "      <th>customer_service_calls_8</th>\n",
       "      <th>customer_service_calls_9</th>\n",
       "    </tr>\n",
       "  </thead>\n",
       "  <tbody>\n",
       "    <tr>\n",
       "      <th>0</th>\n",
       "      <td>128</td>\n",
       "      <td>415</td>\n",
       "      <td>25</td>\n",
       "      <td>265.1</td>\n",
       "      <td>110</td>\n",
       "      <td>45.07</td>\n",
       "      <td>197.4</td>\n",
       "      <td>99</td>\n",
       "      <td>16.78</td>\n",
       "      <td>244.7</td>\n",
       "      <td>...</td>\n",
       "      <td>0.0</td>\n",
       "      <td>1.0</td>\n",
       "      <td>0.0</td>\n",
       "      <td>0.0</td>\n",
       "      <td>0.0</td>\n",
       "      <td>0.0</td>\n",
       "      <td>0.0</td>\n",
       "      <td>0.0</td>\n",
       "      <td>0.0</td>\n",
       "      <td>0.0</td>\n",
       "    </tr>\n",
       "    <tr>\n",
       "      <th>1</th>\n",
       "      <td>107</td>\n",
       "      <td>415</td>\n",
       "      <td>26</td>\n",
       "      <td>161.6</td>\n",
       "      <td>123</td>\n",
       "      <td>27.47</td>\n",
       "      <td>195.5</td>\n",
       "      <td>103</td>\n",
       "      <td>16.62</td>\n",
       "      <td>254.4</td>\n",
       "      <td>...</td>\n",
       "      <td>0.0</td>\n",
       "      <td>1.0</td>\n",
       "      <td>0.0</td>\n",
       "      <td>0.0</td>\n",
       "      <td>0.0</td>\n",
       "      <td>0.0</td>\n",
       "      <td>0.0</td>\n",
       "      <td>0.0</td>\n",
       "      <td>0.0</td>\n",
       "      <td>0.0</td>\n",
       "    </tr>\n",
       "    <tr>\n",
       "      <th>2</th>\n",
       "      <td>137</td>\n",
       "      <td>415</td>\n",
       "      <td>0</td>\n",
       "      <td>243.4</td>\n",
       "      <td>114</td>\n",
       "      <td>41.38</td>\n",
       "      <td>121.2</td>\n",
       "      <td>110</td>\n",
       "      <td>10.30</td>\n",
       "      <td>162.6</td>\n",
       "      <td>...</td>\n",
       "      <td>1.0</td>\n",
       "      <td>0.0</td>\n",
       "      <td>0.0</td>\n",
       "      <td>0.0</td>\n",
       "      <td>0.0</td>\n",
       "      <td>0.0</td>\n",
       "      <td>0.0</td>\n",
       "      <td>0.0</td>\n",
       "      <td>0.0</td>\n",
       "      <td>0.0</td>\n",
       "    </tr>\n",
       "    <tr>\n",
       "      <th>3</th>\n",
       "      <td>84</td>\n",
       "      <td>408</td>\n",
       "      <td>0</td>\n",
       "      <td>299.4</td>\n",
       "      <td>71</td>\n",
       "      <td>50.90</td>\n",
       "      <td>61.9</td>\n",
       "      <td>88</td>\n",
       "      <td>5.26</td>\n",
       "      <td>196.9</td>\n",
       "      <td>...</td>\n",
       "      <td>0.0</td>\n",
       "      <td>0.0</td>\n",
       "      <td>1.0</td>\n",
       "      <td>0.0</td>\n",
       "      <td>0.0</td>\n",
       "      <td>0.0</td>\n",
       "      <td>0.0</td>\n",
       "      <td>0.0</td>\n",
       "      <td>0.0</td>\n",
       "      <td>0.0</td>\n",
       "    </tr>\n",
       "    <tr>\n",
       "      <th>4</th>\n",
       "      <td>75</td>\n",
       "      <td>415</td>\n",
       "      <td>0</td>\n",
       "      <td>166.7</td>\n",
       "      <td>113</td>\n",
       "      <td>28.34</td>\n",
       "      <td>148.3</td>\n",
       "      <td>122</td>\n",
       "      <td>12.61</td>\n",
       "      <td>186.9</td>\n",
       "      <td>...</td>\n",
       "      <td>0.0</td>\n",
       "      <td>0.0</td>\n",
       "      <td>0.0</td>\n",
       "      <td>1.0</td>\n",
       "      <td>0.0</td>\n",
       "      <td>0.0</td>\n",
       "      <td>0.0</td>\n",
       "      <td>0.0</td>\n",
       "      <td>0.0</td>\n",
       "      <td>0.0</td>\n",
       "    </tr>\n",
       "    <tr>\n",
       "      <th>...</th>\n",
       "      <td>...</td>\n",
       "      <td>...</td>\n",
       "      <td>...</td>\n",
       "      <td>...</td>\n",
       "      <td>...</td>\n",
       "      <td>...</td>\n",
       "      <td>...</td>\n",
       "      <td>...</td>\n",
       "      <td>...</td>\n",
       "      <td>...</td>\n",
       "      <td>...</td>\n",
       "      <td>...</td>\n",
       "      <td>...</td>\n",
       "      <td>...</td>\n",
       "      <td>...</td>\n",
       "      <td>...</td>\n",
       "      <td>...</td>\n",
       "      <td>...</td>\n",
       "      <td>...</td>\n",
       "      <td>...</td>\n",
       "      <td>...</td>\n",
       "    </tr>\n",
       "    <tr>\n",
       "      <th>3328</th>\n",
       "      <td>192</td>\n",
       "      <td>415</td>\n",
       "      <td>36</td>\n",
       "      <td>156.2</td>\n",
       "      <td>77</td>\n",
       "      <td>26.55</td>\n",
       "      <td>215.5</td>\n",
       "      <td>126</td>\n",
       "      <td>18.32</td>\n",
       "      <td>279.1</td>\n",
       "      <td>...</td>\n",
       "      <td>0.0</td>\n",
       "      <td>0.0</td>\n",
       "      <td>1.0</td>\n",
       "      <td>0.0</td>\n",
       "      <td>0.0</td>\n",
       "      <td>0.0</td>\n",
       "      <td>0.0</td>\n",
       "      <td>0.0</td>\n",
       "      <td>0.0</td>\n",
       "      <td>0.0</td>\n",
       "    </tr>\n",
       "    <tr>\n",
       "      <th>3329</th>\n",
       "      <td>68</td>\n",
       "      <td>415</td>\n",
       "      <td>0</td>\n",
       "      <td>231.1</td>\n",
       "      <td>57</td>\n",
       "      <td>39.29</td>\n",
       "      <td>153.4</td>\n",
       "      <td>55</td>\n",
       "      <td>13.04</td>\n",
       "      <td>191.3</td>\n",
       "      <td>...</td>\n",
       "      <td>0.0</td>\n",
       "      <td>0.0</td>\n",
       "      <td>0.0</td>\n",
       "      <td>1.0</td>\n",
       "      <td>0.0</td>\n",
       "      <td>0.0</td>\n",
       "      <td>0.0</td>\n",
       "      <td>0.0</td>\n",
       "      <td>0.0</td>\n",
       "      <td>0.0</td>\n",
       "    </tr>\n",
       "    <tr>\n",
       "      <th>3330</th>\n",
       "      <td>28</td>\n",
       "      <td>510</td>\n",
       "      <td>0</td>\n",
       "      <td>180.8</td>\n",
       "      <td>109</td>\n",
       "      <td>30.74</td>\n",
       "      <td>288.8</td>\n",
       "      <td>58</td>\n",
       "      <td>24.55</td>\n",
       "      <td>191.9</td>\n",
       "      <td>...</td>\n",
       "      <td>0.0</td>\n",
       "      <td>0.0</td>\n",
       "      <td>1.0</td>\n",
       "      <td>0.0</td>\n",
       "      <td>0.0</td>\n",
       "      <td>0.0</td>\n",
       "      <td>0.0</td>\n",
       "      <td>0.0</td>\n",
       "      <td>0.0</td>\n",
       "      <td>0.0</td>\n",
       "    </tr>\n",
       "    <tr>\n",
       "      <th>3331</th>\n",
       "      <td>184</td>\n",
       "      <td>510</td>\n",
       "      <td>0</td>\n",
       "      <td>213.8</td>\n",
       "      <td>105</td>\n",
       "      <td>36.35</td>\n",
       "      <td>159.6</td>\n",
       "      <td>84</td>\n",
       "      <td>13.57</td>\n",
       "      <td>139.2</td>\n",
       "      <td>...</td>\n",
       "      <td>0.0</td>\n",
       "      <td>0.0</td>\n",
       "      <td>1.0</td>\n",
       "      <td>0.0</td>\n",
       "      <td>0.0</td>\n",
       "      <td>0.0</td>\n",
       "      <td>0.0</td>\n",
       "      <td>0.0</td>\n",
       "      <td>0.0</td>\n",
       "      <td>0.0</td>\n",
       "    </tr>\n",
       "    <tr>\n",
       "      <th>3332</th>\n",
       "      <td>74</td>\n",
       "      <td>415</td>\n",
       "      <td>25</td>\n",
       "      <td>234.4</td>\n",
       "      <td>113</td>\n",
       "      <td>39.85</td>\n",
       "      <td>265.9</td>\n",
       "      <td>82</td>\n",
       "      <td>22.60</td>\n",
       "      <td>241.4</td>\n",
       "      <td>...</td>\n",
       "      <td>1.0</td>\n",
       "      <td>0.0</td>\n",
       "      <td>0.0</td>\n",
       "      <td>0.0</td>\n",
       "      <td>0.0</td>\n",
       "      <td>0.0</td>\n",
       "      <td>0.0</td>\n",
       "      <td>0.0</td>\n",
       "      <td>0.0</td>\n",
       "      <td>0.0</td>\n",
       "    </tr>\n",
       "  </tbody>\n",
       "</table>\n",
       "<p>3333 rows × 32 columns</p>\n",
       "</div>"
      ],
      "text/plain": [
       "      account_length  area_code  number_vmail_messages  total_day_minutes  \\\n",
       "0                128        415                     25              265.1   \n",
       "1                107        415                     26              161.6   \n",
       "2                137        415                      0              243.4   \n",
       "3                 84        408                      0              299.4   \n",
       "4                 75        415                      0              166.7   \n",
       "...              ...        ...                    ...                ...   \n",
       "3328             192        415                     36              156.2   \n",
       "3329              68        415                      0              231.1   \n",
       "3330              28        510                      0              180.8   \n",
       "3331             184        510                      0              213.8   \n",
       "3332              74        415                     25              234.4   \n",
       "\n",
       "      total_day_calls  total_day_charge  total_eve_minutes  total_eve_calls  \\\n",
       "0                 110             45.07              197.4               99   \n",
       "1                 123             27.47              195.5              103   \n",
       "2                 114             41.38              121.2              110   \n",
       "3                  71             50.90               61.9               88   \n",
       "4                 113             28.34              148.3              122   \n",
       "...               ...               ...                ...              ...   \n",
       "3328               77             26.55              215.5              126   \n",
       "3329               57             39.29              153.4               55   \n",
       "3330              109             30.74              288.8               58   \n",
       "3331              105             36.35              159.6               84   \n",
       "3332              113             39.85              265.9               82   \n",
       "\n",
       "      total_eve_charge  total_night_minutes  ...  customer_service_calls_0  \\\n",
       "0                16.78                244.7  ...                       0.0   \n",
       "1                16.62                254.4  ...                       0.0   \n",
       "2                10.30                162.6  ...                       1.0   \n",
       "3                 5.26                196.9  ...                       0.0   \n",
       "4                12.61                186.9  ...                       0.0   \n",
       "...                ...                  ...  ...                       ...   \n",
       "3328             18.32                279.1  ...                       0.0   \n",
       "3329             13.04                191.3  ...                       0.0   \n",
       "3330             24.55                191.9  ...                       0.0   \n",
       "3331             13.57                139.2  ...                       0.0   \n",
       "3332             22.60                241.4  ...                       1.0   \n",
       "\n",
       "      customer_service_calls_1  customer_service_calls_2  \\\n",
       "0                          1.0                       0.0   \n",
       "1                          1.0                       0.0   \n",
       "2                          0.0                       0.0   \n",
       "3                          0.0                       1.0   \n",
       "4                          0.0                       0.0   \n",
       "...                        ...                       ...   \n",
       "3328                       0.0                       1.0   \n",
       "3329                       0.0                       0.0   \n",
       "3330                       0.0                       1.0   \n",
       "3331                       0.0                       1.0   \n",
       "3332                       0.0                       0.0   \n",
       "\n",
       "      customer_service_calls_3  customer_service_calls_4  \\\n",
       "0                          0.0                       0.0   \n",
       "1                          0.0                       0.0   \n",
       "2                          0.0                       0.0   \n",
       "3                          0.0                       0.0   \n",
       "4                          1.0                       0.0   \n",
       "...                        ...                       ...   \n",
       "3328                       0.0                       0.0   \n",
       "3329                       1.0                       0.0   \n",
       "3330                       0.0                       0.0   \n",
       "3331                       0.0                       0.0   \n",
       "3332                       0.0                       0.0   \n",
       "\n",
       "      customer_service_calls_5  customer_service_calls_6  \\\n",
       "0                          0.0                       0.0   \n",
       "1                          0.0                       0.0   \n",
       "2                          0.0                       0.0   \n",
       "3                          0.0                       0.0   \n",
       "4                          0.0                       0.0   \n",
       "...                        ...                       ...   \n",
       "3328                       0.0                       0.0   \n",
       "3329                       0.0                       0.0   \n",
       "3330                       0.0                       0.0   \n",
       "3331                       0.0                       0.0   \n",
       "3332                       0.0                       0.0   \n",
       "\n",
       "      customer_service_calls_7  customer_service_calls_8  \\\n",
       "0                          0.0                       0.0   \n",
       "1                          0.0                       0.0   \n",
       "2                          0.0                       0.0   \n",
       "3                          0.0                       0.0   \n",
       "4                          0.0                       0.0   \n",
       "...                        ...                       ...   \n",
       "3328                       0.0                       0.0   \n",
       "3329                       0.0                       0.0   \n",
       "3330                       0.0                       0.0   \n",
       "3331                       0.0                       0.0   \n",
       "3332                       0.0                       0.0   \n",
       "\n",
       "      customer_service_calls_9  \n",
       "0                          0.0  \n",
       "1                          0.0  \n",
       "2                          0.0  \n",
       "3                          0.0  \n",
       "4                          0.0  \n",
       "...                        ...  \n",
       "3328                       0.0  \n",
       "3329                       0.0  \n",
       "3330                       0.0  \n",
       "3331                       0.0  \n",
       "3332                       0.0  \n",
       "\n",
       "[3333 rows x 32 columns]"
      ]
     },
     "execution_count": 21,
     "metadata": {},
     "output_type": "execute_result"
    }
   ],
   "source": [
    "cleaned_df_2 = cleaned_df.copy()\n",
    "cleaned_df_2"
   ]
  },
  {
   "cell_type": "markdown",
   "metadata": {},
   "source": [
    "## Dropping Unecessary Columns"
   ]
  },
  {
   "cell_type": "code",
   "execution_count": 22,
   "metadata": {
    "ExecuteTime": {
     "end_time": "2022-02-24T20:55:57.637438Z",
     "start_time": "2022-02-24T20:55:57.634803Z"
    }
   },
   "outputs": [],
   "source": [
    "cleaned_df_2 = cleaned_df_2.drop(columns=['area_code'], axis=1)"
   ]
  },
  {
   "cell_type": "markdown",
   "metadata": {},
   "source": [
    "## Dropping one value for categoricals"
   ]
  },
  {
   "cell_type": "code",
   "execution_count": 23,
   "metadata": {
    "ExecuteTime": {
     "end_time": "2022-02-24T20:55:57.653758Z",
     "start_time": "2022-02-24T20:55:57.641593Z"
    }
   },
   "outputs": [
    {
     "data": {
      "text/html": [
       "<div>\n",
       "<style scoped>\n",
       "    .dataframe tbody tr th:only-of-type {\n",
       "        vertical-align: middle;\n",
       "    }\n",
       "\n",
       "    .dataframe tbody tr th {\n",
       "        vertical-align: top;\n",
       "    }\n",
       "\n",
       "    .dataframe thead th {\n",
       "        text-align: right;\n",
       "    }\n",
       "</style>\n",
       "<table border=\"1\" class=\"dataframe\">\n",
       "  <thead>\n",
       "    <tr style=\"text-align: right;\">\n",
       "      <th></th>\n",
       "      <th>account_length</th>\n",
       "      <th>number_vmail_messages</th>\n",
       "      <th>total_day_minutes</th>\n",
       "      <th>total_day_calls</th>\n",
       "      <th>total_day_charge</th>\n",
       "      <th>total_eve_minutes</th>\n",
       "      <th>total_eve_calls</th>\n",
       "      <th>total_eve_charge</th>\n",
       "      <th>total_night_minutes</th>\n",
       "      <th>total_night_calls</th>\n",
       "      <th>...</th>\n",
       "      <th>customer_service_calls_0</th>\n",
       "      <th>customer_service_calls_1</th>\n",
       "      <th>customer_service_calls_2</th>\n",
       "      <th>customer_service_calls_3</th>\n",
       "      <th>customer_service_calls_4</th>\n",
       "      <th>customer_service_calls_5</th>\n",
       "      <th>customer_service_calls_6</th>\n",
       "      <th>customer_service_calls_7</th>\n",
       "      <th>customer_service_calls_8</th>\n",
       "      <th>customer_service_calls_9</th>\n",
       "    </tr>\n",
       "  </thead>\n",
       "  <tbody>\n",
       "    <tr>\n",
       "      <th>0</th>\n",
       "      <td>128</td>\n",
       "      <td>25</td>\n",
       "      <td>265.1</td>\n",
       "      <td>110</td>\n",
       "      <td>45.07</td>\n",
       "      <td>197.4</td>\n",
       "      <td>99</td>\n",
       "      <td>16.78</td>\n",
       "      <td>244.7</td>\n",
       "      <td>91</td>\n",
       "      <td>...</td>\n",
       "      <td>0.0</td>\n",
       "      <td>1.0</td>\n",
       "      <td>0.0</td>\n",
       "      <td>0.0</td>\n",
       "      <td>0.0</td>\n",
       "      <td>0.0</td>\n",
       "      <td>0.0</td>\n",
       "      <td>0.0</td>\n",
       "      <td>0.0</td>\n",
       "      <td>0.0</td>\n",
       "    </tr>\n",
       "    <tr>\n",
       "      <th>1</th>\n",
       "      <td>107</td>\n",
       "      <td>26</td>\n",
       "      <td>161.6</td>\n",
       "      <td>123</td>\n",
       "      <td>27.47</td>\n",
       "      <td>195.5</td>\n",
       "      <td>103</td>\n",
       "      <td>16.62</td>\n",
       "      <td>254.4</td>\n",
       "      <td>103</td>\n",
       "      <td>...</td>\n",
       "      <td>0.0</td>\n",
       "      <td>1.0</td>\n",
       "      <td>0.0</td>\n",
       "      <td>0.0</td>\n",
       "      <td>0.0</td>\n",
       "      <td>0.0</td>\n",
       "      <td>0.0</td>\n",
       "      <td>0.0</td>\n",
       "      <td>0.0</td>\n",
       "      <td>0.0</td>\n",
       "    </tr>\n",
       "  </tbody>\n",
       "</table>\n",
       "<p>2 rows × 29 columns</p>\n",
       "</div>"
      ],
      "text/plain": [
       "   account_length  number_vmail_messages  total_day_minutes  total_day_calls  \\\n",
       "0             128                     25              265.1              110   \n",
       "1             107                     26              161.6              123   \n",
       "\n",
       "   total_day_charge  total_eve_minutes  total_eve_calls  total_eve_charge  \\\n",
       "0             45.07              197.4               99             16.78   \n",
       "1             27.47              195.5              103             16.62   \n",
       "\n",
       "   total_night_minutes  total_night_calls  ...  customer_service_calls_0  \\\n",
       "0                244.7                 91  ...                       0.0   \n",
       "1                254.4                103  ...                       0.0   \n",
       "\n",
       "   customer_service_calls_1  customer_service_calls_2  \\\n",
       "0                       1.0                       0.0   \n",
       "1                       1.0                       0.0   \n",
       "\n",
       "   customer_service_calls_3  customer_service_calls_4  \\\n",
       "0                       0.0                       0.0   \n",
       "1                       0.0                       0.0   \n",
       "\n",
       "   customer_service_calls_5  customer_service_calls_6  \\\n",
       "0                       0.0                       0.0   \n",
       "1                       0.0                       0.0   \n",
       "\n",
       "   customer_service_calls_7  customer_service_calls_8  \\\n",
       "0                       0.0                       0.0   \n",
       "1                       0.0                       0.0   \n",
       "\n",
       "   customer_service_calls_9  \n",
       "0                       0.0  \n",
       "1                       0.0  \n",
       "\n",
       "[2 rows x 29 columns]"
      ]
     },
     "execution_count": 23,
     "metadata": {},
     "output_type": "execute_result"
    }
   ],
   "source": [
    "#Dropping a few of the redundant values.\n",
    "cleaned_df_2 = cleaned_df_2.drop(['international_plan_no', 'voice_mail_plan_no'], axis=1)\n",
    "cleaned_df_2.head(2)"
   ]
  },
  {
   "cell_type": "markdown",
   "metadata": {},
   "source": [
    "## Creating Variable: Customer Service Calls High\n",
    "- If Customer Service Calls High = 4 or more Customer Service Calls"
   ]
  },
  {
   "cell_type": "code",
   "execution_count": 24,
   "metadata": {
    "ExecuteTime": {
     "end_time": "2022-02-24T20:55:57.710409Z",
     "start_time": "2022-02-24T20:55:57.656639Z"
    }
   },
   "outputs": [],
   "source": [
    "#cs_calls_low = cleaned_df_2.apply(lambda x: x['customer_service_calls_0']+ x['customer_service_calls_1'] + x['customer_service_calls_2']\n",
    "#                              + x['customer_service_calls_3'], axis=1)\n",
    "cs_calls_high= cleaned_df_2.apply(lambda x: x['customer_service_calls_4'] + x['customer_service_calls_5']\n",
    "                              + x['customer_service_calls_6'] + x['customer_service_calls_7']\n",
    "                            + x['customer_service_calls_8']+ x['customer_service_calls_9'], axis=1)\n",
    "\n",
    "#cleaned_df['cs_calls_low'] = cs_calls_low\n",
    "cleaned_df_2['cs_calls_high'] = cs_calls_high\n",
    "\n"
   ]
  },
  {
   "cell_type": "code",
   "execution_count": 25,
   "metadata": {
    "ExecuteTime": {
     "end_time": "2022-02-24T20:55:57.722787Z",
     "start_time": "2022-02-24T20:55:57.711509Z"
    }
   },
   "outputs": [
    {
     "data": {
      "text/html": [
       "<div>\n",
       "<style scoped>\n",
       "    .dataframe tbody tr th:only-of-type {\n",
       "        vertical-align: middle;\n",
       "    }\n",
       "\n",
       "    .dataframe tbody tr th {\n",
       "        vertical-align: top;\n",
       "    }\n",
       "\n",
       "    .dataframe thead th {\n",
       "        text-align: right;\n",
       "    }\n",
       "</style>\n",
       "<table border=\"1\" class=\"dataframe\">\n",
       "  <thead>\n",
       "    <tr style=\"text-align: right;\">\n",
       "      <th></th>\n",
       "      <th>account_length</th>\n",
       "      <th>number_vmail_messages</th>\n",
       "      <th>total_day_minutes</th>\n",
       "      <th>total_day_calls</th>\n",
       "      <th>total_day_charge</th>\n",
       "      <th>total_eve_minutes</th>\n",
       "      <th>total_eve_calls</th>\n",
       "      <th>total_eve_charge</th>\n",
       "      <th>total_night_minutes</th>\n",
       "      <th>total_night_calls</th>\n",
       "      <th>total_night_charge</th>\n",
       "      <th>total_intl_minutes</th>\n",
       "      <th>total_intl_calls</th>\n",
       "      <th>total_intl_charge</th>\n",
       "      <th>customer_service_calls</th>\n",
       "      <th>churn</th>\n",
       "      <th>total_charge</th>\n",
       "      <th>international_plan_yes</th>\n",
       "      <th>voice_mail_plan_yes</th>\n",
       "      <th>cs_calls_high</th>\n",
       "    </tr>\n",
       "  </thead>\n",
       "  <tbody>\n",
       "    <tr>\n",
       "      <th>0</th>\n",
       "      <td>128</td>\n",
       "      <td>25</td>\n",
       "      <td>265.1</td>\n",
       "      <td>110</td>\n",
       "      <td>45.07</td>\n",
       "      <td>197.4</td>\n",
       "      <td>99</td>\n",
       "      <td>16.78</td>\n",
       "      <td>244.7</td>\n",
       "      <td>91</td>\n",
       "      <td>11.01</td>\n",
       "      <td>10.0</td>\n",
       "      <td>3</td>\n",
       "      <td>2.7</td>\n",
       "      <td>1</td>\n",
       "      <td>0</td>\n",
       "      <td>75.56</td>\n",
       "      <td>0.0</td>\n",
       "      <td>1.0</td>\n",
       "      <td>0.0</td>\n",
       "    </tr>\n",
       "    <tr>\n",
       "      <th>1</th>\n",
       "      <td>107</td>\n",
       "      <td>26</td>\n",
       "      <td>161.6</td>\n",
       "      <td>123</td>\n",
       "      <td>27.47</td>\n",
       "      <td>195.5</td>\n",
       "      <td>103</td>\n",
       "      <td>16.62</td>\n",
       "      <td>254.4</td>\n",
       "      <td>103</td>\n",
       "      <td>11.45</td>\n",
       "      <td>13.7</td>\n",
       "      <td>3</td>\n",
       "      <td>3.7</td>\n",
       "      <td>1</td>\n",
       "      <td>0</td>\n",
       "      <td>59.24</td>\n",
       "      <td>0.0</td>\n",
       "      <td>1.0</td>\n",
       "      <td>0.0</td>\n",
       "    </tr>\n",
       "  </tbody>\n",
       "</table>\n",
       "</div>"
      ],
      "text/plain": [
       "   account_length  number_vmail_messages  total_day_minutes  total_day_calls  \\\n",
       "0             128                     25              265.1              110   \n",
       "1             107                     26              161.6              123   \n",
       "\n",
       "   total_day_charge  total_eve_minutes  total_eve_calls  total_eve_charge  \\\n",
       "0             45.07              197.4               99             16.78   \n",
       "1             27.47              195.5              103             16.62   \n",
       "\n",
       "   total_night_minutes  total_night_calls  total_night_charge  \\\n",
       "0                244.7                 91               11.01   \n",
       "1                254.4                103               11.45   \n",
       "\n",
       "   total_intl_minutes  total_intl_calls  total_intl_charge  \\\n",
       "0                10.0                 3                2.7   \n",
       "1                13.7                 3                3.7   \n",
       "\n",
       "   customer_service_calls  churn  total_charge  international_plan_yes  \\\n",
       "0                       1      0         75.56                     0.0   \n",
       "1                       1      0         59.24                     0.0   \n",
       "\n",
       "   voice_mail_plan_yes  cs_calls_high  \n",
       "0                  1.0            0.0  \n",
       "1                  1.0            0.0  "
      ]
     },
     "execution_count": 25,
     "metadata": {},
     "output_type": "execute_result"
    }
   ],
   "source": [
    "cleaned_df_2 = cleaned_df_2.drop(['customer_service_calls_0', 'customer_service_calls_1','customer_service_calls_2','customer_service_calls_3',\n",
    "                     'customer_service_calls_4','customer_service_calls_5','customer_service_calls_6',\n",
    "                     'customer_service_calls_7','customer_service_calls_8','customer_service_calls_9']\n",
    "                    , axis=1)\n",
    "cleaned_df_2.head(2)"
   ]
  },
  {
   "cell_type": "code",
   "execution_count": 33,
   "metadata": {
    "ExecuteTime": {
     "end_time": "2022-02-24T20:57:53.673218Z",
     "start_time": "2022-02-24T20:57:53.666518Z"
    }
   },
   "outputs": [],
   "source": [
    "#dropping cs_calls_low as it is redundant since this is now a binary choice.\n",
    "#ohe_df = ohe_df.drop(['cs_calls_low', 'customer_service_calls_0'], axis=1)\n",
    "#cleaned_df_2= cleaned_df_2.drop(['customer_service_calls_0'], axis=1)"
   ]
  },
  {
   "cell_type": "code",
   "execution_count": 34,
   "metadata": {
    "ExecuteTime": {
     "end_time": "2022-02-24T20:57:53.726256Z",
     "start_time": "2022-02-24T20:57:53.677032Z"
    }
   },
   "outputs": [],
   "source": [
    "total_charge = cleaned_df_2.apply(lambda x: x['total_day_charge'] + x['total_eve_charge'] +x['total_night_charge']\n",
    "                             +x['total_intl_charge'], axis=1)\n",
    "cleaned_df_2['total_charge']= total_charge"
   ]
  },
  {
   "cell_type": "markdown",
   "metadata": {},
   "source": [
    "## Creating Model DataFrame"
   ]
  },
  {
   "cell_type": "code",
   "execution_count": 35,
   "metadata": {
    "ExecuteTime": {
     "end_time": "2022-02-24T20:57:53.736015Z",
     "start_time": "2022-02-24T20:57:53.727725Z"
    }
   },
   "outputs": [
    {
     "name": "stdout",
     "output_type": "stream",
     "text": [
      "<class 'pandas.core.frame.DataFrame'>\n",
      "RangeIndex: 3333 entries, 0 to 3332\n",
      "Data columns (total 20 columns):\n",
      " #   Column                  Non-Null Count  Dtype  \n",
      "---  ------                  --------------  -----  \n",
      " 0   account_length          3333 non-null   int64  \n",
      " 1   number_vmail_messages   3333 non-null   int64  \n",
      " 2   total_day_minutes       3333 non-null   float64\n",
      " 3   total_day_calls         3333 non-null   int64  \n",
      " 4   total_day_charge        3333 non-null   float64\n",
      " 5   total_eve_minutes       3333 non-null   float64\n",
      " 6   total_eve_calls         3333 non-null   int64  \n",
      " 7   total_eve_charge        3333 non-null   float64\n",
      " 8   total_night_minutes     3333 non-null   float64\n",
      " 9   total_night_calls       3333 non-null   int64  \n",
      " 10  total_night_charge      3333 non-null   float64\n",
      " 11  total_intl_minutes      3333 non-null   float64\n",
      " 12  total_intl_calls        3333 non-null   int64  \n",
      " 13  total_intl_charge       3333 non-null   float64\n",
      " 14  customer_service_calls  3333 non-null   int64  \n",
      " 15  churn                   3333 non-null   int64  \n",
      " 16  total_charge            3333 non-null   float64\n",
      " 17  international_plan_yes  3333 non-null   float64\n",
      " 18  voice_mail_plan_yes     3333 non-null   float64\n",
      " 19  cs_calls_high           3333 non-null   float64\n",
      "dtypes: float64(12), int64(8)\n",
      "memory usage: 520.9 KB\n"
     ]
    }
   ],
   "source": [
    "model_df = cleaned_df_2.copy()\n",
    "model_df.info()"
   ]
  },
  {
   "cell_type": "code",
   "execution_count": 36,
   "metadata": {
    "ExecuteTime": {
     "end_time": "2022-02-24T20:57:53.740420Z",
     "start_time": "2022-02-24T20:57:53.737405Z"
    }
   },
   "outputs": [],
   "source": [
    "model_df=model_df.drop(['customer_service_calls','total_day_charge', 'total_eve_charge', 'total_night_charge', 'total_intl_charge']\n",
    "                           , axis=1)"
   ]
  },
  {
   "cell_type": "code",
   "execution_count": 37,
   "metadata": {
    "ExecuteTime": {
     "end_time": "2022-02-24T20:57:53.747807Z",
     "start_time": "2022-02-24T20:57:53.741958Z"
    }
   },
   "outputs": [
    {
     "name": "stdout",
     "output_type": "stream",
     "text": [
      "<class 'pandas.core.frame.DataFrame'>\n",
      "RangeIndex: 3333 entries, 0 to 3332\n",
      "Data columns (total 15 columns):\n",
      " #   Column                  Non-Null Count  Dtype  \n",
      "---  ------                  --------------  -----  \n",
      " 0   account_length          3333 non-null   int64  \n",
      " 1   number_vmail_messages   3333 non-null   int64  \n",
      " 2   total_day_minutes       3333 non-null   float64\n",
      " 3   total_day_calls         3333 non-null   int64  \n",
      " 4   total_eve_minutes       3333 non-null   float64\n",
      " 5   total_eve_calls         3333 non-null   int64  \n",
      " 6   total_night_minutes     3333 non-null   float64\n",
      " 7   total_night_calls       3333 non-null   int64  \n",
      " 8   total_intl_minutes      3333 non-null   float64\n",
      " 9   total_intl_calls        3333 non-null   int64  \n",
      " 10  churn                   3333 non-null   int64  \n",
      " 11  total_charge            3333 non-null   float64\n",
      " 12  international_plan_yes  3333 non-null   float64\n",
      " 13  voice_mail_plan_yes     3333 non-null   float64\n",
      " 14  cs_calls_high           3333 non-null   float64\n",
      "dtypes: float64(8), int64(7)\n",
      "memory usage: 390.7 KB\n"
     ]
    }
   ],
   "source": [
    "model_df.info()"
   ]
  },
  {
   "cell_type": "markdown",
   "metadata": {},
   "source": [
    "# Decision Tree 2"
   ]
  },
  {
   "cell_type": "code",
   "execution_count": 38,
   "metadata": {
    "ExecuteTime": {
     "end_time": "2022-02-24T20:57:53.751695Z",
     "start_time": "2022-02-24T20:57:53.748915Z"
    }
   },
   "outputs": [],
   "source": [
    "#Setting Target\n",
    "X = model_df.drop(['churn'], axis=1)\n",
    "y = model_df['churn']"
   ]
  },
  {
   "cell_type": "code",
   "execution_count": 39,
   "metadata": {
    "ExecuteTime": {
     "end_time": "2022-02-24T20:57:53.757924Z",
     "start_time": "2022-02-24T20:57:53.753676Z"
    }
   },
   "outputs": [],
   "source": [
    "#X_train, X_test, y_train, y_test = train_test_split(X, y, test_size=.25, stratify=y, random_state=23)\n",
    "X_train, X_test, y_train, y_test = train_test_split(X, y, test_size=.25, random_state=23)"
   ]
  },
  {
   "cell_type": "code",
   "execution_count": 40,
   "metadata": {
    "ExecuteTime": {
     "end_time": "2022-02-24T20:57:53.760697Z",
     "start_time": "2022-02-24T20:57:53.759298Z"
    }
   },
   "outputs": [],
   "source": [
    "#dtree_1 = DecisionTreeClassifier(random_state=23)\n",
    "#dtree_1.fit(X_train, y_train)\n",
    "#dt1_y_pred = dtree_1.predict(X_test)"
   ]
  },
  {
   "cell_type": "code",
   "execution_count": 41,
   "metadata": {
    "ExecuteTime": {
     "end_time": "2022-02-24T20:57:53.782143Z",
     "start_time": "2022-02-24T20:57:53.761678Z"
    }
   },
   "outputs": [],
   "source": [
    "dt2 = DecisionTreeClassifier(random_state=23)\n",
    "dt2.fit(X_train, y_train)\n",
    "dt2_y_pred = dt2.predict(X_test)"
   ]
  },
  {
   "cell_type": "code",
   "execution_count": 42,
   "metadata": {
    "ExecuteTime": {
     "end_time": "2022-02-24T20:57:53.790043Z",
     "start_time": "2022-02-24T20:57:53.783089Z"
    }
   },
   "outputs": [
    {
     "name": "stdout",
     "output_type": "stream",
     "text": [
      "Accuracy is :96.1630695443645\n",
      "Precision is :86.15384615384616\n",
      "Recall is :88.88888888888889\n",
      "F1 Score is :87.50000000000001\n",
      "ROC AUC is :0.93\n"
     ]
    }
   ],
   "source": [
    "get_metrics(dt2, dt2_y_pred)"
   ]
  },
  {
   "cell_type": "code",
   "execution_count": 43,
   "metadata": {
    "ExecuteTime": {
     "end_time": "2022-02-24T20:57:53.822516Z",
     "start_time": "2022-02-24T20:57:53.791175Z"
    }
   },
   "outputs": [
    {
     "name": "stdout",
     "output_type": "stream",
     "text": [
      "\n",
      " DT 2 Confusion Matrix\n",
      "----------------\n"
     ]
    },
    {
     "data": {
      "text/html": [
       "<div>\n",
       "<style scoped>\n",
       "    .dataframe tbody tr th:only-of-type {\n",
       "        vertical-align: middle;\n",
       "    }\n",
       "\n",
       "    .dataframe tbody tr th {\n",
       "        vertical-align: top;\n",
       "    }\n",
       "\n",
       "    .dataframe thead th {\n",
       "        text-align: right;\n",
       "    }\n",
       "</style>\n",
       "<table border=\"1\" class=\"dataframe\">\n",
       "  <thead>\n",
       "    <tr style=\"text-align: right;\">\n",
       "      <th>Predicted</th>\n",
       "      <th>0</th>\n",
       "      <th>1</th>\n",
       "      <th>All</th>\n",
       "    </tr>\n",
       "    <tr>\n",
       "      <th>True</th>\n",
       "      <th></th>\n",
       "      <th></th>\n",
       "      <th></th>\n",
       "    </tr>\n",
       "  </thead>\n",
       "  <tbody>\n",
       "    <tr>\n",
       "      <th>0</th>\n",
       "      <td>690</td>\n",
       "      <td>18</td>\n",
       "      <td>708</td>\n",
       "    </tr>\n",
       "    <tr>\n",
       "      <th>1</th>\n",
       "      <td>14</td>\n",
       "      <td>112</td>\n",
       "      <td>126</td>\n",
       "    </tr>\n",
       "    <tr>\n",
       "      <th>All</th>\n",
       "      <td>704</td>\n",
       "      <td>130</td>\n",
       "      <td>834</td>\n",
       "    </tr>\n",
       "  </tbody>\n",
       "</table>\n",
       "</div>"
      ],
      "text/plain": [
       "Predicted    0    1  All\n",
       "True                    \n",
       "0          690   18  708\n",
       "1           14  112  126\n",
       "All        704  130  834"
      ]
     },
     "execution_count": 43,
     "metadata": {},
     "output_type": "execute_result"
    }
   ],
   "source": [
    "# Create and print a confusion matrix \n",
    "print('\\n DT 2 Confusion Matrix')\n",
    "print('----------------')\n",
    "pd.crosstab(y_test, dt2_y_pred, rownames=['True'], colnames=['Predicted'], margins=True)"
   ]
  },
  {
   "cell_type": "markdown",
   "metadata": {},
   "source": [
    "### Analysis"
   ]
  },
  {
   "cell_type": "markdown",
   "metadata": {},
   "source": [
    "### Analysis of Accuracy, AUC, and Confusion Matrix\n",
    "- Analysis goes HERE\n",
    "- AND HERE\n",
    "- AND HERE!"
   ]
  },
  {
   "cell_type": "markdown",
   "metadata": {
    "ExecuteTime": {
     "end_time": "2022-02-24T19:47:24.241054Z",
     "start_time": "2022-02-24T19:47:24.237331Z"
    }
   },
   "source": [
    "# Dealing With Churn Class Imbalance \n",
    "- adding class weight Decision Tree Classifier\n",
    "- Adding stratify to Test Train Split\n",
    "- Adding SMOTE to Dataset."
   ]
  },
  {
   "cell_type": "code",
   "execution_count": 44,
   "metadata": {
    "ExecuteTime": {
     "end_time": "2022-02-24T20:57:53.837615Z",
     "start_time": "2022-02-24T20:57:53.823807Z"
    }
   },
   "outputs": [],
   "source": [
    "balanced_df = model_df.copy()\n",
    "\n",
    "X = balanced_df.drop(['churn'], axis=1)\n",
    "y = balanced_df['churn']\n",
    "\n",
    "X_train, X_test, y_train, y_test = train_test_split(X, y, test_size=.25, stratify=y, random_state=23)\n",
    "\n",
    "smote = SMOTE()\n",
    "X_train_resampled, y_train_resampled = smote.fit_sample(X_train, y_train) "
   ]
  },
  {
   "cell_type": "markdown",
   "metadata": {},
   "source": [
    "# Decision Tree 3"
   ]
  },
  {
   "cell_type": "code",
   "execution_count": 45,
   "metadata": {
    "ExecuteTime": {
     "end_time": "2022-02-24T20:57:53.862942Z",
     "start_time": "2022-02-24T20:57:53.839821Z"
    }
   },
   "outputs": [],
   "source": [
    "dt3 = DecisionTreeClassifier(random_state=23, class_weight=\"balanced\")\n",
    "dt3.fit(X_train_resampled, y_train_resampled)\n",
    "dt3_y_pred = dt3.predict(X_test)"
   ]
  },
  {
   "cell_type": "code",
   "execution_count": 46,
   "metadata": {
    "ExecuteTime": {
     "end_time": "2022-02-24T20:57:53.870888Z",
     "start_time": "2022-02-24T20:57:53.864499Z"
    }
   },
   "outputs": [
    {
     "name": "stdout",
     "output_type": "stream",
     "text": [
      "Accuracy is :92.92565947242207\n",
      "Precision is :71.83098591549296\n",
      "Recall is :84.29752066115702\n",
      "F1 Score is :77.56653992395437\n",
      "ROC AUC is :0.89\n"
     ]
    }
   ],
   "source": [
    "get_metrics(dt3, dt3_y_pred)"
   ]
  },
  {
   "cell_type": "markdown",
   "metadata": {},
   "source": [
    "## Refinig Decision Tree through GridSearchCV"
   ]
  },
  {
   "cell_type": "code",
   "execution_count": 47,
   "metadata": {
    "ExecuteTime": {
     "end_time": "2022-02-24T20:57:53.873584Z",
     "start_time": "2022-02-24T20:57:53.871919Z"
    }
   },
   "outputs": [],
   "source": [
    "#2/22 added class weight parameter\n",
    "#dtree_2 = DecisionTreeClassifier(random_state=23, class_weight=\"balanced\")"
   ]
  },
  {
   "cell_type": "code",
   "execution_count": 48,
   "metadata": {
    "ExecuteTime": {
     "end_time": "2022-02-24T20:57:53.876740Z",
     "start_time": "2022-02-24T20:57:53.874604Z"
    }
   },
   "outputs": [],
   "source": [
    "dt_param_grid = {\n",
    "    'criterion': ['gini', 'entropy'],\n",
    "    'max_depth': [None, 2, 3, 4, 5, 6],\n",
    "    'min_samples_split': [2, 5, 10],\n",
    "    'min_samples_leaf': [1, 2, 3, 4, 5, 6]\n",
    "}"
   ]
  },
  {
   "cell_type": "code",
   "execution_count": 49,
   "metadata": {
    "ExecuteTime": {
     "end_time": "2022-02-24T20:58:02.083237Z",
     "start_time": "2022-02-24T20:57:53.877795Z"
    }
   },
   "outputs": [
    {
     "data": {
      "text/plain": [
       "GridSearchCV(cv=3,\n",
       "             estimator=DecisionTreeClassifier(class_weight='balanced',\n",
       "                                              random_state=23),\n",
       "             param_grid={'criterion': ['gini', 'entropy'],\n",
       "                         'max_depth': [None, 2, 3, 4, 5, 6],\n",
       "                         'min_samples_leaf': [1, 2, 3, 4, 5, 6],\n",
       "                         'min_samples_split': [2, 5, 10]},\n",
       "             return_train_score=True, scoring='f1')"
      ]
     },
     "execution_count": 49,
     "metadata": {},
     "output_type": "execute_result"
    }
   ],
   "source": [
    "# Instantiate GridSearchCV\n",
    "#dt3_grid_search = GridSearchCV(dt3, dt_param_grid, cv=3, scoring = 'recall', return_train_score=True)\n",
    "dt3_grid_search = GridSearchCV(dt3, dt_param_grid, cv=3, scoring = 'f1', return_train_score=True)\n",
    "\n",
    "# Fit to the data\n",
    "dt3_grid_search.fit(X_train_resampled, y_train_resampled)"
   ]
  },
  {
   "cell_type": "code",
   "execution_count": 50,
   "metadata": {
    "ExecuteTime": {
     "end_time": "2022-02-24T20:58:02.086306Z",
     "start_time": "2022-02-24T20:58:02.084157Z"
    }
   },
   "outputs": [
    {
     "data": {
      "text/plain": [
       "{'criterion': 'entropy',\n",
       " 'max_depth': 6,\n",
       " 'min_samples_leaf': 3,\n",
       " 'min_samples_split': 2}"
      ]
     },
     "execution_count": 50,
     "metadata": {},
     "output_type": "execute_result"
    }
   ],
   "source": [
    "dt3_grid_search.best_params_"
   ]
  },
  {
   "cell_type": "markdown",
   "metadata": {
    "ExecuteTime": {
     "end_time": "2022-02-24T20:01:07.364500Z",
     "start_time": "2022-02-24T20:01:07.361523Z"
    }
   },
   "source": [
    "# Decision Tree 4 (Using Grid Search Parameters)"
   ]
  },
  {
   "cell_type": "code",
   "execution_count": 110,
   "metadata": {
    "ExecuteTime": {
     "end_time": "2022-02-24T21:02:12.418493Z",
     "start_time": "2022-02-24T21:02:12.369677Z"
    }
   },
   "outputs": [],
   "source": [
    "dt4 = DecisionTreeClassifier(criterion='entropy', max_depth=6, min_samples_split=2,\n",
    "                             min_samples_leaf=3, class_weight='balanced', random_state=23)\n",
    "dt4.fit(X_train_resampled, y_train_resampled)\n",
    "dt4_y_pred = dt4.predict(X_test)"
   ]
  },
  {
   "cell_type": "code",
   "execution_count": 111,
   "metadata": {
    "ExecuteTime": {
     "end_time": "2022-02-24T21:02:22.312358Z",
     "start_time": "2022-02-24T21:02:22.307343Z"
    }
   },
   "outputs": [
    {
     "name": "stdout",
     "output_type": "stream",
     "text": [
      "Accuracy is :97.3621103117506\n",
      "Precision is :99.00990099009901\n",
      "Recall is :82.64462809917356\n",
      "F1 Score is :90.0900900900901\n",
      "ROC AUC is :0.91\n"
     ]
    }
   ],
   "source": [
    "get_metrics(dt4, dt4_y_pred)"
   ]
  },
  {
   "cell_type": "code",
   "execution_count": 53,
   "metadata": {
    "ExecuteTime": {
     "end_time": "2022-02-24T20:58:02.120556Z",
     "start_time": "2022-02-24T20:58:02.118718Z"
    }
   },
   "outputs": [],
   "source": [
    "# Mean training score\n",
    "#dt3_gs_training_score = np.mean(dt3_grid_search.cv_results_['mean_train_score'])\n",
    "\n",
    "# Mean test score\n",
    "#dt3_gs_testing_score = dt3_grid_search.score(X_test, y_test)\n",
    "\n",
    "#print(f\"DTree 2 Mean Training Score: {dt2_gs_training_score :.2%}\")\n",
    "#print(f\"DTree 2 Mean Test Score: {dt2_gs_testing_score :.2%}\")\n",
    "#print(\"DTree 2 Best Parameter Combination Found During Grid Search:\")\n",
    "#dt2_grid_search.best_params_"
   ]
  },
  {
   "cell_type": "markdown",
   "metadata": {
    "ExecuteTime": {
     "end_time": "2022-02-24T20:05:04.651877Z",
     "start_time": "2022-02-24T20:05:04.644324Z"
    }
   },
   "source": [
    "# Random Forests 1"
   ]
  },
  {
   "cell_type": "code",
   "execution_count": 54,
   "metadata": {
    "ExecuteTime": {
     "end_time": "2022-02-24T20:58:02.569398Z",
     "start_time": "2022-02-24T20:58:02.121584Z"
    }
   },
   "outputs": [],
   "source": [
    "rf1_clf = RandomForestClassifier(random_state=23, class_weight=\"balanced\")\n",
    "rf1_clf.fit(X_train_resampled, y_train_resampled)\n",
    "rf1_y_pred = rf1_clf.predict(X_test)"
   ]
  },
  {
   "cell_type": "code",
   "execution_count": 55,
   "metadata": {
    "ExecuteTime": {
     "end_time": "2022-02-24T20:58:02.576305Z",
     "start_time": "2022-02-24T20:58:02.570511Z"
    }
   },
   "outputs": [
    {
     "name": "stdout",
     "output_type": "stream",
     "text": [
      "Accuracy is :97.24220623501199\n",
      "Precision is :95.37037037037037\n",
      "Recall is :85.12396694214877\n",
      "F1 Score is :89.95633187772927\n",
      "ROC AUC is :0.92\n"
     ]
    }
   ],
   "source": [
    "get_metrics(rf1_clf, rf1_y_pred)"
   ]
  },
  {
   "cell_type": "code",
   "execution_count": 56,
   "metadata": {
    "ExecuteTime": {
     "end_time": "2022-02-24T20:58:02.604032Z",
     "start_time": "2022-02-24T20:58:02.579861Z"
    }
   },
   "outputs": [
    {
     "name": "stdout",
     "output_type": "stream",
     "text": [
      "\n",
      " RF 1 Confusion Matrix\n",
      "----------------\n"
     ]
    },
    {
     "data": {
      "text/html": [
       "<div>\n",
       "<style scoped>\n",
       "    .dataframe tbody tr th:only-of-type {\n",
       "        vertical-align: middle;\n",
       "    }\n",
       "\n",
       "    .dataframe tbody tr th {\n",
       "        vertical-align: top;\n",
       "    }\n",
       "\n",
       "    .dataframe thead th {\n",
       "        text-align: right;\n",
       "    }\n",
       "</style>\n",
       "<table border=\"1\" class=\"dataframe\">\n",
       "  <thead>\n",
       "    <tr style=\"text-align: right;\">\n",
       "      <th>Predicted</th>\n",
       "      <th>0</th>\n",
       "      <th>1</th>\n",
       "      <th>All</th>\n",
       "    </tr>\n",
       "    <tr>\n",
       "      <th>True</th>\n",
       "      <th></th>\n",
       "      <th></th>\n",
       "      <th></th>\n",
       "    </tr>\n",
       "  </thead>\n",
       "  <tbody>\n",
       "    <tr>\n",
       "      <th>0</th>\n",
       "      <td>708</td>\n",
       "      <td>5</td>\n",
       "      <td>713</td>\n",
       "    </tr>\n",
       "    <tr>\n",
       "      <th>1</th>\n",
       "      <td>18</td>\n",
       "      <td>103</td>\n",
       "      <td>121</td>\n",
       "    </tr>\n",
       "    <tr>\n",
       "      <th>All</th>\n",
       "      <td>726</td>\n",
       "      <td>108</td>\n",
       "      <td>834</td>\n",
       "    </tr>\n",
       "  </tbody>\n",
       "</table>\n",
       "</div>"
      ],
      "text/plain": [
       "Predicted    0    1  All\n",
       "True                    \n",
       "0          708    5  713\n",
       "1           18  103  121\n",
       "All        726  108  834"
      ]
     },
     "execution_count": 56,
     "metadata": {},
     "output_type": "execute_result"
    }
   ],
   "source": [
    "# Create and print a confusion matrix \n",
    "print('\\n RF 1 Confusion Matrix')\n",
    "print('----------------')\n",
    "pd.crosstab(y_test, rf1_y_pred, rownames=['True'], colnames=['Predicted'], margins=True)"
   ]
  },
  {
   "cell_type": "markdown",
   "metadata": {
    "ExecuteTime": {
     "end_time": "2022-02-24T20:06:40.653045Z",
     "start_time": "2022-02-24T20:06:40.648248Z"
    }
   },
   "source": [
    "## Analysis"
   ]
  },
  {
   "cell_type": "code",
   "execution_count": null,
   "metadata": {},
   "outputs": [],
   "source": []
  },
  {
   "cell_type": "markdown",
   "metadata": {},
   "source": [
    "## GridSearch CV"
   ]
  },
  {
   "cell_type": "code",
   "execution_count": 57,
   "metadata": {
    "ExecuteTime": {
     "end_time": "2022-02-24T20:58:02.608801Z",
     "start_time": "2022-02-24T20:58:02.606711Z"
    }
   },
   "outputs": [],
   "source": [
    "rf_param_grid = {\n",
    "    'n_estimators': [10, 30, 100],\n",
    "    'criterion': ['gini', 'entropy'],\n",
    "    'max_depth': [None, 2, 6, 10],\n",
    "    'min_samples_split': [5, 10],\n",
    "    'min_samples_leaf': [3, 6]\n",
    "}"
   ]
  },
  {
   "cell_type": "code",
   "execution_count": null,
   "metadata": {},
   "outputs": [],
   "source": []
  },
  {
   "cell_type": "code",
   "execution_count": 58,
   "metadata": {
    "ExecuteTime": {
     "end_time": "2022-02-24T20:58:34.844564Z",
     "start_time": "2022-02-24T20:58:02.609908Z"
    }
   },
   "outputs": [
    {
     "name": "stdout",
     "output_type": "stream",
     "text": [
      "\n",
      "Random Forest  Optimal Parameters: {'criterion': 'entropy', 'max_depth': None, 'min_samples_leaf': 3, 'min_samples_split': 5, 'n_estimators': 100}\n"
     ]
    }
   ],
   "source": [
    "#rf2_grid_search = GridSearchCV(rf2_clf, rf_param_grid, scoring = 'recall', cv=3)\n",
    "rf1_grid_search = GridSearchCV(rf1_clf, rf_param_grid, scoring = 'f1', cv=3)\n",
    "rf1_grid_search.fit(X_train_resampled, y_train_resampled)\n",
    "\n",
    "#print(f\"Random Forest 2 Training Accuracy: {rf1_grid_search.best_score_ :.2%}\")\n",
    "#print(\"\")\n",
    "# Mean test score\n",
    "#rf1_gs_testing_score = rf2_grid_search.score(X_test, y_test)\n",
    "print(\"\")\n",
    "print(f\"Random Forest  Optimal Parameters: {rf1_grid_search.best_params_}\")"
   ]
  },
  {
   "cell_type": "markdown",
   "metadata": {},
   "source": [
    "# Random Forests 2 (Using Parameters from GridSearchCV)"
   ]
  },
  {
   "cell_type": "code",
   "execution_count": 59,
   "metadata": {
    "ExecuteTime": {
     "end_time": "2022-02-24T20:58:35.321164Z",
     "start_time": "2022-02-24T20:58:34.845466Z"
    }
   },
   "outputs": [],
   "source": [
    "rf2_clf = RandomForestClassifier(criterion= 'entropy', max_depth= None, min_samples_leaf= 3,\n",
    "                                min_samples_split= 5, n_estimators= 100, random_state=23,\n",
    "                                class_weight='balanced')\n",
    "rf2_clf.fit(X_train_resampled, y_train_resampled)\n",
    "rf2_y_pred = rf2_clf.predict(X_test)"
   ]
  },
  {
   "cell_type": "code",
   "execution_count": 60,
   "metadata": {
    "ExecuteTime": {
     "end_time": "2022-02-24T20:58:35.328052Z",
     "start_time": "2022-02-24T20:58:35.322251Z"
    }
   },
   "outputs": [
    {
     "name": "stdout",
     "output_type": "stream",
     "text": [
      "Accuracy is :97.3621103117506\n",
      "Precision is :97.14285714285714\n",
      "Recall is :84.29752066115702\n",
      "F1 Score is :90.2654867256637\n",
      "ROC AUC is :0.92\n"
     ]
    }
   ],
   "source": [
    "get_metrics(rf2_clf, rf2_y_pred)"
   ]
  },
  {
   "cell_type": "code",
   "execution_count": 61,
   "metadata": {
    "ExecuteTime": {
     "end_time": "2022-02-24T20:58:35.353287Z",
     "start_time": "2022-02-24T20:58:35.329071Z"
    }
   },
   "outputs": [
    {
     "name": "stdout",
     "output_type": "stream",
     "text": [
      "\n",
      " RF 2 Confusion Matrix\n",
      "----------------\n"
     ]
    },
    {
     "data": {
      "text/html": [
       "<div>\n",
       "<style scoped>\n",
       "    .dataframe tbody tr th:only-of-type {\n",
       "        vertical-align: middle;\n",
       "    }\n",
       "\n",
       "    .dataframe tbody tr th {\n",
       "        vertical-align: top;\n",
       "    }\n",
       "\n",
       "    .dataframe thead th {\n",
       "        text-align: right;\n",
       "    }\n",
       "</style>\n",
       "<table border=\"1\" class=\"dataframe\">\n",
       "  <thead>\n",
       "    <tr style=\"text-align: right;\">\n",
       "      <th>Predicted</th>\n",
       "      <th>0</th>\n",
       "      <th>1</th>\n",
       "      <th>All</th>\n",
       "    </tr>\n",
       "    <tr>\n",
       "      <th>True</th>\n",
       "      <th></th>\n",
       "      <th></th>\n",
       "      <th></th>\n",
       "    </tr>\n",
       "  </thead>\n",
       "  <tbody>\n",
       "    <tr>\n",
       "      <th>0</th>\n",
       "      <td>710</td>\n",
       "      <td>3</td>\n",
       "      <td>713</td>\n",
       "    </tr>\n",
       "    <tr>\n",
       "      <th>1</th>\n",
       "      <td>19</td>\n",
       "      <td>102</td>\n",
       "      <td>121</td>\n",
       "    </tr>\n",
       "    <tr>\n",
       "      <th>All</th>\n",
       "      <td>729</td>\n",
       "      <td>105</td>\n",
       "      <td>834</td>\n",
       "    </tr>\n",
       "  </tbody>\n",
       "</table>\n",
       "</div>"
      ],
      "text/plain": [
       "Predicted    0    1  All\n",
       "True                    \n",
       "0          710    3  713\n",
       "1           19  102  121\n",
       "All        729  105  834"
      ]
     },
     "execution_count": 61,
     "metadata": {},
     "output_type": "execute_result"
    }
   ],
   "source": [
    "# Create and print a confusion matrix \n",
    "print('\\n RF 2 Confusion Matrix')\n",
    "print('----------------')\n",
    "pd.crosstab(y_test, rf2_y_pred, rownames=['True'], colnames=['Predicted'], margins=True)"
   ]
  },
  {
   "cell_type": "markdown",
   "metadata": {
    "ExecuteTime": {
     "end_time": "2022-02-24T20:35:27.999323Z",
     "start_time": "2022-02-24T20:35:27.990815Z"
    }
   },
   "source": [
    "# Comparing Models"
   ]
  },
  {
   "cell_type": "code",
   "execution_count": null,
   "metadata": {},
   "outputs": [],
   "source": []
  },
  {
   "cell_type": "markdown",
   "metadata": {},
   "source": [
    "# Feature Importance"
   ]
  },
  {
   "cell_type": "code",
   "execution_count": 64,
   "metadata": {
    "ExecuteTime": {
     "end_time": "2022-02-24T20:59:11.434930Z",
     "start_time": "2022-02-24T20:59:11.422911Z"
    }
   },
   "outputs": [
    {
     "data": {
      "text/plain": [
       "['account_length',\n",
       " 'number_vmail_messages',\n",
       " 'total_day_minutes',\n",
       " 'total_day_calls',\n",
       " 'total_eve_minutes',\n",
       " 'total_eve_calls',\n",
       " 'total_night_minutes',\n",
       " 'total_night_calls',\n",
       " 'total_intl_minutes',\n",
       " 'total_intl_calls',\n",
       " 'total_charge',\n",
       " 'international_plan_yes',\n",
       " 'voice_mail_plan_yes',\n",
       " 'cs_calls_high']"
      ]
     },
     "execution_count": 64,
     "metadata": {},
     "output_type": "execute_result"
    }
   ],
   "source": [
    "feature_names = list(X)\n",
    "feature_names"
   ]
  },
  {
   "cell_type": "code",
   "execution_count": 62,
   "metadata": {
    "ExecuteTime": {
     "end_time": "2022-02-24T20:58:35.362100Z",
     "start_time": "2022-02-24T20:58:35.354286Z"
    }
   },
   "outputs": [
    {
     "data": {
      "text/plain": [
       "array([0.02885606, 0.02787708, 0.0952097 , 0.02419153, 0.04214213,\n",
       "       0.02015884, 0.03377664, 0.02067069, 0.03508984, 0.03247959,\n",
       "       0.25085661, 0.15504313, 0.04893324, 0.18471492])"
      ]
     },
     "execution_count": 62,
     "metadata": {},
     "output_type": "execute_result"
    }
   ],
   "source": [
    "rf2_importance = rf2_clf.feature_importances_\n",
    "rf2_importance"
   ]
  },
  {
   "cell_type": "code",
   "execution_count": 65,
   "metadata": {
    "ExecuteTime": {
     "end_time": "2022-02-24T20:59:20.488746Z",
     "start_time": "2022-02-24T20:59:20.481314Z"
    }
   },
   "outputs": [
    {
     "data": {
      "text/html": [
       "<div>\n",
       "<style scoped>\n",
       "    .dataframe tbody tr th:only-of-type {\n",
       "        vertical-align: middle;\n",
       "    }\n",
       "\n",
       "    .dataframe tbody tr th {\n",
       "        vertical-align: top;\n",
       "    }\n",
       "\n",
       "    .dataframe thead th {\n",
       "        text-align: right;\n",
       "    }\n",
       "</style>\n",
       "<table border=\"1\" class=\"dataframe\">\n",
       "  <thead>\n",
       "    <tr style=\"text-align: right;\">\n",
       "      <th></th>\n",
       "      <th>Feature</th>\n",
       "      <th>Importance</th>\n",
       "    </tr>\n",
       "  </thead>\n",
       "  <tbody>\n",
       "    <tr>\n",
       "      <th>10</th>\n",
       "      <td>total_charge</td>\n",
       "      <td>0.250857</td>\n",
       "    </tr>\n",
       "    <tr>\n",
       "      <th>13</th>\n",
       "      <td>cs_calls_high</td>\n",
       "      <td>0.184715</td>\n",
       "    </tr>\n",
       "    <tr>\n",
       "      <th>11</th>\n",
       "      <td>international_plan_yes</td>\n",
       "      <td>0.155043</td>\n",
       "    </tr>\n",
       "    <tr>\n",
       "      <th>2</th>\n",
       "      <td>total_day_minutes</td>\n",
       "      <td>0.095210</td>\n",
       "    </tr>\n",
       "    <tr>\n",
       "      <th>12</th>\n",
       "      <td>voice_mail_plan_yes</td>\n",
       "      <td>0.048933</td>\n",
       "    </tr>\n",
       "    <tr>\n",
       "      <th>4</th>\n",
       "      <td>total_eve_minutes</td>\n",
       "      <td>0.042142</td>\n",
       "    </tr>\n",
       "    <tr>\n",
       "      <th>8</th>\n",
       "      <td>total_intl_minutes</td>\n",
       "      <td>0.035090</td>\n",
       "    </tr>\n",
       "    <tr>\n",
       "      <th>6</th>\n",
       "      <td>total_night_minutes</td>\n",
       "      <td>0.033777</td>\n",
       "    </tr>\n",
       "    <tr>\n",
       "      <th>9</th>\n",
       "      <td>total_intl_calls</td>\n",
       "      <td>0.032480</td>\n",
       "    </tr>\n",
       "    <tr>\n",
       "      <th>0</th>\n",
       "      <td>account_length</td>\n",
       "      <td>0.028856</td>\n",
       "    </tr>\n",
       "    <tr>\n",
       "      <th>1</th>\n",
       "      <td>number_vmail_messages</td>\n",
       "      <td>0.027877</td>\n",
       "    </tr>\n",
       "    <tr>\n",
       "      <th>3</th>\n",
       "      <td>total_day_calls</td>\n",
       "      <td>0.024192</td>\n",
       "    </tr>\n",
       "    <tr>\n",
       "      <th>7</th>\n",
       "      <td>total_night_calls</td>\n",
       "      <td>0.020671</td>\n",
       "    </tr>\n",
       "    <tr>\n",
       "      <th>5</th>\n",
       "      <td>total_eve_calls</td>\n",
       "      <td>0.020159</td>\n",
       "    </tr>\n",
       "  </tbody>\n",
       "</table>\n",
       "</div>"
      ],
      "text/plain": [
       "                   Feature  Importance\n",
       "10            total_charge    0.250857\n",
       "13           cs_calls_high    0.184715\n",
       "11  international_plan_yes    0.155043\n",
       "2        total_day_minutes    0.095210\n",
       "12     voice_mail_plan_yes    0.048933\n",
       "4        total_eve_minutes    0.042142\n",
       "8       total_intl_minutes    0.035090\n",
       "6      total_night_minutes    0.033777\n",
       "9         total_intl_calls    0.032480\n",
       "0           account_length    0.028856\n",
       "1    number_vmail_messages    0.027877\n",
       "3          total_day_calls    0.024192\n",
       "7        total_night_calls    0.020671\n",
       "5          total_eve_calls    0.020159"
      ]
     },
     "execution_count": 65,
     "metadata": {},
     "output_type": "execute_result"
    }
   ],
   "source": [
    "feature_importance_df = pd.DataFrame(rf2_importance, feature_names)\n",
    "feature_importance_df= feature_importance_df.reset_index()\n",
    "feature_importance_df.rename(columns={'index': 'Feature', 0: 'Importance'}, inplace=True)\n",
    "feature_importance_df = feature_importance_df.sort_values('Importance', ascending=False)\n",
    "feature_importance_df"
   ]
  },
  {
   "cell_type": "code",
   "execution_count": 67,
   "metadata": {
    "ExecuteTime": {
     "end_time": "2022-02-24T20:59:48.160762Z",
     "start_time": "2022-02-24T20:59:47.843561Z"
    }
   },
   "outputs": [
    {
     "data": {
      "image/png": "[encoded data removed]",
      "text/plain": [
       "<Figure size 3600x1440 with 1 Axes>"
      ]
     },
     "metadata": {},
     "output_type": "display_data"
    }
   ],
   "source": [
    "# plot feature importance\n",
    "fig, ax = plt.subplots(figsize=(50,20))\n",
    "#p = sns.barplot(data=feature_importance_df, x='Feature', y='Importance' );\n",
    "p = sns.barplot(data=feature_importance_df, x='Importance', y='Feature', color='purple' );\n",
    "p.set_xlabel(\"Importance\", fontsize = 50)\n",
    "\n",
    "p.set_ylabel(\"Feature\", fontsize = 50)\n",
    "plt.xticks(fontsize=30)\n",
    "plt.yticks(fontsize=30)\n",
    "#p.yaxis.set_major_formatter(display_millions)\n",
    "p.set_title(\"Features by Importance\", fontsize = 100)\n",
    "plt.figsize=(30,20) \n",
    "#plt.savefig('images/project_1_bar_3')\n",
    "\n",
    "plt.show();"
   ]
  },
  {
   "cell_type": "markdown",
   "metadata": {
    "ExecuteTime": {
     "end_time": "2022-02-24T20:40:08.246291Z",
     "start_time": "2022-02-24T20:40:08.229566Z"
    }
   },
   "source": [
    "## Analysis\n",
    "- Figure out how to rank feature importance as this is the ultimate outcome for my business problem.\n",
    "- VISUALIZE!!!!"
   ]
  },
  {
   "cell_type": "code",
   "execution_count": null,
   "metadata": {},
   "outputs": [],
   "source": []
  },
  {
   "cell_type": "markdown",
   "metadata": {},
   "source": [
    "# Analyzing Churn Rate in Important Features"
   ]
  },
  {
   "cell_type": "code",
   "execution_count": 68,
   "metadata": {
    "ExecuteTime": {
     "end_time": "2022-02-24T20:59:48.164367Z",
     "start_time": "2022-02-24T20:59:48.162300Z"
    }
   },
   "outputs": [],
   "source": [
    "#cleaned_df.info()"
   ]
  },
  {
   "cell_type": "code",
   "execution_count": 69,
   "metadata": {
    "ExecuteTime": {
     "end_time": "2022-02-24T20:59:48.168532Z",
     "start_time": "2022-02-24T20:59:48.166405Z"
    }
   },
   "outputs": [],
   "source": [
    "analysis_df = cleaned_df.copy()"
   ]
  },
  {
   "cell_type": "code",
   "execution_count": 70,
   "metadata": {
    "ExecuteTime": {
     "end_time": "2022-02-24T20:59:48.182842Z",
     "start_time": "2022-02-24T20:59:48.170269Z"
    }
   },
   "outputs": [
    {
     "data": {
      "text/html": [
       "<div>\n",
       "<style scoped>\n",
       "    .dataframe tbody tr th:only-of-type {\n",
       "        vertical-align: middle;\n",
       "    }\n",
       "\n",
       "    .dataframe tbody tr th {\n",
       "        vertical-align: top;\n",
       "    }\n",
       "\n",
       "    .dataframe thead th {\n",
       "        text-align: right;\n",
       "    }\n",
       "</style>\n",
       "<table border=\"1\" class=\"dataframe\">\n",
       "  <thead>\n",
       "    <tr style=\"text-align: right;\">\n",
       "      <th></th>\n",
       "      <th>#_of_calls</th>\n",
       "      <th>churn</th>\n",
       "      <th>#_of_accounts</th>\n",
       "      <th>churn_rate</th>\n",
       "    </tr>\n",
       "  </thead>\n",
       "  <tbody>\n",
       "    <tr>\n",
       "      <th>0</th>\n",
       "      <td>0</td>\n",
       "      <td>92</td>\n",
       "      <td>697</td>\n",
       "      <td>0.131994</td>\n",
       "    </tr>\n",
       "    <tr>\n",
       "      <th>1</th>\n",
       "      <td>1</td>\n",
       "      <td>122</td>\n",
       "      <td>1181</td>\n",
       "      <td>0.103302</td>\n",
       "    </tr>\n",
       "    <tr>\n",
       "      <th>2</th>\n",
       "      <td>2</td>\n",
       "      <td>87</td>\n",
       "      <td>759</td>\n",
       "      <td>0.114625</td>\n",
       "    </tr>\n",
       "    <tr>\n",
       "      <th>3</th>\n",
       "      <td>3</td>\n",
       "      <td>44</td>\n",
       "      <td>429</td>\n",
       "      <td>0.102564</td>\n",
       "    </tr>\n",
       "    <tr>\n",
       "      <th>4</th>\n",
       "      <td>4</td>\n",
       "      <td>76</td>\n",
       "      <td>166</td>\n",
       "      <td>0.457831</td>\n",
       "    </tr>\n",
       "    <tr>\n",
       "      <th>5</th>\n",
       "      <td>5</td>\n",
       "      <td>40</td>\n",
       "      <td>66</td>\n",
       "      <td>0.606061</td>\n",
       "    </tr>\n",
       "    <tr>\n",
       "      <th>6</th>\n",
       "      <td>6</td>\n",
       "      <td>14</td>\n",
       "      <td>22</td>\n",
       "      <td>0.636364</td>\n",
       "    </tr>\n",
       "    <tr>\n",
       "      <th>7</th>\n",
       "      <td>7</td>\n",
       "      <td>5</td>\n",
       "      <td>9</td>\n",
       "      <td>0.555556</td>\n",
       "    </tr>\n",
       "    <tr>\n",
       "      <th>8</th>\n",
       "      <td>8</td>\n",
       "      <td>1</td>\n",
       "      <td>2</td>\n",
       "      <td>0.500000</td>\n",
       "    </tr>\n",
       "    <tr>\n",
       "      <th>9</th>\n",
       "      <td>9</td>\n",
       "      <td>2</td>\n",
       "      <td>2</td>\n",
       "      <td>1.000000</td>\n",
       "    </tr>\n",
       "  </tbody>\n",
       "</table>\n",
       "</div>"
      ],
      "text/plain": [
       "   #_of_calls  churn  #_of_accounts  churn_rate\n",
       "0           0     92            697    0.131994\n",
       "1           1    122           1181    0.103302\n",
       "2           2     87            759    0.114625\n",
       "3           3     44            429    0.102564\n",
       "4           4     76            166    0.457831\n",
       "5           5     40             66    0.606061\n",
       "6           6     14             22    0.636364\n",
       "7           7      5              9    0.555556\n",
       "8           8      1              2    0.500000\n",
       "9           9      2              2    1.000000"
      ]
     },
     "execution_count": 70,
     "metadata": {},
     "output_type": "execute_result"
    }
   ],
   "source": [
    "cs_churn_df = analysis_df.groupby('customer_service_calls')['churn'].sum().reset_index()\n",
    "cs_churn_df = cs_churn_df.rename(columns={\"customer_service_calls\": \"#_of_calls\"})\n",
    "variable_1 = analysis_df['customer_service_calls'].value_counts().reset_index()\n",
    "variable_1 = variable_1.rename(columns={\"index\": \"#_of_calls\", \"customer_service_calls\": \"#_of_accounts\"})\n",
    "cs_churn_df = cs_churn_df.merge(variable_1, on='#_of_calls')\n",
    "churn_rate = cs_churn_df.apply(lambda x: x['churn'] / x['#_of_accounts'], axis=1)\n",
    "cs_churn_df['churn_rate']= churn_rate\n",
    "cs_churn_df"
   ]
  },
  {
   "cell_type": "code",
   "execution_count": 71,
   "metadata": {
    "ExecuteTime": {
     "end_time": "2022-02-24T20:59:48.303150Z",
     "start_time": "2022-02-24T20:59:48.183969Z"
    }
   },
   "outputs": [
    {
     "data": {
      "image/png": "[encoded data removed]",
      "text/plain": [
       "<Figure size 720x720 with 1 Axes>"
      ]
     },
     "metadata": {},
     "output_type": "display_data"
    }
   ],
   "source": [
    "fig, ax = plt.subplots(figsize=(10,10))\n",
    "p = sns.barplot(x=\"#_of_calls\", y=\"churn_rate\", data=cs_churn_df, color='red');\n",
    "\n",
    "p.set_xlabel(\"Number of Customer Service Calls\", fontsize = 15)\n",
    "p.set_ylabel(\"Churn Rate\", fontsize = 15)\n",
    "#p.xaxis.set_major_formatter(display_millions)\n",
    "p.set_title(\"Churn Rate by Number of Customer Service Calls\", fontsize = 20)\n",
    "plt.figsize=(30,20) \n",
    "plt.axhline(y=.145)\n",
    "#plt.savefig('images/project_1_scatter_1')\n",
    "\n",
    "plt.show();"
   ]
  },
  {
   "cell_type": "code",
   "execution_count": null,
   "metadata": {},
   "outputs": [],
   "source": []
  },
  {
   "cell_type": "markdown",
   "metadata": {},
   "source": [
    "# NEW ARCHIVE (2/24)"
   ]
  },
  {
   "cell_type": "markdown",
   "metadata": {},
   "source": [
    "### Decision Tree 2"
   ]
  },
  {
   "cell_type": "code",
   "execution_count": 72,
   "metadata": {
    "ExecuteTime": {
     "end_time": "2022-02-24T20:59:48.306501Z",
     "start_time": "2022-02-24T20:59:48.304426Z"
    }
   },
   "outputs": [],
   "source": [
    "dtree_2 = DecisionTreeClassifier(criterion='entropy', \n",
    "                           max_depth=5,\n",
    "                          min_samples_split=10,\n",
    "                           min_samples_leaf=1,\n",
    "                            random_state=23)"
   ]
  },
  {
   "cell_type": "code",
   "execution_count": 73,
   "metadata": {
    "ExecuteTime": {
     "end_time": "2022-02-24T20:59:48.309461Z",
     "start_time": "2022-02-24T20:59:48.307761Z"
    }
   },
   "outputs": [],
   "source": [
    "#dtree_2 = DecisionTreeClassifier(criterion='gini', \n",
    "#                           max_depth=3,\n",
    "#                           min_samples_split=2,\n",
    "#                           min_samples_leaf=1,\n",
    "#                            random_state=23)"
   ]
  },
  {
   "cell_type": "code",
   "execution_count": 74,
   "metadata": {
    "ExecuteTime": {
     "end_time": "2022-02-24T20:59:48.325209Z",
     "start_time": "2022-02-24T20:59:48.312182Z"
    }
   },
   "outputs": [],
   "source": [
    "dtree_2.fit(X_train, y_train)\n",
    "dt2_y_pred = dtree_2.predict(X_test)"
   ]
  },
  {
   "cell_type": "markdown",
   "metadata": {},
   "source": [
    "### Evaluating Decision Tree 2"
   ]
  },
  {
   "cell_type": "code",
   "execution_count": 75,
   "metadata": {
    "ExecuteTime": {
     "end_time": "2022-02-24T20:59:48.430644Z",
     "start_time": "2022-02-24T20:59:48.327063Z"
    }
   },
   "outputs": [
    {
     "name": "stdout",
     "output_type": "stream",
     "text": [
      "DTree 2 Accuracy is :97.48201438848922\n",
      "DTree 2 Precision is :100.0\n",
      "DTree 2 Recall is :82.64462809917356\n",
      "DTree 2 F1 Score is :11.952191235059761\n",
      "DTree 2 AUC is :0.91\n",
      "DTree 2 Confusion Matrix\n",
      "----------------\n"
     ]
    },
    {
     "data": {
      "text/html": [
       "<div>\n",
       "<style scoped>\n",
       "    .dataframe tbody tr th:only-of-type {\n",
       "        vertical-align: middle;\n",
       "    }\n",
       "\n",
       "    .dataframe tbody tr th {\n",
       "        vertical-align: top;\n",
       "    }\n",
       "\n",
       "    .dataframe thead th {\n",
       "        text-align: right;\n",
       "    }\n",
       "</style>\n",
       "<table border=\"1\" class=\"dataframe\">\n",
       "  <thead>\n",
       "    <tr style=\"text-align: right;\">\n",
       "      <th>Predicted</th>\n",
       "      <th>0</th>\n",
       "      <th>1</th>\n",
       "      <th>All</th>\n",
       "    </tr>\n",
       "    <tr>\n",
       "      <th>True</th>\n",
       "      <th></th>\n",
       "      <th></th>\n",
       "      <th></th>\n",
       "    </tr>\n",
       "  </thead>\n",
       "  <tbody>\n",
       "    <tr>\n",
       "      <th>0</th>\n",
       "      <td>713</td>\n",
       "      <td>0</td>\n",
       "      <td>713</td>\n",
       "    </tr>\n",
       "    <tr>\n",
       "      <th>1</th>\n",
       "      <td>21</td>\n",
       "      <td>100</td>\n",
       "      <td>121</td>\n",
       "    </tr>\n",
       "    <tr>\n",
       "      <th>All</th>\n",
       "      <td>734</td>\n",
       "      <td>100</td>\n",
       "      <td>834</td>\n",
       "    </tr>\n",
       "  </tbody>\n",
       "</table>\n",
       "</div>"
      ],
      "text/plain": [
       "Predicted    0    1  All\n",
       "True                    \n",
       "0          713    0  713\n",
       "1           21  100  121\n",
       "All        734  100  834"
      ]
     },
     "execution_count": 75,
     "metadata": {},
     "output_type": "execute_result"
    }
   ],
   "source": [
    "# Calculate Classification Metrics\n",
    "\n",
    "dt2_acc = accuracy_score(y_test, dt2_y_pred) * 100\n",
    "print('DTree 2 Accuracy is :{0}'.format(dt2_acc))\n",
    "dt2_prec = precision_score(y_test, dt2_y_pred) * 100\n",
    "print('DTree 2 Precision is :{0}'.format(dt2_prec))\n",
    "dt2_rcl = recall_score(y_test, dt2_y_pred) * 100\n",
    "print('DTree 2 Recall is :{0}'.format(dt2_rcl))\n",
    "dt2_f1 = f1_score(y_test, dt1_y_pred) * 100\n",
    "print('DTree 2 F1 Score is :{0}'.format(dt2_f1))\n",
    "false_positive_rate, true_positive_rate, thresholds = roc_curve(y_test, dt2_y_pred)\n",
    "dt2_roc_auc = auc(false_positive_rate, true_positive_rate)\n",
    "print('DTree 2 AUC is :{0}'.format(round(dt2_roc_auc, 2)))\n",
    "print('DTree 2 Confusion Matrix')\n",
    "print('----------------')\n",
    "pd.crosstab(y_test, dt2_y_pred, rownames=['True'], colnames=['Predicted'], margins=True)"
   ]
  },
  {
   "cell_type": "code",
   "execution_count": 76,
   "metadata": {
    "ExecuteTime": {
     "end_time": "2022-02-24T20:59:48.433549Z",
     "start_time": "2022-02-24T20:59:48.431734Z"
    }
   },
   "outputs": [],
   "source": [
    "# Calculate accuracy \n",
    "#dt2_acc = accuracy_score(y_test,dt2_y_pred) * 100\n",
    "#print('DTree 2 Accuracy is :{0}'.format(dt2_acc))\n",
    "\n",
    "# Check the AUC for predictions\n",
    "#false_positive_rate, true_positive_rate, thresholds = roc_curve(y_test, dt2_y_pred)\n",
    "#dt2_roc_auc = auc(false_positive_rate, true_positive_rate)\n",
    "#print('DTree 2 AUC is :{0}'.format(round(dt2_roc_auc, 2)))\n",
    "\n",
    "# Create and print a confusion matrix \n",
    "#print('DTree 2 Confusion Matrix')\n",
    "#print('----------------')\n",
    "#pd.crosstab(y_test, dt2_y_pred, rownames=['True'], colnames=['Predicted'], margins=True)"
   ]
  },
  {
   "cell_type": "markdown",
   "metadata": {},
   "source": [
    "### Analysis of Accuracy, AUC, and Confusion Matrix\n",
    "- Analysis goes HERE\n",
    "- AND HERE\n",
    "- AND HERE!"
   ]
  },
  {
   "cell_type": "markdown",
   "metadata": {},
   "source": [
    "### Random Forests 1"
   ]
  },
  {
   "cell_type": "code",
   "execution_count": 77,
   "metadata": {
    "ExecuteTime": {
     "end_time": "2022-02-24T20:59:48.742432Z",
     "start_time": "2022-02-24T20:59:48.434780Z"
    }
   },
   "outputs": [],
   "source": [
    "rf1_clf = RandomForestClassifier(random_state=23, class_weight=\"balanced\")\n",
    "rf1_clf.fit(X_train, y_train)\n",
    "rf1_y_pred = rf1_clf.predict(X_test)"
   ]
  },
  {
   "cell_type": "code",
   "execution_count": 78,
   "metadata": {
    "ExecuteTime": {
     "end_time": "2022-02-24T20:59:49.425289Z",
     "start_time": "2022-02-24T20:59:48.743571Z"
    }
   },
   "outputs": [
    {
     "name": "stdout",
     "output_type": "stream",
     "text": [
      "Mean Cross Validation Score for Random Forest Classifier: 96.92%\n"
     ]
    }
   ],
   "source": [
    "rf1_clf = RandomForestClassifier(random_state=23, class_weight=\"balanced\")\n",
    "mean_rf1_cv_score = np.mean(cross_val_score(rf1_clf, X_train, y_train, cv=3))\n",
    "\n",
    "print(f\"Mean Cross Validation Score for Random Forest Classifier: {mean_rf1_cv_score :.2%}\")"
   ]
  },
  {
   "cell_type": "code",
   "execution_count": 79,
   "metadata": {
    "ExecuteTime": {
     "end_time": "2022-02-24T20:59:49.735982Z",
     "start_time": "2022-02-24T20:59:49.426348Z"
    }
   },
   "outputs": [],
   "source": [
    "rf1_clf.fit(X_train, y_train)\n",
    "rf1_y_pred = rf1_clf.predict(X_test)\n",
    "#false_positive_rate, true_positive_rate, thresholds = roc_curve(y_test,rf1_y_pred)\n",
    "#rf1_roc_auc = auc(false_positive_rate, true_positive_rate)\n",
    "#rf1_roc_auc\n",
    "#print(f\"Random Forests 1 AUC Score: {rf1_roc_auc :.2%}\")"
   ]
  },
  {
   "cell_type": "markdown",
   "metadata": {},
   "source": [
    "### Evaluating Random Forests 1"
   ]
  },
  {
   "cell_type": "code",
   "execution_count": 80,
   "metadata": {
    "ExecuteTime": {
     "end_time": "2022-02-24T20:59:49.766275Z",
     "start_time": "2022-02-24T20:59:49.736923Z"
    }
   },
   "outputs": [
    {
     "name": "stdout",
     "output_type": "stream",
     "text": [
      "Random Forests 1 Accuracy is :96.76258992805755\n",
      "Random Forests 1 Precision is :100.0\n",
      "Random Forests 1 Recall is :77.68595041322314\n",
      "Random Forests 1 F1 Score is :87.44186046511628\n",
      "Random Forests 1 AUC is :0.89\n",
      "Random Forests 1 Confusion Matrix\n",
      "----------------\n"
     ]
    },
    {
     "data": {
      "text/html": [
       "<div>\n",
       "<style scoped>\n",
       "    .dataframe tbody tr th:only-of-type {\n",
       "        vertical-align: middle;\n",
       "    }\n",
       "\n",
       "    .dataframe tbody tr th {\n",
       "        vertical-align: top;\n",
       "    }\n",
       "\n",
       "    .dataframe thead th {\n",
       "        text-align: right;\n",
       "    }\n",
       "</style>\n",
       "<table border=\"1\" class=\"dataframe\">\n",
       "  <thead>\n",
       "    <tr style=\"text-align: right;\">\n",
       "      <th>Predicted</th>\n",
       "      <th>0</th>\n",
       "      <th>1</th>\n",
       "      <th>All</th>\n",
       "    </tr>\n",
       "    <tr>\n",
       "      <th>True</th>\n",
       "      <th></th>\n",
       "      <th></th>\n",
       "      <th></th>\n",
       "    </tr>\n",
       "  </thead>\n",
       "  <tbody>\n",
       "    <tr>\n",
       "      <th>0</th>\n",
       "      <td>713</td>\n",
       "      <td>0</td>\n",
       "      <td>713</td>\n",
       "    </tr>\n",
       "    <tr>\n",
       "      <th>1</th>\n",
       "      <td>27</td>\n",
       "      <td>94</td>\n",
       "      <td>121</td>\n",
       "    </tr>\n",
       "    <tr>\n",
       "      <th>All</th>\n",
       "      <td>740</td>\n",
       "      <td>94</td>\n",
       "      <td>834</td>\n",
       "    </tr>\n",
       "  </tbody>\n",
       "</table>\n",
       "</div>"
      ],
      "text/plain": [
       "Predicted    0   1  All\n",
       "True                   \n",
       "0          713   0  713\n",
       "1           27  94  121\n",
       "All        740  94  834"
      ]
     },
     "execution_count": 80,
     "metadata": {},
     "output_type": "execute_result"
    }
   ],
   "source": [
    "# Calculate Classification Metrics\n",
    "\n",
    "rf1_acc = accuracy_score(y_test, rf1_y_pred) * 100\n",
    "print('Random Forests 1 Accuracy is :{0}'.format(rf1_acc))\n",
    "rf1_prec = precision_score(y_test, rf1_y_pred) * 100\n",
    "print('Random Forests 1 Precision is :{0}'.format(rf1_prec))\n",
    "rf1_rcl = recall_score(y_test, rf1_y_pred) * 100\n",
    "print('Random Forests 1 Recall is :{0}'.format(rf1_rcl))\n",
    "rf1_f1 = f1_score(y_test, rf1_y_pred) * 100\n",
    "print('Random Forests 1 F1 Score is :{0}'.format(rf1_f1))\n",
    "false_positive_rate, true_positive_rate, thresholds = roc_curve(y_test, rf1_y_pred)\n",
    "rf1_roc_auc = auc(false_positive_rate, true_positive_rate)\n",
    "print('Random Forests 1 AUC is :{0}'.format(round(rf1_roc_auc, 2)))\n",
    "print('Random Forests 1 Confusion Matrix')\n",
    "print('----------------')\n",
    "pd.crosstab(y_test, rf1_y_pred, rownames=['True'], colnames=['Predicted'], margins=True)"
   ]
  },
  {
   "cell_type": "code",
   "execution_count": 81,
   "metadata": {
    "ExecuteTime": {
     "end_time": "2022-02-24T20:59:49.768965Z",
     "start_time": "2022-02-24T20:59:49.767205Z"
    }
   },
   "outputs": [],
   "source": [
    "# Calculate accuracy \n",
    "#rf1_acc = accuracy_score(y_test,rf1_y_pred) * 100\n",
    "#print('Random Forests 1 Accuracy is :{0}'.format(rf1_acc))\n",
    "\n",
    "# Check the AUC for predictions\n",
    "#false_positive_rate, true_positive_rate, thresholds = roc_curve(y_test, rf1_y_pred)\n",
    "#rf1_roc_auc = auc(false_positive_rate, true_positive_rate)\n",
    "#print('Random Forests 1 AUC is :{0}'.format(round(rf1_roc_auc, 2)))\n",
    "\n",
    "# Create and print a confusion matrix \n",
    "#print('Random Forests Confusion Matrix')\n",
    "#print('----------------')\n",
    "#pd.crosstab(y_test, rf1_y_pred, rownames=['True'], colnames=['Predicted'], margins=True)"
   ]
  },
  {
   "cell_type": "markdown",
   "metadata": {},
   "source": [
    "## GridSearch_CV & Random Forests 2"
   ]
  },
  {
   "cell_type": "code",
   "execution_count": 82,
   "metadata": {
    "ExecuteTime": {
     "end_time": "2022-02-24T20:59:49.772146Z",
     "start_time": "2022-02-24T20:59:49.769823Z"
    }
   },
   "outputs": [],
   "source": [
    "rf2_clf = RandomForestClassifier(random_state=23, class_weight=\"balanced\")"
   ]
  },
  {
   "cell_type": "code",
   "execution_count": 83,
   "metadata": {
    "ExecuteTime": {
     "end_time": "2022-02-24T20:59:49.775095Z",
     "start_time": "2022-02-24T20:59:49.772996Z"
    }
   },
   "outputs": [],
   "source": [
    "rf_param_grid = {\n",
    "    'n_estimators': [10, 30, 100],\n",
    "    'criterion': ['gini', 'entropy'],\n",
    "    'max_depth': [None, 2, 6, 10],\n",
    "    'min_samples_split': [5, 10],\n",
    "    'min_samples_leaf': [3, 6]\n",
    "}"
   ]
  },
  {
   "cell_type": "code",
   "execution_count": 84,
   "metadata": {
    "ExecuteTime": {
     "end_time": "2022-02-24T21:00:13.218335Z",
     "start_time": "2022-02-24T20:59:49.776084Z"
    }
   },
   "outputs": [
    {
     "name": "stdout",
     "output_type": "stream",
     "text": [
      "Random Forest 2 Training Accuracy: 90.75%\n",
      "\n",
      "\n",
      "Random Forest 2 Optimal Parameters: {'criterion': 'entropy', 'max_depth': None, 'min_samples_leaf': 6, 'min_samples_split': 5, 'n_estimators': 100}\n"
     ]
    }
   ],
   "source": [
    "#rf2_grid_search = GridSearchCV(rf2_clf, rf_param_grid, scoring = 'recall', cv=3)\n",
    "rf2_grid_search = GridSearchCV(rf2_clf, rf_param_grid, scoring = 'f1', cv=3)\n",
    "rf2_grid_search.fit(X_train, y_train)\n",
    "\n",
    "print(f\"Random Forest 2 Training Accuracy: {rf2_grid_search.best_score_ :.2%}\")\n",
    "print(\"\")\n",
    "# Mean test score\n",
    "rf2_gs_testing_score = rf2_grid_search.score(X_test, y_test)\n",
    "print(\"\")\n",
    "print(f\"Random Forest 2 Optimal Parameters: {rf2_grid_search.best_params_}\")"
   ]
  },
  {
   "cell_type": "code",
   "execution_count": 85,
   "metadata": {
    "ExecuteTime": {
     "end_time": "2022-02-24T21:00:13.221224Z",
     "start_time": "2022-02-24T21:00:13.219414Z"
    }
   },
   "outputs": [
    {
     "name": "stdout",
     "output_type": "stream",
     "text": [
      "Random Forests 2 Mean Test Score: 90.67%\n"
     ]
    }
   ],
   "source": [
    "print(f\"Random Forests 2 Mean Test Score: {rf2_gs_testing_score :.2%}\")"
   ]
  },
  {
   "cell_type": "code",
   "execution_count": 86,
   "metadata": {
    "ExecuteTime": {
     "end_time": "2022-02-24T21:00:13.882309Z",
     "start_time": "2022-02-24T21:00:13.221936Z"
    }
   },
   "outputs": [
    {
     "name": "stdout",
     "output_type": "stream",
     "text": [
      "Random Forests 2 Mean Cross Validation Score: 96.32%\n"
     ]
    }
   ],
   "source": [
    "rf2_clf = RandomForestClassifier(criterion= 'entropy',\n",
    "                                max_depth= None,\n",
    "                                min_samples_leaf= 6,\n",
    "                                min_samples_split= 5,\n",
    "                                n_estimators= 100)\n",
    "\n",
    "mean_rf2_cv_score = np.mean(cross_val_score(rf2_clf, X_train, y_train, cv=3))\n",
    "\n",
    "print(f\"Random Forests 2 Mean Cross Validation Score: {mean_rf2_cv_score :.2%}\")"
   ]
  },
  {
   "cell_type": "code",
   "execution_count": 87,
   "metadata": {
    "ExecuteTime": {
     "end_time": "2022-02-24T21:00:13.884538Z",
     "start_time": "2022-02-24T21:00:13.883203Z"
    }
   },
   "outputs": [],
   "source": [
    "#rf2_clf = RandomForestClassifier(criterion= 'gini',\n",
    "#                                max_depth= None,\n",
    "#                                min_samples_leaf= 3,\n",
    "#                                min_samples_split= 5,\n",
    "#                                n_estimators= 100)\n",
    "\n",
    "#mean_rf2_cv_score = np.mean(cross_val_score(rf2_clf, X_train, y_train, cv=3))\n",
    "\n",
    "#print(f\"Random Forests 2 Mean Cross Validation Score: {mean_rf2_cv_score :.2%}\")"
   ]
  },
  {
   "cell_type": "code",
   "execution_count": 88,
   "metadata": {
    "ExecuteTime": {
     "end_time": "2022-02-24T21:00:14.193298Z",
     "start_time": "2022-02-24T21:00:13.885297Z"
    }
   },
   "outputs": [],
   "source": [
    "rf2_clf.fit(X_train, y_train)\n",
    "rf2_y_pred = rf2_clf.predict(X_test)\n",
    "#false_positive_rate, true_positive_rate, thresholds = roc_curve(y_test,rf2_y_pred)\n",
    "#rf2_roc_auc = auc(false_positive_rate, true_positive_rate)\n",
    "#rf2_roc_auc\n",
    "#print(f\"Random Forests 2 AUC Score: {rf2_roc_auc :.2%}\")"
   ]
  },
  {
   "cell_type": "markdown",
   "metadata": {},
   "source": [
    "### Evaluating Random Forests 2"
   ]
  },
  {
   "cell_type": "code",
   "execution_count": 89,
   "metadata": {
    "ExecuteTime": {
     "end_time": "2022-02-24T21:00:14.229666Z",
     "start_time": "2022-02-24T21:00:14.198227Z"
    }
   },
   "outputs": [
    {
     "name": "stdout",
     "output_type": "stream",
     "text": [
      "Random Forests 2 Accuracy is :96.88249400479616\n",
      "Random Forests 2 Precision is :100.0\n",
      "Random Forests 2 Recall is :78.51239669421489\n",
      "Random Forests 2 F1 Score is :87.96296296296296\n",
      "Random Forests 2 AUC is :0.89\n",
      "Random Forests 2 Confusion Matrix\n",
      "----------------\n"
     ]
    },
    {
     "data": {
      "text/html": [
       "<div>\n",
       "<style scoped>\n",
       "    .dataframe tbody tr th:only-of-type {\n",
       "        vertical-align: middle;\n",
       "    }\n",
       "\n",
       "    .dataframe tbody tr th {\n",
       "        vertical-align: top;\n",
       "    }\n",
       "\n",
       "    .dataframe thead th {\n",
       "        text-align: right;\n",
       "    }\n",
       "</style>\n",
       "<table border=\"1\" class=\"dataframe\">\n",
       "  <thead>\n",
       "    <tr style=\"text-align: right;\">\n",
       "      <th>Predicted</th>\n",
       "      <th>0</th>\n",
       "      <th>1</th>\n",
       "      <th>All</th>\n",
       "    </tr>\n",
       "    <tr>\n",
       "      <th>True</th>\n",
       "      <th></th>\n",
       "      <th></th>\n",
       "      <th></th>\n",
       "    </tr>\n",
       "  </thead>\n",
       "  <tbody>\n",
       "    <tr>\n",
       "      <th>0</th>\n",
       "      <td>713</td>\n",
       "      <td>0</td>\n",
       "      <td>713</td>\n",
       "    </tr>\n",
       "    <tr>\n",
       "      <th>1</th>\n",
       "      <td>26</td>\n",
       "      <td>95</td>\n",
       "      <td>121</td>\n",
       "    </tr>\n",
       "    <tr>\n",
       "      <th>All</th>\n",
       "      <td>739</td>\n",
       "      <td>95</td>\n",
       "      <td>834</td>\n",
       "    </tr>\n",
       "  </tbody>\n",
       "</table>\n",
       "</div>"
      ],
      "text/plain": [
       "Predicted    0   1  All\n",
       "True                   \n",
       "0          713   0  713\n",
       "1           26  95  121\n",
       "All        739  95  834"
      ]
     },
     "execution_count": 89,
     "metadata": {},
     "output_type": "execute_result"
    }
   ],
   "source": [
    "# Calculate Classification Metrics\n",
    "\n",
    "rf2_acc = accuracy_score(y_test, rf2_y_pred) * 100\n",
    "print('Random Forests 2 Accuracy is :{0}'.format(rf2_acc))\n",
    "rf2_prec = precision_score(y_test, rf2_y_pred) * 100\n",
    "print('Random Forests 2 Precision is :{0}'.format(rf2_prec))\n",
    "rf2_rcl = recall_score(y_test, rf2_y_pred) * 100\n",
    "print('Random Forests 2 Recall is :{0}'.format(rf2_rcl))\n",
    "rf2_f1 = f1_score(y_test, rf2_y_pred) * 100\n",
    "print('Random Forests 2 F1 Score is :{0}'.format(rf2_f1))\n",
    "false_positive_rate, true_positive_rate, thresholds = roc_curve(y_test, rf2_y_pred)\n",
    "rf2_roc_auc = auc(false_positive_rate, true_positive_rate)\n",
    "print('Random Forests 2 AUC is :{0}'.format(round(rf2_roc_auc, 2)))\n",
    "print('Random Forests 2 Confusion Matrix')\n",
    "print('----------------')\n",
    "pd.crosstab(y_test, rf2_y_pred, rownames=['True'], colnames=['Predicted'], margins=True)"
   ]
  },
  {
   "cell_type": "code",
   "execution_count": 90,
   "metadata": {
    "ExecuteTime": {
     "end_time": "2022-02-24T21:00:14.234297Z",
     "start_time": "2022-02-24T21:00:14.232653Z"
    }
   },
   "outputs": [],
   "source": [
    "# Calculate accuracy \n",
    "#rf2_acc = accuracy_score(y_test,rf2_y_pred) * 100\n",
    "#print('Random Forests 2 Accuracy is :{0}'.format(rf2_acc))\n",
    "\n",
    "# Check the AUC for predictions\n",
    "#false_positive_rate, true_positive_rate, thresholds = roc_curve(y_test, rf2_y_pred)\n",
    "#rf2_roc_auc = auc(false_positive_rate, true_positive_rate)\n",
    "#print('Random Forests 2 AUC is :{0}'.format(round(rf2_roc_auc, 2)))\n",
    "\n",
    "# Create and print a confusion matrix \n",
    "#print('Random Forests 2 Confusion Matrix')\n",
    "#print('----------------')\n",
    "#pd.crosstab(y_test, rf2_y_pred, rownames=['True'], colnames=['Predicted'], margins=True)"
   ]
  },
  {
   "cell_type": "code",
   "execution_count": null,
   "metadata": {},
   "outputs": [],
   "source": []
  },
  {
   "cell_type": "code",
   "execution_count": null,
   "metadata": {},
   "outputs": [],
   "source": []
  },
  {
   "cell_type": "code",
   "execution_count": 91,
   "metadata": {
    "ExecuteTime": {
     "end_time": "2022-02-24T21:00:14.236852Z",
     "start_time": "2022-02-24T21:00:14.235401Z"
    }
   },
   "outputs": [],
   "source": [
    "#dt2_score = dt2_grid_search.score(X_test, y_test)\n",
    "#rf2_score = rf2_grid_search.score(X_test, y_test)\n",
    "\n",
    "#print('Decision tree 2 grid search Score: ', dt2_score)\n",
    "#print('Random forest 2 grid search Score: ', rf2_score)"
   ]
  },
  {
   "cell_type": "markdown",
   "metadata": {},
   "source": [
    "## Modeling with Synthetic Samples (SMOTE)"
   ]
  },
  {
   "cell_type": "code",
   "execution_count": 92,
   "metadata": {
    "ExecuteTime": {
     "end_time": "2022-02-24T21:00:14.252644Z",
     "start_time": "2022-02-24T21:00:14.237786Z"
    }
   },
   "outputs": [],
   "source": [
    "balanced_df = model_df.copy()\n",
    "\n",
    "X = balanced_df.drop(['churn'], axis=1)\n",
    "y = balanced_df['churn']\n",
    "\n",
    "X_train, X_test, y_train, y_test = train_test_split(X, y, test_size=.25, stratify=y, random_state=23)\n",
    "\n",
    "smote = SMOTE()\n",
    "X_train_resampled, y_train_resampled = smote.fit_sample(X_train, y_train) "
   ]
  },
  {
   "cell_type": "code",
   "execution_count": 93,
   "metadata": {
    "ExecuteTime": {
     "end_time": "2022-02-24T21:00:14.256539Z",
     "start_time": "2022-02-24T21:00:14.253811Z"
    }
   },
   "outputs": [],
   "source": [
    "X = balanced_df.drop(['churn'], axis=1)\n",
    "y = balanced_df['churn']"
   ]
  },
  {
   "cell_type": "code",
   "execution_count": 94,
   "metadata": {
    "ExecuteTime": {
     "end_time": "2022-02-24T21:00:14.262344Z",
     "start_time": "2022-02-24T21:00:14.257610Z"
    }
   },
   "outputs": [],
   "source": [
    "X_train, X_test, y_train, y_test = train_test_split(X, y, test_size=.25, stratify=y, random_state=23)"
   ]
  },
  {
   "cell_type": "code",
   "execution_count": 95,
   "metadata": {
    "ExecuteTime": {
     "end_time": "2022-02-24T21:00:14.271814Z",
     "start_time": "2022-02-24T21:00:14.263375Z"
    }
   },
   "outputs": [],
   "source": [
    "smote = SMOTE()\n",
    "X_train_resampled, y_train_resampled = smote.fit_sample(X_train, y_train) "
   ]
  },
  {
   "cell_type": "markdown",
   "metadata": {},
   "source": [
    "## Decision Tree 3"
   ]
  },
  {
   "cell_type": "code",
   "execution_count": 96,
   "metadata": {
    "ExecuteTime": {
     "end_time": "2022-02-24T21:00:14.298962Z",
     "start_time": "2022-02-24T21:00:14.272806Z"
    }
   },
   "outputs": [],
   "source": [
    "dtree_3 = DecisionTreeClassifier(random_state=23, class_weight=\"balanced\")\n",
    "\n",
    "dtree_3.fit(X_train_resampled, y_train_resampled)\n",
    "dt3_y_pred = dtree_3.predict(X_test)"
   ]
  },
  {
   "cell_type": "code",
   "execution_count": 97,
   "metadata": {
    "ExecuteTime": {
     "end_time": "2022-02-24T21:00:14.328253Z",
     "start_time": "2022-02-24T21:00:14.300005Z"
    }
   },
   "outputs": [
    {
     "name": "stdout",
     "output_type": "stream",
     "text": [
      "DTree 3 Accuracy is :93.5251798561151\n",
      "DTree 3 Precision is :75.18796992481202\n",
      "DTree 3 Recall is :82.64462809917356\n",
      "DTree 3 F1 Score is :78.74015748031495\n",
      "DTree 3 AUC is :0.89\n",
      "DTree 3 Confusion Matrix\n",
      "----------------\n"
     ]
    },
    {
     "data": {
      "text/html": [
       "<div>\n",
       "<style scoped>\n",
       "    .dataframe tbody tr th:only-of-type {\n",
       "        vertical-align: middle;\n",
       "    }\n",
       "\n",
       "    .dataframe tbody tr th {\n",
       "        vertical-align: top;\n",
       "    }\n",
       "\n",
       "    .dataframe thead th {\n",
       "        text-align: right;\n",
       "    }\n",
       "</style>\n",
       "<table border=\"1\" class=\"dataframe\">\n",
       "  <thead>\n",
       "    <tr style=\"text-align: right;\">\n",
       "      <th>Predicted</th>\n",
       "      <th>0</th>\n",
       "      <th>1</th>\n",
       "      <th>All</th>\n",
       "    </tr>\n",
       "    <tr>\n",
       "      <th>True</th>\n",
       "      <th></th>\n",
       "      <th></th>\n",
       "      <th></th>\n",
       "    </tr>\n",
       "  </thead>\n",
       "  <tbody>\n",
       "    <tr>\n",
       "      <th>0</th>\n",
       "      <td>680</td>\n",
       "      <td>33</td>\n",
       "      <td>713</td>\n",
       "    </tr>\n",
       "    <tr>\n",
       "      <th>1</th>\n",
       "      <td>21</td>\n",
       "      <td>100</td>\n",
       "      <td>121</td>\n",
       "    </tr>\n",
       "    <tr>\n",
       "      <th>All</th>\n",
       "      <td>701</td>\n",
       "      <td>133</td>\n",
       "      <td>834</td>\n",
       "    </tr>\n",
       "  </tbody>\n",
       "</table>\n",
       "</div>"
      ],
      "text/plain": [
       "Predicted    0    1  All\n",
       "True                    \n",
       "0          680   33  713\n",
       "1           21  100  121\n",
       "All        701  133  834"
      ]
     },
     "execution_count": 97,
     "metadata": {},
     "output_type": "execute_result"
    }
   ],
   "source": [
    "# Calculate Classification Metrics\n",
    "\n",
    "dt3_acc = accuracy_score(y_test, dt3_y_pred) * 100\n",
    "print('DTree 3 Accuracy is :{0}'.format(dt3_acc))\n",
    "dt3_prec = precision_score(y_test, dt3_y_pred) * 100\n",
    "print('DTree 3 Precision is :{0}'.format(dt3_prec))\n",
    "dt3_rcl = recall_score(y_test, dt3_y_pred) * 100\n",
    "print('DTree 3 Recall is :{0}'.format(dt3_rcl))\n",
    "dt3_f1 = f1_score(y_test, dt3_y_pred) * 100\n",
    "print('DTree 3 F1 Score is :{0}'.format(dt3_f1))\n",
    "false_positive_rate, true_positive_rate, thresholds = roc_curve(y_test, dt3_y_pred)\n",
    "dt3_roc_auc = auc(false_positive_rate, true_positive_rate)\n",
    "print('DTree 3 AUC is :{0}'.format(round(dt3_roc_auc, 2)))\n",
    "print('DTree 3 Confusion Matrix')\n",
    "print('----------------')\n",
    "pd.crosstab(y_test, dt3_y_pred, rownames=['True'], colnames=['Predicted'], margins=True)"
   ]
  },
  {
   "cell_type": "markdown",
   "metadata": {},
   "source": [
    "## GridSearchCV"
   ]
  },
  {
   "cell_type": "code",
   "execution_count": 98,
   "metadata": {
    "ExecuteTime": {
     "end_time": "2022-02-24T21:00:22.355088Z",
     "start_time": "2022-02-24T21:00:14.330002Z"
    }
   },
   "outputs": [
    {
     "data": {
      "text/plain": [
       "GridSearchCV(cv=3,\n",
       "             estimator=DecisionTreeClassifier(class_weight='balanced',\n",
       "                                              random_state=23),\n",
       "             param_grid={'criterion': ['gini', 'entropy'],\n",
       "                         'max_depth': [None, 2, 3, 4, 5, 6],\n",
       "                         'min_samples_leaf': [1, 2, 3, 4, 5, 6],\n",
       "                         'min_samples_split': [2, 5, 10]},\n",
       "             return_train_score=True, scoring='f1')"
      ]
     },
     "execution_count": 98,
     "metadata": {},
     "output_type": "execute_result"
    }
   ],
   "source": [
    "dt3_grid_search = GridSearchCV(dtree_3, dt_param_grid, cv=3, scoring = 'f1', return_train_score=True)\n",
    "# Fit to the data\n",
    "dt3_grid_search.fit(X_train_resampled, y_train_resampled)"
   ]
  },
  {
   "cell_type": "code",
   "execution_count": 99,
   "metadata": {
    "ExecuteTime": {
     "end_time": "2022-02-24T21:00:22.361078Z",
     "start_time": "2022-02-24T21:00:22.355998Z"
    }
   },
   "outputs": [
    {
     "name": "stdout",
     "output_type": "stream",
     "text": [
      "DTree 3 Mean Training Score: 93.45%\n",
      "DTree 3 Mean Test Score: 90.09%\n",
      "DTree 3 Best Parameter Combination Found During Grid Search:\n"
     ]
    },
    {
     "data": {
      "text/plain": [
       "{'criterion': 'entropy',\n",
       " 'max_depth': 6,\n",
       " 'min_samples_leaf': 2,\n",
       " 'min_samples_split': 2}"
      ]
     },
     "execution_count": 99,
     "metadata": {},
     "output_type": "execute_result"
    }
   ],
   "source": [
    "# Mean training score\n",
    "dt3_gs_training_score = np.mean(dt3_grid_search.cv_results_['mean_train_score'])\n",
    "\n",
    "# Mean test score\n",
    "dt3_gs_testing_score = dt3_grid_search.score(X_test, y_test)\n",
    "\n",
    "print(f\"DTree 3 Mean Training Score: {dt3_gs_training_score :.2%}\")\n",
    "print(f\"DTree 3 Mean Test Score: {dt3_gs_testing_score :.2%}\")\n",
    "print(\"DTree 3 Best Parameter Combination Found During Grid Search:\")\n",
    "dt3_grid_search.best_params_"
   ]
  },
  {
   "cell_type": "markdown",
   "metadata": {},
   "source": [
    "## Decision Tree 4"
   ]
  },
  {
   "cell_type": "code",
   "execution_count": 100,
   "metadata": {
    "ExecuteTime": {
     "end_time": "2022-02-24T21:00:22.363975Z",
     "start_time": "2022-02-24T21:00:22.362382Z"
    }
   },
   "outputs": [],
   "source": [
    "dtree_4 = DecisionTreeClassifier(criterion='entropy', \n",
    "                           max_depth=6,\n",
    "                          min_samples_split=2,\n",
    "                           min_samples_leaf=3,\n",
    "                            random_state=23)"
   ]
  },
  {
   "cell_type": "code",
   "execution_count": 101,
   "metadata": {
    "ExecuteTime": {
     "end_time": "2022-02-24T21:00:22.382781Z",
     "start_time": "2022-02-24T21:00:22.364694Z"
    }
   },
   "outputs": [],
   "source": [
    "dtree_4.fit(X_train_resampled, y_train_resampled)\n",
    "dt4_y_pred = dtree_4.predict(X_test)"
   ]
  },
  {
   "cell_type": "code",
   "execution_count": 102,
   "metadata": {
    "ExecuteTime": {
     "end_time": "2022-02-24T21:00:22.415642Z",
     "start_time": "2022-02-24T21:00:22.384044Z"
    }
   },
   "outputs": [
    {
     "name": "stdout",
     "output_type": "stream",
     "text": [
      "DTree 4 Accuracy is :97.3621103117506\n",
      "DTree 4 Precision is :75.18796992481202\n",
      "DTree 4 Recall is :82.64462809917356\n",
      "DTree 4 F1 Score is :90.0900900900901\n",
      "DTree 4 AUC is :0.91\n",
      "DTree 4 Confusion Matrix\n",
      "----------------\n"
     ]
    },
    {
     "data": {
      "text/html": [
       "<div>\n",
       "<style scoped>\n",
       "    .dataframe tbody tr th:only-of-type {\n",
       "        vertical-align: middle;\n",
       "    }\n",
       "\n",
       "    .dataframe tbody tr th {\n",
       "        vertical-align: top;\n",
       "    }\n",
       "\n",
       "    .dataframe thead th {\n",
       "        text-align: right;\n",
       "    }\n",
       "</style>\n",
       "<table border=\"1\" class=\"dataframe\">\n",
       "  <thead>\n",
       "    <tr style=\"text-align: right;\">\n",
       "      <th>Predicted</th>\n",
       "      <th>0</th>\n",
       "      <th>1</th>\n",
       "      <th>All</th>\n",
       "    </tr>\n",
       "    <tr>\n",
       "      <th>True</th>\n",
       "      <th></th>\n",
       "      <th></th>\n",
       "      <th></th>\n",
       "    </tr>\n",
       "  </thead>\n",
       "  <tbody>\n",
       "    <tr>\n",
       "      <th>0</th>\n",
       "      <td>712</td>\n",
       "      <td>1</td>\n",
       "      <td>713</td>\n",
       "    </tr>\n",
       "    <tr>\n",
       "      <th>1</th>\n",
       "      <td>21</td>\n",
       "      <td>100</td>\n",
       "      <td>121</td>\n",
       "    </tr>\n",
       "    <tr>\n",
       "      <th>All</th>\n",
       "      <td>733</td>\n",
       "      <td>101</td>\n",
       "      <td>834</td>\n",
       "    </tr>\n",
       "  </tbody>\n",
       "</table>\n",
       "</div>"
      ],
      "text/plain": [
       "Predicted    0    1  All\n",
       "True                    \n",
       "0          712    1  713\n",
       "1           21  100  121\n",
       "All        733  101  834"
      ]
     },
     "execution_count": 102,
     "metadata": {},
     "output_type": "execute_result"
    }
   ],
   "source": [
    "# Calculate Classification Metrics\n",
    "\n",
    "dt4_acc = accuracy_score(y_test, dt4_y_pred) * 100\n",
    "print('DTree 4 Accuracy is :{0}'.format(dt4_acc))\n",
    "dt4_prec = precision_score(y_test, dt3_y_pred) * 100\n",
    "print('DTree 4 Precision is :{0}'.format(dt4_prec))\n",
    "dt4_rcl = recall_score(y_test, dt4_y_pred) * 100\n",
    "print('DTree 4 Recall is :{0}'.format(dt4_rcl))\n",
    "dt4_f1 = f1_score(y_test, dt4_y_pred) * 100\n",
    "print('DTree 4 F1 Score is :{0}'.format(dt4_f1))\n",
    "false_positive_rate, true_positive_rate, thresholds = roc_curve(y_test, dt4_y_pred)\n",
    "dt4_roc_auc = auc(false_positive_rate, true_positive_rate)\n",
    "print('DTree 4 AUC is :{0}'.format(round(dt4_roc_auc, 2)))\n",
    "print('DTree 4 Confusion Matrix')\n",
    "print('----------------')\n",
    "pd.crosstab(y_test, dt4_y_pred, rownames=['True'], colnames=['Predicted'], margins=True)"
   ]
  },
  {
   "cell_type": "markdown",
   "metadata": {},
   "source": [
    "## Random Forests 3"
   ]
  },
  {
   "cell_type": "code",
   "execution_count": 103,
   "metadata": {
    "ExecuteTime": {
     "end_time": "2022-02-24T21:00:22.418590Z",
     "start_time": "2022-02-24T21:00:22.416652Z"
    }
   },
   "outputs": [],
   "source": [
    "rf3_clf = RandomForestClassifier(random_state=23, class_weight=\"balanced\")"
   ]
  },
  {
   "cell_type": "code",
   "execution_count": 104,
   "metadata": {
    "ExecuteTime": {
     "end_time": "2022-02-24T21:00:55.022941Z",
     "start_time": "2022-02-24T21:00:22.419687Z"
    }
   },
   "outputs": [
    {
     "name": "stdout",
     "output_type": "stream",
     "text": [
      "Random Forest 3 Training Accuracy: 97.09%\n",
      "\n",
      "\n",
      "Random Forest 3 Optimal Parameters: {'criterion': 'entropy', 'max_depth': None, 'min_samples_leaf': 3, 'min_samples_split': 5, 'n_estimators': 30}\n"
     ]
    }
   ],
   "source": [
    "#rf2_grid_search = GridSearchCV(rf2_clf, rf_param_grid, scoring = 'recall', cv=3)\n",
    "rf3_grid_search = GridSearchCV(rf3_clf, rf_param_grid, scoring = 'f1', cv=3)\n",
    "rf3_grid_search.fit(X_train_resampled, y_train_resampled)\n",
    "\n",
    "print(f\"Random Forest 3 Training Accuracy: {rf3_grid_search.best_score_ :.2%}\")\n",
    "print(\"\")\n",
    "# Mean test score\n",
    "rf3_gs_testing_score = rf3_grid_search.score(X_test, y_test)\n",
    "print(\"\")\n",
    "print(f\"Random Forest 3 Optimal Parameters: {rf3_grid_search.best_params_}\")"
   ]
  },
  {
   "cell_type": "code",
   "execution_count": 105,
   "metadata": {
    "ExecuteTime": {
     "end_time": "2022-02-24T21:00:56.020833Z",
     "start_time": "2022-02-24T21:00:55.023949Z"
    }
   },
   "outputs": [
    {
     "name": "stdout",
     "output_type": "stream",
     "text": [
      "Random Forests 3 Mean Cross Validation Score: 97.08%\n"
     ]
    }
   ],
   "source": [
    "rf3_clf = RandomForestClassifier(criterion= 'entropy',\n",
    "                                max_depth= None,\n",
    "                                min_samples_leaf= 3,\n",
    "                                min_samples_split= 5,\n",
    "                                n_estimators= 100)\n",
    "\n",
    "mean_rf3_cv_score = np.mean(cross_val_score(rf3_clf, X_train_resampled, y_train_resampled, cv=3))\n",
    "\n",
    "print(f\"Random Forests 3 Mean Cross Validation Score: {mean_rf3_cv_score :.2%}\")"
   ]
  },
  {
   "cell_type": "code",
   "execution_count": 106,
   "metadata": {
    "ExecuteTime": {
     "end_time": "2022-02-24T21:00:56.491450Z",
     "start_time": "2022-02-24T21:00:56.021805Z"
    }
   },
   "outputs": [],
   "source": [
    "rf3_clf.fit(X_train_resampled, y_train_resampled)\n",
    "rf3_y_pred = rf3_clf.predict(X_test)"
   ]
  },
  {
   "cell_type": "code",
   "execution_count": 107,
   "metadata": {
    "ExecuteTime": {
     "end_time": "2022-02-24T21:00:56.521371Z",
     "start_time": "2022-02-24T21:00:56.492458Z"
    }
   },
   "outputs": [
    {
     "name": "stdout",
     "output_type": "stream",
     "text": [
      "Random Forests 3 Accuracy is :97.48201438848922\n",
      "Random Forests 3 Precision is :98.07692307692307\n",
      "Random Forests 3 Recall is :84.29752066115702\n",
      "Random Forests 3 F1 Score is :90.66666666666666\n",
      "Random Forests 3 AUC is :0.92\n",
      "Random Forest 3 Training Accuracy: 97.09%\n",
      "Random Forests 3 Mean Cross Validation Score: 97.08%\n",
      "Random Forests 3 Confusion Matrix\n",
      "----------------\n"
     ]
    },
    {
     "data": {
      "text/html": [
       "<div>\n",
       "<style scoped>\n",
       "    .dataframe tbody tr th:only-of-type {\n",
       "        vertical-align: middle;\n",
       "    }\n",
       "\n",
       "    .dataframe tbody tr th {\n",
       "        vertical-align: top;\n",
       "    }\n",
       "\n",
       "    .dataframe thead th {\n",
       "        text-align: right;\n",
       "    }\n",
       "</style>\n",
       "<table border=\"1\" class=\"dataframe\">\n",
       "  <thead>\n",
       "    <tr style=\"text-align: right;\">\n",
       "      <th>Predicted</th>\n",
       "      <th>0</th>\n",
       "      <th>1</th>\n",
       "      <th>All</th>\n",
       "    </tr>\n",
       "    <tr>\n",
       "      <th>True</th>\n",
       "      <th></th>\n",
       "      <th></th>\n",
       "      <th></th>\n",
       "    </tr>\n",
       "  </thead>\n",
       "  <tbody>\n",
       "    <tr>\n",
       "      <th>0</th>\n",
       "      <td>711</td>\n",
       "      <td>2</td>\n",
       "      <td>713</td>\n",
       "    </tr>\n",
       "    <tr>\n",
       "      <th>1</th>\n",
       "      <td>19</td>\n",
       "      <td>102</td>\n",
       "      <td>121</td>\n",
       "    </tr>\n",
       "    <tr>\n",
       "      <th>All</th>\n",
       "      <td>730</td>\n",
       "      <td>104</td>\n",
       "      <td>834</td>\n",
       "    </tr>\n",
       "  </tbody>\n",
       "</table>\n",
       "</div>"
      ],
      "text/plain": [
       "Predicted    0    1  All\n",
       "True                    \n",
       "0          711    2  713\n",
       "1           19  102  121\n",
       "All        730  104  834"
      ]
     },
     "execution_count": 107,
     "metadata": {},
     "output_type": "execute_result"
    }
   ],
   "source": [
    "# Calculate Classification Metrics\n",
    "\n",
    "rf3_acc = accuracy_score(y_test, rf3_y_pred) * 100\n",
    "print('Random Forests 3 Accuracy is :{0}'.format(rf3_acc))\n",
    "rf3_prec = precision_score(y_test, rf3_y_pred) * 100\n",
    "print('Random Forests 3 Precision is :{0}'.format(rf3_prec))\n",
    "rf3_rcl = recall_score(y_test, rf3_y_pred) * 100\n",
    "print('Random Forests 3 Recall is :{0}'.format(rf3_rcl))\n",
    "rf3_f1 = f1_score(y_test, rf3_y_pred) * 100\n",
    "print('Random Forests 3 F1 Score is :{0}'.format(rf3_f1))\n",
    "false_positive_rate, true_positive_rate, thresholds = roc_curve(y_test, rf3_y_pred)\n",
    "rf3_roc_auc = auc(false_positive_rate, true_positive_rate)\n",
    "print('Random Forests 3 AUC is :{0}'.format(round(rf3_roc_auc, 2)))\n",
    "print(f\"Random Forest 3 Training Accuracy: {rf3_grid_search.best_score_ :.2%}\")\n",
    "print(f\"Random Forests 3 Mean Cross Validation Score: {mean_rf3_cv_score :.2%}\")\n",
    "print('Random Forests 3 Confusion Matrix')\n",
    "print('----------------')\n",
    "pd.crosstab(y_test, rf3_y_pred, rownames=['True'], colnames=['Predicted'], margins=True)"
   ]
  },
  {
   "cell_type": "code",
   "execution_count": 108,
   "metadata": {
    "ExecuteTime": {
     "end_time": "2022-02-24T21:00:56.639100Z",
     "start_time": "2022-02-24T21:00:56.522306Z"
    }
   },
   "outputs": [
    {
     "data": {
      "image/png": "[encoded data removed]",
      "text/plain": [
       "<Figure size 432x288 with 2 Axes>"
      ]
     },
     "metadata": {},
     "output_type": "display_data"
    }
   ],
   "source": [
    "plot_confusion_matrix(rf3_clf, X_test, y_test,\n",
    "                     cmap='viridis')\n",
    "plt.show()"
   ]
  },
  {
   "cell_type": "markdown",
   "metadata": {},
   "source": [
    "## Comparisons"
   ]
  },
  {
   "cell_type": "code",
   "execution_count": 109,
   "metadata": {
    "ExecuteTime": {
     "end_time": "2022-02-24T21:00:56.661673Z",
     "start_time": "2022-02-24T21:00:56.640384Z"
    }
   },
   "outputs": [
    {
     "ename": "NameError",
     "evalue": "name 'dt1_rcl' is not defined",
     "output_type": "error",
     "traceback": [
      "\u001b[0;31m---------------------------------------------------------------------------\u001b[0m",
      "\u001b[0;31mNameError\u001b[0m                                 Traceback (most recent call last)",
      "\u001b[0;32m<ipython-input-109-5e0f6cd72bf2>\u001b[0m in \u001b[0;36m<module>\u001b[0;34m\u001b[0m\n\u001b[1;32m      1\u001b[0m \u001b[0;31m#Recall\u001b[0m\u001b[0;34m\u001b[0m\u001b[0;34m\u001b[0m\u001b[0;34m\u001b[0m\u001b[0m\n\u001b[0;32m----> 2\u001b[0;31m \u001b[0mprint\u001b[0m\u001b[0;34m(\u001b[0m\u001b[0;34m'DTree 1 Recall is :{0}'\u001b[0m\u001b[0;34m.\u001b[0m\u001b[0mformat\u001b[0m\u001b[0;34m(\u001b[0m\u001b[0mdt1_rcl\u001b[0m\u001b[0;34m)\u001b[0m\u001b[0;34m)\u001b[0m\u001b[0;34m\u001b[0m\u001b[0;34m\u001b[0m\u001b[0m\n\u001b[0m\u001b[1;32m      3\u001b[0m \u001b[0mprint\u001b[0m\u001b[0;34m(\u001b[0m\u001b[0;34m'DTree 2 Recall is :{0}'\u001b[0m\u001b[0;34m.\u001b[0m\u001b[0mformat\u001b[0m\u001b[0;34m(\u001b[0m\u001b[0mdt2_rcl\u001b[0m\u001b[0;34m)\u001b[0m\u001b[0;34m)\u001b[0m\u001b[0;34m\u001b[0m\u001b[0;34m\u001b[0m\u001b[0m\n\u001b[1;32m      4\u001b[0m \u001b[0mprint\u001b[0m\u001b[0;34m(\u001b[0m\u001b[0;34m'DTree 3 Recall is :{0}'\u001b[0m\u001b[0;34m.\u001b[0m\u001b[0mformat\u001b[0m\u001b[0;34m(\u001b[0m\u001b[0mdt3_rcl\u001b[0m\u001b[0;34m)\u001b[0m\u001b[0;34m)\u001b[0m\u001b[0;34m\u001b[0m\u001b[0;34m\u001b[0m\u001b[0m\n\u001b[1;32m      5\u001b[0m \u001b[0mprint\u001b[0m\u001b[0;34m(\u001b[0m\u001b[0;34m'DTree 4 Recall is :{0}'\u001b[0m\u001b[0;34m.\u001b[0m\u001b[0mformat\u001b[0m\u001b[0;34m(\u001b[0m\u001b[0mdt4_rcl\u001b[0m\u001b[0;34m)\u001b[0m\u001b[0;34m)\u001b[0m\u001b[0;34m\u001b[0m\u001b[0;34m\u001b[0m\u001b[0m\n",
      "\u001b[0;31mNameError\u001b[0m: name 'dt1_rcl' is not defined"
     ]
    }
   ],
   "source": [
    "#Recall\n",
    "print('DTree 1 Recall is :{0}'.format(dt1_rcl))\n",
    "print('DTree 2 Recall is :{0}'.format(dt2_rcl))\n",
    "print('DTree 3 Recall is :{0}'.format(dt3_rcl))\n",
    "print('DTree 4 Recall is :{0}'.format(dt4_rcl))\n",
    "print('Random Forests 1 Recall is :{0}'.format(rf1_rcl))\n",
    "print('Random Forests 2 Recall is :{0}'.format(rf2_rcl))\n",
    "print('Random Forests 3 Recall is :{0}'.format(rf3_rcl))"
   ]
  },
  {
   "cell_type": "code",
   "execution_count": null,
   "metadata": {
    "ExecuteTime": {
     "end_time": "2022-02-24T21:00:57.192735Z",
     "start_time": "2022-02-24T20:59:48.213Z"
    }
   },
   "outputs": [],
   "source": [
    "#Precision\n",
    "print('DTree 1 Precision is :{0}'.format(dt1_prec))\n",
    "print('DTree 2 Precision is :{0}'.format(dt2_prec))\n",
    "print('DTree 3 Precision is :{0}'.format(dt3_prec))\n",
    "print('DTree 4 Precision is :{0}'.format(dt4_prec))\n",
    "print('Random Forests 1 Precision is :{0}'.format(rf1_prec))\n",
    "print('Random Forests 2 Precision is :{0}'.format(rf2_prec))\n",
    "print('Random Forests 3 Precision is :{0}'.format(rf3_prec))"
   ]
  },
  {
   "cell_type": "code",
   "execution_count": null,
   "metadata": {
    "ExecuteTime": {
     "end_time": "2022-02-24T21:00:57.193394Z",
     "start_time": "2022-02-24T20:59:48.221Z"
    }
   },
   "outputs": [],
   "source": [
    "#F1 Score\n",
    "print('DTree 1 F1 Score is :{0}'.format(dt1_f1))\n",
    "print('DTree 2 F1 Score is :{0}'.format(dt2_f1))\n",
    "print('DTree 3 F1 Score is :{0}'.format(dt3_f1))\n",
    "print('DTree 4 F1 Score is :{0}'.format(dt4_f1))\n",
    "print('Random Forests 1 F1 Score is :{0}'.format(rf1_f1))\n",
    "print('Random Forests 2 F1 Score is :{0}'.format(rf2_f1))\n",
    "print('Random Forests 3 F1 Score is :{0}'.format(rf3_f1))"
   ]
  },
  {
   "cell_type": "code",
   "execution_count": null,
   "metadata": {
    "ExecuteTime": {
     "end_time": "2022-02-24T21:00:57.193967Z",
     "start_time": "2022-02-24T20:59:48.228Z"
    }
   },
   "outputs": [],
   "source": [
    "#ROC AUC\n",
    "print('DTree 1 AUC is :{0}'.format(round(dt1_roc_auc, 2)))\n",
    "print('DTree 2 AUC is :{0}'.format(round(dt2_roc_auc, 2)))\n",
    "print('DTree 3 AUC is :{0}'.format(round(dt3_roc_auc, 2)))\n",
    "print('DTree 4 AUC is :{0}'.format(round(dt4_roc_auc, 2)))\n",
    "print('Random Forests 1 AUC is :{0}'.format(round(rf1_roc_auc, 2)))\n",
    "print('Random Forests 2 AUC is :{0}'.format(round(rf2_roc_auc, 2)))\n",
    "print('Random Forests 3 AUC is :{0}'.format(round(rf3_roc_auc, 2)))"
   ]
  },
  {
   "cell_type": "code",
   "execution_count": null,
   "metadata": {
    "ExecuteTime": {
     "end_time": "2022-02-24T21:00:57.194567Z",
     "start_time": "2022-02-24T20:59:48.235Z"
    }
   },
   "outputs": [],
   "source": [
    "#Accuracy\n",
    "print('DTree 1 Accuracy is :{0}'.format(dt1_acc))\n",
    "print('DTree 2 Accuracy is :{0}'.format(dt2_acc))\n",
    "print('DTree 3 Accuracy is :{0}'.format(dt3_acc))\n",
    "print('DTree 4 Accuracy is :{0}'.format(dt4_acc))\n",
    "print('Random Forests 1 Accuracy is :{0}'.format(rf1_acc))\n",
    "print('Random Forests 2 Accuracy is :{0}'.format(rf2_acc))\n",
    "print('Random Forests 3 Accuracy is :{0}'.format(rf3_acc))"
   ]
  },
  {
   "cell_type": "code",
   "execution_count": null,
   "metadata": {
    "ExecuteTime": {
     "end_time": "2022-02-24T21:00:57.195326Z",
     "start_time": "2022-02-24T20:59:48.242Z"
    }
   },
   "outputs": [],
   "source": [
    "print('\\n DTree 1 Confusion Matrix')\n",
    "print('----------------')\n",
    "print(pd.crosstab(y_test, dt1_y_pred, rownames=['True'], colnames=['Predicted'], margins=True))\n",
    "print('----------------')\n",
    "print('----------------')\n",
    "print('DTree 2 Confusion Matrix')\n",
    "print('----------------')\n",
    "print(pd.crosstab(y_test, dt2_y_pred, rownames=['True'], colnames=['Predicted'], margins=True))\n",
    "print('----------------')\n",
    "print('----------------')\n",
    "print('DTree 3 Confusion Matrix')\n",
    "print('----------------')\n",
    "print(pd.crosstab(y_test, dt3_y_pred, rownames=['True'], colnames=['Predicted'], margins=True))\n",
    "print('----------------')\n",
    "print('----------------')\n",
    "print('DTree 4 Confusion Matrix')\n",
    "print('----------------')\n",
    "print(pd.crosstab(y_test, dt4_y_pred, rownames=['True'], colnames=['Predicted'], margins=True))\n",
    "print('----------------')\n",
    "print('----------------')\n",
    "print('Random Forests 1 Confusion Matrix')\n",
    "print('----------------')\n",
    "print(pd.crosstab(y_test, rf1_y_pred, rownames=['True'], colnames=['Predicted'], margins=True))\n",
    "print('----------------')\n",
    "print('----------------')\n",
    "print('Random Forests 2 Confusion Matrix')\n",
    "print('----------------')\n",
    "print(pd.crosstab(y_test, rf2_y_pred, rownames=['True'], colnames=['Predicted'], margins=True))\n",
    "print('----------------')\n",
    "print('----------------')\n",
    "print('Random Forests 3 Confusion Matrix')\n",
    "print('----------------')\n",
    "print(pd.crosstab(y_test, rf3_y_pred, rownames=['True'], colnames=['Predicted'], margins=True))"
   ]
  },
  {
   "cell_type": "code",
   "execution_count": null,
   "metadata": {
    "ExecuteTime": {
     "end_time": "2022-02-24T21:00:57.195940Z",
     "start_time": "2022-02-24T20:59:48.249Z"
    }
   },
   "outputs": [],
   "source": [
    "#Comparing the Tuned Models\n",
    "print(f\"DTree 2 Mean Training Score: {dt2_gs_training_score :.2%}\")\n",
    "print(f\"DTree 2 Mean Test Score: {dt2_gs_testing_score :.2%}\")\n",
    "print('--------------------------------')\n",
    "print(f\"Random Forest 2 Training Accuracy: {rf2_grid_search.best_score_ :.2%}\")\n",
    "print(f\"Random Forest 2 Mean Test Score: {rf2_gs_testing_score :.2%}\")"
   ]
  },
  {
   "cell_type": "code",
   "execution_count": null,
   "metadata": {
    "ExecuteTime": {
     "end_time": "2022-02-24T21:00:57.196624Z",
     "start_time": "2022-02-24T20:59:48.256Z"
    }
   },
   "outputs": [],
   "source": [
    "#print(f\"DTree 1 Mean Cross Validation Score: {mean_dt1_cv_score :.2%}\")\n",
    "#print(f\"DTree 1 Mean Training Score: {dt1_gs_training_score :.2%}\")\n",
    "#print(f\"DTree 1 Mean Test Score: {dt1_gs_testing_score :.2%}\")\n",
    "#print('Decision tree 1 grid search Score: ', dt1_score)\n",
    "#print(f\"DTree 1 AUC Score: {dt1_roc_auc :.2%}\")\n",
    "print('--------------------------------')\n",
    "#print(f\"RandomForest 1 Mean Cross Validation Score: {mean_rf1_cv_score :.2%}\")\n",
    "#print(f\"Random Forest 1 Training Accuracy: {rf1_grid_search.best_score_ :.2%}\")\n",
    "#print('Random forest 1 grid search Score: ', rf1_score)\n",
    "#print(f\"Random Forests 1 AUC Score: {rf1_roc_auc :.2%}\")\n",
    "print('--------------------------------')\n",
    "#print(f\"DTree 2 Mean Cross Validation Score: {mean_dt2_cv_score :.2%}\")\n",
    "print('--------------------------------')\n",
    "#print(f\"Random Forests 2 Mean Cross Validation Score: {mean_rf2_cv_score :.2%}\")\n"
   ]
  },
  {
   "cell_type": "markdown",
   "metadata": {},
   "source": [
    "### Analysis:\n",
    "    - Explain what cross validation score means\n",
    "    - explain what training score means\n",
    "    - explain what test score means\n",
    "    - explain what grid search score means\n",
    "    - explain what ROC AUC score means"
   ]
  },
  {
   "cell_type": "markdown",
   "metadata": {},
   "source": [
    "## Optimal Parameters"
   ]
  },
  {
   "cell_type": "code",
   "execution_count": null,
   "metadata": {
    "ExecuteTime": {
     "end_time": "2022-02-24T21:00:57.197175Z",
     "start_time": "2022-02-24T20:59:48.264Z"
    }
   },
   "outputs": [],
   "source": [
    "#print(\"DTree 2 Best Parameter Combination Found During Grid Search:\")\n",
    "#dt2_grid_search.best_params_"
   ]
  },
  {
   "cell_type": "code",
   "execution_count": null,
   "metadata": {
    "ExecuteTime": {
     "end_time": "2022-02-24T21:00:57.197802Z",
     "start_time": "2022-02-24T20:59:48.272Z"
    }
   },
   "outputs": [],
   "source": [
    "print(f\"Random Forest 1 Optimal Parameters: {rf2_grid_search.best_params_}\")"
   ]
  },
  {
   "cell_type": "markdown",
   "metadata": {},
   "source": [
    "## Feature Importance"
   ]
  },
  {
   "cell_type": "markdown",
   "metadata": {},
   "source": [
    "### Currently set to analyze Random Forests 3"
   ]
  },
  {
   "cell_type": "code",
   "execution_count": null,
   "metadata": {
    "ExecuteTime": {
     "end_time": "2022-02-24T21:00:57.198451Z",
     "start_time": "2022-02-24T20:59:48.280Z"
    }
   },
   "outputs": [],
   "source": [
    "#final_model = "
   ]
  },
  {
   "cell_type": "code",
   "execution_count": null,
   "metadata": {
    "ExecuteTime": {
     "end_time": "2022-02-24T21:00:57.199004Z",
     "start_time": "2022-02-24T20:59:48.288Z"
    }
   },
   "outputs": [],
   "source": [
    "feature_names = list(X)\n",
    "feature_names"
   ]
  },
  {
   "cell_type": "code",
   "execution_count": null,
   "metadata": {
    "ExecuteTime": {
     "end_time": "2022-02-24T21:00:57.199698Z",
     "start_time": "2022-02-24T20:59:48.295Z"
    }
   },
   "outputs": [],
   "source": [
    "rf2_importance = rf2_clf.feature_importances_\n",
    "rf2_importance"
   ]
  },
  {
   "cell_type": "code",
   "execution_count": null,
   "metadata": {
    "ExecuteTime": {
     "end_time": "2022-02-24T21:00:57.200252Z",
     "start_time": "2022-02-24T20:59:48.302Z"
    }
   },
   "outputs": [],
   "source": [
    "#dt2_importance = dtree_2.feature_importances_\n",
    "#dt2_importance"
   ]
  },
  {
   "cell_type": "markdown",
   "metadata": {},
   "source": [
    "###  SORTED"
   ]
  },
  {
   "cell_type": "code",
   "execution_count": null,
   "metadata": {
    "ExecuteTime": {
     "end_time": "2022-02-24T21:00:57.200827Z",
     "start_time": "2022-02-24T20:59:48.311Z"
    }
   },
   "outputs": [],
   "source": [
    "#feature_importance_df = pd.DataFrame(rf2_importance, feature_names)\n",
    "feature_importance_df = pd.DataFrame(rf2_importance, feature_names)\n",
    "feature_importance_df= feature_importance_df.reset_index()\n",
    "feature_importance_df.rename(columns={'index': 'Feature', 0: 'Importance'}, inplace=True)\n",
    "feature_importance_df = feature_importance_df.sort_values('Importance', ascending=False)\n",
    "feature_importance_df"
   ]
  },
  {
   "cell_type": "code",
   "execution_count": null,
   "metadata": {
    "ExecuteTime": {
     "end_time": "2022-02-24T21:00:57.201389Z",
     "start_time": "2022-02-24T20:59:48.320Z"
    }
   },
   "outputs": [],
   "source": [
    "# plot feature importance\n",
    "fig, ax = plt.subplots(figsize=(50,20))\n",
    "#p = sns.barplot(data=feature_importance_df, x='Feature', y='Importance' );\n",
    "p = sns.barplot(data=feature_importance_df, x='Importance', y='Feature', color='purple' );\n",
    "p.set_xlabel(\"Importance\", fontsize = 50)\n",
    "\n",
    "p.set_ylabel(\"Feature\", fontsize = 50)\n",
    "plt.xticks(fontsize=30)\n",
    "plt.yticks(fontsize=30)\n",
    "#p.yaxis.set_major_formatter(display_millions)\n",
    "p.set_title(\"Features by Importance\", fontsize = 100)\n",
    "plt.figsize=(30,20) \n",
    "#plt.savefig('images/project_1_bar_3')\n",
    "\n",
    "plt.show();"
   ]
  },
  {
   "cell_type": "code",
   "execution_count": null,
   "metadata": {
    "ExecuteTime": {
     "end_time": "2022-02-24T21:00:57.202053Z",
     "start_time": "2022-02-24T20:59:48.327Z"
    }
   },
   "outputs": [],
   "source": [
    "X.info()"
   ]
  },
  {
   "cell_type": "code",
   "execution_count": null,
   "metadata": {},
   "outputs": [],
   "source": []
  },
  {
   "cell_type": "markdown",
   "metadata": {},
   "source": [
    "## Analysis\n",
    "- Figure out how to rank feature importance as this is the ultimate outcome for my business problem.\n",
    "- VISUALIZE!!!!"
   ]
  },
  {
   "cell_type": "markdown",
   "metadata": {
    "ExecuteTime": {
     "end_time": "2022-02-22T22:01:01.634226Z",
     "start_time": "2022-02-22T22:01:01.628672Z"
    }
   },
   "source": [
    "# Analysis of Churn Rate"
   ]
  },
  {
   "cell_type": "code",
   "execution_count": null,
   "metadata": {
    "ExecuteTime": {
     "end_time": "2022-02-24T21:00:57.202635Z",
     "start_time": "2022-02-24T20:59:48.340Z"
    }
   },
   "outputs": [],
   "source": [
    "analysis_df = cleaned_df.copy()"
   ]
  },
  {
   "cell_type": "markdown",
   "metadata": {},
   "source": [
    "New as of 2/22 5PM"
   ]
  },
  {
   "cell_type": "markdown",
   "metadata": {},
   "source": [
    "## Customer Service Calls vs. Churn"
   ]
  },
  {
   "cell_type": "code",
   "execution_count": null,
   "metadata": {
    "ExecuteTime": {
     "end_time": "2022-02-24T21:00:57.203179Z",
     "start_time": "2022-02-24T20:59:48.350Z"
    }
   },
   "outputs": [],
   "source": [
    "cs_churn_df = analysis_df.groupby('customer_service_calls')['churn'].sum().reset_index()\n",
    "cs_churn_df = cs_churn_df.rename(columns={\"customer_service_calls\": \"#_of_calls\"})\n",
    "variable_1 = analysis_df['customer_service_calls'].value_counts().reset_index()\n",
    "variable_1 = variable_1.rename(columns={\"index\": \"#_of_calls\", \"customer_service_calls\": \"#_of_accounts\"})\n",
    "cs_churn_df = cs_churn_df.merge(variable_1, on='#_of_calls')\n",
    "churn_rate = cs_churn_df.apply(lambda x: x['churn'] / x['#_of_accounts'], axis=1)\n",
    "cs_churn_df['churn_rate']= churn_rate\n",
    "cs_churn_df"
   ]
  },
  {
   "cell_type": "code",
   "execution_count": null,
   "metadata": {
    "ExecuteTime": {
     "end_time": "2022-02-24T21:00:57.203750Z",
     "start_time": "2022-02-24T20:59:48.359Z"
    }
   },
   "outputs": [],
   "source": [
    "cs_churn_df"
   ]
  },
  {
   "cell_type": "code",
   "execution_count": null,
   "metadata": {
    "ExecuteTime": {
     "end_time": "2022-02-24T21:00:57.204376Z",
     "start_time": "2022-02-24T20:59:48.367Z"
    }
   },
   "outputs": [],
   "source": [
    "cs_churn_df = cs_churn_df.rename(columns={\"customer_service_calls\": \"#_of_calls\"})"
   ]
  },
  {
   "cell_type": "code",
   "execution_count": null,
   "metadata": {
    "ExecuteTime": {
     "end_time": "2022-02-24T21:00:57.204972Z",
     "start_time": "2022-02-24T20:59:48.375Z"
    }
   },
   "outputs": [],
   "source": [
    "cs_churn_df"
   ]
  },
  {
   "cell_type": "code",
   "execution_count": null,
   "metadata": {
    "ExecuteTime": {
     "end_time": "2022-02-24T21:00:57.205572Z",
     "start_time": "2022-02-24T20:59:48.382Z"
    }
   },
   "outputs": [],
   "source": [
    "variable_1 = analysis_df['customer_service_calls'].value_counts().reset_index()"
   ]
  },
  {
   "cell_type": "code",
   "execution_count": null,
   "metadata": {
    "ExecuteTime": {
     "end_time": "2022-02-24T21:00:57.206174Z",
     "start_time": "2022-02-24T20:59:48.390Z"
    }
   },
   "outputs": [],
   "source": [
    "analysis_df['customer_service_calls'].value_counts()"
   ]
  },
  {
   "cell_type": "code",
   "execution_count": null,
   "metadata": {
    "ExecuteTime": {
     "end_time": "2022-02-24T21:00:57.206801Z",
     "start_time": "2022-02-24T20:59:48.398Z"
    }
   },
   "outputs": [],
   "source": [
    "variable_1 = variable_1.rename(columns={\"index\": \"#_of_calls\", \"customer_service_calls\": \"#_of_accounts\"})"
   ]
  },
  {
   "cell_type": "code",
   "execution_count": null,
   "metadata": {
    "ExecuteTime": {
     "end_time": "2022-02-24T21:00:57.207469Z",
     "start_time": "2022-02-24T20:59:48.406Z"
    }
   },
   "outputs": [],
   "source": [
    "variable_1"
   ]
  },
  {
   "cell_type": "code",
   "execution_count": null,
   "metadata": {
    "ExecuteTime": {
     "end_time": "2022-02-24T21:00:57.208150Z",
     "start_time": "2022-02-24T20:59:48.413Z"
    }
   },
   "outputs": [],
   "source": [
    "cs_churn_df = cs_churn_df.merge(variable_1, on='#_of_calls')\n",
    "cs_churn_df"
   ]
  },
  {
   "cell_type": "code",
   "execution_count": null,
   "metadata": {
    "ExecuteTime": {
     "end_time": "2022-02-24T21:00:57.208723Z",
     "start_time": "2022-02-24T20:59:48.421Z"
    }
   },
   "outputs": [],
   "source": [
    "churn_rate = cs_churn_df.apply(lambda x: x['churn'] / x['#_of_accounts'], axis=1)\n",
    "cs_churn_df['churn_rate']= churn_rate"
   ]
  },
  {
   "cell_type": "code",
   "execution_count": null,
   "metadata": {
    "ExecuteTime": {
     "end_time": "2022-02-24T21:00:57.209306Z",
     "start_time": "2022-02-24T20:59:48.428Z"
    }
   },
   "outputs": [],
   "source": [
    "cs_churn_df"
   ]
  },
  {
   "cell_type": "markdown",
   "metadata": {},
   "source": [
    "### Visualization: Customer Service Call Churn Rate "
   ]
  },
  {
   "cell_type": "code",
   "execution_count": null,
   "metadata": {
    "ExecuteTime": {
     "end_time": "2022-02-24T21:00:57.209920Z",
     "start_time": "2022-02-24T20:59:48.436Z"
    }
   },
   "outputs": [],
   "source": [
    "fig, ax = plt.subplots(figsize=(10,10))\n",
    "p = sns.barplot(x=\"#_of_calls\", y=\"churn_rate\", data=cs_churn_df, color='red');\n",
    "\n",
    "p.set_xlabel(\"Number of Customer Service Calls\", fontsize = 15)\n",
    "p.set_ylabel(\"Churn Rate\", fontsize = 15)\n",
    "#p.xaxis.set_major_formatter(display_millions)\n",
    "p.set_title(\"Churn Rate by Number of Customer Service Calls\", fontsize = 20)\n",
    "plt.figsize=(30,20) \n",
    "plt.axhline(y=.145)\n",
    "#plt.savefig('images/project_1_scatter_1')\n",
    "\n",
    "plt.show();"
   ]
  },
  {
   "cell_type": "markdown",
   "metadata": {},
   "source": [
    "### Analysis:"
   ]
  },
  {
   "cell_type": "markdown",
   "metadata": {},
   "source": [
    "## Total Minute Analysis\n",
    "Churn rate is nearly 50% when day minutes are 250 or more."
   ]
  },
  {
   "cell_type": "code",
   "execution_count": null,
   "metadata": {
    "ExecuteTime": {
     "end_time": "2022-02-24T21:00:57.210628Z",
     "start_time": "2022-02-24T20:59:48.446Z"
    }
   },
   "outputs": [],
   "source": [
    "analysis_df['total_day_minutes'].describe()"
   ]
  },
  {
   "cell_type": "code",
   "execution_count": null,
   "metadata": {
    "ExecuteTime": {
     "end_time": "2022-02-24T21:00:57.211288Z",
     "start_time": "2022-02-24T20:59:48.455Z"
    }
   },
   "outputs": [],
   "source": [
    "analysis_df.info()"
   ]
  },
  {
   "cell_type": "code",
   "execution_count": null,
   "metadata": {
    "ExecuteTime": {
     "end_time": "2022-02-24T21:00:57.211982Z",
     "start_time": "2022-02-24T20:59:48.462Z"
    }
   },
   "outputs": [],
   "source": [
    "analysis_df['total_minutes'] =analysis_df.apply(lambda x: x['total_day_minutes'] + x['total_eve_minutes']\n",
    "                                                + x['total_night_minutes'] + x['total_intl_minutes']\n",
    "                                                                                    , axis=1)"
   ]
  },
  {
   "cell_type": "code",
   "execution_count": null,
   "metadata": {
    "ExecuteTime": {
     "end_time": "2022-02-24T21:00:57.212642Z",
     "start_time": "2022-02-24T20:59:48.469Z"
    }
   },
   "outputs": [],
   "source": [
    "analysis_df.head()"
   ]
  },
  {
   "cell_type": "code",
   "execution_count": null,
   "metadata": {
    "ExecuteTime": {
     "end_time": "2022-02-24T21:00:57.213231Z",
     "start_time": "2022-02-24T20:59:48.476Z"
    }
   },
   "outputs": [],
   "source": [
    "analysis_df['total_minutes_grouped'] = analysis_df['total_minutes_grouped']\n",
    "analysis_df"
   ]
  },
  {
   "cell_type": "code",
   "execution_count": null,
   "metadata": {
    "ExecuteTime": {
     "end_time": "2022-02-24T21:00:57.213750Z",
     "start_time": "2022-02-24T20:59:48.483Z"
    }
   },
   "outputs": [],
   "source": [
    "#bin_labels_5 = ['478', '516', '545', '570', '593', '614', '638', '667', '707', '885']\n",
    "#analysis_df['total_minutes_grouped'] = pd.qcut(analysis_df['total_minutes_grouped'], 10, labels=bin_labels_5)\n",
    "                              \n",
    "#analysis_df.head()"
   ]
  },
  {
   "cell_type": "code",
   "execution_count": null,
   "metadata": {
    "ExecuteTime": {
     "end_time": "2022-02-24T21:00:57.214353Z",
     "start_time": "2022-02-24T20:59:48.490Z"
    }
   },
   "outputs": [],
   "source": [
    "total_min_grouped_churn = analysis_df.groupby('total_minutes_grouped')['churn'].sum().reset_index()\n",
    "total_min_grouped_churn"
   ]
  },
  {
   "cell_type": "code",
   "execution_count": null,
   "metadata": {
    "ExecuteTime": {
     "end_time": "2022-02-24T21:00:57.214860Z",
     "start_time": "2022-02-24T20:59:48.497Z"
    }
   },
   "outputs": [],
   "source": [
    "total_min_grouped_values = analysis_df['total_minutes_grouped'].value_counts().reset_index()\n",
    "total_min_grouped_values"
   ]
  },
  {
   "cell_type": "code",
   "execution_count": null,
   "metadata": {
    "ExecuteTime": {
     "end_time": "2022-02-24T21:00:57.215403Z",
     "start_time": "2022-02-24T20:59:48.504Z"
    }
   },
   "outputs": [],
   "source": [
    "total_min_grouped_values = total_min_grouped_values.rename(columns={\"total_minutes_grouped\": \"#_of_accounts\", \"index\": \"total_minutes_grouped\"})\n",
    "total_min_grouped_values"
   ]
  },
  {
   "cell_type": "code",
   "execution_count": null,
   "metadata": {
    "ExecuteTime": {
     "end_time": "2022-02-24T21:00:57.216098Z",
     "start_time": "2022-02-24T20:59:48.511Z"
    }
   },
   "outputs": [],
   "source": [
    "total_min_grouped_df = total_min_grouped_churn.merge(total_min_grouped_values, on='total_minutes_grouped')\n",
    "                                                       \n",
    "total_min_grouped_df"
   ]
  },
  {
   "cell_type": "code",
   "execution_count": null,
   "metadata": {
    "ExecuteTime": {
     "end_time": "2022-02-24T21:00:57.216789Z",
     "start_time": "2022-02-24T20:59:48.518Z"
    }
   },
   "outputs": [],
   "source": [
    "total_min_grouped_df['churn_rate'] = total_min_grouped_df.apply(lambda x: x['churn'] / x['#_of_accounts'], axis=1)\n",
    "total_min_grouped_df"
   ]
  },
  {
   "cell_type": "markdown",
   "metadata": {},
   "source": [
    "### Visualization"
   ]
  },
  {
   "cell_type": "code",
   "execution_count": null,
   "metadata": {
    "ExecuteTime": {
     "end_time": "2022-02-24T21:00:57.217478Z",
     "start_time": "2022-02-24T20:59:48.526Z"
    }
   },
   "outputs": [],
   "source": [
    "import matplotlib.ticker as mtick"
   ]
  },
  {
   "cell_type": "code",
   "execution_count": null,
   "metadata": {
    "ExecuteTime": {
     "end_time": "2022-02-24T21:00:57.218078Z",
     "start_time": "2022-02-24T20:59:48.534Z"
    }
   },
   "outputs": [],
   "source": [
    "fig, ax = plt.subplots(figsize=(10,10))\n",
    "p = sns.barplot(x=\"total_minutes_grouped\", y=\"churn_rate\", data=total_min_grouped_df, color='yellow');\n",
    "\n",
    "p.set_xlabel(\"Total Minutes\", fontsize = 15)\n",
    "p.set_ylabel(\"Churn Rate\", fontsize = 15)\n",
    "ax.yaxis.set_major_formatter(mtick.PercentFormatter(xmax=1, decimals=None, symbol='%', is_latex=False))\n",
    "#ax.xaxis.set_major_formatter(mtick.PercentFormatter(xmax=1, decimals=None, symbol='%', is_latex=False))\n",
    "p.set_title(\"Churn Rate by Total Minutes\", fontsize = 20)\n",
    "plt.figsize=(30,20) \n",
    "plt.axhline(y=.145)\n",
    "#plt.savefig('images/project_1_scatter_1')\n",
    "\n",
    "plt.show();"
   ]
  },
  {
   "cell_type": "markdown",
   "metadata": {},
   "source": [
    "## International Plan"
   ]
  },
  {
   "cell_type": "code",
   "execution_count": 112,
   "metadata": {
    "ExecuteTime": {
     "end_time": "2022-02-24T21:04:38.675673Z",
     "start_time": "2022-02-24T21:04:38.644454Z"
    }
   },
   "outputs": [
    {
     "name": "stdout",
     "output_type": "stream",
     "text": [
      "<class 'pandas.core.frame.DataFrame'>\n",
      "RangeIndex: 3333 entries, 0 to 3332\n",
      "Data columns (total 22 columns):\n",
      " #   Column                  Non-Null Count  Dtype  \n",
      "---  ------                  --------------  -----  \n",
      " 0   state                   3333 non-null   object \n",
      " 1   account_length          3333 non-null   int64  \n",
      " 2   area_code               3333 non-null   int64  \n",
      " 3   phone_number            3333 non-null   object \n",
      " 4   international_plan      3333 non-null   object \n",
      " 5   voice_mail_plan         3333 non-null   object \n",
      " 6   number_vmail_messages   3333 non-null   int64  \n",
      " 7   total_day_minutes       3333 non-null   float64\n",
      " 8   total_day_calls         3333 non-null   int64  \n",
      " 9   total_day_charge        3333 non-null   float64\n",
      " 10  total_eve_minutes       3333 non-null   float64\n",
      " 11  total_eve_calls         3333 non-null   int64  \n",
      " 12  total_eve_charge        3333 non-null   float64\n",
      " 13  total_night_minutes     3333 non-null   float64\n",
      " 14  total_night_calls       3333 non-null   int64  \n",
      " 15  total_night_charge      3333 non-null   float64\n",
      " 16  total_intl_minutes      3333 non-null   float64\n",
      " 17  total_intl_calls        3333 non-null   int64  \n",
      " 18  total_intl_charge       3333 non-null   float64\n",
      " 19  customer_service_calls  3333 non-null   int64  \n",
      " 20  churn                   3333 non-null   int64  \n",
      " 21  total_charge            3333 non-null   float64\n",
      "dtypes: float64(9), int64(9), object(4)\n",
      "memory usage: 573.0+ KB\n"
     ]
    }
   ],
   "source": [
    "test_df.info()"
   ]
  },
  {
   "cell_type": "code",
   "execution_count": 113,
   "metadata": {
    "ExecuteTime": {
     "end_time": "2022-02-24T21:04:50.243748Z",
     "start_time": "2022-02-24T21:04:50.235904Z"
    }
   },
   "outputs": [],
   "source": [
    "need_to_encode_2 = test_df[['voice_mail_plan', 'international_plan', 'churn']]"
   ]
  },
  {
   "cell_type": "code",
   "execution_count": 114,
   "metadata": {
    "ExecuteTime": {
     "end_time": "2022-02-24T21:05:00.261569Z",
     "start_time": "2022-02-24T21:05:00.252062Z"
    }
   },
   "outputs": [
    {
     "data": {
      "text/html": [
       "<div>\n",
       "<style scoped>\n",
       "    .dataframe tbody tr th:only-of-type {\n",
       "        vertical-align: middle;\n",
       "    }\n",
       "\n",
       "    .dataframe tbody tr th {\n",
       "        vertical-align: top;\n",
       "    }\n",
       "\n",
       "    .dataframe thead th {\n",
       "        text-align: right;\n",
       "    }\n",
       "</style>\n",
       "<table border=\"1\" class=\"dataframe\">\n",
       "  <thead>\n",
       "    <tr style=\"text-align: right;\">\n",
       "      <th></th>\n",
       "      <th>voice_mail_plan_no</th>\n",
       "      <th>voice_mail_plan_yes</th>\n",
       "      <th>international_plan_no</th>\n",
       "      <th>international_plan_yes</th>\n",
       "      <th>churn_0</th>\n",
       "      <th>churn_1</th>\n",
       "    </tr>\n",
       "  </thead>\n",
       "  <tbody>\n",
       "    <tr>\n",
       "      <th>0</th>\n",
       "      <td>0.0</td>\n",
       "      <td>1.0</td>\n",
       "      <td>1.0</td>\n",
       "      <td>0.0</td>\n",
       "      <td>1.0</td>\n",
       "      <td>0.0</td>\n",
       "    </tr>\n",
       "    <tr>\n",
       "      <th>1</th>\n",
       "      <td>0.0</td>\n",
       "      <td>1.0</td>\n",
       "      <td>1.0</td>\n",
       "      <td>0.0</td>\n",
       "      <td>1.0</td>\n",
       "      <td>0.0</td>\n",
       "    </tr>\n",
       "    <tr>\n",
       "      <th>2</th>\n",
       "      <td>1.0</td>\n",
       "      <td>0.0</td>\n",
       "      <td>1.0</td>\n",
       "      <td>0.0</td>\n",
       "      <td>1.0</td>\n",
       "      <td>0.0</td>\n",
       "    </tr>\n",
       "    <tr>\n",
       "      <th>3</th>\n",
       "      <td>1.0</td>\n",
       "      <td>0.0</td>\n",
       "      <td>0.0</td>\n",
       "      <td>1.0</td>\n",
       "      <td>1.0</td>\n",
       "      <td>0.0</td>\n",
       "    </tr>\n",
       "    <tr>\n",
       "      <th>4</th>\n",
       "      <td>1.0</td>\n",
       "      <td>0.0</td>\n",
       "      <td>0.0</td>\n",
       "      <td>1.0</td>\n",
       "      <td>1.0</td>\n",
       "      <td>0.0</td>\n",
       "    </tr>\n",
       "  </tbody>\n",
       "</table>\n",
       "</div>"
      ],
      "text/plain": [
       "   voice_mail_plan_no  voice_mail_plan_yes  international_plan_no  \\\n",
       "0                 0.0                  1.0                    1.0   \n",
       "1                 0.0                  1.0                    1.0   \n",
       "2                 1.0                  0.0                    1.0   \n",
       "3                 1.0                  0.0                    0.0   \n",
       "4                 1.0                  0.0                    0.0   \n",
       "\n",
       "   international_plan_yes  churn_0  churn_1  \n",
       "0                     0.0      1.0      0.0  \n",
       "1                     0.0      1.0      0.0  \n",
       "2                     0.0      1.0      0.0  \n",
       "3                     1.0      1.0      0.0  \n",
       "4                     1.0      1.0      0.0  "
      ]
     },
     "execution_count": 114,
     "metadata": {},
     "output_type": "execute_result"
    }
   ],
   "source": [
    "ohe.fit(need_to_encode_2)\n",
    "\n",
    "ohe_2 = ohe.transform(need_to_encode_2).toarray()\n",
    "\n",
    "feature_churn_df= pd.DataFrame(ohe_2, columns=ohe.get_feature_names(need_to_encode_2.columns))\n",
    "feature_churn_df.head()"
   ]
  },
  {
   "cell_type": "code",
   "execution_count": 115,
   "metadata": {
    "ExecuteTime": {
     "end_time": "2022-02-24T21:05:10.386534Z",
     "start_time": "2022-02-24T21:05:10.384020Z"
    }
   },
   "outputs": [],
   "source": [
    "feature_churn_df = feature_churn_df.drop('churn_0', axis=1)"
   ]
  },
  {
   "cell_type": "code",
   "execution_count": 116,
   "metadata": {
    "ExecuteTime": {
     "end_time": "2022-02-24T21:05:20.524113Z",
     "start_time": "2022-02-24T21:05:20.517828Z"
    }
   },
   "outputs": [],
   "source": [
    "feature_churn_df = feature_churn_df.groupby('churn_1').sum().reset_index()"
   ]
  },
  {
   "cell_type": "code",
   "execution_count": null,
   "metadata": {
    "ExecuteTime": {
     "end_time": "2022-02-24T21:00:57.222065Z",
     "start_time": "2022-02-24T20:59:48.579Z"
    }
   },
   "outputs": [],
   "source": [
    "feature_churn_df = feature_churn_df.transpose()\n",
    "feature_churn_df"
   ]
  },
  {
   "cell_type": "code",
   "execution_count": null,
   "metadata": {
    "ExecuteTime": {
     "end_time": "2022-02-24T21:00:57.222645Z",
     "start_time": "2022-02-24T20:59:48.586Z"
    }
   },
   "outputs": [],
   "source": [
    "feature_churn_df = feature_churn_df.rename(columns={0: \"stayed\", 1: \"churned\"})\n",
    "feature_churn_df"
   ]
  },
  {
   "cell_type": "code",
   "execution_count": null,
   "metadata": {
    "ExecuteTime": {
     "end_time": "2022-02-24T21:00:57.223413Z",
     "start_time": "2022-02-24T20:59:48.593Z"
    }
   },
   "outputs": [],
   "source": [
    "feature_churn_df['total'] = feature_churn_df.apply(lambda x: x['stayed'] + x['churned'], axis=1)\n",
    "feature_churn_df"
   ]
  },
  {
   "cell_type": "code",
   "execution_count": null,
   "metadata": {
    "ExecuteTime": {
     "end_time": "2022-02-24T21:00:57.224050Z",
     "start_time": "2022-02-24T20:59:48.601Z"
    }
   },
   "outputs": [],
   "source": [
    "feature_churn_df['churn_rate'] = feature_churn_df.apply(lambda x: x['churned'] / x['total'], axis=1)\n",
    "feature_churn_df"
   ]
  },
  {
   "cell_type": "markdown",
   "metadata": {},
   "source": [
    "### Analysis:\n",
    "- churn rate for customers with an international plan is 42.4% vs 11.5% for those without an international plan.\n",
    "- nearly 4X increase"
   ]
  },
  {
   "cell_type": "code",
   "execution_count": null,
   "metadata": {},
   "outputs": [],
   "source": []
  },
  {
   "cell_type": "code",
   "execution_count": null,
   "metadata": {},
   "outputs": [],
   "source": []
  },
  {
   "cell_type": "code",
   "execution_count": null,
   "metadata": {},
   "outputs": [],
   "source": []
  },
  {
   "cell_type": "code",
   "execution_count": null,
   "metadata": {},
   "outputs": [],
   "source": []
  },
  {
   "cell_type": "code",
   "execution_count": null,
   "metadata": {},
   "outputs": [],
   "source": []
  },
  {
   "cell_type": "code",
   "execution_count": null,
   "metadata": {},
   "outputs": [],
   "source": []
  },
  {
   "cell_type": "code",
   "execution_count": null,
   "metadata": {},
   "outputs": [],
   "source": []
  },
  {
   "cell_type": "code",
   "execution_count": null,
   "metadata": {},
   "outputs": [],
   "source": []
  },
  {
   "cell_type": "code",
   "execution_count": null,
   "metadata": {},
   "outputs": [],
   "source": []
  },
  {
   "cell_type": "markdown",
   "metadata": {},
   "source": [
    "## Total Charge"
   ]
  },
  {
   "cell_type": "code",
   "execution_count": null,
   "metadata": {
    "ExecuteTime": {
     "end_time": "2022-02-24T21:00:57.224607Z",
     "start_time": "2022-02-24T20:59:48.653Z"
    }
   },
   "outputs": [],
   "source": [
    "analysis_df['total_charge'].describe()"
   ]
  },
  {
   "cell_type": "code",
   "execution_count": null,
   "metadata": {
    "ExecuteTime": {
     "end_time": "2022-02-24T21:00:57.225155Z",
     "start_time": "2022-02-24T20:59:48.661Z"
    }
   },
   "outputs": [],
   "source": [
    "analysis_df['charge_group'] = pd.qcut(analysis_df['total_charge'], 10)"
   ]
  },
  {
   "cell_type": "code",
   "execution_count": null,
   "metadata": {
    "ExecuteTime": {
     "end_time": "2022-02-24T21:00:57.225770Z",
     "start_time": "2022-02-24T20:59:48.668Z"
    }
   },
   "outputs": [],
   "source": [
    "total_charge_df = analysis_df.groupby('charge_group')['churn'].sum().reset_index()"
   ]
  },
  {
   "cell_type": "code",
   "execution_count": null,
   "metadata": {
    "ExecuteTime": {
     "end_time": "2022-02-24T21:00:57.226427Z",
     "start_time": "2022-02-24T20:59:48.675Z"
    }
   },
   "outputs": [],
   "source": [
    "charge_group_values = analysis_df['charge_group'].value_counts()\n",
    "charge_group_values"
   ]
  },
  {
   "cell_type": "code",
   "execution_count": null,
   "metadata": {
    "ExecuteTime": {
     "end_time": "2022-02-24T21:00:57.227100Z",
     "start_time": "2022-02-24T20:59:48.683Z"
    }
   },
   "outputs": [],
   "source": [
    "blah = charge_group_values.reset_index()\n",
    "blah"
   ]
  },
  {
   "cell_type": "code",
   "execution_count": null,
   "metadata": {
    "ExecuteTime": {
     "end_time": "2022-02-24T21:00:57.227778Z",
     "start_time": "2022-02-24T20:59:48.690Z"
    }
   },
   "outputs": [],
   "source": [
    "blah = blah.rename(columns={\"index\": \"total_charge\", \"charge_group\": \"#_of_accounts\"})\n",
    "blah\n",
    "                            "
   ]
  },
  {
   "cell_type": "code",
   "execution_count": null,
   "metadata": {
    "ExecuteTime": {
     "end_time": "2022-02-24T21:00:57.228323Z",
     "start_time": "2022-02-24T20:59:48.697Z"
    }
   },
   "outputs": [],
   "source": [
    "total_charge_df = total_charge_df.rename(columns={\"charge_group\": \"total_charge\"})"
   ]
  },
  {
   "cell_type": "code",
   "execution_count": null,
   "metadata": {
    "ExecuteTime": {
     "end_time": "2022-02-24T21:00:57.228913Z",
     "start_time": "2022-02-24T20:59:48.704Z"
    }
   },
   "outputs": [],
   "source": [
    "total_charge_df = total_charge_df.merge(blah, on=\"total_charge\")\n",
    "total_charge_df"
   ]
  },
  {
   "cell_type": "code",
   "execution_count": null,
   "metadata": {
    "ExecuteTime": {
     "end_time": "2022-02-24T21:00:57.229650Z",
     "start_time": "2022-02-24T20:59:48.712Z"
    }
   },
   "outputs": [],
   "source": [
    "total_charge_df['churn_rate'] = total_charge_df.apply(lambda x: x['churn'] / x['#_of_accounts'], axis=1)\n",
    "total_charge_df"
   ]
  },
  {
   "cell_type": "code",
   "execution_count": null,
   "metadata": {
    "ExecuteTime": {
     "end_time": "2022-02-24T21:00:57.230368Z",
     "start_time": "2022-02-24T20:59:48.719Z"
    }
   },
   "outputs": [],
   "source": [
    "testing =  total_charge_df.replace(to_replace=('(22.929, 46.02]', value= '('bin1')')\n",
    "testing"
   ]
  },
  {
   "cell_type": "code",
   "execution_count": null,
   "metadata": {
    "ExecuteTime": {
     "end_time": "2022-02-24T21:00:57.231056Z",
     "start_time": "2022-02-24T20:59:48.727Z"
    }
   },
   "outputs": [],
   "source": [
    "analysis_df.sort_values('total_charge', ascending=False).head(999)"
   ]
  },
  {
   "cell_type": "code",
   "execution_count": null,
   "metadata": {},
   "outputs": [],
   "source": []
  },
  {
   "cell_type": "code",
   "execution_count": null,
   "metadata": {},
   "outputs": [],
   "source": []
  },
  {
   "cell_type": "markdown",
   "metadata": {},
   "source": [
    "### Visualization"
   ]
  },
  {
   "cell_type": "code",
   "execution_count": null,
   "metadata": {
    "ExecuteTime": {
     "end_time": "2022-02-24T21:00:57.231621Z",
     "start_time": "2022-02-24T20:59:48.746Z"
    }
   },
   "outputs": [],
   "source": [
    "fig, ax = plt.subplots(figsize=(10,10))\n",
    "p = sns.barplot(x=\"total_charge\", y=\"churn_rate\", data=total_charge_df, color='green');\n",
    "\n",
    "p.set_xlabel(\"Total Charge\", fontsize = 15)\n",
    "p.set_ylabel(\"Churn Rate\", fontsize = 15)\n",
    "#p.xaxis.set_major_formatter(display_millions)\n",
    "p.set_title(\"Churn Rate by TotalCharge\", fontsize = 20)\n",
    "plt.figsize=(30,20) \n",
    "plt.axhline(y=.145)\n",
    "#plt.savefig('images/project_1_scatter_1')\n",
    "\n",
    "plt.show();"
   ]
  },
  {
   "cell_type": "markdown",
   "metadata": {},
   "source": [
    "# Conclusions"
   ]
  },
  {
   "cell_type": "markdown",
   "metadata": {},
   "source": [
    "## Questions to Answer: Revisited"
   ]
  },
  {
   "cell_type": "markdown",
   "metadata": {},
   "source": [
    "## Recommendations"
   ]
  },
  {
   "cell_type": "markdown",
   "metadata": {
    "ExecuteTime": {
     "end_time": "2022-02-24T17:37:20.800135Z",
     "start_time": "2022-02-24T17:37:20.748929Z"
    }
   },
   "source": [
    "# Summary"
   ]
  },
  {
   "cell_type": "markdown",
   "metadata": {},
   "source": [
    "# Archive"
   ]
  },
  {
   "cell_type": "markdown",
   "metadata": {},
   "source": [
    "## Visualizations"
   ]
  },
  {
   "cell_type": "code",
   "execution_count": null,
   "metadata": {
    "ExecuteTime": {
     "end_time": "2022-02-24T21:00:57.232270Z",
     "start_time": "2022-02-24T20:59:48.759Z"
    }
   },
   "outputs": [],
   "source": [
    "sns.scatterplot(data=analysis_df['total_charge'])"
   ]
  },
  {
   "cell_type": "code",
   "execution_count": null,
   "metadata": {
    "ExecuteTime": {
     "end_time": "2022-02-24T21:00:57.232921Z",
     "start_time": "2022-02-24T20:59:48.767Z"
    }
   },
   "outputs": [],
   "source": [
    "fig, ax = plt.subplots(figsize=(10,10))\n",
    "p = sns.scatterplot(x=\"total_charge\", y=\"ROI\", data=analysis_df);\n",
    "\n",
    "p.set_xlabel(\"Budget\", fontsize = 15)\n",
    "p.set_ylabel(\"ROI\", fontsize = 15)\n",
    "p.xaxis.set_major_formatter(display_millions)\n",
    "p.set_title(\"Distribution of Recent Animated and Adventure Movies by Budget\", fontsize = 20)\n",
    "plt.figsize=(30,20) \n",
    "plt.axhline(y=0)\n",
    "plt.savefig('images/project_1_scatter_1')\n",
    "\n",
    "plt.show();"
   ]
  },
  {
   "cell_type": "code",
   "execution_count": null,
   "metadata": {},
   "outputs": [],
   "source": []
  },
  {
   "cell_type": "code",
   "execution_count": null,
   "metadata": {},
   "outputs": [],
   "source": []
  },
  {
   "cell_type": "code",
   "execution_count": null,
   "metadata": {},
   "outputs": [],
   "source": []
  },
  {
   "cell_type": "markdown",
   "metadata": {},
   "source": [
    "## Analysis of Churned Customers (Old)"
   ]
  },
  {
   "cell_type": "code",
   "execution_count": null,
   "metadata": {
    "ExecuteTime": {
     "end_time": "2022-02-24T21:00:57.233535Z",
     "start_time": "2022-02-24T20:59:48.790Z"
    }
   },
   "outputs": [],
   "source": [
    "cleaned_df"
   ]
  },
  {
   "cell_type": "code",
   "execution_count": null,
   "metadata": {
    "ExecuteTime": {
     "end_time": "2022-02-24T21:00:57.234035Z",
     "start_time": "2022-02-24T20:59:48.798Z"
    }
   },
   "outputs": [],
   "source": [
    "churned_df = cleaned_df[cleaned_df[\"churn_1\"] == 1]\n",
    "churned_df"
   ]
  },
  {
   "cell_type": "code",
   "execution_count": null,
   "metadata": {
    "ExecuteTime": {
     "end_time": "2022-02-24T21:00:57.234658Z",
     "start_time": "2022-02-24T20:59:48.805Z"
    }
   },
   "outputs": [],
   "source": [
    "churned_df.info()"
   ]
  },
  {
   "cell_type": "code",
   "execution_count": null,
   "metadata": {
    "ExecuteTime": {
     "end_time": "2022-02-24T21:00:57.235230Z",
     "start_time": "2022-02-24T20:59:48.813Z"
    },
    "scrolled": true
   },
   "outputs": [],
   "source": [
    "churn_means = churned_df.mean()"
   ]
  },
  {
   "cell_type": "code",
   "execution_count": null,
   "metadata": {
    "ExecuteTime": {
     "end_time": "2022-02-24T21:00:57.235708Z",
     "start_time": "2022-02-24T20:59:48.820Z"
    }
   },
   "outputs": [],
   "source": [
    "stayed_df = cleaned_df[cleaned_df[\"churn_1\"] == 0]\n",
    "stayed_df"
   ]
  },
  {
   "cell_type": "code",
   "execution_count": null,
   "metadata": {
    "ExecuteTime": {
     "end_time": "2022-02-24T21:00:57.236239Z",
     "start_time": "2022-02-24T20:59:48.827Z"
    }
   },
   "outputs": [],
   "source": [
    "stayed_means = stayed_df.mean()"
   ]
  },
  {
   "cell_type": "code",
   "execution_count": null,
   "metadata": {
    "ExecuteTime": {
     "end_time": "2022-02-24T21:00:57.236831Z",
     "start_time": "2022-02-24T20:59:48.835Z"
    }
   },
   "outputs": [],
   "source": [
    "stayed_means = stayed_means.reset_index()"
   ]
  },
  {
   "cell_type": "code",
   "execution_count": null,
   "metadata": {
    "ExecuteTime": {
     "end_time": "2022-02-24T21:00:57.237569Z",
     "start_time": "2022-02-24T20:59:48.842Z"
    }
   },
   "outputs": [],
   "source": [
    "stayed_means = stayed_means.rename(columns={0: \"Stayed\"})"
   ]
  },
  {
   "cell_type": "code",
   "execution_count": null,
   "metadata": {
    "ExecuteTime": {
     "end_time": "2022-02-24T21:00:57.238129Z",
     "start_time": "2022-02-24T20:59:48.850Z"
    }
   },
   "outputs": [],
   "source": [
    "stayed_means"
   ]
  },
  {
   "cell_type": "code",
   "execution_count": null,
   "metadata": {
    "ExecuteTime": {
     "end_time": "2022-02-24T21:00:57.238732Z",
     "start_time": "2022-02-24T20:59:48.857Z"
    }
   },
   "outputs": [],
   "source": [
    "churn_means = churn_means.reset_index()"
   ]
  },
  {
   "cell_type": "code",
   "execution_count": null,
   "metadata": {
    "ExecuteTime": {
     "end_time": "2022-02-24T21:00:57.239326Z",
     "start_time": "2022-02-24T20:59:48.864Z"
    }
   },
   "outputs": [],
   "source": [
    "churn_means = churn_means.rename(columns={0: \"Left\"})"
   ]
  },
  {
   "cell_type": "code",
   "execution_count": null,
   "metadata": {
    "ExecuteTime": {
     "end_time": "2022-02-24T21:00:57.239923Z",
     "start_time": "2022-02-24T20:59:48.871Z"
    }
   },
   "outputs": [],
   "source": [
    "new_df = pd.merge(stayed_means, churn_means, on= 'index')\n",
    "new_df.head()"
   ]
  },
  {
   "cell_type": "code",
   "execution_count": null,
   "metadata": {
    "ExecuteTime": {
     "end_time": "2022-02-24T21:00:57.240644Z",
     "start_time": "2022-02-24T20:59:48.879Z"
    }
   },
   "outputs": [],
   "source": [
    "#new_df = new_df.drop(columns=['level_0_x', 'level_0_y'], axis=1)\n",
    "#new_df.head()"
   ]
  },
  {
   "cell_type": "code",
   "execution_count": null,
   "metadata": {
    "ExecuteTime": {
     "end_time": "2022-02-24T21:00:57.241403Z",
     "start_time": "2022-02-24T20:59:48.886Z"
    }
   },
   "outputs": [],
   "source": [
    "new_df['Delta']= new_df.apply(lambda x: x['Left'] - x['Stayed'], axis=1)"
   ]
  },
  {
   "cell_type": "code",
   "execution_count": null,
   "metadata": {
    "ExecuteTime": {
     "end_time": "2022-02-24T21:00:57.241952Z",
     "start_time": "2022-02-24T20:59:48.894Z"
    }
   },
   "outputs": [],
   "source": [
    "new_df"
   ]
  },
  {
   "cell_type": "code",
   "execution_count": null,
   "metadata": {
    "ExecuteTime": {
     "end_time": "2022-02-24T21:00:57.242542Z",
     "start_time": "2022-02-24T20:59:48.901Z"
    }
   },
   "outputs": [],
   "source": [
    "#churned_df.sort_values('cs_calls_4_5_6', ascending=False)"
   ]
  },
  {
   "cell_type": "code",
   "execution_count": null,
   "metadata": {
    "ExecuteTime": {
     "end_time": "2022-02-24T21:00:57.243153Z",
     "start_time": "2022-02-24T20:59:48.908Z"
    }
   },
   "outputs": [],
   "source": [
    "churned_df.info()"
   ]
  },
  {
   "cell_type": "code",
   "execution_count": null,
   "metadata": {
    "ExecuteTime": {
     "end_time": "2022-02-24T21:00:57.243711Z",
     "start_time": "2022-02-24T20:59:48.916Z"
    }
   },
   "outputs": [],
   "source": [
    "churned_df_cat = churned_df[['cs_calls_high','voice_mail_plan_yes', 'international_plan_yes']]\n",
    "churned_df_cat\n"
   ]
  },
  {
   "cell_type": "code",
   "execution_count": null,
   "metadata": {
    "ExecuteTime": {
     "end_time": "2022-02-24T21:00:57.244259Z",
     "start_time": "2022-02-24T20:59:48.923Z"
    }
   },
   "outputs": [],
   "source": [
    "churned_df_cat.sum()"
   ]
  },
  {
   "cell_type": "code",
   "execution_count": null,
   "metadata": {
    "ExecuteTime": {
     "end_time": "2022-02-24T21:00:57.244846Z",
     "start_time": "2022-02-24T20:59:48.930Z"
    }
   },
   "outputs": [],
   "source": [
    "stayed_df_cat = stayed_df[['cs_calls_high','voice_mail_plan_yes', 'international_plan_yes']]\n",
    "stayed_df_cat"
   ]
  },
  {
   "cell_type": "code",
   "execution_count": null,
   "metadata": {
    "ExecuteTime": {
     "end_time": "2022-02-24T21:00:57.245364Z",
     "start_time": "2022-02-24T20:59:48.937Z"
    }
   },
   "outputs": [],
   "source": [
    "stayed_df_cat.sum()"
   ]
  },
  {
   "cell_type": "code",
   "execution_count": null,
   "metadata": {
    "ExecuteTime": {
     "end_time": "2022-02-24T21:00:57.245999Z",
     "start_time": "2022-02-24T20:59:48.944Z"
    }
   },
   "outputs": [],
   "source": [
    "churned_df.info()"
   ]
  },
  {
   "cell_type": "code",
   "execution_count": null,
   "metadata": {
    "ExecuteTime": {
     "end_time": "2022-02-24T21:00:57.246560Z",
     "start_time": "2022-02-24T20:59:48.952Z"
    }
   },
   "outputs": [],
   "source": [
    "churned_df_num = churned_df[['account_length', \"number_vmail_messages\", \"total_day_calls\", \"total_eve_calls\",\n",
    "                             \"total_night_minutes\", \"total_night_calls\", \"total_intl_calls\",\n",
    "                             \"total_intl_minutes\",]]"
   ]
  },
  {
   "cell_type": "code",
   "execution_count": null,
   "metadata": {
    "ExecuteTime": {
     "end_time": "2022-02-24T21:00:57.247212Z",
     "start_time": "2022-02-24T20:59:48.959Z"
    }
   },
   "outputs": [],
   "source": [
    "#churned_df_num = churned_df[['account_length', \"number_vmail_messages\", \"total_day_calls\", \"total_day_charge\",\n",
    "#                             \"total_eve_calls\", \"total_eve_charge\", \"total_night_minutes\", \"total_night_calls\",\n",
    "#                             \"total_night_charge\", \"total_intl_calls\", \"total_intl_minutes\", \"total_intl_charge\"\n",
    "#                            ]]"
   ]
  },
  {
   "cell_type": "code",
   "execution_count": null,
   "metadata": {
    "ExecuteTime": {
     "end_time": "2022-02-24T21:00:57.247805Z",
     "start_time": "2022-02-24T20:59:48.966Z"
    }
   },
   "outputs": [],
   "source": [
    "stayed_df_num = stayed_df[['account_length', \"number_vmail_messages\", \"total_day_calls\", \"total_eve_calls\",\n",
    "                             \"total_night_minutes\", \"total_night_calls\", \"total_intl_calls\",\n",
    "                             \"total_intl_minutes\",]]"
   ]
  },
  {
   "cell_type": "code",
   "execution_count": null,
   "metadata": {
    "ExecuteTime": {
     "end_time": "2022-02-24T21:00:57.248467Z",
     "start_time": "2022-02-24T20:59:48.973Z"
    }
   },
   "outputs": [],
   "source": [
    "#stayed_df_num = stayed_df[['account_length', \"number_vmail_messages\", \"total_day_calls\", \"total_day_charge\",\n",
    "#                             \"total_eve_calls\", \"total_eve_charge\", \"total_night_minutes\", \"total_night_calls\",\n",
    "#                             \"total_night_charge\", \"total_intl_calls\", \"total_intl_minutes\", \"total_intl_charge\"\n",
    "#                            ]]"
   ]
  },
  {
   "cell_type": "code",
   "execution_count": null,
   "metadata": {
    "ExecuteTime": {
     "end_time": "2022-02-24T21:00:57.249034Z",
     "start_time": "2022-02-24T20:59:48.981Z"
    }
   },
   "outputs": [],
   "source": [
    "churned_df_num.mean()"
   ]
  },
  {
   "cell_type": "code",
   "execution_count": null,
   "metadata": {
    "ExecuteTime": {
     "end_time": "2022-02-24T21:00:57.249697Z",
     "start_time": "2022-02-24T20:59:48.988Z"
    }
   },
   "outputs": [],
   "source": [
    "churned_df_num.describe()"
   ]
  },
  {
   "cell_type": "code",
   "execution_count": null,
   "metadata": {
    "ExecuteTime": {
     "end_time": "2022-02-24T21:00:57.250331Z",
     "start_time": "2022-02-24T20:59:48.995Z"
    }
   },
   "outputs": [],
   "source": [
    "stayed_df_num.mean()"
   ]
  },
  {
   "cell_type": "code",
   "execution_count": null,
   "metadata": {
    "ExecuteTime": {
     "end_time": "2022-02-24T21:00:57.250957Z",
     "start_time": "2022-02-24T20:59:49.002Z"
    }
   },
   "outputs": [],
   "source": [
    "churned_df_num['total_day_charge'].value_counts()"
   ]
  },
  {
   "cell_type": "markdown",
   "metadata": {},
   "source": []
  },
  {
   "cell_type": "code",
   "execution_count": null,
   "metadata": {},
   "outputs": [],
   "source": []
  },
  {
   "cell_type": "code",
   "execution_count": null,
   "metadata": {},
   "outputs": [],
   "source": []
  },
  {
   "cell_type": "code",
   "execution_count": null,
   "metadata": {},
   "outputs": [],
   "source": []
  },
  {
   "cell_type": "code",
   "execution_count": null,
   "metadata": {},
   "outputs": [],
   "source": []
  },
  {
   "cell_type": "code",
   "execution_count": null,
   "metadata": {},
   "outputs": [],
   "source": []
  }
 ],
 "metadata": {
  "kernelspec": {
   "display_name": "Python (learn-env)",
   "language": "python",
   "name": "learn-env"
  },
  "language_info": {
   "codemirror_mode": {
    "name": "ipython",
    "version": 3
   },
   "file_extension": ".py",
   "mimetype": "text/x-python",
   "name": "python",
   "nbconvert_exporter": "python",
   "pygments_lexer": "ipython3",
   "version": "3.8.5"
  },
  "toc": {
   "base_numbering": 1,
   "nav_menu": {},
   "number_sections": true,
   "sideBar": true,
   "skip_h1_title": false,
   "title_cell": "Table of Contents",
   "title_sidebar": "Contents",
   "toc_cell": false,
   "toc_position": {
    "height": "calc(100% - 180px)",
    "left": "10px",
    "top": "150px",
    "width": "288px"
   },
   "toc_section_display": true,
   "toc_window_display": true
  },
  "varInspector": {
   "cols": {
    "lenName": 16,
    "lenType": 16,
    "lenVar": 40
   },
   "kernels_config": {
    "python": {
     "delete_cmd_postfix": "",
     "delete_cmd_prefix": "del ",
     "library": "var_list.py",
     "varRefreshCmd": "print(var_dic_list())"
    },
    "r": {
     "delete_cmd_postfix": ") ",
     "delete_cmd_prefix": "rm(",
     "library": "var_list.r",
     "varRefreshCmd": "cat(var_dic_list()) "
    }
   },
   "types_to_exclude": [
    "module",
    "function",
    "builtin_function_or_method",
    "instance",
    "_Feature"
   ],
   "window_display": false
  }
 },
 "nbformat": 4,
 "nbformat_minor": 4
}
