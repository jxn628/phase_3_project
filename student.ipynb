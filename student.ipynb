{
 "cells": [
  {
   "cell_type": "markdown",
   "metadata": {},
   "source": [
    "# Phase 3 Project\n",
    "- author: Jonathan Holt\n",
    "- Flatiron Data Science\n",
    "- 7/19/21 Cohort"
   ]
  },
  {
   "cell_type": "markdown",
   "metadata": {},
   "source": [
    "## Business Problem"
   ]
  },
  {
   "cell_type": "markdown",
   "metadata": {},
   "source": [
    "SyriaTel is a telecomunications company that is concerned with the amount of customers that are leaving their service. (ie, Churn). They have provided a dataset of their most recent data which has 14.5% of the customers leaving during the time period captured in the dataset. I have been tasked with analyzing the data and looking for any areas where Churn is significant, and make recommendations as to what SyriaTel can do to greatly reduce the rate of churn in its customers."
   ]
  },
  {
   "cell_type": "markdown",
   "metadata": {},
   "source": [
    "## The Data"
   ]
  },
  {
   "cell_type": "markdown",
   "metadata": {},
   "source": [
    "The dataset that I was given to work with contains information for 3333 accounts, including:\n",
    "- State\n",
    "- Account Length\n",
    "- Area Code\n",
    "- Phone Number\n",
    "- Extra Plans (VoiceMail and/or International)\n",
    "- Minutes Used (Day, Evening, Night, International)\n",
    "- Number of Calls (Day, Evening, Night, International)\n",
    "- Number of VoiceMail Messages\n",
    "- Total Amount Charged for minutes used (Day, Evening, Night, International)\n",
    "- Number of calls to Customer Service\n",
    "\n",
    "and most importantly:\n",
    "- Churn: Customers who cancelled their service."
   ]
  },
  {
   "cell_type": "markdown",
   "metadata": {},
   "source": [
    "## Questions to Answer\n",
    "1. What is the Baseline Churn Rate?\n",
    "2. What factors contribute to churn?\n",
    "3. What factors have the biggest impact on churn?\n",
    "4. What can be done to identify when a customer is at risk for churn?\n",
    "5. What can be done to prevent churn?"
   ]
  },
  {
   "cell_type": "markdown",
   "metadata": {},
   "source": [
    "## What I will be looking for in my models\n",
    "1. <b>High Recall Score:</b> I want my model to be able to predict which customers are at risk of churning. If it is tuned to be too sensitive in this area, that is fine. I would rather flag customers that aren't going to churn rather than focus on the customers that are likely to stay, and ending up with unexpected churn. I will keep this in balance by checking F1 Score.\n",
    "\n",
    "2. <b>Good F1 Score:</b>While I am ultimately not concerned with Precision (how well the model predicts customers that will stay), a good F1 score means that the model is performing well on both Recall and Precision. Since Recall and Precision are inverses of each other, a good F1 score ensures that the model isn't skewed too far toward one or the other. (ie, a model that predicts EVERY customer will churn would have perfect Recall, but would be useless).\n",
    "\n",
    "3. <b>High Cross Validation Score:</b> This ensures that the model isn't overly trained on the test data and that it does a good job of predicted unseen and unknown data. (ie, the test set).\n",
    "\n",
    "4. <b>Area Under the Curve (AUC):</b> The ROC AUC Score measures the Area under the ROC curve, which means that it classifies the true positive rate against the false positive rate. The higher the score, the better performing the model is. That said, here is the scale that I will use to evaluate my models:\n",
    "- <u><b>.69 or less:</u></b> Model performs only slightly better than guessing and is worthless for my analysis.\n",
    "- <u><b>.70 - .79:</u></b> Model still isn't performing very well, but is at minimum acceptable levels.\n",
    "- <u><b>.80 - .89:</u></b> Model is performing fairly well. My goal is to be in this range or better.\n",
    "- <u><b>.90 - .99:</u></b> Model is performing very well. I would be very happy to have a final model in this range."
   ]
  },
  {
   "cell_type": "markdown",
   "metadata": {},
   "source": [
    "# Data Preparation"
   ]
  },
  {
   "cell_type": "markdown",
   "metadata": {},
   "source": [
    "## Importing"
   ]
  },
  {
   "cell_type": "code",
   "execution_count": 1,
   "metadata": {
    "ExecuteTime": {
     "end_time": "2022-03-02T20:20:04.306027Z",
     "start_time": "2022-03-02T20:20:03.153360Z"
    }
   },
   "outputs": [],
   "source": [
    "import pandas as pd\n",
    "import seaborn as sns\n",
    "import numpy as np\n",
    "import matplotlib.pyplot as plt\n",
    "%matplotlib inline\n",
    "import matplotlib.ticker as mtick\n",
    "from sklearn.model_selection import train_test_split, cross_val_score, GridSearchCV\n",
    "from sklearn.tree import DecisionTreeClassifier\n",
    "from sklearn.metrics import accuracy_score, mean_squared_error, mean_squared_log_error, roc_curve, auc\n",
    "from sklearn.metrics import precision_score, recall_score, accuracy_score, f1_score, classification_report\n",
    "from sklearn.metrics import confusion_matrix\n",
    "from sklearn.preprocessing import OneHotEncoder, StandardScaler\n",
    "from sklearn.linear_model import LinearRegression\n",
    "from sklearn.impute import SimpleImputer\n",
    "from sklearn import tree\n",
    "from sklearn.ensemble import RandomForestClassifier\n",
    "from imblearn.over_sampling import SMOTE\n",
    "from sklearn.metrics import plot_confusion_matrix\n",
    "\n",
    "import warnings\n",
    "warnings.simplefilter(action='ignore', category=FutureWarning)"
   ]
  },
  {
   "cell_type": "code",
   "execution_count": 2,
   "metadata": {
    "ExecuteTime": {
     "end_time": "2022-03-02T20:20:04.308742Z",
     "start_time": "2022-03-02T20:20:04.307098Z"
    }
   },
   "outputs": [],
   "source": [
    "pd.set_option('display.max_rows', 1000) #change the amount of rows displayed\n",
    "plt.style.use('fivethirtyeight')"
   ]
  },
  {
   "cell_type": "code",
   "execution_count": 3,
   "metadata": {
    "ExecuteTime": {
     "end_time": "2022-03-02T20:20:04.334939Z",
     "start_time": "2022-03-02T20:20:04.310082Z"
    }
   },
   "outputs": [
    {
     "data": {
      "text/html": [
       "<div>\n",
       "<style scoped>\n",
       "    .dataframe tbody tr th:only-of-type {\n",
       "        vertical-align: middle;\n",
       "    }\n",
       "\n",
       "    .dataframe tbody tr th {\n",
       "        vertical-align: top;\n",
       "    }\n",
       "\n",
       "    .dataframe thead th {\n",
       "        text-align: right;\n",
       "    }\n",
       "</style>\n",
       "<table border=\"1\" class=\"dataframe\">\n",
       "  <thead>\n",
       "    <tr style=\"text-align: right;\">\n",
       "      <th></th>\n",
       "      <th>state</th>\n",
       "      <th>account length</th>\n",
       "      <th>area code</th>\n",
       "      <th>phone number</th>\n",
       "      <th>international plan</th>\n",
       "      <th>voice mail plan</th>\n",
       "      <th>number vmail messages</th>\n",
       "      <th>total day minutes</th>\n",
       "      <th>total day calls</th>\n",
       "      <th>total day charge</th>\n",
       "      <th>...</th>\n",
       "      <th>total eve calls</th>\n",
       "      <th>total eve charge</th>\n",
       "      <th>total night minutes</th>\n",
       "      <th>total night calls</th>\n",
       "      <th>total night charge</th>\n",
       "      <th>total intl minutes</th>\n",
       "      <th>total intl calls</th>\n",
       "      <th>total intl charge</th>\n",
       "      <th>customer service calls</th>\n",
       "      <th>churn</th>\n",
       "    </tr>\n",
       "  </thead>\n",
       "  <tbody>\n",
       "    <tr>\n",
       "      <th>0</th>\n",
       "      <td>KS</td>\n",
       "      <td>128</td>\n",
       "      <td>415</td>\n",
       "      <td>382-4657</td>\n",
       "      <td>no</td>\n",
       "      <td>yes</td>\n",
       "      <td>25</td>\n",
       "      <td>265.1</td>\n",
       "      <td>110</td>\n",
       "      <td>45.07</td>\n",
       "      <td>...</td>\n",
       "      <td>99</td>\n",
       "      <td>16.78</td>\n",
       "      <td>244.7</td>\n",
       "      <td>91</td>\n",
       "      <td>11.01</td>\n",
       "      <td>10.0</td>\n",
       "      <td>3</td>\n",
       "      <td>2.70</td>\n",
       "      <td>1</td>\n",
       "      <td>False</td>\n",
       "    </tr>\n",
       "    <tr>\n",
       "      <th>1</th>\n",
       "      <td>OH</td>\n",
       "      <td>107</td>\n",
       "      <td>415</td>\n",
       "      <td>371-7191</td>\n",
       "      <td>no</td>\n",
       "      <td>yes</td>\n",
       "      <td>26</td>\n",
       "      <td>161.6</td>\n",
       "      <td>123</td>\n",
       "      <td>27.47</td>\n",
       "      <td>...</td>\n",
       "      <td>103</td>\n",
       "      <td>16.62</td>\n",
       "      <td>254.4</td>\n",
       "      <td>103</td>\n",
       "      <td>11.45</td>\n",
       "      <td>13.7</td>\n",
       "      <td>3</td>\n",
       "      <td>3.70</td>\n",
       "      <td>1</td>\n",
       "      <td>False</td>\n",
       "    </tr>\n",
       "    <tr>\n",
       "      <th>2</th>\n",
       "      <td>NJ</td>\n",
       "      <td>137</td>\n",
       "      <td>415</td>\n",
       "      <td>358-1921</td>\n",
       "      <td>no</td>\n",
       "      <td>no</td>\n",
       "      <td>0</td>\n",
       "      <td>243.4</td>\n",
       "      <td>114</td>\n",
       "      <td>41.38</td>\n",
       "      <td>...</td>\n",
       "      <td>110</td>\n",
       "      <td>10.30</td>\n",
       "      <td>162.6</td>\n",
       "      <td>104</td>\n",
       "      <td>7.32</td>\n",
       "      <td>12.2</td>\n",
       "      <td>5</td>\n",
       "      <td>3.29</td>\n",
       "      <td>0</td>\n",
       "      <td>False</td>\n",
       "    </tr>\n",
       "    <tr>\n",
       "      <th>3</th>\n",
       "      <td>OH</td>\n",
       "      <td>84</td>\n",
       "      <td>408</td>\n",
       "      <td>375-9999</td>\n",
       "      <td>yes</td>\n",
       "      <td>no</td>\n",
       "      <td>0</td>\n",
       "      <td>299.4</td>\n",
       "      <td>71</td>\n",
       "      <td>50.90</td>\n",
       "      <td>...</td>\n",
       "      <td>88</td>\n",
       "      <td>5.26</td>\n",
       "      <td>196.9</td>\n",
       "      <td>89</td>\n",
       "      <td>8.86</td>\n",
       "      <td>6.6</td>\n",
       "      <td>7</td>\n",
       "      <td>1.78</td>\n",
       "      <td>2</td>\n",
       "      <td>False</td>\n",
       "    </tr>\n",
       "    <tr>\n",
       "      <th>4</th>\n",
       "      <td>OK</td>\n",
       "      <td>75</td>\n",
       "      <td>415</td>\n",
       "      <td>330-6626</td>\n",
       "      <td>yes</td>\n",
       "      <td>no</td>\n",
       "      <td>0</td>\n",
       "      <td>166.7</td>\n",
       "      <td>113</td>\n",
       "      <td>28.34</td>\n",
       "      <td>...</td>\n",
       "      <td>122</td>\n",
       "      <td>12.61</td>\n",
       "      <td>186.9</td>\n",
       "      <td>121</td>\n",
       "      <td>8.41</td>\n",
       "      <td>10.1</td>\n",
       "      <td>3</td>\n",
       "      <td>2.73</td>\n",
       "      <td>3</td>\n",
       "      <td>False</td>\n",
       "    </tr>\n",
       "  </tbody>\n",
       "</table>\n",
       "<p>5 rows × 21 columns</p>\n",
       "</div>"
      ],
      "text/plain": [
       "  state  account length  area code phone number international plan  \\\n",
       "0    KS             128        415     382-4657                 no   \n",
       "1    OH             107        415     371-7191                 no   \n",
       "2    NJ             137        415     358-1921                 no   \n",
       "3    OH              84        408     375-9999                yes   \n",
       "4    OK              75        415     330-6626                yes   \n",
       "\n",
       "  voice mail plan  number vmail messages  total day minutes  total day calls  \\\n",
       "0             yes                     25              265.1              110   \n",
       "1             yes                     26              161.6              123   \n",
       "2              no                      0              243.4              114   \n",
       "3              no                      0              299.4               71   \n",
       "4              no                      0              166.7              113   \n",
       "\n",
       "   total day charge  ...  total eve calls  total eve charge  \\\n",
       "0             45.07  ...               99             16.78   \n",
       "1             27.47  ...              103             16.62   \n",
       "2             41.38  ...              110             10.30   \n",
       "3             50.90  ...               88              5.26   \n",
       "4             28.34  ...              122             12.61   \n",
       "\n",
       "   total night minutes  total night calls  total night charge  \\\n",
       "0                244.7                 91               11.01   \n",
       "1                254.4                103               11.45   \n",
       "2                162.6                104                7.32   \n",
       "3                196.9                 89                8.86   \n",
       "4                186.9                121                8.41   \n",
       "\n",
       "   total intl minutes  total intl calls  total intl charge  \\\n",
       "0                10.0                 3               2.70   \n",
       "1                13.7                 3               3.70   \n",
       "2                12.2                 5               3.29   \n",
       "3                 6.6                 7               1.78   \n",
       "4                10.1                 3               2.73   \n",
       "\n",
       "   customer service calls  churn  \n",
       "0                       1  False  \n",
       "1                       1  False  \n",
       "2                       0  False  \n",
       "3                       2  False  \n",
       "4                       3  False  \n",
       "\n",
       "[5 rows x 21 columns]"
      ]
     },
     "execution_count": 3,
     "metadata": {},
     "output_type": "execute_result"
    }
   ],
   "source": [
    "df = pd.read_csv('bigml_59c28831336c6604c800002a.csv')\n",
    "df.head()"
   ]
  },
  {
   "cell_type": "markdown",
   "metadata": {},
   "source": [
    "## Fixing column names"
   ]
  },
  {
   "cell_type": "code",
   "execution_count": 4,
   "metadata": {
    "ExecuteTime": {
     "end_time": "2022-03-02T20:20:04.339353Z",
     "start_time": "2022-03-02T20:20:04.336200Z"
    }
   },
   "outputs": [
    {
     "data": {
      "text/plain": [
       "Index(['state', 'account_length', 'area_code', 'phone_number',\n",
       "       'international_plan', 'voice_mail_plan', 'number_vmail_messages',\n",
       "       'total_day_minutes', 'total_day_calls', 'total_day_charge',\n",
       "       'total_eve_minutes', 'total_eve_calls', 'total_eve_charge',\n",
       "       'total_night_minutes', 'total_night_calls', 'total_night_charge',\n",
       "       'total_intl_minutes', 'total_intl_calls', 'total_intl_charge',\n",
       "       'customer_service_calls', 'churn'],\n",
       "      dtype='object')"
      ]
     },
     "execution_count": 4,
     "metadata": {},
     "output_type": "execute_result"
    }
   ],
   "source": [
    "df.columns = df.columns.str.replace(' ','_')\n",
    "df.columns"
   ]
  },
  {
   "cell_type": "markdown",
   "metadata": {},
   "source": [
    "## Inital Data Exploration"
   ]
  },
  {
   "cell_type": "code",
   "execution_count": 5,
   "metadata": {
    "ExecuteTime": {
     "end_time": "2022-03-02T20:20:04.348090Z",
     "start_time": "2022-03-02T20:20:04.340328Z"
    }
   },
   "outputs": [
    {
     "name": "stdout",
     "output_type": "stream",
     "text": [
      "<class 'pandas.core.frame.DataFrame'>\n",
      "RangeIndex: 3333 entries, 0 to 3332\n",
      "Data columns (total 21 columns):\n",
      " #   Column                  Non-Null Count  Dtype  \n",
      "---  ------                  --------------  -----  \n",
      " 0   state                   3333 non-null   object \n",
      " 1   account_length          3333 non-null   int64  \n",
      " 2   area_code               3333 non-null   int64  \n",
      " 3   phone_number            3333 non-null   object \n",
      " 4   international_plan      3333 non-null   object \n",
      " 5   voice_mail_plan         3333 non-null   object \n",
      " 6   number_vmail_messages   3333 non-null   int64  \n",
      " 7   total_day_minutes       3333 non-null   float64\n",
      " 8   total_day_calls         3333 non-null   int64  \n",
      " 9   total_day_charge        3333 non-null   float64\n",
      " 10  total_eve_minutes       3333 non-null   float64\n",
      " 11  total_eve_calls         3333 non-null   int64  \n",
      " 12  total_eve_charge        3333 non-null   float64\n",
      " 13  total_night_minutes     3333 non-null   float64\n",
      " 14  total_night_calls       3333 non-null   int64  \n",
      " 15  total_night_charge      3333 non-null   float64\n",
      " 16  total_intl_minutes      3333 non-null   float64\n",
      " 17  total_intl_calls        3333 non-null   int64  \n",
      " 18  total_intl_charge       3333 non-null   float64\n",
      " 19  customer_service_calls  3333 non-null   int64  \n",
      " 20  churn                   3333 non-null   bool   \n",
      "dtypes: bool(1), float64(8), int64(8), object(4)\n",
      "memory usage: 524.2+ KB\n"
     ]
    }
   ],
   "source": [
    "df.info()"
   ]
  },
  {
   "cell_type": "code",
   "execution_count": 6,
   "metadata": {
    "ExecuteTime": {
     "end_time": "2022-03-02T20:20:04.352930Z",
     "start_time": "2022-03-02T20:20:04.348990Z"
    }
   },
   "outputs": [
    {
     "data": {
      "text/plain": [
       "state                     0\n",
       "account_length            0\n",
       "area_code                 0\n",
       "phone_number              0\n",
       "international_plan        0\n",
       "voice_mail_plan           0\n",
       "number_vmail_messages     0\n",
       "total_day_minutes         0\n",
       "total_day_calls           0\n",
       "total_day_charge          0\n",
       "total_eve_minutes         0\n",
       "total_eve_calls           0\n",
       "total_eve_charge          0\n",
       "total_night_minutes       0\n",
       "total_night_calls         0\n",
       "total_night_charge        0\n",
       "total_intl_minutes        0\n",
       "total_intl_calls          0\n",
       "total_intl_charge         0\n",
       "customer_service_calls    0\n",
       "churn                     0\n",
       "dtype: int64"
      ]
     },
     "execution_count": 6,
     "metadata": {},
     "output_type": "execute_result"
    }
   ],
   "source": [
    "df.isna().sum()"
   ]
  },
  {
   "cell_type": "code",
   "execution_count": 7,
   "metadata": {
    "ExecuteTime": {
     "end_time": "2022-03-02T20:20:04.356857Z",
     "start_time": "2022-03-02T20:20:04.353864Z"
    }
   },
   "outputs": [
    {
     "data": {
      "text/plain": [
       "0"
      ]
     },
     "execution_count": 7,
     "metadata": {},
     "output_type": "execute_result"
    }
   ],
   "source": [
    "df.phone_number.duplicated().sum()"
   ]
  },
  {
   "cell_type": "code",
   "execution_count": 8,
   "metadata": {
    "ExecuteTime": {
     "end_time": "2022-03-02T20:20:04.364591Z",
     "start_time": "2022-03-02T20:20:04.360289Z"
    }
   },
   "outputs": [
    {
     "data": {
      "text/plain": [
       "False    2850\n",
       "True      483\n",
       "Name: churn, dtype: int64"
      ]
     },
     "execution_count": 8,
     "metadata": {},
     "output_type": "execute_result"
    }
   ],
   "source": [
    "df.churn.value_counts()"
   ]
  },
  {
   "cell_type": "markdown",
   "metadata": {
    "ExecuteTime": {
     "end_time": "2022-02-24T18:25:37.713554Z",
     "start_time": "2022-02-24T18:25:37.708964Z"
    }
   },
   "source": [
    "## Initial Analysis"
   ]
  },
  {
   "cell_type": "markdown",
   "metadata": {},
   "source": [
    "### Base Churn Rate: 14.49%\n",
    "- There are 3333 records.\n",
    "- No missing values, and no duplicates.\n",
    "- The number of customers who churned was 483.\n",
    "- Therefore the base churn rate is (483 / 3333) = 14.49%"
   ]
  },
  {
   "cell_type": "markdown",
   "metadata": {},
   "source": [
    "### Target Feature Class Imbalance\n",
    "- Churn is very imbalanced as the amount of customers who stay with the company is nearly 6X higher than the number of customers who leave.\n",
    "- Class imbalance will need to be addressed in my models through one of (or a combination of) these options:\n",
    "1. class weight parameters\n",
    "2. oversampling or undersampling\n",
    "3. Synthetic Minority Oversampling (SMOTE)"
   ]
  },
  {
   "cell_type": "code",
   "execution_count": 9,
   "metadata": {
    "ExecuteTime": {
     "end_time": "2022-03-02T20:20:04.451232Z",
     "start_time": "2022-03-02T20:20:04.366384Z"
    }
   },
   "outputs": [
    {
     "data": {
      "image/png": "[encoded data removed]",
      "text/plain": [
       "<Figure size 432x288 with 1 Axes>"
      ]
     },
     "metadata": {},
     "output_type": "display_data"
    }
   ],
   "source": [
    "imbalance_data = df.pivot_table(index='churn', aggfunc='size').plot(kind='bar')\n",
    "imbalance_data;"
   ]
  },
  {
   "cell_type": "markdown",
   "metadata": {},
   "source": [
    "# Cleaning and Preprocessing"
   ]
  },
  {
   "cell_type": "code",
   "execution_count": 10,
   "metadata": {
    "ExecuteTime": {
     "end_time": "2022-03-02T20:20:04.466082Z",
     "start_time": "2022-03-02T20:20:04.452366Z"
    }
   },
   "outputs": [
    {
     "data": {
      "text/html": [
       "<div>\n",
       "<style scoped>\n",
       "    .dataframe tbody tr th:only-of-type {\n",
       "        vertical-align: middle;\n",
       "    }\n",
       "\n",
       "    .dataframe tbody tr th {\n",
       "        vertical-align: top;\n",
       "    }\n",
       "\n",
       "    .dataframe thead th {\n",
       "        text-align: right;\n",
       "    }\n",
       "</style>\n",
       "<table border=\"1\" class=\"dataframe\">\n",
       "  <thead>\n",
       "    <tr style=\"text-align: right;\">\n",
       "      <th></th>\n",
       "      <th>state</th>\n",
       "      <th>account_length</th>\n",
       "      <th>area_code</th>\n",
       "      <th>phone_number</th>\n",
       "      <th>international_plan</th>\n",
       "      <th>voice_mail_plan</th>\n",
       "      <th>number_vmail_messages</th>\n",
       "      <th>total_day_minutes</th>\n",
       "      <th>total_day_calls</th>\n",
       "      <th>total_day_charge</th>\n",
       "      <th>...</th>\n",
       "      <th>total_eve_calls</th>\n",
       "      <th>total_eve_charge</th>\n",
       "      <th>total_night_minutes</th>\n",
       "      <th>total_night_calls</th>\n",
       "      <th>total_night_charge</th>\n",
       "      <th>total_intl_minutes</th>\n",
       "      <th>total_intl_calls</th>\n",
       "      <th>total_intl_charge</th>\n",
       "      <th>customer_service_calls</th>\n",
       "      <th>churn</th>\n",
       "    </tr>\n",
       "  </thead>\n",
       "  <tbody>\n",
       "    <tr>\n",
       "      <th>0</th>\n",
       "      <td>KS</td>\n",
       "      <td>128</td>\n",
       "      <td>415</td>\n",
       "      <td>382-4657</td>\n",
       "      <td>no</td>\n",
       "      <td>yes</td>\n",
       "      <td>25</td>\n",
       "      <td>265.1</td>\n",
       "      <td>110</td>\n",
       "      <td>45.07</td>\n",
       "      <td>...</td>\n",
       "      <td>99</td>\n",
       "      <td>16.78</td>\n",
       "      <td>244.7</td>\n",
       "      <td>91</td>\n",
       "      <td>11.01</td>\n",
       "      <td>10.0</td>\n",
       "      <td>3</td>\n",
       "      <td>2.7</td>\n",
       "      <td>1</td>\n",
       "      <td>False</td>\n",
       "    </tr>\n",
       "    <tr>\n",
       "      <th>1</th>\n",
       "      <td>OH</td>\n",
       "      <td>107</td>\n",
       "      <td>415</td>\n",
       "      <td>371-7191</td>\n",
       "      <td>no</td>\n",
       "      <td>yes</td>\n",
       "      <td>26</td>\n",
       "      <td>161.6</td>\n",
       "      <td>123</td>\n",
       "      <td>27.47</td>\n",
       "      <td>...</td>\n",
       "      <td>103</td>\n",
       "      <td>16.62</td>\n",
       "      <td>254.4</td>\n",
       "      <td>103</td>\n",
       "      <td>11.45</td>\n",
       "      <td>13.7</td>\n",
       "      <td>3</td>\n",
       "      <td>3.7</td>\n",
       "      <td>1</td>\n",
       "      <td>False</td>\n",
       "    </tr>\n",
       "  </tbody>\n",
       "</table>\n",
       "<p>2 rows × 21 columns</p>\n",
       "</div>"
      ],
      "text/plain": [
       "  state  account_length  area_code phone_number international_plan  \\\n",
       "0    KS             128        415     382-4657                 no   \n",
       "1    OH             107        415     371-7191                 no   \n",
       "\n",
       "  voice_mail_plan  number_vmail_messages  total_day_minutes  total_day_calls  \\\n",
       "0             yes                     25              265.1              110   \n",
       "1             yes                     26              161.6              123   \n",
       "\n",
       "   total_day_charge  ...  total_eve_calls  total_eve_charge  \\\n",
       "0             45.07  ...               99             16.78   \n",
       "1             27.47  ...              103             16.62   \n",
       "\n",
       "   total_night_minutes  total_night_calls  total_night_charge  \\\n",
       "0                244.7                 91               11.01   \n",
       "1                254.4                103               11.45   \n",
       "\n",
       "   total_intl_minutes  total_intl_calls  total_intl_charge  \\\n",
       "0                10.0                 3                2.7   \n",
       "1                13.7                 3                3.7   \n",
       "\n",
       "   customer_service_calls  churn  \n",
       "0                       1  False  \n",
       "1                       1  False  \n",
       "\n",
       "[2 rows x 21 columns]"
      ]
     },
     "execution_count": 10,
     "metadata": {},
     "output_type": "execute_result"
    }
   ],
   "source": [
    "test_df = df.copy()\n",
    "test_df.head(2)"
   ]
  },
  {
   "cell_type": "markdown",
   "metadata": {},
   "source": [
    "## Changing False to 0 and True to 1"
   ]
  },
  {
   "cell_type": "code",
   "execution_count": 11,
   "metadata": {
    "ExecuteTime": {
     "end_time": "2022-03-02T20:20:04.471140Z",
     "start_time": "2022-03-02T20:20:04.466980Z"
    }
   },
   "outputs": [
    {
     "data": {
      "text/plain": [
       "0    2850\n",
       "1     483\n",
       "Name: churn, dtype: int64"
      ]
     },
     "execution_count": 11,
     "metadata": {},
     "output_type": "execute_result"
    }
   ],
   "source": [
    "test_df[\"churn\"] = test_df[\"churn\"].astype(int)\n",
    "test_df.churn.value_counts()"
   ]
  },
  {
   "cell_type": "markdown",
   "metadata": {},
   "source": [
    "## Dropping Uneccesary Columns"
   ]
  },
  {
   "cell_type": "code",
   "execution_count": 12,
   "metadata": {
    "ExecuteTime": {
     "end_time": "2022-03-02T20:20:04.475919Z",
     "start_time": "2022-03-02T20:20:04.472148Z"
    }
   },
   "outputs": [],
   "source": [
    "test_df = test_df.drop(columns=['state','phone_number', 'area_code'], axis=1)"
   ]
  },
  {
   "cell_type": "markdown",
   "metadata": {},
   "source": [
    "## Adding Column: Total Charge\n",
    "- This column captures the total charge that the customer will see on their bill from all charges contained within the dataset."
   ]
  },
  {
   "cell_type": "code",
   "execution_count": 13,
   "metadata": {
    "ExecuteTime": {
     "end_time": "2022-03-02T20:20:04.516905Z",
     "start_time": "2022-03-02T20:20:04.477033Z"
    }
   },
   "outputs": [],
   "source": [
    "total_charge = test_df.apply(lambda x: x['total_day_charge'] + x['total_eve_charge'] +x['total_night_charge']\n",
    "                             +x['total_intl_charge'], axis=1)\n",
    "test_df['total_charge']= total_charge"
   ]
  },
  {
   "cell_type": "markdown",
   "metadata": {
    "ExecuteTime": {
     "end_time": "2022-02-16T17:59:05.018900Z",
     "start_time": "2022-02-16T17:59:04.997975Z"
    }
   },
   "source": [
    "## Slicing out object type Features"
   ]
  },
  {
   "cell_type": "code",
   "execution_count": 14,
   "metadata": {
    "ExecuteTime": {
     "end_time": "2022-03-02T20:20:04.528649Z",
     "start_time": "2022-03-02T20:20:04.517885Z"
    }
   },
   "outputs": [
    {
     "data": {
      "text/html": [
       "<div>\n",
       "<style scoped>\n",
       "    .dataframe tbody tr th:only-of-type {\n",
       "        vertical-align: middle;\n",
       "    }\n",
       "\n",
       "    .dataframe tbody tr th {\n",
       "        vertical-align: top;\n",
       "    }\n",
       "\n",
       "    .dataframe thead th {\n",
       "        text-align: right;\n",
       "    }\n",
       "</style>\n",
       "<table border=\"1\" class=\"dataframe\">\n",
       "  <thead>\n",
       "    <tr style=\"text-align: right;\">\n",
       "      <th></th>\n",
       "      <th>account_length</th>\n",
       "      <th>number_vmail_messages</th>\n",
       "      <th>total_day_minutes</th>\n",
       "      <th>total_day_calls</th>\n",
       "      <th>total_day_charge</th>\n",
       "      <th>total_eve_minutes</th>\n",
       "      <th>total_eve_calls</th>\n",
       "      <th>total_eve_charge</th>\n",
       "      <th>total_night_minutes</th>\n",
       "      <th>total_night_calls</th>\n",
       "      <th>total_night_charge</th>\n",
       "      <th>total_intl_minutes</th>\n",
       "      <th>total_intl_calls</th>\n",
       "      <th>total_intl_charge</th>\n",
       "      <th>customer_service_calls</th>\n",
       "      <th>churn</th>\n",
       "      <th>total_charge</th>\n",
       "    </tr>\n",
       "  </thead>\n",
       "  <tbody>\n",
       "    <tr>\n",
       "      <th>0</th>\n",
       "      <td>128</td>\n",
       "      <td>25</td>\n",
       "      <td>265.1</td>\n",
       "      <td>110</td>\n",
       "      <td>45.07</td>\n",
       "      <td>197.4</td>\n",
       "      <td>99</td>\n",
       "      <td>16.78</td>\n",
       "      <td>244.7</td>\n",
       "      <td>91</td>\n",
       "      <td>11.01</td>\n",
       "      <td>10.0</td>\n",
       "      <td>3</td>\n",
       "      <td>2.70</td>\n",
       "      <td>1</td>\n",
       "      <td>0</td>\n",
       "      <td>75.56</td>\n",
       "    </tr>\n",
       "    <tr>\n",
       "      <th>1</th>\n",
       "      <td>107</td>\n",
       "      <td>26</td>\n",
       "      <td>161.6</td>\n",
       "      <td>123</td>\n",
       "      <td>27.47</td>\n",
       "      <td>195.5</td>\n",
       "      <td>103</td>\n",
       "      <td>16.62</td>\n",
       "      <td>254.4</td>\n",
       "      <td>103</td>\n",
       "      <td>11.45</td>\n",
       "      <td>13.7</td>\n",
       "      <td>3</td>\n",
       "      <td>3.70</td>\n",
       "      <td>1</td>\n",
       "      <td>0</td>\n",
       "      <td>59.24</td>\n",
       "    </tr>\n",
       "    <tr>\n",
       "      <th>2</th>\n",
       "      <td>137</td>\n",
       "      <td>0</td>\n",
       "      <td>243.4</td>\n",
       "      <td>114</td>\n",
       "      <td>41.38</td>\n",
       "      <td>121.2</td>\n",
       "      <td>110</td>\n",
       "      <td>10.30</td>\n",
       "      <td>162.6</td>\n",
       "      <td>104</td>\n",
       "      <td>7.32</td>\n",
       "      <td>12.2</td>\n",
       "      <td>5</td>\n",
       "      <td>3.29</td>\n",
       "      <td>0</td>\n",
       "      <td>0</td>\n",
       "      <td>62.29</td>\n",
       "    </tr>\n",
       "    <tr>\n",
       "      <th>3</th>\n",
       "      <td>84</td>\n",
       "      <td>0</td>\n",
       "      <td>299.4</td>\n",
       "      <td>71</td>\n",
       "      <td>50.90</td>\n",
       "      <td>61.9</td>\n",
       "      <td>88</td>\n",
       "      <td>5.26</td>\n",
       "      <td>196.9</td>\n",
       "      <td>89</td>\n",
       "      <td>8.86</td>\n",
       "      <td>6.6</td>\n",
       "      <td>7</td>\n",
       "      <td>1.78</td>\n",
       "      <td>2</td>\n",
       "      <td>0</td>\n",
       "      <td>66.80</td>\n",
       "    </tr>\n",
       "    <tr>\n",
       "      <th>4</th>\n",
       "      <td>75</td>\n",
       "      <td>0</td>\n",
       "      <td>166.7</td>\n",
       "      <td>113</td>\n",
       "      <td>28.34</td>\n",
       "      <td>148.3</td>\n",
       "      <td>122</td>\n",
       "      <td>12.61</td>\n",
       "      <td>186.9</td>\n",
       "      <td>121</td>\n",
       "      <td>8.41</td>\n",
       "      <td>10.1</td>\n",
       "      <td>3</td>\n",
       "      <td>2.73</td>\n",
       "      <td>3</td>\n",
       "      <td>0</td>\n",
       "      <td>52.09</td>\n",
       "    </tr>\n",
       "  </tbody>\n",
       "</table>\n",
       "</div>"
      ],
      "text/plain": [
       "   account_length  number_vmail_messages  total_day_minutes  total_day_calls  \\\n",
       "0             128                     25              265.1              110   \n",
       "1             107                     26              161.6              123   \n",
       "2             137                      0              243.4              114   \n",
       "3              84                      0              299.4               71   \n",
       "4              75                      0              166.7              113   \n",
       "\n",
       "   total_day_charge  total_eve_minutes  total_eve_calls  total_eve_charge  \\\n",
       "0             45.07              197.4               99             16.78   \n",
       "1             27.47              195.5              103             16.62   \n",
       "2             41.38              121.2              110             10.30   \n",
       "3             50.90               61.9               88              5.26   \n",
       "4             28.34              148.3              122             12.61   \n",
       "\n",
       "   total_night_minutes  total_night_calls  total_night_charge  \\\n",
       "0                244.7                 91               11.01   \n",
       "1                254.4                103               11.45   \n",
       "2                162.6                104                7.32   \n",
       "3                196.9                 89                8.86   \n",
       "4                186.9                121                8.41   \n",
       "\n",
       "   total_intl_minutes  total_intl_calls  total_intl_charge  \\\n",
       "0                10.0                 3               2.70   \n",
       "1                13.7                 3               3.70   \n",
       "2                12.2                 5               3.29   \n",
       "3                 6.6                 7               1.78   \n",
       "4                10.1                 3               2.73   \n",
       "\n",
       "   customer_service_calls  churn  total_charge  \n",
       "0                       1      0         75.56  \n",
       "1                       1      0         59.24  \n",
       "2                       0      0         62.29  \n",
       "3                       2      0         66.80  \n",
       "4                       3      0         52.09  "
      ]
     },
     "execution_count": 14,
     "metadata": {},
     "output_type": "execute_result"
    }
   ],
   "source": [
    "cont_features = [col for col in test_df.columns if test_df[col].dtype in [np.float64, np.int64]]\n",
    "feature_df = test_df.loc[:, cont_features]\n",
    "feature_df.head()"
   ]
  },
  {
   "cell_type": "markdown",
   "metadata": {},
   "source": [
    "## One Hot Encoding"
   ]
  },
  {
   "cell_type": "code",
   "execution_count": 15,
   "metadata": {
    "ExecuteTime": {
     "end_time": "2022-03-02T20:20:04.542613Z",
     "start_time": "2022-03-02T20:20:04.529932Z"
    }
   },
   "outputs": [
    {
     "data": {
      "text/html": [
       "<div>\n",
       "<style scoped>\n",
       "    .dataframe tbody tr th:only-of-type {\n",
       "        vertical-align: middle;\n",
       "    }\n",
       "\n",
       "    .dataframe tbody tr th {\n",
       "        vertical-align: top;\n",
       "    }\n",
       "\n",
       "    .dataframe thead th {\n",
       "        text-align: right;\n",
       "    }\n",
       "</style>\n",
       "<table border=\"1\" class=\"dataframe\">\n",
       "  <thead>\n",
       "    <tr style=\"text-align: right;\">\n",
       "      <th></th>\n",
       "      <th>international_plan_no</th>\n",
       "      <th>international_plan_yes</th>\n",
       "      <th>voice_mail_plan_no</th>\n",
       "      <th>voice_mail_plan_yes</th>\n",
       "      <th>customer_service_calls_0</th>\n",
       "      <th>customer_service_calls_1</th>\n",
       "      <th>customer_service_calls_2</th>\n",
       "      <th>customer_service_calls_3</th>\n",
       "      <th>customer_service_calls_4</th>\n",
       "      <th>customer_service_calls_5</th>\n",
       "      <th>customer_service_calls_6</th>\n",
       "      <th>customer_service_calls_7</th>\n",
       "      <th>customer_service_calls_8</th>\n",
       "      <th>customer_service_calls_9</th>\n",
       "    </tr>\n",
       "  </thead>\n",
       "  <tbody>\n",
       "    <tr>\n",
       "      <th>0</th>\n",
       "      <td>1.0</td>\n",
       "      <td>0.0</td>\n",
       "      <td>0.0</td>\n",
       "      <td>1.0</td>\n",
       "      <td>0.0</td>\n",
       "      <td>1.0</td>\n",
       "      <td>0.0</td>\n",
       "      <td>0.0</td>\n",
       "      <td>0.0</td>\n",
       "      <td>0.0</td>\n",
       "      <td>0.0</td>\n",
       "      <td>0.0</td>\n",
       "      <td>0.0</td>\n",
       "      <td>0.0</td>\n",
       "    </tr>\n",
       "    <tr>\n",
       "      <th>1</th>\n",
       "      <td>1.0</td>\n",
       "      <td>0.0</td>\n",
       "      <td>0.0</td>\n",
       "      <td>1.0</td>\n",
       "      <td>0.0</td>\n",
       "      <td>1.0</td>\n",
       "      <td>0.0</td>\n",
       "      <td>0.0</td>\n",
       "      <td>0.0</td>\n",
       "      <td>0.0</td>\n",
       "      <td>0.0</td>\n",
       "      <td>0.0</td>\n",
       "      <td>0.0</td>\n",
       "      <td>0.0</td>\n",
       "    </tr>\n",
       "  </tbody>\n",
       "</table>\n",
       "</div>"
      ],
      "text/plain": [
       "   international_plan_no  international_plan_yes  voice_mail_plan_no  \\\n",
       "0                    1.0                     0.0                 0.0   \n",
       "1                    1.0                     0.0                 0.0   \n",
       "\n",
       "   voice_mail_plan_yes  customer_service_calls_0  customer_service_calls_1  \\\n",
       "0                  1.0                       0.0                       1.0   \n",
       "1                  1.0                       0.0                       1.0   \n",
       "\n",
       "   customer_service_calls_2  customer_service_calls_3  \\\n",
       "0                       0.0                       0.0   \n",
       "1                       0.0                       0.0   \n",
       "\n",
       "   customer_service_calls_4  customer_service_calls_5  \\\n",
       "0                       0.0                       0.0   \n",
       "1                       0.0                       0.0   \n",
       "\n",
       "   customer_service_calls_6  customer_service_calls_7  \\\n",
       "0                       0.0                       0.0   \n",
       "1                       0.0                       0.0   \n",
       "\n",
       "   customer_service_calls_8  customer_service_calls_9  \n",
       "0                       0.0                       0.0  \n",
       "1                       0.0                       0.0  "
      ]
     },
     "execution_count": 15,
     "metadata": {},
     "output_type": "execute_result"
    }
   ],
   "source": [
    "need_to_encode = test_df[['international_plan', 'voice_mail_plan', 'customer_service_calls']]\n",
    "ohe = OneHotEncoder()\n",
    "ohe.fit(need_to_encode)\n",
    "\n",
    "ohe_1 = ohe.transform(need_to_encode).toarray()\n",
    "\n",
    "ohe_df = pd.DataFrame(ohe_1, columns=ohe.get_feature_names(need_to_encode.columns))\n",
    "ohe_df.head(2)"
   ]
  },
  {
   "cell_type": "code",
   "execution_count": 16,
   "metadata": {
    "ExecuteTime": {
     "end_time": "2022-03-02T20:20:04.558120Z",
     "start_time": "2022-03-02T20:20:04.543945Z"
    }
   },
   "outputs": [
    {
     "data": {
      "text/html": [
       "<div>\n",
       "<style scoped>\n",
       "    .dataframe tbody tr th:only-of-type {\n",
       "        vertical-align: middle;\n",
       "    }\n",
       "\n",
       "    .dataframe tbody tr th {\n",
       "        vertical-align: top;\n",
       "    }\n",
       "\n",
       "    .dataframe thead th {\n",
       "        text-align: right;\n",
       "    }\n",
       "</style>\n",
       "<table border=\"1\" class=\"dataframe\">\n",
       "  <thead>\n",
       "    <tr style=\"text-align: right;\">\n",
       "      <th></th>\n",
       "      <th>account_length</th>\n",
       "      <th>number_vmail_messages</th>\n",
       "      <th>total_day_minutes</th>\n",
       "      <th>total_day_calls</th>\n",
       "      <th>total_day_charge</th>\n",
       "      <th>total_eve_minutes</th>\n",
       "      <th>total_eve_calls</th>\n",
       "      <th>total_eve_charge</th>\n",
       "      <th>total_night_minutes</th>\n",
       "      <th>total_night_calls</th>\n",
       "      <th>...</th>\n",
       "      <th>customer_service_calls_0</th>\n",
       "      <th>customer_service_calls_1</th>\n",
       "      <th>customer_service_calls_2</th>\n",
       "      <th>customer_service_calls_3</th>\n",
       "      <th>customer_service_calls_4</th>\n",
       "      <th>customer_service_calls_5</th>\n",
       "      <th>customer_service_calls_6</th>\n",
       "      <th>customer_service_calls_7</th>\n",
       "      <th>customer_service_calls_8</th>\n",
       "      <th>customer_service_calls_9</th>\n",
       "    </tr>\n",
       "  </thead>\n",
       "  <tbody>\n",
       "    <tr>\n",
       "      <th>0</th>\n",
       "      <td>128</td>\n",
       "      <td>25</td>\n",
       "      <td>265.1</td>\n",
       "      <td>110</td>\n",
       "      <td>45.07</td>\n",
       "      <td>197.4</td>\n",
       "      <td>99</td>\n",
       "      <td>16.78</td>\n",
       "      <td>244.7</td>\n",
       "      <td>91</td>\n",
       "      <td>...</td>\n",
       "      <td>0.0</td>\n",
       "      <td>1.0</td>\n",
       "      <td>0.0</td>\n",
       "      <td>0.0</td>\n",
       "      <td>0.0</td>\n",
       "      <td>0.0</td>\n",
       "      <td>0.0</td>\n",
       "      <td>0.0</td>\n",
       "      <td>0.0</td>\n",
       "      <td>0.0</td>\n",
       "    </tr>\n",
       "    <tr>\n",
       "      <th>1</th>\n",
       "      <td>107</td>\n",
       "      <td>26</td>\n",
       "      <td>161.6</td>\n",
       "      <td>123</td>\n",
       "      <td>27.47</td>\n",
       "      <td>195.5</td>\n",
       "      <td>103</td>\n",
       "      <td>16.62</td>\n",
       "      <td>254.4</td>\n",
       "      <td>103</td>\n",
       "      <td>...</td>\n",
       "      <td>0.0</td>\n",
       "      <td>1.0</td>\n",
       "      <td>0.0</td>\n",
       "      <td>0.0</td>\n",
       "      <td>0.0</td>\n",
       "      <td>0.0</td>\n",
       "      <td>0.0</td>\n",
       "      <td>0.0</td>\n",
       "      <td>0.0</td>\n",
       "      <td>0.0</td>\n",
       "    </tr>\n",
       "  </tbody>\n",
       "</table>\n",
       "<p>2 rows × 31 columns</p>\n",
       "</div>"
      ],
      "text/plain": [
       "   account_length  number_vmail_messages  total_day_minutes  total_day_calls  \\\n",
       "0             128                     25              265.1              110   \n",
       "1             107                     26              161.6              123   \n",
       "\n",
       "   total_day_charge  total_eve_minutes  total_eve_calls  total_eve_charge  \\\n",
       "0             45.07              197.4               99             16.78   \n",
       "1             27.47              195.5              103             16.62   \n",
       "\n",
       "   total_night_minutes  total_night_calls  ...  customer_service_calls_0  \\\n",
       "0                244.7                 91  ...                       0.0   \n",
       "1                254.4                103  ...                       0.0   \n",
       "\n",
       "   customer_service_calls_1  customer_service_calls_2  \\\n",
       "0                       1.0                       0.0   \n",
       "1                       1.0                       0.0   \n",
       "\n",
       "   customer_service_calls_3  customer_service_calls_4  \\\n",
       "0                       0.0                       0.0   \n",
       "1                       0.0                       0.0   \n",
       "\n",
       "   customer_service_calls_5  customer_service_calls_6  \\\n",
       "0                       0.0                       0.0   \n",
       "1                       0.0                       0.0   \n",
       "\n",
       "   customer_service_calls_7  customer_service_calls_8  \\\n",
       "0                       0.0                       0.0   \n",
       "1                       0.0                       0.0   \n",
       "\n",
       "   customer_service_calls_9  \n",
       "0                       0.0  \n",
       "1                       0.0  \n",
       "\n",
       "[2 rows x 31 columns]"
      ]
     },
     "execution_count": 16,
     "metadata": {},
     "output_type": "execute_result"
    }
   ],
   "source": [
    "# Combining everything together\n",
    "cleaned_df = pd.concat([pd.DataFrame(feature_df), ohe_df], axis=1)\n",
    "cleaned_df.head(2)"
   ]
  },
  {
   "cell_type": "markdown",
   "metadata": {},
   "source": [
    "# Refining Data"
   ]
  },
  {
   "cell_type": "code",
   "execution_count": 17,
   "metadata": {
    "ExecuteTime": {
     "end_time": "2022-03-02T20:20:04.561926Z",
     "start_time": "2022-03-02T20:20:04.559378Z"
    }
   },
   "outputs": [],
   "source": [
    "cleaned_df_2 = cleaned_df.copy()\n",
    "#cleaned_df_2.head()"
   ]
  },
  {
   "cell_type": "markdown",
   "metadata": {},
   "source": [
    "## Dropping one value for categoricals"
   ]
  },
  {
   "cell_type": "code",
   "execution_count": 18,
   "metadata": {
    "ExecuteTime": {
     "end_time": "2022-03-02T20:20:04.566558Z",
     "start_time": "2022-03-02T20:20:04.562997Z"
    }
   },
   "outputs": [],
   "source": [
    "#Dropping a few of the redundant values.\n",
    "cleaned_df_2 = cleaned_df_2.drop(['international_plan_no', 'voice_mail_plan_no'], axis=1)"
   ]
  },
  {
   "cell_type": "markdown",
   "metadata": {},
   "source": [
    "## Creating Variable: Customer Service Calls High\n",
    "- If Customer Service Calls High = 4 or more Customer Service Calls"
   ]
  },
  {
   "cell_type": "code",
   "execution_count": 19,
   "metadata": {
    "ExecuteTime": {
     "end_time": "2022-03-02T20:20:04.622409Z",
     "start_time": "2022-03-02T20:20:04.567548Z"
    }
   },
   "outputs": [],
   "source": [
    "cs_calls_high= cleaned_df_2.apply(lambda x: x['customer_service_calls_4'] + x['customer_service_calls_5']\n",
    "                              + x['customer_service_calls_6'] + x['customer_service_calls_7']\n",
    "                            + x['customer_service_calls_8']+ x['customer_service_calls_9'], axis=1)\n",
    "\n",
    "cleaned_df_2['cs_calls_high'] = cs_calls_high"
   ]
  },
  {
   "cell_type": "code",
   "execution_count": 20,
   "metadata": {
    "ExecuteTime": {
     "end_time": "2022-03-02T20:20:04.634174Z",
     "start_time": "2022-03-02T20:20:04.623570Z"
    }
   },
   "outputs": [
    {
     "data": {
      "text/html": [
       "<div>\n",
       "<style scoped>\n",
       "    .dataframe tbody tr th:only-of-type {\n",
       "        vertical-align: middle;\n",
       "    }\n",
       "\n",
       "    .dataframe tbody tr th {\n",
       "        vertical-align: top;\n",
       "    }\n",
       "\n",
       "    .dataframe thead th {\n",
       "        text-align: right;\n",
       "    }\n",
       "</style>\n",
       "<table border=\"1\" class=\"dataframe\">\n",
       "  <thead>\n",
       "    <tr style=\"text-align: right;\">\n",
       "      <th></th>\n",
       "      <th>account_length</th>\n",
       "      <th>number_vmail_messages</th>\n",
       "      <th>total_day_minutes</th>\n",
       "      <th>total_day_calls</th>\n",
       "      <th>total_day_charge</th>\n",
       "      <th>total_eve_minutes</th>\n",
       "      <th>total_eve_calls</th>\n",
       "      <th>total_eve_charge</th>\n",
       "      <th>total_night_minutes</th>\n",
       "      <th>total_night_calls</th>\n",
       "      <th>total_night_charge</th>\n",
       "      <th>total_intl_minutes</th>\n",
       "      <th>total_intl_calls</th>\n",
       "      <th>total_intl_charge</th>\n",
       "      <th>customer_service_calls</th>\n",
       "      <th>churn</th>\n",
       "      <th>total_charge</th>\n",
       "      <th>international_plan_yes</th>\n",
       "      <th>voice_mail_plan_yes</th>\n",
       "      <th>cs_calls_high</th>\n",
       "    </tr>\n",
       "  </thead>\n",
       "  <tbody>\n",
       "    <tr>\n",
       "      <th>0</th>\n",
       "      <td>128</td>\n",
       "      <td>25</td>\n",
       "      <td>265.1</td>\n",
       "      <td>110</td>\n",
       "      <td>45.07</td>\n",
       "      <td>197.4</td>\n",
       "      <td>99</td>\n",
       "      <td>16.78</td>\n",
       "      <td>244.7</td>\n",
       "      <td>91</td>\n",
       "      <td>11.01</td>\n",
       "      <td>10.0</td>\n",
       "      <td>3</td>\n",
       "      <td>2.7</td>\n",
       "      <td>1</td>\n",
       "      <td>0</td>\n",
       "      <td>75.56</td>\n",
       "      <td>0.0</td>\n",
       "      <td>1.0</td>\n",
       "      <td>0.0</td>\n",
       "    </tr>\n",
       "    <tr>\n",
       "      <th>1</th>\n",
       "      <td>107</td>\n",
       "      <td>26</td>\n",
       "      <td>161.6</td>\n",
       "      <td>123</td>\n",
       "      <td>27.47</td>\n",
       "      <td>195.5</td>\n",
       "      <td>103</td>\n",
       "      <td>16.62</td>\n",
       "      <td>254.4</td>\n",
       "      <td>103</td>\n",
       "      <td>11.45</td>\n",
       "      <td>13.7</td>\n",
       "      <td>3</td>\n",
       "      <td>3.7</td>\n",
       "      <td>1</td>\n",
       "      <td>0</td>\n",
       "      <td>59.24</td>\n",
       "      <td>0.0</td>\n",
       "      <td>1.0</td>\n",
       "      <td>0.0</td>\n",
       "    </tr>\n",
       "  </tbody>\n",
       "</table>\n",
       "</div>"
      ],
      "text/plain": [
       "   account_length  number_vmail_messages  total_day_minutes  total_day_calls  \\\n",
       "0             128                     25              265.1              110   \n",
       "1             107                     26              161.6              123   \n",
       "\n",
       "   total_day_charge  total_eve_minutes  total_eve_calls  total_eve_charge  \\\n",
       "0             45.07              197.4               99             16.78   \n",
       "1             27.47              195.5              103             16.62   \n",
       "\n",
       "   total_night_minutes  total_night_calls  total_night_charge  \\\n",
       "0                244.7                 91               11.01   \n",
       "1                254.4                103               11.45   \n",
       "\n",
       "   total_intl_minutes  total_intl_calls  total_intl_charge  \\\n",
       "0                10.0                 3                2.7   \n",
       "1                13.7                 3                3.7   \n",
       "\n",
       "   customer_service_calls  churn  total_charge  international_plan_yes  \\\n",
       "0                       1      0         75.56                     0.0   \n",
       "1                       1      0         59.24                     0.0   \n",
       "\n",
       "   voice_mail_plan_yes  cs_calls_high  \n",
       "0                  1.0            0.0  \n",
       "1                  1.0            0.0  "
      ]
     },
     "execution_count": 20,
     "metadata": {},
     "output_type": "execute_result"
    }
   ],
   "source": [
    "cleaned_df_2 = cleaned_df_2.drop(['customer_service_calls_0', 'customer_service_calls_1','customer_service_calls_2','customer_service_calls_3',\n",
    "                     'customer_service_calls_4','customer_service_calls_5','customer_service_calls_6',\n",
    "                     'customer_service_calls_7','customer_service_calls_8','customer_service_calls_9']\n",
    "                    , axis=1)\n",
    "cleaned_df_2.head(2)"
   ]
  },
  {
   "cell_type": "code",
   "execution_count": 21,
   "metadata": {
    "ExecuteTime": {
     "end_time": "2022-03-02T20:20:04.674597Z",
     "start_time": "2022-03-02T20:20:04.635031Z"
    }
   },
   "outputs": [],
   "source": [
    "total_charge = cleaned_df_2.apply(lambda x: x['total_day_charge'] + x['total_eve_charge'] +x['total_night_charge']\n",
    "                             +x['total_intl_charge'], axis=1)\n",
    "cleaned_df_2['total_charge']= total_charge"
   ]
  },
  {
   "cell_type": "markdown",
   "metadata": {},
   "source": [
    "## Creating Model DataFrame"
   ]
  },
  {
   "cell_type": "code",
   "execution_count": 22,
   "metadata": {
    "ExecuteTime": {
     "end_time": "2022-03-02T20:20:04.682232Z",
     "start_time": "2022-03-02T20:20:04.675857Z"
    }
   },
   "outputs": [
    {
     "name": "stdout",
     "output_type": "stream",
     "text": [
      "<class 'pandas.core.frame.DataFrame'>\n",
      "RangeIndex: 3333 entries, 0 to 3332\n",
      "Data columns (total 20 columns):\n",
      " #   Column                  Non-Null Count  Dtype  \n",
      "---  ------                  --------------  -----  \n",
      " 0   account_length          3333 non-null   int64  \n",
      " 1   number_vmail_messages   3333 non-null   int64  \n",
      " 2   total_day_minutes       3333 non-null   float64\n",
      " 3   total_day_calls         3333 non-null   int64  \n",
      " 4   total_day_charge        3333 non-null   float64\n",
      " 5   total_eve_minutes       3333 non-null   float64\n",
      " 6   total_eve_calls         3333 non-null   int64  \n",
      " 7   total_eve_charge        3333 non-null   float64\n",
      " 8   total_night_minutes     3333 non-null   float64\n",
      " 9   total_night_calls       3333 non-null   int64  \n",
      " 10  total_night_charge      3333 non-null   float64\n",
      " 11  total_intl_minutes      3333 non-null   float64\n",
      " 12  total_intl_calls        3333 non-null   int64  \n",
      " 13  total_intl_charge       3333 non-null   float64\n",
      " 14  customer_service_calls  3333 non-null   int64  \n",
      " 15  churn                   3333 non-null   int64  \n",
      " 16  total_charge            3333 non-null   float64\n",
      " 17  international_plan_yes  3333 non-null   float64\n",
      " 18  voice_mail_plan_yes     3333 non-null   float64\n",
      " 19  cs_calls_high           3333 non-null   float64\n",
      "dtypes: float64(12), int64(8)\n",
      "memory usage: 520.9 KB\n"
     ]
    }
   ],
   "source": [
    "model_df = cleaned_df_2.copy()\n",
    "model_df.info()"
   ]
  },
  {
   "cell_type": "code",
   "execution_count": 23,
   "metadata": {
    "ExecuteTime": {
     "end_time": "2022-03-02T20:20:04.689006Z",
     "start_time": "2022-03-02T20:20:04.686501Z"
    }
   },
   "outputs": [],
   "source": [
    "model_df=model_df.drop(['customer_service_calls','total_day_charge', 'total_eve_charge', 'total_night_charge', 'total_intl_charge']\n",
    "                          , axis=1)\n"
   ]
  },
  {
   "cell_type": "code",
   "execution_count": 24,
   "metadata": {
    "ExecuteTime": {
     "end_time": "2022-03-02T20:20:04.698385Z",
     "start_time": "2022-03-02T20:20:04.692229Z"
    }
   },
   "outputs": [
    {
     "name": "stdout",
     "output_type": "stream",
     "text": [
      "<class 'pandas.core.frame.DataFrame'>\n",
      "RangeIndex: 3333 entries, 0 to 3332\n",
      "Data columns (total 15 columns):\n",
      " #   Column                  Non-Null Count  Dtype  \n",
      "---  ------                  --------------  -----  \n",
      " 0   account_length          3333 non-null   int64  \n",
      " 1   number_vmail_messages   3333 non-null   int64  \n",
      " 2   total_day_minutes       3333 non-null   float64\n",
      " 3   total_day_calls         3333 non-null   int64  \n",
      " 4   total_eve_minutes       3333 non-null   float64\n",
      " 5   total_eve_calls         3333 non-null   int64  \n",
      " 6   total_night_minutes     3333 non-null   float64\n",
      " 7   total_night_calls       3333 non-null   int64  \n",
      " 8   total_intl_minutes      3333 non-null   float64\n",
      " 9   total_intl_calls        3333 non-null   int64  \n",
      " 10  churn                   3333 non-null   int64  \n",
      " 11  total_charge            3333 non-null   float64\n",
      " 12  international_plan_yes  3333 non-null   float64\n",
      " 13  voice_mail_plan_yes     3333 non-null   float64\n",
      " 14  cs_calls_high           3333 non-null   float64\n",
      "dtypes: float64(8), int64(7)\n",
      "memory usage: 390.7 KB\n"
     ]
    }
   ],
   "source": [
    "model_df.info()"
   ]
  },
  {
   "cell_type": "markdown",
   "metadata": {
    "ExecuteTime": {
     "end_time": "2022-02-24T19:47:24.241054Z",
     "start_time": "2022-02-24T19:47:24.237331Z"
    }
   },
   "source": [
    "## Dealing With Churn Class Imbalance \n",
    "- adding class weight Decision Tree Classifier\n",
    "- Adding stratify to Test Train Split\n",
    "- Adding SMOTE to Dataset."
   ]
  },
  {
   "cell_type": "code",
   "execution_count": 25,
   "metadata": {
    "ExecuteTime": {
     "end_time": "2022-03-02T20:20:04.712531Z",
     "start_time": "2022-03-02T20:20:04.699401Z"
    }
   },
   "outputs": [],
   "source": [
    "balanced_df = model_df.copy()\n",
    "\n",
    "X = balanced_df.drop(['churn'], axis=1)\n",
    "y = balanced_df['churn']\n",
    "\n",
    "X_train, X_test, y_train, y_test = train_test_split(X, y, test_size=.25, stratify=y, random_state=23)\n",
    "\n",
    "smote = SMOTE(random_state=23)\n",
    "X_train_resampled, y_train_resampled = smote.fit_sample(X_train, y_train) "
   ]
  },
  {
   "cell_type": "markdown",
   "metadata": {},
   "source": [
    "## Metrics Function"
   ]
  },
  {
   "cell_type": "code",
   "execution_count": 26,
   "metadata": {
    "ExecuteTime": {
     "end_time": "2022-03-02T20:20:04.715972Z",
     "start_time": "2022-03-02T20:20:04.713523Z"
    }
   },
   "outputs": [],
   "source": [
    "def get_metrics(clf, y_pred):\n",
    "    \n",
    "    clf_rcl = recall_score(y_test, y_pred) * 100\n",
    "    print('Recall is :{0}'.format(clf_rcl))\n",
    "    clf_f1 = f1_score(y_test, y_pred) * 100\n",
    "    print('F1 Score is :{0}'.format(clf_f1))\n",
    "    false_positive_rate, true_positive_rate, thresholds = roc_curve(y_test, y_pred)\n",
    "    clf_roc_auc = auc(false_positive_rate, true_positive_rate)\n",
    "    print('ROC AUC is :{0}'.format(round(clf_roc_auc, 2)))\n",
    "    "
   ]
  },
  {
   "cell_type": "markdown",
   "metadata": {},
   "source": [
    "# Baseline Decision Tree "
   ]
  },
  {
   "cell_type": "code",
   "execution_count": 27,
   "metadata": {
    "ExecuteTime": {
     "end_time": "2022-03-02T20:20:04.739384Z",
     "start_time": "2022-03-02T20:20:04.717061Z"
    }
   },
   "outputs": [],
   "source": [
    "dt1 = DecisionTreeClassifier(random_state=23, class_weight=\"balanced\")\n",
    "dt1.fit(X_train_resampled, y_train_resampled)\n",
    "dt1_y_pred = dt1.predict(X_test)"
   ]
  },
  {
   "cell_type": "code",
   "execution_count": 28,
   "metadata": {
    "ExecuteTime": {
     "end_time": "2022-03-02T20:20:04.746299Z",
     "start_time": "2022-03-02T20:20:04.740396Z"
    }
   },
   "outputs": [
    {
     "name": "stdout",
     "output_type": "stream",
     "text": [
      "Recall is :84.29752066115702\n",
      "F1 Score is :80.63241106719367\n",
      "ROC AUC is :0.9\n"
     ]
    }
   ],
   "source": [
    "get_metrics(dt1, dt1_y_pred)"
   ]
  },
  {
   "cell_type": "code",
   "execution_count": 29,
   "metadata": {
    "ExecuteTime": {
     "end_time": "2022-03-02T20:20:04.802940Z",
     "start_time": "2022-03-02T20:20:04.747304Z"
    }
   },
   "outputs": [
    {
     "data": {
      "text/plain": [
       "0.9513336947237007"
      ]
     },
     "execution_count": 29,
     "metadata": {},
     "output_type": "execute_result"
    }
   ],
   "source": [
    "dt1_cv_score = np.mean(cross_val_score(dt1, X_train_resampled, y_train_resampled, cv=3))\n",
    "dt1_cv_score"
   ]
  },
  {
   "cell_type": "code",
   "execution_count": 30,
   "metadata": {
    "ExecuteTime": {
     "end_time": "2022-03-02T20:20:04.922333Z",
     "start_time": "2022-03-02T20:20:04.804448Z"
    }
   },
   "outputs": [
    {
     "data": {
      "image/png": "[encoded data removed]",
      "text/plain": [
       "<Figure size 360x360 with 2 Axes>"
      ]
     },
     "metadata": {},
     "output_type": "display_data"
    }
   ],
   "source": [
    "dt1_matrix = confusion_matrix(y_test, dt1_y_pred)\n",
    "\n",
    "fig, ax = plt.subplots(figsize=(5,5))\n",
    "\n",
    "ax = sns.heatmap(dt1_matrix, annot=True, cmap='Reds', fmt='d')\n",
    "\n",
    "ax.set_title('Baseline Decision Tree Confusion Matrix', fontsize = 30);\n",
    "ax.set_xlabel('\\nPredicted Values',fontsize = 20)\n",
    "ax.set_ylabel('Actual Values ', fontsize=20);\n",
    "\n",
    "## Ticket labels - List must be in alphabetical order\n",
    "ax.xaxis.set_ticklabels(['Stayed','Churned'])\n",
    "ax.yaxis.set_ticklabels(['Stayed','Churned'])\n",
    "\n",
    "## Display the visualization of the Confusion Matrix.\n",
    "plt.show()"
   ]
  },
  {
   "cell_type": "markdown",
   "metadata": {},
   "source": [
    "## Analysis:\n",
    "- All of my work in preprocessing has paid off. The first model is already performing well.\n",
    "- Recall is decent, F1 score is okay, and most importantly, ROC AUC score is very good.\n",
    "- Still, I will use GridSearch to further optimize my Decision Tree, and then use Random Forests to see if I can further refine and improve my model."
   ]
  },
  {
   "cell_type": "markdown",
   "metadata": {},
   "source": [
    "## Refining Decision Tree through GridSearchCV"
   ]
  },
  {
   "cell_type": "code",
   "execution_count": 31,
   "metadata": {
    "ExecuteTime": {
     "end_time": "2022-03-02T20:20:04.926640Z",
     "start_time": "2022-03-02T20:20:04.924285Z"
    }
   },
   "outputs": [],
   "source": [
    "dt_param_grid = {\n",
    "    'criterion': ['gini', 'entropy'],\n",
    "    'max_depth': [None, 2, 3, 4, 5, 6],\n",
    "    'min_samples_split': [2, 5, 10],\n",
    "    'min_samples_leaf': [1, 2, 3, 4, 5, 6]\n",
    "}"
   ]
  },
  {
   "cell_type": "code",
   "execution_count": 32,
   "metadata": {
    "ExecuteTime": {
     "end_time": "2022-03-02T20:20:11.364193Z",
     "start_time": "2022-03-02T20:20:04.928101Z"
    }
   },
   "outputs": [
    {
     "data": {
      "text/plain": [
       "GridSearchCV(cv=3, estimator=DecisionTreeClassifier(random_state=23),\n",
       "             param_grid={'criterion': ['gini', 'entropy'],\n",
       "                         'max_depth': [None, 2, 3, 4, 5, 6],\n",
       "                         'min_samples_leaf': [1, 2, 3, 4, 5, 6],\n",
       "                         'min_samples_split': [2, 5, 10]},\n",
       "             scoring='recall')"
      ]
     },
     "execution_count": 32,
     "metadata": {},
     "output_type": "execute_result"
    }
   ],
   "source": [
    "# Instantiate GridSearchCV\n",
    "dt2 = DecisionTreeClassifier(random_state=23)\n",
    "\n",
    "#dt_grid_search = GridSearchCV(dt2, dt_param_grid, cv=3, scoring = 'recall')\n",
    "dt_grid_search = GridSearchCV(dt2, dt_param_grid, cv=3, scoring = 'recall')\n",
    "#dt3_grid_search = GridSearchCV(dt3, dt_param_grid, cv=3, scoring = 'f1', return_train_score=True)\n",
    "\n",
    "# Fit to the data\n",
    "dt_grid_search.fit(X_train_resampled, y_train_resampled)"
   ]
  },
  {
   "cell_type": "code",
   "execution_count": 33,
   "metadata": {
    "ExecuteTime": {
     "end_time": "2022-03-02T20:20:11.367228Z",
     "start_time": "2022-03-02T20:20:11.365012Z"
    }
   },
   "outputs": [
    {
     "data": {
      "text/plain": [
       "{'criterion': 'entropy',\n",
       " 'max_depth': None,\n",
       " 'min_samples_leaf': 1,\n",
       " 'min_samples_split': 2}"
      ]
     },
     "execution_count": 33,
     "metadata": {},
     "output_type": "execute_result"
    }
   ],
   "source": [
    "dt_grid_search.best_params_"
   ]
  },
  {
   "cell_type": "markdown",
   "metadata": {
    "ExecuteTime": {
     "end_time": "2022-02-24T20:01:07.364500Z",
     "start_time": "2022-02-24T20:01:07.361523Z"
    }
   },
   "source": [
    "# Decision Tree 2 (Using Grid Search Parameters)"
   ]
  },
  {
   "cell_type": "code",
   "execution_count": 34,
   "metadata": {
    "ExecuteTime": {
     "end_time": "2022-03-02T20:20:11.390084Z",
     "start_time": "2022-03-02T20:20:11.368097Z"
    }
   },
   "outputs": [],
   "source": [
    "dt2 = DecisionTreeClassifier(criterion='entropy', max_depth=None, min_samples_split=2,\n",
    "                             min_samples_leaf=1, class_weight='balanced', random_state=23)\n",
    "dt2.fit(X_train_resampled, y_train_resampled)\n",
    "dt2_y_pred = dt2.predict(X_test)"
   ]
  },
  {
   "cell_type": "code",
   "execution_count": 35,
   "metadata": {
    "ExecuteTime": {
     "end_time": "2022-03-02T20:20:11.395719Z",
     "start_time": "2022-03-02T20:20:11.390985Z"
    }
   },
   "outputs": [
    {
     "name": "stdout",
     "output_type": "stream",
     "text": [
      "Recall is :85.12396694214877\n",
      "F1 Score is :82.07171314741036\n",
      "ROC AUC is :0.91\n"
     ]
    }
   ],
   "source": [
    "get_metrics(dt2, dt2_y_pred)"
   ]
  },
  {
   "cell_type": "code",
   "execution_count": 36,
   "metadata": {
    "ExecuteTime": {
     "end_time": "2022-03-02T20:20:11.443397Z",
     "start_time": "2022-03-02T20:20:11.396652Z"
    }
   },
   "outputs": [
    {
     "data": {
      "text/plain": [
       "0.9588203889874499"
      ]
     },
     "execution_count": 36,
     "metadata": {},
     "output_type": "execute_result"
    }
   ],
   "source": [
    "dt2_cv_score = np.mean(cross_val_score(dt2, X_train_resampled, y_train_resampled, cv=3))\n",
    "dt2_cv_score"
   ]
  },
  {
   "cell_type": "code",
   "execution_count": 37,
   "metadata": {
    "ExecuteTime": {
     "end_time": "2022-03-02T20:20:11.536992Z",
     "start_time": "2022-03-02T20:20:11.444289Z"
    }
   },
   "outputs": [
    {
     "data": {
      "image/png": "[encoded data removed]",
      "text/plain": [
       "<Figure size 360x360 with 2 Axes>"
      ]
     },
     "metadata": {},
     "output_type": "display_data"
    }
   ],
   "source": [
    "dt2_matrix = confusion_matrix(y_test, dt2_y_pred)\n",
    "\n",
    "fig, ax = plt.subplots(figsize=(5,5))\n",
    "\n",
    "ax = sns.heatmap(dt2_matrix, annot=True, cmap='Reds', fmt='d')\n",
    "\n",
    "ax.set_title('Decision Tree 2 Confusion Matrix', fontsize = 30);\n",
    "ax.set_xlabel('\\nPredicted Values',fontsize = 20)\n",
    "ax.set_ylabel('Actual Values ', fontsize=20);\n",
    "\n",
    "## Ticket labels - List must be in alphabetical order\n",
    "ax.xaxis.set_ticklabels(['Stayed','Churned'])\n",
    "ax.yaxis.set_ticklabels(['Stayed','Churned'])\n",
    "\n",
    "## Display the visualization of the Confusion Matrix.\n",
    "plt.show()"
   ]
  },
  {
   "cell_type": "markdown",
   "metadata": {},
   "source": [
    "## Analysis:\n",
    "- Decision Tree 2 is similar to Decision Tree 1, but performs slightly  worse overall."
   ]
  },
  {
   "cell_type": "markdown",
   "metadata": {
    "ExecuteTime": {
     "end_time": "2022-02-24T20:05:04.651877Z",
     "start_time": "2022-02-24T20:05:04.644324Z"
    }
   },
   "source": [
    "# Random Forests 1"
   ]
  },
  {
   "cell_type": "code",
   "execution_count": 38,
   "metadata": {
    "ExecuteTime": {
     "end_time": "2022-03-02T20:20:11.972379Z",
     "start_time": "2022-03-02T20:20:11.537876Z"
    }
   },
   "outputs": [],
   "source": [
    "rf1_clf = RandomForestClassifier(random_state=23, class_weight=\"balanced\")\n",
    "rf1_clf.fit(X_train_resampled, y_train_resampled)\n",
    "rf1_y_pred = rf1_clf.predict(X_test)"
   ]
  },
  {
   "cell_type": "code",
   "execution_count": 39,
   "metadata": {
    "ExecuteTime": {
     "end_time": "2022-03-02T20:20:11.977792Z",
     "start_time": "2022-03-02T20:20:11.973388Z"
    }
   },
   "outputs": [
    {
     "name": "stdout",
     "output_type": "stream",
     "text": [
      "Recall is :82.64462809917356\n",
      "F1 Score is :88.10572687224669\n",
      "ROC AUC is :0.91\n"
     ]
    }
   ],
   "source": [
    "get_metrics(rf1_clf, rf1_y_pred)"
   ]
  },
  {
   "cell_type": "code",
   "execution_count": 40,
   "metadata": {
    "ExecuteTime": {
     "end_time": "2022-03-02T20:20:12.842626Z",
     "start_time": "2022-03-02T20:20:11.978788Z"
    }
   },
   "outputs": [
    {
     "data": {
      "text/plain": [
       "0.971224127735068"
      ]
     },
     "execution_count": 40,
     "metadata": {},
     "output_type": "execute_result"
    }
   ],
   "source": [
    "rf1_cv_score = np.mean(cross_val_score(rf1_clf, X_train_resampled, y_train_resampled, cv=3))\n",
    "rf1_cv_score"
   ]
  },
  {
   "cell_type": "code",
   "execution_count": 41,
   "metadata": {
    "ExecuteTime": {
     "end_time": "2022-03-02T20:20:12.943399Z",
     "start_time": "2022-03-02T20:20:12.843552Z"
    }
   },
   "outputs": [
    {
     "data": {
      "image/png": "[encoded data removed]",
      "text/plain": [
       "<Figure size 360x360 with 2 Axes>"
      ]
     },
     "metadata": {},
     "output_type": "display_data"
    }
   ],
   "source": [
    "rf1_matrix = confusion_matrix(y_test, rf1_y_pred)\n",
    "\n",
    "fig, ax = plt.subplots(figsize=(5,5))\n",
    "\n",
    "ax = sns.heatmap(rf1_matrix, annot=True, cmap='Reds', fmt='d')\n",
    "\n",
    "ax.set_title('Random Forests 1 Confusion Matrix', fontsize = 30);\n",
    "ax.set_xlabel('\\nPredicted Values',fontsize = 20)\n",
    "ax.set_ylabel('Actual Values ', fontsize=20);\n",
    "\n",
    "## Ticket labels - List must be in alphabetical order\n",
    "ax.xaxis.set_ticklabels(['Stayed','Churned'])\n",
    "ax.yaxis.set_ticklabels(['Stayed','Churned'])\n",
    "\n",
    "## Display the visualization of the Confusion Matrix.\n",
    "plt.show()"
   ]
  },
  {
   "cell_type": "markdown",
   "metadata": {
    "ExecuteTime": {
     "end_time": "2022-02-24T20:06:40.653045Z",
     "start_time": "2022-02-24T20:06:40.648248Z"
    }
   },
   "source": [
    "## Analysis\n",
    "- My Random Forests model performs better than my Decision Trees in ROC AUC Score and F1 Score.\n",
    "- The Recall Score is a slightly lower than my Decision Trees, but I hope that running a Grid Search will improve this score."
   ]
  },
  {
   "cell_type": "markdown",
   "metadata": {},
   "source": [
    "## GridSearch CV"
   ]
  },
  {
   "cell_type": "code",
   "execution_count": 42,
   "metadata": {
    "ExecuteTime": {
     "end_time": "2022-03-02T20:20:12.946543Z",
     "start_time": "2022-03-02T20:20:12.944484Z"
    }
   },
   "outputs": [],
   "source": [
    "rf_param_grid = {\n",
    "    'n_estimators': [10, 30, 100],\n",
    "    'criterion': ['gini', 'entropy'],\n",
    "    'max_depth': [None, 2, 6, 10],\n",
    "    'min_samples_split': [5, 10],\n",
    "    'min_samples_leaf': [3, 6]\n",
    "}"
   ]
  },
  {
   "cell_type": "code",
   "execution_count": 43,
   "metadata": {
    "ExecuteTime": {
     "end_time": "2022-03-02T20:20:45.428204Z",
     "start_time": "2022-03-02T20:20:12.947689Z"
    }
   },
   "outputs": [
    {
     "name": "stdout",
     "output_type": "stream",
     "text": [
      "\n",
      "Random Forest  Optimal Parameters: {'criterion': 'gini', 'max_depth': None, 'min_samples_leaf': 3, 'min_samples_split': 5, 'n_estimators': 30}\n"
     ]
    }
   ],
   "source": [
    "rf2_clf = RandomForestClassifier(random_state=23)\n",
    "\n",
    "#rf2_grid_search = GridSearchCV(rf2_clf, rf_param_grid, scoring = 'recall', cv=3)\n",
    "rf1_grid_search= GridSearchCV(rf2_clf, rf_param_grid, scoring = 'recall', cv=3)\n",
    "#rf1_grid_search = GridSearchCV(rf2_clf, rf_param_grid, scoring = 'recall', cv=3)\n",
    "rf1_grid_search.fit(X_train_resampled, y_train_resampled)\n",
    "\n",
    "#print(f\"Random Forest 2 Training Accuracy: {rf1_grid_search.best_score_ :.2%}\")\n",
    "#print(\"\")\n",
    "# Mean test score\n",
    "#rf1_gs_testing_score = rf2_grid_search.score(X_test, y_test)\n",
    "print(\"\")\n",
    "print(f\"Random Forest  Optimal Parameters: {rf1_grid_search.best_params_}\")"
   ]
  },
  {
   "cell_type": "markdown",
   "metadata": {},
   "source": [
    "# Random Forests 2 (Using Parameters from GridSearchCV)"
   ]
  },
  {
   "cell_type": "code",
   "execution_count": 44,
   "metadata": {
    "ExecuteTime": {
     "end_time": "2022-03-02T20:20:45.554047Z",
     "start_time": "2022-03-02T20:20:45.429302Z"
    }
   },
   "outputs": [],
   "source": [
    "rf2_clf = RandomForestClassifier(criterion= 'gini', max_depth= None, min_samples_leaf= 3,\n",
    "                                min_samples_split= 5, n_estimators= 30, random_state=23,\n",
    "                                class_weight='balanced')\n",
    "rf2_clf.fit(X_train_resampled, y_train_resampled)\n",
    "rf2_y_pred = rf2_clf.predict(X_test)"
   ]
  },
  {
   "cell_type": "code",
   "execution_count": 45,
   "metadata": {
    "ExecuteTime": {
     "end_time": "2022-03-02T20:20:45.559147Z",
     "start_time": "2022-03-02T20:20:45.554905Z"
    }
   },
   "outputs": [
    {
     "name": "stdout",
     "output_type": "stream",
     "text": [
      "Recall is :81.81818181818183\n",
      "F1 Score is :85.71428571428572\n",
      "ROC AUC is :0.9\n"
     ]
    }
   ],
   "source": [
    "get_metrics(rf2_clf, rf2_y_pred)"
   ]
  },
  {
   "cell_type": "code",
   "execution_count": 46,
   "metadata": {
    "ExecuteTime": {
     "end_time": "2022-03-02T20:20:45.834733Z",
     "start_time": "2022-03-02T20:20:45.560111Z"
    }
   },
   "outputs": [
    {
     "data": {
      "text/plain": [
       "0.9660757934161247"
      ]
     },
     "execution_count": 46,
     "metadata": {},
     "output_type": "execute_result"
    }
   ],
   "source": [
    "rf2_cv_score = np.mean(cross_val_score(rf2_clf, X_train_resampled, y_train_resampled, cv=3))\n",
    "rf2_cv_score"
   ]
  },
  {
   "cell_type": "code",
   "execution_count": 47,
   "metadata": {
    "ExecuteTime": {
     "end_time": "2022-03-02T20:20:45.937258Z",
     "start_time": "2022-03-02T20:20:45.835705Z"
    }
   },
   "outputs": [
    {
     "data": {
      "image/png": "[encoded data removed]",
      "text/plain": [
       "<Figure size 360x360 with 2 Axes>"
      ]
     },
     "metadata": {},
     "output_type": "display_data"
    }
   ],
   "source": [
    "rf2_matrix = confusion_matrix(y_test, rf2_y_pred)\n",
    "\n",
    "fig, ax = plt.subplots(figsize=(5,5))\n",
    "\n",
    "ax = sns.heatmap(rf2_matrix, annot=True, cmap='Reds', fmt='d' )\n",
    "\n",
    "ax.set_title('Random Forests 2 Confusion Matrix', fontsize = 30);\n",
    "ax.set_xlabel('\\nPredicted Values',fontsize = 20)\n",
    "ax.set_ylabel('Actual Values ', fontsize=20);\n",
    "\n",
    "## Ticket labels - List must be in alphabetical order\n",
    "ax.xaxis.set_ticklabels(['Stayed','Churned'])\n",
    "ax.yaxis.set_ticklabels(['Stayed','Churned'])\n",
    "\n",
    "## Display the visualization of the Confusion Matrix.\n",
    "plt.show()"
   ]
  },
  {
   "cell_type": "markdown",
   "metadata": {},
   "source": [
    "## Analysis:\n",
    "- While all 4 of my models performed well, this is my best performing model.\n",
    "- Random Forests 2 performs best in all 3 key metrics: Recall, F1 Score, and ROC AUC Score.\n",
    "- It also performs well enough to be used as my final model. "
   ]
  },
  {
   "cell_type": "markdown",
   "metadata": {},
   "source": [
    "# XGBOOST"
   ]
  },
  {
   "cell_type": "code",
   "execution_count": 48,
   "metadata": {
    "ExecuteTime": {
     "end_time": "2022-03-02T20:20:45.964769Z",
     "start_time": "2022-03-02T20:20:45.938796Z"
    }
   },
   "outputs": [],
   "source": [
    "from xgboost import XGBClassifier"
   ]
  },
  {
   "cell_type": "code",
   "execution_count": 94,
   "metadata": {
    "ExecuteTime": {
     "end_time": "2022-03-02T20:48:25.746442Z",
     "start_time": "2022-03-02T20:48:25.517104Z"
    }
   },
   "outputs": [
    {
     "name": "stdout",
     "output_type": "stream",
     "text": [
      "Training Accuracy: 100.0%\n",
      "Validation accuracy: 97.72%\n"
     ]
    }
   ],
   "source": [
    "# Instantiate XGBClassifier\n",
    "clf = XGBClassifier(random_state=23)\n",
    "\n",
    "# Fit XGBClassifier\n",
    "xg1 = clf.fit(X_train_resampled, y_train_resampled)\n",
    "\n",
    "# Predict on training and test sets\n",
    "training_preds = clf.predict(X_train_resampled)\n",
    "xg1_y_pred = clf.predict(X_test)\n",
    "\n",
    "# Accuracy of training and test sets\n",
    "training_accuracy = accuracy_score(y_train_resampled, training_preds)\n",
    "test_accuracy = accuracy_score(y_test, xg1_y_pred)\n",
    "\n",
    "print('Training Accuracy: {:.4}%'.format(training_accuracy * 100))\n",
    "print('Validation accuracy: {:.4}%'.format(test_accuracy * 100))"
   ]
  },
  {
   "cell_type": "code",
   "execution_count": 95,
   "metadata": {
    "ExecuteTime": {
     "end_time": "2022-03-02T20:48:41.232754Z",
     "start_time": "2022-03-02T20:48:41.217309Z"
    }
   },
   "outputs": [
    {
     "name": "stdout",
     "output_type": "stream",
     "text": [
      "Recall is :84.29752066115702\n",
      "F1 Score is :91.4798206278027\n",
      "ROC AUC is :0.92\n"
     ]
    }
   ],
   "source": [
    "get_metrics(xg1, xg1_y_pred)"
   ]
  },
  {
   "cell_type": "code",
   "execution_count": 108,
   "metadata": {
    "ExecuteTime": {
     "end_time": "2022-03-02T21:05:44.610831Z",
     "start_time": "2022-03-02T21:05:44.196438Z"
    }
   },
   "outputs": [
    {
     "data": {
      "text/plain": [
       "0.9794115907746895"
      ]
     },
     "execution_count": 108,
     "metadata": {},
     "output_type": "execute_result"
    }
   ],
   "source": [
    "xg1_cv_score = np.mean(cross_val_score(xg1, X_train_resampled, y_train_resampled, cv=3))\n",
    "xg1_cv_score"
   ]
  },
  {
   "cell_type": "markdown",
   "metadata": {},
   "source": [
    "## GridSearch"
   ]
  },
  {
   "cell_type": "code",
   "execution_count": 51,
   "metadata": {
    "ExecuteTime": {
     "end_time": "2022-03-02T20:20:46.183071Z",
     "start_time": "2022-03-02T20:20:46.180961Z"
    }
   },
   "outputs": [],
   "source": [
    "boost_param_grid = {\n",
    "    'learning_rate': [0.1, 0.2],\n",
    "    'max_depth': [6],\n",
    "    'min_child_weight': [1, 2],\n",
    "    'subsample': [0.5, 0.7],\n",
    "    'n_estimators': [100],\n",
    "}"
   ]
  },
  {
   "cell_type": "code",
   "execution_count": 96,
   "metadata": {
    "ExecuteTime": {
     "end_time": "2022-03-02T20:49:47.857647Z",
     "start_time": "2022-03-02T20:49:44.389283Z"
    }
   },
   "outputs": [
    {
     "name": "stdout",
     "output_type": "stream",
     "text": [
      "Grid Search found the following optimal parameters: \n",
      "learning_rate: 0.2\n",
      "max_depth: 6\n",
      "min_child_weight: 1\n",
      "n_estimators: 100\n",
      "subsample: 0.7\n",
      "\n",
      "Training Accuracy: 100.0%\n",
      "Validation accuracy: 97.36%\n"
     ]
    }
   ],
   "source": [
    "xg2 = XGBClassifier(random_state=23)\n",
    "\n",
    "grid_clf = GridSearchCV(xg2, boost_param_grid, scoring='recall', cv=3, n_jobs=1)\n",
    "grid_clf.fit(X_train_resampled, y_train_resampled)\n",
    "\n",
    "best_parameters = grid_clf.best_params_\n",
    "\n",
    "print('Grid Search found the following optimal parameters: ')\n",
    "for param_name in sorted(best_parameters.keys()):\n",
    "    print('%s: %r' % (param_name, best_parameters[param_name]))\n",
    "\n",
    "training_preds = grid_clf.predict(X_train_resampled)\n",
    "test_preds = grid_clf.predict(X_test)\n",
    "training_accuracy = accuracy_score(y_train_resampled, training_preds)\n",
    "test_accuracy = accuracy_score(y_test, test_preds)\n",
    "\n",
    "print('')\n",
    "print('Training Accuracy: {:.4}%'.format(training_accuracy * 100))\n",
    "print('Validation accuracy: {:.4}%'.format(test_accuracy * 100))"
   ]
  },
  {
   "cell_type": "code",
   "execution_count": 98,
   "metadata": {
    "ExecuteTime": {
     "end_time": "2022-03-02T20:51:00.300477Z",
     "start_time": "2022-03-02T20:51:00.104511Z"
    }
   },
   "outputs": [],
   "source": [
    "xg2 = XGBClassifier(learning_rate= 0.2, max_depth=6, min_child_weight=1,\n",
    "                                n_estimators=100, subsample=0.7, random_state=23)\n",
    "xg2.fit(X_train_resampled, y_train_resampled)\n",
    "xg2_y_pred = xg2.predict(X_test)"
   ]
  },
  {
   "cell_type": "code",
   "execution_count": 99,
   "metadata": {
    "ExecuteTime": {
     "end_time": "2022-03-02T20:51:08.671498Z",
     "start_time": "2022-03-02T20:51:08.668910Z"
    }
   },
   "outputs": [
    {
     "name": "stdout",
     "output_type": "stream",
     "text": [
      "\n",
      "Training Accuracy: 100.0%\n",
      "Validation accuracy: 97.36%\n"
     ]
    }
   ],
   "source": [
    "xg2_training_accuracy = accuracy_score(y_train_resampled, training_preds)\n",
    "xg2_test_accuracy = accuracy_score(y_test, test_preds)\n",
    "\n",
    "print('')\n",
    "print('Training Accuracy: {:.4}%'.format(boosted_model_2_training_accuracy * 100))\n",
    "print('Validation accuracy: {:.4}%'.format(boosted_model_2_test_accuracy * 100))"
   ]
  },
  {
   "cell_type": "code",
   "execution_count": 106,
   "metadata": {
    "ExecuteTime": {
     "end_time": "2022-03-02T20:55:51.875982Z",
     "start_time": "2022-03-02T20:55:51.861803Z"
    }
   },
   "outputs": [
    {
     "name": "stdout",
     "output_type": "stream",
     "text": [
      "Recall is :85.12396694214877\n",
      "F1 Score is :90.35087719298247\n",
      "ROC AUC is :0.92\n"
     ]
    }
   ],
   "source": [
    "get_metrics(xg2, xg2_y_pred)"
   ]
  },
  {
   "cell_type": "code",
   "execution_count": 109,
   "metadata": {
    "ExecuteTime": {
     "end_time": "2022-03-02T21:05:55.337414Z",
     "start_time": "2022-03-02T21:05:54.904590Z"
    }
   },
   "outputs": [
    {
     "data": {
      "text/plain": [
       "0.9761367369735199"
      ]
     },
     "execution_count": 109,
     "metadata": {},
     "output_type": "execute_result"
    }
   ],
   "source": [
    "xg2_cv_score = np.mean(cross_val_score(xg2, X_train_resampled, y_train_resampled, cv=3))\n",
    "xg2_cv_score"
   ]
  },
  {
   "cell_type": "markdown",
   "metadata": {},
   "source": [
    "# Choosing a Final Model"
   ]
  },
  {
   "cell_type": "markdown",
   "metadata": {},
   "source": [
    "XGBoost Model 2 is my best performing model.\n",
    "- It is tied for best Recall Score with Decision Tree 2 at 85.12.\n",
    "- It has the second highest F1 Score at 90.35, just slightly below XGBoost Model 1.\n",
    "- It has the highest Area Under ROC Curve at .9228.\n",
    "\n",
    "XGBoost Model 2 is my final model, and will be used for final analysis and recommendations."
   ]
  },
  {
   "cell_type": "code",
   "execution_count": 101,
   "metadata": {
    "ExecuteTime": {
     "end_time": "2022-03-02T20:52:37.942847Z",
     "start_time": "2022-03-02T20:52:37.919892Z"
    }
   },
   "outputs": [
    {
     "data": {
      "text/plain": [
       "(84.29752066115702,\n",
       " 85.12396694214877,\n",
       " 82.64462809917356,\n",
       " 81.81818181818183,\n",
       " 84.29752066115702,\n",
       " 85.12396694214877)"
      ]
     },
     "execution_count": 101,
     "metadata": {},
     "output_type": "execute_result"
    }
   ],
   "source": [
    "dt1_rcl = recall_score(y_test, dt1_y_pred) * 100\n",
    "dt2_rcl = recall_score(y_test, dt2_y_pred) * 100\n",
    "rf1_rcl = recall_score(y_test, rf1_y_pred) * 100\n",
    "rf2_rcl = recall_score(y_test, rf2_y_pred) * 100\n",
    "bm1_rcl = recall_score(y_test, xg1_y_pred) * 100\n",
    "bm2_rcl = recall_score(y_test, xg2_y_pred) * 100\n",
    "\n",
    "\n",
    "\n",
    "recall_results = dt1_rcl, dt2_rcl, rf1_rcl, rf2_rcl, bm1_rcl, bm2_rcl\n",
    "recall_results"
   ]
  },
  {
   "cell_type": "code",
   "execution_count": 102,
   "metadata": {
    "ExecuteTime": {
     "end_time": "2022-03-02T20:52:46.379790Z",
     "start_time": "2022-03-02T20:52:46.372997Z"
    }
   },
   "outputs": [
    {
     "data": {
      "text/plain": [
       "(80.63241106719367,\n",
       " 82.07171314741036,\n",
       " 88.10572687224669,\n",
       " 85.71428571428572,\n",
       " 91.4798206278027,\n",
       " 90.35087719298247)"
      ]
     },
     "execution_count": 102,
     "metadata": {},
     "output_type": "execute_result"
    }
   ],
   "source": [
    "dt1_f1 = f1_score(y_test, dt1_y_pred) * 100\n",
    "dt2_f1 = f1_score(y_test, dt2_y_pred) * 100\n",
    "rf1_f1 = f1_score(y_test, rf1_y_pred) * 100\n",
    "rf2_f1 = f1_score(y_test, rf2_y_pred) * 100\n",
    "bm1_f1 = f1_score(y_test, xg1_y_pred) * 100\n",
    "bm2_f1 = f1_score(y_test, xg2_y_pred) * 100\n",
    "\n",
    "f1_results = dt1_f1, dt2_f1, rf1_f1, rf2_f1, bm1_f1, bm2_f1\n",
    "f1_results"
   ]
  },
  {
   "cell_type": "code",
   "execution_count": 103,
   "metadata": {
    "ExecuteTime": {
     "end_time": "2022-03-02T20:52:54.707689Z",
     "start_time": "2022-03-02T20:52:54.701092Z"
    }
   },
   "outputs": [
    {
     "data": {
      "text/plain": [
       "(0.9004497351430923,\n",
       " 0.9066857533643202,\n",
       " 0.9090155668633292,\n",
       " 0.9013770240979219,\n",
       " 0.921487603305785,\n",
       " 0.9228147856223847)"
      ]
     },
     "execution_count": 103,
     "metadata": {},
     "output_type": "execute_result"
    }
   ],
   "source": [
    "false_positive_rate, true_positive_rate, thresholds = roc_curve(y_test, dt1_y_pred)\n",
    "dt1_roc_auc = auc(false_positive_rate, true_positive_rate)\n",
    "false_positive_rate, true_positive_rate, thresholds = roc_curve(y_test, dt2_y_pred)\n",
    "dt2_roc_auc = auc(false_positive_rate, true_positive_rate)\n",
    "false_positive_rate, true_positive_rate, thresholds = roc_curve(y_test, rf1_y_pred)\n",
    "rf1_roc_auc = auc(false_positive_rate, true_positive_rate)\n",
    "false_positive_rate, true_positive_rate, thresholds = roc_curve(y_test, rf2_y_pred)\n",
    "rf2_roc_auc = auc(false_positive_rate, true_positive_rate)\n",
    "false_positive_rate, true_positive_rate, thresholds = roc_curve(y_test, xg1_y_pred)\n",
    "bm1_roc_auc = auc(false_positive_rate, true_positive_rate)\n",
    "false_positive_rate, true_positive_rate, thresholds = roc_curve(y_test, xg2_y_pred)\n",
    "bm2_roc_auc = auc(false_positive_rate, true_positive_rate)\n",
    "\n",
    "\n",
    "\n",
    "auc_results = dt1_roc_auc, dt2_roc_auc, rf1_roc_auc, rf2_roc_auc, bm1_roc_auc, bm2_roc_auc\n",
    "auc_results\n",
    "   "
   ]
  },
  {
   "cell_type": "markdown",
   "metadata": {},
   "source": [
    "# Feature Importance"
   ]
  },
  {
   "cell_type": "code",
   "execution_count": 59,
   "metadata": {
    "ExecuteTime": {
     "end_time": "2022-03-02T20:20:50.110775Z",
     "start_time": "2022-03-02T20:20:50.107774Z"
    }
   },
   "outputs": [
    {
     "data": {
      "text/plain": [
       "['account_length',\n",
       " 'number_vmail_messages',\n",
       " 'total_day_minutes',\n",
       " 'total_day_calls',\n",
       " 'total_eve_minutes',\n",
       " 'total_eve_calls',\n",
       " 'total_night_minutes',\n",
       " 'total_night_calls',\n",
       " 'total_intl_minutes',\n",
       " 'total_intl_calls',\n",
       " 'total_charge',\n",
       " 'international_plan_yes',\n",
       " 'voice_mail_plan_yes',\n",
       " 'cs_calls_high']"
      ]
     },
     "execution_count": 59,
     "metadata": {},
     "output_type": "execute_result"
    }
   ],
   "source": [
    "feature_names = list(X)\n",
    "feature_names"
   ]
  },
  {
   "cell_type": "code",
   "execution_count": 110,
   "metadata": {
    "ExecuteTime": {
     "end_time": "2022-03-02T21:10:00.307564Z",
     "start_time": "2022-03-02T21:10:00.264980Z"
    }
   },
   "outputs": [
    {
     "data": {
      "text/plain": [
       "array([0.01555622, 0.01647341, 0.01180071, 0.01209497, 0.01489897,\n",
       "       0.01386264, 0.01720872, 0.01302678, 0.02353546, 0.05303666,\n",
       "       0.13529545, 0.19107383, 0.10892226, 0.3732139 ], dtype=float32)"
      ]
     },
     "execution_count": 110,
     "metadata": {},
     "output_type": "execute_result"
    }
   ],
   "source": [
    "xg2_importance = xg2.feature_importances_\n",
    "xg2_importance"
   ]
  },
  {
   "cell_type": "code",
   "execution_count": 111,
   "metadata": {
    "ExecuteTime": {
     "end_time": "2022-03-02T21:10:08.693510Z",
     "start_time": "2022-03-02T21:10:08.686775Z"
    }
   },
   "outputs": [
    {
     "data": {
      "text/html": [
       "<div>\n",
       "<style scoped>\n",
       "    .dataframe tbody tr th:only-of-type {\n",
       "        vertical-align: middle;\n",
       "    }\n",
       "\n",
       "    .dataframe tbody tr th {\n",
       "        vertical-align: top;\n",
       "    }\n",
       "\n",
       "    .dataframe thead th {\n",
       "        text-align: right;\n",
       "    }\n",
       "</style>\n",
       "<table border=\"1\" class=\"dataframe\">\n",
       "  <thead>\n",
       "    <tr style=\"text-align: right;\">\n",
       "      <th></th>\n",
       "      <th>Feature</th>\n",
       "      <th>Importance</th>\n",
       "    </tr>\n",
       "  </thead>\n",
       "  <tbody>\n",
       "    <tr>\n",
       "      <th>13</th>\n",
       "      <td>cs_calls_high</td>\n",
       "      <td>0.373214</td>\n",
       "    </tr>\n",
       "    <tr>\n",
       "      <th>11</th>\n",
       "      <td>international_plan_yes</td>\n",
       "      <td>0.191074</td>\n",
       "    </tr>\n",
       "    <tr>\n",
       "      <th>10</th>\n",
       "      <td>total_charge</td>\n",
       "      <td>0.135295</td>\n",
       "    </tr>\n",
       "    <tr>\n",
       "      <th>12</th>\n",
       "      <td>voice_mail_plan_yes</td>\n",
       "      <td>0.108922</td>\n",
       "    </tr>\n",
       "    <tr>\n",
       "      <th>9</th>\n",
       "      <td>total_intl_calls</td>\n",
       "      <td>0.053037</td>\n",
       "    </tr>\n",
       "    <tr>\n",
       "      <th>8</th>\n",
       "      <td>total_intl_minutes</td>\n",
       "      <td>0.023535</td>\n",
       "    </tr>\n",
       "    <tr>\n",
       "      <th>6</th>\n",
       "      <td>total_night_minutes</td>\n",
       "      <td>0.017209</td>\n",
       "    </tr>\n",
       "    <tr>\n",
       "      <th>1</th>\n",
       "      <td>number_vmail_messages</td>\n",
       "      <td>0.016473</td>\n",
       "    </tr>\n",
       "    <tr>\n",
       "      <th>0</th>\n",
       "      <td>account_length</td>\n",
       "      <td>0.015556</td>\n",
       "    </tr>\n",
       "    <tr>\n",
       "      <th>4</th>\n",
       "      <td>total_eve_minutes</td>\n",
       "      <td>0.014899</td>\n",
       "    </tr>\n",
       "    <tr>\n",
       "      <th>5</th>\n",
       "      <td>total_eve_calls</td>\n",
       "      <td>0.013863</td>\n",
       "    </tr>\n",
       "    <tr>\n",
       "      <th>7</th>\n",
       "      <td>total_night_calls</td>\n",
       "      <td>0.013027</td>\n",
       "    </tr>\n",
       "    <tr>\n",
       "      <th>3</th>\n",
       "      <td>total_day_calls</td>\n",
       "      <td>0.012095</td>\n",
       "    </tr>\n",
       "    <tr>\n",
       "      <th>2</th>\n",
       "      <td>total_day_minutes</td>\n",
       "      <td>0.011801</td>\n",
       "    </tr>\n",
       "  </tbody>\n",
       "</table>\n",
       "</div>"
      ],
      "text/plain": [
       "                   Feature  Importance\n",
       "13           cs_calls_high    0.373214\n",
       "11  international_plan_yes    0.191074\n",
       "10            total_charge    0.135295\n",
       "12     voice_mail_plan_yes    0.108922\n",
       "9         total_intl_calls    0.053037\n",
       "8       total_intl_minutes    0.023535\n",
       "6      total_night_minutes    0.017209\n",
       "1    number_vmail_messages    0.016473\n",
       "0           account_length    0.015556\n",
       "4        total_eve_minutes    0.014899\n",
       "5          total_eve_calls    0.013863\n",
       "7        total_night_calls    0.013027\n",
       "3          total_day_calls    0.012095\n",
       "2        total_day_minutes    0.011801"
      ]
     },
     "execution_count": 111,
     "metadata": {},
     "output_type": "execute_result"
    }
   ],
   "source": [
    "#feature_importance_df = pd.DataFrame(rf2_importance, feature_names)\n",
    "feature_importance_df = pd.DataFrame(xg2_importance, feature_names)\n",
    "feature_importance_df= feature_importance_df.reset_index()\n",
    "feature_importance_df.rename(columns={'index': 'Feature', 0: 'Importance'}, inplace=True)\n",
    "feature_importance_df = feature_importance_df.sort_values('Importance', ascending=False)\n",
    "feature_importance_df"
   ]
  },
  {
   "cell_type": "code",
   "execution_count": 115,
   "metadata": {
    "ExecuteTime": {
     "end_time": "2022-03-02T21:44:46.468314Z",
     "start_time": "2022-03-02T21:44:45.899062Z"
    }
   },
   "outputs": [
    {
     "data": {
      "image/png": "[encoded data removed]",
      "text/plain": [
       "<Figure size 3600x1440 with 1 Axes>"
      ]
     },
     "metadata": {},
     "output_type": "display_data"
    }
   ],
   "source": [
    "# plot feature importance\n",
    "fig, ax = plt.subplots(figsize=(50,20))\n",
    "p = sns.barplot(data=feature_importance_df, x='Importance', y='Feature', color ='mediumseagreen' );\n",
    "p.set_xlabel(\"Importance\", fontsize = 50)\n",
    "\n",
    "p.set_ylabel(\"Feature\", fontsize = 50)\n",
    "plt.xticks(fontsize=40)\n",
    "plt.yticks(fontsize=40)\n",
    "\n",
    "p.set_title(\"Features by Importance\", fontsize = 100)\n",
    "plt.figsize=(30,20) \n",
    "plt.savefig('images/project_3_Feature_Importance')\n",
    "\n",
    "plt.show();"
   ]
  },
  {
   "cell_type": "markdown",
   "metadata": {
    "ExecuteTime": {
     "end_time": "2022-02-24T20:40:08.246291Z",
     "start_time": "2022-02-24T20:40:08.229566Z"
    }
   },
   "source": [
    "## Analysis\n",
    "- The Top 4 features with importance in relation to churn are:\n",
    "- Total Charge\n",
    "- A High Amount of Customer Service Calls\n",
    "- Subscribed to the International Plan\n",
    "- Does not have a Voice Mail Plan."
   ]
  },
  {
   "cell_type": "markdown",
   "metadata": {},
   "source": [
    "All other features have (at most) half of the feature significance as the top 4. I will take a closer look at each of these features as they have the most impact on churn by far."
   ]
  },
  {
   "cell_type": "markdown",
   "metadata": {},
   "source": [
    "# Analyzing Churn Rate in Important Features"
   ]
  },
  {
   "cell_type": "markdown",
   "metadata": {},
   "source": [
    "## Customer Service Calls"
   ]
  },
  {
   "cell_type": "code",
   "execution_count": 64,
   "metadata": {
    "ExecuteTime": {
     "end_time": "2022-03-02T20:20:50.483965Z",
     "start_time": "2022-03-02T20:20:50.482436Z"
    }
   },
   "outputs": [],
   "source": [
    "#cleaned_df.info()"
   ]
  },
  {
   "cell_type": "code",
   "execution_count": 65,
   "metadata": {
    "ExecuteTime": {
     "end_time": "2022-03-02T20:20:50.486884Z",
     "start_time": "2022-03-02T20:20:50.484917Z"
    }
   },
   "outputs": [],
   "source": [
    "analysis_df = cleaned_df.copy()"
   ]
  },
  {
   "cell_type": "code",
   "execution_count": 66,
   "metadata": {
    "ExecuteTime": {
     "end_time": "2022-03-02T20:20:50.492010Z",
     "start_time": "2022-03-02T20:20:50.487808Z"
    }
   },
   "outputs": [
    {
     "data": {
      "text/plain": [
       "count    3333.000000\n",
       "mean        1.562856\n",
       "std         1.315491\n",
       "min         0.000000\n",
       "25%         1.000000\n",
       "50%         1.000000\n",
       "75%         2.000000\n",
       "max         9.000000\n",
       "Name: customer_service_calls, dtype: float64"
      ]
     },
     "execution_count": 66,
     "metadata": {},
     "output_type": "execute_result"
    }
   ],
   "source": [
    "df.customer_service_calls.describe()"
   ]
  },
  {
   "cell_type": "code",
   "execution_count": 67,
   "metadata": {
    "ExecuteTime": {
     "end_time": "2022-03-02T20:20:50.504782Z",
     "start_time": "2022-03-02T20:20:50.492866Z"
    }
   },
   "outputs": [
    {
     "data": {
      "text/html": [
       "<div>\n",
       "<style scoped>\n",
       "    .dataframe tbody tr th:only-of-type {\n",
       "        vertical-align: middle;\n",
       "    }\n",
       "\n",
       "    .dataframe tbody tr th {\n",
       "        vertical-align: top;\n",
       "    }\n",
       "\n",
       "    .dataframe thead th {\n",
       "        text-align: right;\n",
       "    }\n",
       "</style>\n",
       "<table border=\"1\" class=\"dataframe\">\n",
       "  <thead>\n",
       "    <tr style=\"text-align: right;\">\n",
       "      <th></th>\n",
       "      <th>#_of_calls</th>\n",
       "      <th>churn</th>\n",
       "      <th>#_of_accounts</th>\n",
       "      <th>churn_rate</th>\n",
       "    </tr>\n",
       "  </thead>\n",
       "  <tbody>\n",
       "    <tr>\n",
       "      <th>0</th>\n",
       "      <td>0</td>\n",
       "      <td>92</td>\n",
       "      <td>697</td>\n",
       "      <td>0.131994</td>\n",
       "    </tr>\n",
       "    <tr>\n",
       "      <th>1</th>\n",
       "      <td>1</td>\n",
       "      <td>122</td>\n",
       "      <td>1181</td>\n",
       "      <td>0.103302</td>\n",
       "    </tr>\n",
       "    <tr>\n",
       "      <th>2</th>\n",
       "      <td>2</td>\n",
       "      <td>87</td>\n",
       "      <td>759</td>\n",
       "      <td>0.114625</td>\n",
       "    </tr>\n",
       "    <tr>\n",
       "      <th>3</th>\n",
       "      <td>3</td>\n",
       "      <td>44</td>\n",
       "      <td>429</td>\n",
       "      <td>0.102564</td>\n",
       "    </tr>\n",
       "    <tr>\n",
       "      <th>4</th>\n",
       "      <td>4</td>\n",
       "      <td>76</td>\n",
       "      <td>166</td>\n",
       "      <td>0.457831</td>\n",
       "    </tr>\n",
       "    <tr>\n",
       "      <th>5</th>\n",
       "      <td>5</td>\n",
       "      <td>40</td>\n",
       "      <td>66</td>\n",
       "      <td>0.606061</td>\n",
       "    </tr>\n",
       "    <tr>\n",
       "      <th>6</th>\n",
       "      <td>6</td>\n",
       "      <td>14</td>\n",
       "      <td>22</td>\n",
       "      <td>0.636364</td>\n",
       "    </tr>\n",
       "    <tr>\n",
       "      <th>7</th>\n",
       "      <td>7</td>\n",
       "      <td>5</td>\n",
       "      <td>9</td>\n",
       "      <td>0.555556</td>\n",
       "    </tr>\n",
       "    <tr>\n",
       "      <th>8</th>\n",
       "      <td>8</td>\n",
       "      <td>1</td>\n",
       "      <td>2</td>\n",
       "      <td>0.500000</td>\n",
       "    </tr>\n",
       "    <tr>\n",
       "      <th>9</th>\n",
       "      <td>9</td>\n",
       "      <td>2</td>\n",
       "      <td>2</td>\n",
       "      <td>1.000000</td>\n",
       "    </tr>\n",
       "  </tbody>\n",
       "</table>\n",
       "</div>"
      ],
      "text/plain": [
       "   #_of_calls  churn  #_of_accounts  churn_rate\n",
       "0           0     92            697    0.131994\n",
       "1           1    122           1181    0.103302\n",
       "2           2     87            759    0.114625\n",
       "3           3     44            429    0.102564\n",
       "4           4     76            166    0.457831\n",
       "5           5     40             66    0.606061\n",
       "6           6     14             22    0.636364\n",
       "7           7      5              9    0.555556\n",
       "8           8      1              2    0.500000\n",
       "9           9      2              2    1.000000"
      ]
     },
     "execution_count": 67,
     "metadata": {},
     "output_type": "execute_result"
    }
   ],
   "source": [
    "cs_churn_df = analysis_df.groupby('customer_service_calls')['churn'].sum().reset_index()\n",
    "cs_churn_df = cs_churn_df.rename(columns={\"customer_service_calls\": \"#_of_calls\"})\n",
    "variable_1 = analysis_df['customer_service_calls'].value_counts().reset_index()\n",
    "variable_1 = variable_1.rename(columns={\"index\": \"#_of_calls\", \"customer_service_calls\": \"#_of_accounts\"})\n",
    "cs_churn_df = cs_churn_df.merge(variable_1, on='#_of_calls')\n",
    "churn_rate = cs_churn_df.apply(lambda x: x['churn'] / x['#_of_accounts'], axis=1)\n",
    "cs_churn_df['churn_rate']= churn_rate\n",
    "cs_churn_df"
   ]
  },
  {
   "cell_type": "code",
   "execution_count": 116,
   "metadata": {
    "ExecuteTime": {
     "end_time": "2022-03-02T21:52:06.406386Z",
     "start_time": "2022-03-02T21:52:06.216705Z"
    }
   },
   "outputs": [
    {
     "data": {
      "image/png": "[encoded data removed]",
      "text/plain": [
       "<Figure size 720x720 with 1 Axes>"
      ]
     },
     "metadata": {},
     "output_type": "display_data"
    }
   ],
   "source": [
    "fig, ax = plt.subplots(figsize=(10,10))\n",
    "p = sns.barplot(x=\"#_of_calls\", y=\"churn_rate\", data=cs_churn_df, color='mediumpurple');\n",
    "\n",
    "p.set_xlabel(\"Number of Customer Service Calls\", fontsize = 15)\n",
    "p.set_ylabel(\"Churn Rate\", fontsize = 15)\n",
    "\n",
    "ax.yaxis.set_major_formatter(mtick.PercentFormatter(xmax=1, decimals=None, symbol='%', is_latex=False))\n",
    "p.set_title(\"Churn Rate by Number of Customer Service Calls\", fontsize = 20)\n",
    "plt.figsize=(30,20) \n",
    "plt.axhline(y=.145, color='red')\n",
    "plt.savefig('images/project_3_CS_Churn_Rate')\n",
    "\n",
    "plt.show();"
   ]
  },
  {
   "cell_type": "markdown",
   "metadata": {},
   "source": [
    "### Analysis:\n",
    "- There is a very strong relationship between the number of Customer Service Calls and Churn Rate.\n",
    "- If there are 0-3 calls, those customers are below the avg. churn rate.\n",
    "- At 4 Calls, the Churn Rate jumps to 45.7%, 4X the avg. churn rate.\n",
    "- The Mode for Customer Service Calls is 1, with 2 or more calls being in the top quartile.\n",
    "- Over Half of all customers make 1 or less customer service calls. (1878 of 3333: 56%)\n",
    "- Hypothesis is that customers that are unhappy (and therefore more likely to cancel their service) are calling customer service more often."
   ]
  },
  {
   "cell_type": "markdown",
   "metadata": {},
   "source": [
    "## International Plan"
   ]
  },
  {
   "cell_type": "code",
   "execution_count": 69,
   "metadata": {
    "ExecuteTime": {
     "end_time": "2022-03-02T20:20:50.640338Z",
     "start_time": "2022-03-02T20:20:50.630479Z"
    }
   },
   "outputs": [
    {
     "data": {
      "text/html": [
       "<div>\n",
       "<style scoped>\n",
       "    .dataframe tbody tr th:only-of-type {\n",
       "        vertical-align: middle;\n",
       "    }\n",
       "\n",
       "    .dataframe tbody tr th {\n",
       "        vertical-align: top;\n",
       "    }\n",
       "\n",
       "    .dataframe thead th {\n",
       "        text-align: right;\n",
       "    }\n",
       "</style>\n",
       "<table border=\"1\" class=\"dataframe\">\n",
       "  <thead>\n",
       "    <tr style=\"text-align: right;\">\n",
       "      <th></th>\n",
       "      <th>stayed</th>\n",
       "      <th>churned</th>\n",
       "      <th>total</th>\n",
       "      <th>churn_rate</th>\n",
       "    </tr>\n",
       "  </thead>\n",
       "  <tbody>\n",
       "    <tr>\n",
       "      <th>churn</th>\n",
       "      <td>0.0</td>\n",
       "      <td>1.0</td>\n",
       "      <td>1.0</td>\n",
       "      <td>1.000000</td>\n",
       "    </tr>\n",
       "    <tr>\n",
       "      <th>international_plan_yes</th>\n",
       "      <td>186.0</td>\n",
       "      <td>137.0</td>\n",
       "      <td>323.0</td>\n",
       "      <td>0.424149</td>\n",
       "    </tr>\n",
       "    <tr>\n",
       "      <th>international_plan_no</th>\n",
       "      <td>2664.0</td>\n",
       "      <td>346.0</td>\n",
       "      <td>3010.0</td>\n",
       "      <td>0.114950</td>\n",
       "    </tr>\n",
       "  </tbody>\n",
       "</table>\n",
       "</div>"
      ],
      "text/plain": [
       "                        stayed  churned   total  churn_rate\n",
       "churn                      0.0      1.0     1.0    1.000000\n",
       "international_plan_yes   186.0    137.0   323.0    0.424149\n",
       "international_plan_no   2664.0    346.0  3010.0    0.114950"
      ]
     },
     "execution_count": 69,
     "metadata": {},
     "output_type": "execute_result"
    }
   ],
   "source": [
    "intl_df = analysis_df[['international_plan_yes', 'international_plan_no', 'churn']]\n",
    "intl_churn_df = intl_df.groupby('churn').sum().reset_index()\n",
    "intl_churn_df = intl_churn_df.transpose()\n",
    "intl_churn_df = intl_churn_df.rename(columns={0: \"stayed\", 1: \"churned\"})\n",
    "intl_churn_df['total'] = intl_churn_df.apply(lambda x: x['stayed'] + x['churned'], axis=1)\n",
    "intl_churn_df['churn_rate'] = intl_churn_df.apply(lambda x: x['churned'] / x['total'], axis=1)\n",
    "intl_churn_df"
   ]
  },
  {
   "cell_type": "code",
   "execution_count": 70,
   "metadata": {
    "ExecuteTime": {
     "end_time": "2022-03-02T20:20:50.644827Z",
     "start_time": "2022-03-02T20:20:50.641462Z"
    }
   },
   "outputs": [],
   "source": [
    "df2 = df.copy()\n",
    "df2 = df2[['international_plan', 'total_intl_minutes', 'total_intl_calls', 'total_intl_charge', \n",
    "          'customer_service_calls', 'total_day_minutes', 'total_day_charge', 'churn']]\n",
    "#df2.sort_values('total_intl_calls', ascending=False).head(999)"
   ]
  },
  {
   "cell_type": "code",
   "execution_count": 71,
   "metadata": {
    "ExecuteTime": {
     "end_time": "2022-03-02T20:20:50.657880Z",
     "start_time": "2022-03-02T20:20:50.645802Z"
    }
   },
   "outputs": [
    {
     "data": {
      "text/html": [
       "<div>\n",
       "<style scoped>\n",
       "    .dataframe tbody tr th:only-of-type {\n",
       "        vertical-align: middle;\n",
       "    }\n",
       "\n",
       "    .dataframe tbody tr th {\n",
       "        vertical-align: top;\n",
       "    }\n",
       "\n",
       "    .dataframe thead th {\n",
       "        text-align: right;\n",
       "    }\n",
       "</style>\n",
       "<table border=\"1\" class=\"dataframe\">\n",
       "  <thead>\n",
       "    <tr style=\"text-align: right;\">\n",
       "      <th></th>\n",
       "      <th>total_intl_minutes</th>\n",
       "      <th>total_intl_calls</th>\n",
       "      <th>total_intl_charge</th>\n",
       "      <th>customer_service_calls</th>\n",
       "      <th>total_day_minutes</th>\n",
       "      <th>total_day_charge</th>\n",
       "      <th>churn</th>\n",
       "    </tr>\n",
       "    <tr>\n",
       "      <th>international_plan</th>\n",
       "      <th></th>\n",
       "      <th></th>\n",
       "      <th></th>\n",
       "      <th></th>\n",
       "      <th></th>\n",
       "      <th></th>\n",
       "      <th></th>\n",
       "    </tr>\n",
       "  </thead>\n",
       "  <tbody>\n",
       "    <tr>\n",
       "      <th>no</th>\n",
       "      <td>10.195349</td>\n",
       "      <td>4.465449</td>\n",
       "      <td>2.753279</td>\n",
       "      <td>1.573422</td>\n",
       "      <td>178.893887</td>\n",
       "      <td>30.412495</td>\n",
       "      <td>0.114950</td>\n",
       "    </tr>\n",
       "    <tr>\n",
       "      <th>yes</th>\n",
       "      <td>10.628173</td>\n",
       "      <td>4.609907</td>\n",
       "      <td>2.869907</td>\n",
       "      <td>1.464396</td>\n",
       "      <td>187.986997</td>\n",
       "      <td>31.958390</td>\n",
       "      <td>0.424149</td>\n",
       "    </tr>\n",
       "  </tbody>\n",
       "</table>\n",
       "</div>"
      ],
      "text/plain": [
       "                    total_intl_minutes  total_intl_calls  total_intl_charge  \\\n",
       "international_plan                                                            \n",
       "no                           10.195349          4.465449           2.753279   \n",
       "yes                          10.628173          4.609907           2.869907   \n",
       "\n",
       "                    customer_service_calls  total_day_minutes  \\\n",
       "international_plan                                              \n",
       "no                                1.573422         178.893887   \n",
       "yes                               1.464396         187.986997   \n",
       "\n",
       "                    total_day_charge     churn  \n",
       "international_plan                              \n",
       "no                         30.412495  0.114950  \n",
       "yes                        31.958390  0.424149  "
      ]
     },
     "execution_count": 71,
     "metadata": {},
     "output_type": "execute_result"
    }
   ],
   "source": [
    "df2.groupby('international_plan').mean()"
   ]
  },
  {
   "cell_type": "markdown",
   "metadata": {},
   "source": [
    "### Analysis:\n",
    "- NOTE: Data shows that Customers without the international plan were still able to make international calls. I am operating under the assumption that the data is correct and that there is a seperate International Plan, as indicated bty the \"International Plan\" column. I am also assuming that the data contained in that field is accurate. \n",
    "- only 323 people (9.5% of customers) have international plans. But those that do have a high rate of churn.\n",
    "- churn rate for customers with an international plan is 42.4% vs 11.5% for those without an international plan.\n",
    "- nearly 4X increase in churn rate.\n",
    "- customers without an international plan are actually under the avg. churn rate, but remain fairly close."
   ]
  },
  {
   "cell_type": "code",
   "execution_count": 72,
   "metadata": {
    "ExecuteTime": {
     "end_time": "2022-03-02T20:20:50.726480Z",
     "start_time": "2022-03-02T20:20:50.660743Z"
    }
   },
   "outputs": [
    {
     "data": {
      "image/png": "[encoded data removed]",
      "text/plain": [
       "<Figure size 432x288 with 1 Axes>"
      ]
     },
     "metadata": {},
     "output_type": "display_data"
    }
   ],
   "source": [
    "intl_plan_counts= df.pivot_table(index='international_plan', aggfunc='size').plot(kind='bar')\n",
    "intl_plan_counts;"
   ]
  },
  {
   "cell_type": "markdown",
   "metadata": {},
   "source": [
    "## Total Charge"
   ]
  },
  {
   "cell_type": "code",
   "execution_count": 73,
   "metadata": {
    "ExecuteTime": {
     "end_time": "2022-03-02T20:20:50.732651Z",
     "start_time": "2022-03-02T20:20:50.727492Z"
    }
   },
   "outputs": [
    {
     "data": {
      "text/plain": [
       "count    3333.000000\n",
       "mean       59.449754\n",
       "std        10.502261\n",
       "min        22.930000\n",
       "25%        52.380000\n",
       "50%        59.470000\n",
       "75%        66.480000\n",
       "max        96.150000\n",
       "Name: total_charge, dtype: float64"
      ]
     },
     "execution_count": 73,
     "metadata": {},
     "output_type": "execute_result"
    }
   ],
   "source": [
    "analysis_df['total_charge'].describe()"
   ]
  },
  {
   "cell_type": "code",
   "execution_count": 74,
   "metadata": {
    "ExecuteTime": {
     "end_time": "2022-03-02T20:20:50.753088Z",
     "start_time": "2022-03-02T20:20:50.733618Z"
    }
   },
   "outputs": [
    {
     "name": "stderr",
     "output_type": "stream",
     "text": [
      "<ipython-input-74-f666cffbefb5>:2: SettingWithCopyWarning: \n",
      "A value is trying to be set on a copy of a slice from a DataFrame.\n",
      "Try using .loc[row_indexer,col_indexer] = value instead\n",
      "\n",
      "See the caveats in the documentation: https://pandas.pydata.org/pandas-docs/stable/user_guide/indexing.html#returning-a-view-versus-a-copy\n",
      "  charge_df['charge_group'] = pd.qcut(analysis_df['total_charge'], 200)\n"
     ]
    },
    {
     "data": {
      "text/html": [
       "<div>\n",
       "<style scoped>\n",
       "    .dataframe tbody tr th:only-of-type {\n",
       "        vertical-align: middle;\n",
       "    }\n",
       "\n",
       "    .dataframe tbody tr th {\n",
       "        vertical-align: top;\n",
       "    }\n",
       "\n",
       "    .dataframe thead th {\n",
       "        text-align: right;\n",
       "    }\n",
       "</style>\n",
       "<table border=\"1\" class=\"dataframe\">\n",
       "  <thead>\n",
       "    <tr style=\"text-align: right;\">\n",
       "      <th></th>\n",
       "      <th>group_mean</th>\n",
       "      <th>churn</th>\n",
       "    </tr>\n",
       "    <tr>\n",
       "      <th>charge_group</th>\n",
       "      <th></th>\n",
       "      <th></th>\n",
       "    </tr>\n",
       "  </thead>\n",
       "  <tbody>\n",
       "    <tr>\n",
       "      <th>(22.929, 32.497]</th>\n",
       "      <td>28.372353</td>\n",
       "      <td>0.235294</td>\n",
       "    </tr>\n",
       "    <tr>\n",
       "      <th>(32.497, 33.853]</th>\n",
       "      <td>33.329412</td>\n",
       "      <td>0.117647</td>\n",
       "    </tr>\n",
       "    <tr>\n",
       "      <th>(33.853, 35.72]</th>\n",
       "      <td>34.832500</td>\n",
       "      <td>0.062500</td>\n",
       "    </tr>\n",
       "    <tr>\n",
       "      <th>(35.72, 37.436]</th>\n",
       "      <td>36.645882</td>\n",
       "      <td>0.058824</td>\n",
       "    </tr>\n",
       "    <tr>\n",
       "      <th>(37.436, 38.752]</th>\n",
       "      <td>38.102941</td>\n",
       "      <td>0.000000</td>\n",
       "    </tr>\n",
       "  </tbody>\n",
       "</table>\n",
       "</div>"
      ],
      "text/plain": [
       "                  group_mean     churn\n",
       "charge_group                          \n",
       "(22.929, 32.497]   28.372353  0.235294\n",
       "(32.497, 33.853]   33.329412  0.117647\n",
       "(33.853, 35.72]    34.832500  0.062500\n",
       "(35.72, 37.436]    36.645882  0.058824\n",
       "(37.436, 38.752]   38.102941  0.000000"
      ]
     },
     "execution_count": 74,
     "metadata": {},
     "output_type": "execute_result"
    }
   ],
   "source": [
    "charge_df = analysis_df[['total_charge', 'churn']]\n",
    "charge_df['charge_group'] = pd.qcut(analysis_df['total_charge'], 200)\n",
    "group_counts = charge_df.charge_group.value_counts().reset_index()\n",
    "group_counts = group_counts.rename(columns={\"index\": \"charge_group\", \"charge_group\": \"#_of_accounts\"})\n",
    "charge_df= charge_df.groupby('charge_group').mean()\n",
    "charge_df= charge_df.rename(columns={'total_charge': 'group_mean'})\n",
    "charge_df.head()\n",
    "\n"
   ]
  },
  {
   "cell_type": "code",
   "execution_count": 75,
   "metadata": {
    "ExecuteTime": {
     "end_time": "2022-03-02T20:20:50.781126Z",
     "start_time": "2022-03-02T20:20:50.754545Z"
    }
   },
   "outputs": [
    {
     "data": {
      "text/html": [
       "<div>\n",
       "<style scoped>\n",
       "    .dataframe tbody tr th:only-of-type {\n",
       "        vertical-align: middle;\n",
       "    }\n",
       "\n",
       "    .dataframe tbody tr th {\n",
       "        vertical-align: top;\n",
       "    }\n",
       "\n",
       "    .dataframe thead th {\n",
       "        text-align: right;\n",
       "    }\n",
       "</style>\n",
       "<table border=\"1\" class=\"dataframe\">\n",
       "  <thead>\n",
       "    <tr style=\"text-align: right;\">\n",
       "      <th></th>\n",
       "      <th>charge_group</th>\n",
       "      <th>group_mean</th>\n",
       "      <th>churn</th>\n",
       "      <th>#_of_accounts</th>\n",
       "    </tr>\n",
       "  </thead>\n",
       "  <tbody>\n",
       "    <tr>\n",
       "      <th>0</th>\n",
       "      <td>(22.929, 32.497]</td>\n",
       "      <td>28.372353</td>\n",
       "      <td>0.235294</td>\n",
       "      <td>17</td>\n",
       "    </tr>\n",
       "    <tr>\n",
       "      <th>1</th>\n",
       "      <td>(32.497, 33.853]</td>\n",
       "      <td>33.329412</td>\n",
       "      <td>0.117647</td>\n",
       "      <td>17</td>\n",
       "    </tr>\n",
       "    <tr>\n",
       "      <th>2</th>\n",
       "      <td>(33.853, 35.72]</td>\n",
       "      <td>34.832500</td>\n",
       "      <td>0.062500</td>\n",
       "      <td>16</td>\n",
       "    </tr>\n",
       "    <tr>\n",
       "      <th>3</th>\n",
       "      <td>(35.72, 37.436]</td>\n",
       "      <td>36.645882</td>\n",
       "      <td>0.058824</td>\n",
       "      <td>17</td>\n",
       "    </tr>\n",
       "    <tr>\n",
       "      <th>4</th>\n",
       "      <td>(37.436, 38.752]</td>\n",
       "      <td>38.102941</td>\n",
       "      <td>0.000000</td>\n",
       "      <td>17</td>\n",
       "    </tr>\n",
       "    <tr>\n",
       "      <th>5</th>\n",
       "      <td>(38.752, 39.44]</td>\n",
       "      <td>39.101875</td>\n",
       "      <td>0.187500</td>\n",
       "      <td>16</td>\n",
       "    </tr>\n",
       "    <tr>\n",
       "      <th>6</th>\n",
       "      <td>(39.44, 40.212]</td>\n",
       "      <td>39.834118</td>\n",
       "      <td>0.176471</td>\n",
       "      <td>17</td>\n",
       "    </tr>\n",
       "    <tr>\n",
       "      <th>7</th>\n",
       "      <td>(40.212, 41.033]</td>\n",
       "      <td>40.572353</td>\n",
       "      <td>0.117647</td>\n",
       "      <td>17</td>\n",
       "    </tr>\n",
       "    <tr>\n",
       "      <th>8</th>\n",
       "      <td>(41.033, 41.665]</td>\n",
       "      <td>41.304375</td>\n",
       "      <td>0.125000</td>\n",
       "      <td>16</td>\n",
       "    </tr>\n",
       "    <tr>\n",
       "      <th>9</th>\n",
       "      <td>(41.665, 42.338]</td>\n",
       "      <td>42.021176</td>\n",
       "      <td>0.000000</td>\n",
       "      <td>17</td>\n",
       "    </tr>\n",
       "    <tr>\n",
       "      <th>10</th>\n",
       "      <td>(42.338, 42.775]</td>\n",
       "      <td>42.558235</td>\n",
       "      <td>0.117647</td>\n",
       "      <td>17</td>\n",
       "    </tr>\n",
       "    <tr>\n",
       "      <th>11</th>\n",
       "      <td>(42.775, 43.319]</td>\n",
       "      <td>43.085625</td>\n",
       "      <td>0.062500</td>\n",
       "      <td>16</td>\n",
       "    </tr>\n",
       "    <tr>\n",
       "      <th>12</th>\n",
       "      <td>(43.319, 43.707]</td>\n",
       "      <td>43.488235</td>\n",
       "      <td>0.058824</td>\n",
       "      <td>17</td>\n",
       "    </tr>\n",
       "    <tr>\n",
       "      <th>13</th>\n",
       "      <td>(43.707, 44.07]</td>\n",
       "      <td>43.891667</td>\n",
       "      <td>0.055556</td>\n",
       "      <td>18</td>\n",
       "    </tr>\n",
       "    <tr>\n",
       "      <th>14</th>\n",
       "      <td>(44.07, 44.38]</td>\n",
       "      <td>44.209375</td>\n",
       "      <td>0.187500</td>\n",
       "      <td>16</td>\n",
       "    </tr>\n",
       "    <tr>\n",
       "      <th>15</th>\n",
       "      <td>(44.38, 44.7]</td>\n",
       "      <td>44.592353</td>\n",
       "      <td>0.117647</td>\n",
       "      <td>17</td>\n",
       "    </tr>\n",
       "    <tr>\n",
       "      <th>16</th>\n",
       "      <td>(44.7, 45.062]</td>\n",
       "      <td>44.894375</td>\n",
       "      <td>0.187500</td>\n",
       "      <td>16</td>\n",
       "    </tr>\n",
       "    <tr>\n",
       "      <th>17</th>\n",
       "      <td>(45.062, 45.338]</td>\n",
       "      <td>45.193750</td>\n",
       "      <td>0.062500</td>\n",
       "      <td>16</td>\n",
       "    </tr>\n",
       "    <tr>\n",
       "      <th>18</th>\n",
       "      <td>(45.338, 45.531]</td>\n",
       "      <td>45.434706</td>\n",
       "      <td>0.235294</td>\n",
       "      <td>17</td>\n",
       "    </tr>\n",
       "    <tr>\n",
       "      <th>19</th>\n",
       "      <td>(45.531, 46.02]</td>\n",
       "      <td>45.805000</td>\n",
       "      <td>0.055556</td>\n",
       "      <td>18</td>\n",
       "    </tr>\n",
       "    <tr>\n",
       "      <th>20</th>\n",
       "      <td>(46.02, 46.479]</td>\n",
       "      <td>46.306000</td>\n",
       "      <td>0.000000</td>\n",
       "      <td>15</td>\n",
       "    </tr>\n",
       "    <tr>\n",
       "      <th>21</th>\n",
       "      <td>(46.479, 46.835]</td>\n",
       "      <td>46.632941</td>\n",
       "      <td>0.117647</td>\n",
       "      <td>17</td>\n",
       "    </tr>\n",
       "    <tr>\n",
       "      <th>22</th>\n",
       "      <td>(46.835, 47.11]</td>\n",
       "      <td>46.947059</td>\n",
       "      <td>0.117647</td>\n",
       "      <td>17</td>\n",
       "    </tr>\n",
       "    <tr>\n",
       "      <th>23</th>\n",
       "      <td>(47.11, 47.27]</td>\n",
       "      <td>47.194118</td>\n",
       "      <td>0.117647</td>\n",
       "      <td>17</td>\n",
       "    </tr>\n",
       "    <tr>\n",
       "      <th>24</th>\n",
       "      <td>(47.27, 47.6]</td>\n",
       "      <td>47.448750</td>\n",
       "      <td>0.187500</td>\n",
       "      <td>16</td>\n",
       "    </tr>\n",
       "    <tr>\n",
       "      <th>25</th>\n",
       "      <td>(47.6, 47.83]</td>\n",
       "      <td>47.732778</td>\n",
       "      <td>0.111111</td>\n",
       "      <td>18</td>\n",
       "    </tr>\n",
       "    <tr>\n",
       "      <th>26</th>\n",
       "      <td>(47.83, 48.068]</td>\n",
       "      <td>47.952667</td>\n",
       "      <td>0.000000</td>\n",
       "      <td>15</td>\n",
       "    </tr>\n",
       "    <tr>\n",
       "      <th>27</th>\n",
       "      <td>(48.068, 48.225]</td>\n",
       "      <td>48.143529</td>\n",
       "      <td>0.117647</td>\n",
       "      <td>17</td>\n",
       "    </tr>\n",
       "    <tr>\n",
       "      <th>28</th>\n",
       "      <td>(48.225, 48.421]</td>\n",
       "      <td>48.314118</td>\n",
       "      <td>0.117647</td>\n",
       "      <td>17</td>\n",
       "    </tr>\n",
       "    <tr>\n",
       "      <th>29</th>\n",
       "      <td>(48.421, 48.582]</td>\n",
       "      <td>48.489375</td>\n",
       "      <td>0.187500</td>\n",
       "      <td>16</td>\n",
       "    </tr>\n",
       "    <tr>\n",
       "      <th>30</th>\n",
       "      <td>(48.582, 48.97]</td>\n",
       "      <td>48.782941</td>\n",
       "      <td>0.058824</td>\n",
       "      <td>17</td>\n",
       "    </tr>\n",
       "    <tr>\n",
       "      <th>31</th>\n",
       "      <td>(48.97, 49.191]</td>\n",
       "      <td>49.052941</td>\n",
       "      <td>0.176471</td>\n",
       "      <td>17</td>\n",
       "    </tr>\n",
       "    <tr>\n",
       "      <th>32</th>\n",
       "      <td>(49.191, 49.396]</td>\n",
       "      <td>49.311250</td>\n",
       "      <td>0.250000</td>\n",
       "      <td>16</td>\n",
       "    </tr>\n",
       "    <tr>\n",
       "      <th>33</th>\n",
       "      <td>(49.396, 49.594]</td>\n",
       "      <td>49.485294</td>\n",
       "      <td>0.235294</td>\n",
       "      <td>17</td>\n",
       "    </tr>\n",
       "    <tr>\n",
       "      <th>34</th>\n",
       "      <td>(49.594, 49.831]</td>\n",
       "      <td>49.712353</td>\n",
       "      <td>0.117647</td>\n",
       "      <td>17</td>\n",
       "    </tr>\n",
       "    <tr>\n",
       "      <th>35</th>\n",
       "      <td>(49.831, 50.0]</td>\n",
       "      <td>49.920588</td>\n",
       "      <td>0.176471</td>\n",
       "      <td>17</td>\n",
       "    </tr>\n",
       "    <tr>\n",
       "      <th>36</th>\n",
       "      <td>(50.0, 50.244]</td>\n",
       "      <td>50.108750</td>\n",
       "      <td>0.062500</td>\n",
       "      <td>16</td>\n",
       "    </tr>\n",
       "    <tr>\n",
       "      <th>37</th>\n",
       "      <td>(50.244, 50.42]</td>\n",
       "      <td>50.320000</td>\n",
       "      <td>0.000000</td>\n",
       "      <td>18</td>\n",
       "    </tr>\n",
       "    <tr>\n",
       "      <th>38</th>\n",
       "      <td>(50.42, 50.57]</td>\n",
       "      <td>50.506875</td>\n",
       "      <td>0.125000</td>\n",
       "      <td>16</td>\n",
       "    </tr>\n",
       "    <tr>\n",
       "      <th>39</th>\n",
       "      <td>(50.57, 50.72]</td>\n",
       "      <td>50.653529</td>\n",
       "      <td>0.294118</td>\n",
       "      <td>17</td>\n",
       "    </tr>\n",
       "    <tr>\n",
       "      <th>40</th>\n",
       "      <td>(50.72, 50.851]</td>\n",
       "      <td>50.799375</td>\n",
       "      <td>0.125000</td>\n",
       "      <td>16</td>\n",
       "    </tr>\n",
       "    <tr>\n",
       "      <th>41</th>\n",
       "      <td>(50.851, 51.037]</td>\n",
       "      <td>50.957500</td>\n",
       "      <td>0.312500</td>\n",
       "      <td>16</td>\n",
       "    </tr>\n",
       "    <tr>\n",
       "      <th>42</th>\n",
       "      <td>(51.037, 51.2]</td>\n",
       "      <td>51.125000</td>\n",
       "      <td>0.166667</td>\n",
       "      <td>18</td>\n",
       "    </tr>\n",
       "    <tr>\n",
       "      <th>43</th>\n",
       "      <td>(51.2, 51.341]</td>\n",
       "      <td>51.265625</td>\n",
       "      <td>0.062500</td>\n",
       "      <td>16</td>\n",
       "    </tr>\n",
       "    <tr>\n",
       "      <th>44</th>\n",
       "      <td>(51.341, 51.51]</td>\n",
       "      <td>51.442353</td>\n",
       "      <td>0.058824</td>\n",
       "      <td>17</td>\n",
       "    </tr>\n",
       "    <tr>\n",
       "      <th>45</th>\n",
       "      <td>(51.51, 51.677]</td>\n",
       "      <td>51.600625</td>\n",
       "      <td>0.125000</td>\n",
       "      <td>16</td>\n",
       "    </tr>\n",
       "    <tr>\n",
       "      <th>46</th>\n",
       "      <td>(51.677, 51.93]</td>\n",
       "      <td>51.831765</td>\n",
       "      <td>0.058824</td>\n",
       "      <td>17</td>\n",
       "    </tr>\n",
       "    <tr>\n",
       "      <th>47</th>\n",
       "      <td>(51.93, 52.11]</td>\n",
       "      <td>52.037059</td>\n",
       "      <td>0.235294</td>\n",
       "      <td>17</td>\n",
       "    </tr>\n",
       "    <tr>\n",
       "      <th>48</th>\n",
       "      <td>(52.11, 52.243]</td>\n",
       "      <td>52.181250</td>\n",
       "      <td>0.125000</td>\n",
       "      <td>16</td>\n",
       "    </tr>\n",
       "    <tr>\n",
       "      <th>49</th>\n",
       "      <td>(52.243, 52.38]</td>\n",
       "      <td>52.297059</td>\n",
       "      <td>0.352941</td>\n",
       "      <td>17</td>\n",
       "    </tr>\n",
       "    <tr>\n",
       "      <th>50</th>\n",
       "      <td>(52.38, 52.51]</td>\n",
       "      <td>52.474118</td>\n",
       "      <td>0.117647</td>\n",
       "      <td>17</td>\n",
       "    </tr>\n",
       "    <tr>\n",
       "      <th>51</th>\n",
       "      <td>(52.51, 52.603]</td>\n",
       "      <td>52.561875</td>\n",
       "      <td>0.250000</td>\n",
       "      <td>16</td>\n",
       "    </tr>\n",
       "    <tr>\n",
       "      <th>52</th>\n",
       "      <td>(52.603, 52.8]</td>\n",
       "      <td>52.692500</td>\n",
       "      <td>0.250000</td>\n",
       "      <td>16</td>\n",
       "    </tr>\n",
       "    <tr>\n",
       "      <th>53</th>\n",
       "      <td>(52.8, 52.999]</td>\n",
       "      <td>52.910588</td>\n",
       "      <td>0.000000</td>\n",
       "      <td>17</td>\n",
       "    </tr>\n",
       "    <tr>\n",
       "      <th>54</th>\n",
       "      <td>(52.999, 53.173]</td>\n",
       "      <td>53.111176</td>\n",
       "      <td>0.176471</td>\n",
       "      <td>17</td>\n",
       "    </tr>\n",
       "    <tr>\n",
       "      <th>55</th>\n",
       "      <td>(53.173, 53.31]</td>\n",
       "      <td>53.251667</td>\n",
       "      <td>0.000000</td>\n",
       "      <td>18</td>\n",
       "    </tr>\n",
       "    <tr>\n",
       "      <th>56</th>\n",
       "      <td>(53.31, 53.536]</td>\n",
       "      <td>53.464000</td>\n",
       "      <td>0.133333</td>\n",
       "      <td>15</td>\n",
       "    </tr>\n",
       "    <tr>\n",
       "      <th>57</th>\n",
       "      <td>(53.536, 53.683]</td>\n",
       "      <td>53.607647</td>\n",
       "      <td>0.294118</td>\n",
       "      <td>17</td>\n",
       "    </tr>\n",
       "    <tr>\n",
       "      <th>58</th>\n",
       "      <td>(53.683, 53.819]</td>\n",
       "      <td>53.753125</td>\n",
       "      <td>0.062500</td>\n",
       "      <td>16</td>\n",
       "    </tr>\n",
       "    <tr>\n",
       "      <th>59</th>\n",
       "      <td>(53.819, 53.996]</td>\n",
       "      <td>53.913529</td>\n",
       "      <td>0.058824</td>\n",
       "      <td>17</td>\n",
       "    </tr>\n",
       "    <tr>\n",
       "      <th>60</th>\n",
       "      <td>(53.996, 54.17]</td>\n",
       "      <td>54.097778</td>\n",
       "      <td>0.277778</td>\n",
       "      <td>18</td>\n",
       "    </tr>\n",
       "    <tr>\n",
       "      <th>61</th>\n",
       "      <td>(54.17, 54.289]</td>\n",
       "      <td>54.220000</td>\n",
       "      <td>0.200000</td>\n",
       "      <td>15</td>\n",
       "    </tr>\n",
       "    <tr>\n",
       "      <th>62</th>\n",
       "      <td>(54.289, 54.442]</td>\n",
       "      <td>54.366471</td>\n",
       "      <td>0.058824</td>\n",
       "      <td>17</td>\n",
       "    </tr>\n",
       "    <tr>\n",
       "      <th>63</th>\n",
       "      <td>(54.442, 54.582]</td>\n",
       "      <td>54.505882</td>\n",
       "      <td>0.235294</td>\n",
       "      <td>17</td>\n",
       "    </tr>\n",
       "    <tr>\n",
       "      <th>64</th>\n",
       "      <td>(54.582, 54.808]</td>\n",
       "      <td>54.695000</td>\n",
       "      <td>0.187500</td>\n",
       "      <td>16</td>\n",
       "    </tr>\n",
       "    <tr>\n",
       "      <th>65</th>\n",
       "      <td>(54.808, 54.956]</td>\n",
       "      <td>54.885294</td>\n",
       "      <td>0.000000</td>\n",
       "      <td>17</td>\n",
       "    </tr>\n",
       "    <tr>\n",
       "      <th>66</th>\n",
       "      <td>(54.956, 55.072]</td>\n",
       "      <td>55.031176</td>\n",
       "      <td>0.000000</td>\n",
       "      <td>17</td>\n",
       "    </tr>\n",
       "    <tr>\n",
       "      <th>67</th>\n",
       "      <td>(55.072, 55.236]</td>\n",
       "      <td>55.146250</td>\n",
       "      <td>0.250000</td>\n",
       "      <td>16</td>\n",
       "    </tr>\n",
       "    <tr>\n",
       "      <th>68</th>\n",
       "      <td>(55.236, 55.45]</td>\n",
       "      <td>55.353684</td>\n",
       "      <td>0.105263</td>\n",
       "      <td>19</td>\n",
       "    </tr>\n",
       "    <tr>\n",
       "      <th>69</th>\n",
       "      <td>(55.45, 55.68]</td>\n",
       "      <td>55.563333</td>\n",
       "      <td>0.066667</td>\n",
       "      <td>15</td>\n",
       "    </tr>\n",
       "    <tr>\n",
       "      <th>70</th>\n",
       "      <td>(55.68, 55.8]</td>\n",
       "      <td>55.737059</td>\n",
       "      <td>0.235294</td>\n",
       "      <td>17</td>\n",
       "    </tr>\n",
       "    <tr>\n",
       "      <th>71</th>\n",
       "      <td>(55.8, 55.935]</td>\n",
       "      <td>55.874375</td>\n",
       "      <td>0.125000</td>\n",
       "      <td>16</td>\n",
       "    </tr>\n",
       "    <tr>\n",
       "      <th>72</th>\n",
       "      <td>(55.935, 56.052]</td>\n",
       "      <td>55.998824</td>\n",
       "      <td>0.058824</td>\n",
       "      <td>17</td>\n",
       "    </tr>\n",
       "    <tr>\n",
       "      <th>73</th>\n",
       "      <td>(56.052, 56.208]</td>\n",
       "      <td>56.135000</td>\n",
       "      <td>0.187500</td>\n",
       "      <td>16</td>\n",
       "    </tr>\n",
       "    <tr>\n",
       "      <th>74</th>\n",
       "      <td>(56.208, 56.29]</td>\n",
       "      <td>56.250556</td>\n",
       "      <td>0.222222</td>\n",
       "      <td>18</td>\n",
       "    </tr>\n",
       "    <tr>\n",
       "      <th>75</th>\n",
       "      <td>(56.29, 56.44]</td>\n",
       "      <td>56.380588</td>\n",
       "      <td>0.294118</td>\n",
       "      <td>17</td>\n",
       "    </tr>\n",
       "    <tr>\n",
       "      <th>76</th>\n",
       "      <td>(56.44, 56.538]</td>\n",
       "      <td>56.489333</td>\n",
       "      <td>0.133333</td>\n",
       "      <td>15</td>\n",
       "    </tr>\n",
       "    <tr>\n",
       "      <th>77</th>\n",
       "      <td>(56.538, 56.665]</td>\n",
       "      <td>56.615882</td>\n",
       "      <td>0.235294</td>\n",
       "      <td>17</td>\n",
       "    </tr>\n",
       "    <tr>\n",
       "      <th>78</th>\n",
       "      <td>(56.665, 56.771]</td>\n",
       "      <td>56.721176</td>\n",
       "      <td>0.058824</td>\n",
       "      <td>17</td>\n",
       "    </tr>\n",
       "    <tr>\n",
       "      <th>79</th>\n",
       "      <td>(56.771, 56.88]</td>\n",
       "      <td>56.842353</td>\n",
       "      <td>0.000000</td>\n",
       "      <td>17</td>\n",
       "    </tr>\n",
       "    <tr>\n",
       "      <th>80</th>\n",
       "      <td>(56.88, 57.049]</td>\n",
       "      <td>56.971250</td>\n",
       "      <td>0.000000</td>\n",
       "      <td>16</td>\n",
       "    </tr>\n",
       "    <tr>\n",
       "      <th>81</th>\n",
       "      <td>(57.049, 57.161]</td>\n",
       "      <td>57.104118</td>\n",
       "      <td>0.058824</td>\n",
       "      <td>17</td>\n",
       "    </tr>\n",
       "    <tr>\n",
       "      <th>82</th>\n",
       "      <td>(57.161, 57.28]</td>\n",
       "      <td>57.238824</td>\n",
       "      <td>0.000000</td>\n",
       "      <td>17</td>\n",
       "    </tr>\n",
       "    <tr>\n",
       "      <th>83</th>\n",
       "      <td>(57.28, 57.404]</td>\n",
       "      <td>57.343125</td>\n",
       "      <td>0.062500</td>\n",
       "      <td>16</td>\n",
       "    </tr>\n",
       "    <tr>\n",
       "      <th>84</th>\n",
       "      <td>(57.404, 57.51]</td>\n",
       "      <td>57.460588</td>\n",
       "      <td>0.000000</td>\n",
       "      <td>17</td>\n",
       "    </tr>\n",
       "    <tr>\n",
       "      <th>85</th>\n",
       "      <td>(57.51, 57.61]</td>\n",
       "      <td>57.554118</td>\n",
       "      <td>0.000000</td>\n",
       "      <td>17</td>\n",
       "    </tr>\n",
       "    <tr>\n",
       "      <th>86</th>\n",
       "      <td>(57.61, 57.718]</td>\n",
       "      <td>57.671250</td>\n",
       "      <td>0.000000</td>\n",
       "      <td>16</td>\n",
       "    </tr>\n",
       "    <tr>\n",
       "      <th>87</th>\n",
       "      <td>(57.718, 57.902]</td>\n",
       "      <td>57.825882</td>\n",
       "      <td>0.176471</td>\n",
       "      <td>17</td>\n",
       "    </tr>\n",
       "    <tr>\n",
       "      <th>88</th>\n",
       "      <td>(57.902, 57.997]</td>\n",
       "      <td>57.962500</td>\n",
       "      <td>0.062500</td>\n",
       "      <td>16</td>\n",
       "    </tr>\n",
       "    <tr>\n",
       "      <th>89</th>\n",
       "      <td>(57.997, 58.1]</td>\n",
       "      <td>58.041765</td>\n",
       "      <td>0.000000</td>\n",
       "      <td>17</td>\n",
       "    </tr>\n",
       "    <tr>\n",
       "      <th>90</th>\n",
       "      <td>(58.1, 58.221]</td>\n",
       "      <td>58.159412</td>\n",
       "      <td>0.058824</td>\n",
       "      <td>17</td>\n",
       "    </tr>\n",
       "    <tr>\n",
       "      <th>91</th>\n",
       "      <td>(58.221, 58.407]</td>\n",
       "      <td>58.314375</td>\n",
       "      <td>0.062500</td>\n",
       "      <td>16</td>\n",
       "    </tr>\n",
       "    <tr>\n",
       "      <th>92</th>\n",
       "      <td>(58.407, 58.524]</td>\n",
       "      <td>58.474706</td>\n",
       "      <td>0.058824</td>\n",
       "      <td>17</td>\n",
       "    </tr>\n",
       "    <tr>\n",
       "      <th>93</th>\n",
       "      <td>(58.524, 58.611]</td>\n",
       "      <td>58.577647</td>\n",
       "      <td>0.058824</td>\n",
       "      <td>17</td>\n",
       "    </tr>\n",
       "    <tr>\n",
       "      <th>94</th>\n",
       "      <td>(58.611, 58.7]</td>\n",
       "      <td>58.663529</td>\n",
       "      <td>0.058824</td>\n",
       "      <td>17</td>\n",
       "    </tr>\n",
       "    <tr>\n",
       "      <th>95</th>\n",
       "      <td>(58.7, 58.824]</td>\n",
       "      <td>58.763125</td>\n",
       "      <td>0.062500</td>\n",
       "      <td>16</td>\n",
       "    </tr>\n",
       "    <tr>\n",
       "      <th>96</th>\n",
       "      <td>(58.824, 58.93]</td>\n",
       "      <td>58.890588</td>\n",
       "      <td>0.000000</td>\n",
       "      <td>17</td>\n",
       "    </tr>\n",
       "    <tr>\n",
       "      <th>97</th>\n",
       "      <td>(58.93, 59.097]</td>\n",
       "      <td>59.018125</td>\n",
       "      <td>0.000000</td>\n",
       "      <td>16</td>\n",
       "    </tr>\n",
       "    <tr>\n",
       "      <th>98</th>\n",
       "      <td>(59.097, 59.337]</td>\n",
       "      <td>59.220588</td>\n",
       "      <td>0.058824</td>\n",
       "      <td>17</td>\n",
       "    </tr>\n",
       "    <tr>\n",
       "      <th>99</th>\n",
       "      <td>(59.337, 59.47]</td>\n",
       "      <td>59.402222</td>\n",
       "      <td>0.111111</td>\n",
       "      <td>18</td>\n",
       "    </tr>\n",
       "    <tr>\n",
       "      <th>100</th>\n",
       "      <td>(59.47, 59.62]</td>\n",
       "      <td>59.524000</td>\n",
       "      <td>0.066667</td>\n",
       "      <td>15</td>\n",
       "    </tr>\n",
       "    <tr>\n",
       "      <th>101</th>\n",
       "      <td>(59.62, 59.8]</td>\n",
       "      <td>59.729412</td>\n",
       "      <td>0.000000</td>\n",
       "      <td>17</td>\n",
       "    </tr>\n",
       "    <tr>\n",
       "      <th>102</th>\n",
       "      <td>(59.8, 59.94]</td>\n",
       "      <td>59.856875</td>\n",
       "      <td>0.062500</td>\n",
       "      <td>16</td>\n",
       "    </tr>\n",
       "    <tr>\n",
       "      <th>103</th>\n",
       "      <td>(59.94, 60.05]</td>\n",
       "      <td>60.002222</td>\n",
       "      <td>0.166667</td>\n",
       "      <td>18</td>\n",
       "    </tr>\n",
       "    <tr>\n",
       "      <th>104</th>\n",
       "      <td>(60.05, 60.153]</td>\n",
       "      <td>60.102500</td>\n",
       "      <td>0.000000</td>\n",
       "      <td>16</td>\n",
       "    </tr>\n",
       "    <tr>\n",
       "      <th>105</th>\n",
       "      <td>(60.153, 60.31]</td>\n",
       "      <td>60.243529</td>\n",
       "      <td>0.000000</td>\n",
       "      <td>17</td>\n",
       "    </tr>\n",
       "    <tr>\n",
       "      <th>106</th>\n",
       "      <td>(60.31, 60.416]</td>\n",
       "      <td>60.372500</td>\n",
       "      <td>0.000000</td>\n",
       "      <td>16</td>\n",
       "    </tr>\n",
       "    <tr>\n",
       "      <th>107</th>\n",
       "      <td>(60.416, 60.5]</td>\n",
       "      <td>60.457647</td>\n",
       "      <td>0.000000</td>\n",
       "      <td>17</td>\n",
       "    </tr>\n",
       "    <tr>\n",
       "      <th>108</th>\n",
       "      <td>(60.5, 60.59]</td>\n",
       "      <td>60.552222</td>\n",
       "      <td>0.000000</td>\n",
       "      <td>18</td>\n",
       "    </tr>\n",
       "    <tr>\n",
       "      <th>109</th>\n",
       "      <td>(60.59, 60.706]</td>\n",
       "      <td>60.650000</td>\n",
       "      <td>0.066667</td>\n",
       "      <td>15</td>\n",
       "    </tr>\n",
       "    <tr>\n",
       "      <th>110</th>\n",
       "      <td>(60.706, 60.84]</td>\n",
       "      <td>60.772941</td>\n",
       "      <td>0.058824</td>\n",
       "      <td>17</td>\n",
       "    </tr>\n",
       "    <tr>\n",
       "      <th>111</th>\n",
       "      <td>(60.84, 61.019]</td>\n",
       "      <td>60.919375</td>\n",
       "      <td>0.062500</td>\n",
       "      <td>16</td>\n",
       "    </tr>\n",
       "    <tr>\n",
       "      <th>112</th>\n",
       "      <td>(61.019, 61.19]</td>\n",
       "      <td>61.126111</td>\n",
       "      <td>0.055556</td>\n",
       "      <td>18</td>\n",
       "    </tr>\n",
       "    <tr>\n",
       "      <th>113</th>\n",
       "      <td>(61.19, 61.32]</td>\n",
       "      <td>61.258750</td>\n",
       "      <td>0.125000</td>\n",
       "      <td>16</td>\n",
       "    </tr>\n",
       "    <tr>\n",
       "      <th>114</th>\n",
       "      <td>(61.32, 61.439]</td>\n",
       "      <td>61.378125</td>\n",
       "      <td>0.000000</td>\n",
       "      <td>16</td>\n",
       "    </tr>\n",
       "    <tr>\n",
       "      <th>115</th>\n",
       "      <td>(61.439, 61.556]</td>\n",
       "      <td>61.488824</td>\n",
       "      <td>0.058824</td>\n",
       "      <td>17</td>\n",
       "    </tr>\n",
       "    <tr>\n",
       "      <th>116</th>\n",
       "      <td>(61.556, 61.702]</td>\n",
       "      <td>61.631176</td>\n",
       "      <td>0.000000</td>\n",
       "      <td>17</td>\n",
       "    </tr>\n",
       "    <tr>\n",
       "      <th>117</th>\n",
       "      <td>(61.702, 61.84]</td>\n",
       "      <td>61.778824</td>\n",
       "      <td>0.000000</td>\n",
       "      <td>17</td>\n",
       "    </tr>\n",
       "    <tr>\n",
       "      <th>118</th>\n",
       "      <td>(61.84, 61.965]</td>\n",
       "      <td>61.911250</td>\n",
       "      <td>0.062500</td>\n",
       "      <td>16</td>\n",
       "    </tr>\n",
       "    <tr>\n",
       "      <th>119</th>\n",
       "      <td>(61.965, 62.042]</td>\n",
       "      <td>62.012353</td>\n",
       "      <td>0.058824</td>\n",
       "      <td>17</td>\n",
       "    </tr>\n",
       "    <tr>\n",
       "      <th>120</th>\n",
       "      <td>(62.042, 62.199]</td>\n",
       "      <td>62.125625</td>\n",
       "      <td>0.000000</td>\n",
       "      <td>16</td>\n",
       "    </tr>\n",
       "    <tr>\n",
       "      <th>121</th>\n",
       "      <td>(62.199, 62.34]</td>\n",
       "      <td>62.281111</td>\n",
       "      <td>0.166667</td>\n",
       "      <td>18</td>\n",
       "    </tr>\n",
       "    <tr>\n",
       "      <th>122</th>\n",
       "      <td>(62.34, 62.452]</td>\n",
       "      <td>62.400625</td>\n",
       "      <td>0.000000</td>\n",
       "      <td>16</td>\n",
       "    </tr>\n",
       "    <tr>\n",
       "      <th>123</th>\n",
       "      <td>(62.452, 62.597]</td>\n",
       "      <td>62.521250</td>\n",
       "      <td>0.062500</td>\n",
       "      <td>16</td>\n",
       "    </tr>\n",
       "    <tr>\n",
       "      <th>124</th>\n",
       "      <td>(62.597, 62.76]</td>\n",
       "      <td>62.666471</td>\n",
       "      <td>0.000000</td>\n",
       "      <td>17</td>\n",
       "    </tr>\n",
       "    <tr>\n",
       "      <th>125</th>\n",
       "      <td>(62.76, 62.922]</td>\n",
       "      <td>62.845882</td>\n",
       "      <td>0.176471</td>\n",
       "      <td>17</td>\n",
       "    </tr>\n",
       "    <tr>\n",
       "      <th>126</th>\n",
       "      <td>(62.922, 63.068]</td>\n",
       "      <td>62.985625</td>\n",
       "      <td>0.125000</td>\n",
       "      <td>16</td>\n",
       "    </tr>\n",
       "    <tr>\n",
       "      <th>127</th>\n",
       "      <td>(63.068, 63.195]</td>\n",
       "      <td>63.127059</td>\n",
       "      <td>0.235294</td>\n",
       "      <td>17</td>\n",
       "    </tr>\n",
       "    <tr>\n",
       "      <th>128</th>\n",
       "      <td>(63.195, 63.351]</td>\n",
       "      <td>63.275882</td>\n",
       "      <td>0.058824</td>\n",
       "      <td>17</td>\n",
       "    </tr>\n",
       "    <tr>\n",
       "      <th>129</th>\n",
       "      <td>(63.351, 63.476]</td>\n",
       "      <td>63.415000</td>\n",
       "      <td>0.187500</td>\n",
       "      <td>16</td>\n",
       "    </tr>\n",
       "    <tr>\n",
       "      <th>130</th>\n",
       "      <td>(63.476, 63.569]</td>\n",
       "      <td>63.527059</td>\n",
       "      <td>0.117647</td>\n",
       "      <td>17</td>\n",
       "    </tr>\n",
       "    <tr>\n",
       "      <th>131</th>\n",
       "      <td>(63.569, 63.711]</td>\n",
       "      <td>63.635882</td>\n",
       "      <td>0.000000</td>\n",
       "      <td>17</td>\n",
       "    </tr>\n",
       "    <tr>\n",
       "      <th>132</th>\n",
       "      <td>(63.711, 63.83]</td>\n",
       "      <td>63.777059</td>\n",
       "      <td>0.058824</td>\n",
       "      <td>17</td>\n",
       "    </tr>\n",
       "    <tr>\n",
       "      <th>133</th>\n",
       "      <td>(63.83, 64.014]</td>\n",
       "      <td>63.941250</td>\n",
       "      <td>0.062500</td>\n",
       "      <td>16</td>\n",
       "    </tr>\n",
       "    <tr>\n",
       "      <th>134</th>\n",
       "      <td>(64.014, 64.18]</td>\n",
       "      <td>64.097059</td>\n",
       "      <td>0.000000</td>\n",
       "      <td>17</td>\n",
       "    </tr>\n",
       "    <tr>\n",
       "      <th>135</th>\n",
       "      <td>(64.18, 64.29]</td>\n",
       "      <td>64.241765</td>\n",
       "      <td>0.000000</td>\n",
       "      <td>17</td>\n",
       "    </tr>\n",
       "    <tr>\n",
       "      <th>136</th>\n",
       "      <td>(64.29, 64.463]</td>\n",
       "      <td>64.380000</td>\n",
       "      <td>0.000000</td>\n",
       "      <td>16</td>\n",
       "    </tr>\n",
       "    <tr>\n",
       "      <th>137</th>\n",
       "      <td>(64.463, 64.581]</td>\n",
       "      <td>64.530588</td>\n",
       "      <td>0.058824</td>\n",
       "      <td>17</td>\n",
       "    </tr>\n",
       "    <tr>\n",
       "      <th>138</th>\n",
       "      <td>(64.581, 64.737]</td>\n",
       "      <td>64.643750</td>\n",
       "      <td>0.062500</td>\n",
       "      <td>16</td>\n",
       "    </tr>\n",
       "    <tr>\n",
       "      <th>139</th>\n",
       "      <td>(64.737, 64.868]</td>\n",
       "      <td>64.804706</td>\n",
       "      <td>0.058824</td>\n",
       "      <td>17</td>\n",
       "    </tr>\n",
       "    <tr>\n",
       "      <th>140</th>\n",
       "      <td>(64.868, 65.011]</td>\n",
       "      <td>64.924706</td>\n",
       "      <td>0.117647</td>\n",
       "      <td>17</td>\n",
       "    </tr>\n",
       "    <tr>\n",
       "      <th>141</th>\n",
       "      <td>(65.011, 65.107]</td>\n",
       "      <td>65.057500</td>\n",
       "      <td>0.000000</td>\n",
       "      <td>16</td>\n",
       "    </tr>\n",
       "    <tr>\n",
       "      <th>142</th>\n",
       "      <td>(65.107, 65.254]</td>\n",
       "      <td>65.184706</td>\n",
       "      <td>0.000000</td>\n",
       "      <td>17</td>\n",
       "    </tr>\n",
       "    <tr>\n",
       "      <th>143</th>\n",
       "      <td>(65.254, 65.4]</td>\n",
       "      <td>65.333529</td>\n",
       "      <td>0.000000</td>\n",
       "      <td>17</td>\n",
       "    </tr>\n",
       "    <tr>\n",
       "      <th>144</th>\n",
       "      <td>(65.4, 65.57]</td>\n",
       "      <td>65.497647</td>\n",
       "      <td>0.058824</td>\n",
       "      <td>17</td>\n",
       "    </tr>\n",
       "    <tr>\n",
       "      <th>145</th>\n",
       "      <td>(65.57, 65.734]</td>\n",
       "      <td>65.662500</td>\n",
       "      <td>0.062500</td>\n",
       "      <td>16</td>\n",
       "    </tr>\n",
       "    <tr>\n",
       "      <th>146</th>\n",
       "      <td>(65.734, 65.89]</td>\n",
       "      <td>65.814706</td>\n",
       "      <td>0.058824</td>\n",
       "      <td>17</td>\n",
       "    </tr>\n",
       "    <tr>\n",
       "      <th>147</th>\n",
       "      <td>(65.89, 66.03]</td>\n",
       "      <td>65.962353</td>\n",
       "      <td>0.058824</td>\n",
       "      <td>17</td>\n",
       "    </tr>\n",
       "    <tr>\n",
       "      <th>148</th>\n",
       "      <td>(66.03, 66.283]</td>\n",
       "      <td>66.150625</td>\n",
       "      <td>0.000000</td>\n",
       "      <td>16</td>\n",
       "    </tr>\n",
       "    <tr>\n",
       "      <th>149</th>\n",
       "      <td>(66.283, 66.48]</td>\n",
       "      <td>66.394706</td>\n",
       "      <td>0.058824</td>\n",
       "      <td>17</td>\n",
       "    </tr>\n",
       "    <tr>\n",
       "      <th>150</th>\n",
       "      <td>(66.48, 66.633]</td>\n",
       "      <td>66.556875</td>\n",
       "      <td>0.062500</td>\n",
       "      <td>16</td>\n",
       "    </tr>\n",
       "    <tr>\n",
       "      <th>151</th>\n",
       "      <td>(66.633, 66.8]</td>\n",
       "      <td>66.724444</td>\n",
       "      <td>0.111111</td>\n",
       "      <td>18</td>\n",
       "    </tr>\n",
       "    <tr>\n",
       "      <th>152</th>\n",
       "      <td>(66.8, 66.98]</td>\n",
       "      <td>66.890667</td>\n",
       "      <td>0.066667</td>\n",
       "      <td>15</td>\n",
       "    </tr>\n",
       "    <tr>\n",
       "      <th>153</th>\n",
       "      <td>(66.98, 67.086]</td>\n",
       "      <td>67.020588</td>\n",
       "      <td>0.058824</td>\n",
       "      <td>17</td>\n",
       "    </tr>\n",
       "    <tr>\n",
       "      <th>154</th>\n",
       "      <td>(67.086, 67.25]</td>\n",
       "      <td>67.185882</td>\n",
       "      <td>0.058824</td>\n",
       "      <td>17</td>\n",
       "    </tr>\n",
       "    <tr>\n",
       "      <th>155</th>\n",
       "      <td>(67.25, 67.54]</td>\n",
       "      <td>67.391250</td>\n",
       "      <td>0.062500</td>\n",
       "      <td>16</td>\n",
       "    </tr>\n",
       "    <tr>\n",
       "      <th>156</th>\n",
       "      <td>(67.54, 67.692]</td>\n",
       "      <td>67.603529</td>\n",
       "      <td>0.000000</td>\n",
       "      <td>17</td>\n",
       "    </tr>\n",
       "    <tr>\n",
       "      <th>157</th>\n",
       "      <td>(67.692, 67.843]</td>\n",
       "      <td>67.753529</td>\n",
       "      <td>0.117647</td>\n",
       "      <td>17</td>\n",
       "    </tr>\n",
       "    <tr>\n",
       "      <th>158</th>\n",
       "      <td>(67.843, 68.0]</td>\n",
       "      <td>67.919412</td>\n",
       "      <td>0.000000</td>\n",
       "      <td>17</td>\n",
       "    </tr>\n",
       "    <tr>\n",
       "      <th>159</th>\n",
       "      <td>(68.0, 68.236]</td>\n",
       "      <td>68.111875</td>\n",
       "      <td>0.062500</td>\n",
       "      <td>16</td>\n",
       "    </tr>\n",
       "    <tr>\n",
       "      <th>160</th>\n",
       "      <td>(68.236, 68.403]</td>\n",
       "      <td>68.312941</td>\n",
       "      <td>0.058824</td>\n",
       "      <td>17</td>\n",
       "    </tr>\n",
       "    <tr>\n",
       "      <th>161</th>\n",
       "      <td>(68.403, 68.66]</td>\n",
       "      <td>68.576471</td>\n",
       "      <td>0.058824</td>\n",
       "      <td>17</td>\n",
       "    </tr>\n",
       "    <tr>\n",
       "      <th>162</th>\n",
       "      <td>(68.66, 68.893]</td>\n",
       "      <td>68.760000</td>\n",
       "      <td>0.125000</td>\n",
       "      <td>16</td>\n",
       "    </tr>\n",
       "    <tr>\n",
       "      <th>163</th>\n",
       "      <td>(68.893, 69.07]</td>\n",
       "      <td>68.990556</td>\n",
       "      <td>0.055556</td>\n",
       "      <td>18</td>\n",
       "    </tr>\n",
       "    <tr>\n",
       "      <th>164</th>\n",
       "      <td>(69.07, 69.345]</td>\n",
       "      <td>69.192000</td>\n",
       "      <td>0.133333</td>\n",
       "      <td>15</td>\n",
       "    </tr>\n",
       "    <tr>\n",
       "      <th>165</th>\n",
       "      <td>(69.345, 69.531]</td>\n",
       "      <td>69.424118</td>\n",
       "      <td>0.117647</td>\n",
       "      <td>17</td>\n",
       "    </tr>\n",
       "    <tr>\n",
       "      <th>166</th>\n",
       "      <td>(69.531, 69.772]</td>\n",
       "      <td>69.675882</td>\n",
       "      <td>0.000000</td>\n",
       "      <td>17</td>\n",
       "    </tr>\n",
       "    <tr>\n",
       "      <th>167</th>\n",
       "      <td>(69.772, 69.95]</td>\n",
       "      <td>69.870000</td>\n",
       "      <td>0.058824</td>\n",
       "      <td>17</td>\n",
       "    </tr>\n",
       "    <tr>\n",
       "      <th>168</th>\n",
       "      <td>(69.95, 70.125]</td>\n",
       "      <td>70.027500</td>\n",
       "      <td>0.000000</td>\n",
       "      <td>16</td>\n",
       "    </tr>\n",
       "    <tr>\n",
       "      <th>169</th>\n",
       "      <td>(70.125, 70.354]</td>\n",
       "      <td>70.260000</td>\n",
       "      <td>0.000000</td>\n",
       "      <td>17</td>\n",
       "    </tr>\n",
       "    <tr>\n",
       "      <th>170</th>\n",
       "      <td>(70.354, 70.683]</td>\n",
       "      <td>70.496250</td>\n",
       "      <td>0.062500</td>\n",
       "      <td>16</td>\n",
       "    </tr>\n",
       "    <tr>\n",
       "      <th>171</th>\n",
       "      <td>(70.683, 70.895]</td>\n",
       "      <td>70.785882</td>\n",
       "      <td>0.000000</td>\n",
       "      <td>17</td>\n",
       "    </tr>\n",
       "    <tr>\n",
       "      <th>172</th>\n",
       "      <td>(70.895, 71.1]</td>\n",
       "      <td>71.014118</td>\n",
       "      <td>0.352941</td>\n",
       "      <td>17</td>\n",
       "    </tr>\n",
       "    <tr>\n",
       "      <th>173</th>\n",
       "      <td>(71.1, 71.248]</td>\n",
       "      <td>71.183750</td>\n",
       "      <td>0.062500</td>\n",
       "      <td>16</td>\n",
       "    </tr>\n",
       "    <tr>\n",
       "      <th>174</th>\n",
       "      <td>(71.248, 71.615]</td>\n",
       "      <td>71.427059</td>\n",
       "      <td>0.058824</td>\n",
       "      <td>17</td>\n",
       "    </tr>\n",
       "    <tr>\n",
       "      <th>175</th>\n",
       "      <td>(71.615, 71.9]</td>\n",
       "      <td>71.775000</td>\n",
       "      <td>0.055556</td>\n",
       "      <td>18</td>\n",
       "    </tr>\n",
       "    <tr>\n",
       "      <th>176</th>\n",
       "      <td>(71.9, 72.1]</td>\n",
       "      <td>72.023125</td>\n",
       "      <td>0.000000</td>\n",
       "      <td>16</td>\n",
       "    </tr>\n",
       "    <tr>\n",
       "      <th>177</th>\n",
       "      <td>(72.1, 72.34]</td>\n",
       "      <td>72.253750</td>\n",
       "      <td>0.187500</td>\n",
       "      <td>16</td>\n",
       "    </tr>\n",
       "    <tr>\n",
       "      <th>178</th>\n",
       "      <td>(72.34, 72.654]</td>\n",
       "      <td>72.491176</td>\n",
       "      <td>0.117647</td>\n",
       "      <td>17</td>\n",
       "    </tr>\n",
       "    <tr>\n",
       "      <th>179</th>\n",
       "      <td>(72.654, 72.99]</td>\n",
       "      <td>72.847778</td>\n",
       "      <td>0.055556</td>\n",
       "      <td>18</td>\n",
       "    </tr>\n",
       "    <tr>\n",
       "      <th>180</th>\n",
       "      <td>(72.99, 73.194]</td>\n",
       "      <td>73.075333</td>\n",
       "      <td>0.000000</td>\n",
       "      <td>15</td>\n",
       "    </tr>\n",
       "    <tr>\n",
       "      <th>181</th>\n",
       "      <td>(73.194, 73.471]</td>\n",
       "      <td>73.358824</td>\n",
       "      <td>0.117647</td>\n",
       "      <td>17</td>\n",
       "    </tr>\n",
       "    <tr>\n",
       "      <th>182</th>\n",
       "      <td>(73.471, 73.838]</td>\n",
       "      <td>73.675000</td>\n",
       "      <td>0.000000</td>\n",
       "      <td>16</td>\n",
       "    </tr>\n",
       "    <tr>\n",
       "      <th>183</th>\n",
       "      <td>(73.838, 74.309]</td>\n",
       "      <td>74.024118</td>\n",
       "      <td>0.294118</td>\n",
       "      <td>17</td>\n",
       "    </tr>\n",
       "    <tr>\n",
       "      <th>184</th>\n",
       "      <td>(74.309, 74.681]</td>\n",
       "      <td>74.534118</td>\n",
       "      <td>0.705882</td>\n",
       "      <td>17</td>\n",
       "    </tr>\n",
       "    <tr>\n",
       "      <th>185</th>\n",
       "      <td>(74.681, 75.013]</td>\n",
       "      <td>74.870000</td>\n",
       "      <td>1.000000</td>\n",
       "      <td>16</td>\n",
       "    </tr>\n",
       "    <tr>\n",
       "      <th>186</th>\n",
       "      <td>(75.013, 75.267]</td>\n",
       "      <td>75.107059</td>\n",
       "      <td>0.764706</td>\n",
       "      <td>17</td>\n",
       "    </tr>\n",
       "    <tr>\n",
       "      <th>187</th>\n",
       "      <td>(75.267, 75.632]</td>\n",
       "      <td>75.465882</td>\n",
       "      <td>0.647059</td>\n",
       "      <td>17</td>\n",
       "    </tr>\n",
       "    <tr>\n",
       "      <th>188</th>\n",
       "      <td>(75.632, 76.067]</td>\n",
       "      <td>75.823750</td>\n",
       "      <td>0.625000</td>\n",
       "      <td>16</td>\n",
       "    </tr>\n",
       "    <tr>\n",
       "      <th>189</th>\n",
       "      <td>(76.067, 76.516]</td>\n",
       "      <td>76.280588</td>\n",
       "      <td>0.823529</td>\n",
       "      <td>17</td>\n",
       "    </tr>\n",
       "    <tr>\n",
       "      <th>190</th>\n",
       "      <td>(76.516, 77.071]</td>\n",
       "      <td>76.792353</td>\n",
       "      <td>0.764706</td>\n",
       "      <td>17</td>\n",
       "    </tr>\n",
       "    <tr>\n",
       "      <th>191</th>\n",
       "      <td>(77.071, 77.639]</td>\n",
       "      <td>77.305625</td>\n",
       "      <td>0.750000</td>\n",
       "      <td>16</td>\n",
       "    </tr>\n",
       "    <tr>\n",
       "      <th>192</th>\n",
       "      <td>(77.639, 78.381]</td>\n",
       "      <td>78.035882</td>\n",
       "      <td>0.588235</td>\n",
       "      <td>17</td>\n",
       "    </tr>\n",
       "    <tr>\n",
       "      <th>193</th>\n",
       "      <td>(78.381, 79.19]</td>\n",
       "      <td>78.864444</td>\n",
       "      <td>0.777778</td>\n",
       "      <td>18</td>\n",
       "    </tr>\n",
       "    <tr>\n",
       "      <th>194</th>\n",
       "      <td>(79.19, 79.739]</td>\n",
       "      <td>79.520667</td>\n",
       "      <td>0.733333</td>\n",
       "      <td>15</td>\n",
       "    </tr>\n",
       "    <tr>\n",
       "      <th>195</th>\n",
       "      <td>(79.739, 80.987]</td>\n",
       "      <td>80.375294</td>\n",
       "      <td>0.823529</td>\n",
       "      <td>17</td>\n",
       "    </tr>\n",
       "    <tr>\n",
       "      <th>196</th>\n",
       "      <td>(80.987, 82.28]</td>\n",
       "      <td>81.645294</td>\n",
       "      <td>0.588235</td>\n",
       "      <td>17</td>\n",
       "    </tr>\n",
       "    <tr>\n",
       "      <th>197</th>\n",
       "      <td>(82.28, 83.84]</td>\n",
       "      <td>82.773125</td>\n",
       "      <td>0.812500</td>\n",
       "      <td>16</td>\n",
       "    </tr>\n",
       "    <tr>\n",
       "      <th>198</th>\n",
       "      <td>(83.84, 86.905]</td>\n",
       "      <td>84.994118</td>\n",
       "      <td>0.823529</td>\n",
       "      <td>17</td>\n",
       "    </tr>\n",
       "    <tr>\n",
       "      <th>199</th>\n",
       "      <td>(86.905, 96.15]</td>\n",
       "      <td>89.326471</td>\n",
       "      <td>0.882353</td>\n",
       "      <td>17</td>\n",
       "    </tr>\n",
       "  </tbody>\n",
       "</table>\n",
       "</div>"
      ],
      "text/plain": [
       "         charge_group  group_mean     churn  #_of_accounts\n",
       "0    (22.929, 32.497]   28.372353  0.235294             17\n",
       "1    (32.497, 33.853]   33.329412  0.117647             17\n",
       "2     (33.853, 35.72]   34.832500  0.062500             16\n",
       "3     (35.72, 37.436]   36.645882  0.058824             17\n",
       "4    (37.436, 38.752]   38.102941  0.000000             17\n",
       "5     (38.752, 39.44]   39.101875  0.187500             16\n",
       "6     (39.44, 40.212]   39.834118  0.176471             17\n",
       "7    (40.212, 41.033]   40.572353  0.117647             17\n",
       "8    (41.033, 41.665]   41.304375  0.125000             16\n",
       "9    (41.665, 42.338]   42.021176  0.000000             17\n",
       "10   (42.338, 42.775]   42.558235  0.117647             17\n",
       "11   (42.775, 43.319]   43.085625  0.062500             16\n",
       "12   (43.319, 43.707]   43.488235  0.058824             17\n",
       "13    (43.707, 44.07]   43.891667  0.055556             18\n",
       "14     (44.07, 44.38]   44.209375  0.187500             16\n",
       "15      (44.38, 44.7]   44.592353  0.117647             17\n",
       "16     (44.7, 45.062]   44.894375  0.187500             16\n",
       "17   (45.062, 45.338]   45.193750  0.062500             16\n",
       "18   (45.338, 45.531]   45.434706  0.235294             17\n",
       "19    (45.531, 46.02]   45.805000  0.055556             18\n",
       "20    (46.02, 46.479]   46.306000  0.000000             15\n",
       "21   (46.479, 46.835]   46.632941  0.117647             17\n",
       "22    (46.835, 47.11]   46.947059  0.117647             17\n",
       "23     (47.11, 47.27]   47.194118  0.117647             17\n",
       "24      (47.27, 47.6]   47.448750  0.187500             16\n",
       "25      (47.6, 47.83]   47.732778  0.111111             18\n",
       "26    (47.83, 48.068]   47.952667  0.000000             15\n",
       "27   (48.068, 48.225]   48.143529  0.117647             17\n",
       "28   (48.225, 48.421]   48.314118  0.117647             17\n",
       "29   (48.421, 48.582]   48.489375  0.187500             16\n",
       "30    (48.582, 48.97]   48.782941  0.058824             17\n",
       "31    (48.97, 49.191]   49.052941  0.176471             17\n",
       "32   (49.191, 49.396]   49.311250  0.250000             16\n",
       "33   (49.396, 49.594]   49.485294  0.235294             17\n",
       "34   (49.594, 49.831]   49.712353  0.117647             17\n",
       "35     (49.831, 50.0]   49.920588  0.176471             17\n",
       "36     (50.0, 50.244]   50.108750  0.062500             16\n",
       "37    (50.244, 50.42]   50.320000  0.000000             18\n",
       "38     (50.42, 50.57]   50.506875  0.125000             16\n",
       "39     (50.57, 50.72]   50.653529  0.294118             17\n",
       "40    (50.72, 50.851]   50.799375  0.125000             16\n",
       "41   (50.851, 51.037]   50.957500  0.312500             16\n",
       "42     (51.037, 51.2]   51.125000  0.166667             18\n",
       "43     (51.2, 51.341]   51.265625  0.062500             16\n",
       "44    (51.341, 51.51]   51.442353  0.058824             17\n",
       "45    (51.51, 51.677]   51.600625  0.125000             16\n",
       "46    (51.677, 51.93]   51.831765  0.058824             17\n",
       "47     (51.93, 52.11]   52.037059  0.235294             17\n",
       "48    (52.11, 52.243]   52.181250  0.125000             16\n",
       "49    (52.243, 52.38]   52.297059  0.352941             17\n",
       "50     (52.38, 52.51]   52.474118  0.117647             17\n",
       "51    (52.51, 52.603]   52.561875  0.250000             16\n",
       "52     (52.603, 52.8]   52.692500  0.250000             16\n",
       "53     (52.8, 52.999]   52.910588  0.000000             17\n",
       "54   (52.999, 53.173]   53.111176  0.176471             17\n",
       "55    (53.173, 53.31]   53.251667  0.000000             18\n",
       "56    (53.31, 53.536]   53.464000  0.133333             15\n",
       "57   (53.536, 53.683]   53.607647  0.294118             17\n",
       "58   (53.683, 53.819]   53.753125  0.062500             16\n",
       "59   (53.819, 53.996]   53.913529  0.058824             17\n",
       "60    (53.996, 54.17]   54.097778  0.277778             18\n",
       "61    (54.17, 54.289]   54.220000  0.200000             15\n",
       "62   (54.289, 54.442]   54.366471  0.058824             17\n",
       "63   (54.442, 54.582]   54.505882  0.235294             17\n",
       "64   (54.582, 54.808]   54.695000  0.187500             16\n",
       "65   (54.808, 54.956]   54.885294  0.000000             17\n",
       "66   (54.956, 55.072]   55.031176  0.000000             17\n",
       "67   (55.072, 55.236]   55.146250  0.250000             16\n",
       "68    (55.236, 55.45]   55.353684  0.105263             19\n",
       "69     (55.45, 55.68]   55.563333  0.066667             15\n",
       "70      (55.68, 55.8]   55.737059  0.235294             17\n",
       "71     (55.8, 55.935]   55.874375  0.125000             16\n",
       "72   (55.935, 56.052]   55.998824  0.058824             17\n",
       "73   (56.052, 56.208]   56.135000  0.187500             16\n",
       "74    (56.208, 56.29]   56.250556  0.222222             18\n",
       "75     (56.29, 56.44]   56.380588  0.294118             17\n",
       "76    (56.44, 56.538]   56.489333  0.133333             15\n",
       "77   (56.538, 56.665]   56.615882  0.235294             17\n",
       "78   (56.665, 56.771]   56.721176  0.058824             17\n",
       "79    (56.771, 56.88]   56.842353  0.000000             17\n",
       "80    (56.88, 57.049]   56.971250  0.000000             16\n",
       "81   (57.049, 57.161]   57.104118  0.058824             17\n",
       "82    (57.161, 57.28]   57.238824  0.000000             17\n",
       "83    (57.28, 57.404]   57.343125  0.062500             16\n",
       "84    (57.404, 57.51]   57.460588  0.000000             17\n",
       "85     (57.51, 57.61]   57.554118  0.000000             17\n",
       "86    (57.61, 57.718]   57.671250  0.000000             16\n",
       "87   (57.718, 57.902]   57.825882  0.176471             17\n",
       "88   (57.902, 57.997]   57.962500  0.062500             16\n",
       "89     (57.997, 58.1]   58.041765  0.000000             17\n",
       "90     (58.1, 58.221]   58.159412  0.058824             17\n",
       "91   (58.221, 58.407]   58.314375  0.062500             16\n",
       "92   (58.407, 58.524]   58.474706  0.058824             17\n",
       "93   (58.524, 58.611]   58.577647  0.058824             17\n",
       "94     (58.611, 58.7]   58.663529  0.058824             17\n",
       "95     (58.7, 58.824]   58.763125  0.062500             16\n",
       "96    (58.824, 58.93]   58.890588  0.000000             17\n",
       "97    (58.93, 59.097]   59.018125  0.000000             16\n",
       "98   (59.097, 59.337]   59.220588  0.058824             17\n",
       "99    (59.337, 59.47]   59.402222  0.111111             18\n",
       "100    (59.47, 59.62]   59.524000  0.066667             15\n",
       "101     (59.62, 59.8]   59.729412  0.000000             17\n",
       "102     (59.8, 59.94]   59.856875  0.062500             16\n",
       "103    (59.94, 60.05]   60.002222  0.166667             18\n",
       "104   (60.05, 60.153]   60.102500  0.000000             16\n",
       "105   (60.153, 60.31]   60.243529  0.000000             17\n",
       "106   (60.31, 60.416]   60.372500  0.000000             16\n",
       "107    (60.416, 60.5]   60.457647  0.000000             17\n",
       "108     (60.5, 60.59]   60.552222  0.000000             18\n",
       "109   (60.59, 60.706]   60.650000  0.066667             15\n",
       "110   (60.706, 60.84]   60.772941  0.058824             17\n",
       "111   (60.84, 61.019]   60.919375  0.062500             16\n",
       "112   (61.019, 61.19]   61.126111  0.055556             18\n",
       "113    (61.19, 61.32]   61.258750  0.125000             16\n",
       "114   (61.32, 61.439]   61.378125  0.000000             16\n",
       "115  (61.439, 61.556]   61.488824  0.058824             17\n",
       "116  (61.556, 61.702]   61.631176  0.000000             17\n",
       "117   (61.702, 61.84]   61.778824  0.000000             17\n",
       "118   (61.84, 61.965]   61.911250  0.062500             16\n",
       "119  (61.965, 62.042]   62.012353  0.058824             17\n",
       "120  (62.042, 62.199]   62.125625  0.000000             16\n",
       "121   (62.199, 62.34]   62.281111  0.166667             18\n",
       "122   (62.34, 62.452]   62.400625  0.000000             16\n",
       "123  (62.452, 62.597]   62.521250  0.062500             16\n",
       "124   (62.597, 62.76]   62.666471  0.000000             17\n",
       "125   (62.76, 62.922]   62.845882  0.176471             17\n",
       "126  (62.922, 63.068]   62.985625  0.125000             16\n",
       "127  (63.068, 63.195]   63.127059  0.235294             17\n",
       "128  (63.195, 63.351]   63.275882  0.058824             17\n",
       "129  (63.351, 63.476]   63.415000  0.187500             16\n",
       "130  (63.476, 63.569]   63.527059  0.117647             17\n",
       "131  (63.569, 63.711]   63.635882  0.000000             17\n",
       "132   (63.711, 63.83]   63.777059  0.058824             17\n",
       "133   (63.83, 64.014]   63.941250  0.062500             16\n",
       "134   (64.014, 64.18]   64.097059  0.000000             17\n",
       "135    (64.18, 64.29]   64.241765  0.000000             17\n",
       "136   (64.29, 64.463]   64.380000  0.000000             16\n",
       "137  (64.463, 64.581]   64.530588  0.058824             17\n",
       "138  (64.581, 64.737]   64.643750  0.062500             16\n",
       "139  (64.737, 64.868]   64.804706  0.058824             17\n",
       "140  (64.868, 65.011]   64.924706  0.117647             17\n",
       "141  (65.011, 65.107]   65.057500  0.000000             16\n",
       "142  (65.107, 65.254]   65.184706  0.000000             17\n",
       "143    (65.254, 65.4]   65.333529  0.000000             17\n",
       "144     (65.4, 65.57]   65.497647  0.058824             17\n",
       "145   (65.57, 65.734]   65.662500  0.062500             16\n",
       "146   (65.734, 65.89]   65.814706  0.058824             17\n",
       "147    (65.89, 66.03]   65.962353  0.058824             17\n",
       "148   (66.03, 66.283]   66.150625  0.000000             16\n",
       "149   (66.283, 66.48]   66.394706  0.058824             17\n",
       "150   (66.48, 66.633]   66.556875  0.062500             16\n",
       "151    (66.633, 66.8]   66.724444  0.111111             18\n",
       "152     (66.8, 66.98]   66.890667  0.066667             15\n",
       "153   (66.98, 67.086]   67.020588  0.058824             17\n",
       "154   (67.086, 67.25]   67.185882  0.058824             17\n",
       "155    (67.25, 67.54]   67.391250  0.062500             16\n",
       "156   (67.54, 67.692]   67.603529  0.000000             17\n",
       "157  (67.692, 67.843]   67.753529  0.117647             17\n",
       "158    (67.843, 68.0]   67.919412  0.000000             17\n",
       "159    (68.0, 68.236]   68.111875  0.062500             16\n",
       "160  (68.236, 68.403]   68.312941  0.058824             17\n",
       "161   (68.403, 68.66]   68.576471  0.058824             17\n",
       "162   (68.66, 68.893]   68.760000  0.125000             16\n",
       "163   (68.893, 69.07]   68.990556  0.055556             18\n",
       "164   (69.07, 69.345]   69.192000  0.133333             15\n",
       "165  (69.345, 69.531]   69.424118  0.117647             17\n",
       "166  (69.531, 69.772]   69.675882  0.000000             17\n",
       "167   (69.772, 69.95]   69.870000  0.058824             17\n",
       "168   (69.95, 70.125]   70.027500  0.000000             16\n",
       "169  (70.125, 70.354]   70.260000  0.000000             17\n",
       "170  (70.354, 70.683]   70.496250  0.062500             16\n",
       "171  (70.683, 70.895]   70.785882  0.000000             17\n",
       "172    (70.895, 71.1]   71.014118  0.352941             17\n",
       "173    (71.1, 71.248]   71.183750  0.062500             16\n",
       "174  (71.248, 71.615]   71.427059  0.058824             17\n",
       "175    (71.615, 71.9]   71.775000  0.055556             18\n",
       "176      (71.9, 72.1]   72.023125  0.000000             16\n",
       "177     (72.1, 72.34]   72.253750  0.187500             16\n",
       "178   (72.34, 72.654]   72.491176  0.117647             17\n",
       "179   (72.654, 72.99]   72.847778  0.055556             18\n",
       "180   (72.99, 73.194]   73.075333  0.000000             15\n",
       "181  (73.194, 73.471]   73.358824  0.117647             17\n",
       "182  (73.471, 73.838]   73.675000  0.000000             16\n",
       "183  (73.838, 74.309]   74.024118  0.294118             17\n",
       "184  (74.309, 74.681]   74.534118  0.705882             17\n",
       "185  (74.681, 75.013]   74.870000  1.000000             16\n",
       "186  (75.013, 75.267]   75.107059  0.764706             17\n",
       "187  (75.267, 75.632]   75.465882  0.647059             17\n",
       "188  (75.632, 76.067]   75.823750  0.625000             16\n",
       "189  (76.067, 76.516]   76.280588  0.823529             17\n",
       "190  (76.516, 77.071]   76.792353  0.764706             17\n",
       "191  (77.071, 77.639]   77.305625  0.750000             16\n",
       "192  (77.639, 78.381]   78.035882  0.588235             17\n",
       "193   (78.381, 79.19]   78.864444  0.777778             18\n",
       "194   (79.19, 79.739]   79.520667  0.733333             15\n",
       "195  (79.739, 80.987]   80.375294  0.823529             17\n",
       "196   (80.987, 82.28]   81.645294  0.588235             17\n",
       "197    (82.28, 83.84]   82.773125  0.812500             16\n",
       "198   (83.84, 86.905]   84.994118  0.823529             17\n",
       "199   (86.905, 96.15]   89.326471  0.882353             17"
      ]
     },
     "execution_count": 75,
     "metadata": {},
     "output_type": "execute_result"
    }
   ],
   "source": [
    "charge_df = charge_df.reset_index()\n",
    "charge_df = charge_df.merge(group_counts, on='charge_group')\n",
    "charge_df"
   ]
  },
  {
   "cell_type": "code",
   "execution_count": 117,
   "metadata": {
    "ExecuteTime": {
     "end_time": "2022-03-02T21:52:36.758418Z",
     "start_time": "2022-03-02T21:52:36.544447Z"
    }
   },
   "outputs": [
    {
     "data": {
      "image/png": "[encoded data removed]",
      "text/plain": [
       "<Figure size 720x720 with 1 Axes>"
      ]
     },
     "metadata": {},
     "output_type": "display_data"
    }
   ],
   "source": [
    "import matplotlib.ticker as mtick\n",
    "\n",
    "fig, ax = plt.subplots(figsize=(10,10))\n",
    "p = sns.scatterplot(x=\"group_mean\", y=\"churn\", data=charge_df);\n",
    "\n",
    "p.set_xlabel(\"Total Charge: Mean Value\", fontsize = 15)\n",
    "p.set_ylabel(\"Churn Rate\", fontsize = 15)\n",
    "ax.yaxis.set_major_formatter(mtick.PercentFormatter(xmax=1, decimals=None, symbol='%', is_latex=False))\n",
    "#p.xaxis.set_major_formatter(display_millions)\n",
    "ax.xaxis.set_major_formatter('${x:1.2f}')\n",
    "\n",
    "p.set_title(\"Churn Rate by Total Charge\", fontsize = 20)\n",
    "plt.figsize=(30,20) \n",
    "\n",
    "line_1 = plt.axhline(y=.145, color='firebrick')\n",
    "#line_2 = plt.axhline(y=.25, color='black')\n",
    "line_3 = plt.axvline(x=59.45, linestyle='--',color='mediumseagreen')\n",
    "#line_4 = plt.axvline(x=74.00, color='skyblue')\n",
    "\n",
    "ax.legend([line_1, line_3], ['Regular Churn Line', 'Mean Bill Charge'])\n",
    "plt.savefig('images/project_3_total_charge_churn')\n",
    "\n",
    "\n",
    "plt.show();"
   ]
  },
  {
   "cell_type": "markdown",
   "metadata": {},
   "source": [
    "### Analysis\n",
    "- Total Charge of $74/month leads to Churn Rate of roughly 70% or greater!\\\n",
    "- This affects aprox 240 customers (15 groups of 16)\n",
    "- While there a a good amount of customers above the average churn line, if you add a standard deviation of 10%, almost all are within that range until you get to the extreme outliers."
   ]
  },
  {
   "cell_type": "markdown",
   "metadata": {},
   "source": [
    "## Voice Mail Plan"
   ]
  },
  {
   "cell_type": "code",
   "execution_count": 113,
   "metadata": {
    "ExecuteTime": {
     "end_time": "2022-03-02T21:13:15.281146Z",
     "start_time": "2022-03-02T21:13:15.272952Z"
    }
   },
   "outputs": [
    {
     "data": {
      "text/html": [
       "<div>\n",
       "<style scoped>\n",
       "    .dataframe tbody tr th:only-of-type {\n",
       "        vertical-align: middle;\n",
       "    }\n",
       "\n",
       "    .dataframe tbody tr th {\n",
       "        vertical-align: top;\n",
       "    }\n",
       "\n",
       "    .dataframe thead th {\n",
       "        text-align: right;\n",
       "    }\n",
       "</style>\n",
       "<table border=\"1\" class=\"dataframe\">\n",
       "  <thead>\n",
       "    <tr style=\"text-align: right;\">\n",
       "      <th></th>\n",
       "      <th>stayed</th>\n",
       "      <th>churned</th>\n",
       "      <th>total</th>\n",
       "      <th>churn_rate</th>\n",
       "    </tr>\n",
       "  </thead>\n",
       "  <tbody>\n",
       "    <tr>\n",
       "      <th>voice_mail_plan_yes</th>\n",
       "      <td>842.0</td>\n",
       "      <td>80.0</td>\n",
       "      <td>922.0</td>\n",
       "      <td>0.086768</td>\n",
       "    </tr>\n",
       "    <tr>\n",
       "      <th>voice_mail_plan_no</th>\n",
       "      <td>2008.0</td>\n",
       "      <td>403.0</td>\n",
       "      <td>2411.0</td>\n",
       "      <td>0.167151</td>\n",
       "    </tr>\n",
       "  </tbody>\n",
       "</table>\n",
       "</div>"
      ],
      "text/plain": [
       "                     stayed  churned   total  churn_rate\n",
       "voice_mail_plan_yes   842.0     80.0   922.0    0.086768\n",
       "voice_mail_plan_no   2008.0    403.0  2411.0    0.167151"
      ]
     },
     "execution_count": 113,
     "metadata": {},
     "output_type": "execute_result"
    }
   ],
   "source": [
    "vm_df = analysis_df[['voice_mail_plan_yes', 'voice_mail_plan_no', 'churn']]\n",
    "vm_df = vm_df.groupby('churn').sum().reset_index()\n",
    "vm_df = vm_df.transpose()\n",
    "vm_df = vm_df.rename(columns={0: \"stayed\", 1: \"churned\"})\n",
    "vm_df['total'] = vm_df.apply(lambda x: x['stayed'] + x['churned'], axis=1)\n",
    "vm_df['churn_rate'] = vm_df.apply(lambda x: x['churned'] / x['total'], axis=1)\n",
    "vm_df[1:3]"
   ]
  },
  {
   "cell_type": "code",
   "execution_count": 78,
   "metadata": {
    "ExecuteTime": {
     "end_time": "2022-03-02T20:20:51.032144Z",
     "start_time": "2022-03-02T20:20:50.917217Z"
    }
   },
   "outputs": [
    {
     "data": {
      "image/png": "[encoded data removed]",
      "text/plain": [
       "<Figure size 432x288 with 1 Axes>"
      ]
     },
     "metadata": {},
     "output_type": "display_data"
    }
   ],
   "source": [
    "vm_plan_counts= df.pivot_table(index='voice_mail_plan', aggfunc='size').plot(kind='bar')\n",
    "vm_plan_counts;"
   ]
  },
  {
   "cell_type": "markdown",
   "metadata": {},
   "source": [
    "### Analysis:\n",
    "\n",
    "- 323 people (27.6% of customers) have a voicemail plan.\n",
    "- Customers that do NOT have a voicemail plan have twice the churn rate of customers that do.\n",
    "- The churn rate for customers without voicemail is slightly higher than the base churn rate, but since the churn rate for customers with voicemail is significantly lower, that gives this good overall significance.\n"
   ]
  },
  {
   "cell_type": "markdown",
   "metadata": {},
   "source": [
    "# Conclusions"
   ]
  },
  {
   "cell_type": "markdown",
   "metadata": {},
   "source": [
    "## Questions to Answer: Revisited"
   ]
  },
  {
   "cell_type": "markdown",
   "metadata": {},
   "source": [
    "### What is the Baseline Churn Rate?\n",
    "- 14.49%\n",
    "- This is the percentage of churn that occured in the dataset I was provided."
   ]
  },
  {
   "cell_type": "markdown",
   "metadata": {},
   "source": [
    "### What Factors Contribute to Churn? Which has the biggest impact?"
   ]
  },
  {
   "cell_type": "code",
   "execution_count": 79,
   "metadata": {
    "ExecuteTime": {
     "end_time": "2022-03-02T20:20:51.037632Z",
     "start_time": "2022-03-02T20:20:51.033151Z"
    }
   },
   "outputs": [
    {
     "data": {
      "text/html": [
       "<div>\n",
       "<style scoped>\n",
       "    .dataframe tbody tr th:only-of-type {\n",
       "        vertical-align: middle;\n",
       "    }\n",
       "\n",
       "    .dataframe tbody tr th {\n",
       "        vertical-align: top;\n",
       "    }\n",
       "\n",
       "    .dataframe thead th {\n",
       "        text-align: right;\n",
       "    }\n",
       "</style>\n",
       "<table border=\"1\" class=\"dataframe\">\n",
       "  <thead>\n",
       "    <tr style=\"text-align: right;\">\n",
       "      <th></th>\n",
       "      <th>Feature</th>\n",
       "      <th>Importance</th>\n",
       "    </tr>\n",
       "  </thead>\n",
       "  <tbody>\n",
       "    <tr>\n",
       "      <th>13</th>\n",
       "      <td>cs_calls_high</td>\n",
       "      <td>0.373214</td>\n",
       "    </tr>\n",
       "    <tr>\n",
       "      <th>11</th>\n",
       "      <td>international_plan_yes</td>\n",
       "      <td>0.191074</td>\n",
       "    </tr>\n",
       "    <tr>\n",
       "      <th>10</th>\n",
       "      <td>total_charge</td>\n",
       "      <td>0.135295</td>\n",
       "    </tr>\n",
       "    <tr>\n",
       "      <th>12</th>\n",
       "      <td>voice_mail_plan_yes</td>\n",
       "      <td>0.108922</td>\n",
       "    </tr>\n",
       "  </tbody>\n",
       "</table>\n",
       "</div>"
      ],
      "text/plain": [
       "                   Feature  Importance\n",
       "13           cs_calls_high    0.373214\n",
       "11  international_plan_yes    0.191074\n",
       "10            total_charge    0.135295\n",
       "12     voice_mail_plan_yes    0.108922"
      ]
     },
     "execution_count": 79,
     "metadata": {},
     "output_type": "execute_result"
    }
   ],
   "source": [
    "feature_importance_df[0:4]"
   ]
  },
  {
   "cell_type": "markdown",
   "metadata": {},
   "source": [
    "The 4 factors that have the biggest impact on Churn (in order) are:\n",
    "- Total Amount Charged\n",
    "- A High Number of Customer Service Calls.\n",
    "- Customer having an international plan.\n",
    "- Customer not having a voicemail plan.\n",
    "- All other features have significantly less impact on Churn. (<.05 importance)"
   ]
  },
  {
   "cell_type": "markdown",
   "metadata": {},
   "source": [
    "### What can be done to identify when a customer is at risk for churn?\n",
    "- based on my analysis, here is where customers \"cross the line\" into being at a high risk for churn:\n",
    "- Having a Total Charge of $74 or more.\n",
    "- Calling Customer Service 4 or more times.\n",
    "- Having an international plan.\n",
    "- Not Having a Voice Mail plan."
   ]
  },
  {
   "cell_type": "markdown",
   "metadata": {},
   "source": [
    "# Recommendations"
   ]
  },
  {
   "cell_type": "markdown",
   "metadata": {},
   "source": [
    "## Recommendation #1: Increased Focus on Customer Service.\n",
    "- There is a sharp increase in Churn when a Customer reaches their 4th call to customer service. In order to retain more customers, <b>SyriaTel should focus on resolving whatever issues that customers bring up with Customer Service. If all questions are answered, and issues are explained and addressed, this should lead to happier customers, less customer service calls, and less churn.</b>\n",
    "- Of course, the call itself isn't the issue. Customer service calls are a sign that something is wrong, and the more that a customer calls, the more likely they are to be having problems with the service and/or paying their bills.\n",
    "- I recommend that SyriaTel analyze any data that they have on Customer Service calls to see what issues customers were bringing up and at what frequency. Proactively dealing with these issues will likely cause a decrease in churn."
   ]
  },
  {
   "cell_type": "markdown",
   "metadata": {
    "ExecuteTime": {
     "end_time": "2022-02-25T17:46:31.369508Z",
     "start_time": "2022-02-25T17:46:31.361194Z"
    }
   },
   "source": [
    "## Recommendation #2: Set up a system which identifies when a customer is getting close to any of the thresholds identified above.\n",
    "- Please Note: These recommenations are based on the way that everything is currently set up. If my other recommendations are followed, many of these issues would already be taken care of."
   ]
  },
  {
   "cell_type": "markdown",
   "metadata": {},
   "source": [
    "### Green: Low Risk of Customer Churn.\n",
    "- 0-1 Customer Service Calls.\n",
    "- Customer Bill is $60/month or less.\n",
    "- Customer does not have International Plan.\n",
    "- Customer has Voice Mail Plan"
   ]
  },
  {
   "cell_type": "markdown",
   "metadata": {},
   "source": [
    "### Yellow: Account is begining to show warning signs of churn. \n",
    "- 2-3 Customer Service Calls\n",
    "- Customer Bill is above $60/month (the mean value)"
   ]
  },
  {
   "cell_type": "markdown",
   "metadata": {},
   "source": [
    "### Red: Account is at high risk of churn.\n",
    "- 4 or more Customer Service Calls\n",
    "- Customer Monthly Bill is at $74 or higher.\n",
    "- Customer has International Plan (in it's current form. See Recommendation #4)\n",
    "- Customer does not have a Voice Mail Plan"
   ]
  },
  {
   "cell_type": "markdown",
   "metadata": {},
   "source": [
    "## Recommendation #3: Offer a Flat Price Model to Combat High Customer Charges\n",
    "- Making more money is good, but there is a strong correlation between chrun and high charge. This indicates that customers are likely being charged per minute. SyriaTel would ultimately make MORE money by RETAINING the customers that they already have.\n",
    "- By charging a flat fee, it eliminates any surprise that the customer has, which should result in less customer service calls, and less churn.\n",
    "- The flat fee could be offered in tiers.\n",
    "- The point of this recommendation is that customers know how much their bill is each month, even if they go over on minutes, etc."
   ]
  },
  {
   "cell_type": "markdown",
   "metadata": {
    "ExecuteTime": {
     "end_time": "2022-02-25T17:48:45.978185Z",
     "start_time": "2022-02-25T17:48:45.973377Z"
    }
   },
   "source": [
    "## Recommendation #4: Take a good look at your international plan and see why it increases the amount of Churn"
   ]
  },
  {
   "cell_type": "markdown",
   "metadata": {},
   "source": [
    "- Customers without the international plan are able to make international calls.\n",
    "- Customers with the international plan end up leaving. \n",
    "- I don't have data on how much the international plan costs or how it is used, but it is causing higher churn.\n",
    "- Perhaps it costs too much, or doesn't give an advantage over not having the plan, or is inferior to the competition.\n",
    "- International Minutes and Number of International Calls also have some degree of relevance, so they should be investigated as well."
   ]
  },
  {
   "cell_type": "markdown",
   "metadata": {},
   "source": [
    "## Recommendation #5: Encourage Customers to get a Voice Mail Plan"
   ]
  },
  {
   "cell_type": "markdown",
   "metadata": {},
   "source": [
    "- Also, analyze to see why there is such a big difference in churn rate when customers don't have a voice mail plan."
   ]
  },
  {
   "cell_type": "markdown",
   "metadata": {
    "ExecuteTime": {
     "end_time": "2022-02-24T17:37:20.800135Z",
     "start_time": "2022-02-24T17:37:20.748929Z"
    }
   },
   "source": [
    "# Summary"
   ]
  },
  {
   "cell_type": "markdown",
   "metadata": {},
   "source": [
    "I was tasked with analyzing the data provided to me by SyriaTel in relation to customers leaving their service. In doing so, I determined that the most important questions to answer were:\n",
    "1. What is the Baseline Churn Rate?\n",
    "2. Which features contribute to churn?\n",
    "3. Which features have the biggest impact on churn?\n",
    "4. What can be done to identify when a customer is at risk for churn?\n",
    "5. What can be done to prevent churn?"
   ]
  },
  {
   "cell_type": "markdown",
   "metadata": {},
   "source": [
    "After developing an appropriate model (Random Forests, using GridSearch CV to tune parameters), I was able to determine that the 4 features with the largest impact on customer churn were:\n",
    "1. Total Charge\n",
    "2. High Amount of Customer Service Calls\n",
    "3. The presence of an International Plan.\n",
    "4. The presence of a Voice Mail Plan."
   ]
  },
  {
   "cell_type": "markdown",
   "metadata": {},
   "source": [
    "Based on these factors, I made the following recommendations for SyriaTel to implement in order to greatly reduce the amount of churn:\n",
    "1. Improve Customer Service: Get to the root of customers' issues and resolve them.\n",
    "2. Put a system into place for identifying when a customer is at high risk for churn and then be proactive in intervening and helping fix anything that may be leading to churn.\n",
    "3. Change the pricing model from \"minutes used\" to a flat rate service so that customers will know what to expect to pay each month, while still retaining profit for SyriaTel.\n",
    "4. Take a good look at the international plan that is currently offered and see why customers who have it have such a high rate of churn. Change the plan as necessary to prevent this from happening going forward."
   ]
  },
  {
   "cell_type": "markdown",
   "metadata": {},
   "source": [
    "SyriaTel will always have to deal with churn, but if they deal with the features which have the greatest impact on churn, their average churn rate will be significantly lower. I have also provided some metrics for them to use to better identify when customers are at an increased chance of churn."
   ]
  },
  {
   "cell_type": "markdown",
   "metadata": {},
   "source": [
    "# ARCHIVE"
   ]
  },
  {
   "cell_type": "markdown",
   "metadata": {
    "ExecuteTime": {
     "end_time": "2022-03-02T14:33:30.032119Z",
     "start_time": "2022-03-02T14:33:30.023320Z"
    }
   },
   "source": [
    "## Minutes"
   ]
  },
  {
   "cell_type": "code",
   "execution_count": 80,
   "metadata": {
    "ExecuteTime": {
     "end_time": "2022-03-02T20:20:51.067069Z",
     "start_time": "2022-03-02T20:20:51.039231Z"
    }
   },
   "outputs": [
    {
     "data": {
      "text/html": [
       "<div>\n",
       "<style scoped>\n",
       "    .dataframe tbody tr th:only-of-type {\n",
       "        vertical-align: middle;\n",
       "    }\n",
       "\n",
       "    .dataframe tbody tr th {\n",
       "        vertical-align: top;\n",
       "    }\n",
       "\n",
       "    .dataframe thead th {\n",
       "        text-align: right;\n",
       "    }\n",
       "</style>\n",
       "<table border=\"1\" class=\"dataframe\">\n",
       "  <thead>\n",
       "    <tr style=\"text-align: right;\">\n",
       "      <th></th>\n",
       "      <th>min_group</th>\n",
       "      <th>group_mean</th>\n",
       "      <th>churn</th>\n",
       "    </tr>\n",
       "  </thead>\n",
       "  <tbody>\n",
       "    <tr>\n",
       "      <th>0</th>\n",
       "      <td>(-0.001, 38.922]</td>\n",
       "      <td>20.300000</td>\n",
       "      <td>0.058824</td>\n",
       "    </tr>\n",
       "    <tr>\n",
       "      <th>1</th>\n",
       "      <td>(38.922, 51.832]</td>\n",
       "      <td>46.735294</td>\n",
       "      <td>0.176471</td>\n",
       "    </tr>\n",
       "    <tr>\n",
       "      <th>2</th>\n",
       "      <td>(51.832, 58.898]</td>\n",
       "      <td>55.906250</td>\n",
       "      <td>0.125000</td>\n",
       "    </tr>\n",
       "    <tr>\n",
       "      <th>3</th>\n",
       "      <td>(58.898, 63.092]</td>\n",
       "      <td>61.282353</td>\n",
       "      <td>0.235294</td>\n",
       "    </tr>\n",
       "    <tr>\n",
       "      <th>4</th>\n",
       "      <td>(63.092, 70.83]</td>\n",
       "      <td>67.729412</td>\n",
       "      <td>0.117647</td>\n",
       "    </tr>\n",
       "    <tr>\n",
       "      <th>5</th>\n",
       "      <td>(70.83, 76.088]</td>\n",
       "      <td>73.012500</td>\n",
       "      <td>0.062500</td>\n",
       "    </tr>\n",
       "    <tr>\n",
       "      <th>6</th>\n",
       "      <td>(76.088, 81.662]</td>\n",
       "      <td>79.123529</td>\n",
       "      <td>0.058824</td>\n",
       "    </tr>\n",
       "    <tr>\n",
       "      <th>7</th>\n",
       "      <td>(81.662, 84.34]</td>\n",
       "      <td>82.888235</td>\n",
       "      <td>0.176471</td>\n",
       "    </tr>\n",
       "    <tr>\n",
       "      <th>8</th>\n",
       "      <td>(84.34, 87.188]</td>\n",
       "      <td>85.850000</td>\n",
       "      <td>0.062500</td>\n",
       "    </tr>\n",
       "    <tr>\n",
       "      <th>9</th>\n",
       "      <td>(87.188, 89.92]</td>\n",
       "      <td>88.635294</td>\n",
       "      <td>0.235294</td>\n",
       "    </tr>\n",
       "    <tr>\n",
       "      <th>10</th>\n",
       "      <td>(89.92, 92.626]</td>\n",
       "      <td>91.447059</td>\n",
       "      <td>0.117647</td>\n",
       "    </tr>\n",
       "    <tr>\n",
       "      <th>11</th>\n",
       "      <td>(92.626, 94.992]</td>\n",
       "      <td>93.843750</td>\n",
       "      <td>0.000000</td>\n",
       "    </tr>\n",
       "    <tr>\n",
       "      <th>12</th>\n",
       "      <td>(94.992, 97.158]</td>\n",
       "      <td>96.135294</td>\n",
       "      <td>0.176471</td>\n",
       "    </tr>\n",
       "    <tr>\n",
       "      <th>13</th>\n",
       "      <td>(97.158, 99.424]</td>\n",
       "      <td>98.064706</td>\n",
       "      <td>0.000000</td>\n",
       "    </tr>\n",
       "    <tr>\n",
       "      <th>14</th>\n",
       "      <td>(99.424, 101.99]</td>\n",
       "      <td>100.656250</td>\n",
       "      <td>0.062500</td>\n",
       "    </tr>\n",
       "    <tr>\n",
       "      <th>15</th>\n",
       "      <td>(101.99, 103.456]</td>\n",
       "      <td>102.811765</td>\n",
       "      <td>0.058824</td>\n",
       "    </tr>\n",
       "    <tr>\n",
       "      <th>16</th>\n",
       "      <td>(103.456, 105.444]</td>\n",
       "      <td>104.588235</td>\n",
       "      <td>0.117647</td>\n",
       "    </tr>\n",
       "    <tr>\n",
       "      <th>17</th>\n",
       "      <td>(105.444, 107.288]</td>\n",
       "      <td>106.306250</td>\n",
       "      <td>0.125000</td>\n",
       "    </tr>\n",
       "    <tr>\n",
       "      <th>18</th>\n",
       "      <td>(107.288, 109.154]</td>\n",
       "      <td>108.347059</td>\n",
       "      <td>0.176471</td>\n",
       "    </tr>\n",
       "    <tr>\n",
       "      <th>19</th>\n",
       "      <td>(109.154, 110.32]</td>\n",
       "      <td>109.735294</td>\n",
       "      <td>0.058824</td>\n",
       "    </tr>\n",
       "    <tr>\n",
       "      <th>20</th>\n",
       "      <td>(110.32, 111.886]</td>\n",
       "      <td>111.043750</td>\n",
       "      <td>0.125000</td>\n",
       "    </tr>\n",
       "    <tr>\n",
       "      <th>21</th>\n",
       "      <td>(111.886, 113.2]</td>\n",
       "      <td>112.633333</td>\n",
       "      <td>0.333333</td>\n",
       "    </tr>\n",
       "    <tr>\n",
       "      <th>22</th>\n",
       "      <td>(113.2, 114.836]</td>\n",
       "      <td>114.162500</td>\n",
       "      <td>0.062500</td>\n",
       "    </tr>\n",
       "    <tr>\n",
       "      <th>23</th>\n",
       "      <td>(114.836, 115.684]</td>\n",
       "      <td>115.362500</td>\n",
       "      <td>0.187500</td>\n",
       "    </tr>\n",
       "    <tr>\n",
       "      <th>24</th>\n",
       "      <td>(115.684, 117.3]</td>\n",
       "      <td>116.533333</td>\n",
       "      <td>0.000000</td>\n",
       "    </tr>\n",
       "    <tr>\n",
       "      <th>25</th>\n",
       "      <td>(117.3, 118.416]</td>\n",
       "      <td>117.937500</td>\n",
       "      <td>0.125000</td>\n",
       "    </tr>\n",
       "    <tr>\n",
       "      <th>26</th>\n",
       "      <td>(118.416, 119.564]</td>\n",
       "      <td>119.012500</td>\n",
       "      <td>0.062500</td>\n",
       "    </tr>\n",
       "    <tr>\n",
       "      <th>27</th>\n",
       "      <td>(119.564, 121.548]</td>\n",
       "      <td>120.700000</td>\n",
       "      <td>0.117647</td>\n",
       "    </tr>\n",
       "    <tr>\n",
       "      <th>28</th>\n",
       "      <td>(121.548, 123.1]</td>\n",
       "      <td>122.377778</td>\n",
       "      <td>0.277778</td>\n",
       "    </tr>\n",
       "    <tr>\n",
       "      <th>29</th>\n",
       "      <td>(123.1, 124.3]</td>\n",
       "      <td>123.947059</td>\n",
       "      <td>0.117647</td>\n",
       "    </tr>\n",
       "    <tr>\n",
       "      <th>30</th>\n",
       "      <td>(124.3, 125.2]</td>\n",
       "      <td>124.829412</td>\n",
       "      <td>0.058824</td>\n",
       "    </tr>\n",
       "    <tr>\n",
       "      <th>31</th>\n",
       "      <td>(125.2, 126.3]</td>\n",
       "      <td>125.800000</td>\n",
       "      <td>0.166667</td>\n",
       "    </tr>\n",
       "    <tr>\n",
       "      <th>32</th>\n",
       "      <td>(126.3, 127.378]</td>\n",
       "      <td>127.007692</td>\n",
       "      <td>0.153846</td>\n",
       "    </tr>\n",
       "    <tr>\n",
       "      <th>33</th>\n",
       "      <td>(127.378, 128.644]</td>\n",
       "      <td>128.135294</td>\n",
       "      <td>0.117647</td>\n",
       "    </tr>\n",
       "    <tr>\n",
       "      <th>34</th>\n",
       "      <td>(128.644, 129.41]</td>\n",
       "      <td>129.000000</td>\n",
       "      <td>0.176471</td>\n",
       "    </tr>\n",
       "    <tr>\n",
       "      <th>35</th>\n",
       "      <td>(129.41, 130.5]</td>\n",
       "      <td>129.941176</td>\n",
       "      <td>0.176471</td>\n",
       "    </tr>\n",
       "    <tr>\n",
       "      <th>36</th>\n",
       "      <td>(130.5, 131.7]</td>\n",
       "      <td>131.258824</td>\n",
       "      <td>0.352941</td>\n",
       "    </tr>\n",
       "    <tr>\n",
       "      <th>37</th>\n",
       "      <td>(131.7, 133.008]</td>\n",
       "      <td>132.225000</td>\n",
       "      <td>0.125000</td>\n",
       "    </tr>\n",
       "    <tr>\n",
       "      <th>38</th>\n",
       "      <td>(133.008, 133.874]</td>\n",
       "      <td>133.412500</td>\n",
       "      <td>0.187500</td>\n",
       "    </tr>\n",
       "    <tr>\n",
       "      <th>39</th>\n",
       "      <td>(133.874, 134.74]</td>\n",
       "      <td>134.323529</td>\n",
       "      <td>0.117647</td>\n",
       "    </tr>\n",
       "    <tr>\n",
       "      <th>40</th>\n",
       "      <td>(134.74, 135.8]</td>\n",
       "      <td>135.227778</td>\n",
       "      <td>0.111111</td>\n",
       "    </tr>\n",
       "    <tr>\n",
       "      <th>41</th>\n",
       "      <td>(135.8, 136.8]</td>\n",
       "      <td>136.300000</td>\n",
       "      <td>0.187500</td>\n",
       "    </tr>\n",
       "    <tr>\n",
       "      <th>42</th>\n",
       "      <td>(136.8, 137.8]</td>\n",
       "      <td>137.427778</td>\n",
       "      <td>0.055556</td>\n",
       "    </tr>\n",
       "    <tr>\n",
       "      <th>43</th>\n",
       "      <td>(137.8, 138.804]</td>\n",
       "      <td>138.366667</td>\n",
       "      <td>0.133333</td>\n",
       "    </tr>\n",
       "    <tr>\n",
       "      <th>44</th>\n",
       "      <td>(138.804, 139.6]</td>\n",
       "      <td>139.282353</td>\n",
       "      <td>0.058824</td>\n",
       "    </tr>\n",
       "    <tr>\n",
       "      <th>45</th>\n",
       "      <td>(139.6, 140.736]</td>\n",
       "      <td>140.187500</td>\n",
       "      <td>0.062500</td>\n",
       "    </tr>\n",
       "    <tr>\n",
       "      <th>46</th>\n",
       "      <td>(140.736, 141.402]</td>\n",
       "      <td>141.217647</td>\n",
       "      <td>0.000000</td>\n",
       "    </tr>\n",
       "    <tr>\n",
       "      <th>47</th>\n",
       "      <td>(141.402, 142.3]</td>\n",
       "      <td>141.988889</td>\n",
       "      <td>0.000000</td>\n",
       "    </tr>\n",
       "    <tr>\n",
       "      <th>48</th>\n",
       "      <td>(142.3, 143.2]</td>\n",
       "      <td>142.821053</td>\n",
       "      <td>0.157895</td>\n",
       "    </tr>\n",
       "    <tr>\n",
       "      <th>49</th>\n",
       "      <td>(143.2, 143.7]</td>\n",
       "      <td>143.506250</td>\n",
       "      <td>0.062500</td>\n",
       "    </tr>\n",
       "    <tr>\n",
       "      <th>50</th>\n",
       "      <td>(143.7, 144.466]</td>\n",
       "      <td>144.100000</td>\n",
       "      <td>0.000000</td>\n",
       "    </tr>\n",
       "    <tr>\n",
       "      <th>51</th>\n",
       "      <td>(144.466, 145.4]</td>\n",
       "      <td>144.916667</td>\n",
       "      <td>0.166667</td>\n",
       "    </tr>\n",
       "    <tr>\n",
       "      <th>52</th>\n",
       "      <td>(145.4, 146.198]</td>\n",
       "      <td>145.753333</td>\n",
       "      <td>0.066667</td>\n",
       "    </tr>\n",
       "    <tr>\n",
       "      <th>53</th>\n",
       "      <td>(146.198, 146.664]</td>\n",
       "      <td>146.394118</td>\n",
       "      <td>0.000000</td>\n",
       "    </tr>\n",
       "    <tr>\n",
       "      <th>54</th>\n",
       "      <td>(146.664, 147.2]</td>\n",
       "      <td>146.963158</td>\n",
       "      <td>0.157895</td>\n",
       "    </tr>\n",
       "    <tr>\n",
       "      <th>55</th>\n",
       "      <td>(147.2, 148.2]</td>\n",
       "      <td>147.933333</td>\n",
       "      <td>0.133333</td>\n",
       "    </tr>\n",
       "    <tr>\n",
       "      <th>56</th>\n",
       "      <td>(148.2, 149.0]</td>\n",
       "      <td>148.647059</td>\n",
       "      <td>0.117647</td>\n",
       "    </tr>\n",
       "    <tr>\n",
       "      <th>57</th>\n",
       "      <td>(149.0, 149.7]</td>\n",
       "      <td>149.435294</td>\n",
       "      <td>0.117647</td>\n",
       "    </tr>\n",
       "    <tr>\n",
       "      <th>58</th>\n",
       "      <td>(149.7, 150.394]</td>\n",
       "      <td>149.993333</td>\n",
       "      <td>0.066667</td>\n",
       "    </tr>\n",
       "    <tr>\n",
       "      <th>59</th>\n",
       "      <td>(150.394, 151.1]</td>\n",
       "      <td>150.777778</td>\n",
       "      <td>0.111111</td>\n",
       "    </tr>\n",
       "    <tr>\n",
       "      <th>60</th>\n",
       "      <td>(151.1, 152.1]</td>\n",
       "      <td>151.705882</td>\n",
       "      <td>0.058824</td>\n",
       "    </tr>\n",
       "    <tr>\n",
       "      <th>61</th>\n",
       "      <td>(152.1, 153.1]</td>\n",
       "      <td>152.662500</td>\n",
       "      <td>0.125000</td>\n",
       "    </tr>\n",
       "    <tr>\n",
       "      <th>62</th>\n",
       "      <td>(153.1, 153.658]</td>\n",
       "      <td>153.443750</td>\n",
       "      <td>0.125000</td>\n",
       "    </tr>\n",
       "    <tr>\n",
       "      <th>63</th>\n",
       "      <td>(153.658, 154.1]</td>\n",
       "      <td>153.942105</td>\n",
       "      <td>0.105263</td>\n",
       "    </tr>\n",
       "    <tr>\n",
       "      <th>64</th>\n",
       "      <td>(154.1, 154.6]</td>\n",
       "      <td>154.423529</td>\n",
       "      <td>0.176471</td>\n",
       "    </tr>\n",
       "    <tr>\n",
       "      <th>65</th>\n",
       "      <td>(154.6, 155.2]</td>\n",
       "      <td>154.994118</td>\n",
       "      <td>0.117647</td>\n",
       "    </tr>\n",
       "    <tr>\n",
       "      <th>66</th>\n",
       "      <td>(155.2, 155.922]</td>\n",
       "      <td>155.564286</td>\n",
       "      <td>0.000000</td>\n",
       "    </tr>\n",
       "    <tr>\n",
       "      <th>67</th>\n",
       "      <td>(155.922, 156.6]</td>\n",
       "      <td>156.331579</td>\n",
       "      <td>0.105263</td>\n",
       "    </tr>\n",
       "    <tr>\n",
       "      <th>68</th>\n",
       "      <td>(156.6, 157.3]</td>\n",
       "      <td>157.073333</td>\n",
       "      <td>0.066667</td>\n",
       "    </tr>\n",
       "    <tr>\n",
       "      <th>69</th>\n",
       "      <td>(157.3, 157.92]</td>\n",
       "      <td>157.656250</td>\n",
       "      <td>0.375000</td>\n",
       "    </tr>\n",
       "    <tr>\n",
       "      <th>70</th>\n",
       "      <td>(157.92, 158.8]</td>\n",
       "      <td>158.470588</td>\n",
       "      <td>0.058824</td>\n",
       "    </tr>\n",
       "    <tr>\n",
       "      <th>71</th>\n",
       "      <td>(158.8, 159.5]</td>\n",
       "      <td>159.285000</td>\n",
       "      <td>0.150000</td>\n",
       "    </tr>\n",
       "    <tr>\n",
       "      <th>72</th>\n",
       "      <td>(159.5, 160.0]</td>\n",
       "      <td>159.840000</td>\n",
       "      <td>0.200000</td>\n",
       "    </tr>\n",
       "    <tr>\n",
       "      <th>73</th>\n",
       "      <td>(160.0, 160.484]</td>\n",
       "      <td>160.242857</td>\n",
       "      <td>0.000000</td>\n",
       "    </tr>\n",
       "    <tr>\n",
       "      <th>74</th>\n",
       "      <td>(160.484, 161.35]</td>\n",
       "      <td>160.941176</td>\n",
       "      <td>0.058824</td>\n",
       "    </tr>\n",
       "    <tr>\n",
       "      <th>75</th>\n",
       "      <td>(161.35, 162.1]</td>\n",
       "      <td>161.768421</td>\n",
       "      <td>0.105263</td>\n",
       "    </tr>\n",
       "    <tr>\n",
       "      <th>76</th>\n",
       "      <td>(162.1, 162.8]</td>\n",
       "      <td>162.493333</td>\n",
       "      <td>0.266667</td>\n",
       "    </tr>\n",
       "    <tr>\n",
       "      <th>77</th>\n",
       "      <td>(162.8, 163.8]</td>\n",
       "      <td>163.405556</td>\n",
       "      <td>0.055556</td>\n",
       "    </tr>\n",
       "    <tr>\n",
       "      <th>78</th>\n",
       "      <td>(163.8, 165.0]</td>\n",
       "      <td>164.588889</td>\n",
       "      <td>0.055556</td>\n",
       "    </tr>\n",
       "    <tr>\n",
       "      <th>79</th>\n",
       "      <td>(165.0, 165.68]</td>\n",
       "      <td>165.400000</td>\n",
       "      <td>0.153846</td>\n",
       "    </tr>\n",
       "    <tr>\n",
       "      <th>80</th>\n",
       "      <td>(165.68, 166.346]</td>\n",
       "      <td>166.011765</td>\n",
       "      <td>0.058824</td>\n",
       "    </tr>\n",
       "    <tr>\n",
       "      <th>81</th>\n",
       "      <td>(166.346, 166.924]</td>\n",
       "      <td>166.647059</td>\n",
       "      <td>0.117647</td>\n",
       "    </tr>\n",
       "    <tr>\n",
       "      <th>82</th>\n",
       "      <td>(166.924, 167.678]</td>\n",
       "      <td>167.400000</td>\n",
       "      <td>0.250000</td>\n",
       "    </tr>\n",
       "    <tr>\n",
       "      <th>83</th>\n",
       "      <td>(167.678, 168.344]</td>\n",
       "      <td>167.958824</td>\n",
       "      <td>0.294118</td>\n",
       "    </tr>\n",
       "    <tr>\n",
       "      <th>84</th>\n",
       "      <td>(168.344, 169.2]</td>\n",
       "      <td>168.768421</td>\n",
       "      <td>0.105263</td>\n",
       "    </tr>\n",
       "    <tr>\n",
       "      <th>85</th>\n",
       "      <td>(169.2, 169.6]</td>\n",
       "      <td>169.433333</td>\n",
       "      <td>0.000000</td>\n",
       "    </tr>\n",
       "    <tr>\n",
       "      <th>86</th>\n",
       "      <td>(169.6, 170.442]</td>\n",
       "      <td>170.006250</td>\n",
       "      <td>0.125000</td>\n",
       "    </tr>\n",
       "    <tr>\n",
       "      <th>87</th>\n",
       "      <td>(170.442, 171.2]</td>\n",
       "      <td>170.804762</td>\n",
       "      <td>0.047619</td>\n",
       "    </tr>\n",
       "    <tr>\n",
       "      <th>88</th>\n",
       "      <td>(171.2, 172.0]</td>\n",
       "      <td>171.707692</td>\n",
       "      <td>0.076923</td>\n",
       "    </tr>\n",
       "    <tr>\n",
       "      <th>89</th>\n",
       "      <td>(172.0, 172.9]</td>\n",
       "      <td>172.535294</td>\n",
       "      <td>0.235294</td>\n",
       "    </tr>\n",
       "    <tr>\n",
       "      <th>90</th>\n",
       "      <td>(172.9, 173.9]</td>\n",
       "      <td>173.341176</td>\n",
       "      <td>0.058824</td>\n",
       "    </tr>\n",
       "    <tr>\n",
       "      <th>91</th>\n",
       "      <td>(173.9, 174.472]</td>\n",
       "      <td>174.200000</td>\n",
       "      <td>0.200000</td>\n",
       "    </tr>\n",
       "    <tr>\n",
       "      <th>92</th>\n",
       "      <td>(174.472, 174.976]</td>\n",
       "      <td>174.623529</td>\n",
       "      <td>0.117647</td>\n",
       "    </tr>\n",
       "    <tr>\n",
       "      <th>93</th>\n",
       "      <td>(174.976, 175.5]</td>\n",
       "      <td>175.340000</td>\n",
       "      <td>0.000000</td>\n",
       "    </tr>\n",
       "    <tr>\n",
       "      <th>94</th>\n",
       "      <td>(175.5, 175.9]</td>\n",
       "      <td>175.760000</td>\n",
       "      <td>0.066667</td>\n",
       "    </tr>\n",
       "    <tr>\n",
       "      <th>95</th>\n",
       "      <td>(175.9, 176.636]</td>\n",
       "      <td>176.280000</td>\n",
       "      <td>0.000000</td>\n",
       "    </tr>\n",
       "    <tr>\n",
       "      <th>96</th>\n",
       "      <td>(176.636, 177.202]</td>\n",
       "      <td>177.017647</td>\n",
       "      <td>0.117647</td>\n",
       "    </tr>\n",
       "    <tr>\n",
       "      <th>97</th>\n",
       "      <td>(177.202, 178.268]</td>\n",
       "      <td>177.781250</td>\n",
       "      <td>0.062500</td>\n",
       "    </tr>\n",
       "    <tr>\n",
       "      <th>98</th>\n",
       "      <td>(178.268, 178.834]</td>\n",
       "      <td>178.576471</td>\n",
       "      <td>0.000000</td>\n",
       "    </tr>\n",
       "    <tr>\n",
       "      <th>99</th>\n",
       "      <td>(178.834, 179.4]</td>\n",
       "      <td>179.247368</td>\n",
       "      <td>0.105263</td>\n",
       "    </tr>\n",
       "    <tr>\n",
       "      <th>100</th>\n",
       "      <td>(179.4, 180.266]</td>\n",
       "      <td>179.871429</td>\n",
       "      <td>0.142857</td>\n",
       "    </tr>\n",
       "    <tr>\n",
       "      <th>101</th>\n",
       "      <td>(180.266, 181.232]</td>\n",
       "      <td>180.700000</td>\n",
       "      <td>0.117647</td>\n",
       "    </tr>\n",
       "    <tr>\n",
       "      <th>102</th>\n",
       "      <td>(181.232, 181.8]</td>\n",
       "      <td>181.558824</td>\n",
       "      <td>0.000000</td>\n",
       "    </tr>\n",
       "    <tr>\n",
       "      <th>103</th>\n",
       "      <td>(181.8, 182.764]</td>\n",
       "      <td>182.256250</td>\n",
       "      <td>0.062500</td>\n",
       "    </tr>\n",
       "    <tr>\n",
       "      <th>104</th>\n",
       "      <td>(182.764, 183.4]</td>\n",
       "      <td>183.186364</td>\n",
       "      <td>0.000000</td>\n",
       "    </tr>\n",
       "    <tr>\n",
       "      <th>105</th>\n",
       "      <td>(183.4, 183.9]</td>\n",
       "      <td>183.708333</td>\n",
       "      <td>0.000000</td>\n",
       "    </tr>\n",
       "    <tr>\n",
       "      <th>106</th>\n",
       "      <td>(183.9, 184.562]</td>\n",
       "      <td>184.275000</td>\n",
       "      <td>0.000000</td>\n",
       "    </tr>\n",
       "    <tr>\n",
       "      <th>107</th>\n",
       "      <td>(184.562, 185.3]</td>\n",
       "      <td>185.005556</td>\n",
       "      <td>0.055556</td>\n",
       "    </tr>\n",
       "    <tr>\n",
       "      <th>108</th>\n",
       "      <td>(185.3, 186.194]</td>\n",
       "      <td>185.826667</td>\n",
       "      <td>0.066667</td>\n",
       "    </tr>\n",
       "    <tr>\n",
       "      <th>109</th>\n",
       "      <td>(186.194, 187.2]</td>\n",
       "      <td>186.777778</td>\n",
       "      <td>0.055556</td>\n",
       "    </tr>\n",
       "    <tr>\n",
       "      <th>110</th>\n",
       "      <td>(187.2, 187.826]</td>\n",
       "      <td>187.562500</td>\n",
       "      <td>0.125000</td>\n",
       "    </tr>\n",
       "    <tr>\n",
       "      <th>111</th>\n",
       "      <td>(187.826, 189.192]</td>\n",
       "      <td>188.556250</td>\n",
       "      <td>0.125000</td>\n",
       "    </tr>\n",
       "    <tr>\n",
       "      <th>112</th>\n",
       "      <td>(189.192, 189.7]</td>\n",
       "      <td>189.455556</td>\n",
       "      <td>0.055556</td>\n",
       "    </tr>\n",
       "    <tr>\n",
       "      <th>113</th>\n",
       "      <td>(189.7, 190.3]</td>\n",
       "      <td>190.065000</td>\n",
       "      <td>0.050000</td>\n",
       "    </tr>\n",
       "    <tr>\n",
       "      <th>114</th>\n",
       "      <td>(190.3, 190.69]</td>\n",
       "      <td>190.500000</td>\n",
       "      <td>0.083333</td>\n",
       "    </tr>\n",
       "    <tr>\n",
       "      <th>115</th>\n",
       "      <td>(190.69, 191.4]</td>\n",
       "      <td>191.109524</td>\n",
       "      <td>0.000000</td>\n",
       "    </tr>\n",
       "    <tr>\n",
       "      <th>116</th>\n",
       "      <td>(191.4, 192.022]</td>\n",
       "      <td>191.830769</td>\n",
       "      <td>0.153846</td>\n",
       "    </tr>\n",
       "    <tr>\n",
       "      <th>117</th>\n",
       "      <td>(192.022, 192.8]</td>\n",
       "      <td>192.427778</td>\n",
       "      <td>0.000000</td>\n",
       "    </tr>\n",
       "    <tr>\n",
       "      <th>118</th>\n",
       "      <td>(192.8, 193.4]</td>\n",
       "      <td>193.187500</td>\n",
       "      <td>0.062500</td>\n",
       "    </tr>\n",
       "    <tr>\n",
       "      <th>119</th>\n",
       "      <td>(193.4, 194.0]</td>\n",
       "      <td>193.764706</td>\n",
       "      <td>0.000000</td>\n",
       "    </tr>\n",
       "    <tr>\n",
       "      <th>120</th>\n",
       "      <td>(194.0, 194.5]</td>\n",
       "      <td>194.306250</td>\n",
       "      <td>0.062500</td>\n",
       "    </tr>\n",
       "    <tr>\n",
       "      <th>121</th>\n",
       "      <td>(194.5, 195.4]</td>\n",
       "      <td>195.000000</td>\n",
       "      <td>0.000000</td>\n",
       "    </tr>\n",
       "    <tr>\n",
       "      <th>122</th>\n",
       "      <td>(195.4, 196.1]</td>\n",
       "      <td>195.881250</td>\n",
       "      <td>0.125000</td>\n",
       "    </tr>\n",
       "    <tr>\n",
       "      <th>123</th>\n",
       "      <td>(196.1, 196.8]</td>\n",
       "      <td>196.550000</td>\n",
       "      <td>0.125000</td>\n",
       "    </tr>\n",
       "    <tr>\n",
       "      <th>124</th>\n",
       "      <td>(196.8, 197.25]</td>\n",
       "      <td>197.093750</td>\n",
       "      <td>0.000000</td>\n",
       "    </tr>\n",
       "    <tr>\n",
       "      <th>125</th>\n",
       "      <td>(197.25, 197.9]</td>\n",
       "      <td>197.631579</td>\n",
       "      <td>0.105263</td>\n",
       "    </tr>\n",
       "    <tr>\n",
       "      <th>126</th>\n",
       "      <td>(197.9, 198.4]</td>\n",
       "      <td>198.268750</td>\n",
       "      <td>0.062500</td>\n",
       "    </tr>\n",
       "    <tr>\n",
       "      <th>127</th>\n",
       "      <td>(198.4, 199.148]</td>\n",
       "      <td>198.740000</td>\n",
       "      <td>0.133333</td>\n",
       "    </tr>\n",
       "    <tr>\n",
       "      <th>128</th>\n",
       "      <td>(199.148, 200.2]</td>\n",
       "      <td>199.652632</td>\n",
       "      <td>0.105263</td>\n",
       "    </tr>\n",
       "    <tr>\n",
       "      <th>129</th>\n",
       "      <td>(200.2, 201.1]</td>\n",
       "      <td>200.553333</td>\n",
       "      <td>0.000000</td>\n",
       "    </tr>\n",
       "    <tr>\n",
       "      <th>130</th>\n",
       "      <td>(201.1, 201.9]</td>\n",
       "      <td>201.555556</td>\n",
       "      <td>0.111111</td>\n",
       "    </tr>\n",
       "    <tr>\n",
       "      <th>131</th>\n",
       "      <td>(201.9, 202.812]</td>\n",
       "      <td>202.333333</td>\n",
       "      <td>0.066667</td>\n",
       "    </tr>\n",
       "    <tr>\n",
       "      <th>132</th>\n",
       "      <td>(202.812, 203.478]</td>\n",
       "      <td>203.231250</td>\n",
       "      <td>0.062500</td>\n",
       "    </tr>\n",
       "    <tr>\n",
       "      <th>133</th>\n",
       "      <td>(203.478, 204.244]</td>\n",
       "      <td>203.841176</td>\n",
       "      <td>0.117647</td>\n",
       "    </tr>\n",
       "    <tr>\n",
       "      <th>134</th>\n",
       "      <td>(204.244, 204.91]</td>\n",
       "      <td>204.564706</td>\n",
       "      <td>0.000000</td>\n",
       "    </tr>\n",
       "    <tr>\n",
       "      <th>135</th>\n",
       "      <td>(204.91, 205.7]</td>\n",
       "      <td>205.316667</td>\n",
       "      <td>0.000000</td>\n",
       "    </tr>\n",
       "    <tr>\n",
       "      <th>136</th>\n",
       "      <td>(205.7, 206.3]</td>\n",
       "      <td>206.137500</td>\n",
       "      <td>0.062500</td>\n",
       "    </tr>\n",
       "    <tr>\n",
       "      <th>137</th>\n",
       "      <td>(206.3, 207.008]</td>\n",
       "      <td>206.800000</td>\n",
       "      <td>0.000000</td>\n",
       "    </tr>\n",
       "    <tr>\n",
       "      <th>138</th>\n",
       "      <td>(207.008, 207.7]</td>\n",
       "      <td>207.472222</td>\n",
       "      <td>0.000000</td>\n",
       "    </tr>\n",
       "    <tr>\n",
       "      <th>139</th>\n",
       "      <td>(207.7, 208.74]</td>\n",
       "      <td>208.180000</td>\n",
       "      <td>0.000000</td>\n",
       "    </tr>\n",
       "    <tr>\n",
       "      <th>140</th>\n",
       "      <td>(208.74, 209.5]</td>\n",
       "      <td>209.155556</td>\n",
       "      <td>0.111111</td>\n",
       "    </tr>\n",
       "    <tr>\n",
       "      <th>141</th>\n",
       "      <td>(209.5, 210.272]</td>\n",
       "      <td>209.860000</td>\n",
       "      <td>0.000000</td>\n",
       "    </tr>\n",
       "    <tr>\n",
       "      <th>142</th>\n",
       "      <td>(210.272, 211.038]</td>\n",
       "      <td>210.623529</td>\n",
       "      <td>0.058824</td>\n",
       "    </tr>\n",
       "    <tr>\n",
       "      <th>143</th>\n",
       "      <td>(211.038, 211.8]</td>\n",
       "      <td>211.416667</td>\n",
       "      <td>0.111111</td>\n",
       "    </tr>\n",
       "    <tr>\n",
       "      <th>144</th>\n",
       "      <td>(211.8, 212.8]</td>\n",
       "      <td>212.268750</td>\n",
       "      <td>0.125000</td>\n",
       "    </tr>\n",
       "    <tr>\n",
       "      <th>145</th>\n",
       "      <td>(212.8, 213.8]</td>\n",
       "      <td>213.364706</td>\n",
       "      <td>0.058824</td>\n",
       "    </tr>\n",
       "    <tr>\n",
       "      <th>146</th>\n",
       "      <td>(213.8, 214.302]</td>\n",
       "      <td>214.118750</td>\n",
       "      <td>0.062500</td>\n",
       "    </tr>\n",
       "    <tr>\n",
       "      <th>147</th>\n",
       "      <td>(214.302, 215.1]</td>\n",
       "      <td>214.711765</td>\n",
       "      <td>0.000000</td>\n",
       "    </tr>\n",
       "    <tr>\n",
       "      <th>148</th>\n",
       "      <td>(215.1, 215.9]</td>\n",
       "      <td>215.635000</td>\n",
       "      <td>0.000000</td>\n",
       "    </tr>\n",
       "    <tr>\n",
       "      <th>149</th>\n",
       "      <td>(215.9, 216.4]</td>\n",
       "      <td>216.123077</td>\n",
       "      <td>0.153846</td>\n",
       "    </tr>\n",
       "    <tr>\n",
       "      <th>150</th>\n",
       "      <td>(216.4, 217.166]</td>\n",
       "      <td>216.875000</td>\n",
       "      <td>0.062500</td>\n",
       "    </tr>\n",
       "    <tr>\n",
       "      <th>151</th>\n",
       "      <td>(217.166, 218.064]</td>\n",
       "      <td>217.582353</td>\n",
       "      <td>0.235294</td>\n",
       "    </tr>\n",
       "    <tr>\n",
       "      <th>152</th>\n",
       "      <td>(218.064, 219.1]</td>\n",
       "      <td>218.664706</td>\n",
       "      <td>0.058824</td>\n",
       "    </tr>\n",
       "    <tr>\n",
       "      <th>153</th>\n",
       "      <td>(219.1, 220.064]</td>\n",
       "      <td>219.631250</td>\n",
       "      <td>0.000000</td>\n",
       "    </tr>\n",
       "    <tr>\n",
       "      <th>154</th>\n",
       "      <td>(220.064, 220.8]</td>\n",
       "      <td>220.463158</td>\n",
       "      <td>0.105263</td>\n",
       "    </tr>\n",
       "    <tr>\n",
       "      <th>155</th>\n",
       "      <td>(220.8, 221.3]</td>\n",
       "      <td>221.093333</td>\n",
       "      <td>0.066667</td>\n",
       "    </tr>\n",
       "    <tr>\n",
       "      <th>156</th>\n",
       "      <td>(221.3, 222.1]</td>\n",
       "      <td>221.752941</td>\n",
       "      <td>0.117647</td>\n",
       "    </tr>\n",
       "    <tr>\n",
       "      <th>157</th>\n",
       "      <td>(222.1, 222.8]</td>\n",
       "      <td>222.510526</td>\n",
       "      <td>0.105263</td>\n",
       "    </tr>\n",
       "    <tr>\n",
       "      <th>158</th>\n",
       "      <td>(222.8, 223.994]</td>\n",
       "      <td>223.315385</td>\n",
       "      <td>0.153846</td>\n",
       "    </tr>\n",
       "    <tr>\n",
       "      <th>159</th>\n",
       "      <td>(223.994, 224.76]</td>\n",
       "      <td>224.358824</td>\n",
       "      <td>0.117647</td>\n",
       "    </tr>\n",
       "    <tr>\n",
       "      <th>160</th>\n",
       "      <td>(224.76, 225.5]</td>\n",
       "      <td>225.116667</td>\n",
       "      <td>0.222222</td>\n",
       "    </tr>\n",
       "    <tr>\n",
       "      <th>161</th>\n",
       "      <td>(225.5, 226.684]</td>\n",
       "      <td>226.106667</td>\n",
       "      <td>0.466667</td>\n",
       "    </tr>\n",
       "    <tr>\n",
       "      <th>162</th>\n",
       "      <td>(226.684, 227.8]</td>\n",
       "      <td>227.272222</td>\n",
       "      <td>0.166667</td>\n",
       "    </tr>\n",
       "    <tr>\n",
       "      <th>163</th>\n",
       "      <td>(227.8, 229.448]</td>\n",
       "      <td>228.650000</td>\n",
       "      <td>0.250000</td>\n",
       "    </tr>\n",
       "    <tr>\n",
       "      <th>164</th>\n",
       "      <td>(229.448, 230.49]</td>\n",
       "      <td>230.000000</td>\n",
       "      <td>0.125000</td>\n",
       "    </tr>\n",
       "    <tr>\n",
       "      <th>165</th>\n",
       "      <td>(230.49, 231.3]</td>\n",
       "      <td>230.927778</td>\n",
       "      <td>0.111111</td>\n",
       "    </tr>\n",
       "    <tr>\n",
       "      <th>166</th>\n",
       "      <td>(231.3, 232.522]</td>\n",
       "      <td>232.100000</td>\n",
       "      <td>0.062500</td>\n",
       "    </tr>\n",
       "    <tr>\n",
       "      <th>167</th>\n",
       "      <td>(232.522, 234.1]</td>\n",
       "      <td>233.329412</td>\n",
       "      <td>0.117647</td>\n",
       "    </tr>\n",
       "    <tr>\n",
       "      <th>168</th>\n",
       "      <td>(234.1, 235.154]</td>\n",
       "      <td>234.643750</td>\n",
       "      <td>0.250000</td>\n",
       "    </tr>\n",
       "    <tr>\n",
       "      <th>169</th>\n",
       "      <td>(235.154, 236.3]</td>\n",
       "      <td>235.855556</td>\n",
       "      <td>0.111111</td>\n",
       "    </tr>\n",
       "    <tr>\n",
       "      <th>170</th>\n",
       "      <td>(236.3, 237.1]</td>\n",
       "      <td>236.758824</td>\n",
       "      <td>0.294118</td>\n",
       "    </tr>\n",
       "    <tr>\n",
       "      <th>171</th>\n",
       "      <td>(237.1, 238.052]</td>\n",
       "      <td>237.626667</td>\n",
       "      <td>0.333333</td>\n",
       "    </tr>\n",
       "    <tr>\n",
       "      <th>172</th>\n",
       "      <td>(238.052, 239.8]</td>\n",
       "      <td>239.280952</td>\n",
       "      <td>0.190476</td>\n",
       "    </tr>\n",
       "    <tr>\n",
       "      <th>173</th>\n",
       "      <td>(239.8, 240.384]</td>\n",
       "      <td>240.050000</td>\n",
       "      <td>0.166667</td>\n",
       "    </tr>\n",
       "    <tr>\n",
       "      <th>174</th>\n",
       "      <td>(240.384, 241.9]</td>\n",
       "      <td>241.266667</td>\n",
       "      <td>0.111111</td>\n",
       "    </tr>\n",
       "    <tr>\n",
       "      <th>175</th>\n",
       "      <td>(241.9, 243.0]</td>\n",
       "      <td>242.517647</td>\n",
       "      <td>0.294118</td>\n",
       "    </tr>\n",
       "    <tr>\n",
       "      <th>176</th>\n",
       "      <td>(243.0, 244.782]</td>\n",
       "      <td>243.753333</td>\n",
       "      <td>0.000000</td>\n",
       "    </tr>\n",
       "    <tr>\n",
       "      <th>177</th>\n",
       "      <td>(244.782, 245.748]</td>\n",
       "      <td>245.182353</td>\n",
       "      <td>0.294118</td>\n",
       "    </tr>\n",
       "    <tr>\n",
       "      <th>178</th>\n",
       "      <td>(245.748, 247.314]</td>\n",
       "      <td>246.541176</td>\n",
       "      <td>0.294118</td>\n",
       "    </tr>\n",
       "    <tr>\n",
       "      <th>179</th>\n",
       "      <td>(247.314, 249.58]</td>\n",
       "      <td>248.418750</td>\n",
       "      <td>0.250000</td>\n",
       "    </tr>\n",
       "    <tr>\n",
       "      <th>180</th>\n",
       "      <td>(249.58, 251.5]</td>\n",
       "      <td>250.611111</td>\n",
       "      <td>0.500000</td>\n",
       "    </tr>\n",
       "    <tr>\n",
       "      <th>181</th>\n",
       "      <td>(251.5, 253.0]</td>\n",
       "      <td>252.358824</td>\n",
       "      <td>0.117647</td>\n",
       "    </tr>\n",
       "    <tr>\n",
       "      <th>182</th>\n",
       "      <td>(253.0, 254.878]</td>\n",
       "      <td>253.926667</td>\n",
       "      <td>0.066667</td>\n",
       "    </tr>\n",
       "    <tr>\n",
       "      <th>183</th>\n",
       "      <td>(254.878, 256.932]</td>\n",
       "      <td>256.005882</td>\n",
       "      <td>0.294118</td>\n",
       "    </tr>\n",
       "    <tr>\n",
       "      <th>184</th>\n",
       "      <td>(256.932, 259.9]</td>\n",
       "      <td>258.550000</td>\n",
       "      <td>0.277778</td>\n",
       "    </tr>\n",
       "    <tr>\n",
       "      <th>185</th>\n",
       "      <td>(259.9, 261.628]</td>\n",
       "      <td>260.760000</td>\n",
       "      <td>0.333333</td>\n",
       "    </tr>\n",
       "    <tr>\n",
       "      <th>186</th>\n",
       "      <td>(261.628, 263.742]</td>\n",
       "      <td>262.594118</td>\n",
       "      <td>0.235294</td>\n",
       "    </tr>\n",
       "    <tr>\n",
       "      <th>187</th>\n",
       "      <td>(263.742, 265.908]</td>\n",
       "      <td>264.758824</td>\n",
       "      <td>0.411765</td>\n",
       "    </tr>\n",
       "    <tr>\n",
       "      <th>188</th>\n",
       "      <td>(265.908, 268.248]</td>\n",
       "      <td>266.975000</td>\n",
       "      <td>0.625000</td>\n",
       "    </tr>\n",
       "    <tr>\n",
       "      <th>189</th>\n",
       "      <td>(268.248, 270.74]</td>\n",
       "      <td>269.341176</td>\n",
       "      <td>0.588235</td>\n",
       "    </tr>\n",
       "    <tr>\n",
       "      <th>190</th>\n",
       "      <td>(270.74, 272.506]</td>\n",
       "      <td>271.576471</td>\n",
       "      <td>0.529412</td>\n",
       "    </tr>\n",
       "    <tr>\n",
       "      <th>191</th>\n",
       "      <td>(272.506, 274.672]</td>\n",
       "      <td>273.550000</td>\n",
       "      <td>0.500000</td>\n",
       "    </tr>\n",
       "    <tr>\n",
       "      <th>192</th>\n",
       "      <td>(274.672, 278.0]</td>\n",
       "      <td>276.594444</td>\n",
       "      <td>0.444444</td>\n",
       "    </tr>\n",
       "    <tr>\n",
       "      <th>193</th>\n",
       "      <td>(278.0, 281.204]</td>\n",
       "      <td>279.793750</td>\n",
       "      <td>0.437500</td>\n",
       "    </tr>\n",
       "    <tr>\n",
       "      <th>194</th>\n",
       "      <td>(281.204, 286.54]</td>\n",
       "      <td>283.887500</td>\n",
       "      <td>0.500000</td>\n",
       "    </tr>\n",
       "    <tr>\n",
       "      <th>195</th>\n",
       "      <td>(286.54, 290.016]</td>\n",
       "      <td>287.929412</td>\n",
       "      <td>0.647059</td>\n",
       "    </tr>\n",
       "    <tr>\n",
       "      <th>196</th>\n",
       "      <td>(290.016, 296.008]</td>\n",
       "      <td>293.494118</td>\n",
       "      <td>0.764706</td>\n",
       "    </tr>\n",
       "    <tr>\n",
       "      <th>197</th>\n",
       "      <td>(296.008, 305.168]</td>\n",
       "      <td>300.743750</td>\n",
       "      <td>0.687500</td>\n",
       "    </tr>\n",
       "    <tr>\n",
       "      <th>198</th>\n",
       "      <td>(305.168, 321.402]</td>\n",
       "      <td>312.405882</td>\n",
       "      <td>0.529412</td>\n",
       "    </tr>\n",
       "    <tr>\n",
       "      <th>199</th>\n",
       "      <td>(321.402, 350.8]</td>\n",
       "      <td>331.147059</td>\n",
       "      <td>1.000000</td>\n",
       "    </tr>\n",
       "  </tbody>\n",
       "</table>\n",
       "</div>"
      ],
      "text/plain": [
       "              min_group  group_mean     churn\n",
       "0      (-0.001, 38.922]   20.300000  0.058824\n",
       "1      (38.922, 51.832]   46.735294  0.176471\n",
       "2      (51.832, 58.898]   55.906250  0.125000\n",
       "3      (58.898, 63.092]   61.282353  0.235294\n",
       "4       (63.092, 70.83]   67.729412  0.117647\n",
       "5       (70.83, 76.088]   73.012500  0.062500\n",
       "6      (76.088, 81.662]   79.123529  0.058824\n",
       "7       (81.662, 84.34]   82.888235  0.176471\n",
       "8       (84.34, 87.188]   85.850000  0.062500\n",
       "9       (87.188, 89.92]   88.635294  0.235294\n",
       "10      (89.92, 92.626]   91.447059  0.117647\n",
       "11     (92.626, 94.992]   93.843750  0.000000\n",
       "12     (94.992, 97.158]   96.135294  0.176471\n",
       "13     (97.158, 99.424]   98.064706  0.000000\n",
       "14     (99.424, 101.99]  100.656250  0.062500\n",
       "15    (101.99, 103.456]  102.811765  0.058824\n",
       "16   (103.456, 105.444]  104.588235  0.117647\n",
       "17   (105.444, 107.288]  106.306250  0.125000\n",
       "18   (107.288, 109.154]  108.347059  0.176471\n",
       "19    (109.154, 110.32]  109.735294  0.058824\n",
       "20    (110.32, 111.886]  111.043750  0.125000\n",
       "21     (111.886, 113.2]  112.633333  0.333333\n",
       "22     (113.2, 114.836]  114.162500  0.062500\n",
       "23   (114.836, 115.684]  115.362500  0.187500\n",
       "24     (115.684, 117.3]  116.533333  0.000000\n",
       "25     (117.3, 118.416]  117.937500  0.125000\n",
       "26   (118.416, 119.564]  119.012500  0.062500\n",
       "27   (119.564, 121.548]  120.700000  0.117647\n",
       "28     (121.548, 123.1]  122.377778  0.277778\n",
       "29       (123.1, 124.3]  123.947059  0.117647\n",
       "30       (124.3, 125.2]  124.829412  0.058824\n",
       "31       (125.2, 126.3]  125.800000  0.166667\n",
       "32     (126.3, 127.378]  127.007692  0.153846\n",
       "33   (127.378, 128.644]  128.135294  0.117647\n",
       "34    (128.644, 129.41]  129.000000  0.176471\n",
       "35      (129.41, 130.5]  129.941176  0.176471\n",
       "36       (130.5, 131.7]  131.258824  0.352941\n",
       "37     (131.7, 133.008]  132.225000  0.125000\n",
       "38   (133.008, 133.874]  133.412500  0.187500\n",
       "39    (133.874, 134.74]  134.323529  0.117647\n",
       "40      (134.74, 135.8]  135.227778  0.111111\n",
       "41       (135.8, 136.8]  136.300000  0.187500\n",
       "42       (136.8, 137.8]  137.427778  0.055556\n",
       "43     (137.8, 138.804]  138.366667  0.133333\n",
       "44     (138.804, 139.6]  139.282353  0.058824\n",
       "45     (139.6, 140.736]  140.187500  0.062500\n",
       "46   (140.736, 141.402]  141.217647  0.000000\n",
       "47     (141.402, 142.3]  141.988889  0.000000\n",
       "48       (142.3, 143.2]  142.821053  0.157895\n",
       "49       (143.2, 143.7]  143.506250  0.062500\n",
       "50     (143.7, 144.466]  144.100000  0.000000\n",
       "51     (144.466, 145.4]  144.916667  0.166667\n",
       "52     (145.4, 146.198]  145.753333  0.066667\n",
       "53   (146.198, 146.664]  146.394118  0.000000\n",
       "54     (146.664, 147.2]  146.963158  0.157895\n",
       "55       (147.2, 148.2]  147.933333  0.133333\n",
       "56       (148.2, 149.0]  148.647059  0.117647\n",
       "57       (149.0, 149.7]  149.435294  0.117647\n",
       "58     (149.7, 150.394]  149.993333  0.066667\n",
       "59     (150.394, 151.1]  150.777778  0.111111\n",
       "60       (151.1, 152.1]  151.705882  0.058824\n",
       "61       (152.1, 153.1]  152.662500  0.125000\n",
       "62     (153.1, 153.658]  153.443750  0.125000\n",
       "63     (153.658, 154.1]  153.942105  0.105263\n",
       "64       (154.1, 154.6]  154.423529  0.176471\n",
       "65       (154.6, 155.2]  154.994118  0.117647\n",
       "66     (155.2, 155.922]  155.564286  0.000000\n",
       "67     (155.922, 156.6]  156.331579  0.105263\n",
       "68       (156.6, 157.3]  157.073333  0.066667\n",
       "69      (157.3, 157.92]  157.656250  0.375000\n",
       "70      (157.92, 158.8]  158.470588  0.058824\n",
       "71       (158.8, 159.5]  159.285000  0.150000\n",
       "72       (159.5, 160.0]  159.840000  0.200000\n",
       "73     (160.0, 160.484]  160.242857  0.000000\n",
       "74    (160.484, 161.35]  160.941176  0.058824\n",
       "75      (161.35, 162.1]  161.768421  0.105263\n",
       "76       (162.1, 162.8]  162.493333  0.266667\n",
       "77       (162.8, 163.8]  163.405556  0.055556\n",
       "78       (163.8, 165.0]  164.588889  0.055556\n",
       "79      (165.0, 165.68]  165.400000  0.153846\n",
       "80    (165.68, 166.346]  166.011765  0.058824\n",
       "81   (166.346, 166.924]  166.647059  0.117647\n",
       "82   (166.924, 167.678]  167.400000  0.250000\n",
       "83   (167.678, 168.344]  167.958824  0.294118\n",
       "84     (168.344, 169.2]  168.768421  0.105263\n",
       "85       (169.2, 169.6]  169.433333  0.000000\n",
       "86     (169.6, 170.442]  170.006250  0.125000\n",
       "87     (170.442, 171.2]  170.804762  0.047619\n",
       "88       (171.2, 172.0]  171.707692  0.076923\n",
       "89       (172.0, 172.9]  172.535294  0.235294\n",
       "90       (172.9, 173.9]  173.341176  0.058824\n",
       "91     (173.9, 174.472]  174.200000  0.200000\n",
       "92   (174.472, 174.976]  174.623529  0.117647\n",
       "93     (174.976, 175.5]  175.340000  0.000000\n",
       "94       (175.5, 175.9]  175.760000  0.066667\n",
       "95     (175.9, 176.636]  176.280000  0.000000\n",
       "96   (176.636, 177.202]  177.017647  0.117647\n",
       "97   (177.202, 178.268]  177.781250  0.062500\n",
       "98   (178.268, 178.834]  178.576471  0.000000\n",
       "99     (178.834, 179.4]  179.247368  0.105263\n",
       "100    (179.4, 180.266]  179.871429  0.142857\n",
       "101  (180.266, 181.232]  180.700000  0.117647\n",
       "102    (181.232, 181.8]  181.558824  0.000000\n",
       "103    (181.8, 182.764]  182.256250  0.062500\n",
       "104    (182.764, 183.4]  183.186364  0.000000\n",
       "105      (183.4, 183.9]  183.708333  0.000000\n",
       "106    (183.9, 184.562]  184.275000  0.000000\n",
       "107    (184.562, 185.3]  185.005556  0.055556\n",
       "108    (185.3, 186.194]  185.826667  0.066667\n",
       "109    (186.194, 187.2]  186.777778  0.055556\n",
       "110    (187.2, 187.826]  187.562500  0.125000\n",
       "111  (187.826, 189.192]  188.556250  0.125000\n",
       "112    (189.192, 189.7]  189.455556  0.055556\n",
       "113      (189.7, 190.3]  190.065000  0.050000\n",
       "114     (190.3, 190.69]  190.500000  0.083333\n",
       "115     (190.69, 191.4]  191.109524  0.000000\n",
       "116    (191.4, 192.022]  191.830769  0.153846\n",
       "117    (192.022, 192.8]  192.427778  0.000000\n",
       "118      (192.8, 193.4]  193.187500  0.062500\n",
       "119      (193.4, 194.0]  193.764706  0.000000\n",
       "120      (194.0, 194.5]  194.306250  0.062500\n",
       "121      (194.5, 195.4]  195.000000  0.000000\n",
       "122      (195.4, 196.1]  195.881250  0.125000\n",
       "123      (196.1, 196.8]  196.550000  0.125000\n",
       "124     (196.8, 197.25]  197.093750  0.000000\n",
       "125     (197.25, 197.9]  197.631579  0.105263\n",
       "126      (197.9, 198.4]  198.268750  0.062500\n",
       "127    (198.4, 199.148]  198.740000  0.133333\n",
       "128    (199.148, 200.2]  199.652632  0.105263\n",
       "129      (200.2, 201.1]  200.553333  0.000000\n",
       "130      (201.1, 201.9]  201.555556  0.111111\n",
       "131    (201.9, 202.812]  202.333333  0.066667\n",
       "132  (202.812, 203.478]  203.231250  0.062500\n",
       "133  (203.478, 204.244]  203.841176  0.117647\n",
       "134   (204.244, 204.91]  204.564706  0.000000\n",
       "135     (204.91, 205.7]  205.316667  0.000000\n",
       "136      (205.7, 206.3]  206.137500  0.062500\n",
       "137    (206.3, 207.008]  206.800000  0.000000\n",
       "138    (207.008, 207.7]  207.472222  0.000000\n",
       "139     (207.7, 208.74]  208.180000  0.000000\n",
       "140     (208.74, 209.5]  209.155556  0.111111\n",
       "141    (209.5, 210.272]  209.860000  0.000000\n",
       "142  (210.272, 211.038]  210.623529  0.058824\n",
       "143    (211.038, 211.8]  211.416667  0.111111\n",
       "144      (211.8, 212.8]  212.268750  0.125000\n",
       "145      (212.8, 213.8]  213.364706  0.058824\n",
       "146    (213.8, 214.302]  214.118750  0.062500\n",
       "147    (214.302, 215.1]  214.711765  0.000000\n",
       "148      (215.1, 215.9]  215.635000  0.000000\n",
       "149      (215.9, 216.4]  216.123077  0.153846\n",
       "150    (216.4, 217.166]  216.875000  0.062500\n",
       "151  (217.166, 218.064]  217.582353  0.235294\n",
       "152    (218.064, 219.1]  218.664706  0.058824\n",
       "153    (219.1, 220.064]  219.631250  0.000000\n",
       "154    (220.064, 220.8]  220.463158  0.105263\n",
       "155      (220.8, 221.3]  221.093333  0.066667\n",
       "156      (221.3, 222.1]  221.752941  0.117647\n",
       "157      (222.1, 222.8]  222.510526  0.105263\n",
       "158    (222.8, 223.994]  223.315385  0.153846\n",
       "159   (223.994, 224.76]  224.358824  0.117647\n",
       "160     (224.76, 225.5]  225.116667  0.222222\n",
       "161    (225.5, 226.684]  226.106667  0.466667\n",
       "162    (226.684, 227.8]  227.272222  0.166667\n",
       "163    (227.8, 229.448]  228.650000  0.250000\n",
       "164   (229.448, 230.49]  230.000000  0.125000\n",
       "165     (230.49, 231.3]  230.927778  0.111111\n",
       "166    (231.3, 232.522]  232.100000  0.062500\n",
       "167    (232.522, 234.1]  233.329412  0.117647\n",
       "168    (234.1, 235.154]  234.643750  0.250000\n",
       "169    (235.154, 236.3]  235.855556  0.111111\n",
       "170      (236.3, 237.1]  236.758824  0.294118\n",
       "171    (237.1, 238.052]  237.626667  0.333333\n",
       "172    (238.052, 239.8]  239.280952  0.190476\n",
       "173    (239.8, 240.384]  240.050000  0.166667\n",
       "174    (240.384, 241.9]  241.266667  0.111111\n",
       "175      (241.9, 243.0]  242.517647  0.294118\n",
       "176    (243.0, 244.782]  243.753333  0.000000\n",
       "177  (244.782, 245.748]  245.182353  0.294118\n",
       "178  (245.748, 247.314]  246.541176  0.294118\n",
       "179   (247.314, 249.58]  248.418750  0.250000\n",
       "180     (249.58, 251.5]  250.611111  0.500000\n",
       "181      (251.5, 253.0]  252.358824  0.117647\n",
       "182    (253.0, 254.878]  253.926667  0.066667\n",
       "183  (254.878, 256.932]  256.005882  0.294118\n",
       "184    (256.932, 259.9]  258.550000  0.277778\n",
       "185    (259.9, 261.628]  260.760000  0.333333\n",
       "186  (261.628, 263.742]  262.594118  0.235294\n",
       "187  (263.742, 265.908]  264.758824  0.411765\n",
       "188  (265.908, 268.248]  266.975000  0.625000\n",
       "189   (268.248, 270.74]  269.341176  0.588235\n",
       "190   (270.74, 272.506]  271.576471  0.529412\n",
       "191  (272.506, 274.672]  273.550000  0.500000\n",
       "192    (274.672, 278.0]  276.594444  0.444444\n",
       "193    (278.0, 281.204]  279.793750  0.437500\n",
       "194   (281.204, 286.54]  283.887500  0.500000\n",
       "195   (286.54, 290.016]  287.929412  0.647059\n",
       "196  (290.016, 296.008]  293.494118  0.764706\n",
       "197  (296.008, 305.168]  300.743750  0.687500\n",
       "198  (305.168, 321.402]  312.405882  0.529412\n",
       "199    (321.402, 350.8]  331.147059  1.000000"
      ]
     },
     "execution_count": 80,
     "metadata": {},
     "output_type": "execute_result"
    }
   ],
   "source": [
    "min_df=analysis_df.copy()\n",
    "min_df = min_df[['total_day_minutes', 'churn']]\n",
    "min_df['min_group'] = pd.qcut(min_df['total_day_minutes'], 200)\n",
    "min_df = min_df.groupby('min_group').mean()\n",
    "min_df = min_df.rename(columns={\"total_day_minutes\": \"group_mean\"})\n",
    "min_df = min_df.reset_index()\n",
    "min_df\n"
   ]
  },
  {
   "cell_type": "code",
   "execution_count": 81,
   "metadata": {
    "ExecuteTime": {
     "end_time": "2022-03-02T20:20:51.070910Z",
     "start_time": "2022-03-02T20:20:51.068086Z"
    }
   },
   "outputs": [
    {
     "data": {
      "text/plain": [
       "179.77509750975094"
      ]
     },
     "execution_count": 81,
     "metadata": {},
     "output_type": "execute_result"
    }
   ],
   "source": [
    "df.total_day_minutes.mean()"
   ]
  },
  {
   "cell_type": "code",
   "execution_count": 82,
   "metadata": {
    "ExecuteTime": {
     "end_time": "2022-03-02T20:20:51.186515Z",
     "start_time": "2022-03-02T20:20:51.072456Z"
    }
   },
   "outputs": [
    {
     "data": {
      "image/png": "[encoded data removed]",
      "text/plain": [
       "<Figure size 720x720 with 1 Axes>"
      ]
     },
     "metadata": {},
     "output_type": "display_data"
    }
   ],
   "source": [
    "import matplotlib.ticker as mtick\n",
    "\n",
    "fig, ax = plt.subplots(figsize=(10,10))\n",
    "p= sns.scatterplot(x=\"group_mean\", y=\"churn\", data=min_df);\n",
    "\n",
    "p.set_xlabel(\"Avg Daytime Minutes Used\", fontsize = 15)\n",
    "p.set_ylabel(\"Churn Rate\", fontsize = 15)\n",
    "ax.yaxis.set_major_formatter(mtick.PercentFormatter(xmax=1, decimals=None, symbol='%', is_latex=False))\n",
    "#p.xaxis.set_major_formatter(display_millions)\n",
    "\n",
    "p.set_title(\"Churn Rate by Total Day Minutes\", fontsize = 20)\n",
    "plt.figsize=(30,20) \n",
    "\n",
    "line_1 = plt.axhline(y=.145, color='firebrick')\n",
    "#line_2 = plt.axhline(y=.25, color='black')\n",
    "#line_3 = plt.axvline(x=225, color='blue')\n",
    "\n",
    "line_4 = plt.axvline(x=179.78, linestyle='--', color='mediumseagreen')\n",
    "\n",
    "\n",
    "ax.legend([line_1, line_4], ['Regular Churn Line', 'Mean Bill Charge'])\n",
    "#plt.savefig('images/project_1_scatter_1')\n",
    "\n",
    "\n",
    "plt.show();"
   ]
  },
  {
   "cell_type": "markdown",
   "metadata": {},
   "source": [
    "### Analysis:\n",
    "- FYI: Grouped into 200 groups of 20 or so records.\n",
    "- Mean for Total Day Minutes is 179.77.\n",
    "- Churn Rate (mostly) remains under the churn line until reaching 225 minutes.\n",
    "- If you add an extra 10% to churn line, all of the groups (with one exception) remain under the churn line until reaching 225 minutes.\n",
    "- At 225 minutes, the churn rate greatly increases."
   ]
  }
 ],
 "metadata": {
  "kernelspec": {
   "display_name": "Python (learn-env)",
   "language": "python",
   "name": "learn-env"
  },
  "language_info": {
   "codemirror_mode": {
    "name": "ipython",
    "version": 3
   },
   "file_extension": ".py",
   "mimetype": "text/x-python",
   "name": "python",
   "nbconvert_exporter": "python",
   "pygments_lexer": "ipython3",
   "version": "3.8.5"
  },
  "toc": {
   "base_numbering": 1,
   "nav_menu": {},
   "number_sections": true,
   "sideBar": true,
   "skip_h1_title": false,
   "title_cell": "Table of Contents",
   "title_sidebar": "Contents",
   "toc_cell": false,
   "toc_position": {
    "height": "calc(100% - 180px)",
    "left": "10px",
    "top": "150px",
    "width": "288px"
   },
   "toc_section_display": true,
   "toc_window_display": true
  },
  "varInspector": {
   "cols": {
    "lenName": 16,
    "lenType": 16,
    "lenVar": 40
   },
   "kernels_config": {
    "python": {
     "delete_cmd_postfix": "",
     "delete_cmd_prefix": "del ",
     "library": "var_list.py",
     "varRefreshCmd": "print(var_dic_list())"
    },
    "r": {
     "delete_cmd_postfix": ") ",
     "delete_cmd_prefix": "rm(",
     "library": "var_list.r",
     "varRefreshCmd": "cat(var_dic_list()) "
    }
   },
   "types_to_exclude": [
    "module",
    "function",
    "builtin_function_or_method",
    "instance",
    "_Feature"
   ],
   "window_display": false
  }
 },
 "nbformat": 4,
 "nbformat_minor": 4
}
